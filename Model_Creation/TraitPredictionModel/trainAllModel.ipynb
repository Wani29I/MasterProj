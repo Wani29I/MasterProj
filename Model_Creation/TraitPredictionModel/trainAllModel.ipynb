{
 "cells": [
  {
   "cell_type": "code",
   "execution_count": null,
   "metadata": {},
   "outputs": [],
   "source": [
    "import os\n",
    "import sys\n",
    "# Get current working directory instead of __file__\n",
    "sys.path.append(os.path.abspath(os.path.join(os.getcwd(), \"..\")))\n",
    "from ModelArchitecture.ConvNeXtTinyModel import ConvNeXtTinyWheatModelWithConfidence\n",
    "from ModelArchitecture.DenseNetModel import DenseNet121WheatModel\n",
    "from ModelArchitecture.EfficientNetV2Model import EfficientNetV2SWheatCountWithConfidence\n",
    "from ModelArchitecture.RepVGGA1Model import RepVGGA1WheatModelWithConfidence\n",
    "from ModelArchitecture.EfficientNetV2MModel import EfficientNetV2MWheatModelWithConfidence\n",
    "from ModelArchitecture.RepVGGB1g4Model import RepVGGB1g4Model\n",
    "from ModelArchitecture.RegNetY8GFModel import RegNetY8GFModel\n",
    "from ModelArchitecture.MobileViTV2Model import MobileViTV2WheatModel\n",
    "from ModelArchitecture.MobileViTV2AddoneextrainputModel import MobileViTV2ConfidenceAddoneextrainput\n",
    "from ModelArchitecture.ConvNeXtTinyAddoneextrainputModel import ConvNeXtTinyConfidenceAddoneextrainput\n",
    "from ModelArchitecture.EfficientNetV2SAddextrainputModel import EfficientNetV2SConfidenceAddoneextrainput, EfficientNetV2SConfidenceAdd2Inputs\n",
    "from ModelArchitecture.DenseNetAddextrainputModel import DenseNetConfidenceAddoneextrainput, DenseNetConfidenceAdd2Inputs\n",
    "from ModelArchitecture.RepVGGA1AddextrainputModel import RepVGGA1ConfidenceAddoneextrainput, RepVGGA1ConfidenceAdd2Inputs\n",
    "from ModelArchitecture.EfficientNetV2MAddextrainputModel import EfficientNetV2MConfidenceAddeonextrainput, EfficientNetV2MConfidenceAdd2Inputs\n",
    "from ModelArchitecture.RegNetY8GFAddextrainputModel import RegNetY8GFConfidenceAddoneextrainput, RegNetYConfidenceAdd2Inputs\n",
    "from modelFunc import setAndTrainModel, setAndTrainModel_addextrainput"
   ]
  },
  {
   "cell_type": "code",
   "execution_count": null,
   "metadata": {},
   "outputs": [],
   "source": [
    "# setAndTrainModel(\"./WheatEarCount/DataKey_RGB_DSM_totEarNum.csv\", \"totWheatEars\", EfficientNetV2SWheatCountWithConfidence, \"./WheatEarCount/ResultModelWheatEarCount\")\n",
    "# setAndTrainModel(\"./WheatEarCount/DataKey_RGB_DSM_totEarNum.csv\", \"totWheatEars\", ConvNeXtTinyWheatModelWithConfidence, \"./WheatEarCount/ResultModelWheatEarCount\")\n",
    "# setAndTrainModel(\"./WheatEarCount/DataKey_RGB_DSM_totEarNum.csv\", \"totWheatEars\", RepVGGA1WheatModelWithConfidence, \"./WheatEarCount/ResultModelWheatEarCount\")\n",
    "# setAndTrainModel(\"./WheatEarCount/DataKey_RGB_DSM_totEarNum.csv\", \"totWheatEars\", DenseNet121WheatModel, \"./WheatEarCount/ResultModelWheatEarCount\")\n",
    "# setAndTrainModel(\"./SPAD/DataKey_RGB_DSM_SPAD.csv\", \"SPAD\", EfficientNetV2SWheatCountWithConfidence, \"./SPAD/ResultModelSPAD\")\n",
    "# setAndTrainModel(\"./SPAD/DataKey_RGB_DSM_SPAD.csv\", \"SPAD\", ConvNeXtTinyWheatModelWithConfidence, \"./SPAD/ResultModelSPAD\")\n",
    "# setAndTrainModel(\"./SPAD/DataKey_RGB_DSM_SPAD.csv\", \"SPAD\", RepVGGA1WheatModelWithConfidence, \"./SPAD/ResultModelSPAD\")\n",
    "# setAndTrainModel(\"./SPAD/DataKey_RGB_DSM_SPAD.csv\", \"SPAD\", DenseNet121WheatModel, \"./SPAD/ResultModelSPAD\")\n",
    "# setAndTrainModel(\"./LAI/DataKey_RGB_DSM_LAI.csv\", \"LAI\", EfficientNetV2SWheatCountWithConfidence, \"./LAI/ResultModelLAI\")\n",
    "# setAndTrainModel(\"./LAI/DataKey_RGB_DSM_LAI.csv\", \"LAI\", ConvNeXtTinyWheatModelWithConfidence, \"./LAI/ResultModelLAI\")\n",
    "# setAndTrainModel(\"./LAI/DataKey_RGB_DSM_LAI.csv\", \"LAI\", RepVGGA1WheatModelWithConfidence, \"./LAI/ResultModelLAI\")\n",
    "# setAndTrainModel(\"./LAI/DataKey_RGB_DSM_LAI.csv\", \"LAI\", DenseNet121WheatModel, \"./LAI/ResultModelLAI\")\n",
    "# setAndTrainModel(\"./EarWeight/DataKey_RGB_DSM_totEarWeight.csv\", \"totEarWeight\", EfficientNetV2SWheatCountWithConfidence, \"./EarWeight/ResultModelEarWeight\")\n",
    "# setAndTrainModel(\"./EarWeight/DataKey_RGB_DSM_totEarWeight.csv\", \"totEarWeight\", ConvNeXtTinyWheatModelWithConfidence, \"./EarWeight/ResultModelEarWeight\")\n",
    "# setAndTrainModel(\"./EarWeight/DataKey_RGB_DSM_totEarWeight.csv\", \"totEarWeight\", RepVGGA1WheatModelWithConfidence, \"./EarWeight/ResultModelEarWeight\")\n",
    "# setAndTrainModel(\"./EarWeight/DataKey_RGB_DSM_totEarWeight.csv\", \"totEarWeight\", DenseNet121WheatModel, \"./EarWeight/ResultModelEarWeight\")\n",
    "# setAndTrainModel(\"./AverageEarSize/DataKey_RGB_DSM_avgEarSize.csv\", \"avgEarSize\", EfficientNetV2SWheatCountWithConfidence, \"./AverageEarSize/ResultModelAverageEarSize\")\n",
    "# setAndTrainModel(\"./AverageEarSize/DataKey_RGB_DSM_avgEarSize.csv\", \"avgEarSize\", ConvNeXtTinyWheatModelWithConfidence, \"./AverageEarSize/ResultModelAverageEarSize\")\n",
    "# setAndTrainModel(\"./AverageEarSize/DataKey_RGB_DSM_avgEarSize.csv\", \"avgEarSize\", RepVGGA1WheatModelWithConfidence, \"./AverageEarSize/ResultModelAverageEarSize\")\n",
    "# setAndTrainModel(\"./AverageEarSize/DataKey_RGB_DSM_avgEarSize.csv\", \"avgEarSize\", DenseNet121WheatModel, \"./AverageEarSize/ResultModelAverageEarSize\")\n",
    "# setAndTrainModel_addextrainput(\"./WheatEarCount/DataKey_RGB_DSM_totEarWeight_totEarNum.csv\", \"totEarWeight\", \"totWheatEars\", EfficientNetV2SConfidenceAddoneextrainput, \"./WheatEarCount/ResultModelWheatEarCount\")\n",
    "# setAndTrainModel_addextrainput(\"./WheatEarCount/DataKey_RGB_DSM_totEarWeight_totEarNum.csv\", \"totEarWeight\", \"totWheatEars\", DenseNetConfidenceAddoneextrainput, \"./WheatEarCount/ResultModelWheatEarCount\")\n",
    "# setAndTrainModel_addextrainput(\"./WheatEarCount/DataKey_RGB_DSM_totEarWeight_totEarNum.csv\", \"totEarWeight\", \"totWheatEars\", RepVGGA1ConfidenceAddoneextrainput, \"./WheatEarCount/ResultModelWheatEarCount\")\n",
    "# setAndTrainModel_addextrainput(\"./WheatEarCount/DataKey_RGB_DSM_totEarWeight_totEarNum.csv\", \"totEarWeight\", \"totWheatEars\", EfficientNetV2MConfidenceAddeonextrainput, \"./WheatEarCount/ResultModelWheatEarCount\")\n",
    "# setAndTrainModel(\"./WheatEarCount/DataKey_RGB_DSM_totEarNum.csv\", \"totWheatEars\", EfficientNetV2MWheatModelWithConfidence, \"./WheatEarCount/ResultModelWheatEarCount\")\n",
    "# setAndTrainModel(\"./WheatEarCount/DataKey_RGB_DSM_totEarNum.csv\", \"totWheatEars\", RepVGGB1g4Model, \"./WheatEarCount/ResultModelWheatEarCount\")\n",
    "# setAndTrainModel(\"./WheatEarCount/DataKey_RGB_DSM_totEarNum.csv\", \"totWheatEars\", RegNetY8GFModel, \"./WheatEarCount/ResultModelWheatEarCount\")\n",
    "# setAndTrainModel_addextrainput(\"./SPAD/DataKey_RGB_DSM_SPAD_time.csv\", \"time\", \"SPAD\", EfficientNetV2SConfidenceAddoneextrainput, \"./SPAD/ResultModelSPAD\")\n",
    "# setAndTrainModel_addextrainput(\"./SPAD/DataKey_RGB_DSM_SPAD_time.csv\", \"time\", \"SPAD\", DenseNetConfidenceAddoneextrainput, \"./SPAD/ResultModelSPAD\")\n",
    "# setAndTrainModel_addextrainput(\"./SPAD/DataKey_RGB_DSM_SPAD_time.csv\", \"time\", \"SPAD\", RepVGGA1ConfidenceAddoneextrainput, \"./SPAD/ResultModelSPAD\")\n",
    "# setAndTrainModel_addextrainput(\"./SPAD/DataKey_RGB_DSM_SPAD_time.csv\", \"time\", \"SPAD\", EfficientNetV2MConfidenceAddeonextrainput, \"./SPAD/ResultModelSPAD\")\n",
    "# setAndTrainModel(\"./SPAD/DataKey_RGB_DSM_SPAD.csv\", \"SPAD\", EfficientNetV2MWheatModelWithConfidence, \"./SPAD/ResultModelSPAD\")\n",
    "# setAndTrainModel(\"./SPAD/DataKey_RGB_DSM_SPAD.csv\", \"SPAD\", RepVGGB1g4Model, \"./SPAD/ResultModelSPAD\")\n",
    "# setAndTrainModel(\"./SPAD/DataKey_RGB_DSM_SPAD.csv\", \"SPAD\", RegNetY8GFModel, \"./SPAD/ResultModelSPAD\")\n",
    "# setAndTrainModel_addextrainput(\"./LAI/DataKey_RGB_DSM_totEarWeight_LAI.csv\", \"totEarWeight\", \"LAI\", EfficientNetV2SConfidenceAddoneextrainput, \"./LAI/ResultModelLAI\")\n",
    "# setAndTrainModel_addextrainput(\"./LAI/DataKey_RGB_DSM_totEarWeight_LAI.csv\", \"totEarWeight\", \"LAI\", DenseNetConfidenceAddoneextrainput, \"./LAI/ResultModelLAI\")\n",
    "# setAndTrainModel_addextrainput(\"./LAI/DataKey_RGB_DSM_totEarWeight_LAI.csv\", \"totEarWeight\", \"LAI\", RepVGGA1ConfidenceAddoneextrainput, \"./LAI/ResultModelLAI\")\n",
    "# setAndTrainModel_addextrainput(\"./LAI/DataKey_RGB_DSM_totEarWeight_LAI.csv\", \"totEarWeight\", \"LAI\", EfficientNetV2MConfidenceAddeonextrainput, \"./LAI/ResultModelLAI\")\n",
    "# setAndTrainModel_addextrainput(\"./LAI/DataKey_RGB_DSM_LAI_time.csv\", \"time\", \"LAI\", EfficientNetV2SConfidenceAddoneextrainput, \"./LAI/ResultModelLAI\")\n",
    "# setAndTrainModel_addextrainput(\"./LAI/DataKey_RGB_DSM_LAI_time.csv\", \"time\", \"LAI\", DenseNetConfidenceAddoneextrainput, \"./LAI/ResultModelLAI\")\n",
    "# setAndTrainModel_addextrainput(\"./LAI/DataKey_RGB_DSM_LAI_time.csv\", \"time\", \"LAI\", RepVGGA1ConfidenceAddoneextrainput, \"./LAI/ResultModelLAI\")\n",
    "# setAndTrainModel_addextrainput(\"./LAI/DataKey_RGB_DSM_LAI_time.csv\", \"time\", \"LAI\", EfficientNetV2MConfidenceAddeonextrainput, \"./LAI/ResultModelLAI\")\n",
    "# setAndTrainModel_addextrainput(\"./LAI/DataKey_RGB_DSM_totEarWeight_LAI_time.csv\", [\"totEarWeight\", \"time\"], \"LAI\", EfficientNetV2SConfidenceAdd2Inputs, \"./LAI/ResultModelLAI\")\n",
    "# setAndTrainModel_addextrainput(\"./LAI/DataKey_RGB_DSM_totEarWeight_LAI_time.csv\", [\"totEarWeight\", \"time\"], \"LAI\", DenseNetConfidenceAdd2Inputs, \"./LAI/ResultModelLAI\")\n",
    "# setAndTrainModel_addextrainput(\"./LAI/DataKey_RGB_DSM_totEarWeight_LAI_time.csv\", [\"totEarWeight\", \"time\"], \"LAI\", EfficientNetV2MConfidenceAdd2Inputs, \"./LAI/ResultModelLAI\")\n",
    "# setAndTrainModel(\"./LAI/DataKey_RGB_DSM_LAI.csv\", \"LAI\", EfficientNetV2MWheatModelWithConfidence, \"./LAI/ResultModelLAI\")\n",
    "# setAndTrainModel(\"./LAI/DataKey_RGB_DSM_LAI.csv\", \"LAI\", RegNetY8GFModel, \"./LAI/ResultModelLAI\")\n",
    "# setAndTrainModel(\"./EarWeight/DataKey_RGB_DSM_totEarWeight.csv\", \"totEarWeight\", EfficientNetV2MWheatModelWithConfidence, \"./EarWeight/ResultModelEarWeight\")\n",
    "# setAndTrainModel(\"./EarWeight/DataKey_RGB_DSM_totEarWeight.csv\", \"totEarWeight\", RegNetY8GFModel, \"./EarWeight/ResultModelEarWeight\")\n",
    "# setAndTrainModel(\"./AverageEarSize/DataKey_RGB_DSM_avgEarSize.csv\", \"avgEarSize\", EfficientNetV2MWheatModelWithConfidence, \"./AverageEarSize/ResultModelAverageEarSize\")\n",
    "# setAndTrainModel(\"./AverageEarSize/DataKey_RGB_DSM_avgEarSize.csv\", \"avgEarSize\", RegNetY8GFModel, \"./AverageEarSize/ResultModelAverageEarSize\")\n",
    "# setAndTrainModel_addextrainput(\"./LAI/DataKey_RGB_DSM_totEarWeight_LAI_time.csv\", [\"totEarWeight\", \"time\"], \"LAI\", RepVGGA1ConfidenceAdd2Inputs, \"./LAI/ResultModelLAI\")\n",
    "# setAndTrainModel(\"./LAI/DataKey_RGB_DSM_LAI.csv\", \"LAI\", RepVGGB1g4Model, \"./LAI/ResultModelLAI\")\n",
    "# setAndTrainModel(\"./EarWeight/DataKey_RGB_DSM_totEarWeight.csv\", \"totEarWeight\", RepVGGB1g4Model, \"./EarWeight/ResultModelEarWeight\")\n",
    "# setAndTrainModel(\"./AverageEarSize/DataKey_RGB_DSM_avgEarSize.csv\", \"avgEarSize\", RepVGGB1g4Model, \"./AverageEarSize/ResultModelAverageEarSize\")\n",
    "# setAndTrainModel_addextrainput(\"./WheatEarCount/DataKey_RGB_DSM_totEarWeight_totEarNum.csv\", \"totEarWeight\", \"totWheatEars\", RegNetY8GFConfidenceAddoneextrainput, \"./WheatEarCount/ResultModelWheatEarCount\")\n",
    "# setAndTrainModel_addextrainput(\"./SPAD/DataKey_RGB_DSM_SPAD_time.csv\", \"time\", \"SPAD\", RegNetY8GFConfidenceAddoneextrainput, \"./SPAD/ResultModelSPAD\")\n",
    "# setAndTrainModel_addextrainput(\"./LAI/DataKey_RGB_DSM_totEarWeight_LAI.csv\", \"totEarWeight\", \"LAI\", RegNetY8GFConfidenceAddoneextrainput, \"./LAI/ResultModelLAI\")\n",
    "# setAndTrainModel_addextrainput(\"./LAI/DataKey_RGB_DSM_LAI_time.csv\", \"time\", \"LAI\", RegNetY8GFConfidenceAddoneextrainput, \"./LAI/ResultModelLAI\")\n",
    "# setAndTrainModel_addextrainput(\"./LAI/DataKey_RGB_DSM_totEarWeight_LAI_time.csv\", [\"totEarWeight\", \"time\"], \"LAI\", RegNetYConfidenceAdd2Inputs, \"./LAI/ResultModelLAI\")"
   ]
  },
  {
   "cell_type": "code",
   "execution_count": null,
   "metadata": {},
   "outputs": [],
   "source": [
    "# setAndTrainModel(\"./LeafLength/DataKey_RGB_DSM_leafLength.csv\", \"leafLength\", EfficientNetV2MWheatModelWithConfidence, \"./LeafLength/ResultModelLeafLength\")\n",
    "# setAndTrainModel(\"./LeafLength/DataKey_RGB_DSM_leafLength.csv\", \"leafLength\", DenseNet121WheatModel, \"./LeafLength/ResultModelLeafLength\")\n",
    "# setAndTrainModel(\"./LeafLength/DataKey_RGB_DSM_leafLength.csv\", \"leafLength\", RegNetY8GFModel, \"./LeafLength/ResultModelLeafLength\")\n",
    "# setAndTrainModel(\"./LeafLength/DataKey_RGB_DSM_leafLength.csv\", \"leafLength\", MobileViTV2WheatModel, \"./LeafLength/ResultModelLeafLength\")\n",
    "# setAndTrainModel(\"./LeafLength/DataKey_RGB_DSM_leafLength.csv\", \"leafLength\", ConvNeXtTinyWheatModelWithConfidence, \"./LeafLength/ResultModelLeafLength\")\n",
    "# setAndTrainModel(\"./days/DataKey_RGB_DSM_days__NoERR.csv\", \"days\", EfficientNetV2MWheatModelWithConfidence, \"./days/ResultModelDaysAll\")\n",
    "# setAndTrainModel(\"./days/DataKey_RGB_DSM_days__NoERR.csv\", \"days\", DenseNet121WheatModel, \"./days/ResultModelDaysAll\")\n",
    "# setAndTrainModel(\"./days/DataKey_RGB_DSM_days__NoERR.csv\", \"days\", RegNetY8GFModel, \"./days/ResultModelDaysAll\")\n",
    "# setAndTrainModel(\"./days/DataKey_RGB_DSM_days__NoERR.csv\", \"days\", MobileViTV2WheatModel, \"./days/ResultModelDaysAll\")\n",
    "# setAndTrainModel(\"./days/DataKey_RGB_DSM_days__NoERR.csv\", \"days\", ConvNeXtTinyWheatModelWithConfidence, \"./days/ResultModelDaysAll\")\n",
    "# setAndTrainModel(\"./days/DataKey_RGB_DSM_days__NoERR_From3thM.csv\", \"days\", EfficientNetV2MWheatModelWithConfidence, \"./days/ResultModelDaysFrom3\")\n",
    "# setAndTrainModel(\"./days/DataKey_RGB_DSM_days__NoERR_From3thM.csv\", \"days\", DenseNet121WheatModel, \"./days/ResultModelDaysFrom3\")\n",
    "# setAndTrainModel(\"./days/DataKey_RGB_DSM_days__NoERR_From3thM.csv\", \"days\", RegNetY8GFModel, \"./days/ResultModelDaysFrom3\")\n",
    "# setAndTrainModel(\"./days/DataKey_RGB_DSM_days__NoERR_From3thM.csv\", \"days\", MobileViTV2WheatModel, \"./days/ResultModelDaysFrom3\")\n",
    "# setAndTrainModel(\"./days/DataKey_RGB_DSM_days__NoERR_From3thM.csv\", \"days\", ConvNeXtTinyWheatModelWithConfidence, \"./days/ResultModelDaysFrom3\")\n",
    "# setAndTrainModel(\"./days/DataKey_RGB_DSM_days__NoERR_From4thM.csv\", \"days\", EfficientNetV2MWheatModelWithConfidence, \"./days/ResultModelDaysFrom4\")\n",
    "# setAndTrainModel(\"./days/DataKey_RGB_DSM_days__NoERR_From4thM.csv\", \"days\", DenseNet121WheatModel, \"./days/ResultModelDaysFrom4\")\n",
    "# setAndTrainModel(\"./days/DataKey_RGB_DSM_days__NoERR_From4thM.csv\", \"days\", RegNetY8GFModel, \"./days/ResultModelDaysFrom4\")\n",
    "# setAndTrainModel(\"./days/DataKey_RGB_DSM_days__NoERR_From4thM.csv\", \"days\", MobileViTV2WheatModel, \"./days/ResultModelDaysFrom4\")\n",
    "# setAndTrainModel(\"./days/DataKey_RGB_DSM_days__NoERR_From4thM.csv\", \"days\", ConvNeXtTinyWheatModelWithConfidence, \"./days/ResultModelDaysFrom4\")"
   ]
  },
  {
   "cell_type": "code",
   "execution_count": null,
   "metadata": {},
   "outputs": [],
   "source": [
    "# setAndTrainModel(\"./Height/DataKey_RGB_DSM_Height.csv\", \"Height\", EfficientNetV2MWheatModelWithConfidence, \"./Height/ResultModelHeight\")\n",
    "# setAndTrainModel(\"./Height/DataKey_RGB_DSM_Height.csv\", \"Height\", DenseNet121WheatModel, \"./Height/ResultModelHeight\")\n",
    "# setAndTrainModel(\"./Height/DataKey_RGB_DSM_Height.csv\", \"Height\", RegNetY8GFModel, \"./Height/ResultModelHeight\")\n",
    "setAndTrainModel(\"./Height/DataKey_RGB_DSM_Height.csv\", \"Height\", MobileViTV2WheatModel, \"./Height/ResultModelHeight\")\n",
    "setAndTrainModel(\"./Height/DataKey_RGB_DSM_Height.csv\", \"Height\", ConvNeXtTinyWheatModelWithConfidence, \"./Height/ResultModelHeight\")"
   ]
  },
  {
   "cell_type": "code",
   "execution_count": null,
   "metadata": {},
   "outputs": [],
   "source": [
    "# setAndTrainModel(\"./StrawWeightAfterDry/DataKey_RGB_DSM_20StrawWeightAfterDry.csv\", \"20StrawWeightAfterDry\", EfficientNetV2MWheatModelWithConfidence, \"./StrawWeightAfterDry/ResultModelStrawWeightAfterDry\")\n",
    "# setAndTrainModel(\"./StrawWeightAfterDry/DataKey_RGB_DSM_20StrawWeightAfterDry.csv\", \"20StrawWeightAfterDry\", DenseNet121WheatModel, \"./StrawWeightAfterDry/ResultModelStrawWeightAfterDry\")\n",
    "setAndTrainModel(\"./StrawWeightAfterDry/DataKey_RGB_DSM_20StrawWeightAfterDry.csv\", \"20StrawWeightAfterDry\", RegNetY8GFModel, \"./StrawWeightAfterDry/ResultModelStrawWeightAfterDry\")\n",
    "setAndTrainModel(\"./StrawWeightAfterDry/DataKey_RGB_DSM_20StrawWeightAfterDry.csv\", \"20StrawWeightAfterDry\", MobileViTV2WheatModel, \"./StrawWeightAfterDry/ResultModelStrawWeightAfterDry\")\n",
    "setAndTrainModel(\"./StrawWeightAfterDry/DataKey_RGB_DSM_20StrawWeightAfterDry.csv\", \"20StrawWeightAfterDry\", ConvNeXtTinyWheatModelWithConfidence, \"./StrawWeightAfterDry/ResultModelStrawWeightAfterDry\")"
   ]
  },
  {
   "cell_type": "code",
   "execution_count": null,
   "metadata": {},
   "outputs": [],
   "source": [
    "setAndTrainModel_addextrainput(\"./StrawWeightAfterDry/DataKey_RGB_DSM_20StrawWeightBeforeDry_20StrawWeightAfterDry.csv\", \"20StrawWeightBeforeDry\", \"20StrawWeightAfterDry\", EfficientNetV2MConfidenceAddeonextrainput, \"./StrawWeightAfterDry/ResultModelStrawWeightAfterDry\")\n",
    "setAndTrainModel_addextrainput(\"./StrawWeightAfterDry/DataKey_RGB_DSM_20StrawWeightBeforeDry_20StrawWeightAfterDry.csv\", \"20StrawWeightBeforeDry\", \"20StrawWeightAfterDry\", DenseNetConfidenceAddoneextrainput, \"./StrawWeightAfterDry/ResultModelStrawWeightAfterDry\")\n",
    "setAndTrainModel_addextrainput(\"./StrawWeightAfterDry/DataKey_RGB_DSM_20StrawWeightBeforeDry_20StrawWeightAfterDry.csv\", \"20StrawWeightBeforeDry\", \"20StrawWeightAfterDry\", RegNetY8GFConfidenceAddoneextrainput, \"./StrawWeightAfterDry/ResultModelStrawWeightAfterDry\")\n",
    "setAndTrainModel_addextrainput(\"./StrawWeightAfterDry/DataKey_RGB_DSM_20StrawWeightBeforeDry_20StrawWeightAfterDry.csv\", \"20StrawWeightBeforeDry\", \"20StrawWeightAfterDry\", MobileViTV2ConfidenceAddoneextrainput, \"./StrawWeightAfterDry/ResultModelStrawWeightAfterDry\")\n",
    "setAndTrainModel_addextrainput(\"./StrawWeightAfterDry/DataKey_RGB_DSM_20StrawWeightBeforeDry_20StrawWeightAfterDry.csv\", \"20StrawWeightBeforeDry\", \"20StrawWeightAfterDry\", ConvNeXtTinyConfidenceAddoneextrainput, \"./StrawWeightAfterDry/ResultModelStrawWeightAfterDry\")\n"
   ]
  },
  {
   "cell_type": "code",
   "execution_count": null,
   "metadata": {},
   "outputs": [],
   "source": [
    "setAndTrainModel(\"./StrawWeightBeforeDry/DataKey_RGB_DSM_20StrawWeightBeforeDry.csv\", \"20StrawWeightBeforeDry\", EfficientNetV2MWheatModelWithConfidence, \"./StrawWeightBeforeDry/ResultModelStrawWeightBeforeDry\")\n",
    "setAndTrainModel(\"./StrawWeightBeforeDry/DataKey_RGB_DSM_20StrawWeightBeforeDry.csv\", \"20StrawWeightBeforeDry\", DenseNet121WheatModel, \"./StrawWeightBeforeDry/ResultModelStrawWeightBeforeDry\")\n",
    "setAndTrainModel(\"./StrawWeightBeforeDry/DataKey_RGB_DSM_20StrawWeightBeforeDry.csv\", \"20StrawWeightBeforeDry\", RegNetY8GFModel, \"./StrawWeightBeforeDry/ResultModelStrawWeightBeforeDry\")\n",
    "setAndTrainModel(\"./StrawWeightBeforeDry/DataKey_RGB_DSM_20StrawWeightBeforeDry.csv\", \"20StrawWeightBeforeDry\", MobileViTV2WheatModel, \"./StrawWeightBeforeDry/ResultModelStrawWeightBeforeDry\")\n",
    "setAndTrainModel(\"./StrawWeightBeforeDry/DataKey_RGB_DSM_20StrawWeightBeforeDry.csv\", \"20StrawWeightBeforeDry\", ConvNeXtTinyWheatModelWithConfidence, \"./StrawWeightBeforeDry/ResultModelStrawWeightBeforeDry\")"
   ]
  },
  {
   "cell_type": "code",
   "execution_count": null,
   "metadata": {},
   "outputs": [],
   "source": [
    "setAndTrainModel(\"./TotalSeedNum/DataKey_RGB_DSM_totalSeedNum.csv\", \"totalSeedNum\", EfficientNetV2MWheatModelWithConfidence, \"./TotalSeedNum/ResultModelTotalSeedNum\")\n",
    "setAndTrainModel(\"./TotalSeedNum/DataKey_RGB_DSM_totalSeedNum.csv\", \"totalSeedNum\", DenseNet121WheatModel, \"./TotalSeedNum/ResultModelTotalSeedNum\")\n",
    "setAndTrainModel(\"./TotalSeedNum/DataKey_RGB_DSM_totalSeedNum.csv\", \"totalSeedNum\", RegNetY8GFModel, \"./TotalSeedNum/ResultModelTotalSeedNum\")\n",
    "setAndTrainModel(\"./TotalSeedNum/DataKey_RGB_DSM_totalSeedNum.csv\", \"totalSeedNum\", MobileViTV2WheatModel, \"./TotalSeedNum/ResultModelTotalSeedNum\")\n",
    "setAndTrainModel(\"./TotalSeedNum/DataKey_RGB_DSM_totalSeedNum.csv\", \"totalSeedNum\", ConvNeXtTinyWheatModelWithConfidence, \"./TotalSeedNum/ResultModelTotalSeedNum\")"
   ]
  },
  {
   "cell_type": "code",
   "execution_count": null,
   "metadata": {},
   "outputs": [],
   "source": [
    "setAndTrainModel(\"./TotalSeedWeightAfterDry/DataKey_RGB_DSM_totalSeedWeightAfterDry.csv\", \"totalSeedWeightAfterDry\", EfficientNetV2MWheatModelWithConfidence, \"./TotalSeedWeightAfterDry/ResultModelTotalSeedWeightAfterDry\")\n",
    "setAndTrainModel(\"./TotalSeedWeightAfterDry/DataKey_RGB_DSM_totalSeedWeightAfterDry.csv\", \"totalSeedWeightAfterDry\", DenseNet121WheatModel, \"./TotalSeedWeightAfterDry/ResultModelTotalSeedWeightAfterDry\")\n",
    "setAndTrainModel(\"./TotalSeedWeightAfterDry/DataKey_RGB_DSM_totalSeedWeightAfterDry.csv\", \"totalSeedWeightAfterDry\", RegNetY8GFModel, \"./TotalSeedWeightAfterDry/ResultModelTotalSeedWeightAfterDry\")\n",
    "setAndTrainModel(\"./TotalSeedWeightAfterDry/DataKey_RGB_DSM_totalSeedWeightAfterDry.csv\", \"totalSeedWeightAfterDry\", MobileViTV2WheatModel, \"./TotalSeedWeightAfterDry/ResultModelTotalSeedWeightAfterDry\")\n",
    "setAndTrainModel(\"./TotalSeedWeightAfterDry/DataKey_RGB_DSM_totalSeedWeightAfterDry.csv\", \"totalSeedWeightAfterDry\", ConvNeXtTinyWheatModelWithConfidence, \"./TotalSeedWeightAfterDry/ResultModelTotalSeedWeightAfterDry\")\n"
   ]
  },
  {
   "cell_type": "code",
   "execution_count": null,
   "metadata": {},
   "outputs": [],
   "source": [
    "setAndTrainModel_addextrainput(\"./TotalSeedWeightAfterDry/DataKey_RGB_DSM_totalSeedWeightBeforeDry_totalSeedWeightAfterDry.csv\", \"totalSeedWeightBeforeDry\", \"totalSeedWeightAfterDry\", EfficientNetV2MConfidenceAddeonextrainput, \"./TotalSeedWeightAfterDry/ResultModelTotalSeedWeightAfterDry\")\n",
    "setAndTrainModel_addextrainput(\"./TotalSeedWeightAfterDry/DataKey_RGB_DSM_totalSeedWeightBeforeDry_totalSeedWeightAfterDry.csv\", \"totalSeedWeightBeforeDry\", \"totalSeedWeightAfterDry\", DenseNetConfidenceAddoneextrainput, \"./TotalSeedWeightAfterDry/ResultModelTotalSeedWeightAfterDry\")\n",
    "setAndTrainModel_addextrainput(\"./TotalSeedWeightAfterDry/DataKey_RGB_DSM_totalSeedWeightBeforeDry_totalSeedWeightAfterDry.csv\", \"totalSeedWeightBeforeDry\", \"totalSeedWeightAfterDry\", RegNetY8GFConfidenceAddoneextrainput, \"./TotalSeedWeightAfterDry/ResultModelTotalSeedWeightAfterDry\")\n",
    "setAndTrainModel_addextrainput(\"./TotalSeedWeightAfterDry/DataKey_RGB_DSM_totalSeedWeightBeforeDry_totalSeedWeightAfterDry.csv\", \"totalSeedWeightBeforeDry\", \"totalSeedWeightAfterDry\", MobileViTV2ConfidenceAddoneextrainput, \"./TotalSeedWeightAfterDry/ResultModelTotalSeedWeightAfterDry\")\n",
    "setAndTrainModel_addextrainput(\"./TotalSeedWeightAfterDry/DataKey_RGB_DSM_totalSeedWeightBeforeDry_totalSeedWeightAfterDry.csv\", \"totalSeedWeightBeforeDry\", \"totalSeedWeightAfterDry\", ConvNeXtTinyConfidenceAddoneextrainput, \"./TotalSeedWeightAfterDry/ResultModelTotalSeedWeightAfterDry\")\n"
   ]
  },
  {
   "cell_type": "code",
   "execution_count": null,
   "metadata": {},
   "outputs": [],
   "source": [
    "setAndTrainModel(\"./TotalSeedWeightBeforeDry/DataKey_RGB_DSM_totalSeedWeightBeforeDry.csv\", \"totalSeedWeightBeforeDry\", EfficientNetV2MWheatModelWithConfidence, \"./TotalSeedWeightBeforeDry/ResultModelTotalSeedWeightBeforeDry\")\n",
    "setAndTrainModel(\"./TotalSeedWeightBeforeDry/DataKey_RGB_DSM_totalSeedWeightBeforeDry.csv\", \"totalSeedWeightBeforeDry\", DenseNet121WheatModel, \"./TotalSeedWeightBeforeDry/ResultModelTotalSeedWeightBeforeDry\")\n",
    "setAndTrainModel(\"./TotalSeedWeightBeforeDry/DataKey_RGB_DSM_totalSeedWeightBeforeDry.csv\", \"totalSeedWeightBeforeDry\", RegNetY8GFModel, \"./TotalSeedWeightBeforeDry/ResultModelTotalSeedWeightBeforeDry\")\n",
    "setAndTrainModel(\"./TotalSeedWeightBeforeDry/DataKey_RGB_DSM_totalSeedWeightBeforeDry.csv\", \"totalSeedWeightBeforeDry\", MobileViTV2WheatModel, \"./TotalSeedWeightBeforeDry/ResultModelTotalSeedWeightBeforeDry\")\n",
    "setAndTrainModel(\"./TotalSeedWeightBeforeDry/DataKey_RGB_DSM_totalSeedWeightBeforeDry.csv\", \"totalSeedWeightBeforeDry\", ConvNeXtTinyWheatModelWithConfidence, \"./TotalSeedWeightBeforeDry/ResultModelTotalSeedWeightBeforeDry\")"
   ]
  },
  {
   "cell_type": "code",
   "execution_count": null,
   "metadata": {},
   "outputs": [],
   "source": [
    "setAndTrainModel(\"./LeafWidth/DataKey_RGB_DSM_leafWidth.csv\", \"leafWidth\", EfficientNetV2MWheatModelWithConfidence, \"./LeafWidth/ResultModelLeafWidth\")\n",
    "setAndTrainModel(\"./LeafWidth/DataKey_RGB_DSM_leafWidth.csv\", \"leafWidth\", DenseNet121WheatModel, \"./LeafWidth/ResultModelLeafWidth\")\n",
    "setAndTrainModel(\"./LeafWidth/DataKey_RGB_DSM_leafWidth.csv\", \"leafWidth\", RegNetY8GFModel, \"./LeafWidth/ResultModelLeafWidth\")\n",
    "setAndTrainModel(\"./LeafWidth/DataKey_RGB_DSM_leafWidth.csv\", \"leafWidth\", MobileViTV2WheatModel, \"./LeafWidth/ResultModelLeafWidth\")\n",
    "setAndTrainModel(\"./LeafWidth/DataKey_RGB_DSM_leafWidth.csv\", \"leafWidth\", ConvNeXtTinyWheatModelWithConfidence, \"./LeafWidth/ResultModelLeafWidth\")"
   ]
  }
 ],
 "metadata": {
  "kernelspec": {
   "display_name": "Python 3",
   "language": "python",
   "name": "python3"
  },
  "language_info": {
   "codemirror_mode": {
    "name": "ipython",
    "version": 3
   },
   "file_extension": ".py",
   "mimetype": "text/x-python",
   "name": "python",
   "nbconvert_exporter": "python",
   "pygments_lexer": "ipython3",
   "version": "3.13.2"
  }
 },
 "nbformat": 4,
 "nbformat_minor": 2
}
