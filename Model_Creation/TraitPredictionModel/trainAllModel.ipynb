{
 "cells": [
  {
   "cell_type": "code",
   "execution_count": null,
   "metadata": {},
   "outputs": [],
   "source": [
    "import os\n",
    "import sys\n",
    "# Get current working directory instead of __file__\n",
    "sys.path.append(os.path.abspath(os.path.join(os.getcwd(), \"..\")))\n",
    "from ModelArchitecture.ConvNeXtTinyModel import ConvNeXtTinyWheatModelWithConfidence\n",
    "from ModelArchitecture.DenseNetModel import DenseNet121WheatModel\n",
    "from ModelArchitecture.EfficientNetV2Model import EfficientNetV2SWheatCountWithConfidence\n",
    "from ModelArchitecture.RepVGGA1Model import RepVGGA1WheatModelWithConfidence\n",
    "from ModelArchitecture.EfficientNetV2MModel import EfficientNetV2MWheatModelWithConfidence\n",
    "from ModelArchitecture.RepVGGB1g4Model import RepVGGB1g4Model\n",
    "from ModelArchitecture.RegNetY8GFModel import RegNetY8GFModel\n",
    "from ModelArchitecture.MobileViTV2Model import MobileViTV2WheatModel\n",
    "from ModelArchitecture.MobileViTV2AddoneextrainputModel import MobileViTV2ConfidenceAddoneextrainput, MobileViTV2ConfidenceAddtwoextrainput\n",
    "from ModelArchitecture.ConvNeXtTinyAddoneextrainputModel import ConvNeXtTinyConfidenceAddoneextrainput, ConvNeXtTinyConfidenceAddtwoextrainput\n",
    "from ModelArchitecture.EfficientNetV2SAddextrainputModel import EfficientNetV2SConfidenceAddoneextrainput, EfficientNetV2SConfidenceAdd2Inputs\n",
    "from ModelArchitecture.DenseNetAddextrainputModel import DenseNetConfidenceAddoneextrainput, DenseNetConfidenceAdd2Inputs\n",
    "from ModelArchitecture.RepVGGA1AddextrainputModel import RepVGGA1ConfidenceAddoneextrainput, RepVGGA1ConfidenceAdd2Inputs\n",
    "from ModelArchitecture.EfficientNetV2MAddextrainputModel import EfficientNetV2MConfidenceAddeonextrainput, EfficientNetV2MConfidenceAdd2Inputs\n",
    "from ModelArchitecture.RegNetY8GFAddextrainputModel import RegNetY8GFConfidenceAddoneextrainput, RegNetYConfidenceAdd2Inputs\n",
    "from ModelArchitecture.MobileOneModel import MobileOneConfidence, MobileOneConfidenceAddoneextrainput, MobileOneConfidenceAddtwoextrainput\n",
    "from ModelArchitecture.MaxViTModel import MaxViTConfidenceModel, MaxViTConfidenceAddoneextrainput, MaxViTConfidenceAddtwoextrainput\n",
    "from ModelArchitecture.CoatNetModel import CoAtNetConfidenceModel, CoAtNetConfidenceAddOneExtraInput, CoAtNetConfidenceAddTwoExtraInput\n",
    "from ModelArchitecture.FocalNetModel import FocalNetConfidenceModel, FocalNetConfidenceAddoneextrainput, FocalNetConfidenceAddtwoextrainput\n",
    "from ModelArchitecture.SwinTransformerV2Model import SwinV2ConfidenceModel, SwinV2ConfidenceAddOneExtraInput, SwinV2ConfidenceAddTwoExtraInput\n",
    "from ModelArchitecture.EfficientFormerV2Model import EfficientFormerConfidenceModel, EfficientFormerConfidenceAddOneExtraInput, EfficientFormerConfidenceAddTwoExtraInput\n",
    "from ModelArchitecture.PoolFormerModel import PoolFormerConfidenceModel, PoolFormerConfidenceAddOneExtraInput, PoolFormerConfidenceAddTwoExtraInput\n",
    "from ModelArchitecture.ConvNeXtV2Model import ConvNeXtV2WheatModelWithConfidence, ConvNeXtV2ConfidenceAddoneextrainput, ConvNeXtV2ConfidenceAddtwoextrainput\n",
    "from modelFunc import setAndTrainModel, setAndTrainModel_addextrainput"
   ]
  },
  {
   "cell_type": "code",
   "execution_count": null,
   "metadata": {},
   "outputs": [],
   "source": [
    "# setAndTrainModel(\"./allTestLabel/allWeeklyData_raw1_day13.csv\", \"SPAD\", ConvNeXtV2WheatModelWithConfidence, savePath = \"./allModel\", extraName = \"none\")\n",
    "# setAndTrainModel_addextrainput(\"./allTestLabel/allWeeklyData_raw1_day13.csv\", \"days\", \"SPAD\", ConvNeXtV2ConfidenceAddoneextrainput, savePath = \"./allModel\", extraName = \"none\")\n",
    "# setAndTrainModel_addextrainput(\"./allTestLabel/allWeeklyData_raw1_day13.csv\", [\"days\", \"LAI\"], \"SPAD\", ConvNeXtV2ConfidenceAddtwoextrainput, savePath = \"./allModel\", extraName = \"none\")\n"
   ]
  },
  {
   "cell_type": "code",
   "execution_count": null,
   "metadata": {},
   "outputs": [],
   "source": [
    "weekyDataLabel = \"./allTestLabel/allWeeklyData_raw1_day13.csv\"\n",
    "resultDataLabel = \"./allTestLabel/allResultData_raw1_day13.csv\"\n",
    "dateDataLabelAll = \"./allTestLabel/dayData_raw1_augment6_noErrDateAll.csv\"\n",
    "dateDataLabelFrom3 = \"./allTestLabel/dayData_raw1_augment6_noErrDateFrom3.csv\"\n",
    "dateDataLabelFrom4 = \"./allTestLabel/dayData_raw1_augment6_noErrDateFrom4.csv\"\n",
    "\n",
    "weekyData = [\"Height\", \"LAI\", \"SPAD\", \"leafWidth\", \"leafLength\"]\n",
    "resultData = ['totEarWeight','totEarNum','avgEarSize', '20StrawWeightBeforeDry','20StrawWeightAfterDry', 'totalSeedNum','totalSeedWeightBeforeDry','totalSeedWeightAfterDry']\n",
    "\n",
    "modelPath =\"./allModel\"\n",
    "extraName = \"raw1\""
   ]
  },
  {
   "cell_type": "code",
   "execution_count": null,
   "metadata": {},
   "outputs": [],
   "source": [
    "def safe_train_noextra(dataPath, targetData, Model, savePath, extraName):\n",
    "    try:\n",
    "        setAndTrainModel(dataPath, targetData, Model, savePath, extraName)\n",
    "    except Exception as e:\n",
    "        with open(\"./ModelTestResult/errorModel.txt\", \"a\") as f:\n",
    "            f.write(f'setAndTrainModel(\"{dataPath}\", \"{targetData}\", {Model.__name__}, savePath=\"{savePath}\", extraName=\"{extraName}\")\\n')\n",
    "\n",
    "def safe_train_withextra(dataPath, extraInput, targetData, Model, savePath, extraName):\n",
    "    try:\n",
    "        setAndTrainModel_addextrainput(dataPath, extraInput, targetData, Model, savePath, extraName)\n",
    "    except Exception as e:\n",
    "        with open(\"./ModelTestResult/errorModel.txt\", \"a\") as f:\n",
    "            f.write(f'setAndTrainModel_addextrainput(\"{dataPath}\", {repr(extraInput)}, \"{targetData}\", {Model.__name__}, savePath=\"{savePath}\", extraName=\"{extraName}\")\\n')"
   ]
  },
  {
   "cell_type": "markdown",
   "metadata": {},
   "source": [
    "DenseNet"
   ]
  },
  {
   "cell_type": "code",
   "execution_count": null,
   "metadata": {},
   "outputs": [],
   "source": [
    "# safe_train_noextra(weekyDataLabel, weekyData[0], DenseNet121WheatModel, savePath = \"./allModel\", extraName = extraName)\n",
    "# safe_train_noextra(weekyDataLabel, weekyData[1], DenseNet121WheatModel, savePath = \"./allModel\", extraName = extraName)\n",
    "# safe_train_noextra(weekyDataLabel, weekyData[2], DenseNet121WheatModel, savePath = \"./allModel\", extraName = extraName)\n",
    "# safe_train_noextra(weekyDataLabel, weekyData[3], DenseNet121WheatModel, savePath = \"./allModel\", extraName = extraName)\n",
    "# safe_train_noextra(weekyDataLabel, weekyData[4], DenseNet121WheatModel, savePath = \"./allModel\", extraName = extraName)\n",
    "# safe_train_noextra(resultDataLabel, resultData[0], DenseNet121WheatModel, savePath = \"./allModel\", extraName = extraName)\n",
    "# safe_train_noextra(resultDataLabel, resultData[1], DenseNet121WheatModel, savePath = \"./allModel\", extraName = extraName)\n",
    "# safe_train_noextra(resultDataLabel, resultData[2], DenseNet121WheatModel, savePath = \"./allModel\", extraName = extraName)\n",
    "# safe_train_noextra(resultDataLabel, resultData[3], DenseNet121WheatModel, savePath = \"./allModel\", extraName = extraName)\n",
    "# safe_train_noextra(resultDataLabel, resultData[4], DenseNet121WheatModel, savePath = \"./allModel\", extraName = extraName)\n",
    "# safe_train_noextra(resultDataLabel, resultData[5], DenseNet121WheatModel, savePath = \"./allModel\", extraName = extraName)\n",
    "# safe_train_noextra(resultDataLabel, resultData[6], DenseNet121WheatModel, savePath = \"./allModel\", extraName = extraName)\n",
    "# safe_train_noextra(resultDataLabel, resultData[7], DenseNet121WheatModel, savePath = \"./allModel\", extraName = extraName)\n",
    "# safe_train_noextra(dateDataLabelAll, \"days\", DenseNet121WheatModel, savePath = \"./allModel\", extraName = \"noERR\")\n",
    "# safe_train_noextra(dateDataLabelFrom3, \"days\", DenseNet121WheatModel, savePath = \"./allModel\", extraName = \"from3\")\n",
    "# safe_train_noextra(dateDataLabelFrom4, \"days\", DenseNet121WheatModel, savePath = \"./allModel\", extraName = \"from4\")"
   ]
  },
  {
   "cell_type": "code",
   "execution_count": null,
   "metadata": {},
   "outputs": [],
   "source": [
    "# safe_train_withextra(weekyDataLabel, \"days\", \"SPAD\", DenseNetConfidenceAddoneextrainput, savePath = \"./allModel\", extraName = extraName)\n",
    "# safe_train_withextra(weekyDataLabel, \"days\", \"LAI\", DenseNetConfidenceAddoneextrainput, savePath = \"./allModel\", extraName = extraName)\n",
    "# safe_train_withextra(weekyDataLabel, \"SPAD\", \"LAI\", DenseNetConfidenceAddoneextrainput, savePath = \"./allModel\", extraName = extraName)\n",
    "# safe_train_withextra(weekyDataLabel, \"SPAD\", \"Height\", DenseNetConfidenceAddoneextrainput, savePath = \"./allModel\", extraName = extraName)\n",
    "# safe_train_withextra(weekyDataLabel, \"days\", \"totEarNum\", DenseNetConfidenceAddoneextrainput, savePath = \"./allModel\", extraName = extraName)\n",
    "# safe_train_withextra(weekyDataLabel, \"days\", \"totalSeedNum\", DenseNetConfidenceAddoneextrainput, savePath = \"./allModel\", extraName = extraName)\n",
    "# safe_train_withextra(weekyDataLabel, \"totEarNum\", \"totEarWeight\", DenseNetConfidenceAddoneextrainput, savePath = \"./allModel\", extraName = extraName)\n",
    "# safe_train_withextra(weekyDataLabel, \"totEarWeight\", \"totEarNum\", DenseNetConfidenceAddoneextrainput, savePath = \"./allModel\", extraName = extraName)\n",
    "# safe_train_withextra(weekyDataLabel, \"totalSeedNum\", \"totalSeedWeightBeforeDry\", DenseNetConfidenceAddoneextrainput, savePath = \"./allModel\", extraName = extraName)\n",
    "# safe_train_withextra(weekyDataLabel, \"totalSeedNum\", \"totalSeedWeightAfterDry\", DenseNetConfidenceAddoneextrainput, savePath = \"./allModel\", extraName = extraName)"
   ]
  },
  {
   "cell_type": "code",
   "execution_count": null,
   "metadata": {},
   "outputs": [],
   "source": [
    "# safe_train_withextra(weekyDataLabel, [\"days\", \"SPAD\"], \"LAI\", DenseNetConfidenceAdd2Inputs, savePath = \"./allModel\", extraName = extraName)\n",
    "# safe_train_withextra(weekyDataLabel, [\"days\", \"LAI\"], \"SPAD\", DenseNetConfidenceAdd2Inputs, savePath = \"./allModel\", extraName = extraName)\n",
    "# safe_train_withextra(weekyDataLabel, [\"SPAD\", \"LAI\"], \"Height\", DenseNetConfidenceAdd2Inputs, savePath = \"./allModel\", extraName = extraName)\n",
    "# safe_train_withextra(weekyDataLabel, [\"days\", \"SPAD\"], \"Height\", DenseNetConfidenceAdd2Inputs, savePath = \"./allModel\", extraName = extraName)"
   ]
  },
  {
   "cell_type": "markdown",
   "metadata": {},
   "source": [
    "RegNet"
   ]
  },
  {
   "cell_type": "code",
   "execution_count": null,
   "metadata": {},
   "outputs": [],
   "source": [
    "# safe_train_noextra(weekyDataLabel, weekyData[0], RegNetY8GFModel, savePath = \"./allModel\", extraName = extraName)\n",
    "# safe_train_noextra(weekyDataLabel, weekyData[1], RegNetY8GFModel, savePath = \"./allModel\", extraName = extraName)\n",
    "# safe_train_noextra(weekyDataLabel, weekyData[2], RegNetY8GFModel, savePath = \"./allModel\", extraName = extraName)\n",
    "# safe_train_noextra(weekyDataLabel, weekyData[3], RegNetY8GFModel, savePath = \"./allModel\", extraName = extraName)\n",
    "# safe_train_noextra(weekyDataLabel, weekyData[4], RegNetY8GFModel, savePath = \"./allModel\", extraName = extraName)\n",
    "# safe_train_noextra(resultDataLabel, resultData[0], RegNetY8GFModel, savePath = \"./allModel\", extraName = extraName)\n",
    "# safe_train_noextra(resultDataLabel, resultData[1], RegNetY8GFModel, savePath = \"./allModel\", extraName = extraName)\n",
    "# safe_train_noextra(resultDataLabel, resultData[2], RegNetY8GFModel, savePath = \"./allModel\", extraName = extraName)\n",
    "# safe_train_noextra(resultDataLabel, resultData[3], RegNetY8GFModel, savePath = \"./allModel\", extraName = extraName)\n",
    "# safe_train_noextra(resultDataLabel, resultData[4], RegNetY8GFModel, savePath = \"./allModel\", extraName = extraName)\n",
    "# safe_train_noextra(resultDataLabel, resultData[5], RegNetY8GFModel, savePath = \"./allModel\", extraName = extraName)\n",
    "# safe_train_noextra(resultDataLabel, resultData[6], RegNetY8GFModel, savePath = \"./allModel\", extraName = extraName)\n",
    "# safe_train_noextra(resultDataLabel, resultData[7], RegNetY8GFModel, savePath = \"./allModel\", extraName = extraName)\n",
    "# safe_train_noextra(dateDataLabelAll, \"days\", RegNetY8GFModel, savePath = \"./allModel\", extraName = \"noERR\")\n",
    "# safe_train_noextra(dateDataLabelFrom3, \"days\", RegNetY8GFModel, savePath = \"./allModel\", extraName = \"from3\")\n",
    "# safe_train_noextra(dateDataLabelFrom4, \"days\", RegNetY8GFModel, savePath = \"./allModel\", extraName = \"from4\")"
   ]
  },
  {
   "cell_type": "code",
   "execution_count": null,
   "metadata": {},
   "outputs": [],
   "source": [
    "# safe_train_withextra(weekyDataLabel, \"days\", \"SPAD\", RegNetY8GFConfidenceAddoneextrainput, savePath = \"./allModelExtraInput\", extraName = extraName)\n",
    "# safe_train_withextra(weekyDataLabel, \"days\", \"LAI\", RegNetY8GFConfidenceAddoneextrainput, savePath = \"./allModelExtraInput\", extraName = extraName)\n",
    "# safe_train_withextra(weekyDataLabel, \"SPAD\", \"LAI\", RegNetY8GFConfidenceAddoneextrainput, savePath = \"./allModelExtraInput\", extraName = extraName)\n",
    "# safe_train_withextra(weekyDataLabel, \"SPAD\", \"Height\", RegNetY8GFConfidenceAddoneextrainput, savePath = \"./allModelExtraInput\", extraName = extraName)\n",
    "# safe_train_withextra(weekyDataLabel, \"days\", \"totEarNum\", RegNetY8GFConfidenceAddoneextrainput, savePath = \"./allModelExtraInput\", extraName = extraName)\n",
    "# safe_train_withextra(weekyDataLabel, \"days\", \"totalSeedNum\", RegNetY8GFConfidenceAddoneextrainput, savePath = \"./allModelExtraInput\", extraName = extraName)\n",
    "# safe_train_withextra(weekyDataLabel, \"totEarNum\", \"totEarWeight\", RegNetY8GFConfidenceAddoneextrainput, savePath = \"./allModelExtraInput\", extraName = extraName)\n",
    "# safe_train_withextra(weekyDataLabel, \"totEarWeight\", \"totEarNum\", RegNetY8GFConfidenceAddoneextrainput, savePath = \"./allModelExtraInput\", extraName = extraName)\n",
    "# safe_train_withextra(weekyDataLabel, \"totalSeedNum\", \"totalSeedWeightBeforeDry\", RegNetY8GFConfidenceAddoneextrainput, savePath = \"./allModelExtraInput\", extraName = extraName)\n",
    "# safe_train_withextra(weekyDataLabel, \"totalSeedNum\", \"totalSeedWeightAfterDry\", RegNetY8GFConfidenceAddoneextrainput, savePath = \"./allModelExtraInput\", extraName = extraName)"
   ]
  },
  {
   "cell_type": "code",
   "execution_count": null,
   "metadata": {},
   "outputs": [],
   "source": [
    "# safe_train_withextra(weekyDataLabel, [\"days\", \"SPAD\"], \"LAI\", RegNetYConfidenceAdd2Inputs, savePath = \"./allModelExtraInput\", extraName = extraName)\n",
    "# safe_train_withextra(weekyDataLabel, [\"days\", \"LAI\"], \"SPAD\", RegNetYConfidenceAdd2Inputs, savePath = \"./allModelExtraInput\", extraName = extraName)\n",
    "# safe_train_withextra(weekyDataLabel, [\"SPAD\", \"LAI\"], \"Height\", RegNetYConfidenceAdd2Inputs, savePath = \"./allModelExtraInput\", extraName = extraName)\n",
    "# safe_train_withextra(weekyDataLabel, [\"days\", \"SPAD\"], \"Height\", RegNetYConfidenceAdd2Inputs, savePath = \"./allModelExtraInput\", extraName = extraName)"
   ]
  },
  {
   "cell_type": "markdown",
   "metadata": {},
   "source": [
    "MobileViTV2"
   ]
  },
  {
   "cell_type": "code",
   "execution_count": null,
   "metadata": {},
   "outputs": [],
   "source": [
    "# safe_train_noextra(weekyDataLabel, weekyData[0], MobileViTV2WheatModel, savePath = \"./allModel\", extraName = extraName)\n",
    "# safe_train_noextra(weekyDataLabel, weekyData[1], MobileViTV2WheatModel, savePath = \"./allModel\", extraName = extraName)\n",
    "# safe_train_noextra(weekyDataLabel, weekyData[2], MobileViTV2WheatModel, savePath = \"./allModel\", extraName = extraName)\n",
    "# safe_train_noextra(weekyDataLabel, weekyData[3], MobileViTV2WheatModel, savePath = \"./allModel\", extraName = extraName)\n",
    "# safe_train_noextra(weekyDataLabel, weekyData[4], MobileViTV2WheatModel, savePath = \"./allModel\", extraName = extraName)\n",
    "# safe_train_noextra(resultDataLabel, resultData[0], MobileViTV2WheatModel, savePath = \"./allModel\", extraName = extraName)\n",
    "# safe_train_noextra(resultDataLabel, resultData[1], MobileViTV2WheatModel, savePath = \"./allModel\", extraName = extraName)\n",
    "# safe_train_noextra(resultDataLabel, resultData[2], MobileViTV2WheatModel, savePath = \"./allModel\", extraName = extraName)\n",
    "# safe_train_noextra(resultDataLabel, resultData[3], MobileViTV2WheatModel, savePath = \"./allModel\", extraName = extraName)\n",
    "# safe_train_noextra(resultDataLabel, resultData[4], MobileViTV2WheatModel, savePath = \"./allModel\", extraName = extraName)\n",
    "# safe_train_noextra(resultDataLabel, resultData[5], MobileViTV2WheatModel, savePath = \"./allModel\", extraName = extraName)\n",
    "# safe_train_noextra(resultDataLabel, resultData[6], MobileViTV2WheatModel, savePath = \"./allModel\", extraName = extraName)\n",
    "# safe_train_noextra(resultDataLabel, resultData[7], MobileViTV2WheatModel, savePath = \"./allModel\", extraName = extraName)\n",
    "# safe_train_noextra(dateDataLabelAll, \"days\", MobileViTV2WheatModel, savePath = \"./allModel\", extraName = \"noERR\")\n",
    "# safe_train_noextra(dateDataLabelFrom3, \"days\", MobileViTV2WheatModel, savePath = \"./allModel\", extraName = \"from3\")\n",
    "# safe_train_noextra(dateDataLabelFrom4, \"days\", MobileViTV2WheatModel, savePath = \"./allModel\", extraName = \"from4\")"
   ]
  },
  {
   "cell_type": "code",
   "execution_count": null,
   "metadata": {},
   "outputs": [],
   "source": [
    "# safe_train_withextra(weekyDataLabel, \"days\", \"SPAD\", MobileViTV2ConfidenceAddoneextrainput, savePath = \"./allModelExtraInput\", extraName = extraName)\n",
    "# safe_train_withextra(weekyDataLabel, \"days\", \"LAI\", MobileViTV2ConfidenceAddoneextrainput, savePath = \"./allModelExtraInput\", extraName = extraName)\n",
    "# safe_train_withextra(weekyDataLabel, \"SPAD\", \"LAI\", MobileViTV2ConfidenceAddoneextrainput, savePath = \"./allModelExtraInput\", extraName = extraName)\n",
    "# safe_train_withextra(weekyDataLabel, \"SPAD\", \"Height\", MobileViTV2ConfidenceAddoneextrainput, savePath = \"./allModelExtraInput\", extraName = extraName)\n",
    "# safe_train_withextra(weekyDataLabel, \"days\", \"totEarNum\", MobileViTV2ConfidenceAddoneextrainput, savePath = \"./allModelExtraInput\", extraName = extraName)\n",
    "# safe_train_withextra(weekyDataLabel, \"days\", \"totalSeedNum\", MobileViTV2ConfidenceAddoneextrainput, savePath = \"./allModelExtraInput\", extraName = extraName)\n",
    "# safe_train_withextra(weekyDataLabel, \"totEarNum\", \"totEarWeight\", MobileViTV2ConfidenceAddoneextrainput, savePath = \"./allModelExtraInput\", extraName = extraName)\n",
    "# safe_train_withextra(weekyDataLabel, \"totEarWeight\", \"totEarNum\", MobileViTV2ConfidenceAddoneextrainput, savePath = \"./allModelExtraInput\", extraName = extraName)\n",
    "# safe_train_withextra(weekyDataLabel, \"totalSeedNum\", \"totalSeedWeightBeforeDry\", MobileViTV2ConfidenceAddoneextrainput, savePath = \"./allModelExtraInput\", extraName = extraName)\n",
    "# safe_train_withextra(weekyDataLabel, \"totalSeedNum\", \"totalSeedWeightAfterDry\", MobileViTV2ConfidenceAddoneextrainput, savePath = \"./allModelExtraInput\", extraName = extraName)"
   ]
  },
  {
   "cell_type": "code",
   "execution_count": null,
   "metadata": {},
   "outputs": [],
   "source": [
    "# safe_train_withextra(weekyDataLabel, [\"days\", \"SPAD\"], \"LAI\", MobileViTV2ConfidenceAddtwoextrainput, savePath = \"./allModelExtraInput\", extraName = extraName)\n",
    "# safe_train_withextra(weekyDataLabel, [\"days\", \"LAI\"], \"SPAD\", MobileViTV2ConfidenceAddtwoextrainput, savePath = \"./allModelExtraInput\", extraName = extraName)\n",
    "# safe_train_withextra(weekyDataLabel, [\"SPAD\", \"LAI\"], \"Height\", MobileViTV2ConfidenceAddtwoextrainput, savePath = \"./allModelExtraInput\", extraName = extraName)\n",
    "# safe_train_withextra(weekyDataLabel, [\"days\", \"SPAD\"], \"Height\", MobileViTV2ConfidenceAddtwoextrainput, savePath = \"./allModelExtraInput\", extraName = extraName)"
   ]
  },
  {
   "cell_type": "markdown",
   "metadata": {},
   "source": [
    "EfficientNetV2M"
   ]
  },
  {
   "cell_type": "code",
   "execution_count": null,
   "metadata": {},
   "outputs": [],
   "source": [
    "# safe_train_noextra(weekyDataLabel, weekyData[0], EfficientNetV2MWheatModelWithConfidence, savePath = \"./allModel\", extraName = extraName)\n",
    "# safe_train_noextra(weekyDataLabel, weekyData[1], EfficientNetV2MWheatModelWithConfidence, savePath = \"./allModel\", extraName = extraName)\n",
    "# safe_train_noextra(weekyDataLabel, weekyData[2], EfficientNetV2MWheatModelWithConfidence, savePath = \"./allModel\", extraName = extraName)\n",
    "# safe_train_noextra(weekyDataLabel, weekyData[3], EfficientNetV2MWheatModelWithConfidence, savePath = \"./allModel\", extraName = extraName)\n",
    "# safe_train_noextra(weekyDataLabel, weekyData[4], EfficientNetV2MWheatModelWithConfidence, savePath = \"./allModel\", extraName = extraName)\n",
    "# safe_train_noextra(resultDataLabel, resultData[0], EfficientNetV2MWheatModelWithConfidence, savePath = \"./allModel\", extraName = extraName)\n",
    "# safe_train_noextra(resultDataLabel, resultData[1], EfficientNetV2MWheatModelWithConfidence, savePath = \"./allModel\", extraName = extraName)\n",
    "# safe_train_noextra(resultDataLabel, resultData[2], EfficientNetV2MWheatModelWithConfidence, savePath = \"./allModel\", extraName = extraName)\n",
    "# safe_train_noextra(resultDataLabel, resultData[3], EfficientNetV2MWheatModelWithConfidence, savePath = \"./allModel\", extraName = extraName)\n",
    "# safe_train_noextra(resultDataLabel, resultData[4], EfficientNetV2MWheatModelWithConfidence, savePath = \"./allModel\", extraName = extraName)\n",
    "# safe_train_noextra(resultDataLabel, resultData[5], EfficientNetV2MWheatModelWithConfidence, savePath = \"./allModel\", extraName = extraName)\n",
    "# safe_train_noextra(resultDataLabel, resultData[6], EfficientNetV2MWheatModelWithConfidence, savePath = \"./allModel\", extraName = extraName)\n",
    "# safe_train_noextra(resultDataLabel, resultData[7], EfficientNetV2MWheatModelWithConfidence, savePath = \"./allModel\", extraName = extraName)\n",
    "# safe_train_noextra(dateDataLabelAll, \"days\", EfficientNetV2MWheatModelWithConfidence, savePath = \"./allModel\", extraName = \"noERR\")\n",
    "# safe_train_noextra(dateDataLabelFrom3, \"days\", EfficientNetV2MWheatModelWithConfidence, savePath = \"./allModel\", extraName = \"from3\")\n",
    "# safe_train_noextra(dateDataLabelFrom4, \"days\", EfficientNetV2MWheatModelWithConfidence, savePath = \"./allModel\", extraName = \"from4\")"
   ]
  },
  {
   "cell_type": "code",
   "execution_count": null,
   "metadata": {},
   "outputs": [],
   "source": [
    "# safe_train_withextra(weekyDataLabel, \"days\", \"SPAD\", EfficientNetV2MConfidenceAddeonextrainput, savePath = \"./allModelExtraInput\", extraName = extraName)\n",
    "# safe_train_withextra(weekyDataLabel, \"days\", \"LAI\", EfficientNetV2MConfidenceAddeonextrainput, savePath = \"./allModelExtraInput\", extraName = extraName)\n",
    "# safe_train_withextra(weekyDataLabel, \"SPAD\", \"LAI\", EfficientNetV2MConfidenceAddeonextrainput, savePath = \"./allModelExtraInput\", extraName = extraName)\n",
    "# safe_train_withextra(weekyDataLabel, \"SPAD\", \"Height\", EfficientNetV2MConfidenceAddeonextrainput, savePath = \"./allModelExtraInput\", extraName = extraName)\n",
    "# safe_train_withextra(weekyDataLabel, \"days\", \"totEarNum\", EfficientNetV2MConfidenceAddeonextrainput, savePath = \"./allModelExtraInput\", extraName = extraName)\n",
    "# safe_train_withextra(weekyDataLabel, \"days\", \"totalSeedNum\", EfficientNetV2MConfidenceAddeonextrainput, savePath = \"./allModelExtraInput\", extraName = extraName)\n",
    "# safe_train_withextra(weekyDataLabel, \"totEarNum\", \"totEarWeight\", EfficientNetV2MConfidenceAddeonextrainput, savePath = \"./allModelExtraInput\", extraName = extraName)\n",
    "# safe_train_withextra(weekyDataLabel, \"totEarWeight\", \"totEarNum\", EfficientNetV2MConfidenceAddeonextrainput, savePath = \"./allModelExtraInput\", extraName = extraName)\n",
    "# safe_train_withextra(weekyDataLabel, \"totalSeedNum\", \"totalSeedWeightBeforeDry\", EfficientNetV2MConfidenceAddeonextrainput, savePath = \"./allModelExtraInput\", extraName = extraName)\n",
    "# safe_train_withextra(weekyDataLabel, \"totalSeedNum\", \"totalSeedWeightAfterDry\", EfficientNetV2MConfidenceAddeonextrainput, savePath = \"./allModelExtraInput\", extraName = extraName)"
   ]
  },
  {
   "cell_type": "code",
   "execution_count": null,
   "metadata": {},
   "outputs": [],
   "source": [
    "# safe_train_withextra(weekyDataLabel, [\"days\", \"SPAD\"], \"LAI\", EfficientNetV2MConfidenceAdd2Inputs, savePath = \"./allModelExtraInput\", extraName = extraName)\n",
    "# safe_train_withextra(weekyDataLabel, [\"days\", \"LAI\"], \"SPAD\", EfficientNetV2MConfidenceAdd2Inputs, savePath = \"./allModelExtraInput\", extraName = extraName)\n",
    "# safe_train_withextra(weekyDataLabel, [\"SPAD\", \"LAI\"], \"Height\", EfficientNetV2MConfidenceAdd2Inputs, savePath = \"./allModelExtraInput\", extraName = extraName)\n",
    "# safe_train_withextra(weekyDataLabel, [\"days\", \"SPAD\"], \"Height\", EfficientNetV2MConfidenceAdd2Inputs, savePath = \"./allModelExtraInput\", extraName = extraName)"
   ]
  },
  {
   "cell_type": "markdown",
   "metadata": {},
   "source": [
    "RepVGG"
   ]
  },
  {
   "cell_type": "code",
   "execution_count": null,
   "metadata": {},
   "outputs": [],
   "source": [
    "# safe_train_noextra(weekyDataLabel, weekyData[0], RepVGGB1g4Model, savePath = \"./allModel\", extraName = extraName)\n",
    "# safe_train_noextra(weekyDataLabel, weekyData[1], RepVGGB1g4Model, savePath = \"./allModel\", extraName = extraName)\n",
    "# safe_train_noextra(weekyDataLabel, weekyData[2], RepVGGB1g4Model, savePath = \"./allModel\", extraName = extraName)\n",
    "# safe_train_noextra(weekyDataLabel, weekyData[3], RepVGGB1g4Model, savePath = \"./allModel\", extraName = extraName)\n",
    "# safe_train_noextra(weekyDataLabel, weekyData[4], RepVGGB1g4Model, savePath = \"./allModel\", extraName = extraName)\n",
    "# safe_train_noextra(resultDataLabel, resultData[0], RepVGGB1g4Model, savePath = \"./allModel\", extraName = extraName)\n",
    "# safe_train_noextra(resultDataLabel, resultData[1], RepVGGB1g4Model, savePath = \"./allModel\", extraName = extraName)\n",
    "# safe_train_noextra(resultDataLabel, resultData[2], RepVGGB1g4Model, savePath = \"./allModel\", extraName = extraName)\n",
    "# safe_train_noextra(resultDataLabel, resultData[3], RepVGGB1g4Model, savePath = \"./allModel\", extraName = extraName)\n",
    "# safe_train_noextra(resultDataLabel, resultData[4], RepVGGB1g4Model, savePath = \"./allModel\", extraName = extraName)\n",
    "# safe_train_noextra(resultDataLabel, resultData[5], RepVGGB1g4Model, savePath = \"./allModel\", extraName = extraName)\n",
    "# safe_train_noextra(resultDataLabel, resultData[6], RepVGGB1g4Model, savePath = \"./allModel\", extraName = extraName)\n",
    "# safe_train_noextra(resultDataLabel, resultData[7], RepVGGB1g4Model, savePath = \"./allModel\", extraName = extraName)\n",
    "# safe_train_noextra(dateDataLabelAll, \"days\", RepVGGB1g4Model, savePath = \"./allModel\", extraName = \"noERR\")\n",
    "# safe_train_noextra(dateDataLabelFrom3, \"days\", RepVGGB1g4Model, savePath = \"./allModel\", extraName = \"from3\")\n",
    "# safe_train_noextra(dateDataLabelFrom4, \"days\", RepVGGB1g4Model, savePath = \"./allModel\", extraName = \"from4\")"
   ]
  },
  {
   "cell_type": "code",
   "execution_count": null,
   "metadata": {},
   "outputs": [],
   "source": [
    "# safe_train_withextra(weekyDataLabel, \"days\", \"SPAD\", RepVGGA1ConfidenceAddoneextrainput, savePath = \"./allModelExtraInput\", extraName = extraName)\n",
    "# safe_train_withextra(weekyDataLabel, \"days\", \"LAI\", RepVGGA1ConfidenceAddoneextrainput, savePath = \"./allModelExtraInput\", extraName = extraName)\n",
    "# safe_train_withextra(weekyDataLabel, \"SPAD\", \"LAI\", RepVGGA1ConfidenceAddoneextrainput, savePath = \"./allModelExtraInput\", extraName = extraName)\n",
    "# safe_train_withextra(weekyDataLabel, \"SPAD\", \"Height\", RepVGGA1ConfidenceAddoneextrainput, savePath = \"./allModelExtraInput\", extraName = extraName)\n",
    "# safe_train_withextra(weekyDataLabel, \"days\", \"totEarNum\", RepVGGA1ConfidenceAddoneextrainput, savePath = \"./allModelExtraInput\", extraName = extraName)\n",
    "# safe_train_withextra(weekyDataLabel, \"days\", \"totalSeedNum\", RepVGGA1ConfidenceAddoneextrainput, savePath = \"./allModelExtraInput\", extraName = extraName)\n",
    "# safe_train_withextra(weekyDataLabel, \"totEarNum\", \"totEarWeight\", RepVGGA1ConfidenceAddoneextrainput, savePath = \"./allModelExtraInput\", extraName = extraName)\n",
    "# safe_train_withextra(weekyDataLabel, \"totEarWeight\", \"totEarNum\", RepVGGA1ConfidenceAddoneextrainput, savePath = \"./allModelExtraInput\", extraName = extraName)\n",
    "# safe_train_withextra(weekyDataLabel, \"totalSeedNum\", \"totalSeedWeightBeforeDry\", RepVGGA1ConfidenceAddoneextrainput, savePath = \"./allModelExtraInput\", extraName = extraName)\n",
    "# safe_train_withextra(weekyDataLabel, \"totalSeedNum\", \"totalSeedWeightAfterDry\", RepVGGA1ConfidenceAddoneextrainput, savePath = \"./allModelExtraInput\", extraName = extraName)"
   ]
  },
  {
   "cell_type": "code",
   "execution_count": null,
   "metadata": {},
   "outputs": [],
   "source": [
    "# safe_train_withextra(weekyDataLabel, [\"days\", \"SPAD\"], \"LAI\", RepVGGA1ConfidenceAdd2Inputs, savePath = \"./allModelExtraInput\", extraName = extraName)\n",
    "# safe_train_withextra(weekyDataLabel, [\"days\", \"LAI\"], \"SPAD\", RepVGGA1ConfidenceAdd2Inputs, savePath = \"./allModelExtraInput\", extraName = extraName)\n",
    "# safe_train_withextra(weekyDataLabel, [\"SPAD\", \"LAI\"], \"Height\", RepVGGA1ConfidenceAdd2Inputs, savePath = \"./allModelExtraInput\", extraName = extraName)\n",
    "# safe_train_withextra(weekyDataLabel, [\"days\", \"SPAD\"], \"Height\", RepVGGA1ConfidenceAdd2Inputs, savePath = \"./allModelExtraInput\", extraName = extraName)"
   ]
  },
  {
   "cell_type": "markdown",
   "metadata": {},
   "source": [
    "ConvNeXtV2"
   ]
  },
  {
   "cell_type": "code",
   "execution_count": null,
   "metadata": {},
   "outputs": [],
   "source": [
    "# safe_train_noextra(weekyDataLabel, weekyData[0], ConvNeXtTinyWheatModelWithConfidence, savePath = \"./allModel\", extraName = extraName)\n",
    "# safe_train_noextra(weekyDataLabel, weekyData[1], ConvNeXtTinyWheatModelWithConfidence, savePath = \"./allModel\", extraName = extraName)\n",
    "# safe_train_noextra(weekyDataLabel, weekyData[2], ConvNeXtTinyWheatModelWithConfidence, savePath = \"./allModel\", extraName = extraName)\n",
    "# safe_train_noextra(weekyDataLabel, weekyData[3], ConvNeXtTinyWheatModelWithConfidence, savePath = \"./allModel\", extraName = extraName)\n",
    "# safe_train_noextra(weekyDataLabel, weekyData[4], ConvNeXtTinyWheatModelWithConfidence, savePath = \"./allModel\", extraName = extraName)\n",
    "# safe_train_noextra(resultDataLabel, resultData[0], ConvNeXtTinyWheatModelWithConfidence, savePath = \"./allModel\", extraName = extraName)\n",
    "# safe_train_noextra(resultDataLabel, resultData[1], ConvNeXtTinyWheatModelWithConfidence, savePath = \"./allModel\", extraName = extraName)\n",
    "# safe_train_noextra(resultDataLabel, resultData[2], ConvNeXtTinyWheatModelWithConfidence, savePath = \"./allModel\", extraName = extraName)\n",
    "# safe_train_noextra(resultDataLabel, resultData[3], ConvNeXtTinyWheatModelWithConfidence, savePath = \"./allModel\", extraName = extraName)\n",
    "# safe_train_noextra(resultDataLabel, resultData[4], ConvNeXtTinyWheatModelWithConfidence, savePath = \"./allModel\", extraName = extraName)\n",
    "# safe_train_noextra(resultDataLabel, resultData[5], ConvNeXtTinyWheatModelWithConfidence, savePath = \"./allModel\", extraName = extraName)\n",
    "# safe_train_noextra(resultDataLabel, resultData[6], ConvNeXtTinyWheatModelWithConfidence, savePath = \"./allModel\", extraName = extraName)\n",
    "# safe_train_noextra(resultDataLabel, resultData[7], ConvNeXtTinyWheatModelWithConfidence, savePath = \"./allModel\", extraName = extraName)\n",
    "# safe_train_noextra(dateDataLabelAll, \"days\", ConvNeXtTinyWheatModelWithConfidence, savePath = \"./allModel\", extraName = \"noERR\")\n",
    "# safe_train_noextra(dateDataLabelFrom3, \"days\", ConvNeXtTinyWheatModelWithConfidence, savePath = \"./allModel\", extraName = \"from3\")\n",
    "# safe_train_noextra(dateDataLabelFrom4, \"days\", ConvNeXtTinyWheatModelWithConfidence, savePath = \"./allModel\", extraName = \"from4\")"
   ]
  },
  {
   "cell_type": "code",
   "execution_count": null,
   "metadata": {},
   "outputs": [],
   "source": [
    "# safe_train_withextra(weekyDataLabel, \"days\", \"SPAD\", ConvNeXtTinyConfidenceAddoneextrainput, savePath = \"./allModelExtraInput\", extraName = extraName)\n",
    "# safe_train_withextra(weekyDataLabel, \"days\", \"LAI\", ConvNeXtTinyConfidenceAddoneextrainput, savePath = \"./allModelExtraInput\", extraName = extraName)\n",
    "# safe_train_withextra(weekyDataLabel, \"SPAD\", \"LAI\", ConvNeXtTinyConfidenceAddoneextrainput, savePath = \"./allModelExtraInput\", extraName = extraName)\n",
    "# safe_train_withextra(weekyDataLabel, \"SPAD\", \"Height\", ConvNeXtTinyConfidenceAddoneextrainput, savePath = \"./allModelExtraInput\", extraName = extraName)\n",
    "# safe_train_withextra(weekyDataLabel, \"days\", \"totEarNum\", ConvNeXtTinyConfidenceAddoneextrainput, savePath = \"./allModelExtraInput\", extraName = extraName)\n",
    "# safe_train_withextra(weekyDataLabel, \"days\", \"totalSeedNum\", ConvNeXtTinyConfidenceAddoneextrainput, savePath = \"./allModelExtraInput\", extraName = extraName)\n",
    "# safe_train_withextra(weekyDataLabel, \"totEarNum\", \"totEarWeight\", ConvNeXtTinyConfidenceAddoneextrainput, savePath = \"./allModelExtraInput\", extraName = extraName)\n",
    "# safe_train_withextra(weekyDataLabel, \"totEarWeight\", \"totEarNum\", ConvNeXtTinyConfidenceAddoneextrainput, savePath = \"./allModelExtraInput\", extraName = extraName)\n",
    "# safe_train_withextra(weekyDataLabel, \"totalSeedNum\", \"totalSeedWeightBeforeDry\", ConvNeXtTinyConfidenceAddoneextrainput, savePath = \"./allModelExtraInput\", extraName = extraName)\n",
    "# safe_train_withextra(weekyDataLabel, \"totalSeedNum\", \"totalSeedWeightAfterDry\", ConvNeXtTinyConfidenceAddoneextrainput, savePath = \"./allModelExtraInput\", extraName = extraName)"
   ]
  },
  {
   "cell_type": "code",
   "execution_count": null,
   "metadata": {},
   "outputs": [],
   "source": [
    "# safe_train_withextra(weekyDataLabel, [\"days\", \"SPAD\"], \"LAI\", ConvNeXtTinyConfidenceAddtwoextrainput, savePath = \"./allModelExtraInput\", extraName = extraName)\n",
    "# safe_train_withextra(weekyDataLabel, [\"days\", \"LAI\"], \"SPAD\", ConvNeXtTinyConfidenceAddtwoextrainput, savePath = \"./allModelExtraInput\", extraName = extraName)\n",
    "# safe_train_withextra(weekyDataLabel, [\"SPAD\", \"LAI\"], \"Height\", ConvNeXtTinyConfidenceAddtwoextrainput, savePath = \"./allModelExtraInput\", extraName = extraName)\n",
    "# safe_train_withextra(weekyDataLabel, [\"days\", \"SPAD\"], \"Height\", ConvNeXtTinyConfidenceAddtwoextrainput, savePath = \"./allModelExtraInput\", extraName = extraName)"
   ]
  },
  {
   "cell_type": "markdown",
   "metadata": {},
   "source": [
    "MobileOne"
   ]
  },
  {
   "cell_type": "code",
   "execution_count": null,
   "metadata": {},
   "outputs": [],
   "source": [
    "# safe_train_noextra(weekyDataLabel, weekyData[0], MobileOneConfidence, savePath = \"./allModel\", extraName = extraName)\n",
    "# safe_train_noextra(weekyDataLabel, weekyData[1], MobileOneConfidence, savePath = \"./allModel\", extraName = extraName)\n",
    "# safe_train_noextra(weekyDataLabel, weekyData[2], MobileOneConfidence, savePath = \"./allModel\", extraName = extraName)\n",
    "# safe_train_noextra(weekyDataLabel, weekyData[3], MobileOneConfidence, savePath = \"./allModel\", extraName = extraName)\n",
    "# safe_train_noextra(weekyDataLabel, weekyData[4], MobileOneConfidence, savePath = \"./allModel\", extraName = extraName)\n",
    "# safe_train_noextra(resultDataLabel, resultData[0], MobileOneConfidence, savePath = \"./allModel\", extraName = extraName)\n",
    "# safe_train_noextra(resultDataLabel, resultData[1], MobileOneConfidence, savePath = \"./allModel\", extraName = extraName)\n",
    "# safe_train_noextra(resultDataLabel, resultData[2], MobileOneConfidence, savePath = \"./allModel\", extraName = extraName)\n",
    "# safe_train_noextra(resultDataLabel, resultData[3], MobileOneConfidence, savePath = \"./allModel\", extraName = extraName)\n",
    "# safe_train_noextra(resultDataLabel, resultData[4], MobileOneConfidence, savePath = \"./allModel\", extraName = extraName)\n",
    "# safe_train_noextra(resultDataLabel, resultData[5], MobileOneConfidence, savePath = \"./allModel\", extraName = extraName)\n",
    "# safe_train_noextra(resultDataLabel, resultData[6], MobileOneConfidence, savePath = \"./allModel\", extraName = extraName)\n",
    "# safe_train_noextra(resultDataLabel, resultData[7], MobileOneConfidence, savePath = \"./allModel\", extraName = extraName)\n",
    "# safe_train_noextra(dateDataLabelAll, \"days\", MobileOneConfidence, savePath = \"./allModel\", extraName = \"noERR\")\n",
    "# safe_train_noextra(dateDataLabelFrom3, \"days\", MobileOneConfidence, savePath = \"./allModel\", extraName = \"from3\")\n",
    "# safe_train_noextra(dateDataLabelFrom4, \"days\", MobileOneConfidence, savePath = \"./allModel\", extraName = \"from4\")"
   ]
  },
  {
   "cell_type": "code",
   "execution_count": null,
   "metadata": {},
   "outputs": [],
   "source": [
    "# safe_train_withextra(weekyDataLabel, \"days\", \"SPAD\", MobileOneConfidenceAddoneextrainput, savePath = \"./allModelExtraInput\", extraName = extraName)\n",
    "# safe_train_withextra(weekyDataLabel, \"days\", \"LAI\", MobileOneConfidenceAddoneextrainput, savePath = \"./allModelExtraInput\", extraName = extraName)\n",
    "# safe_train_withextra(weekyDataLabel, \"SPAD\", \"LAI\", MobileOneConfidenceAddoneextrainput, savePath = \"./allModelExtraInput\", extraName = extraName)\n",
    "# safe_train_withextra(weekyDataLabel, \"SPAD\", \"Height\", MobileOneConfidenceAddoneextrainput, savePath = \"./allModelExtraInput\", extraName = extraName)\n",
    "# safe_train_withextra(weekyDataLabel, \"days\", \"totEarNum\", MobileOneConfidenceAddoneextrainput, savePath = \"./allModelExtraInput\", extraName = extraName)\n",
    "# safe_train_withextra(weekyDataLabel, \"days\", \"totalSeedNum\", MobileOneConfidenceAddoneextrainput, savePath = \"./allModelExtraInput\", extraName = extraName)\n",
    "# safe_train_withextra(weekyDataLabel, \"totEarNum\", \"totEarWeight\", MobileOneConfidenceAddoneextrainput, savePath = \"./allModelExtraInput\", extraName = extraName)\n",
    "# safe_train_withextra(weekyDataLabel, \"totEarWeight\", \"totEarNum\", MobileOneConfidenceAddoneextrainput, savePath = \"./allModelExtraInput\", extraName = extraName)\n",
    "# safe_train_withextra(weekyDataLabel, \"totalSeedNum\", \"totalSeedWeightBeforeDry\", MobileOneConfidenceAddoneextrainput, savePath = \"./allModelExtraInput\", extraName = extraName)\n",
    "# safe_train_withextra(weekyDataLabel, \"totalSeedNum\", \"totalSeedWeightAfterDry\", MobileOneConfidenceAddoneextrainput, savePath = \"./allModelExtraInput\", extraName = extraName)"
   ]
  },
  {
   "cell_type": "code",
   "execution_count": null,
   "metadata": {},
   "outputs": [],
   "source": [
    "# safe_train_withextra(weekyDataLabel, [\"days\", \"SPAD\"], \"LAI\", MobileOneConfidenceAddtwoextrainput, savePath = \"./allModelExtraInput\", extraName = extraName)\n",
    "# safe_train_withextra(weekyDataLabel, [\"days\", \"LAI\"], \"SPAD\", MobileOneConfidenceAddtwoextrainput, savePath = \"./allModelExtraInput\", extraName = extraName)\n",
    "# safe_train_withextra(weekyDataLabel, [\"SPAD\", \"LAI\"], \"Height\", MobileOneConfidenceAddtwoextrainput, savePath = \"./allModelExtraInput\", extraName = extraName)\n",
    "# safe_train_withextra(weekyDataLabel, [\"days\", \"SPAD\"], \"Height\", MobileOneConfidenceAddtwoextrainput, savePath = \"./allModelExtraInput\", extraName = extraName)"
   ]
  },
  {
   "cell_type": "markdown",
   "metadata": {},
   "source": [
    "MaxViT"
   ]
  },
  {
   "cell_type": "code",
   "execution_count": null,
   "metadata": {},
   "outputs": [],
   "source": [
    "# safe_train_noextra(weekyDataLabel, weekyData[0], MaxViTConfidenceModel, savePath = \"./allModel\", extraName = extraName)\n",
    "# safe_train_noextra(weekyDataLabel, weekyData[1], MaxViTConfidenceModel, savePath = \"./allModel\", extraName = extraName)\n",
    "# safe_train_noextra(weekyDataLabel, weekyData[2], MaxViTConfidenceModel, savePath = \"./allModel\", extraName = extraName)\n",
    "# safe_train_noextra(weekyDataLabel, weekyData[3], MaxViTConfidenceModel, savePath = \"./allModel\", extraName = extraName)\n",
    "# safe_train_noextra(weekyDataLabel, weekyData[4], MaxViTConfidenceModel, savePath = \"./allModel\", extraName = extraName)\n",
    "# safe_train_noextra(resultDataLabel, resultData[0], MaxViTConfidenceModel, savePath = \"./allModel\", extraName = extraName)\n",
    "# safe_train_noextra(resultDataLabel, resultData[1], MaxViTConfidenceModel, savePath = \"./allModel\", extraName = extraName)\n",
    "# safe_train_noextra(resultDataLabel, resultData[2], MaxViTConfidenceModel, savePath = \"./allModel\", extraName = extraName)\n",
    "# safe_train_noextra(resultDataLabel, resultData[3], MaxViTConfidenceModel, savePath = \"./allModel\", extraName = extraName)\n",
    "# safe_train_noextra(resultDataLabel, resultData[4], MaxViTConfidenceModel, savePath = \"./allModel\", extraName = extraName)\n",
    "# safe_train_noextra(resultDataLabel, resultData[5], MaxViTConfidenceModel, savePath = \"./allModel\", extraName = extraName)\n",
    "# safe_train_noextra(resultDataLabel, resultData[6], MaxViTConfidenceModel, savePath = \"./allModel\", extraName = extraName)\n",
    "# safe_train_noextra(resultDataLabel, resultData[7], MaxViTConfidenceModel, savePath = \"./allModel\", extraName = extraName)\n",
    "# safe_train_noextra(dateDataLabelAll, \"days\", MaxViTConfidenceModel, savePath = \"./allModel\", extraName = \"noERR\")\n",
    "# safe_train_noextra(dateDataLabelFrom3, \"days\", MaxViTConfidenceModel, savePath = \"./allModel\", extraName = \"from3\")\n",
    "# safe_train_noextra(dateDataLabelFrom4, \"days\", MaxViTConfidenceModel, savePath = \"./allModel\", extraName = \"from4\")"
   ]
  },
  {
   "cell_type": "code",
   "execution_count": null,
   "metadata": {},
   "outputs": [],
   "source": [
    "# safe_train_withextra(weekyDataLabel, \"days\", \"SPAD\", MaxViTConfidenceAddoneextrainput, savePath = \"./allModelExtraInput\", extraName = extraName)\n",
    "# safe_train_withextra(weekyDataLabel, \"days\", \"LAI\", MaxViTConfidenceAddoneextrainput, savePath = \"./allModelExtraInput\", extraName = extraName)\n",
    "# safe_train_withextra(weekyDataLabel, \"SPAD\", \"LAI\", MaxViTConfidenceAddoneextrainput, savePath = \"./allModelExtraInput\", extraName = extraName)\n",
    "# safe_train_withextra(weekyDataLabel, \"SPAD\", \"Height\", MaxViTConfidenceAddoneextrainput, savePath = \"./allModelExtraInput\", extraName = extraName)\n",
    "# safe_train_withextra(weekyDataLabel, \"days\", \"totEarNum\", MaxViTConfidenceAddoneextrainput, savePath = \"./allModelExtraInput\", extraName = extraName)\n",
    "# safe_train_withextra(weekyDataLabel, \"days\", \"totalSeedNum\", MaxViTConfidenceAddoneextrainput, savePath = \"./allModelExtraInput\", extraName = extraName)\n",
    "# safe_train_withextra(weekyDataLabel, \"totEarNum\", \"totEarWeight\", MaxViTConfidenceAddoneextrainput, savePath = \"./allModelExtraInput\", extraName = extraName)\n",
    "# safe_train_withextra(weekyDataLabel, \"totEarWeight\", \"totEarNum\", MaxViTConfidenceAddoneextrainput, savePath = \"./allModelExtraInput\", extraName = extraName)\n",
    "# safe_train_withextra(weekyDataLabel, \"totalSeedNum\", \"totalSeedWeightBeforeDry\", MaxViTConfidenceAddoneextrainput, savePath = \"./allModelExtraInput\", extraName = extraName)\n",
    "# safe_train_withextra(weekyDataLabel, \"totalSeedNum\", \"totalSeedWeightAfterDry\", MaxViTConfidenceAddoneextrainput, savePath = \"./allModelExtraInput\", extraName = extraName)"
   ]
  },
  {
   "cell_type": "code",
   "execution_count": null,
   "metadata": {},
   "outputs": [],
   "source": [
    "# safe_train_withextra(weekyDataLabel, [\"days\", \"SPAD\"], \"LAI\", MaxViTConfidenceAddtwoextrainput, savePath = \"./allModelExtraInput\", extraName = extraName)\n",
    "# safe_train_withextra(weekyDataLabel, [\"days\", \"LAI\"], \"SPAD\", MaxViTConfidenceAddtwoextrainput, savePath = \"./allModelExtraInput\", extraName = extraName)\n",
    "# safe_train_withextra(weekyDataLabel, [\"SPAD\", \"LAI\"], \"Height\", MaxViTConfidenceAddtwoextrainput, savePath = \"./allModelExtraInput\", extraName = extraName)\n",
    "# safe_train_withextra(weekyDataLabel, [\"days\", \"SPAD\"], \"Height\", MaxViTConfidenceAddtwoextrainput, savePath = \"./allModelExtraInput\", extraName = extraName)"
   ]
  },
  {
   "cell_type": "markdown",
   "metadata": {},
   "source": [
    "CoAtNet"
   ]
  },
  {
   "cell_type": "code",
   "execution_count": null,
   "metadata": {},
   "outputs": [],
   "source": [
    "# safe_train_noextra(weekyDataLabel, weekyData[0], CoAtNetConfidenceModel, savePath = \"./allModel\", extraName = extraName)\n",
    "# safe_train_noextra(weekyDataLabel, weekyData[1], CoAtNetConfidenceModel, savePath = \"./allModel\", extraName = extraName)\n",
    "# safe_train_noextra(weekyDataLabel, weekyData[2], CoAtNetConfidenceModel, savePath = \"./allModel\", extraName = extraName)\n",
    "# safe_train_noextra(weekyDataLabel, weekyData[3], CoAtNetConfidenceModel, savePath = \"./allModel\", extraName = extraName)\n",
    "# safe_train_noextra(weekyDataLabel, weekyData[4], CoAtNetConfidenceModel, savePath = \"./allModel\", extraName = extraName)\n",
    "# safe_train_noextra(resultDataLabel, resultData[0], CoAtNetConfidenceModel, savePath = \"./allModel\", extraName = extraName)\n",
    "# safe_train_noextra(resultDataLabel, resultData[1], CoAtNetConfidenceModel, savePath = \"./allModel\", extraName = extraName)\n",
    "# safe_train_noextra(resultDataLabel, resultData[2], CoAtNetConfidenceModel, savePath = \"./allModel\", extraName = extraName)\n",
    "# safe_train_noextra(resultDataLabel, resultData[3], CoAtNetConfidenceModel, savePath = \"./allModel\", extraName = extraName)\n",
    "# safe_train_noextra(resultDataLabel, resultData[4], CoAtNetConfidenceModel, savePath = \"./allModel\", extraName = extraName)\n",
    "# safe_train_noextra(resultDataLabel, resultData[5], CoAtNetConfidenceModel, savePath = \"./allModel\", extraName = extraName)\n",
    "# safe_train_noextra(resultDataLabel, resultData[6], CoAtNetConfidenceModel, savePath = \"./allModel\", extraName = extraName)\n",
    "# safe_train_noextra(resultDataLabel, resultData[7], CoAtNetConfidenceModel, savePath = \"./allModel\", extraName = extraName)\n",
    "# safe_train_noextra(dateDataLabelAll, \"days\", CoAtNetConfidenceModel, savePath = \"./allModel\", extraName = \"noERR\")\n",
    "# safe_train_noextra(dateDataLabelFrom3, \"days\", CoAtNetConfidenceModel, savePath = \"./allModel\", extraName = \"from3\")\n",
    "# safe_train_noextra(dateDataLabelFrom4, \"days\", CoAtNetConfidenceModel, savePath = \"./allModel\", extraName = \"from4\")"
   ]
  },
  {
   "cell_type": "code",
   "execution_count": null,
   "metadata": {},
   "outputs": [],
   "source": [
    "# safe_train_withextra(weekyDataLabel, \"days\", \"SPAD\", CoAtNetConfidenceAddOneExtraInput, savePath = \"./allModelExtraInput\", extraName = extraName)\n",
    "# safe_train_withextra(weekyDataLabel, \"days\", \"LAI\", CoAtNetConfidenceAddOneExtraInput, savePath = \"./allModelExtraInput\", extraName = extraName)\n",
    "# safe_train_withextra(weekyDataLabel, \"SPAD\", \"LAI\", CoAtNetConfidenceAddOneExtraInput, savePath = \"./allModelExtraInput\", extraName = extraName)\n",
    "# safe_train_withextra(weekyDataLabel, \"SPAD\", \"Height\", CoAtNetConfidenceAddOneExtraInput, savePath = \"./allModelExtraInput\", extraName = extraName)\n",
    "# safe_train_withextra(weekyDataLabel, \"days\", \"totEarNum\", CoAtNetConfidenceAddOneExtraInput, savePath = \"./allModelExtraInput\", extraName = extraName)\n",
    "# safe_train_withextra(weekyDataLabel, \"days\", \"totalSeedNum\", CoAtNetConfidenceAddOneExtraInput, savePath = \"./allModelExtraInput\", extraName = extraName)\n",
    "# safe_train_withextra(weekyDataLabel, \"totEarNum\", \"totEarWeight\", CoAtNetConfidenceAddOneExtraInput, savePath = \"./allModelExtraInput\", extraName = extraName)\n",
    "# safe_train_withextra(weekyDataLabel, \"totEarWeight\", \"totEarNum\", CoAtNetConfidenceAddOneExtraInput, savePath = \"./allModelExtraInput\", extraName = extraName)\n",
    "# safe_train_withextra(weekyDataLabel, \"totalSeedNum\", \"totalSeedWeightBeforeDry\", CoAtNetConfidenceAddOneExtraInput, savePath = \"./allModelExtraInput\", extraName = extraName)\n",
    "# safe_train_withextra(weekyDataLabel, \"totalSeedNum\", \"totalSeedWeightAfterDry\", CoAtNetConfidenceAddOneExtraInput, savePath = \"./allModelExtraInput\", extraName = extraName)"
   ]
  },
  {
   "cell_type": "code",
   "execution_count": null,
   "metadata": {},
   "outputs": [],
   "source": [
    "# safe_train_withextra(weekyDataLabel, [\"days\", \"SPAD\"], \"LAI\", CoAtNetConfidenceAddTwoExtraInput, savePath = \"./allModelExtraInput\", extraName = extraName)\n",
    "# safe_train_withextra(weekyDataLabel, [\"days\", \"LAI\"], \"SPAD\", CoAtNetConfidenceAddTwoExtraInput, savePath = \"./allModelExtraInput\", extraName = extraName)\n",
    "# safe_train_withextra(weekyDataLabel, [\"SPAD\", \"LAI\"], \"Height\", CoAtNetConfidenceAddTwoExtraInput, savePath = \"./allModelExtraInput\", extraName = extraName)\n",
    "# safe_train_withextra(weekyDataLabel, [\"days\", \"SPAD\"], \"Height\", CoAtNetConfidenceAddTwoExtraInput, savePath = \"./allModelExtraInput\", extraName = extraName)"
   ]
  },
  {
   "cell_type": "markdown",
   "metadata": {},
   "source": [
    "FocalNet"
   ]
  },
  {
   "cell_type": "code",
   "execution_count": null,
   "metadata": {},
   "outputs": [],
   "source": [
    "# safe_train_noextra(weekyDataLabel, weekyData[0], FocalNetConfidenceModel, savePath = \"./allModel\", extraName = extraName)\n",
    "# safe_train_noextra(weekyDataLabel, weekyData[1], FocalNetConfidenceModel, savePath = \"./allModel\", extraName = extraName)\n",
    "# safe_train_noextra(weekyDataLabel, weekyData[2], FocalNetConfidenceModel, savePath = \"./allModel\", extraName = extraName)\n",
    "# safe_train_noextra(weekyDataLabel, weekyData[3], FocalNetConfidenceModel, savePath = \"./allModel\", extraName = extraName)\n",
    "# safe_train_noextra(weekyDataLabel, weekyData[4], FocalNetConfidenceModel, savePath = \"./allModel\", extraName = extraName)\n",
    "# safe_train_noextra(resultDataLabel, resultData[0], FocalNetConfidenceModel, savePath = \"./allModel\", extraName = extraName)\n",
    "# safe_train_noextra(resultDataLabel, resultData[1], FocalNetConfidenceModel, savePath = \"./allModel\", extraName = extraName)\n",
    "# safe_train_noextra(resultDataLabel, resultData[2], FocalNetConfidenceModel, savePath = \"./allModel\", extraName = extraName)\n",
    "# safe_train_noextra(resultDataLabel, resultData[3], FocalNetConfidenceModel, savePath = \"./allModel\", extraName = extraName)\n",
    "# safe_train_noextra(resultDataLabel, resultData[4], FocalNetConfidenceModel, savePath = \"./allModel\", extraName = extraName)\n",
    "# safe_train_noextra(resultDataLabel, resultData[5], FocalNetConfidenceModel, savePath = \"./allModel\", extraName = extraName)\n",
    "# safe_train_noextra(resultDataLabel, resultData[6], FocalNetConfidenceModel, savePath = \"./allModel\", extraName = extraName)\n",
    "# safe_train_noextra(resultDataLabel, resultData[7], FocalNetConfidenceModel, savePath = \"./allModel\", extraName = extraName)\n",
    "# safe_train_noextra(dateDataLabelAll, \"days\", FocalNetConfidenceModel, savePath = \"./allModel\", extraName = \"noERR\")\n",
    "# safe_train_noextra(dateDataLabelFrom3, \"days\", FocalNetConfidenceModel, savePath = \"./allModel\", extraName = \"from3\")\n",
    "# safe_train_noextra(dateDataLabelFrom4, \"days\", FocalNetConfidenceModel, savePath = \"./allModel\", extraName = \"from4\")"
   ]
  },
  {
   "cell_type": "code",
   "execution_count": null,
   "metadata": {},
   "outputs": [],
   "source": [
    "# safe_train_withextra(weekyDataLabel, \"days\", \"SPAD\", FocalNetConfidenceAddoneextrainput, savePath = \"./allModelExtraInput\", extraName = extraName)\n",
    "# safe_train_withextra(weekyDataLabel, \"days\", \"LAI\", FocalNetConfidenceAddoneextrainput, savePath = \"./allModelExtraInput\", extraName = extraName)\n",
    "# safe_train_withextra(weekyDataLabel, \"SPAD\", \"LAI\", FocalNetConfidenceAddoneextrainput, savePath = \"./allModelExtraInput\", extraName = extraName)\n",
    "# safe_train_withextra(weekyDataLabel, \"SPAD\", \"Height\", FocalNetConfidenceAddoneextrainput, savePath = \"./allModelExtraInput\", extraName = extraName)\n",
    "# safe_train_withextra(weekyDataLabel, \"days\", \"totEarNum\", FocalNetConfidenceAddoneextrainput, savePath = \"./allModelExtraInput\", extraName = extraName)\n",
    "# safe_train_withextra(weekyDataLabel, \"days\", \"totalSeedNum\", FocalNetConfidenceAddoneextrainput, savePath = \"./allModelExtraInput\", extraName = extraName)\n",
    "# safe_train_withextra(weekyDataLabel, \"totEarNum\", \"totEarWeight\", FocalNetConfidenceAddoneextrainput, savePath = \"./allModelExtraInput\", extraName = extraName)\n",
    "# safe_train_withextra(weekyDataLabel, \"totEarWeight\", \"totEarNum\", FocalNetConfidenceAddoneextrainput, savePath = \"./allModelExtraInput\", extraName = extraName)\n",
    "# safe_train_withextra(weekyDataLabel, \"totalSeedNum\", \"totalSeedWeightBeforeDry\", FocalNetConfidenceAddoneextrainput, savePath = \"./allModelExtraInput\", extraName = extraName)\n",
    "# safe_train_withextra(weekyDataLabel, \"totalSeedNum\", \"totalSeedWeightAfterDry\", FocalNetConfidenceAddoneextrainput, savePath = \"./allModelExtraInput\", extraName = extraName)"
   ]
  },
  {
   "cell_type": "code",
   "execution_count": null,
   "metadata": {},
   "outputs": [],
   "source": [
    "# safe_train_withextra(weekyDataLabel, [\"days\", \"SPAD\"], \"LAI\", FocalNetConfidenceAddtwoextrainput, savePath = \"./allModelExtraInput\", extraName = extraName)\n",
    "# safe_train_withextra(weekyDataLabel, [\"days\", \"LAI\"], \"SPAD\", FocalNetConfidenceAddtwoextrainput, savePath = \"./allModelExtraInput\", extraName = extraName)\n",
    "# safe_train_withextra(weekyDataLabel, [\"SPAD\", \"LAI\"], \"Height\", FocalNetConfidenceAddtwoextrainput, savePath = \"./allModelExtraInput\", extraName = extraName)\n",
    "# safe_train_withextra(weekyDataLabel, [\"days\", \"SPAD\"], \"Height\", FocalNetConfidenceAddtwoextrainput, savePath = \"./allModelExtraInput\", extraName = extraName)"
   ]
  },
  {
   "cell_type": "markdown",
   "metadata": {},
   "source": [
    "SwinV2"
   ]
  },
  {
   "cell_type": "code",
   "execution_count": null,
   "metadata": {},
   "outputs": [],
   "source": [
    "# safe_train_noextra(weekyDataLabel, weekyData[0], SwinV2ConfidenceModel, savePath = \"./allModel\", extraName = extraName)\n",
    "# safe_train_noextra(weekyDataLabel, weekyData[1], SwinV2ConfidenceModel, savePath = \"./allModel\", extraName = extraName)\n",
    "# safe_train_noextra(weekyDataLabel, weekyData[2], SwinV2ConfidenceModel, savePath = \"./allModel\", extraName = extraName)\n",
    "# safe_train_noextra(weekyDataLabel, weekyData[3], SwinV2ConfidenceModel, savePath = \"./allModel\", extraName = extraName)\n",
    "# safe_train_noextra(weekyDataLabel, weekyData[4], SwinV2ConfidenceModel, savePath = \"./allModel\", extraName = extraName)\n",
    "# safe_train_noextra(resultDataLabel, resultData[0], SwinV2ConfidenceModel, savePath = \"./allModel\", extraName = extraName)\n",
    "# safe_train_noextra(resultDataLabel, resultData[1], SwinV2ConfidenceModel, savePath = \"./allModel\", extraName = extraName)\n",
    "# safe_train_noextra(resultDataLabel, resultData[2], SwinV2ConfidenceModel, savePath = \"./allModel\", extraName = extraName)\n",
    "# safe_train_noextra(resultDataLabel, resultData[3], SwinV2ConfidenceModel, savePath = \"./allModel\", extraName = extraName)\n",
    "# safe_train_noextra(resultDataLabel, resultData[4], SwinV2ConfidenceModel, savePath = \"./allModel\", extraName = extraName)\n",
    "# safe_train_noextra(resultDataLabel, resultData[5], SwinV2ConfidenceModel, savePath = \"./allModel\", extraName = extraName)\n",
    "# safe_train_noextra(resultDataLabel, resultData[6], SwinV2ConfidenceModel, savePath = \"./allModel\", extraName = extraName)\n",
    "# safe_train_noextra(resultDataLabel, resultData[7], SwinV2ConfidenceModel, savePath = \"./allModel\", extraName = extraName)\n",
    "# safe_train_noextra(dateDataLabelAll, \"days\", SwinV2ConfidenceModel, savePath = \"./allModel\", extraName = \"noERR\")\n",
    "# safe_train_noextra(dateDataLabelFrom3, \"days\", SwinV2ConfidenceModel, savePath = \"./allModel\", extraName = \"from3\")\n",
    "# safe_train_noextra(dateDataLabelFrom4, \"days\", SwinV2ConfidenceModel, savePath = \"./allModel\", extraName = \"from4\")"
   ]
  },
  {
   "cell_type": "code",
   "execution_count": null,
   "metadata": {},
   "outputs": [],
   "source": [
    "# safe_train_withextra(weekyDataLabel, \"days\", \"SPAD\", SwinV2ConfidenceAddOneExtraInput, savePath = \"./allModelExtraInput\", extraName = extraName)\n",
    "# safe_train_withextra(weekyDataLabel, \"days\", \"LAI\", SwinV2ConfidenceAddOneExtraInput, savePath = \"./allModelExtraInput\", extraName = extraName)\n",
    "# safe_train_withextra(weekyDataLabel, \"SPAD\", \"LAI\", SwinV2ConfidenceAddOneExtraInput, savePath = \"./allModelExtraInput\", extraName = extraName)\n",
    "# safe_train_withextra(weekyDataLabel, \"SPAD\", \"Height\", SwinV2ConfidenceAddOneExtraInput, savePath = \"./allModelExtraInput\", extraName = extraName)\n",
    "# safe_train_withextra(weekyDataLabel, \"days\", \"totEarNum\", SwinV2ConfidenceAddOneExtraInput, savePath = \"./allModelExtraInput\", extraName = extraName)\n",
    "# safe_train_withextra(weekyDataLabel, \"days\", \"totalSeedNum\", SwinV2ConfidenceAddOneExtraInput, savePath = \"./allModelExtraInput\", extraName = extraName)\n",
    "# safe_train_withextra(weekyDataLabel, \"totEarNum\", \"totEarWeight\", SwinV2ConfidenceAddOneExtraInput, savePath = \"./allModelExtraInput\", extraName = extraName)\n",
    "# safe_train_withextra(weekyDataLabel, \"totEarWeight\", \"totEarNum\", SwinV2ConfidenceAddOneExtraInput, savePath = \"./allModelExtraInput\", extraName = extraName)\n",
    "# safe_train_withextra(weekyDataLabel, \"totalSeedNum\", \"totalSeedWeightBeforeDry\", SwinV2ConfidenceAddOneExtraInput, savePath = \"./allModelExtraInput\", extraName = extraName)\n",
    "# safe_train_withextra(weekyDataLabel, \"totalSeedNum\", \"totalSeedWeightAfterDry\", SwinV2ConfidenceAddOneExtraInput, savePath = \"./allModelExtraInput\", extraName = extraName)"
   ]
  },
  {
   "cell_type": "code",
   "execution_count": null,
   "metadata": {},
   "outputs": [],
   "source": [
    "# safe_train_withextra(weekyDataLabel, [\"days\", \"SPAD\"], \"LAI\", SwinV2ConfidenceAddTwoExtraInput, savePath = \"./allModelExtraInput\", extraName = extraName)\n",
    "# safe_train_withextra(weekyDataLabel, [\"days\", \"LAI\"], \"SPAD\", SwinV2ConfidenceAddTwoExtraInput, savePath = \"./allModelExtraInput\", extraName = extraName)\n",
    "# safe_train_withextra(weekyDataLabel, [\"SPAD\", \"LAI\"], \"Height\", SwinV2ConfidenceAddTwoExtraInput, savePath = \"./allModelExtraInput\", extraName = extraName)\n",
    "# safe_train_withextra(weekyDataLabel, [\"days\", \"SPAD\"], \"Height\", SwinV2ConfidenceAddTwoExtraInput, savePath = \"./allModelExtraInput\", extraName = extraName)"
   ]
  },
  {
   "cell_type": "markdown",
   "metadata": {},
   "source": [
    "EfficientFormer"
   ]
  },
  {
   "cell_type": "code",
   "execution_count": null,
   "metadata": {},
   "outputs": [],
   "source": [
    "# safe_train_noextra(weekyDataLabel, weekyData[0], EfficientFormerConfidenceModel, savePath = \"./allModel\", extraName = extraName)\n",
    "# safe_train_noextra(weekyDataLabel, weekyData[1], EfficientFormerConfidenceModel, savePath = \"./allModel\", extraName = extraName)\n",
    "# safe_train_noextra(weekyDataLabel, weekyData[2], EfficientFormerConfidenceModel, savePath = \"./allModel\", extraName = extraName)\n",
    "# safe_train_noextra(weekyDataLabel, weekyData[3], EfficientFormerConfidenceModel, savePath = \"./allModel\", extraName = extraName)\n",
    "# safe_train_noextra(weekyDataLabel, weekyData[4], EfficientFormerConfidenceModel, savePath = \"./allModel\", extraName = extraName)\n",
    "# safe_train_noextra(resultDataLabel, resultData[0], EfficientFormerConfidenceModel, savePath = \"./allModel\", extraName = extraName)\n",
    "# safe_train_noextra(resultDataLabel, resultData[1], EfficientFormerConfidenceModel, savePath = \"./allModel\", extraName = extraName)\n",
    "# safe_train_noextra(resultDataLabel, resultData[2], EfficientFormerConfidenceModel, savePath = \"./allModel\", extraName = extraName)\n",
    "# safe_train_noextra(resultDataLabel, resultData[3], EfficientFormerConfidenceModel, savePath = \"./allModel\", extraName = extraName)\n",
    "# safe_train_noextra(resultDataLabel, resultData[4], EfficientFormerConfidenceModel, savePath = \"./allModel\", extraName = extraName)\n",
    "# safe_train_noextra(resultDataLabel, resultData[5], EfficientFormerConfidenceModel, savePath = \"./allModel\", extraName = extraName)\n",
    "# safe_train_noextra(resultDataLabel, resultData[6], EfficientFormerConfidenceModel, savePath = \"./allModel\", extraName = extraName)\n",
    "# safe_train_noextra(resultDataLabel, resultData[7], EfficientFormerConfidenceModel, savePath = \"./allModel\", extraName = extraName)\n",
    "# safe_train_noextra(dateDataLabelAll, \"days\", EfficientFormerConfidenceModel, savePath = \"./allModel\", extraName = \"noERR\")\n",
    "# safe_train_noextra(dateDataLabelFrom3, \"days\", EfficientFormerConfidenceModel, savePath = \"./allModel\", extraName = \"from3\")\n",
    "# safe_train_noextra(dateDataLabelFrom4, \"days\", EfficientFormerConfidenceModel, savePath = \"./allModel\", extraName = \"from4\")"
   ]
  },
  {
   "cell_type": "code",
   "execution_count": null,
   "metadata": {},
   "outputs": [],
   "source": [
    "# safe_train_withextra(weekyDataLabel, \"days\", \"SPAD\", EfficientFormerConfidenceAddOneExtraInput, savePath = \"./allModelExtraInput\", extraName = extraName)\n",
    "# safe_train_withextra(weekyDataLabel, \"days\", \"LAI\", EfficientFormerConfidenceAddOneExtraInput, savePath = \"./allModelExtraInput\", extraName = extraName)\n",
    "# safe_train_withextra(weekyDataLabel, \"SPAD\", \"LAI\", EfficientFormerConfidenceAddOneExtraInput, savePath = \"./allModelExtraInput\", extraName = extraName)\n",
    "# safe_train_withextra(weekyDataLabel, \"SPAD\", \"Height\", EfficientFormerConfidenceAddOneExtraInput, savePath = \"./allModelExtraInput\", extraName = extraName)\n",
    "# safe_train_withextra(weekyDataLabel, \"days\", \"totEarNum\", EfficientFormerConfidenceAddOneExtraInput, savePath = \"./allModelExtraInput\", extraName = extraName)\n",
    "# safe_train_withextra(weekyDataLabel, \"days\", \"totalSeedNum\", EfficientFormerConfidenceAddOneExtraInput, savePath = \"./allModelExtraInput\", extraName = extraName)\n",
    "# safe_train_withextra(weekyDataLabel, \"totEarNum\", \"totEarWeight\", EfficientFormerConfidenceAddOneExtraInput, savePath = \"./allModelExtraInput\", extraName = extraName)\n",
    "# safe_train_withextra(weekyDataLabel, \"totEarWeight\", \"totEarNum\", EfficientFormerConfidenceAddOneExtraInput, savePath = \"./allModelExtraInput\", extraName = extraName)\n",
    "# safe_train_withextra(weekyDataLabel, \"totalSeedNum\", \"totalSeedWeightBeforeDry\", EfficientFormerConfidenceAddOneExtraInput, savePath = \"./allModelExtraInput\", extraName = extraName)\n",
    "# safe_train_withextra(weekyDataLabel, \"totalSeedNum\", \"totalSeedWeightAfterDry\", EfficientFormerConfidenceAddOneExtraInput, savePath = \"./allModelExtraInput\", extraName = extraName)"
   ]
  },
  {
   "cell_type": "code",
   "execution_count": null,
   "metadata": {},
   "outputs": [],
   "source": [
    "# safe_train_withextra(weekyDataLabel, [\"days\", \"SPAD\"], \"LAI\", EfficientFormerConfidenceAddTwoExtraInput, savePath = \"./allModelExtraInput\", extraName = extraName)\n",
    "# safe_train_withextra(weekyDataLabel, [\"days\", \"LAI\"], \"SPAD\", EfficientFormerConfidenceAddTwoExtraInput, savePath = \"./allModelExtraInput\", extraName = extraName)\n",
    "# safe_train_withextra(weekyDataLabel, [\"SPAD\", \"LAI\"], \"Height\", EfficientFormerConfidenceAddTwoExtraInput, savePath = \"./allModelExtraInput\", extraName = extraName)\n",
    "# safe_train_withextra(weekyDataLabel, [\"days\", \"SPAD\"], \"Height\", EfficientFormerConfidenceAddTwoExtraInput, savePath = \"./allModelExtraInput\", extraName = extraName)"
   ]
  },
  {
   "cell_type": "markdown",
   "metadata": {},
   "source": [
    "PoolFormer"
   ]
  },
  {
   "cell_type": "code",
   "execution_count": null,
   "metadata": {},
   "outputs": [],
   "source": [
    "# safe_train_noextra(weekyDataLabel, weekyData[0], PoolFormerConfidenceModel, savePath = \"./allModel\", extraName = extraName)\n",
    "# safe_train_noextra(weekyDataLabel, weekyData[1], PoolFormerConfidenceModel, savePath = \"./allModel\", extraName = extraName)\n",
    "# safe_train_noextra(weekyDataLabel, weekyData[2], PoolFormerConfidenceModel, savePath = \"./allModel\", extraName = extraName)\n",
    "# safe_train_noextra(weekyDataLabel, weekyData[3], PoolFormerConfidenceModel, savePath = \"./allModel\", extraName = extraName)\n",
    "# safe_train_noextra(weekyDataLabel, weekyData[4], PoolFormerConfidenceModel, savePath = \"./allModel\", extraName = extraName)\n",
    "# safe_train_noextra(resultDataLabel, resultData[0], PoolFormerConfidenceModel, savePath = \"./allModel\", extraName = extraName)\n",
    "# safe_train_noextra(resultDataLabel, resultData[1], PoolFormerConfidenceModel, savePath = \"./allModel\", extraName = extraName)\n",
    "# safe_train_noextra(resultDataLabel, resultData[2], PoolFormerConfidenceModel, savePath = \"./allModel\", extraName = extraName)\n",
    "# safe_train_noextra(resultDataLabel, resultData[3], PoolFormerConfidenceModel, savePath = \"./allModel\", extraName = extraName)\n",
    "# safe_train_noextra(resultDataLabel, resultData[4], PoolFormerConfidenceModel, savePath = \"./allModel\", extraName = extraName)\n",
    "# safe_train_noextra(resultDataLabel, resultData[5], PoolFormerConfidenceModel, savePath = \"./allModel\", extraName = extraName)\n",
    "# safe_train_noextra(resultDataLabel, resultData[6], PoolFormerConfidenceModel, savePath = \"./allModel\", extraName = extraName)\n",
    "# safe_train_noextra(resultDataLabel, resultData[7], PoolFormerConfidenceModel, savePath = \"./allModel\", extraName = extraName)\n",
    "# safe_train_noextra(dateDataLabelAll, \"days\", PoolFormerConfidenceModel, savePath = \"./allModel\", extraName = \"noERR\")\n",
    "# safe_train_noextra(dateDataLabelFrom3, \"days\", PoolFormerConfidenceModel, savePath = \"./allModel\", extraName = \"from3\")\n",
    "# safe_train_noextra(dateDataLabelFrom4, \"days\", PoolFormerConfidenceModel, savePath = \"./allModel\", extraName = \"from4\")"
   ]
  },
  {
   "cell_type": "code",
   "execution_count": null,
   "metadata": {},
   "outputs": [],
   "source": [
    "# safe_train_withextra(weekyDataLabel, \"days\", \"SPAD\", PoolFormerConfidenceAddOneExtraInput, savePath = \"./allModelExtraInput\", extraName = extraName)\n",
    "# safe_train_withextra(weekyDataLabel, \"days\", \"LAI\", PoolFormerConfidenceAddOneExtraInput, savePath = \"./allModelExtraInput\", extraName = extraName)\n",
    "# safe_train_withextra(weekyDataLabel, \"SPAD\", \"LAI\", PoolFormerConfidenceAddOneExtraInput, savePath = \"./allModelExtraInput\", extraName = extraName)\n",
    "# safe_train_withextra(weekyDataLabel, \"SPAD\", \"Height\", PoolFormerConfidenceAddOneExtraInput, savePath = \"./allModelExtraInput\", extraName = extraName)\n",
    "# safe_train_withextra(weekyDataLabel, \"days\", \"totEarNum\", PoolFormerConfidenceAddOneExtraInput, savePath = \"./allModelExtraInput\", extraName = extraName)\n",
    "# safe_train_withextra(weekyDataLabel, \"days\", \"totalSeedNum\", PoolFormerConfidenceAddOneExtraInput, savePath = \"./allModelExtraInput\", extraName = extraName)\n",
    "# safe_train_withextra(weekyDataLabel, \"totEarNum\", \"totEarWeight\", PoolFormerConfidenceAddOneExtraInput, savePath = \"./allModelExtraInput\", extraName = extraName)\n",
    "# safe_train_withextra(weekyDataLabel, \"totEarWeight\", \"totEarNum\", PoolFormerConfidenceAddOneExtraInput, savePath = \"./allModelExtraInput\", extraName = extraName)\n",
    "# safe_train_withextra(weekyDataLabel, \"totalSeedNum\", \"totalSeedWeightBeforeDry\", PoolFormerConfidenceAddOneExtraInput, savePath = \"./allModelExtraInput\", extraName = extraName)\n",
    "# safe_train_withextra(weekyDataLabel, \"totalSeedNum\", \"totalSeedWeightAfterDry\", PoolFormerConfidenceAddOneExtraInput, savePath = \"./allModelExtraInput\", extraName = extraName)"
   ]
  },
  {
   "cell_type": "code",
   "execution_count": null,
   "metadata": {},
   "outputs": [],
   "source": [
    "# safe_train_withextra(weekyDataLabel, [\"days\", \"SPAD\"], \"LAI\", PoolFormerConfidenceAddTwoExtraInput, savePath = \"./allModelExtraInput\", extraName = extraName)\n",
    "# safe_train_withextra(weekyDataLabel, [\"days\", \"LAI\"], \"SPAD\", PoolFormerConfidenceAddTwoExtraInput, savePath = \"./allModelExtraInput\", extraName = extraName)\n",
    "# safe_train_withextra(weekyDataLabel, [\"SPAD\", \"LAI\"], \"Height\", PoolFormerConfidenceAddTwoExtraInput, savePath = \"./allModelExtraInput\", extraName = extraName)\n",
    "# safe_train_withextra(weekyDataLabel, [\"days\", \"SPAD\"], \"Height\", PoolFormerConfidenceAddTwoExtraInput, savePath = \"./allModelExtraInput\", extraName = extraName)"
   ]
  },
  {
   "cell_type": "code",
   "execution_count": null,
   "metadata": {},
   "outputs": [],
   "source": []
  }
 ],
 "metadata": {
  "kernelspec": {
   "display_name": "Python 3",
   "language": "python",
   "name": "python3"
  },
  "language_info": {
   "codemirror_mode": {
    "name": "ipython",
    "version": 3
   },
   "file_extension": ".py",
   "mimetype": "text/x-python",
   "name": "python",
   "nbconvert_exporter": "python",
   "pygments_lexer": "ipython3",
   "version": "3.10.10"
  }
 },
 "nbformat": 4,
 "nbformat_minor": 2
}
