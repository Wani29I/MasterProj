{
 "cells": [
  {
   "cell_type": "code",
   "execution_count": 1,
   "metadata": {},
   "outputs": [
    {
     "name": "stderr",
     "output_type": "stream",
     "text": [
      "/Users/ice/.pyenv/versions/3.10.10/lib/python3.10/site-packages/tqdm/auto.py:21: TqdmWarning: IProgress not found. Please update jupyter and ipywidgets. See https://ipywidgets.readthedocs.io/en/stable/user_install.html\n",
      "  from .autonotebook import tqdm as notebook_tqdm\n"
     ]
    }
   ],
   "source": [
    "import os\n",
    "import sys\n",
    "# Get current working directory instead of __file__\n",
    "sys.path.append(os.path.abspath(os.path.join(os.getcwd(), \"..\")))\n",
    "from ModelArchitecture.ConvNeXtTinyModel import ConvNeXtTinyWheatModelWithConfidence\n",
    "from ModelArchitecture.DenseNetModel import DenseNet121WheatModel\n",
    "from ModelArchitecture.EfficientNetV2Model import EfficientNetV2SWheatCountWithConfidence\n",
    "from ModelArchitecture.RepVGGA1Model import RepVGGA1WheatModelWithConfidence\n",
    "from ModelArchitecture.EfficientNetV2MModel import EfficientNetV2MWheatModelWithConfidence\n",
    "from ModelArchitecture.RepVGGB1g4Model import RepVGGB1g4Model\n",
    "from ModelArchitecture.RegNetY8GFModel import RegNetY8GFModel\n",
    "from ModelArchitecture.MobileViTV2Model import MobileViTV2WheatModel\n",
    "from ModelArchitecture.MobileViTV2AddoneextrainputModel import MobileViTV2ConfidenceAddoneextrainput\n",
    "from ModelArchitecture.ConvNeXtTinyAddoneextrainputModel import ConvNeXtTinyConfidenceAddoneextrainput\n",
    "from ModelArchitecture.EfficientNetV2SAddextrainputModel import EfficientNetV2SConfidenceAddoneextrainput, EfficientNetV2SConfidenceAdd2Inputs\n",
    "from ModelArchitecture.DenseNetAddextrainputModel import DenseNetConfidenceAddoneextrainput, DenseNetConfidenceAdd2Inputs\n",
    "from ModelArchitecture.RepVGGA1AddextrainputModel import RepVGGA1ConfidenceAddoneextrainput, RepVGGA1ConfidenceAdd2Inputs\n",
    "from ModelArchitecture.EfficientNetV2MAddextrainputModel import EfficientNetV2MConfidenceAddeonextrainput, EfficientNetV2MConfidenceAdd2Inputs\n",
    "from ModelArchitecture.RegNetY8GFAddextrainputModel import RegNetY8GFConfidenceAddoneextrainput, RegNetYConfidenceAdd2Inputs\n",
    "from modelFunc import setAndTrainModel, setAndTrainModel_addextrainput"
   ]
  },
  {
   "cell_type": "code",
   "execution_count": 2,
   "metadata": {},
   "outputs": [],
   "source": [
    "# setAndTrainModel(\"./WheatEarCount/DataKey_RGB_DSM_totEarNum.csv\", \"totEarNum\", EfficientNetV2SWheatCountWithConfidence, \"./WheatEarCount/ResultModelWheatEarCount\")\n",
    "# setAndTrainModel(\"./WheatEarCount/DataKey_RGB_DSM_totEarNum.csv\", \"totEarNum\", ConvNeXtTinyWheatModelWithConfidence, \"./WheatEarCount/ResultModelWheatEarCount\")\n",
    "# setAndTrainModel(\"./WheatEarCount/DataKey_RGB_DSM_totEarNum.csv\", \"totEarNum\", RepVGGA1WheatModelWithConfidence, \"./WheatEarCount/ResultModelWheatEarCount\")\n",
    "# setAndTrainModel(\"./WheatEarCount/DataKey_RGB_DSM_totEarNum.csv\", \"totEarNum\", DenseNet121WheatModel, \"./WheatEarCount/ResultModelWheatEarCount\")\n",
    "# setAndTrainModel(\"./SPAD/DataKey_RGB_DSM_SPAD.csv\", \"SPAD\", EfficientNetV2SWheatCountWithConfidence, \"./SPAD/ResultModelSPAD\")\n",
    "# setAndTrainModel(\"./SPAD/DataKey_RGB_DSM_SPAD.csv\", \"SPAD\", ConvNeXtTinyWheatModelWithConfidence, \"./SPAD/ResultModelSPAD\")\n",
    "# setAndTrainModel(\"./SPAD/DataKey_RGB_DSM_SPAD.csv\", \"SPAD\", RepVGGA1WheatModelWithConfidence, \"./SPAD/ResultModelSPAD\")\n",
    "# setAndTrainModel(\"./SPAD/DataKey_RGB_DSM_SPAD.csv\", \"SPAD\", DenseNet121WheatModel, \"./SPAD/ResultModelSPAD\")\n",
    "# setAndTrainModel(\"./LAI/DataKey_RGB_DSM_LAI.csv\", \"LAI\", EfficientNetV2SWheatCountWithConfidence, \"./LAI/ResultModelLAI\")\n",
    "# setAndTrainModel(\"./LAI/DataKey_RGB_DSM_LAI.csv\", \"LAI\", ConvNeXtTinyWheatModelWithConfidence, \"./LAI/ResultModelLAI\")\n",
    "# setAndTrainModel(\"./LAI/DataKey_RGB_DSM_LAI.csv\", \"LAI\", RepVGGA1WheatModelWithConfidence, \"./LAI/ResultModelLAI\")\n",
    "# setAndTrainModel(\"./LAI/DataKey_RGB_DSM_LAI.csv\", \"LAI\", DenseNet121WheatModel, \"./LAI/ResultModelLAI\")\n",
    "# setAndTrainModel(\"./EarWeight/DataKey_RGB_DSM_totEarWeight.csv\", \"totEarWeight\", EfficientNetV2SWheatCountWithConfidence, \"./EarWeight/ResultModelEarWeight\")\n",
    "# setAndTrainModel(\"./EarWeight/DataKey_RGB_DSM_totEarWeight.csv\", \"totEarWeight\", ConvNeXtTinyWheatModelWithConfidence, \"./EarWeight/ResultModelEarWeight\")\n",
    "# setAndTrainModel(\"./EarWeight/DataKey_RGB_DSM_totEarWeight.csv\", \"totEarWeight\", RepVGGA1WheatModelWithConfidence, \"./EarWeight/ResultModelEarWeight\")\n",
    "# setAndTrainModel(\"./EarWeight/DataKey_RGB_DSM_totEarWeight.csv\", \"totEarWeight\", DenseNet121WheatModel, \"./EarWeight/ResultModelEarWeight\")\n",
    "# setAndTrainModel(\"./AverageEarSize/DataKey_RGB_DSM_avgEarSize.csv\", \"avgEarSize\", EfficientNetV2SWheatCountWithConfidence, \"./AverageEarSize/ResultModelAverageEarSize\")\n",
    "# setAndTrainModel(\"./AverageEarSize/DataKey_RGB_DSM_avgEarSize.csv\", \"avgEarSize\", ConvNeXtTinyWheatModelWithConfidence, \"./AverageEarSize/ResultModelAverageEarSize\")\n",
    "# setAndTrainModel(\"./AverageEarSize/DataKey_RGB_DSM_avgEarSize.csv\", \"avgEarSize\", RepVGGA1WheatModelWithConfidence, \"./AverageEarSize/ResultModelAverageEarSize\")\n",
    "# setAndTrainModel(\"./AverageEarSize/DataKey_RGB_DSM_avgEarSize.csv\", \"avgEarSize\", DenseNet121WheatModel, \"./AverageEarSize/ResultModelAverageEarSize\")\n",
    "# setAndTrainModel_addextrainput(\"./WheatEarCount/DataKey_RGB_DSM_totEarWeight_totEarNum.csv\", \"totEarWeight\", \"totEarNum\", EfficientNetV2SConfidenceAddoneextrainput, \"./WheatEarCount/ResultModelWheatEarCount\")\n",
    "# setAndTrainModel_addextrainput(\"./WheatEarCount/DataKey_RGB_DSM_totEarWeight_totEarNum.csv\", \"totEarWeight\", \"totEarNum\", DenseNetConfidenceAddoneextrainput, \"./WheatEarCount/ResultModelWheatEarCount\")\n",
    "# setAndTrainModel_addextrainput(\"./WheatEarCount/DataKey_RGB_DSM_totEarWeight_totEarNum.csv\", \"totEarWeight\", \"totEarNum\", RepVGGA1ConfidenceAddoneextrainput, \"./WheatEarCount/ResultModelWheatEarCount\")\n",
    "# setAndTrainModel_addextrainput(\"./WheatEarCount/DataKey_RGB_DSM_totEarWeight_totEarNum.csv\", \"totEarWeight\", \"totEarNum\", EfficientNetV2MConfidenceAddeonextrainput, \"./WheatEarCount/ResultModelWheatEarCount\")\n",
    "# setAndTrainModel(\"./WheatEarCount/DataKey_RGB_DSM_totEarNum.csv\", \"totEarNum\", EfficientNetV2MWheatModelWithConfidence, \"./WheatEarCount/ResultModelWheatEarCount\")\n",
    "# setAndTrainModel(\"./WheatEarCount/DataKey_RGB_DSM_totEarNum.csv\", \"totEarNum\", RepVGGB1g4Model, \"./WheatEarCount/ResultModelWheatEarCount\")\n",
    "# setAndTrainModel(\"./WheatEarCount/DataKey_RGB_DSM_totEarNum.csv\", \"totEarNum\", RegNetY8GFModel, \"./WheatEarCount/ResultModelWheatEarCount\")\n",
    "# setAndTrainModel_addextrainput(\"./SPAD/DataKey_RGB_DSM_SPAD_time.csv\", \"time\", \"SPAD\", EfficientNetV2SConfidenceAddoneextrainput, \"./SPAD/ResultModelSPAD\")\n",
    "# setAndTrainModel_addextrainput(\"./SPAD/DataKey_RGB_DSM_SPAD_time.csv\", \"time\", \"SPAD\", DenseNetConfidenceAddoneextrainput, \"./SPAD/ResultModelSPAD\")\n",
    "# setAndTrainModel_addextrainput(\"./SPAD/DataKey_RGB_DSM_SPAD_time.csv\", \"time\", \"SPAD\", RepVGGA1ConfidenceAddoneextrainput, \"./SPAD/ResultModelSPAD\")\n",
    "# setAndTrainModel_addextrainput(\"./SPAD/DataKey_RGB_DSM_SPAD_time.csv\", \"time\", \"SPAD\", EfficientNetV2MConfidenceAddeonextrainput, \"./SPAD/ResultModelSPAD\")\n",
    "# setAndTrainModel(\"./SPAD/DataKey_RGB_DSM_SPAD.csv\", \"SPAD\", EfficientNetV2MWheatModelWithConfidence, \"./SPAD/ResultModelSPAD\")\n",
    "# setAndTrainModel(\"./SPAD/DataKey_RGB_DSM_SPAD.csv\", \"SPAD\", RepVGGB1g4Model, \"./SPAD/ResultModelSPAD\")\n",
    "# setAndTrainModel(\"./SPAD/DataKey_RGB_DSM_SPAD.csv\", \"SPAD\", RegNetY8GFModel, \"./SPAD/ResultModelSPAD\")\n",
    "# setAndTrainModel_addextrainput(\"./LAI/DataKey_RGB_DSM_totEarWeight_LAI.csv\", \"totEarWeight\", \"LAI\", EfficientNetV2SConfidenceAddoneextrainput, \"./LAI/ResultModelLAI\")\n",
    "# setAndTrainModel_addextrainput(\"./LAI/DataKey_RGB_DSM_totEarWeight_LAI.csv\", \"totEarWeight\", \"LAI\", DenseNetConfidenceAddoneextrainput, \"./LAI/ResultModelLAI\")\n",
    "# setAndTrainModel_addextrainput(\"./LAI/DataKey_RGB_DSM_totEarWeight_LAI.csv\", \"totEarWeight\", \"LAI\", RepVGGA1ConfidenceAddoneextrainput, \"./LAI/ResultModelLAI\")\n",
    "# setAndTrainModel_addextrainput(\"./LAI/DataKey_RGB_DSM_totEarWeight_LAI.csv\", \"totEarWeight\", \"LAI\", EfficientNetV2MConfidenceAddeonextrainput, \"./LAI/ResultModelLAI\")\n",
    "# setAndTrainModel_addextrainput(\"./LAI/DataKey_RGB_DSM_LAI_time.csv\", \"time\", \"LAI\", EfficientNetV2SConfidenceAddoneextrainput, \"./LAI/ResultModelLAI\")\n",
    "# setAndTrainModel_addextrainput(\"./LAI/DataKey_RGB_DSM_LAI_time.csv\", \"time\", \"LAI\", DenseNetConfidenceAddoneextrainput, \"./LAI/ResultModelLAI\")\n",
    "# setAndTrainModel_addextrainput(\"./LAI/DataKey_RGB_DSM_LAI_time.csv\", \"time\", \"LAI\", RepVGGA1ConfidenceAddoneextrainput, \"./LAI/ResultModelLAI\")\n",
    "# setAndTrainModel_addextrainput(\"./LAI/DataKey_RGB_DSM_LAI_time.csv\", \"time\", \"LAI\", EfficientNetV2MConfidenceAddeonextrainput, \"./LAI/ResultModelLAI\")\n",
    "# setAndTrainModel_addextrainput(\"./LAI/DataKey_RGB_DSM_totEarWeight_LAI_time.csv\", [\"totEarWeight\", \"time\"], \"LAI\", EfficientNetV2SConfidenceAdd2Inputs, \"./LAI/ResultModelLAI\")\n",
    "# setAndTrainModel_addextrainput(\"./LAI/DataKey_RGB_DSM_totEarWeight_LAI_time.csv\", [\"totEarWeight\", \"time\"], \"LAI\", DenseNetConfidenceAdd2Inputs, \"./LAI/ResultModelLAI\")\n",
    "# setAndTrainModel_addextrainput(\"./LAI/DataKey_RGB_DSM_totEarWeight_LAI_time.csv\", [\"totEarWeight\", \"time\"], \"LAI\", EfficientNetV2MConfidenceAdd2Inputs, \"./LAI/ResultModelLAI\")\n",
    "# setAndTrainModel(\"./LAI/DataKey_RGB_DSM_LAI.csv\", \"LAI\", EfficientNetV2MWheatModelWithConfidence, \"./LAI/ResultModelLAI\")\n",
    "# setAndTrainModel(\"./LAI/DataKey_RGB_DSM_LAI.csv\", \"LAI\", RegNetY8GFModel, \"./LAI/ResultModelLAI\")\n",
    "# setAndTrainModel(\"./EarWeight/DataKey_RGB_DSM_totEarWeight.csv\", \"totEarWeight\", EfficientNetV2MWheatModelWithConfidence, \"./EarWeight/ResultModelEarWeight\")\n",
    "# setAndTrainModel(\"./EarWeight/DataKey_RGB_DSM_totEarWeight.csv\", \"totEarWeight\", RegNetY8GFModel, \"./EarWeight/ResultModelEarWeight\")\n",
    "# setAndTrainModel(\"./AverageEarSize/DataKey_RGB_DSM_avgEarSize.csv\", \"avgEarSize\", EfficientNetV2MWheatModelWithConfidence, \"./AverageEarSize/ResultModelAverageEarSize\")\n",
    "# setAndTrainModel(\"./AverageEarSize/DataKey_RGB_DSM_avgEarSize.csv\", \"avgEarSize\", RegNetY8GFModel, \"./AverageEarSize/ResultModelAverageEarSize\")\n",
    "# setAndTrainModel_addextrainput(\"./LAI/DataKey_RGB_DSM_totEarWeight_LAI_time.csv\", [\"totEarWeight\", \"time\"], \"LAI\", RepVGGA1ConfidenceAdd2Inputs, \"./LAI/ResultModelLAI\")\n",
    "# setAndTrainModel(\"./LAI/DataKey_RGB_DSM_LAI.csv\", \"LAI\", RepVGGB1g4Model, \"./LAI/ResultModelLAI\")\n",
    "# setAndTrainModel(\"./EarWeight/DataKey_RGB_DSM_totEarWeight.csv\", \"totEarWeight\", RepVGGB1g4Model, \"./EarWeight/ResultModelEarWeight\")\n",
    "# setAndTrainModel(\"./AverageEarSize/DataKey_RGB_DSM_avgEarSize.csv\", \"avgEarSize\", RepVGGB1g4Model, \"./AverageEarSize/ResultModelAverageEarSize\")\n",
    "# setAndTrainModel_addextrainput(\"./WheatEarCount/DataKey_RGB_DSM_totEarWeight_totEarNum.csv\", \"totEarWeight\", \"totEarNum\", RegNetY8GFConfidenceAddoneextrainput, \"./WheatEarCount/ResultModelWheatEarCount\")\n",
    "# setAndTrainModel_addextrainput(\"./SPAD/DataKey_RGB_DSM_SPAD_time.csv\", \"time\", \"SPAD\", RegNetY8GFConfidenceAddoneextrainput, \"./SPAD/ResultModelSPAD\")\n",
    "# setAndTrainModel_addextrainput(\"./LAI/DataKey_RGB_DSM_totEarWeight_LAI.csv\", \"totEarWeight\", \"LAI\", RegNetY8GFConfidenceAddoneextrainput, \"./LAI/ResultModelLAI\")\n",
    "# setAndTrainModel_addextrainput(\"./LAI/DataKey_RGB_DSM_LAI_time.csv\", \"time\", \"LAI\", RegNetY8GFConfidenceAddoneextrainput, \"./LAI/ResultModelLAI\")\n",
    "# setAndTrainModel_addextrainput(\"./LAI/DataKey_RGB_DSM_totEarWeight_LAI_time.csv\", [\"totEarWeight\", \"time\"], \"LAI\", RegNetYConfidenceAdd2Inputs, \"./LAI/ResultModelLAI\")"
   ]
  },
  {
   "cell_type": "code",
   "execution_count": 3,
   "metadata": {},
   "outputs": [],
   "source": [
    "# setAndTrainModel(\"./LeafLength/DataKey_RGB_DSM_leafLength.csv\", \"leafLength\", EfficientNetV2MWheatModelWithConfidence, \"./LeafLength/ResultModelLeafLength\")\n",
    "# setAndTrainModel(\"./LeafLength/DataKey_RGB_DSM_leafLength.csv\", \"leafLength\", DenseNet121WheatModel, \"./LeafLength/ResultModelLeafLength\")\n",
    "# setAndTrainModel(\"./LeafLength/DataKey_RGB_DSM_leafLength.csv\", \"leafLength\", RegNetY8GFModel, \"./LeafLength/ResultModelLeafLength\")\n",
    "# setAndTrainModel(\"./LeafLength/DataKey_RGB_DSM_leafLength.csv\", \"leafLength\", MobileViTV2WheatModel, \"./LeafLength/ResultModelLeafLength\")\n",
    "# setAndTrainModel(\"./LeafLength/DataKey_RGB_DSM_leafLength.csv\", \"leafLength\", ConvNeXtTinyWheatModelWithConfidence, \"./LeafLength/ResultModelLeafLength\")\n",
    "# setAndTrainModel(\"./days/DataKey_RGB_DSM_days__NoERR.csv\", \"days\", EfficientNetV2MWheatModelWithConfidence, \"./days/ResultModelDaysAll\")\n",
    "# setAndTrainModel(\"./days/DataKey_RGB_DSM_days__NoERR.csv\", \"days\", DenseNet121WheatModel, \"./days/ResultModelDaysAll\")\n",
    "# setAndTrainModel(\"./days/DataKey_RGB_DSM_days__NoERR.csv\", \"days\", RegNetY8GFModel, \"./days/ResultModelDaysAll\")\n",
    "# setAndTrainModel(\"./days/DataKey_RGB_DSM_days__NoERR.csv\", \"days\", MobileViTV2WheatModel, \"./days/ResultModelDaysAll\")\n",
    "# setAndTrainModel(\"./days/DataKey_RGB_DSM_days__NoERR.csv\", \"days\", ConvNeXtTinyWheatModelWithConfidence, \"./days/ResultModelDaysAll\")\n",
    "# setAndTrainModel(\"./days/DataKey_RGB_DSM_days__NoERR_From3thM.csv\", \"days\", EfficientNetV2MWheatModelWithConfidence, \"./days/ResultModelDaysFrom3\")\n",
    "# setAndTrainModel(\"./days/DataKey_RGB_DSM_days__NoERR_From3thM.csv\", \"days\", DenseNet121WheatModel, \"./days/ResultModelDaysFrom3\")\n",
    "# setAndTrainModel(\"./days/DataKey_RGB_DSM_days__NoERR_From3thM.csv\", \"days\", RegNetY8GFModel, \"./days/ResultModelDaysFrom3\")\n",
    "# setAndTrainModel(\"./days/DataKey_RGB_DSM_days__NoERR_From3thM.csv\", \"days\", MobileViTV2WheatModel, \"./days/ResultModelDaysFrom3\")\n",
    "# setAndTrainModel(\"./days/DataKey_RGB_DSM_days__NoERR_From3thM.csv\", \"days\", ConvNeXtTinyWheatModelWithConfidence, \"./days/ResultModelDaysFrom3\")\n",
    "# setAndTrainModel(\"./days/DataKey_RGB_DSM_days__NoERR_From4thM.csv\", \"days\", EfficientNetV2MWheatModelWithConfidence, \"./days/ResultModelDaysFrom4\")\n",
    "# setAndTrainModel(\"./days/DataKey_RGB_DSM_days__NoERR_From4thM.csv\", \"days\", DenseNet121WheatModel, \"./days/ResultModelDaysFrom4\")\n",
    "# setAndTrainModel(\"./days/DataKey_RGB_DSM_days__NoERR_From4thM.csv\", \"days\", RegNetY8GFModel, \"./days/ResultModelDaysFrom4\")\n",
    "# setAndTrainModel(\"./days/DataKey_RGB_DSM_days__NoERR_From4thM.csv\", \"days\", MobileViTV2WheatModel, \"./days/ResultModelDaysFrom4\")\n",
    "# setAndTrainModel(\"./days/DataKey_RGB_DSM_days__NoERR_From4thM.csv\", \"days\", ConvNeXtTinyWheatModelWithConfidence, \"./days/ResultModelDaysFrom4\")"
   ]
  },
  {
   "cell_type": "markdown",
   "metadata": {},
   "source": [
    "new data"
   ]
  },
  {
   "cell_type": "code",
   "execution_count": 4,
   "metadata": {},
   "outputs": [
    {
     "name": "stdout",
     "output_type": "stream",
     "text": [
      "✅ Save model to: ./WheatEarCount/ResultModelWheatEarCount/M-totEarNum_B-EfficientNetV2MConfidenceAddeonextrainput-E-totEarWeight_\n",
      "✅ Using device: mps\n",
      "✅ Safe Split → Train: 47840, Val: 5961, Test: 6000\n",
      "Train Batches: 2990, Validation Batches: 373, Test Batches: 375\n"
     ]
    },
    {
     "name": "stderr",
     "output_type": "stream",
     "text": [
      "/Users/ice/.pyenv/versions/3.10.10/lib/python3.10/site-packages/torch/__init__.py:1236: UserWarning: torch.set_default_tensor_type() is deprecated as of PyTorch 2.1, please use torch.set_default_dtype() and torch.set_default_device() as alternatives. (Triggered internally at /Users/runner/work/pytorch/pytorch/pytorch/torch/csrc/tensor/python_tensor.cpp:436.)\n",
      "  _C._set_default_tensor_type(t)\n",
      "Epoch 1/10:   0%|          | 0/2990 [00:07<?, ?it/s]\n"
     ]
    },
    {
     "ename": "ValueError",
     "evalue": "Caught ValueError in DataLoader worker process 0.\nOriginal Traceback (most recent call last):\n  File \"/Users/ice/.pyenv/versions/3.10.10/lib/python3.10/site-packages/torch/utils/data/_utils/worker.py\", line 349, in _worker_loop\n    data = fetcher.fetch(index)  # type: ignore[possibly-undefined]\n  File \"/Users/ice/.pyenv/versions/3.10.10/lib/python3.10/site-packages/torch/utils/data/_utils/fetch.py\", line 52, in fetch\n    data = [self.dataset[idx] for idx in possibly_batched_index]\n  File \"/Users/ice/.pyenv/versions/3.10.10/lib/python3.10/site-packages/torch/utils/data/_utils/fetch.py\", line 52, in <listcomp>\n    data = [self.dataset[idx] for idx in possibly_batched_index]\n  File \"/Volumes/HD-PCFSU3-A/ice-wheat/MasterProj/Model_Creation/TraitPredictionModel/dataClass.py\", line 45, in __getitem__\n    label = torch.tensor([self.data.loc[idx, self.label_col]], dtype=torch.float32)\nValueError: too many dimensions 'str'\n",
     "output_type": "error",
     "traceback": [
      "\u001b[0;31m---------------------------------------------------------------------------\u001b[0m",
      "\u001b[0;31mValueError\u001b[0m                                Traceback (most recent call last)",
      "Cell \u001b[0;32mIn[4], line 18\u001b[0m\n\u001b[1;32m      1\u001b[0m \u001b[38;5;66;03m# setAndTrainModel(\"./AverageEarSize/DataKey_RGB_DSM_avgEarSize__Raw1.csv\", \"avgEarSize\", EfficientNetV2MWheatModelWithConfidence, \"./AverageEarSize/ResultModelAverageEarSize\")\u001b[39;00m\n\u001b[1;32m      2\u001b[0m \u001b[38;5;66;03m# setAndTrainModel(\"./days/DataKey_RGB_DSM_days__NoERR_From3rdM_Raw1Augment6.csv\", \"days\", EfficientNetV2MWheatModelWithConfidence, \"./days/ResultModelDaysFrom3\")\u001b[39;00m\n\u001b[1;32m      3\u001b[0m \u001b[38;5;66;03m# setAndTrainModel(\"./days/DataKey_RGB_DSM_days__NoERR_From4thM_Raw1Augment6.csv\", \"days\", EfficientNetV2MWheatModelWithConfidence, \"./days/ResultModelDaysFrom4\")\u001b[39;00m\n\u001b[0;32m   (...)\u001b[0m\n\u001b[1;32m     16\u001b[0m \u001b[38;5;66;03m# setAndTrainModel_addextrainput(\"./StrawWeightAfterDry/DataKey_RGB_DSM_20StrawWeightBeforeDry_20StrawWeightAfterDry__Raw1.csv\", \"20StrawWeightBeforeDry\",  \"20StrawWeightAfterDry\", EfficientNetV2MConfidenceAddeonextrainput, \"./StrawWeightAfterDry/ResultModelStrawWeightAfterDry\")\u001b[39;00m\n\u001b[1;32m     17\u001b[0m \u001b[38;5;66;03m# setAndTrainModel_addextrainput(\"./TotalSeedWeightAfterDry/DataKey_RGB_DSM_totalSeedWeightBeforeDry_totalSeedWeightAfterDry__Raw1.csv\", \"totalSeedWeightBeforeDry\",  \"totalSeedWeightAfterDry\", EfficientNetV2MConfidenceAddeonextrainput, \"./TotalSeedWeightAfterDry/ResultModelTotalSeedWeightAfterDry\")\u001b[39;00m\n\u001b[0;32m---> 18\u001b[0m \u001b[43msetAndTrainModel_addextrainput\u001b[49m\u001b[43m(\u001b[49m\u001b[38;5;124;43m\"\u001b[39;49m\u001b[38;5;124;43m./WheatEarCount/DataKey_RGB_DSM_totEarWeight_totEarNum__Raw1.csv\u001b[39;49m\u001b[38;5;124;43m\"\u001b[39;49m\u001b[43m,\u001b[49m\u001b[43m \u001b[49m\u001b[38;5;124;43m\"\u001b[39;49m\u001b[38;5;124;43mtotEarWeight\u001b[39;49m\u001b[38;5;124;43m\"\u001b[39;49m\u001b[43m,\u001b[49m\u001b[43m  \u001b[49m\u001b[38;5;124;43m\"\u001b[39;49m\u001b[38;5;124;43mtotEarNum\u001b[39;49m\u001b[38;5;124;43m\"\u001b[39;49m\u001b[43m,\u001b[49m\u001b[43m \u001b[49m\u001b[43mEfficientNetV2MConfidenceAddeonextrainput\u001b[49m\u001b[43m,\u001b[49m\u001b[43m \u001b[49m\u001b[38;5;124;43m\"\u001b[39;49m\u001b[38;5;124;43m./WheatEarCount/ResultModelWheatEarCount\u001b[39;49m\u001b[38;5;124;43m\"\u001b[39;49m\u001b[43m)\u001b[49m\n",
      "File \u001b[0;32m/Volumes/HD-PCFSU3-A/ice-wheat/MasterProj/Model_Creation/TraitPredictionModel/modelFunc.py:297\u001b[0m, in \u001b[0;36msetAndTrainModel_addextrainput\u001b[0;34m(dataPath, extraInputName, traitName, model, savePath, num_epochs)\u001b[0m\n\u001b[1;32m    294\u001b[0m scheduler \u001b[38;5;241m=\u001b[39m torch\u001b[38;5;241m.\u001b[39moptim\u001b[38;5;241m.\u001b[39mlr_scheduler\u001b[38;5;241m.\u001b[39mReduceLROnPlateau(optimizer, mode\u001b[38;5;241m=\u001b[39m\u001b[38;5;124m'\u001b[39m\u001b[38;5;124mmin\u001b[39m\u001b[38;5;124m'\u001b[39m, factor\u001b[38;5;241m=\u001b[39m\u001b[38;5;241m0.5\u001b[39m, patience\u001b[38;5;241m=\u001b[39m\u001b[38;5;241m2\u001b[39m)\n\u001b[1;32m    296\u001b[0m \u001b[38;5;66;03m# Train model\u001b[39;00m\n\u001b[0;32m--> 297\u001b[0m \u001b[43mtrain_model_laplace_addextrainput\u001b[49m\u001b[43m(\u001b[49m\n\u001b[1;32m    298\u001b[0m \u001b[43m    \u001b[49m\u001b[43mmodelInstance\u001b[49m\u001b[43m,\u001b[49m\u001b[43m \u001b[49m\u001b[43mtrain_loader\u001b[49m\u001b[43m,\u001b[49m\u001b[43m \u001b[49m\u001b[43mval_loader\u001b[49m\u001b[43m,\u001b[49m\u001b[43m \u001b[49m\u001b[43moptimizer\u001b[49m\u001b[43m,\u001b[49m\u001b[43m \u001b[49m\u001b[43mscheduler\u001b[49m\u001b[43m,\u001b[49m\u001b[43m \u001b[49m\u001b[43mdevice\u001b[49m\u001b[43m,\u001b[49m\u001b[43m \u001b[49m\u001b[43msaveModelPath\u001b[49m\u001b[43m,\u001b[49m\u001b[43m \u001b[49m\u001b[43mnum_epochs\u001b[49m\u001b[38;5;241;43m=\u001b[39;49m\u001b[43mnum_epochs\u001b[49m\n\u001b[1;32m    299\u001b[0m \u001b[43m\u001b[49m\u001b[43m)\u001b[49m\n",
      "File \u001b[0;32m/Volumes/HD-PCFSU3-A/ice-wheat/MasterProj/Model_Creation/TraitPredictionModel/modelFunc.py:174\u001b[0m, in \u001b[0;36mtrain_model_laplace_addextrainput\u001b[0;34m(model, train_loader, val_loader, optimizer, scheduler, device, fileName, num_epochs)\u001b[0m\n\u001b[1;32m    171\u001b[0m model\u001b[38;5;241m.\u001b[39mtrain()\n\u001b[1;32m    172\u001b[0m train_loss \u001b[38;5;241m=\u001b[39m \u001b[38;5;241m0.0\u001b[39m\n\u001b[0;32m--> 174\u001b[0m \u001b[38;5;28;01mfor\u001b[39;00m rgb_batch, dsm_batch, extra_input_batch, label_batch \u001b[38;5;129;01min\u001b[39;00m tqdm(train_loader, desc\u001b[38;5;241m=\u001b[39m\u001b[38;5;124mf\u001b[39m\u001b[38;5;124m\"\u001b[39m\u001b[38;5;124mEpoch \u001b[39m\u001b[38;5;132;01m{\u001b[39;00mepoch\u001b[38;5;241m+\u001b[39m\u001b[38;5;241m1\u001b[39m\u001b[38;5;132;01m}\u001b[39;00m\u001b[38;5;124m/\u001b[39m\u001b[38;5;132;01m{\u001b[39;00mnum_epochs\u001b[38;5;132;01m}\u001b[39;00m\u001b[38;5;124m\"\u001b[39m):\n\u001b[1;32m    175\u001b[0m     rgb_batch \u001b[38;5;241m=\u001b[39m rgb_batch\u001b[38;5;241m.\u001b[39mto(device)\n\u001b[1;32m    176\u001b[0m     dsm_batch \u001b[38;5;241m=\u001b[39m dsm_batch\u001b[38;5;241m.\u001b[39mto(device)\n",
      "File \u001b[0;32m~/.pyenv/versions/3.10.10/lib/python3.10/site-packages/tqdm/std.py:1181\u001b[0m, in \u001b[0;36mtqdm.__iter__\u001b[0;34m(self)\u001b[0m\n\u001b[1;32m   1178\u001b[0m time \u001b[38;5;241m=\u001b[39m \u001b[38;5;28mself\u001b[39m\u001b[38;5;241m.\u001b[39m_time\n\u001b[1;32m   1180\u001b[0m \u001b[38;5;28;01mtry\u001b[39;00m:\n\u001b[0;32m-> 1181\u001b[0m     \u001b[38;5;28;01mfor\u001b[39;00m obj \u001b[38;5;129;01min\u001b[39;00m iterable:\n\u001b[1;32m   1182\u001b[0m         \u001b[38;5;28;01myield\u001b[39;00m obj\n\u001b[1;32m   1183\u001b[0m         \u001b[38;5;66;03m# Update and possibly print the progressbar.\u001b[39;00m\n\u001b[1;32m   1184\u001b[0m         \u001b[38;5;66;03m# Note: does not call self.update(1) for speed optimisation.\u001b[39;00m\n",
      "File \u001b[0;32m~/.pyenv/versions/3.10.10/lib/python3.10/site-packages/torch/utils/data/dataloader.py:708\u001b[0m, in \u001b[0;36m_BaseDataLoaderIter.__next__\u001b[0;34m(self)\u001b[0m\n\u001b[1;32m    705\u001b[0m \u001b[38;5;28;01mif\u001b[39;00m \u001b[38;5;28mself\u001b[39m\u001b[38;5;241m.\u001b[39m_sampler_iter \u001b[38;5;129;01mis\u001b[39;00m \u001b[38;5;28;01mNone\u001b[39;00m:\n\u001b[1;32m    706\u001b[0m     \u001b[38;5;66;03m# TODO(https://github.com/pytorch/pytorch/issues/76750)\u001b[39;00m\n\u001b[1;32m    707\u001b[0m     \u001b[38;5;28mself\u001b[39m\u001b[38;5;241m.\u001b[39m_reset()  \u001b[38;5;66;03m# type: ignore[call-arg]\u001b[39;00m\n\u001b[0;32m--> 708\u001b[0m data \u001b[38;5;241m=\u001b[39m \u001b[38;5;28;43mself\u001b[39;49m\u001b[38;5;241;43m.\u001b[39;49m\u001b[43m_next_data\u001b[49m\u001b[43m(\u001b[49m\u001b[43m)\u001b[49m\n\u001b[1;32m    709\u001b[0m \u001b[38;5;28mself\u001b[39m\u001b[38;5;241m.\u001b[39m_num_yielded \u001b[38;5;241m+\u001b[39m\u001b[38;5;241m=\u001b[39m \u001b[38;5;241m1\u001b[39m\n\u001b[1;32m    710\u001b[0m \u001b[38;5;28;01mif\u001b[39;00m (\n\u001b[1;32m    711\u001b[0m     \u001b[38;5;28mself\u001b[39m\u001b[38;5;241m.\u001b[39m_dataset_kind \u001b[38;5;241m==\u001b[39m _DatasetKind\u001b[38;5;241m.\u001b[39mIterable\n\u001b[1;32m    712\u001b[0m     \u001b[38;5;129;01mand\u001b[39;00m \u001b[38;5;28mself\u001b[39m\u001b[38;5;241m.\u001b[39m_IterableDataset_len_called \u001b[38;5;129;01mis\u001b[39;00m \u001b[38;5;129;01mnot\u001b[39;00m \u001b[38;5;28;01mNone\u001b[39;00m\n\u001b[1;32m    713\u001b[0m     \u001b[38;5;129;01mand\u001b[39;00m \u001b[38;5;28mself\u001b[39m\u001b[38;5;241m.\u001b[39m_num_yielded \u001b[38;5;241m>\u001b[39m \u001b[38;5;28mself\u001b[39m\u001b[38;5;241m.\u001b[39m_IterableDataset_len_called\n\u001b[1;32m    714\u001b[0m ):\n",
      "File \u001b[0;32m~/.pyenv/versions/3.10.10/lib/python3.10/site-packages/torch/utils/data/dataloader.py:1480\u001b[0m, in \u001b[0;36m_MultiProcessingDataLoaderIter._next_data\u001b[0;34m(self)\u001b[0m\n\u001b[1;32m   1478\u001b[0m \u001b[38;5;28;01mdel\u001b[39;00m \u001b[38;5;28mself\u001b[39m\u001b[38;5;241m.\u001b[39m_task_info[idx]\n\u001b[1;32m   1479\u001b[0m \u001b[38;5;28mself\u001b[39m\u001b[38;5;241m.\u001b[39m_rcvd_idx \u001b[38;5;241m+\u001b[39m\u001b[38;5;241m=\u001b[39m \u001b[38;5;241m1\u001b[39m\n\u001b[0;32m-> 1480\u001b[0m \u001b[38;5;28;01mreturn\u001b[39;00m \u001b[38;5;28;43mself\u001b[39;49m\u001b[38;5;241;43m.\u001b[39;49m\u001b[43m_process_data\u001b[49m\u001b[43m(\u001b[49m\u001b[43mdata\u001b[49m\u001b[43m)\u001b[49m\n",
      "File \u001b[0;32m~/.pyenv/versions/3.10.10/lib/python3.10/site-packages/torch/utils/data/dataloader.py:1505\u001b[0m, in \u001b[0;36m_MultiProcessingDataLoaderIter._process_data\u001b[0;34m(self, data)\u001b[0m\n\u001b[1;32m   1503\u001b[0m \u001b[38;5;28mself\u001b[39m\u001b[38;5;241m.\u001b[39m_try_put_index()\n\u001b[1;32m   1504\u001b[0m \u001b[38;5;28;01mif\u001b[39;00m \u001b[38;5;28misinstance\u001b[39m(data, ExceptionWrapper):\n\u001b[0;32m-> 1505\u001b[0m     \u001b[43mdata\u001b[49m\u001b[38;5;241;43m.\u001b[39;49m\u001b[43mreraise\u001b[49m\u001b[43m(\u001b[49m\u001b[43m)\u001b[49m\n\u001b[1;32m   1506\u001b[0m \u001b[38;5;28;01mreturn\u001b[39;00m data\n",
      "File \u001b[0;32m~/.pyenv/versions/3.10.10/lib/python3.10/site-packages/torch/_utils.py:733\u001b[0m, in \u001b[0;36mExceptionWrapper.reraise\u001b[0;34m(self)\u001b[0m\n\u001b[1;32m    729\u001b[0m \u001b[38;5;28;01mexcept\u001b[39;00m \u001b[38;5;167;01mTypeError\u001b[39;00m:\n\u001b[1;32m    730\u001b[0m     \u001b[38;5;66;03m# If the exception takes multiple arguments, don't try to\u001b[39;00m\n\u001b[1;32m    731\u001b[0m     \u001b[38;5;66;03m# instantiate since we don't know how to\u001b[39;00m\n\u001b[1;32m    732\u001b[0m     \u001b[38;5;28;01mraise\u001b[39;00m \u001b[38;5;167;01mRuntimeError\u001b[39;00m(msg) \u001b[38;5;28;01mfrom\u001b[39;00m \u001b[38;5;28;01mNone\u001b[39;00m\n\u001b[0;32m--> 733\u001b[0m \u001b[38;5;28;01mraise\u001b[39;00m exception\n",
      "\u001b[0;31mValueError\u001b[0m: Caught ValueError in DataLoader worker process 0.\nOriginal Traceback (most recent call last):\n  File \"/Users/ice/.pyenv/versions/3.10.10/lib/python3.10/site-packages/torch/utils/data/_utils/worker.py\", line 349, in _worker_loop\n    data = fetcher.fetch(index)  # type: ignore[possibly-undefined]\n  File \"/Users/ice/.pyenv/versions/3.10.10/lib/python3.10/site-packages/torch/utils/data/_utils/fetch.py\", line 52, in fetch\n    data = [self.dataset[idx] for idx in possibly_batched_index]\n  File \"/Users/ice/.pyenv/versions/3.10.10/lib/python3.10/site-packages/torch/utils/data/_utils/fetch.py\", line 52, in <listcomp>\n    data = [self.dataset[idx] for idx in possibly_batched_index]\n  File \"/Volumes/HD-PCFSU3-A/ice-wheat/MasterProj/Model_Creation/TraitPredictionModel/dataClass.py\", line 45, in __getitem__\n    label = torch.tensor([self.data.loc[idx, self.label_col]], dtype=torch.float32)\nValueError: too many dimensions 'str'\n"
     ]
    }
   ],
   "source": [
    "# setAndTrainModel(\"./AverageEarSize/DataKey_RGB_DSM_avgEarSize__Raw1.csv\", \"avgEarSize\", EfficientNetV2MWheatModelWithConfidence, \"./AverageEarSize/ResultModelAverageEarSize\")\n",
    "# setAndTrainModel(\"./days/DataKey_RGB_DSM_days__NoERR_From3rdM_Raw1Augment6.csv\", \"days\", EfficientNetV2MWheatModelWithConfidence, \"./days/ResultModelDaysFrom3\")\n",
    "# setAndTrainModel(\"./days/DataKey_RGB_DSM_days__NoERR_From4thM_Raw1Augment6.csv\", \"days\", EfficientNetV2MWheatModelWithConfidence, \"./days/ResultModelDaysFrom4\")\n",
    "# setAndTrainModel(\"./EarWeight/DataKey_RGB_DSM_totEarWeight__Raw1.csv\", \"totEarWeight\", EfficientNetV2MWheatModelWithConfidence, \"./EarWeight/ResultModelEarWeight\")\n",
    "# setAndTrainModel(\"./LeafLength/DataKey_RGB_DSM_leafLength__Raw1.csv\", \"leafLength\", EfficientNetV2MWheatModelWithConfidence, \"./LeafLength/ResultModelLeafLength\")\n",
    "# setAndTrainModel(\"./LeafWidth/DataKey_RGB_DSM_leafWidth__Raw1.csv\", \"leafWidth\", EfficientNetV2MWheatModelWithConfidence, \"./LeafWidth/ResultModelLeafWidth\")\n",
    "# setAndTrainModel(\"./StrawWeightAfterDry/DataKey_RGB_DSM_20StrawWeightAfterDry__Raw1.csv\", \"20StrawWeightAfterDry\", EfficientNetV2MWheatModelWithConfidence, \"./StrawWeightAfterDry/ResultModelStrawWeightAfterDry\")\n",
    "\n",
    "\n",
    "# setAndTrainModel(\"./StrawWeightBeforeDry/DataKey_RGB_DSM_20StrawWeightBeforeDry__R  m\", EfficientNetV2MWheatModelWithConfidence, \"./TotalSeedNum/ResultModelTotalSeedNum\")\n",
    "\n",
    "\n",
    "# setAndTrainModel(\"./TotalSeedWeightBeforeDry/DataKey_RGB_DSM_totalSeedWeightBeforeDry__Raw1.csv\", \"totalSeedWeightBeforeDry\", EfficientNetV2MWheatModelWithConfidence, \"./TotalSeedWeightBeforeDry/ResultModelTotalSeedWeightBeforeDry\")\n",
    "\n",
    "# setAndTrainModel(\"./WheatEarCount/DataKey_RGB_DSM_totEarNum__Raw1.csv\", \"totEarNum\", EfficientNetV2MWheatModelWithConfidence, \"./WheatEarCount/ResultModelWheatEarCount\")\n",
    "# setAndTrainModel_addextrainput(\"./StrawWeightAfterDry/DataKey_RGB_DSM_20StrawWeightBeforeDry_20StrawWeightAfterDry__Raw1.csv\", \"20StrawWeightBeforeDry\",  \"20StrawWeightAfterDry\", EfficientNetV2MConfidenceAddeonextrainput, \"./StrawWeightAfterDry/ResultModelStrawWeightAfterDry\")\n",
    "# setAndTrainModel_addextrainput(\"./TotalSeedWeightAfterDry/DataKey_RGB_DSM_totalSeedWeightBeforeDry_totalSeedWeightAfterDry__Raw1.csv\", \"totalSeedWeightBeforeDry\",  \"totalSeedWeightAfterDry\", EfficientNetV2MConfidenceAddeonextrainput, \"./TotalSeedWeightAfterDry/ResultModelTotalSeedWeightAfterDry\")\n",
    "setAndTrainModel_addextrainput(\"./WheatEarCount/DataKey_RGB_DSM_totEarWeight_totEarNum__Raw1.csv\", \"totEarWeight\",  \"totEarNum\", EfficientNetV2MConfidenceAddeonextrainput, \"./WheatEarCount/ResultModelWheatEarCount\")\n",
    "\n",
    "\n"
   ]
  },
  {
   "cell_type": "code",
   "execution_count": null,
   "metadata": {},
   "outputs": [],
   "source": [
    "setAndTrainModel(\"./TotalSeedWeightAfterDry/DataKey_RGB_DSM_totalSeedWeightAfterDry__Raw1.csv\", \"totalSeedWeightAfterDry\", EfficientNetV2MWheatModelWithConfidence, \"./TotalSeedWeightAfterDry/ResultModelTotalSeedWeightAfterDry\")\n"
   ]
  },
  {
   "cell_type": "code",
   "execution_count": null,
   "metadata": {},
   "outputs": [],
   "source": [
    "setAndTrainModel(\"./AverageEarSize/DataKey_RGB_DSM_avgEarSize__Raw1.csv\", \"avgEarSize\", RegNetY8GFModel, \"./AverageEarSize/ResultModelAverageEarSize\")\n",
    "setAndTrainModel(\"./days/DataKey_RGB_DSM_days__NoERR_From3rdM_Raw1Augment6.csv\", \"days\", RegNetY8GFModel, \"./days/ResultModelDaysFrom3\")\n",
    "setAndTrainModel(\"./days/DataKey_RGB_DSM_days__NoERR_From4thM_Raw1Augment6.csv\", \"days\", RegNetY8GFModel, \"./days/ResultModelDaysFrom4\")\n",
    "setAndTrainModel(\"./EarWeight/DataKey_RGB_DSM_totEarWeight__Raw1.csv\", \"totEarWeight\", RegNetY8GFModel, \"./EarWeight/ResultModelEarWeight\")\n",
    "setAndTrainModel(\"./LeafLength/DataKey_RGB_DSM_leafLength__Raw1.csv\", \"leafLength\", RegNetY8GFModel, \"./LeafLength/ResultModelLeafLength\")\n",
    "setAndTrainModel(\"./LeafWidth/DataKey_RGB_DSM_leafWidth__Raw1.csv\", \"leafWidth\", RegNetY8GFModel, \"./LeafWidth/ResultModelLeafWidth\")\n",
    "setAndTrainModel(\"./StrawWeightAfterDry/DataKey_RGB_DSM_20StrawWeightAfterDry__Raw1.csv\", \"20StrawWeightAfterDry\", RegNetY8GFModel, \"./StrawWeightAfterDry/ResultModelStrawWeightAfterDry\")\n",
    "setAndTrainModel(\"./StrawWeightBeforeDry/DataKey_RGB_DSM_20StrawWeightBeforeDry__Raw1.csv\", \"20StrawWeightBeforeDry\", RegNetY8GFModel, \"./StrawWeightBeforeDry/ResultModelStrawWeightBeforeDry\")\n",
    "setAndTrainModel(\"./TotalSeedNum/DataKey_RGB_DSM_totalSeedNum__Raw1.csv\", \"totalSeedNum\", RegNetY8GFModel, \"./TotalSeedNum/ResultModelTotalSeedNum\")\n",
    "setAndTrainModel(\"./TotalSeedWeightAfterDry/DataKey_RGB_DSM_totalSeedWeightAfterDry__Raw1.csv\", \"totalSeedWeightAfterDry\", RegNetY8GFModel, \"./TotalSeedWeightAfterDry/ResultModelTotalSeedWeightAfterDry\")\n",
    "setAndTrainModel(\"./TotalSeedWeightBeforeDry/DataKey_RGB_DSM_totalSeedWeightBeforeDry__Raw1.csv\", \"totalSeedWeightBeforeDry\", RegNetY8GFModel, \"./TotalSeedWeightBeforeDry/ResultModelTotalSeedWeightBeforeDry\")\n",
    "setAndTrainModel(\"./WheatEarCount/DataKey_RGB_DSM_totEarNum__Raw1.csv\", \"totEarNum\", RegNetY8GFModel, \"./WheatEarCount/ResultModelWheatEarCount\")\n",
    "setAndTrainModel_addextrainput(\"./StrawWeightAfterDry/DataKey_RGB_DSM_20StrawWeightBeforeDry_20StrawWeightAfterDry__Raw1.csv\", \"20StrawWeightBeforeDry\",  \"20StrawWeightAfterDry\", RegNetY8GFConfidenceAddoneextrainput, \"./StrawWeightAfterDry/ResultModelStrawWeightAfterDry\")\n",
    "setAndTrainModel_addextrainput(\"./TotalSeedWeightAfterDry/DataKey_RGB_DSM_totalSeedWeightBeforeDry_totalSeedWeightAfterDry__Raw1.csv\", \"totalSeedWightBeforeDry\",  \"totalSeedWeightAfterDry\", RegNetY8GFConfidenceAddoneextrainput, \"./TotalSeedWeightAfterDry/ResultModelTotalSeedWeightAfterDry\")\n",
    "setAndTrainModel_addextrainput(\"./WheatEarCount/DataKey_RGB_DSM_totEarWeight_totEarNum__Raw1.csv\", \"totEarWeight\",  \"totEarNum\", RegNetY8GFConfidenceAddoneextrainput, \"./WheatEarCount/ResultModelWheatEarCount\")\n",
    "　　　　　"
   ]
  },
  {
   "cell_type": "code",
   "execution_count": null,
   "metadata": {},
   "outputs": [],
   "source": [
    "setAndTrainModel(\"./AverageEarSize/DataKey_RGB_DSM_avgEarSize__Raw1.csv\", \"avgEarSize\", DenseNet121WheatModel, \"./AverageEarSize/ResultModelAverageEarSize\")\n",
    "setAndTrainModel(\"./days/DataKey_RGB_DSM_days__NoERR_From3rdM_Raw1Augment6.csv\", \"days\", DenseNet121WheatModel, \"./days/ResultModelDaysFrom3\")\n",
    "setAndTrainModel(\"./days/DataKey_RGB_DSM_days__NoERR_From4thM_Raw1Augment6.csv\", \"days\", DenseNet121WheatModel, \"./days/ResultModelDaysFrom4\")\n",
    "setAndTrainModel(\"./EarWeight/DataKey_RGB_DSM_totEarWeight__Raw1.csv\", \"totEarWeight\", DenseNet121WheatModel, \"./EarWeight/ResultModelEarWeight\")\n",
    "setAndTrainModel(\"./LeafLength/DataKey_RGB_DSM_leafLength__Raw1.csv\", \"leafLength\", DenseNet121WheatModel, \"./LeafLength/ResultModelLeafLength\")\n",
    "setAndTrainModel(\"./LeafWidth/DataKey_RGB_DSM_leafWidth__Raw1.csv\", \"leafWidth\", DenseNet121WheatModel, \"./LeafWidth/ResultModelLeafWidth\")\n",
    "setAndTrainModel(\"./StrawWeightAfterDry/DataKey_RGB_DSM_20StrawWeightAfterDry__Raw1.csv\", \"20StrawWeightAfterDry\", DenseNet121WheatModel, \"./StrawWeightAfterDry/ResultModelStrawWeightAfterDry\")\n",
    "setAndTrainModel(\"./StrawWeightBeforeDry/DataKey_RGB_DSM_20StrawWeightBeforeDry__Raw1.csv\", \"20StrawWeightBeforeDry\", DenseNet121WheatModel, \"./StrawWeightBeforeDry/ResultModelStrawWeightBeforeDry\")\n",
    "setAndTrainModel(\"./TotalSeedNum/DataKey_RGB_DSM_totalSeedNum__Raw1.csv\", \"totalSeedNum\", DenseNet121WheatModel, \"./TotalSeedNum/ResultModelTotalSeedNum\")\n",
    "setAndTrainModel(\"./TotalSeedWeightAfterDry/DataKey_RGB_DSM_totalSeedWeightAfterDry__Raw1.csv\", \"totalSeedWeightAfterDry\", DenseNet121WheatModel, \"./TotalSeedWeightAfterDry/ResultModelTotalSeedWeightAfterDry\")\n",
    "setAndTrainModel(\"./TotalSeedWeightBeforeDry/DataKey_RGB_DSM_totalSeedWeightBeforeDry__Raw1.csv\", \"totalSeedWeightBeforeDry\", DenseNet121WheatModel, \"./TotalSeedWeightBeforeDry/ResultModelTotalSeedWeightBeforeDry\")\n",
    "setAndTrainModel(\"./WheatEarCount/DataKey_RGB_DSM_totEarNum__Raw1.csv\", \"totEarNum\", DenseNet121WheatModel, \"./WheatEarCount/ResultModelWheatEarCount\")\n"
   ]
  },
  {
   "cell_type": "code",
   "execution_count": null,
   "metadata": {},
   "outputs": [],
   "source": [
    "setAndTrainModel(\"./AverageEarSize/DataKey_RGB_DSM_avgEarSize__Raw1.csv\", \"avgEarSize\", MobileViTV2WheatModel, \"./AverageEarSize/ResultModelAverageEarSize\")\n",
    "setAndTrainModel(\"./days/DataKey_RGB_DSM_days__NoERR_From3rdM_Raw1Augment6.csv\", \"days\", MobileViTV2WheatModel, \"./days/ResultModelDaysFrom3\")\n",
    "setAndTrainModel(\"./days/DataKey_RGB_DSM_days__NoERR_From4thM_Raw1Augment6.csv\", \"days\", MobileViTV2WheatModel, \"./days/ResultModelDaysFrom4\")\n",
    "setAndTrainModel(\"./EarWeight/DataKey_RGB_DSM_totEarWeight__Raw1.csv\", \"totEarWeight\", MobileViTV2WheatModel, \"./EarWeiht/ResultModelEarWeight\")\n",
    "setAndTrainModel(\"./LeafLength/DataKey_RGB_DSM_leafLength__Raw1.csv\", \"leafLength\", MobileViTV2WheatModel, \"./LeafLength/ResultModelLeafLength\")\n",
    "setAndTrainModel(\"./LeafWidth/DataKey_RGB_DSM_leafWidth__Raw1.csv\", \"leafWidth\", MobileViTV2WheatModel, \"./LeafWidth/ResultModelLeafWidth\")\n",
    "setAndTrainModel(\"./StrawWeightAfterDry/DataKey_RGB_DSM_20StrawWeightAfterDry__Raw1.csv\", \"20StrawWeightAfterDry\", MobileViTV2WheatModel, \"./StrawWeightAfterDry/ResultModelStrawWeightAfterDry\")\n",
    "setAndTrainModel(\"./StrawWeightBeforeDry/DataKey_RGB_DSM_20StrawWeightBeforeDry__Raw1.csv\", \"20StrawWeightBeforeDry\", MobileViTV2WheatModel, \"./StrawWeightBeforeDry/ResultModelStrawWeightBeforeDry\")\n",
    "setAndTrainModel(\"./TotalSeedNum/DataKey_RGB_DSM_totalSeedNum__Raw1.csv\", \"totalSeedNum\", MobileViTV2WheatModel, \"./TotalSeedNum/ResultModelTotalSeedNum\")\n",
    "setAndTrainModel(\"./TotalSeedWeightAfterDry/DataKey_RGB_DSM_totalSeedWeightAfterDry__Raw1.csv\", \"totalSeedWeightAfterDry\", MobileViTV2WheatModel, \"./TotalSeedWeightAfterDry/ResultModelTotalSeedWeightAfterDry\")\n",
    "setAndTrainModel(\"./TotalSeedWeightBeforeDry/DataKey_RGB_DSM_totalSeedWeightBeforeDry__Raw1.csv\", \"totalSeedWeightBeforeDry\", MobileViTV2WheatModel, \"./TotalSeedWeightBeforeDry/ResultModelTotalSeedWeightBeforeDry\")\n",
    "setAndTrainModel(\"./WheatEarCount/DataKey_RGB_DSM_totEarNum__Raw1.csv\", \"totEarNum\", MobileViTV2WheatModel, \"./WheatEarCount/ResultModelWheatEarCount\")\n"
   ]
  },
  {
   "cell_type": "code",
   "execution_count": null,
   "metadata": {},
   "outputs": [],
   "source": [
    "setAndTrainModel(\"./AverageEarSize/DataKey_RGB_DSM_avgEarSize__Raw1.csv\", \"avgEarSize\", ConvNeXtTinyWheatModelWithConfidence, \"./AverageEarSize/ResultModelAverageEarSize\")\n",
    "setAndTrainModel(\"./days/DataKey_RGB_DSM_days__NoERR_From3rdM_Raw1Augment6.csv\", \"days\", ConvNeXtTinyWheatModelWithConfidence, \"./days/ResultModelDaysFrom3\")\n",
    "setAndTrainModel(\"./days/DataKey_RGB_DSM_days__NoERR_From4thM_Raw1Augment6.csv\", \"days\", ConvNeXtTinyWheatModelWithConfidence, \"./days/ResultModelDaysFrom4\")\n",
    "setAndTrainModel(\"./EarWeight/DataKey_RGB_DSM_totEarWeight__Raw1.csv\", \"totEarWeight\", ConvNeXtTinyWheatModelWithConfidence, \"./EarWeight/ResultModelEarWeight\")\n",
    "setAndTrainModel(\"./LeafLength/DataKey_RGB_DSM_leafLength__Raw1.csv\", \"leafLength\", ConvNeXtTinyWheatModelWithConfidence, \"./LeafLength/ResultModelLeafLength\")\n",
    "setAndTrainModel(\"./LeafWidth/DataKey_RGB_DSM_leafWidth__Raw1.csv\", \"leafWidth\", ConvNeXtTinyWheatModelWithConfidence, \"./LeafWidth/ResultModelLeafWidth\")\n",
    "setAndTrainModel(\"./StrawWeightAfterDry/DataKey_RGB_DSM_20StrawWeightAfterDry__Raw1.csv\", \"20StrawWeightAfterDry\", ConvNeXtTinyWheatModelWithConfidence, \"./StrawWeightAfterDry/ResultModelStrawWeightAfterDry\")\n",
    "setAndTrainModel(\"./StrawWeightBeforeDry/DataKey_RGB_DSM_20StrawWeightBeforeDry__Raw1.csv\", \"20StrawWeightBeforeDry\", ConvNeXtTinyWheatModelWithConfidence, \"./StrawWeightBeforeDry/ResultModelStrawWeightBeforeDry\")\n",
    "setAndTrainModel(\"./TotalSeedNum/DataKey_RGB_DSM_totalSeedNum__Raw1.csv\", \"totalSeedNum\", ConvNeXtTinyWheatModelWithConfidence, \"./TotalSeedNum/ResultModelTotalSeedNum\")\n",
    "setAndTrainModel(\"./TotalSeedWeightAfterDry/DataKey_RGB_DSM_totalSeedWeightAfterDry__Raw1.csv\", \"totalSeedWeightAfterDry\", ConvNeXtTinyWheatModelWithConfidence, \"./TotalSeedWeightAfterDry/ResultModelTotalSeedWeightAfterDry\")\n",
    "setAndTrainModel(\"./TotalSeedWeightBeforeDry/DataKey_RGB_DSM_totalSeedWeightBeforeDry__Raw1.csv\", \"totalSeedWeightBeforeDry\", ConvNeXtTinyWheatModelWithConfidence, \"./TotalSeedWeightBeforeDry/ResultModelTotalSeedWeightBeforeDry\")\n",
    "setAndTrainModel(\"./WheatEarCount/DataKey_RGB_DSM_totEarNum__Raw1.csv\", \"totEarNum\", ConvNeXtTinyWheatModelWithConfidence, \"./WheatEarCount/ResultModelWheatEarCount\")\n"
   ]
  },
  {
   "cell_type": "code",
   "execution_count": null,
   "metadata": {},
   "outputs": [],
   "source": [
    "setAndTrainModel_addextrainput(\"./StrawWeightAfterDry/DataKey_RGB_DSM_20StrawWeightBeforeDry_20StrawWeightAfterDry__Raw1.csv\", \"20StrawWeightBeforeDry\",  \"20StrawWeightAfterDry\", DenseNetConfidenceAddoneextrainput, \"./StrawWeightAfterDry/ResultModelStrawWeightAfterDry\")\n",
    "setAndTrainModel_addextrainput(\"./TotalSeedWeightAfterDry/DataKey_RGB_DSM_totalSeedWeightBeforeDry_totalSeedWeightAfterDry__Raw1.csv\", \"totalSeedWeightBeforeDry\",  \"totalSeedWeightAfterDry\", DenseNetConfidenceAddoneextrainput, \"./TotalSeedWeightAfterDry/ResultModelTotalSeedWeightAfterDry\")\n",
    "setAndTrainModel_addextrainput(\"./WheatEarCount/DataKey_RGB_DSM_totEarWeight_totEarNum__Raw1.csv\", \"totEarWeight\",  \"totEarNum\", DenseNetConfidenceAddoneextrainput, \"./WheatEarCount/ResultModelWheatEarCount\")\n",
    "setAndTrainModel_addextrainput(\"./StrawWeightAfterDry/DataKey_RGB_DSM_20StrawWeightBeforeDry_20StrawWeightAfterDry__Raw1.csv\", \"20StrawWeightBeforeDry\",  \"20StrawWeightAfterDry\", MobileViTV2ConfidenceAddoneextrainput, \"./StrawWeightAfterDry/ResultModelStrawWeightAfterDry\")\n",
    "setAndTrainModel_addextrainput(\"./TotalSeedWeightAfterDry/DataKey_RGB_DSM_totalSeedWeightBeforeDry_totalSeedWeightAfterDry__Raw1.csv\", \"totalSeedWeightBeforeDry\",  \"totalSeedWeightAfterDry\", MobileViTV2ConfidenceAddoneextrainput, \"./TotalSeedWeightAfterDry/ResultModelTotalSeedWeightAfterDry\")\n",
    "setAndTrainModel_addextrainput(\"./WheatEarCount/DataKey_RGB_DSM_totEarWeight_totEarNum__Raw1.csv\", \"totEarWeight\",  \"totEarNum\", MobileViTV2ConfidenceAddoneextrainput, \"./WheatEarCount/ResultModelWheatEarCount\")\n",
    "setAndTrainModel_addextrainput(\"./StrawWeightAfterDry/DataKey_RGB_DSM_20StrawWeightBeforeDry_20StrawWeightAfterDry__Raw1.csv\", \"20StrawWeightBeforeDry\",  \"20StrawWeightAfterDry\", ConvNeXtTinyConfidenceAddoneextrainput, \"./StrawWeightAfterDry/ResultModelStrawWeightAfterDry\")\n",
    "setAndTrainModel_addextrainput(\"./TotalSeedWeightAfterDry/DataKey_RGB_DSM_totalSeedWeightBeforeDry_totalSeedWeightAfterDry__Raw1.csv\", \"totalSeedWeightBeforeDry\",  \"totalSeedWeightAfterDry\", ConvNeXtTinyConfidenceAddoneextrainput, \"./TotalSeedWeightAfterDry/ResultModelTotalSeedWeightAfterDry\")\n",
    "setAndTrainModel_addextrainput(\"./WheatEarCount/DataKey_RGB_DSM_totEarWeight_totEarNum__Raw1.csv\", \"totEarWeight\",  \"totEarNum\", ConvNeXtTinyConfidenceAddoneextrainput, \"./WheatEarCount/ResultModelWheatEarCount\")\n"
   ]
  },
  {
   "cell_type": "markdown",
   "metadata": {},
   "source": [
    "PREVIOUS TIME:"
   ]
  },
  {
   "cell_type": "code",
   "execution_count": null,
   "metadata": {},
   "outputs": [],
   "source": [
    "# setAndTrainModel(\"./Height/DataKey_RGB_DSM_Height.csv\", \"Height\", EfficientNetV2MWheatModelWithConfidence, \"./Height/ResultModelHeight\")\n",
    "# setAndTrainModel(\"./StrawWeightAfterDry/DataKey_RGB_DSM_20StrawWeightAfterDry.csv\", \"20StrawWeightAfterDry\", EfficientNetV2MWheatModelWithConfidence, \"./StrawWeightAfterDry/ResultModelStrawWeightAfterDry\")\n",
    "setAndTrainModel_addextrainput(\"./StrawWeightAfterDry/DataKey_RGB_DSM_20StrawWeightBeforeDry_20StrawWeightAfterDry.csv\", \"20StrawWeightBeforeDry\", \"20StrawWeightAfterDry\", EfficientNetV2MConfidenceAddeonextrainput, \"./StrawWeightAfterDry/ResultModelStrawWeightAfterDry\")\n",
    "setAndTrainModel(\"./StrawWeightBeforeDry/DataKey_RGB_DSM_20StrawWeightBeforeDry.csv\", \"20StrawWeightBeforeDry\", EfficientNetV2MWheatModelWithConfidence, \"./StrawWeightBeforeDry/ResultModelStrawWeightBeforeDry\")\n",
    "setAndTrainModel(\"./TotalSeedNum/DataKey_RGB_DSM_totalSeedNum.csv\", \"totalSeedNum\", EfficientNetV2MWheatModelWithConfidence, \"./TotalSeedNum/ResultModelTotalSeedNum\")\n",
    "setAndTrainModel(\"./TotalSeedWeightAfterDry/DataKey_RGB_DSM_totalSeedWeightAfterDry.csv\", \"totalSeedWeightAfterDry\", EfficientNetV2MWheatModelWithConfidence, \"./TotalSeedWeightAfterDry/ResultModelTotalSeedWeightAfterDry\")\n",
    "setAndTrainModel_addextrainput(\"./TotalSeedWeightAfterDry/DataKey_RGB_DSM_totalSeedWeightBeforeDry_totalSeedWeightAfterDry.csv\", \"totalSeedWeightBeforeDry\", \"totalSeedWeightAfterDry\", EfficientNetV2MConfidenceAddeonextrainput, \"./TotalSeedWeightAfterDry/ResultModelTotalSeedWeightAfterDry\")\n",
    "setAndTrainModel(\"./TotalSeedWeightBeforeDry/DataKey_RGB_DSM_totalSeedWeightBeforeDry.csv\", \"totalSeedWeightBeforeDry\", EfficientNetV2MWheatModelWithConfidence, \"./TotalSeedWeightBeforeDry/ResultModelTotalSeedWeightBeforeDry\")\n",
    "setAndTrainModel(\"./LeafWidth/DataKey_RGB_DSM_leafWidth.csv\", \"leafWidth\", EfficientNetV2MWheatModelWithConfidence, \"./LeafWidth/ResultModelLeafWidth\")\n"
   ]
  },
  {
   "cell_type": "code",
   "execution_count": null,
   "metadata": {},
   "outputs": [],
   "source": [
    "# setAndTrainModel(\"./Height/DataKey_RGB_DSM_Height.csv\", \"Height\", RegNetY8GFModel, \"./Height/ResultModelHeight\")\n",
    "setAndTrainModel(\"./StrawWeightAfterDry/DataKey_RGB_DSM_20StrawWeightAfterDry.csv\", \"20StrawWeightAfterDry\", RegNetY8GFModel, \"./StrawWeightAfterDry/ResultModelStrawWeightAfterDry\")\n",
    "setAndTrainModel_addextrainput(\"./StrawWeightAfterDry/DataKey_RGB_DSM_20StrawWeightBeforeDry_20StrawWeightAfterDry.csv\", \"20StrawWeightBeforeDry\", \"20StrawWeightAfterDry\", RegNetY8GFConfidenceAddoneextrainput, \"./StrawWeightAfterDry/ResultModelStrawWeightAfterDry\")\n",
    "setAndTrainModel(\"./StrawWeightBeforeDry/DataKey_RGB_DSM_20StrawWeightBeforeDry.csv\", \"20StrawWeightBeforeDry\", RegNetY8GFModel, \"./StrawWeightBeforeDry/ResultModelStrawWeightBeforeDry\")\n",
    "setAndTrainModel(\"./TotalSeedNum/DataKey_RGB_DSM_totalSeedNum.csv\", \"totalSeedNum\", RegNetY8GFModel, \"./TotalSeedNum/ResultModelTotalSeedNum\")\n",
    "setAndTrainModel(\"./TotalSeedWeightAfterDry/DataKey_RGB_DSM_totalSeedWeightAfterDry.csv\", \"totalSeedWeightAfterDry\", RegNetY8GFModel, \"./TotalSeedWeightAfterDry/ResultModelTotalSeedWeightAfterDry\")\n",
    "setAndTrainModel_addextrainput(\"./TotalSeedWeightAfterDry/DataKey_RGB_DSM_totalSeedWeightBeforeDry_totalSeedWeightAfterDry.csv\", \"totalSeedWeightBeforeDry\", \"totalSeedWeightAfterDry\", RegNetY8GFConfidenceAddoneextrainput, \"./TotalSeedWeightAfterDry/ResultModelTotalSeedWeightAfterDry\")\n",
    "setAndTrainModel(\"./TotalSeedWeightBeforeDry/DataKey_RGB_DSM_totalSeedWeightBeforeDry.csv\", \"totalSeedWeightBeforeDry\", RegNetY8GFModel, \"./TotalSeedWeightBeforeDry/ResultModelTotalSeedWeightBeforeDry\")\n",
    "setAndTrainModel(\"./LeafWidth/DataKey_RGB_DSM_leafWidth.csv\", \"leafWidth\", RegNetY8GFModel, \"./LeafWidth/ResultModelLeafWidth\")\n"
   ]
  },
  {
   "cell_type": "code",
   "execution_count": null,
   "metadata": {},
   "outputs": [],
   "source": [
    "# setAndTrainModel(\"./Height/DataKey_RGB_DSM_Height.csv\", \"Height\", DenseNet121WheatModel, \"./Height/ResultModelHeight\")\n",
    "# setAndTrainModel(\"./StrawWeightAfterDry/DataKey_RGB_DSM_20StrawWeightAfterDry.csv\", \"20StrawWeightAfterDry\", DenseNet121WheatModel, \"./StrawWeightAfterDry/ResultModelStrawWeightAfterDry\")\n",
    "setAndTrainModel_addextrainput(\"./StrawWeightAfterDry/DataKey_RGB_DSM_20StrawWeightBeforeDry_20StrawWeightAfterDry.csv\", \"20StrawWeightBeforeDry\", \"20StrawWeightAfterDry\", DenseNetConfidenceAddoneextrainput, \"./StrawWeightAfterDry/ResultModelStrawWeightAfterDry\")\n",
    "setAndTrainModel(\"./StrawWeightBeforeDry/DataKey_RGB_DSM_20StrawWeightBeforeDry.csv\", \"20StrawWeightBeforeDry\", DenseNet121WheatModel, \"./StrawWeightBeforeDry/ResultModelStrawWeightBeforeDry\")\n",
    "setAndTrainModel(\"./TotalSeedNum/DataKey_RGB_DSM_totalSeedNum.csv\", \"totalSeedNum\", DenseNet121WheatModel, \"./TotalSeedNum/ResultModelTotalSeedNum\")\n",
    "setAndTrainModel(\"./TotalSeedWeightAfterDry/DataKey_RGB_DSM_totalSeedWeightAfterDry.csv\", \"totalSeedWeightAfterDry\", DenseNet121WheatModel, \"./TotalSeedWeightAfterDry/ResultModelTotalSeedWeightAfterDry\")\n",
    "setAndTrainModel_addextrainput(\"./TotalSeedWeightAfterDry/DataKey_RGB_DSM_totalSeedWeightBeforeDry_totalSeedWeightAfterDry.csv\", \"totalSeedWeightBeforeDry\", \"totalSeedWeightAfterDry\", DenseNetConfidenceAddoneextrainput, \"./TotalSeedWeightAfterDry/ResultModelTotalSeedWeightAfterDry\")\n",
    "setAndTrainModel(\"./TotalSeedWeightBeforeDry/DataKey_RGB_DSM_totalSeedWeightBeforeDry.csv\", \"totalSeedWeightBeforeDry\", DenseNet121WheatModel, \"./TotalSeedWeightBeforeDry/ResultModelTotalSeedWeightBeforeDry\")\n",
    "setAndTrainModel(\"./LeafWidth/DataKey_RGB_DSM_leafWidth.csv\", \"leafWidth\", DenseNet121WheatModel, \"./LeafWidth/ResultModelLeafWidth\")\n"
   ]
  },
  {
   "cell_type": "code",
   "execution_count": null,
   "metadata": {},
   "outputs": [],
   "source": [
    "setAndTrainModel(\"./Height/DataKey_RGB_DSM_Height.csv\", \"Height\", MobileViTV2WheatModel, \"./Height/ResultModelHeight\")\n",
    "setAndTrainModel(\"./StrawWeightAfterDry/DataKey_RGB_DSM_20StrawWeightAfterDry.csv\", \"20StrawWeightAfterDry\", MobileViTV2WheatModel, \"./StrawWeightAfterDry/ResultModelStrawWeightAfterDry\")\n",
    "setAndTrainModel_addextrainput(\"./StrawWeightAfterDry/DataKey_RGB_DSM_20StrawWeightBeforeDry_20StrawWeightAfterDry.csv\", \"20StrawWeightBeforeDry\", \"20StrawWeightAfterDry\", MobileViTV2ConfidenceAddoneextrainput, \"./StrawWeightAfterDry/ResultModelStrawWeightAfterDry\")\n",
    "setAndTrainModel(\"./StrawWeightBeforeDry/DataKey_RGB_DSM_20StrawWeightBeforeDry.csv\", \"20StrawWeightBeforeDry\", MobileViTV2WheatModel, \"./StrawWeightBeforeDry/ResultModelStrawWeightBeforeDry\")\n",
    "setAndTrainModel(\"./TotalSeedNum/DataKey_RGB_DSM_totalSeedNum.csv\", \"totalSeedNum\", MobileViTV2WheatModel, \"./TotalSeedNum/ResultModelTotalSeedNum\")\n",
    "setAndTrainModel(\"./TotalSeedWeightAfterDry/DataKey_RGB_DSM_totalSeedWeightAfterDry.csv\", \"totalSeedWeightAfterDry\", MobileViTV2WheatModel, \"./TotalSeedWeightAfterDry/ResultModelTotalSeedWeightAfterDry\")\n",
    "setAndTrainModel_addextrainput(\"./TotalSeedWeightAfterDry/DataKey_RGB_DSM_totalSeedWeightBeforeDry_totalSeedWeightAfterDry.csv\", \"totalSeedWeightBeforeDry\", \"totalSeedWeightAfterDry\", MobileViTV2ConfidenceAddoneextrainput, \"./TotalSeedWeightAfterDry/ResultModelTotalSeedWeightAfterDry\")\n",
    "setAndTrainModel(\"./TotalSeedWeightBeforeDry/DataKey_RGB_DSM_totalSeedWeightBeforeDry.csv\", \"totalSeedWeightBeforeDry\", MobileViTV2WheatModel, \"./TotalSeedWeightBeforeDry/ResultModelTotalSeedWeightBeforeDry\")\n",
    "setAndTrainModel(\"./LeafWidth/DataKey_RGB_DSM_leafWidth.csv\", \"leafWidth\", MobileViTV2WheatModel, \"./LeafWidth/ResultModelLeafWidth\")\n"
   ]
  },
  {
   "cell_type": "code",
   "execution_count": null,
   "metadata": {},
   "outputs": [],
   "source": [
    "setAndTrainModel(\"./Height/DataKey_RGB_DSM_Height.csv\", \"Height\", ConvNeXtTinyWheatModelWithConfidence, \"./Height/ResultModelHeight\")\n",
    "setAndTrainModel(\"./StrawWeightAfterDry/DataKey_RGB_DSM_20StrawWeightAfterDry.csv\", \"20StrawWeightAfterDry\", ConvNeXtTinyWheatModelWithConfidence, \"./StrawWeightAfterDry/ResultModelStrawWeightAfterDry\")\n",
    "setAndTrainModel_addextrainput(\"./StrawWeightAfterDry/DataKey_RGB_DSM_20StrawWeightBeforeDry_20StrawWeightAfterDry.csv\", \"20StrawWeightBeforeDry\", \"20StrawWeightAfterDry\", ConvNeXtTinyConfidenceAddoneextrainput, \"./StrawWeightAfterDry/ResultModelStrawWeightAfterDry\")\n",
    "setAndTrainModel(\"./StrawWeightBeforeDry/DataKey_RGB_DSM_20StrawWeightBeforeDry.csv\", \"20StrawWeightBeforeDry\", ConvNeXtTinyWheatModelWithConfidence, \"./StrawWeightBeforeDry/ResultModelStrawWeightBeforeDry\")\n",
    "setAndTrainModel(\"./TotalSeedNum/DataKey_RGB_DSM_totalSeedNum.csv\", \"totalSeedNum\", ConvNeXtTinyWheatModelWithConfidence, \"./TotalSeedNum/ResultModelTotalSeedNum\")\n",
    "setAndTrainModel(\"./TotalSeedWeightAfterDry/DataKey_RGB_DSM_totalSeedWeightAfterDry.csv\", \"totalSeedWeightAfterDry\", ConvNeXtTinyWheatModelWithConfidence, \"./TotalSeedWeightAfterDry/ResultModelTotalSeedWeightAfterDry\")\n",
    "setAndTrainModel_addextrainput(\"./TotalSeedWeightAfterDry/DataKey_RGB_DSM_totalSeedWeightBeforeDry_totalSeedWeightAfterDry.csv\", \"totalSeedWeightBeforeDry\", \"totalSeedWeightAfterDry\", ConvNeXtTinyConfidenceAddoneextrainput, \"./TotalSeedWeightAfterDry/ResultModelTotalSeedWeightAfterDry\")\n",
    "setAndTrainModel(\"./TotalSeedWeightBeforeDry/DataKey_RGB_DSM_totalSeedWeightBeforeDry.csv\", \"totalSeedWeightBeforeDry\", ConvNeXtTinyWheatModelWithConfidence, \"./TotalSeedWeightBeforeDry/ResultModelTotalSeedWeightBeforeDry\")\n",
    "setAndTrainModel(\"./LeafWidth/DataKey_RGB_DSM_leafWidth.csv\", \"leafWidth\", ConvNeXtTinyWheatModelWithConfidence, \"./LeafWidth/ResultModelLeafWidth\")\n"
   ]
  }
 ],
 "metadata": {
  "kernelspec": {
   "display_name": "Python 3",
   "language": "python",
   "name": "python3"
  },
  "language_info": {
   "codemirror_mode": {
    "name": "ipython",
    "version": 3
   },
   "file_extension": ".py",
   "mimetype": "text/x-python",
   "name": "python",
   "nbconvert_exporter": "python",
   "pygments_lexer": "ipython3",
   "version": "3.10.10"
  }
 },
 "nbformat": 4,
 "nbformat_minor": 2
}
