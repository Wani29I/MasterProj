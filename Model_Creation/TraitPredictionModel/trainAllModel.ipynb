{
 "cells": [
  {
   "cell_type": "code",
   "execution_count": 1,
   "metadata": {},
   "outputs": [
    {
     "name": "stderr",
     "output_type": "stream",
     "text": [
      "c:\\Users\\Crop2024_GA\\AppData\\Local\\Programs\\Python\\Python313\\Lib\\site-packages\\tqdm\\auto.py:21: TqdmWarning: IProgress not found. Please update jupyter and ipywidgets. See https://ipywidgets.readthedocs.io/en/stable/user_install.html\n",
      "  from .autonotebook import tqdm as notebook_tqdm\n"
     ]
    }
   ],
   "source": [
    "import os\n",
    "import sys\n",
    "# Get current working directory instead of __file__\n",
    "sys.path.append(os.path.abspath(os.path.join(os.getcwd(), \"..\")))\n",
    "from ModelArchitecture.ConvNeXtTinyModel import ConvNeXtTinyWheatModelWithConfidence\n",
    "from ModelArchitecture.DenseNetModel import DenseNet121WheatModel\n",
    "from ModelArchitecture.EfficientNetV2Model import EfficientNetV2SWheatCountWithConfidence\n",
    "from ModelArchitecture.RepVGGA1Model import RepVGGA1WheatModelWithConfidence\n",
    "from ModelArchitecture.EfficientNetV2MModel import EfficientNetV2MWheatModelWithConfidence\n",
    "from ModelArchitecture.RepVGGB1g4Model import RepVGGB1g4Model\n",
    "from ModelArchitecture.RegNetY8GFModel import RegNetY8GFModel\n",
    "from ModelArchitecture.MobileViTV2Model import MobileViTV2WheatModel\n",
    "from ModelArchitecture.MobileViTV2AddoneextrainputModel import MobileViTV2ConfidenceAddoneextrainput\n",
    "from ModelArchitecture.ConvNeXtTinyAddoneextrainputModel import ConvNeXtTinyConfidenceAddoneextrainput\n",
    "from ModelArchitecture.EfficientNetV2SAddextrainputModel import EfficientNetV2SConfidenceAddoneextrainput, EfficientNetV2SConfidenceAdd2Inputs\n",
    "from ModelArchitecture.DenseNetAddextrainputModel import DenseNetConfidenceAddoneextrainput, DenseNetConfidenceAdd2Inputs\n",
    "from ModelArchitecture.RepVGGA1AddextrainputModel import RepVGGA1ConfidenceAddoneextrainput, RepVGGA1ConfidenceAdd2Inputs\n",
    "from ModelArchitecture.EfficientNetV2MAddextrainputModel import EfficientNetV2MConfidenceAddeonextrainput, EfficientNetV2MConfidenceAdd2Inputs\n",
    "from ModelArchitecture.RegNetY8GFAddextrainputModel import RegNetY8GFConfidenceAddoneextrainput, RegNetYConfidenceAdd2Inputs\n",
    "from modelFunc import setAndTrainModel, setAndTrainModel_addextrainput"
   ]
  },
  {
   "cell_type": "code",
   "execution_count": 2,
   "metadata": {},
   "outputs": [],
   "source": [
    "# setAndTrainModel(\"./WheatEarCount/DataKey_RGB_DSM_totEarNum.csv\", \"totEarNum\", EfficientNetV2SWheatCountWithConfidence, \"./WheatEarCount/ResultModelWheatEarCount\")\n",
    "# setAndTrainModel(\"./WheatEarCount/DataKey_RGB_DSM_totEarNum.csv\", \"totEarNum\", ConvNeXtTinyWheatModelWithConfidence, \"./WheatEarCount/ResultModelWheatEarCount\")\n",
    "# setAndTrainModel(\"./WheatEarCount/DataKey_RGB_DSM_totEarNum.csv\", \"totEarNum\", RepVGGA1WheatModelWithConfidence, \"./WheatEarCount/ResultModelWheatEarCount\")\n",
    "# setAndTrainModel(\"./WheatEarCount/DataKey_RGB_DSM_totEarNum.csv\", \"totEarNum\", DenseNet121WheatModel, \"./WheatEarCount/ResultModelWheatEarCount\")\n",
    "# setAndTrainModel(\"./SPAD/DataKey_RGB_DSM_SPAD.csv\", \"SPAD\", EfficientNetV2SWheatCountWithConfidence, \"./SPAD/ResultModelSPAD\")\n",
    "# setAndTrainModel(\"./SPAD/DataKey_RGB_DSM_SPAD.csv\", \"SPAD\", ConvNeXtTinyWheatModelWithConfidence, \"./SPAD/ResultModelSPAD\")\n",
    "# setAndTrainModel(\"./SPAD/DataKey_RGB_DSM_SPAD.csv\", \"SPAD\", RepVGGA1WheatModelWithConfidence, \"./SPAD/ResultModelSPAD\")\n",
    "# setAndTrainModel(\"./SPAD/DataKey_RGB_DSM_SPAD.csv\", \"SPAD\", DenseNet121WheatModel, \"./SPAD/ResultModelSPAD\")\n",
    "# setAndTrainModel(\"./LAI/DataKey_RGB_DSM_LAI.csv\", \"LAI\", EfficientNetV2SWheatCountWithConfidence, \"./LAI/ResultModelLAI\")\n",
    "# setAndTrainModel(\"./LAI/DataKey_RGB_DSM_LAI.csv\", \"LAI\", ConvNeXtTinyWheatModelWithConfidence, \"./LAI/ResultModelLAI\")\n",
    "# setAndTrainModel(\"./LAI/DataKey_RGB_DSM_LAI.csv\", \"LAI\", RepVGGA1WheatModelWithConfidence, \"./LAI/ResultModelLAI\")\n",
    "# setAndTrainModel(\"./LAI/DataKey_RGB_DSM_LAI.csv\", \"LAI\", DenseNet121WheatModel, \"./LAI/ResultModelLAI\")\n",
    "# setAndTrainModel(\"./EarWeight/DataKey_RGB_DSM_totEarWeight.csv\", \"totEarWeight\", EfficientNetV2SWheatCountWithConfidence, \"./EarWeight/ResultModelEarWeight\")\n",
    "# setAndTrainModel(\"./EarWeight/DataKey_RGB_DSM_totEarWeight.csv\", \"totEarWeight\", ConvNeXtTinyWheatModelWithConfidence, \"./EarWeight/ResultModelEarWeight\")\n",
    "# setAndTrainModel(\"./EarWeight/DataKey_RGB_DSM_totEarWeight.csv\", \"totEarWeight\", RepVGGA1WheatModelWithConfidence, \"./EarWeight/ResultModelEarWeight\")\n",
    "# setAndTrainModel(\"./EarWeight/DataKey_RGB_DSM_totEarWeight.csv\", \"totEarWeight\", DenseNet121WheatModel, \"./EarWeight/ResultModelEarWeight\")\n",
    "# setAndTrainModel(\"./AverageEarSize/DataKey_RGB_DSM_avgEarSize.csv\", \"avgEarSize\", EfficientNetV2SWheatCountWithConfidence, \"./AverageEarSize/ResultModelAverageEarSize\")\n",
    "# setAndTrainModel(\"./AverageEarSize/DataKey_RGB_DSM_avgEarSize.csv\", \"avgEarSize\", ConvNeXtTinyWheatModelWithConfidence, \"./AverageEarSize/ResultModelAverageEarSize\")\n",
    "# setAndTrainModel(\"./AverageEarSize/DataKey_RGB_DSM_avgEarSize.csv\", \"avgEarSize\", RepVGGA1WheatModelWithConfidence, \"./AverageEarSize/ResultModelAverageEarSize\")\n",
    "# setAndTrainModel(\"./AverageEarSize/DataKey_RGB_DSM_avgEarSize.csv\", \"avgEarSize\", DenseNet121WheatModel, \"./AverageEarSize/ResultModelAverageEarSize\")\n",
    "# setAndTrainModel_addextrainput(\"./WheatEarCount/DataKey_RGB_DSM_totEarWeight_totEarNum.csv\", \"totEarWeight\", \"totEarNum\", EfficientNetV2SConfidenceAddoneextrainput, \"./WheatEarCount/ResultModelWheatEarCount\")\n",
    "# setAndTrainModel_addextrainput(\"./WheatEarCount/DataKey_RGB_DSM_totEarWeight_totEarNum.csv\", \"totEarWeight\", \"totEarNum\", DenseNetConfidenceAddoneextrainput, \"./WheatEarCount/ResultModelWheatEarCount\")\n",
    "# setAndTrainModel_addextrainput(\"./WheatEarCount/DataKey_RGB_DSM_totEarWeight_totEarNum.csv\", \"totEarWeight\", \"totEarNum\", RepVGGA1ConfidenceAddoneextrainput, \"./WheatEarCount/ResultModelWheatEarCount\")\n",
    "# setAndTrainModel_addextrainput(\"./WheatEarCount/DataKey_RGB_DSM_totEarWeight_totEarNum.csv\", \"totEarWeight\", \"totEarNum\", EfficientNetV2MConfidenceAddeonextrainput, \"./WheatEarCount/ResultModelWheatEarCount\")\n",
    "# setAndTrainModel(\"./WheatEarCount/DataKey_RGB_DSM_totEarNum.csv\", \"totEarNum\", EfficientNetV2MWheatModelWithConfidence, \"./WheatEarCount/ResultModelWheatEarCount\")\n",
    "# setAndTrainModel(\"./WheatEarCount/DataKey_RGB_DSM_totEarNum.csv\", \"totEarNum\", RepVGGB1g4Model, \"./WheatEarCount/ResultModelWheatEarCount\")\n",
    "# setAndTrainModel(\"./WheatEarCount/DataKey_RGB_DSM_totEarNum.csv\", \"totEarNum\", RegNetY8GFModel, \"./WheatEarCount/ResultModelWheatEarCount\")\n",
    "# setAndTrainModel_addextrainput(\"./SPAD/DataKey_RGB_DSM_SPAD_time.csv\", \"time\", \"SPAD\", EfficientNetV2SConfidenceAddoneextrainput, \"./SPAD/ResultModelSPAD\")\n",
    "# setAndTrainModel_addextrainput(\"./SPAD/DataKey_RGB_DSM_SPAD_time.csv\", \"time\", \"SPAD\", DenseNetConfidenceAddoneextrainput, \"./SPAD/ResultModelSPAD\")\n",
    "# setAndTrainModel_addextrainput(\"./SPAD/DataKey_RGB_DSM_SPAD_time.csv\", \"time\", \"SPAD\", RepVGGA1ConfidenceAddoneextrainput, \"./SPAD/ResultModelSPAD\")\n",
    "# setAndTrainModel_addextrainput(\"./SPAD/DataKey_RGB_DSM_SPAD_time.csv\", \"time\", \"SPAD\", EfficientNetV2MConfidenceAddeonextrainput, \"./SPAD/ResultModelSPAD\")\n",
    "# setAndTrainModel(\"./SPAD/DataKey_RGB_DSM_SPAD.csv\", \"SPAD\", EfficientNetV2MWheatModelWithConfidence, \"./SPAD/ResultModelSPAD\")\n",
    "# setAndTrainModel(\"./SPAD/DataKey_RGB_DSM_SPAD.csv\", \"SPAD\", RepVGGB1g4Model, \"./SPAD/ResultModelSPAD\")\n",
    "# setAndTrainModel(\"./SPAD/DataKey_RGB_DSM_SPAD.csv\", \"SPAD\", RegNetY8GFModel, \"./SPAD/ResultModelSPAD\")\n",
    "# setAndTrainModel_addextrainput(\"./LAI/DataKey_RGB_DSM_totEarWeight_LAI.csv\", \"totEarWeight\", \"LAI\", EfficientNetV2SConfidenceAddoneextrainput, \"./LAI/ResultModelLAI\")\n",
    "# setAndTrainModel_addextrainput(\"./LAI/DataKey_RGB_DSM_totEarWeight_LAI.csv\", \"totEarWeight\", \"LAI\", DenseNetConfidenceAddoneextrainput, \"./LAI/ResultModelLAI\")\n",
    "# setAndTrainModel_addextrainput(\"./LAI/DataKey_RGB_DSM_totEarWeight_LAI.csv\", \"totEarWeight\", \"LAI\", RepVGGA1ConfidenceAddoneextrainput, \"./LAI/ResultModelLAI\")\n",
    "# setAndTrainModel_addextrainput(\"./LAI/DataKey_RGB_DSM_totEarWeight_LAI.csv\", \"totEarWeight\", \"LAI\", EfficientNetV2MConfidenceAddeonextrainput, \"./LAI/ResultModelLAI\")\n",
    "# setAndTrainModel_addextrainput(\"./LAI/DataKey_RGB_DSM_LAI_time.csv\", \"time\", \"LAI\", EfficientNetV2SConfidenceAddoneextrainput, \"./LAI/ResultModelLAI\")\n",
    "# setAndTrainModel_addextrainput(\"./LAI/DataKey_RGB_DSM_LAI_time.csv\", \"time\", \"LAI\", DenseNetConfidenceAddoneextrainput, \"./LAI/ResultModelLAI\")\n",
    "# setAndTrainModel_addextrainput(\"./LAI/DataKey_RGB_DSM_LAI_time.csv\", \"time\", \"LAI\", RepVGGA1ConfidenceAddoneextrainput, \"./LAI/ResultModelLAI\")\n",
    "# setAndTrainModel_addextrainput(\"./LAI/DataKey_RGB_DSM_LAI_time.csv\", \"time\", \"LAI\", EfficientNetV2MConfidenceAddeonextrainput, \"./LAI/ResultModelLAI\")\n",
    "# setAndTrainModel_addextrainput(\"./LAI/DataKey_RGB_DSM_totEarWeight_LAI_time.csv\", [\"totEarWeight\", \"time\"], \"LAI\", EfficientNetV2SConfidenceAdd2Inputs, \"./LAI/ResultModelLAI\")\n",
    "# setAndTrainModel_addextrainput(\"./LAI/DataKey_RGB_DSM_totEarWeight_LAI_time.csv\", [\"totEarWeight\", \"time\"], \"LAI\", DenseNetConfidenceAdd2Inputs, \"./LAI/ResultModelLAI\")\n",
    "# setAndTrainModel_addextrainput(\"./LAI/DataKey_RGB_DSM_totEarWeight_LAI_time.csv\", [\"totEarWeight\", \"time\"], \"LAI\", EfficientNetV2MConfidenceAdd2Inputs, \"./LAI/ResultModelLAI\")\n",
    "# setAndTrainModel(\"./LAI/DataKey_RGB_DSM_LAI.csv\", \"LAI\", EfficientNetV2MWheatModelWithConfidence, \"./LAI/ResultModelLAI\")\n",
    "# setAndTrainModel(\"./LAI/DataKey_RGB_DSM_LAI.csv\", \"LAI\", RegNetY8GFModel, \"./LAI/ResultModelLAI\")\n",
    "# setAndTrainModel(\"./EarWeight/DataKey_RGB_DSM_totEarWeight.csv\", \"totEarWeight\", EfficientNetV2MWheatModelWithConfidence, \"./EarWeight/ResultModelEarWeight\")\n",
    "# setAndTrainModel(\"./EarWeight/DataKey_RGB_DSM_totEarWeight.csv\", \"totEarWeight\", RegNetY8GFModel, \"./EarWeight/ResultModelEarWeight\")\n",
    "# setAndTrainModel(\"./AverageEarSize/DataKey_RGB_DSM_avgEarSize.csv\", \"avgEarSize\", EfficientNetV2MWheatModelWithConfidence, \"./AverageEarSize/ResultModelAverageEarSize\")\n",
    "# setAndTrainModel(\"./AverageEarSize/DataKey_RGB_DSM_avgEarSize.csv\", \"avgEarSize\", RegNetY8GFModel, \"./AverageEarSize/ResultModelAverageEarSize\")\n",
    "# setAndTrainModel_addextrainput(\"./LAI/DataKey_RGB_DSM_totEarWeight_LAI_time.csv\", [\"totEarWeight\", \"time\"], \"LAI\", RepVGGA1ConfidenceAdd2Inputs, \"./LAI/ResultModelLAI\")\n",
    "# setAndTrainModel(\"./LAI/DataKey_RGB_DSM_LAI.csv\", \"LAI\", RepVGGB1g4Model, \"./LAI/ResultModelLAI\")\n",
    "# setAndTrainModel(\"./EarWeight/DataKey_RGB_DSM_totEarWeight.csv\", \"totEarWeight\", RepVGGB1g4Model, \"./EarWeight/ResultModelEarWeight\")\n",
    "# setAndTrainModel(\"./AverageEarSize/DataKey_RGB_DSM_avgEarSize.csv\", \"avgEarSize\", RepVGGB1g4Model, \"./AverageEarSize/ResultModelAverageEarSize\")\n",
    "# setAndTrainModel_addextrainput(\"./WheatEarCount/DataKey_RGB_DSM_totEarWeight_totEarNum.csv\", \"totEarWeight\", \"totEarNum\", RegNetY8GFConfidenceAddoneextrainput, \"./WheatEarCount/ResultModelWheatEarCount\")\n",
    "# setAndTrainModel_addextrainput(\"./SPAD/DataKey_RGB_DSM_SPAD_time.csv\", \"time\", \"SPAD\", RegNetY8GFConfidenceAddoneextrainput, \"./SPAD/ResultModelSPAD\")\n",
    "# setAndTrainModel_addextrainput(\"./LAI/DataKey_RGB_DSM_totEarWeight_LAI.csv\", \"totEarWeight\", \"LAI\", RegNetY8GFConfidenceAddoneextrainput, \"./LAI/ResultModelLAI\")\n",
    "# setAndTrainModel_addextrainput(\"./LAI/DataKey_RGB_DSM_LAI_time.csv\", \"time\", \"LAI\", RegNetY8GFConfidenceAddoneextrainput, \"./LAI/ResultModelLAI\")\n",
    "# setAndTrainModel_addextrainput(\"./LAI/DataKey_RGB_DSM_totEarWeight_LAI_time.csv\", [\"totEarWeight\", \"time\"], \"LAI\", RegNetYConfidenceAdd2Inputs, \"./LAI/ResultModelLAI\")"
   ]
  },
  {
   "cell_type": "code",
   "execution_count": 3,
   "metadata": {},
   "outputs": [],
   "source": [
    "# setAndTrainModel(\"./LeafLength/DataKey_RGB_DSM_leafLength.csv\", \"leafLength\", EfficientNetV2MWheatModelWithConfidence, \"./LeafLength/ResultModelLeafLength\")\n",
    "# setAndTrainModel(\"./LeafLength/DataKey_RGB_DSM_leafLength.csv\", \"leafLength\", DenseNet121WheatModel, \"./LeafLength/ResultModelLeafLength\")\n",
    "# setAndTrainModel(\"./LeafLength/DataKey_RGB_DSM_leafLength.csv\", \"leafLength\", RegNetY8GFModel, \"./LeafLength/ResultModelLeafLength\")\n",
    "# setAndTrainModel(\"./LeafLength/DataKey_RGB_DSM_leafLength.csv\", \"leafLength\", MobileViTV2WheatModel, \"./LeafLength/ResultModelLeafLength\")\n",
    "# setAndTrainModel(\"./LeafLength/DataKey_RGB_DSM_leafLength.csv\", \"leafLength\", ConvNeXtTinyWheatModelWithConfidence, \"./LeafLength/ResultModelLeafLength\")\n",
    "# setAndTrainModel(\"./days/DataKey_RGB_DSM_days__NoERR.csv\", \"days\", EfficientNetV2MWheatModelWithConfidence, \"./days/ResultModelDaysAll\")\n",
    "# setAndTrainModel(\"./days/DataKey_RGB_DSM_days__NoERR.csv\", \"days\", DenseNet121WheatModel, \"./days/ResultModelDaysAll\")\n",
    "# setAndTrainModel(\"./days/DataKey_RGB_DSM_days__NoERR.csv\", \"days\", RegNetY8GFModel, \"./days/ResultModelDaysAll\")\n",
    "# setAndTrainModel(\"./days/DataKey_RGB_DSM_days__NoERR.csv\", \"days\", MobileViTV2WheatModel, \"./days/ResultModelDaysAll\")\n",
    "# setAndTrainModel(\"./days/DataKey_RGB_DSM_days__NoERR.csv\", \"days\", ConvNeXtTinyWheatModelWithConfidence, \"./days/ResultModelDaysAll\")\n",
    "# setAndTrainModel(\"./days/DataKey_RGB_DSM_days__NoERR_From3thM.csv\", \"days\", EfficientNetV2MWheatModelWithConfidence, \"./days/ResultModelDaysFrom3\")\n",
    "# setAndTrainModel(\"./days/DataKey_RGB_DSM_days__NoERR_From3thM.csv\", \"days\", DenseNet121WheatModel, \"./days/ResultModelDaysFrom3\")\n",
    "# setAndTrainModel(\"./days/DataKey_RGB_DSM_days__NoERR_From3thM.csv\", \"days\", RegNetY8GFModel, \"./days/ResultModelDaysFrom3\")\n",
    "# setAndTrainModel(\"./days/DataKey_RGB_DSM_days__NoERR_From3thM.csv\", \"days\", MobileViTV2WheatModel, \"./days/ResultModelDaysFrom3\")\n",
    "# setAndTrainModel(\"./days/DataKey_RGB_DSM_days__NoERR_From3thM.csv\", \"days\", ConvNeXtTinyWheatModelWithConfidence, \"./days/ResultModelDaysFrom3\")\n",
    "# setAndTrainModel(\"./days/DataKey_RGB_DSM_days__NoERR_From4thM.csv\", \"days\", EfficientNetV2MWheatModelWithConfidence, \"./days/ResultModelDaysFrom4\")\n",
    "# setAndTrainModel(\"./days/DataKey_RGB_DSM_days__NoERR_From4thM.csv\", \"days\", DenseNet121WheatModel, \"./days/ResultModelDaysFrom4\")\n",
    "# setAndTrainModel(\"./days/DataKey_RGB_DSM_days__NoERR_From4thM.csv\", \"days\", RegNetY8GFModel, \"./days/ResultModelDaysFrom4\")\n",
    "# setAndTrainModel(\"./days/DataKey_RGB_DSM_days__NoERR_From4thM.csv\", \"days\", MobileViTV2WheatModel, \"./days/ResultModelDaysFrom4\")\n",
    "# setAndTrainModel(\"./days/DataKey_RGB_DSM_days__NoERR_From4thM.csv\", \"days\", ConvNeXtTinyWheatModelWithConfidence, \"./days/ResultModelDaysFrom4\")"
   ]
  },
  {
   "cell_type": "markdown",
   "metadata": {},
   "source": [
    "new data"
   ]
  },
  {
   "cell_type": "code",
   "execution_count": 4,
   "metadata": {},
   "outputs": [],
   "source": [
    "# setAndTrainModel(\"./AverageEarSize/DataKey_RGB_DSM_avgEarSize__Raw1.csv\", \"avgEarSize\", EfficientNetV2MWheatModelWithConfidence, \"./AverageEarSize/ResultModelAverageEarSize\")\n",
    "# setAndTrainModel(\"./days/DataKey_RGB_DSM_days__NoERR_From3rdM_Raw1Augment6.csv\", \"days\", EfficientNetV2MWheatModelWithConfidence, \"./days/ResultModelDaysFrom3\")\n",
    "# setAndTrainModel(\"./days/DataKey_RGB_DSM_days__NoERR_From4thM_Raw1Augment6.csv\", \"days\", EfficientNetV2MWheatModelWithConfidence, \"./days/ResultModelDaysFrom4\")\n",
    "# setAndTrainModel(\"./EarWeight/DataKey_RGB_DSM_totEarWeight__Raw1.csv\", \"totEarWeight\", EfficientNetV2MWheatModelWithConfidence, \"./EarWeight/ResultModelEarWeight\")\n",
    "# setAndTrainModel(\"./LeafLength/DataKey_RGB_DSM_leafLength__Raw1.csv\", \"leafLength\", EfficientNetV2MWheatModelWithConfidence, \"./LeafLength/ResultModelLeafLength\")\n",
    "# setAndTrainModel(\"./LeafWidth/DataKey_RGB_DSM_leafWidth__Raw1.csv\", \"leafWidth\", EfficientNetV2MWheatModelWithConfidence, \"./LeafWidth/ResultModelLeafWidth\")\n",
    "# setAndTrainModel(\"./StrawWeightAfterDry/DataKey_RGB_DSM_20StrawWeightAfterDry__Raw1.csv\", \"20StrawWeightAfterDry\", EfficientNetV2MWheatModelWithConfidence, \"./StrawWeightAfterDry/ResultModelStrawWeightAfterDry\")\n",
    "# setAndTrainModel(\"./StrawWeightBeforeDry/DataKey_RGB_DSM_20StrawWeightBeforeDry__R  m\", EfficientNetV2MWheatModelWithConfidence, \"./TotalSeedNum/ResultModelTotalSeedNum\")\n",
    "# setAndTrainModel(\"./TotalSeedWeightBeforeDry/DataKey_RGB_DSM_totalSeedWeightBeforeDry__Raw1.csv\", \"totalSeedWeightBeforeDry\", EfficientNetV2MWheatModelWithConfidence, \"./TotalSeedWeightBeforeDry/ResultModelTotalSeedWeightBeforeDry\")\n",
    "# setAndTrainModel(\"./WheatEarCount/DataKey_RGB_DSM_totEarNum__Raw1.csv\", \"totEarNum\", EfficientNetV2MWheatModelWithConfidence, \"./WheatEarCount/ResultModelWheatEarCount\")\n",
    "# setAndTrainModel_addextrainput(\"./StrawWeightAfterDry/DataKey_RGB_DSM_20StrawWeightBeforeDry_20StrawWeightAfterDry__Raw1.csv\", \"20StrawWeightBeforeDry\",  \"20StrawWeightAfterDry\", EfficientNetV2MConfidenceAddeonextrainput, \"./StrawWeightAfterDry/ResultModelStrawWeightAfterDry\")\n",
    "# setAndTrainModel_addextrainput(\"./TotalSeedWeightAfterDry/DataKey_RGB_DSM_totalSeedWeightBeforeDry_totalSeedWeightAfterDry__Raw1.csv\", \"totalSeedWeightBeforeDry\",  \"totalSeedWeightAfterDry\", EfficientNetV2MConfidenceAddeonextrainput, \"./TotalSeedWeightAfterDry/ResultModelTotalSeedWeightAfterDry\")\n",
    "# setAndTrainModel_addextrainput(\"./WheatEarCount/DataKey_RGB_DSM_totEarWeight_totEarNum__Raw1.csv\", \"totEarWeight\",  \"totEarNum\", EfficientNetV2MConfidenceAddeonextrainput, \"./WheatEarCount/ResultModelWheatEarCount\")\n",
    "# setAndTrainModel(\"./TotalSeedWeightAfterDry/DataKey_RGB_DSM_totalSeedWeightAfterDry__Raw1.csv\", \"totalSeedWeightAfterDry\", EfficientNetV2MWheatModelWithConfidence, \"./TotalSeedWeightAfterDry/ResultModelTotalSeedWeightAfterDry\")\n",
    "\n",
    "\n"
   ]
  },
  {
   "cell_type": "code",
   "execution_count": 5,
   "metadata": {},
   "outputs": [],
   "source": [
    "weekyDataLabel = \"./allTestLabel/allWeeklyData_raw1_day13.csv\"\n",
    "resultDataLabel = \"./allTestLabel/allResultData_raw1_day13.csv\"\n",
    "dateDataLabelAll = \"./allTestLabel/dayData_raw1_augment6_noErrDateAll.csv\"\n",
    "dateDataLabelFrom3 = \"./allTestLabel/dayData_raw1_augment6_noErrDateFrom3.csv\"\n",
    "dateDataLabelFrom4 = \"./allTestLabel/dayData_raw1_augment6_noErrDateFrom4.csv\"\n",
    "\n",
    "weekyData = [\"Height\", \"LAI\", \"SPAD\", \"leafWidth\", \"leafLength\"]\n",
    "resultData = ['totEarWeight','totEarNum','avgEarSize', '20StrawWeightBeforeDry','20StrawWeightAfterDry', 'totalSeedNum','totalSeedWeightBeforeDry','totalSeedWeightAfterDry']\n",
    "\n",
    "modelPath =\"./allModel\"\n",
    "extraName = \"raw1\""
   ]
  },
  {
   "cell_type": "code",
   "execution_count": 6,
   "metadata": {},
   "outputs": [],
   "source": [
    "# setAndTrainModel(weekyDataLabel, weekyData[0], DenseNet121WheatModel, savePath = \"./allModel\", extraName = extraName)\n",
    "# setAndTrainModel(weekyDataLabel, weekyData[1], DenseNet121WheatModel, savePath = \"./allModel\", extraName = extraName)\n",
    "# setAndTrainModel(weekyDataLabel, weekyData[2], DenseNet121WheatModel, savePath = \"./allModel\", extraName = extraName)\n",
    "# setAndTrainModel(weekyDataLabel, weekyData[3], DenseNet121WheatModel, savePath = \"./allModel\", extraName = extraName)\n",
    "# setAndTrainModel(weekyDataLabel, weekyData[4], DenseNet121WheatModel, savePath = \"./allModel\", extraName = extraName)\n",
    "# setAndTrainModel(resultDataLabel, resultData[0], DenseNet121WheatModel, savePath = \"./allModel\", extraName = extraName)\n",
    "# setAndTrainModel(resultDataLabel, resultData[1], DenseNet121WheatModel, savePath = \"./allModel\", extraName = extraName)\n",
    "# setAndTrainModel(resultDataLabel, resultData[2], DenseNet121WheatModel, savePath = \"./allModel\", extraName = extraName)\n",
    "# setAndTrainModel(resultDataLabel, resultData[3], DenseNet121WheatModel, savePath = \"./allModel\", extraName = extraName)\n",
    "# setAndTrainModel(resultDataLabel, resultData[4], DenseNet121WheatModel, savePath = \"./allModel\", extraName = extraName)\n",
    "# setAndTrainModel(resultDataLabel, resultData[5], DenseNet121WheatModel, savePath = \"./allModel\", extraName = extraName)\n",
    "# setAndTrainModel(resultDataLabel, resultData[6], DenseNet121WheatModel, savePath = \"./allModel\", extraName = extraName)\n",
    "# setAndTrainModel(resultDataLabel, resultData[7], DenseNet121WheatModel, savePath = \"./allModel\", extraName = extraName)\n",
    "# setAndTrainModel(dateDataLabelAll, \"days\", DenseNet121WheatModel, savePath = \"./allModel\", extraName = \"noERR\")\n",
    "# setAndTrainModel(dateDataLabelFrom3, \"days\", DenseNet121WheatModel, savePath = \"./allModel\", extraName = \"from3\")\n",
    "# setAndTrainModel(dateDataLabelFrom4, \"days\", DenseNet121WheatModel, savePath = \"./allModel\", extraName = \"from4\")"
   ]
  },
  {
   "cell_type": "code",
   "execution_count": 7,
   "metadata": {},
   "outputs": [
    {
     "name": "stdout",
     "output_type": "stream",
     "text": [
      "totEarWeight_RegNetY8GFModel_raw1\n",
      "Save model to:  ./allModel/totEarWeight_RegNetY8GFModel_raw1\n",
      "Using device: cuda\n",
      "✅ Safe Split → Train: 23920, Val: 2980, Test: 150\n",
      "Train Batches: 1495, Validation Batches: 187, Test Batches: 10\n"
     ]
    },
    {
     "name": "stderr",
     "output_type": "stream",
     "text": [
      "Epoch 1/50: 100%|██████████| 1495/1495 [06:13<00:00,  4.00it/s]\n"
     ]
    },
    {
     "name": "stdout",
     "output_type": "stream",
     "text": [
      "Epoch 1 | Train Loss: 8.6251 | Val Loss: 7.8751\n",
      "✅ Best model updated and saved at Epoch 1\n"
     ]
    },
    {
     "name": "stderr",
     "output_type": "stream",
     "text": [
      "Epoch 2/50: 100%|██████████| 1495/1495 [06:11<00:00,  4.02it/s]\n"
     ]
    },
    {
     "name": "stdout",
     "output_type": "stream",
     "text": [
      "Epoch 2 | Train Loss: 7.1648 | Val Loss: 6.9369\n",
      "✅ Best model updated and saved at Epoch 2\n"
     ]
    },
    {
     "name": "stderr",
     "output_type": "stream",
     "text": [
      "Epoch 3/50: 100%|██████████| 1495/1495 [06:12<00:00,  4.01it/s]\n"
     ]
    },
    {
     "name": "stdout",
     "output_type": "stream",
     "text": [
      "Epoch 3 | Train Loss: 6.3687 | Val Loss: 6.1785\n",
      "✅ Best model updated and saved at Epoch 3\n"
     ]
    },
    {
     "name": "stderr",
     "output_type": "stream",
     "text": [
      "Epoch 4/50: 100%|██████████| 1495/1495 [06:09<00:00,  4.05it/s]\n"
     ]
    },
    {
     "name": "stdout",
     "output_type": "stream",
     "text": [
      "Epoch 4 | Train Loss: 6.0254 | Val Loss: 5.9214\n",
      "✅ Best model updated and saved at Epoch 4\n"
     ]
    },
    {
     "name": "stderr",
     "output_type": "stream",
     "text": [
      "Epoch 5/50: 100%|██████████| 1495/1495 [06:03<00:00,  4.11it/s]\n"
     ]
    },
    {
     "name": "stdout",
     "output_type": "stream",
     "text": [
      "Epoch 5 | Train Loss: 5.7692 | Val Loss: 5.6813\n",
      "✅ Best model updated and saved at Epoch 5\n"
     ]
    },
    {
     "name": "stderr",
     "output_type": "stream",
     "text": [
      "Epoch 6/50: 100%|██████████| 1495/1495 [06:06<00:00,  4.08it/s]\n"
     ]
    },
    {
     "name": "stdout",
     "output_type": "stream",
     "text": [
      "Epoch 6 | Train Loss: 5.6460 | Val Loss: 5.7367\n",
      "⚠️ No improvement for 1 epoch(s)\n"
     ]
    },
    {
     "name": "stderr",
     "output_type": "stream",
     "text": [
      "Epoch 7/50: 100%|██████████| 1495/1495 [06:05<00:00,  4.09it/s]\n"
     ]
    },
    {
     "name": "stdout",
     "output_type": "stream",
     "text": [
      "Epoch 7 | Train Loss: 5.5444 | Val Loss: 5.7813\n",
      "⚠️ No improvement for 2 epoch(s)\n"
     ]
    },
    {
     "name": "stderr",
     "output_type": "stream",
     "text": [
      "Epoch 8/50: 100%|██████████| 1495/1495 [06:05<00:00,  4.09it/s]\n"
     ]
    },
    {
     "name": "stdout",
     "output_type": "stream",
     "text": [
      "Epoch 8 | Train Loss: 5.4739 | Val Loss: 5.6772\n",
      "✅ Best model updated and saved at Epoch 8\n"
     ]
    },
    {
     "name": "stderr",
     "output_type": "stream",
     "text": [
      "Epoch 9/50: 100%|██████████| 1495/1495 [06:04<00:00,  4.10it/s]\n"
     ]
    },
    {
     "name": "stdout",
     "output_type": "stream",
     "text": [
      "Epoch 9 | Train Loss: 5.4118 | Val Loss: 5.6887\n",
      "⚠️ No improvement for 1 epoch(s)\n"
     ]
    },
    {
     "name": "stderr",
     "output_type": "stream",
     "text": [
      "Epoch 10/50: 100%|██████████| 1495/1495 [06:04<00:00,  4.10it/s]\n"
     ]
    },
    {
     "name": "stdout",
     "output_type": "stream",
     "text": [
      "Epoch 10 | Train Loss: 5.3573 | Val Loss: 5.6034\n",
      "✅ Best model updated and saved at Epoch 10\n"
     ]
    },
    {
     "name": "stderr",
     "output_type": "stream",
     "text": [
      "Epoch 11/50: 100%|██████████| 1495/1495 [06:04<00:00,  4.10it/s]\n"
     ]
    },
    {
     "name": "stdout",
     "output_type": "stream",
     "text": [
      "Epoch 11 | Train Loss: 5.3426 | Val Loss: 6.0559\n",
      "⚠️ No improvement for 1 epoch(s)\n"
     ]
    },
    {
     "name": "stderr",
     "output_type": "stream",
     "text": [
      "Epoch 12/50: 100%|██████████| 1495/1495 [06:04<00:00,  4.10it/s]\n"
     ]
    },
    {
     "name": "stdout",
     "output_type": "stream",
     "text": [
      "Epoch 12 | Train Loss: 5.2893 | Val Loss: 5.5521\n",
      "✅ Best model updated and saved at Epoch 12\n"
     ]
    },
    {
     "name": "stderr",
     "output_type": "stream",
     "text": [
      "Epoch 13/50: 100%|██████████| 1495/1495 [06:04<00:00,  4.11it/s]\n"
     ]
    },
    {
     "name": "stdout",
     "output_type": "stream",
     "text": [
      "Epoch 13 | Train Loss: 5.2651 | Val Loss: 5.6585\n",
      "⚠️ No improvement for 1 epoch(s)\n"
     ]
    },
    {
     "name": "stderr",
     "output_type": "stream",
     "text": [
      "Epoch 14/50: 100%|██████████| 1495/1495 [06:04<00:00,  4.11it/s]\n"
     ]
    },
    {
     "name": "stdout",
     "output_type": "stream",
     "text": [
      "Epoch 14 | Train Loss: 5.2399 | Val Loss: 5.7520\n",
      "⚠️ No improvement for 2 epoch(s)\n"
     ]
    },
    {
     "name": "stderr",
     "output_type": "stream",
     "text": [
      "Epoch 15/50: 100%|██████████| 1495/1495 [06:04<00:00,  4.10it/s]\n"
     ]
    },
    {
     "name": "stdout",
     "output_type": "stream",
     "text": [
      "Epoch 15 | Train Loss: 5.2118 | Val Loss: 5.6811\n",
      "⚠️ No improvement for 3 epoch(s)\n"
     ]
    },
    {
     "name": "stderr",
     "output_type": "stream",
     "text": [
      "Epoch 16/50: 100%|██████████| 1495/1495 [06:04<00:00,  4.11it/s]\n"
     ]
    },
    {
     "name": "stdout",
     "output_type": "stream",
     "text": [
      "Epoch 16 | Train Loss: 5.1184 | Val Loss: 5.8806\n",
      "⚠️ No improvement for 4 epoch(s)\n"
     ]
    },
    {
     "name": "stderr",
     "output_type": "stream",
     "text": [
      "Epoch 17/50: 100%|██████████| 1495/1495 [06:03<00:00,  4.11it/s]\n"
     ]
    },
    {
     "name": "stdout",
     "output_type": "stream",
     "text": [
      "Epoch 17 | Train Loss: 5.0756 | Val Loss: 5.7391\n",
      "⚠️ No improvement for 5 epoch(s)\n"
     ]
    },
    {
     "name": "stderr",
     "output_type": "stream",
     "text": [
      "Epoch 18/50: 100%|██████████| 1495/1495 [06:04<00:00,  4.11it/s]\n"
     ]
    },
    {
     "name": "stdout",
     "output_type": "stream",
     "text": [
      "Epoch 18 | Train Loss: 5.0584 | Val Loss: 6.3813\n",
      "⚠️ No improvement for 6 epoch(s)\n"
     ]
    },
    {
     "name": "stderr",
     "output_type": "stream",
     "text": [
      "Epoch 19/50: 100%|██████████| 1495/1495 [06:04<00:00,  4.10it/s]\n"
     ]
    },
    {
     "name": "stdout",
     "output_type": "stream",
     "text": [
      "Epoch 19 | Train Loss: 4.9965 | Val Loss: 5.8431\n",
      "⚠️ No improvement for 7 epoch(s)\n",
      "⏹️ Early stopping triggered after 19 epochs.\n",
      "totEarNum_RegNetY8GFModel_raw1\n",
      "Save model to:  ./allModel/totEarNum_RegNetY8GFModel_raw1\n",
      "Using device: cuda\n",
      "✅ Safe Split → Train: 23920, Val: 2980, Test: 150\n",
      "Train Batches: 1495, Validation Batches: 187, Test Batches: 10\n"
     ]
    },
    {
     "name": "stderr",
     "output_type": "stream",
     "text": [
      "Epoch 1/50: 100%|██████████| 1495/1495 [06:03<00:00,  4.11it/s]\n"
     ]
    },
    {
     "name": "stdout",
     "output_type": "stream",
     "text": [
      "Epoch 1 | Train Loss: 7.2138 | Val Loss: 5.3380\n",
      "✅ Best model updated and saved at Epoch 1\n"
     ]
    },
    {
     "name": "stderr",
     "output_type": "stream",
     "text": [
      "Epoch 2/50: 100%|██████████| 1495/1495 [06:03<00:00,  4.11it/s]\n"
     ]
    },
    {
     "name": "stdout",
     "output_type": "stream",
     "text": [
      "Epoch 2 | Train Loss: 5.3105 | Val Loss: 4.7402\n",
      "✅ Best model updated and saved at Epoch 2\n"
     ]
    },
    {
     "name": "stderr",
     "output_type": "stream",
     "text": [
      "Epoch 3/50: 100%|██████████| 1495/1495 [06:03<00:00,  4.11it/s]\n"
     ]
    },
    {
     "name": "stdout",
     "output_type": "stream",
     "text": [
      "Epoch 3 | Train Loss: 5.0140 | Val Loss: 4.7605\n",
      "⚠️ No improvement for 1 epoch(s)\n"
     ]
    },
    {
     "name": "stderr",
     "output_type": "stream",
     "text": [
      "Epoch 4/50: 100%|██████████| 1495/1495 [06:03<00:00,  4.11it/s]\n"
     ]
    },
    {
     "name": "stdout",
     "output_type": "stream",
     "text": [
      "Epoch 4 | Train Loss: 4.8366 | Val Loss: 4.6932\n",
      "✅ Best model updated and saved at Epoch 4\n"
     ]
    },
    {
     "name": "stderr",
     "output_type": "stream",
     "text": [
      "Epoch 5/50: 100%|██████████| 1495/1495 [06:03<00:00,  4.11it/s]\n"
     ]
    },
    {
     "name": "stdout",
     "output_type": "stream",
     "text": [
      "Epoch 5 | Train Loss: 4.7131 | Val Loss: 4.6603\n",
      "✅ Best model updated and saved at Epoch 5\n"
     ]
    },
    {
     "name": "stderr",
     "output_type": "stream",
     "text": [
      "Epoch 6/50: 100%|██████████| 1495/1495 [06:03<00:00,  4.11it/s]\n"
     ]
    },
    {
     "name": "stdout",
     "output_type": "stream",
     "text": [
      "Epoch 6 | Train Loss: 4.5992 | Val Loss: 4.6171\n",
      "✅ Best model updated and saved at Epoch 6\n"
     ]
    },
    {
     "name": "stderr",
     "output_type": "stream",
     "text": [
      "Epoch 7/50: 100%|██████████| 1495/1495 [06:03<00:00,  4.11it/s]\n"
     ]
    },
    {
     "name": "stdout",
     "output_type": "stream",
     "text": [
      "Epoch 7 | Train Loss: 4.5507 | Val Loss: 4.8317\n",
      "⚠️ No improvement for 1 epoch(s)\n"
     ]
    },
    {
     "name": "stderr",
     "output_type": "stream",
     "text": [
      "Epoch 8/50: 100%|██████████| 1495/1495 [06:04<00:00,  4.11it/s]\n"
     ]
    },
    {
     "name": "stdout",
     "output_type": "stream",
     "text": [
      "Epoch 8 | Train Loss: 4.4951 | Val Loss: 4.5757\n",
      "✅ Best model updated and saved at Epoch 8\n"
     ]
    },
    {
     "name": "stderr",
     "output_type": "stream",
     "text": [
      "Epoch 9/50: 100%|██████████| 1495/1495 [06:04<00:00,  4.10it/s]\n"
     ]
    },
    {
     "name": "stdout",
     "output_type": "stream",
     "text": [
      "Epoch 9 | Train Loss: 4.4497 | Val Loss: 4.6061\n",
      "⚠️ No improvement for 1 epoch(s)\n"
     ]
    },
    {
     "name": "stderr",
     "output_type": "stream",
     "text": [
      "Epoch 10/50: 100%|██████████| 1495/1495 [06:04<00:00,  4.11it/s]\n"
     ]
    },
    {
     "name": "stdout",
     "output_type": "stream",
     "text": [
      "Epoch 10 | Train Loss: 4.4071 | Val Loss: 4.4973\n",
      "✅ Best model updated and saved at Epoch 10\n"
     ]
    },
    {
     "name": "stderr",
     "output_type": "stream",
     "text": [
      "Epoch 11/50: 100%|██████████| 1495/1495 [06:03<00:00,  4.11it/s]\n"
     ]
    },
    {
     "name": "stdout",
     "output_type": "stream",
     "text": [
      "Epoch 11 | Train Loss: 4.3905 | Val Loss: 4.6270\n",
      "⚠️ No improvement for 1 epoch(s)\n"
     ]
    },
    {
     "name": "stderr",
     "output_type": "stream",
     "text": [
      "Epoch 12/50: 100%|██████████| 1495/1495 [06:04<00:00,  4.11it/s]\n"
     ]
    },
    {
     "name": "stdout",
     "output_type": "stream",
     "text": [
      "Epoch 12 | Train Loss: 4.3462 | Val Loss: 4.5509\n",
      "⚠️ No improvement for 2 epoch(s)\n"
     ]
    },
    {
     "name": "stderr",
     "output_type": "stream",
     "text": [
      "Epoch 13/50: 100%|██████████| 1495/1495 [06:04<00:00,  4.10it/s]\n"
     ]
    },
    {
     "name": "stdout",
     "output_type": "stream",
     "text": [
      "Epoch 13 | Train Loss: 4.3262 | Val Loss: 4.5048\n",
      "⚠️ No improvement for 3 epoch(s)\n"
     ]
    },
    {
     "name": "stderr",
     "output_type": "stream",
     "text": [
      "Epoch 14/50: 100%|██████████| 1495/1495 [06:03<00:00,  4.11it/s]\n"
     ]
    },
    {
     "name": "stdout",
     "output_type": "stream",
     "text": [
      "Epoch 14 | Train Loss: 4.2369 | Val Loss: 4.5680\n",
      "⚠️ No improvement for 4 epoch(s)\n"
     ]
    },
    {
     "name": "stderr",
     "output_type": "stream",
     "text": [
      "Epoch 15/50: 100%|██████████| 1495/1495 [06:03<00:00,  4.11it/s]\n"
     ]
    },
    {
     "name": "stdout",
     "output_type": "stream",
     "text": [
      "Epoch 15 | Train Loss: 4.2114 | Val Loss: 4.5791\n",
      "⚠️ No improvement for 5 epoch(s)\n"
     ]
    },
    {
     "name": "stderr",
     "output_type": "stream",
     "text": [
      "Epoch 16/50: 100%|██████████| 1495/1495 [06:04<00:00,  4.10it/s]\n"
     ]
    },
    {
     "name": "stdout",
     "output_type": "stream",
     "text": [
      "Epoch 16 | Train Loss: 4.1958 | Val Loss: 4.4990\n",
      "⚠️ No improvement for 6 epoch(s)\n"
     ]
    },
    {
     "name": "stderr",
     "output_type": "stream",
     "text": [
      "Epoch 17/50: 100%|██████████| 1495/1495 [06:03<00:00,  4.11it/s]\n"
     ]
    },
    {
     "name": "stdout",
     "output_type": "stream",
     "text": [
      "Epoch 17 | Train Loss: 4.1485 | Val Loss: 4.5740\n",
      "⚠️ No improvement for 7 epoch(s)\n",
      "⏹️ Early stopping triggered after 17 epochs.\n",
      "avgEarSize_RegNetY8GFModel_raw1\n",
      "Save model to:  ./allModel/avgEarSize_RegNetY8GFModel_raw1\n",
      "Using device: cuda\n",
      "✅ Safe Split → Train: 23920, Val: 2980, Test: 150\n",
      "Train Batches: 1495, Validation Batches: 187, Test Batches: 10\n"
     ]
    },
    {
     "name": "stderr",
     "output_type": "stream",
     "text": [
      "Epoch 1/50: 100%|██████████| 1495/1495 [06:03<00:00,  4.11it/s]\n"
     ]
    },
    {
     "name": "stdout",
     "output_type": "stream",
     "text": [
      "Epoch 1 | Train Loss: 0.9792 | Val Loss: 0.8734\n",
      "✅ Best model updated and saved at Epoch 1\n"
     ]
    },
    {
     "name": "stderr",
     "output_type": "stream",
     "text": [
      "Epoch 2/50: 100%|██████████| 1495/1495 [06:04<00:00,  4.11it/s]\n"
     ]
    },
    {
     "name": "stdout",
     "output_type": "stream",
     "text": [
      "Epoch 2 | Train Loss: 0.8161 | Val Loss: 1.0081\n",
      "⚠️ No improvement for 1 epoch(s)\n"
     ]
    },
    {
     "name": "stderr",
     "output_type": "stream",
     "text": [
      "Epoch 3/50: 100%|██████████| 1495/1495 [06:04<00:00,  4.11it/s]\n"
     ]
    },
    {
     "name": "stdout",
     "output_type": "stream",
     "text": [
      "Epoch 3 | Train Loss: 0.7479 | Val Loss: 0.4765\n",
      "✅ Best model updated and saved at Epoch 3\n"
     ]
    },
    {
     "name": "stderr",
     "output_type": "stream",
     "text": [
      "Epoch 4/50: 100%|██████████| 1495/1495 [06:03<00:00,  4.11it/s]\n"
     ]
    },
    {
     "name": "stdout",
     "output_type": "stream",
     "text": [
      "Epoch 4 | Train Loss: 0.6945 | Val Loss: 1.4323\n",
      "⚠️ No improvement for 1 epoch(s)\n"
     ]
    },
    {
     "name": "stderr",
     "output_type": "stream",
     "text": [
      "Epoch 5/50: 100%|██████████| 1495/1495 [06:03<00:00,  4.11it/s]\n"
     ]
    },
    {
     "name": "stdout",
     "output_type": "stream",
     "text": [
      "Epoch 5 | Train Loss: 0.6248 | Val Loss: 1.2591\n",
      "⚠️ No improvement for 2 epoch(s)\n"
     ]
    },
    {
     "name": "stderr",
     "output_type": "stream",
     "text": [
      "Epoch 6/50: 100%|██████████| 1495/1495 [06:03<00:00,  4.11it/s]\n"
     ]
    },
    {
     "name": "stdout",
     "output_type": "stream",
     "text": [
      "Epoch 6 | Train Loss: 0.5710 | Val Loss: 2.1306\n",
      "⚠️ No improvement for 3 epoch(s)\n"
     ]
    },
    {
     "name": "stderr",
     "output_type": "stream",
     "text": [
      "Epoch 7/50: 100%|██████████| 1495/1495 [06:04<00:00,  4.10it/s]\n"
     ]
    },
    {
     "name": "stdout",
     "output_type": "stream",
     "text": [
      "Epoch 7 | Train Loss: 0.4987 | Val Loss: 1.6216\n",
      "⚠️ No improvement for 4 epoch(s)\n"
     ]
    },
    {
     "name": "stderr",
     "output_type": "stream",
     "text": [
      "Epoch 8/50: 100%|██████████| 1495/1495 [06:04<00:00,  4.11it/s]\n"
     ]
    },
    {
     "name": "stdout",
     "output_type": "stream",
     "text": [
      "Epoch 8 | Train Loss: 0.4643 | Val Loss: 2.1412\n",
      "⚠️ No improvement for 5 epoch(s)\n"
     ]
    },
    {
     "name": "stderr",
     "output_type": "stream",
     "text": [
      "Epoch 9/50: 100%|██████████| 1495/1495 [06:03<00:00,  4.11it/s]\n"
     ]
    },
    {
     "name": "stdout",
     "output_type": "stream",
     "text": [
      "Epoch 9 | Train Loss: 0.4396 | Val Loss: 2.1601\n",
      "⚠️ No improvement for 6 epoch(s)\n"
     ]
    },
    {
     "name": "stderr",
     "output_type": "stream",
     "text": [
      "Epoch 10/50: 100%|██████████| 1495/1495 [06:03<00:00,  4.11it/s]\n"
     ]
    },
    {
     "name": "stdout",
     "output_type": "stream",
     "text": [
      "Epoch 10 | Train Loss: 0.4145 | Val Loss: 2.1731\n",
      "⚠️ No improvement for 7 epoch(s)\n",
      "⏹️ Early stopping triggered after 10 epochs.\n",
      "20StrawWeightBeforeDry_RegNetY8GFModel_raw1\n",
      "Save model to:  ./allModel/20StrawWeightBeforeDry_RegNetY8GFModel_raw1\n",
      "Using device: cuda\n",
      "✅ Safe Split → Train: 23920, Val: 2980, Test: 150\n",
      "Train Batches: 1495, Validation Batches: 187, Test Batches: 10\n"
     ]
    },
    {
     "name": "stderr",
     "output_type": "stream",
     "text": [
      "Epoch 1/50: 100%|██████████| 1495/1495 [06:11<00:00,  4.03it/s]\n"
     ]
    },
    {
     "name": "stdout",
     "output_type": "stream",
     "text": [
      "Epoch 1 | Train Loss: 2.3051 | Val Loss: 2.1784\n",
      "✅ Best model updated and saved at Epoch 1\n"
     ]
    },
    {
     "name": "stderr",
     "output_type": "stream",
     "text": [
      "Epoch 2/50: 100%|██████████| 1495/1495 [06:14<00:00,  4.00it/s]\n"
     ]
    },
    {
     "name": "stdout",
     "output_type": "stream",
     "text": [
      "Epoch 2 | Train Loss: 1.8834 | Val Loss: 2.2716\n",
      "⚠️ No improvement for 1 epoch(s)\n"
     ]
    },
    {
     "name": "stderr",
     "output_type": "stream",
     "text": [
      "Epoch 3/50: 100%|██████████| 1495/1495 [06:13<00:00,  4.00it/s]\n"
     ]
    },
    {
     "name": "stdout",
     "output_type": "stream",
     "text": [
      "Epoch 3 | Train Loss: 1.7070 | Val Loss: 2.2299\n",
      "⚠️ No improvement for 2 epoch(s)\n"
     ]
    },
    {
     "name": "stderr",
     "output_type": "stream",
     "text": [
      "Epoch 4/50: 100%|██████████| 1495/1495 [06:13<00:00,  4.00it/s]\n"
     ]
    },
    {
     "name": "stdout",
     "output_type": "stream",
     "text": [
      "Epoch 4 | Train Loss: 1.5730 | Val Loss: 2.2814\n",
      "⚠️ No improvement for 3 epoch(s)\n"
     ]
    },
    {
     "name": "stderr",
     "output_type": "stream",
     "text": [
      "Epoch 5/50: 100%|██████████| 1495/1495 [06:13<00:00,  4.00it/s]\n"
     ]
    },
    {
     "name": "stdout",
     "output_type": "stream",
     "text": [
      "Epoch 5 | Train Loss: 1.3717 | Val Loss: 2.3525\n",
      "⚠️ No improvement for 4 epoch(s)\n"
     ]
    },
    {
     "name": "stderr",
     "output_type": "stream",
     "text": [
      "Epoch 6/50: 100%|██████████| 1495/1495 [06:13<00:00,  4.01it/s]\n"
     ]
    },
    {
     "name": "stdout",
     "output_type": "stream",
     "text": [
      "Epoch 6 | Train Loss: 1.2847 | Val Loss: 2.5477\n",
      "⚠️ No improvement for 5 epoch(s)\n"
     ]
    },
    {
     "name": "stderr",
     "output_type": "stream",
     "text": [
      "Epoch 7/50: 100%|██████████| 1495/1495 [06:13<00:00,  4.00it/s]\n"
     ]
    },
    {
     "name": "stdout",
     "output_type": "stream",
     "text": [
      "Epoch 7 | Train Loss: 1.2424 | Val Loss: 2.4139\n",
      "⚠️ No improvement for 6 epoch(s)\n"
     ]
    },
    {
     "name": "stderr",
     "output_type": "stream",
     "text": [
      "Epoch 8/50: 100%|██████████| 1495/1495 [06:13<00:00,  4.00it/s]\n"
     ]
    },
    {
     "name": "stdout",
     "output_type": "stream",
     "text": [
      "Epoch 8 | Train Loss: 1.1640 | Val Loss: 2.5632\n",
      "⚠️ No improvement for 7 epoch(s)\n",
      "⏹️ Early stopping triggered after 8 epochs.\n",
      "20StrawWeightAfterDry_RegNetY8GFModel_raw1\n",
      "Save model to:  ./allModel/20StrawWeightAfterDry_RegNetY8GFModel_raw1\n",
      "Using device: cuda\n",
      "✅ Safe Split → Train: 23920, Val: 2980, Test: 150\n",
      "Train Batches: 1495, Validation Batches: 187, Test Batches: 10\n"
     ]
    },
    {
     "name": "stderr",
     "output_type": "stream",
     "text": [
      "Epoch 1/50: 100%|██████████| 1495/1495 [06:13<00:00,  4.00it/s]\n"
     ]
    },
    {
     "name": "stdout",
     "output_type": "stream",
     "text": [
      "Epoch 1 | Train Loss: 2.2088 | Val Loss: 2.1003\n",
      "✅ Best model updated and saved at Epoch 1\n"
     ]
    },
    {
     "name": "stderr",
     "output_type": "stream",
     "text": [
      "Epoch 2/50: 100%|██████████| 1495/1495 [06:13<00:00,  4.00it/s]\n"
     ]
    },
    {
     "name": "stdout",
     "output_type": "stream",
     "text": [
      "Epoch 2 | Train Loss: 1.8292 | Val Loss: 2.1335\n",
      "⚠️ No improvement for 1 epoch(s)\n"
     ]
    },
    {
     "name": "stderr",
     "output_type": "stream",
     "text": [
      "Epoch 3/50: 100%|██████████| 1495/1495 [06:13<00:00,  4.00it/s]\n"
     ]
    },
    {
     "name": "stdout",
     "output_type": "stream",
     "text": [
      "Epoch 3 | Train Loss: 1.6366 | Val Loss: 2.1424\n",
      "⚠️ No improvement for 2 epoch(s)\n"
     ]
    },
    {
     "name": "stderr",
     "output_type": "stream",
     "text": [
      "Epoch 4/50: 100%|██████████| 1495/1495 [06:13<00:00,  4.00it/s]\n"
     ]
    },
    {
     "name": "stdout",
     "output_type": "stream",
     "text": [
      "Epoch 4 | Train Loss: 1.5055 | Val Loss: 2.1718\n",
      "⚠️ No improvement for 3 epoch(s)\n"
     ]
    },
    {
     "name": "stderr",
     "output_type": "stream",
     "text": [
      "Epoch 5/50: 100%|██████████| 1495/1495 [06:13<00:00,  4.00it/s]\n"
     ]
    },
    {
     "name": "stdout",
     "output_type": "stream",
     "text": [
      "Epoch 5 | Train Loss: 1.2969 | Val Loss: 2.2981\n",
      "⚠️ No improvement for 4 epoch(s)\n"
     ]
    },
    {
     "name": "stderr",
     "output_type": "stream",
     "text": [
      "Epoch 6/50: 100%|██████████| 1495/1495 [06:13<00:00,  4.00it/s]\n"
     ]
    },
    {
     "name": "stdout",
     "output_type": "stream",
     "text": [
      "Epoch 6 | Train Loss: 1.2191 | Val Loss: 2.3331\n",
      "⚠️ No improvement for 5 epoch(s)\n"
     ]
    },
    {
     "name": "stderr",
     "output_type": "stream",
     "text": [
      "Epoch 7/50: 100%|██████████| 1495/1495 [06:14<00:00,  4.00it/s]\n"
     ]
    },
    {
     "name": "stdout",
     "output_type": "stream",
     "text": [
      "Epoch 7 | Train Loss: 1.1583 | Val Loss: 2.3135\n",
      "⚠️ No improvement for 6 epoch(s)\n"
     ]
    },
    {
     "name": "stderr",
     "output_type": "stream",
     "text": [
      "Epoch 8/50: 100%|██████████| 1495/1495 [06:13<00:00,  4.00it/s]\n"
     ]
    },
    {
     "name": "stdout",
     "output_type": "stream",
     "text": [
      "Epoch 8 | Train Loss: 1.0801 | Val Loss: 2.4395\n",
      "⚠️ No improvement for 7 epoch(s)\n",
      "⏹️ Early stopping triggered after 8 epochs.\n",
      "totalSeedNum_RegNetY8GFModel_raw1\n",
      "Save model to:  ./allModel/totalSeedNum_RegNetY8GFModel_raw1\n",
      "Using device: cuda\n",
      "✅ Safe Split → Train: 23920, Val: 2980, Test: 150\n",
      "Train Batches: 1495, Validation Batches: 187, Test Batches: 10\n"
     ]
    },
    {
     "name": "stderr",
     "output_type": "stream",
     "text": [
      "Epoch 1/50: 100%|██████████| 1495/1495 [06:12<00:00,  4.01it/s]\n"
     ]
    },
    {
     "name": "stdout",
     "output_type": "stream",
     "text": [
      "Epoch 1 | Train Loss: 12.7357 | Val Loss: 9.2131\n",
      "✅ Best model updated and saved at Epoch 1\n"
     ]
    },
    {
     "name": "stderr",
     "output_type": "stream",
     "text": [
      "Epoch 2/50: 100%|██████████| 1495/1495 [06:08<00:00,  4.05it/s]\n"
     ]
    },
    {
     "name": "stdout",
     "output_type": "stream",
     "text": [
      "Epoch 2 | Train Loss: 9.5065 | Val Loss: 9.2184\n",
      "⚠️ No improvement for 1 epoch(s)\n"
     ]
    },
    {
     "name": "stderr",
     "output_type": "stream",
     "text": [
      "Epoch 3/50: 100%|██████████| 1495/1495 [06:09<00:00,  4.05it/s]\n"
     ]
    },
    {
     "name": "stdout",
     "output_type": "stream",
     "text": [
      "Epoch 3 | Train Loss: 9.4285 | Val Loss: 9.6538\n",
      "⚠️ No improvement for 2 epoch(s)\n"
     ]
    },
    {
     "name": "stderr",
     "output_type": "stream",
     "text": [
      "Epoch 4/50: 100%|██████████| 1495/1495 [06:09<00:00,  4.05it/s]\n"
     ]
    },
    {
     "name": "stdout",
     "output_type": "stream",
     "text": [
      "Epoch 4 | Train Loss: 9.3525 | Val Loss: 9.4463\n",
      "⚠️ No improvement for 3 epoch(s)\n"
     ]
    },
    {
     "name": "stderr",
     "output_type": "stream",
     "text": [
      "Epoch 5/50: 100%|██████████| 1495/1495 [06:09<00:00,  4.05it/s]\n"
     ]
    },
    {
     "name": "stdout",
     "output_type": "stream",
     "text": [
      "Epoch 5 | Train Loss: 9.0084 | Val Loss: 9.3618\n",
      "⚠️ No improvement for 4 epoch(s)\n"
     ]
    },
    {
     "name": "stderr",
     "output_type": "stream",
     "text": [
      "Epoch 6/50: 100%|██████████| 1495/1495 [06:09<00:00,  4.05it/s]\n"
     ]
    },
    {
     "name": "stdout",
     "output_type": "stream",
     "text": [
      "Epoch 6 | Train Loss: 8.2985 | Val Loss: 8.1490\n",
      "✅ Best model updated and saved at Epoch 6\n"
     ]
    },
    {
     "name": "stderr",
     "output_type": "stream",
     "text": [
      "Epoch 7/50: 100%|██████████| 1495/1495 [06:09<00:00,  4.05it/s]\n"
     ]
    },
    {
     "name": "stdout",
     "output_type": "stream",
     "text": [
      "Epoch 7 | Train Loss: 8.0560 | Val Loss: 8.7926\n",
      "⚠️ No improvement for 1 epoch(s)\n"
     ]
    },
    {
     "name": "stderr",
     "output_type": "stream",
     "text": [
      "Epoch 8/50: 100%|██████████| 1495/1495 [06:09<00:00,  4.05it/s]\n"
     ]
    },
    {
     "name": "stdout",
     "output_type": "stream",
     "text": [
      "Epoch 8 | Train Loss: 7.7879 | Val Loss: 8.5104\n",
      "⚠️ No improvement for 2 epoch(s)\n"
     ]
    },
    {
     "name": "stderr",
     "output_type": "stream",
     "text": [
      "Epoch 9/50: 100%|██████████| 1495/1495 [06:09<00:00,  4.05it/s]\n"
     ]
    },
    {
     "name": "stdout",
     "output_type": "stream",
     "text": [
      "Epoch 9 | Train Loss: 7.6267 | Val Loss: 7.7455\n",
      "✅ Best model updated and saved at Epoch 9\n"
     ]
    },
    {
     "name": "stderr",
     "output_type": "stream",
     "text": [
      "Epoch 10/50: 100%|██████████| 1495/1495 [06:09<00:00,  4.05it/s]\n"
     ]
    },
    {
     "name": "stdout",
     "output_type": "stream",
     "text": [
      "Epoch 10 | Train Loss: 7.5048 | Val Loss: 8.4614\n",
      "⚠️ No improvement for 1 epoch(s)\n"
     ]
    },
    {
     "name": "stderr",
     "output_type": "stream",
     "text": [
      "Epoch 11/50: 100%|██████████| 1495/1495 [06:08<00:00,  4.05it/s]\n"
     ]
    },
    {
     "name": "stdout",
     "output_type": "stream",
     "text": [
      "Epoch 11 | Train Loss: 7.3871 | Val Loss: 8.0042\n",
      "⚠️ No improvement for 2 epoch(s)\n"
     ]
    },
    {
     "name": "stderr",
     "output_type": "stream",
     "text": [
      "Epoch 12/50: 100%|██████████| 1495/1495 [06:09<00:00,  4.05it/s]\n"
     ]
    },
    {
     "name": "stdout",
     "output_type": "stream",
     "text": [
      "Epoch 12 | Train Loss: 7.3198 | Val Loss: 8.7066\n",
      "⚠️ No improvement for 3 epoch(s)\n"
     ]
    },
    {
     "name": "stderr",
     "output_type": "stream",
     "text": [
      "Epoch 13/50: 100%|██████████| 1495/1495 [06:09<00:00,  4.05it/s]\n"
     ]
    },
    {
     "name": "stdout",
     "output_type": "stream",
     "text": [
      "Epoch 13 | Train Loss: 7.1901 | Val Loss: 8.0679\n",
      "⚠️ No improvement for 4 epoch(s)\n"
     ]
    },
    {
     "name": "stderr",
     "output_type": "stream",
     "text": [
      "Epoch 14/50: 100%|██████████| 1495/1495 [06:08<00:00,  4.05it/s]\n"
     ]
    },
    {
     "name": "stdout",
     "output_type": "stream",
     "text": [
      "Epoch 14 | Train Loss: 7.1218 | Val Loss: 8.0253\n",
      "⚠️ No improvement for 5 epoch(s)\n"
     ]
    },
    {
     "name": "stderr",
     "output_type": "stream",
     "text": [
      "Epoch 15/50: 100%|██████████| 1495/1495 [06:09<00:00,  4.04it/s]\n"
     ]
    },
    {
     "name": "stdout",
     "output_type": "stream",
     "text": [
      "Epoch 15 | Train Loss: 7.0922 | Val Loss: 8.4535\n",
      "⚠️ No improvement for 6 epoch(s)\n"
     ]
    },
    {
     "name": "stderr",
     "output_type": "stream",
     "text": [
      "Epoch 16/50: 100%|██████████| 1495/1495 [06:09<00:00,  4.05it/s]\n"
     ]
    },
    {
     "name": "stdout",
     "output_type": "stream",
     "text": [
      "Epoch 16 | Train Loss: 7.0128 | Val Loss: 8.6045\n",
      "⚠️ No improvement for 7 epoch(s)\n",
      "⏹️ Early stopping triggered after 16 epochs.\n",
      "totalSeedWeightBeforeDry_RegNetY8GFModel_raw1\n",
      "Save model to:  ./allModel/totalSeedWeightBeforeDry_RegNetY8GFModel_raw1\n",
      "Using device: cuda\n",
      "✅ Safe Split → Train: 23920, Val: 2980, Test: 150\n",
      "Train Batches: 1495, Validation Batches: 187, Test Batches: 10\n"
     ]
    },
    {
     "name": "stderr",
     "output_type": "stream",
     "text": [
      "Epoch 1/50: 100%|██████████| 1495/1495 [06:09<00:00,  4.05it/s]\n"
     ]
    },
    {
     "name": "stdout",
     "output_type": "stream",
     "text": [
      "Epoch 1 | Train Loss: 5.7461 | Val Loss: 4.9428\n",
      "✅ Best model updated and saved at Epoch 1\n"
     ]
    },
    {
     "name": "stderr",
     "output_type": "stream",
     "text": [
      "Epoch 2/50: 100%|██████████| 1495/1495 [06:08<00:00,  4.05it/s]\n"
     ]
    },
    {
     "name": "stdout",
     "output_type": "stream",
     "text": [
      "Epoch 2 | Train Loss: 4.6149 | Val Loss: 4.6025\n",
      "✅ Best model updated and saved at Epoch 2\n"
     ]
    },
    {
     "name": "stderr",
     "output_type": "stream",
     "text": [
      "Epoch 3/50: 100%|██████████| 1495/1495 [06:09<00:00,  4.05it/s]\n"
     ]
    },
    {
     "name": "stdout",
     "output_type": "stream",
     "text": [
      "Epoch 3 | Train Loss: 4.3282 | Val Loss: 4.9320\n",
      "⚠️ No improvement for 1 epoch(s)\n"
     ]
    },
    {
     "name": "stderr",
     "output_type": "stream",
     "text": [
      "Epoch 4/50: 100%|██████████| 1495/1495 [06:09<00:00,  4.05it/s]\n"
     ]
    },
    {
     "name": "stdout",
     "output_type": "stream",
     "text": [
      "Epoch 4 | Train Loss: 4.1450 | Val Loss: 4.5528\n",
      "✅ Best model updated and saved at Epoch 4\n"
     ]
    },
    {
     "name": "stderr",
     "output_type": "stream",
     "text": [
      "Epoch 5/50: 100%|██████████| 1495/1495 [06:09<00:00,  4.05it/s]\n"
     ]
    },
    {
     "name": "stdout",
     "output_type": "stream",
     "text": [
      "Epoch 5 | Train Loss: 4.0167 | Val Loss: 4.5237\n",
      "✅ Best model updated and saved at Epoch 5\n"
     ]
    },
    {
     "name": "stderr",
     "output_type": "stream",
     "text": [
      "Epoch 6/50: 100%|██████████| 1495/1495 [06:09<00:00,  4.05it/s]\n"
     ]
    },
    {
     "name": "stdout",
     "output_type": "stream",
     "text": [
      "Epoch 6 | Train Loss: 3.9315 | Val Loss: 4.8862\n",
      "⚠️ No improvement for 1 epoch(s)\n"
     ]
    },
    {
     "name": "stderr",
     "output_type": "stream",
     "text": [
      "Epoch 7/50: 100%|██████████| 1495/1495 [06:09<00:00,  4.05it/s]\n"
     ]
    },
    {
     "name": "stdout",
     "output_type": "stream",
     "text": [
      "Epoch 7 | Train Loss: 3.8525 | Val Loss: 4.8292\n",
      "⚠️ No improvement for 2 epoch(s)\n"
     ]
    },
    {
     "name": "stderr",
     "output_type": "stream",
     "text": [
      "Epoch 8/50: 100%|██████████| 1495/1495 [06:09<00:00,  4.05it/s]\n"
     ]
    },
    {
     "name": "stdout",
     "output_type": "stream",
     "text": [
      "Epoch 8 | Train Loss: 3.7986 | Val Loss: 4.6407\n",
      "⚠️ No improvement for 3 epoch(s)\n"
     ]
    },
    {
     "name": "stderr",
     "output_type": "stream",
     "text": [
      "Epoch 9/50: 100%|██████████| 1495/1495 [06:09<00:00,  4.04it/s]\n"
     ]
    },
    {
     "name": "stdout",
     "output_type": "stream",
     "text": [
      "Epoch 9 | Train Loss: 3.6426 | Val Loss: 4.7845\n",
      "⚠️ No improvement for 4 epoch(s)\n"
     ]
    },
    {
     "name": "stderr",
     "output_type": "stream",
     "text": [
      "Epoch 10/50: 100%|██████████| 1495/1495 [06:09<00:00,  4.04it/s]\n"
     ]
    },
    {
     "name": "stdout",
     "output_type": "stream",
     "text": [
      "Epoch 10 | Train Loss: 3.5753 | Val Loss: 4.9051\n",
      "⚠️ No improvement for 5 epoch(s)\n"
     ]
    },
    {
     "name": "stderr",
     "output_type": "stream",
     "text": [
      "Epoch 11/50: 100%|██████████| 1495/1495 [06:09<00:00,  4.05it/s]\n"
     ]
    },
    {
     "name": "stdout",
     "output_type": "stream",
     "text": [
      "Epoch 11 | Train Loss: 3.5473 | Val Loss: 4.6009\n",
      "⚠️ No improvement for 6 epoch(s)\n"
     ]
    },
    {
     "name": "stderr",
     "output_type": "stream",
     "text": [
      "Epoch 12/50: 100%|██████████| 1495/1495 [06:08<00:00,  4.05it/s]\n"
     ]
    },
    {
     "name": "stdout",
     "output_type": "stream",
     "text": [
      "Epoch 12 | Train Loss: 3.4802 | Val Loss: 5.0327\n",
      "⚠️ No improvement for 7 epoch(s)\n",
      "⏹️ Early stopping triggered after 12 epochs.\n",
      "totalSeedWeightAfterDry_RegNetY8GFModel_raw1\n",
      "Save model to:  ./allModel/totalSeedWeightAfterDry_RegNetY8GFModel_raw1\n",
      "Using device: cuda\n",
      "✅ Safe Split → Train: 23920, Val: 2980, Test: 150\n",
      "Train Batches: 1495, Validation Batches: 187, Test Batches: 10\n"
     ]
    },
    {
     "name": "stderr",
     "output_type": "stream",
     "text": [
      "Epoch 1/50: 100%|██████████| 1495/1495 [06:09<00:00,  4.05it/s]\n"
     ]
    },
    {
     "name": "stdout",
     "output_type": "stream",
     "text": [
      "Epoch 1 | Train Loss: 5.5371 | Val Loss: 4.8640\n",
      "✅ Best model updated and saved at Epoch 1\n"
     ]
    },
    {
     "name": "stderr",
     "output_type": "stream",
     "text": [
      "Epoch 2/50: 100%|██████████| 1495/1495 [06:08<00:00,  4.05it/s]\n"
     ]
    },
    {
     "name": "stdout",
     "output_type": "stream",
     "text": [
      "Epoch 2 | Train Loss: 4.4751 | Val Loss: 4.4095\n",
      "✅ Best model updated and saved at Epoch 2\n"
     ]
    },
    {
     "name": "stderr",
     "output_type": "stream",
     "text": [
      "Epoch 3/50: 100%|██████████| 1495/1495 [06:09<00:00,  4.05it/s]\n"
     ]
    },
    {
     "name": "stdout",
     "output_type": "stream",
     "text": [
      "Epoch 3 | Train Loss: 4.1942 | Val Loss: 4.5440\n",
      "⚠️ No improvement for 1 epoch(s)\n"
     ]
    },
    {
     "name": "stderr",
     "output_type": "stream",
     "text": [
      "Epoch 4/50: 100%|██████████| 1495/1495 [06:08<00:00,  4.05it/s]\n"
     ]
    },
    {
     "name": "stdout",
     "output_type": "stream",
     "text": [
      "Epoch 4 | Train Loss: 4.0075 | Val Loss: 4.4812\n",
      "⚠️ No improvement for 2 epoch(s)\n"
     ]
    },
    {
     "name": "stderr",
     "output_type": "stream",
     "text": [
      "Epoch 5/50: 100%|██████████| 1495/1495 [06:09<00:00,  4.05it/s]\n"
     ]
    },
    {
     "name": "stdout",
     "output_type": "stream",
     "text": [
      "Epoch 5 | Train Loss: 3.8822 | Val Loss: 4.3667\n",
      "✅ Best model updated and saved at Epoch 5\n"
     ]
    },
    {
     "name": "stderr",
     "output_type": "stream",
     "text": [
      "Epoch 6/50: 100%|██████████| 1495/1495 [06:09<00:00,  4.05it/s]\n"
     ]
    },
    {
     "name": "stdout",
     "output_type": "stream",
     "text": [
      "Epoch 6 | Train Loss: 3.8048 | Val Loss: 4.4384\n",
      "⚠️ No improvement for 1 epoch(s)\n"
     ]
    },
    {
     "name": "stderr",
     "output_type": "stream",
     "text": [
      "Epoch 7/50: 100%|██████████| 1495/1495 [06:09<00:00,  4.05it/s]\n"
     ]
    },
    {
     "name": "stdout",
     "output_type": "stream",
     "text": [
      "Epoch 7 | Train Loss: 3.7201 | Val Loss: 4.5224\n",
      "⚠️ No improvement for 2 epoch(s)\n"
     ]
    },
    {
     "name": "stderr",
     "output_type": "stream",
     "text": [
      "Epoch 8/50: 100%|██████████| 1495/1495 [06:09<00:00,  4.04it/s]\n"
     ]
    },
    {
     "name": "stdout",
     "output_type": "stream",
     "text": [
      "Epoch 8 | Train Loss: 3.6522 | Val Loss: 4.3712\n",
      "⚠️ No improvement for 3 epoch(s)\n"
     ]
    },
    {
     "name": "stderr",
     "output_type": "stream",
     "text": [
      "Epoch 9/50: 100%|██████████| 1495/1495 [06:08<00:00,  4.05it/s]\n"
     ]
    },
    {
     "name": "stdout",
     "output_type": "stream",
     "text": [
      "Epoch 9 | Train Loss: 3.5077 | Val Loss: 4.7239\n",
      "⚠️ No improvement for 4 epoch(s)\n"
     ]
    },
    {
     "name": "stderr",
     "output_type": "stream",
     "text": [
      "Epoch 10/50: 100%|██████████| 1495/1495 [06:10<00:00,  4.04it/s]\n"
     ]
    },
    {
     "name": "stdout",
     "output_type": "stream",
     "text": [
      "Epoch 10 | Train Loss: 3.4339 | Val Loss: 4.7488\n",
      "⚠️ No improvement for 5 epoch(s)\n"
     ]
    },
    {
     "name": "stderr",
     "output_type": "stream",
     "text": [
      "Epoch 11/50: 100%|██████████| 1495/1495 [06:09<00:00,  4.05it/s]\n"
     ]
    },
    {
     "name": "stdout",
     "output_type": "stream",
     "text": [
      "Epoch 11 | Train Loss: 3.4033 | Val Loss: 4.6161\n",
      "⚠️ No improvement for 6 epoch(s)\n"
     ]
    },
    {
     "name": "stderr",
     "output_type": "stream",
     "text": [
      "Epoch 12/50: 100%|██████████| 1495/1495 [06:09<00:00,  4.05it/s]\n"
     ]
    },
    {
     "name": "stdout",
     "output_type": "stream",
     "text": [
      "Epoch 12 | Train Loss: 3.3232 | Val Loss: 4.8672\n",
      "⚠️ No improvement for 7 epoch(s)\n",
      "⏹️ Early stopping triggered after 12 epochs.\n",
      "days_RegNetY8GFModel_noERR\n",
      "Save model to:  ./allModel/days_RegNetY8GFModel_noERR\n",
      "Using device: cuda\n",
      "✅ Safe Split → Train: 31752, Val: 3612, Test: 273\n",
      "Train Batches: 1985, Validation Batches: 226, Test Batches: 18\n"
     ]
    },
    {
     "name": "stderr",
     "output_type": "stream",
     "text": [
      "Epoch 1/50: 100%|██████████| 1985/1985 [08:07<00:00,  4.07it/s]\n"
     ]
    },
    {
     "name": "stdout",
     "output_type": "stream",
     "text": [
      "Epoch 1 | Train Loss: 5.0712 | Val Loss: 3.3355\n",
      "✅ Best model updated and saved at Epoch 1\n"
     ]
    },
    {
     "name": "stderr",
     "output_type": "stream",
     "text": [
      "Epoch 2/50: 100%|██████████| 1985/1985 [08:06<00:00,  4.08it/s]\n"
     ]
    },
    {
     "name": "stdout",
     "output_type": "stream",
     "text": [
      "Epoch 2 | Train Loss: 3.7846 | Val Loss: 2.7855\n",
      "✅ Best model updated and saved at Epoch 2\n"
     ]
    },
    {
     "name": "stderr",
     "output_type": "stream",
     "text": [
      "Epoch 3/50: 100%|██████████| 1985/1985 [08:06<00:00,  4.08it/s]\n"
     ]
    },
    {
     "name": "stdout",
     "output_type": "stream",
     "text": [
      "Epoch 3 | Train Loss: 3.6152 | Val Loss: 2.8315\n",
      "⚠️ No improvement for 1 epoch(s)\n"
     ]
    },
    {
     "name": "stderr",
     "output_type": "stream",
     "text": [
      "Epoch 4/50: 100%|██████████| 1985/1985 [08:06<00:00,  4.08it/s]\n"
     ]
    },
    {
     "name": "stdout",
     "output_type": "stream",
     "text": [
      "Epoch 4 | Train Loss: 3.5390 | Val Loss: 3.0911\n",
      "⚠️ No improvement for 2 epoch(s)\n"
     ]
    },
    {
     "name": "stderr",
     "output_type": "stream",
     "text": [
      "Epoch 5/50: 100%|██████████| 1985/1985 [08:07<00:00,  4.07it/s]\n"
     ]
    },
    {
     "name": "stdout",
     "output_type": "stream",
     "text": [
      "Epoch 5 | Train Loss: 3.4878 | Val Loss: 2.6264\n",
      "✅ Best model updated and saved at Epoch 5\n"
     ]
    },
    {
     "name": "stderr",
     "output_type": "stream",
     "text": [
      "Epoch 6/50: 100%|██████████| 1985/1985 [08:06<00:00,  4.08it/s]\n"
     ]
    },
    {
     "name": "stdout",
     "output_type": "stream",
     "text": [
      "Epoch 6 | Train Loss: 3.4312 | Val Loss: 2.6175\n",
      "✅ Best model updated and saved at Epoch 6\n"
     ]
    },
    {
     "name": "stderr",
     "output_type": "stream",
     "text": [
      "Epoch 7/50: 100%|██████████| 1985/1985 [08:06<00:00,  4.08it/s]\n"
     ]
    },
    {
     "name": "stdout",
     "output_type": "stream",
     "text": [
      "Epoch 7 | Train Loss: 3.4069 | Val Loss: 2.7071\n",
      "⚠️ No improvement for 1 epoch(s)\n"
     ]
    },
    {
     "name": "stderr",
     "output_type": "stream",
     "text": [
      "Epoch 8/50: 100%|██████████| 1985/1985 [08:06<00:00,  4.08it/s]\n"
     ]
    },
    {
     "name": "stdout",
     "output_type": "stream",
     "text": [
      "Epoch 8 | Train Loss: 3.3895 | Val Loss: 2.6276\n",
      "⚠️ No improvement for 2 epoch(s)\n"
     ]
    },
    {
     "name": "stderr",
     "output_type": "stream",
     "text": [
      "Epoch 9/50: 100%|██████████| 1985/1985 [08:06<00:00,  4.08it/s]\n"
     ]
    },
    {
     "name": "stdout",
     "output_type": "stream",
     "text": [
      "Epoch 9 | Train Loss: 3.3684 | Val Loss: 2.5418\n",
      "✅ Best model updated and saved at Epoch 9\n"
     ]
    },
    {
     "name": "stderr",
     "output_type": "stream",
     "text": [
      "Epoch 10/50: 100%|██████████| 1985/1985 [08:06<00:00,  4.08it/s]\n"
     ]
    },
    {
     "name": "stdout",
     "output_type": "stream",
     "text": [
      "Epoch 10 | Train Loss: 3.3665 | Val Loss: 2.6295\n",
      "⚠️ No improvement for 1 epoch(s)\n"
     ]
    },
    {
     "name": "stderr",
     "output_type": "stream",
     "text": [
      "Epoch 11/50: 100%|██████████| 1985/1985 [08:06<00:00,  4.08it/s]\n"
     ]
    },
    {
     "name": "stdout",
     "output_type": "stream",
     "text": [
      "Epoch 11 | Train Loss: 3.3517 | Val Loss: 2.7559\n",
      "⚠️ No improvement for 2 epoch(s)\n"
     ]
    },
    {
     "name": "stderr",
     "output_type": "stream",
     "text": [
      "Epoch 12/50: 100%|██████████| 1985/1985 [08:06<00:00,  4.08it/s]\n"
     ]
    },
    {
     "name": "stdout",
     "output_type": "stream",
     "text": [
      "Epoch 12 | Train Loss: 3.3596 | Val Loss: 2.5772\n",
      "⚠️ No improvement for 3 epoch(s)\n"
     ]
    },
    {
     "name": "stderr",
     "output_type": "stream",
     "text": [
      "Epoch 13/50: 100%|██████████| 1985/1985 [08:07<00:00,  4.07it/s]\n"
     ]
    },
    {
     "name": "stdout",
     "output_type": "stream",
     "text": [
      "Epoch 13 | Train Loss: 3.3135 | Val Loss: 2.4735\n",
      "✅ Best model updated and saved at Epoch 13\n"
     ]
    },
    {
     "name": "stderr",
     "output_type": "stream",
     "text": [
      "Epoch 14/50: 100%|██████████| 1985/1985 [08:07<00:00,  4.07it/s]\n"
     ]
    },
    {
     "name": "stdout",
     "output_type": "stream",
     "text": [
      "Epoch 14 | Train Loss: 3.2985 | Val Loss: 2.3338\n",
      "✅ Best model updated and saved at Epoch 14\n"
     ]
    },
    {
     "name": "stderr",
     "output_type": "stream",
     "text": [
      "Epoch 15/50: 100%|██████████| 1985/1985 [08:07<00:00,  4.07it/s]\n"
     ]
    },
    {
     "name": "stdout",
     "output_type": "stream",
     "text": [
      "Epoch 15 | Train Loss: 3.3075 | Val Loss: 2.4961\n",
      "⚠️ No improvement for 1 epoch(s)\n"
     ]
    },
    {
     "name": "stderr",
     "output_type": "stream",
     "text": [
      "Epoch 16/50: 100%|██████████| 1985/1985 [08:07<00:00,  4.07it/s]\n"
     ]
    },
    {
     "name": "stdout",
     "output_type": "stream",
     "text": [
      "Epoch 16 | Train Loss: 3.2955 | Val Loss: 2.4765\n",
      "⚠️ No improvement for 2 epoch(s)\n"
     ]
    },
    {
     "name": "stderr",
     "output_type": "stream",
     "text": [
      "Epoch 17/50: 100%|██████████| 1985/1985 [08:06<00:00,  4.08it/s]\n"
     ]
    },
    {
     "name": "stdout",
     "output_type": "stream",
     "text": [
      "Epoch 17 | Train Loss: 3.2956 | Val Loss: 2.6998\n",
      "⚠️ No improvement for 3 epoch(s)\n"
     ]
    },
    {
     "name": "stderr",
     "output_type": "stream",
     "text": [
      "Epoch 18/50: 100%|██████████| 1985/1985 [08:06<00:00,  4.08it/s]\n"
     ]
    },
    {
     "name": "stdout",
     "output_type": "stream",
     "text": [
      "Epoch 18 | Train Loss: 3.2695 | Val Loss: 2.4431\n",
      "⚠️ No improvement for 4 epoch(s)\n"
     ]
    },
    {
     "name": "stderr",
     "output_type": "stream",
     "text": [
      "Epoch 19/50: 100%|██████████| 1985/1985 [08:06<00:00,  4.08it/s]\n"
     ]
    },
    {
     "name": "stdout",
     "output_type": "stream",
     "text": [
      "Epoch 19 | Train Loss: 3.2686 | Val Loss: 2.3908\n",
      "⚠️ No improvement for 5 epoch(s)\n"
     ]
    },
    {
     "name": "stderr",
     "output_type": "stream",
     "text": [
      "Epoch 20/50: 100%|██████████| 1985/1985 [08:06<00:00,  4.08it/s]\n"
     ]
    },
    {
     "name": "stdout",
     "output_type": "stream",
     "text": [
      "Epoch 20 | Train Loss: 3.2703 | Val Loss: 2.6589\n",
      "⚠️ No improvement for 6 epoch(s)\n"
     ]
    },
    {
     "name": "stderr",
     "output_type": "stream",
     "text": [
      "Epoch 21/50: 100%|██████████| 1985/1985 [08:06<00:00,  4.08it/s]\n"
     ]
    },
    {
     "name": "stdout",
     "output_type": "stream",
     "text": [
      "Epoch 21 | Train Loss: 3.2517 | Val Loss: 2.4330\n",
      "⚠️ No improvement for 7 epoch(s)\n",
      "⏹️ Early stopping triggered after 21 epochs.\n",
      "days_RegNetY8GFModel_from3\n",
      "Save model to:  ./allModel/days_RegNetY8GFModel_from3\n",
      "Using device: cuda\n",
      "✅ Safe Split → Train: 24768, Val: 2892, Test: 225\n",
      "Train Batches: 1548, Validation Batches: 181, Test Batches: 15\n"
     ]
    },
    {
     "name": "stderr",
     "output_type": "stream",
     "text": [
      "Epoch 1/50: 100%|██████████| 1548/1548 [06:21<00:00,  4.05it/s]\n"
     ]
    },
    {
     "name": "stdout",
     "output_type": "stream",
     "text": [
      "Epoch 1 | Train Loss: 5.7897 | Val Loss: 3.4781\n",
      "✅ Best model updated and saved at Epoch 1\n"
     ]
    },
    {
     "name": "stderr",
     "output_type": "stream",
     "text": [
      "Epoch 2/50: 100%|██████████| 1548/1548 [06:22<00:00,  4.05it/s]\n"
     ]
    },
    {
     "name": "stdout",
     "output_type": "stream",
     "text": [
      "Epoch 2 | Train Loss: 4.0402 | Val Loss: 3.2758\n",
      "✅ Best model updated and saved at Epoch 2\n"
     ]
    },
    {
     "name": "stderr",
     "output_type": "stream",
     "text": [
      "Epoch 3/50: 100%|██████████| 1548/1548 [06:22<00:00,  4.05it/s]\n"
     ]
    },
    {
     "name": "stdout",
     "output_type": "stream",
     "text": [
      "Epoch 3 | Train Loss: 3.8338 | Val Loss: 2.8551\n",
      "✅ Best model updated and saved at Epoch 3\n"
     ]
    },
    {
     "name": "stderr",
     "output_type": "stream",
     "text": [
      "Epoch 4/50: 100%|██████████| 1548/1548 [06:21<00:00,  4.05it/s]\n"
     ]
    },
    {
     "name": "stdout",
     "output_type": "stream",
     "text": [
      "Epoch 4 | Train Loss: 3.7669 | Val Loss: 2.8623\n",
      "⚠️ No improvement for 1 epoch(s)\n"
     ]
    },
    {
     "name": "stderr",
     "output_type": "stream",
     "text": [
      "Epoch 5/50: 100%|██████████| 1548/1548 [06:21<00:00,  4.05it/s]\n"
     ]
    },
    {
     "name": "stdout",
     "output_type": "stream",
     "text": [
      "Epoch 5 | Train Loss: 3.7154 | Val Loss: 2.8880\n",
      "⚠️ No improvement for 2 epoch(s)\n"
     ]
    },
    {
     "name": "stderr",
     "output_type": "stream",
     "text": [
      "Epoch 6/50: 100%|██████████| 1548/1548 [06:22<00:00,  4.05it/s]\n"
     ]
    },
    {
     "name": "stdout",
     "output_type": "stream",
     "text": [
      "Epoch 6 | Train Loss: 3.6828 | Val Loss: 2.6893\n",
      "✅ Best model updated and saved at Epoch 6\n"
     ]
    },
    {
     "name": "stderr",
     "output_type": "stream",
     "text": [
      "Epoch 7/50: 100%|██████████| 1548/1548 [06:22<00:00,  4.05it/s]\n"
     ]
    },
    {
     "name": "stdout",
     "output_type": "stream",
     "text": [
      "Epoch 7 | Train Loss: 3.6360 | Val Loss: 3.0667\n",
      "⚠️ No improvement for 1 epoch(s)\n"
     ]
    },
    {
     "name": "stderr",
     "output_type": "stream",
     "text": [
      "Epoch 8/50: 100%|██████████| 1548/1548 [06:21<00:00,  4.05it/s]\n"
     ]
    },
    {
     "name": "stdout",
     "output_type": "stream",
     "text": [
      "Epoch 8 | Train Loss: 3.6163 | Val Loss: 2.7940\n",
      "⚠️ No improvement for 2 epoch(s)\n"
     ]
    },
    {
     "name": "stderr",
     "output_type": "stream",
     "text": [
      "Epoch 9/50: 100%|██████████| 1548/1548 [06:21<00:00,  4.05it/s]\n"
     ]
    },
    {
     "name": "stdout",
     "output_type": "stream",
     "text": [
      "Epoch 9 | Train Loss: 3.6071 | Val Loss: 2.6783\n",
      "✅ Best model updated and saved at Epoch 9\n"
     ]
    },
    {
     "name": "stderr",
     "output_type": "stream",
     "text": [
      "Epoch 10/50: 100%|██████████| 1548/1548 [06:21<00:00,  4.05it/s]\n"
     ]
    },
    {
     "name": "stdout",
     "output_type": "stream",
     "text": [
      "Epoch 10 | Train Loss: 3.5906 | Val Loss: 2.7536\n",
      "⚠️ No improvement for 1 epoch(s)\n"
     ]
    },
    {
     "name": "stderr",
     "output_type": "stream",
     "text": [
      "Epoch 11/50: 100%|██████████| 1548/1548 [06:22<00:00,  4.05it/s]\n"
     ]
    },
    {
     "name": "stdout",
     "output_type": "stream",
     "text": [
      "Epoch 11 | Train Loss: 3.5888 | Val Loss: 2.6759\n",
      "✅ Best model updated and saved at Epoch 11\n"
     ]
    },
    {
     "name": "stderr",
     "output_type": "stream",
     "text": [
      "Epoch 12/50: 100%|██████████| 1548/1548 [06:22<00:00,  4.05it/s]\n"
     ]
    },
    {
     "name": "stdout",
     "output_type": "stream",
     "text": [
      "Epoch 12 | Train Loss: 3.5853 | Val Loss: 2.6785\n",
      "⚠️ No improvement for 1 epoch(s)\n"
     ]
    },
    {
     "name": "stderr",
     "output_type": "stream",
     "text": [
      "Epoch 13/50: 100%|██████████| 1548/1548 [06:21<00:00,  4.05it/s]\n"
     ]
    },
    {
     "name": "stdout",
     "output_type": "stream",
     "text": [
      "Epoch 13 | Train Loss: 3.5667 | Val Loss: 2.7499\n",
      "⚠️ No improvement for 2 epoch(s)\n"
     ]
    },
    {
     "name": "stderr",
     "output_type": "stream",
     "text": [
      "Epoch 14/50: 100%|██████████| 1548/1548 [06:21<00:00,  4.05it/s]\n"
     ]
    },
    {
     "name": "stdout",
     "output_type": "stream",
     "text": [
      "Epoch 14 | Train Loss: 3.5710 | Val Loss: 2.7123\n",
      "⚠️ No improvement for 3 epoch(s)\n"
     ]
    },
    {
     "name": "stderr",
     "output_type": "stream",
     "text": [
      "Epoch 15/50: 100%|██████████| 1548/1548 [06:21<00:00,  4.05it/s]\n"
     ]
    },
    {
     "name": "stdout",
     "output_type": "stream",
     "text": [
      "Epoch 15 | Train Loss: 3.5425 | Val Loss: 2.6521\n",
      "✅ Best model updated and saved at Epoch 15\n"
     ]
    },
    {
     "name": "stderr",
     "output_type": "stream",
     "text": [
      "Epoch 16/50: 100%|██████████| 1548/1548 [06:21<00:00,  4.05it/s]\n"
     ]
    },
    {
     "name": "stdout",
     "output_type": "stream",
     "text": [
      "Epoch 16 | Train Loss: 3.5248 | Val Loss: 2.7307\n",
      "⚠️ No improvement for 1 epoch(s)\n"
     ]
    },
    {
     "name": "stderr",
     "output_type": "stream",
     "text": [
      "Epoch 17/50: 100%|██████████| 1548/1548 [06:22<00:00,  4.05it/s]\n"
     ]
    },
    {
     "name": "stdout",
     "output_type": "stream",
     "text": [
      "Epoch 17 | Train Loss: 3.5114 | Val Loss: 2.7712\n",
      "⚠️ No improvement for 2 epoch(s)\n"
     ]
    },
    {
     "name": "stderr",
     "output_type": "stream",
     "text": [
      "Epoch 18/50: 100%|██████████| 1548/1548 [06:21<00:00,  4.06it/s]\n"
     ]
    },
    {
     "name": "stdout",
     "output_type": "stream",
     "text": [
      "Epoch 18 | Train Loss: 3.5179 | Val Loss: 2.6761\n",
      "⚠️ No improvement for 3 epoch(s)\n"
     ]
    },
    {
     "name": "stderr",
     "output_type": "stream",
     "text": [
      "Epoch 19/50: 100%|██████████| 1548/1548 [06:21<00:00,  4.05it/s]\n"
     ]
    },
    {
     "name": "stdout",
     "output_type": "stream",
     "text": [
      "Epoch 19 | Train Loss: 3.5059 | Val Loss: 2.5637\n",
      "✅ Best model updated and saved at Epoch 19\n"
     ]
    },
    {
     "name": "stderr",
     "output_type": "stream",
     "text": [
      "Epoch 20/50: 100%|██████████| 1548/1548 [06:21<00:00,  4.06it/s]\n"
     ]
    },
    {
     "name": "stdout",
     "output_type": "stream",
     "text": [
      "Epoch 20 | Train Loss: 3.4945 | Val Loss: 2.5395\n",
      "✅ Best model updated and saved at Epoch 20\n"
     ]
    },
    {
     "name": "stderr",
     "output_type": "stream",
     "text": [
      "Epoch 21/50: 100%|██████████| 1548/1548 [06:21<00:00,  4.05it/s]\n"
     ]
    },
    {
     "name": "stdout",
     "output_type": "stream",
     "text": [
      "Epoch 21 | Train Loss: 3.4902 | Val Loss: 3.0144\n",
      "⚠️ No improvement for 1 epoch(s)\n"
     ]
    },
    {
     "name": "stderr",
     "output_type": "stream",
     "text": [
      "Epoch 22/50: 100%|██████████| 1548/1548 [06:22<00:00,  4.05it/s]\n"
     ]
    },
    {
     "name": "stdout",
     "output_type": "stream",
     "text": [
      "Epoch 22 | Train Loss: 3.4917 | Val Loss: 2.7904\n",
      "⚠️ No improvement for 2 epoch(s)\n"
     ]
    },
    {
     "name": "stderr",
     "output_type": "stream",
     "text": [
      "Epoch 23/50: 100%|██████████| 1548/1548 [06:21<00:00,  4.06it/s]\n"
     ]
    },
    {
     "name": "stdout",
     "output_type": "stream",
     "text": [
      "Epoch 23 | Train Loss: 3.4884 | Val Loss: 2.5780\n",
      "⚠️ No improvement for 3 epoch(s)\n"
     ]
    },
    {
     "name": "stderr",
     "output_type": "stream",
     "text": [
      "Epoch 24/50: 100%|██████████| 1548/1548 [06:21<00:00,  4.05it/s]\n"
     ]
    },
    {
     "name": "stdout",
     "output_type": "stream",
     "text": [
      "Epoch 24 | Train Loss: 3.4867 | Val Loss: 2.6335\n",
      "⚠️ No improvement for 4 epoch(s)\n"
     ]
    },
    {
     "name": "stderr",
     "output_type": "stream",
     "text": [
      "Epoch 25/50: 100%|██████████| 1548/1548 [06:21<00:00,  4.06it/s]\n"
     ]
    },
    {
     "name": "stdout",
     "output_type": "stream",
     "text": [
      "Epoch 25 | Train Loss: 3.4703 | Val Loss: 2.6765\n",
      "⚠️ No improvement for 5 epoch(s)\n"
     ]
    },
    {
     "name": "stderr",
     "output_type": "stream",
     "text": [
      "Epoch 26/50: 100%|██████████| 1548/1548 [06:21<00:00,  4.06it/s]\n"
     ]
    },
    {
     "name": "stdout",
     "output_type": "stream",
     "text": [
      "Epoch 26 | Train Loss: 3.4735 | Val Loss: 2.6306\n",
      "⚠️ No improvement for 6 epoch(s)\n"
     ]
    },
    {
     "name": "stderr",
     "output_type": "stream",
     "text": [
      "Epoch 27/50: 100%|██████████| 1548/1548 [06:21<00:00,  4.05it/s]\n"
     ]
    },
    {
     "name": "stdout",
     "output_type": "stream",
     "text": [
      "Epoch 27 | Train Loss: 3.4714 | Val Loss: 2.6310\n",
      "⚠️ No improvement for 7 epoch(s)\n",
      "⏹️ Early stopping triggered after 27 epochs.\n",
      "days_RegNetY8GFModel_from4\n",
      "Save model to:  ./allModel/days_RegNetY8GFModel_from4\n",
      "Using device: cuda\n",
      "✅ Safe Split → Train: 20112, Val: 2412, Test: 193\n",
      "Train Batches: 1257, Validation Batches: 151, Test Batches: 13\n"
     ]
    },
    {
     "name": "stderr",
     "output_type": "stream",
     "text": [
      "Epoch 1/50: 100%|██████████| 1257/1257 [05:11<00:00,  4.03it/s]\n"
     ]
    },
    {
     "name": "stdout",
     "output_type": "stream",
     "text": [
      "Epoch 1 | Train Loss: 6.0673 | Val Loss: 3.2499\n",
      "✅ Best model updated and saved at Epoch 1\n"
     ]
    },
    {
     "name": "stderr",
     "output_type": "stream",
     "text": [
      "Epoch 2/50: 100%|██████████| 1257/1257 [05:11<00:00,  4.03it/s]\n"
     ]
    },
    {
     "name": "stdout",
     "output_type": "stream",
     "text": [
      "Epoch 2 | Train Loss: 4.1861 | Val Loss: 3.1231\n",
      "✅ Best model updated and saved at Epoch 2\n"
     ]
    },
    {
     "name": "stderr",
     "output_type": "stream",
     "text": [
      "Epoch 3/50: 100%|██████████| 1257/1257 [05:11<00:00,  4.03it/s]\n"
     ]
    },
    {
     "name": "stdout",
     "output_type": "stream",
     "text": [
      "Epoch 3 | Train Loss: 4.0162 | Val Loss: 2.9621\n",
      "✅ Best model updated and saved at Epoch 3\n"
     ]
    },
    {
     "name": "stderr",
     "output_type": "stream",
     "text": [
      "Epoch 4/50: 100%|██████████| 1257/1257 [05:12<00:00,  4.03it/s]\n"
     ]
    },
    {
     "name": "stdout",
     "output_type": "stream",
     "text": [
      "Epoch 4 | Train Loss: 3.8946 | Val Loss: 3.2815\n",
      "⚠️ No improvement for 1 epoch(s)\n"
     ]
    },
    {
     "name": "stderr",
     "output_type": "stream",
     "text": [
      "Epoch 5/50: 100%|██████████| 1257/1257 [05:12<00:00,  4.03it/s]\n"
     ]
    },
    {
     "name": "stdout",
     "output_type": "stream",
     "text": [
      "Epoch 5 | Train Loss: 3.8158 | Val Loss: 2.8647\n",
      "✅ Best model updated and saved at Epoch 5\n"
     ]
    },
    {
     "name": "stderr",
     "output_type": "stream",
     "text": [
      "Epoch 6/50: 100%|██████████| 1257/1257 [05:11<00:00,  4.03it/s]\n"
     ]
    },
    {
     "name": "stdout",
     "output_type": "stream",
     "text": [
      "Epoch 6 | Train Loss: 3.7580 | Val Loss: 2.7426\n",
      "✅ Best model updated and saved at Epoch 6\n"
     ]
    },
    {
     "name": "stderr",
     "output_type": "stream",
     "text": [
      "Epoch 7/50: 100%|██████████| 1257/1257 [05:11<00:00,  4.03it/s]\n"
     ]
    },
    {
     "name": "stdout",
     "output_type": "stream",
     "text": [
      "Epoch 7 | Train Loss: 3.7123 | Val Loss: 2.6683\n",
      "✅ Best model updated and saved at Epoch 7\n"
     ]
    },
    {
     "name": "stderr",
     "output_type": "stream",
     "text": [
      "Epoch 8/50: 100%|██████████| 1257/1257 [05:12<00:00,  4.03it/s]\n"
     ]
    },
    {
     "name": "stdout",
     "output_type": "stream",
     "text": [
      "Epoch 8 | Train Loss: 3.6753 | Val Loss: 3.1710\n",
      "⚠️ No improvement for 1 epoch(s)\n"
     ]
    },
    {
     "name": "stderr",
     "output_type": "stream",
     "text": [
      "Epoch 9/50: 100%|██████████| 1257/1257 [05:12<00:00,  4.02it/s]\n"
     ]
    },
    {
     "name": "stdout",
     "output_type": "stream",
     "text": [
      "Epoch 9 | Train Loss: 3.6539 | Val Loss: 2.6065\n",
      "✅ Best model updated and saved at Epoch 9\n"
     ]
    },
    {
     "name": "stderr",
     "output_type": "stream",
     "text": [
      "Epoch 10/50: 100%|██████████| 1257/1257 [05:19<00:00,  3.93it/s]\n"
     ]
    },
    {
     "name": "stdout",
     "output_type": "stream",
     "text": [
      "Epoch 10 | Train Loss: 3.6239 | Val Loss: 2.8509\n",
      "⚠️ No improvement for 1 epoch(s)\n"
     ]
    },
    {
     "name": "stderr",
     "output_type": "stream",
     "text": [
      "Epoch 11/50: 100%|██████████| 1257/1257 [05:18<00:00,  3.94it/s]\n"
     ]
    },
    {
     "name": "stdout",
     "output_type": "stream",
     "text": [
      "Epoch 11 | Train Loss: 3.6243 | Val Loss: 2.6074\n",
      "⚠️ No improvement for 2 epoch(s)\n"
     ]
    },
    {
     "name": "stderr",
     "output_type": "stream",
     "text": [
      "Epoch 12/50: 100%|██████████| 1257/1257 [05:18<00:00,  3.95it/s]\n"
     ]
    },
    {
     "name": "stdout",
     "output_type": "stream",
     "text": [
      "Epoch 12 | Train Loss: 3.5997 | Val Loss: 3.1336\n",
      "⚠️ No improvement for 3 epoch(s)\n"
     ]
    },
    {
     "name": "stderr",
     "output_type": "stream",
     "text": [
      "Epoch 13/50: 100%|██████████| 1257/1257 [05:18<00:00,  3.95it/s]\n"
     ]
    },
    {
     "name": "stdout",
     "output_type": "stream",
     "text": [
      "Epoch 13 | Train Loss: 3.5595 | Val Loss: 2.6465\n",
      "⚠️ No improvement for 4 epoch(s)\n"
     ]
    },
    {
     "name": "stderr",
     "output_type": "stream",
     "text": [
      "Epoch 14/50: 100%|██████████| 1257/1257 [05:13<00:00,  4.00it/s]\n"
     ]
    },
    {
     "name": "stdout",
     "output_type": "stream",
     "text": [
      "Epoch 14 | Train Loss: 3.5522 | Val Loss: 2.8857\n",
      "⚠️ No improvement for 5 epoch(s)\n"
     ]
    },
    {
     "name": "stderr",
     "output_type": "stream",
     "text": [
      "Epoch 15/50: 100%|██████████| 1257/1257 [05:17<00:00,  3.96it/s]\n"
     ]
    },
    {
     "name": "stdout",
     "output_type": "stream",
     "text": [
      "Epoch 15 | Train Loss: 3.5463 | Val Loss: 2.7174\n",
      "⚠️ No improvement for 6 epoch(s)\n"
     ]
    },
    {
     "name": "stderr",
     "output_type": "stream",
     "text": [
      "Epoch 16/50: 100%|██████████| 1257/1257 [05:18<00:00,  3.94it/s]\n"
     ]
    },
    {
     "name": "stdout",
     "output_type": "stream",
     "text": [
      "Epoch 16 | Train Loss: 3.5227 | Val Loss: 2.5323\n",
      "✅ Best model updated and saved at Epoch 16\n"
     ]
    },
    {
     "name": "stderr",
     "output_type": "stream",
     "text": [
      "Epoch 17/50: 100%|██████████| 1257/1257 [05:18<00:00,  3.95it/s]\n"
     ]
    },
    {
     "name": "stdout",
     "output_type": "stream",
     "text": [
      "Epoch 17 | Train Loss: 3.5077 | Val Loss: 2.6118\n",
      "⚠️ No improvement for 1 epoch(s)\n"
     ]
    },
    {
     "name": "stderr",
     "output_type": "stream",
     "text": [
      "Epoch 18/50: 100%|██████████| 1257/1257 [05:17<00:00,  3.96it/s]\n"
     ]
    },
    {
     "name": "stdout",
     "output_type": "stream",
     "text": [
      "Epoch 18 | Train Loss: 3.5192 | Val Loss: 2.5825\n",
      "⚠️ No improvement for 2 epoch(s)\n"
     ]
    },
    {
     "name": "stderr",
     "output_type": "stream",
     "text": [
      "Epoch 19/50: 100%|██████████| 1257/1257 [05:18<00:00,  3.95it/s]\n"
     ]
    },
    {
     "name": "stdout",
     "output_type": "stream",
     "text": [
      "Epoch 19 | Train Loss: 3.5152 | Val Loss: 2.5944\n",
      "⚠️ No improvement for 3 epoch(s)\n"
     ]
    },
    {
     "name": "stderr",
     "output_type": "stream",
     "text": [
      "Epoch 20/50: 100%|██████████| 1257/1257 [05:16<00:00,  3.97it/s]\n"
     ]
    },
    {
     "name": "stdout",
     "output_type": "stream",
     "text": [
      "Epoch 20 | Train Loss: 3.5031 | Val Loss: 2.5654\n",
      "⚠️ No improvement for 4 epoch(s)\n"
     ]
    },
    {
     "name": "stderr",
     "output_type": "stream",
     "text": [
      "Epoch 21/50: 100%|██████████| 1257/1257 [05:11<00:00,  4.04it/s]\n"
     ]
    },
    {
     "name": "stdout",
     "output_type": "stream",
     "text": [
      "Epoch 21 | Train Loss: 3.4988 | Val Loss: 2.5172\n",
      "✅ Best model updated and saved at Epoch 21\n"
     ]
    },
    {
     "name": "stderr",
     "output_type": "stream",
     "text": [
      "Epoch 22/50: 100%|██████████| 1257/1257 [05:11<00:00,  4.04it/s]\n"
     ]
    },
    {
     "name": "stdout",
     "output_type": "stream",
     "text": [
      "Epoch 22 | Train Loss: 3.5012 | Val Loss: 2.5226\n",
      "⚠️ No improvement for 1 epoch(s)\n"
     ]
    },
    {
     "name": "stderr",
     "output_type": "stream",
     "text": [
      "Epoch 23/50: 100%|██████████| 1257/1257 [05:11<00:00,  4.04it/s]\n"
     ]
    },
    {
     "name": "stdout",
     "output_type": "stream",
     "text": [
      "Epoch 23 | Train Loss: 3.4993 | Val Loss: 2.5545\n",
      "⚠️ No improvement for 2 epoch(s)\n"
     ]
    },
    {
     "name": "stderr",
     "output_type": "stream",
     "text": [
      "Epoch 24/50: 100%|██████████| 1257/1257 [05:17<00:00,  3.96it/s]\n"
     ]
    },
    {
     "name": "stdout",
     "output_type": "stream",
     "text": [
      "Epoch 24 | Train Loss: 3.4997 | Val Loss: 2.5797\n",
      "⚠️ No improvement for 3 epoch(s)\n"
     ]
    },
    {
     "name": "stderr",
     "output_type": "stream",
     "text": [
      "Epoch 25/50: 100%|██████████| 1257/1257 [05:18<00:00,  3.95it/s]\n"
     ]
    },
    {
     "name": "stdout",
     "output_type": "stream",
     "text": [
      "Epoch 25 | Train Loss: 3.4924 | Val Loss: 2.5230\n",
      "⚠️ No improvement for 4 epoch(s)\n"
     ]
    },
    {
     "name": "stderr",
     "output_type": "stream",
     "text": [
      "Epoch 26/50: 100%|██████████| 1257/1257 [05:17<00:00,  3.96it/s]\n"
     ]
    },
    {
     "name": "stdout",
     "output_type": "stream",
     "text": [
      "Epoch 26 | Train Loss: 3.4945 | Val Loss: 2.5648\n",
      "⚠️ No improvement for 5 epoch(s)\n"
     ]
    },
    {
     "name": "stderr",
     "output_type": "stream",
     "text": [
      "Epoch 27/50: 100%|██████████| 1257/1257 [05:13<00:00,  4.02it/s]\n"
     ]
    },
    {
     "name": "stdout",
     "output_type": "stream",
     "text": [
      "Epoch 27 | Train Loss: 3.4838 | Val Loss: 2.4884\n",
      "✅ Best model updated and saved at Epoch 27\n"
     ]
    },
    {
     "name": "stderr",
     "output_type": "stream",
     "text": [
      "Epoch 28/50: 100%|██████████| 1257/1257 [05:17<00:00,  3.96it/s]\n"
     ]
    },
    {
     "name": "stdout",
     "output_type": "stream",
     "text": [
      "Epoch 28 | Train Loss: 3.4905 | Val Loss: 2.4548\n",
      "✅ Best model updated and saved at Epoch 28\n"
     ]
    },
    {
     "name": "stderr",
     "output_type": "stream",
     "text": [
      "Epoch 29/50: 100%|██████████| 1257/1257 [05:18<00:00,  3.95it/s]\n"
     ]
    },
    {
     "name": "stdout",
     "output_type": "stream",
     "text": [
      "Epoch 29 | Train Loss: 3.4956 | Val Loss: 2.5532\n",
      "⚠️ No improvement for 1 epoch(s)\n"
     ]
    },
    {
     "name": "stderr",
     "output_type": "stream",
     "text": [
      "Epoch 30/50: 100%|██████████| 1257/1257 [05:15<00:00,  3.98it/s]\n"
     ]
    },
    {
     "name": "stdout",
     "output_type": "stream",
     "text": [
      "Epoch 30 | Train Loss: 3.4922 | Val Loss: 2.5092\n",
      "⚠️ No improvement for 2 epoch(s)\n"
     ]
    },
    {
     "name": "stderr",
     "output_type": "stream",
     "text": [
      "Epoch 31/50: 100%|██████████| 1257/1257 [05:11<00:00,  4.03it/s]\n"
     ]
    },
    {
     "name": "stdout",
     "output_type": "stream",
     "text": [
      "Epoch 31 | Train Loss: 3.4908 | Val Loss: 2.5221\n",
      "⚠️ No improvement for 3 epoch(s)\n"
     ]
    },
    {
     "name": "stderr",
     "output_type": "stream",
     "text": [
      "Epoch 32/50: 100%|██████████| 1257/1257 [05:12<00:00,  4.03it/s]\n"
     ]
    },
    {
     "name": "stdout",
     "output_type": "stream",
     "text": [
      "Epoch 32 | Train Loss: 3.4804 | Val Loss: 2.5565\n",
      "⚠️ No improvement for 4 epoch(s)\n"
     ]
    },
    {
     "name": "stderr",
     "output_type": "stream",
     "text": [
      "Epoch 33/50: 100%|██████████| 1257/1257 [05:12<00:00,  4.03it/s]\n"
     ]
    },
    {
     "name": "stdout",
     "output_type": "stream",
     "text": [
      "Epoch 33 | Train Loss: 3.4848 | Val Loss: 2.6240\n",
      "⚠️ No improvement for 5 epoch(s)\n"
     ]
    },
    {
     "name": "stderr",
     "output_type": "stream",
     "text": [
      "Epoch 34/50: 100%|██████████| 1257/1257 [05:11<00:00,  4.03it/s]\n"
     ]
    },
    {
     "name": "stdout",
     "output_type": "stream",
     "text": [
      "Epoch 34 | Train Loss: 3.4865 | Val Loss: 2.5244\n",
      "⚠️ No improvement for 6 epoch(s)\n"
     ]
    },
    {
     "name": "stderr",
     "output_type": "stream",
     "text": [
      "Epoch 35/50: 100%|██████████| 1257/1257 [05:11<00:00,  4.03it/s]\n"
     ]
    },
    {
     "name": "stdout",
     "output_type": "stream",
     "text": [
      "Epoch 35 | Train Loss: 3.4882 | Val Loss: 2.4881\n",
      "⚠️ No improvement for 7 epoch(s)\n",
      "⏹️ Early stopping triggered after 35 epochs.\n"
     ]
    }
   ],
   "source": [
    "# setAndTrainModel(weekyDataLabel, weekyData[0], RegNetY8GFModel, savePath = \"./allModel\", extraName = extraName)\n",
    "# setAndTrainModel(weekyDataLabel, weekyData[1], RegNetY8GFModel, savePath = \"./allModel\", extraName = extraName)\n",
    "# setAndTrainModel(weekyDataLabel, weekyData[2], RegNetY8GFModel, savePath = \"./allModel\", extraName = extraName)\n",
    "# setAndTrainModel(weekyDataLabel, weekyData[3], RegNetY8GFModel, savePath = \"./allModel\", extraName = extraName)\n",
    "# setAndTrainModel(weekyDataLabel, weekyData[4], RegNetY8GFModel, savePath = \"./allModel\", extraName = extraName)\n",
    "# setAndTrainModel(resultDataLabel, resultData[0], RegNetY8GFModel, savePath = \"./allModel\", extraName = extraName)\n",
    "# setAndTrainModel(resultDataLabel, resultData[1], RegNetY8GFModel, savePath = \"./allModel\", extraName = extraName)\n",
    "# setAndTrainModel(resultDataLabel, resultData[2], RegNetY8GFModel, savePath = \"./allModel\", extraName = extraName)\n",
    "# setAndTrainModel(resultDataLabel, resultData[3], RegNetY8GFModel, savePath = \"./allModel\", extraName = extraName)\n",
    "# setAndTrainModel(resultDataLabel, resultData[4], RegNetY8GFModel, savePath = \"./allModel\", extraName = extraName)\n",
    "# setAndTrainModel(resultDataLabel, resultData[5], RegNetY8GFModel, savePath = \"./allModel\", extraName = extraName)\n",
    "# setAndTrainModel(resultDataLabel, resultData[6], RegNetY8GFModel, savePath = \"./allModel\", extraName = extraName)\n",
    "# setAndTrainModel(resultDataLabel, resultData[7], RegNetY8GFModel, savePath = \"./allModel\", extraName = extraName)\n",
    "# setAndTrainModel(dateDataLabelAll, \"days\", RegNetY8GFModel, savePath = \"./allModel\", extraName = \"noERR\")\n",
    "# setAndTrainModel(dateDataLabelFrom3, \"days\", RegNetY8GFModel, savePath = \"./allModel\", extraName = \"from3\")\n",
    "# setAndTrainModel(dateDataLabelFrom4, \"days\", RegNetY8GFModel, savePath = \"./allModel\", extraName = \"from4\")\n"
   ]
  },
  {
   "cell_type": "code",
   "execution_count": 8,
   "metadata": {},
   "outputs": [
    {
     "name": "stdout",
     "output_type": "stream",
     "text": [
      "Height_MobileViTV2WheatModel_raw1\n",
      "Save model to:  ./allModel/Height_MobileViTV2WheatModel_raw1\n",
      "Using device: cuda\n",
      "✅ Safe Split → Train: 21420, Val: 2680, Test: 134\n",
      "Train Batches: 1339, Validation Batches: 168, Test Batches: 9\n"
     ]
    },
    {
     "name": "stderr",
     "output_type": "stream",
     "text": [
      "Epoch 1/50: 100%|██████████| 1339/1339 [02:22<00:00,  9.37it/s]\n"
     ]
    },
    {
     "name": "stdout",
     "output_type": "stream",
     "text": [
      "Epoch 1 | Train Loss: 4.1246 | Val Loss: 2.5834\n",
      "✅ Best model updated and saved at Epoch 1\n"
     ]
    },
    {
     "name": "stderr",
     "output_type": "stream",
     "text": [
      "Epoch 2/50: 100%|██████████| 1339/1339 [02:22<00:00,  9.37it/s]\n"
     ]
    },
    {
     "name": "stdout",
     "output_type": "stream",
     "text": [
      "Epoch 2 | Train Loss: 3.2432 | Val Loss: 2.8350\n",
      "⚠️ No improvement for 1 epoch(s)\n"
     ]
    },
    {
     "name": "stderr",
     "output_type": "stream",
     "text": [
      "Epoch 3/50: 100%|██████████| 1339/1339 [02:22<00:00,  9.39it/s]\n"
     ]
    },
    {
     "name": "stdout",
     "output_type": "stream",
     "text": [
      "Epoch 3 | Train Loss: 3.1251 | Val Loss: 2.5280\n",
      "✅ Best model updated and saved at Epoch 3\n"
     ]
    },
    {
     "name": "stderr",
     "output_type": "stream",
     "text": [
      "Epoch 4/50: 100%|██████████| 1339/1339 [02:23<00:00,  9.34it/s]\n"
     ]
    },
    {
     "name": "stdout",
     "output_type": "stream",
     "text": [
      "Epoch 4 | Train Loss: 3.0595 | Val Loss: 2.7011\n",
      "⚠️ No improvement for 1 epoch(s)\n"
     ]
    },
    {
     "name": "stderr",
     "output_type": "stream",
     "text": [
      "Epoch 5/50: 100%|██████████| 1339/1339 [02:22<00:00,  9.40it/s]\n"
     ]
    },
    {
     "name": "stdout",
     "output_type": "stream",
     "text": [
      "Epoch 5 | Train Loss: 3.0034 | Val Loss: 2.5172\n",
      "✅ Best model updated and saved at Epoch 5\n"
     ]
    },
    {
     "name": "stderr",
     "output_type": "stream",
     "text": [
      "Epoch 6/50:  44%|████▍     | 586/1339 [01:09<01:29,  8.46it/s]\n"
     ]
    },
    {
     "ename": "KeyboardInterrupt",
     "evalue": "",
     "output_type": "error",
     "traceback": [
      "\u001b[31m---------------------------------------------------------------------------\u001b[39m",
      "\u001b[31mKeyboardInterrupt\u001b[39m                         Traceback (most recent call last)",
      "\u001b[36mCell\u001b[39m\u001b[36m \u001b[39m\u001b[32mIn[8]\u001b[39m\u001b[32m, line 1\u001b[39m\n\u001b[32m----> \u001b[39m\u001b[32m1\u001b[39m \u001b[43msetAndTrainModel\u001b[49m\u001b[43m(\u001b[49m\u001b[43mweekyDataLabel\u001b[49m\u001b[43m,\u001b[49m\u001b[43m \u001b[49m\u001b[43mweekyData\u001b[49m\u001b[43m[\u001b[49m\u001b[32;43m0\u001b[39;49m\u001b[43m]\u001b[49m\u001b[43m,\u001b[49m\u001b[43m \u001b[49m\u001b[43mMobileViTV2WheatModel\u001b[49m\u001b[43m,\u001b[49m\u001b[43m \u001b[49m\u001b[43msavePath\u001b[49m\u001b[43m \u001b[49m\u001b[43m=\u001b[49m\u001b[43m \u001b[49m\u001b[33;43m\"\u001b[39;49m\u001b[33;43m./allModel\u001b[39;49m\u001b[33;43m\"\u001b[39;49m\u001b[43m,\u001b[49m\u001b[43m \u001b[49m\u001b[43mextraName\u001b[49m\u001b[43m \u001b[49m\u001b[43m=\u001b[49m\u001b[43m \u001b[49m\u001b[43mextraName\u001b[49m\u001b[43m)\u001b[49m\n\u001b[32m      2\u001b[39m setAndTrainModel(weekyDataLabel, weekyData[\u001b[32m1\u001b[39m], MobileViTV2WheatModel, savePath = \u001b[33m\"\u001b[39m\u001b[33m./allModel\u001b[39m\u001b[33m\"\u001b[39m, extraName = extraName)\n\u001b[32m      3\u001b[39m setAndTrainModel(weekyDataLabel, weekyData[\u001b[32m2\u001b[39m], MobileViTV2WheatModel, savePath = \u001b[33m\"\u001b[39m\u001b[33m./allModel\u001b[39m\u001b[33m\"\u001b[39m, extraName = extraName)\n",
      "\u001b[36mFile \u001b[39m\u001b[32mh:\\MasterProj\\Model_Creation\\TraitPredictionModel\\modelFunc.py:229\u001b[39m, in \u001b[36msetAndTrainModel\u001b[39m\u001b[34m(dataPath, traitName, model, savePath, extraName)\u001b[39m\n\u001b[32m    226\u001b[39m scheduler = torch.optim.lr_scheduler.ReduceLROnPlateau(optimizer, mode=\u001b[33m'\u001b[39m\u001b[33mmin\u001b[39m\u001b[33m'\u001b[39m, factor=\u001b[32m0.5\u001b[39m, patience=\u001b[32m2\u001b[39m)\n\u001b[32m    228\u001b[39m \u001b[38;5;66;03m# train and save model\u001b[39;00m\n\u001b[32m--> \u001b[39m\u001b[32m229\u001b[39m \u001b[43mtrain_model_laplace\u001b[49m\u001b[43m(\u001b[49m\u001b[43mmodelName\u001b[49m\u001b[43m,\u001b[49m\u001b[43m \u001b[49m\u001b[43mtrain_loader\u001b[49m\u001b[43m,\u001b[49m\u001b[43m \u001b[49m\u001b[43mval_loader\u001b[49m\u001b[43m,\u001b[49m\u001b[43m \u001b[49m\u001b[43moptimizer\u001b[49m\u001b[43m,\u001b[49m\u001b[43m \u001b[49m\u001b[43mscheduler\u001b[49m\u001b[43m,\u001b[49m\u001b[43m \u001b[49m\u001b[43mdevice\u001b[49m\u001b[43m,\u001b[49m\u001b[43m \u001b[49m\u001b[43msaveModelPath\u001b[49m\u001b[43m)\u001b[49m\n",
      "\u001b[36mFile \u001b[39m\u001b[32mh:\\MasterProj\\Model_Creation\\TraitPredictionModel\\modelFunc.py:65\u001b[39m, in \u001b[36mtrain_model_laplace\u001b[39m\u001b[34m(model, train_loader, val_loader, optimizer, scheduler, device, fileName, use_extra_input, max_epochs, patience)\u001b[39m\n\u001b[32m     62\u001b[39m     loss.backward()\n\u001b[32m     63\u001b[39m     optimizer.step()\n\u001b[32m---> \u001b[39m\u001b[32m65\u001b[39m     train_loss += \u001b[43mloss\u001b[49m\u001b[43m.\u001b[49m\u001b[43mitem\u001b[49m\u001b[43m(\u001b[49m\u001b[43m)\u001b[49m\n\u001b[32m     67\u001b[39m train_loss /= \u001b[38;5;28mlen\u001b[39m(train_loader)\n\u001b[32m     69\u001b[39m \u001b[38;5;66;03m# Validation\u001b[39;00m\n",
      "\u001b[31mKeyboardInterrupt\u001b[39m: "
     ]
    }
   ],
   "source": [
    "setAndTrainModel(weekyDataLabel, weekyData[0], MobileViTV2WheatModel, savePath = \"./allModel\", extraName = extraName)\n",
    "setAndTrainModel(weekyDataLabel, weekyData[1], MobileViTV2WheatModel, savePath = \"./allModel\", extraName = extraName)\n",
    "setAndTrainModel(weekyDataLabel, weekyData[2], MobileViTV2WheatModel, savePath = \"./allModel\", extraName = extraName)\n",
    "setAndTrainModel(weekyDataLabel, weekyData[3], MobileViTV2WheatModel, savePath = \"./allModel\", extraName = extraName)\n",
    "setAndTrainModel(weekyDataLabel, weekyData[4], MobileViTV2WheatModel, savePath = \"./allModel\", extraName = extraName)\n",
    "setAndTrainModel(resultDataLabel, resultData[0], MobileViTV2WheatModel, savePath = \"./allModel\", extraName = extraName)\n",
    "setAndTrainModel(resultDataLabel, resultData[1], MobileViTV2WheatModel, savePath = \"./allModel\", extraName = extraName)\n",
    "setAndTrainModel(resultDataLabel, resultData[2], MobileViTV2WheatModel, savePath = \"./allModel\", extraName = extraName)\n",
    "setAndTrainModel(resultDataLabel, resultData[3], MobileViTV2WheatModel, savePath = \"./allModel\", extraName = extraName)\n",
    "setAndTrainModel(resultDataLabel, resultData[4], MobileViTV2WheatModel, savePath = \"./allModel\", extraName = extraName)\n",
    "setAndTrainModel(resultDataLabel, resultData[5], MobileViTV2WheatModel, savePath = \"./allModel\", extraName = extraName)\n",
    "setAndTrainModel(resultDataLabel, resultData[6], MobileViTV2WheatModel, savePath = \"./allModel\", extraName = extraName)\n",
    "setAndTrainModel(resultDataLabel, resultData[7], MobileViTV2WheatModel, savePath = \"./allModel\", extraName = extraName)\n",
    "setAndTrainModel(dateDataLabelAll, \"days\", MobileViTV2WheatModel, savePath = \"./allModel\", extraName = \"noERR\")\n",
    "setAndTrainModel(dateDataLabelFrom3, \"days\", MobileViTV2WheatModel, savePath = \"./allModel\", extraName = \"from3\")\n",
    "setAndTrainModel(dateDataLabelFrom4, \"days\", MobileViTV2WheatModel, savePath = \"./allModel\", extraName = \"from4\")\n"
   ]
  },
  {
   "cell_type": "code",
   "execution_count": null,
   "metadata": {},
   "outputs": [],
   "source": [
    "setAndTrainModel(weekyDataLabel, weekyData[0], ConvNeXtTinyWheatModelWithConfidence, savePath = \"./allModel\", extraName = extraName)\n",
    "setAndTrainModel(weekyDataLabel, weekyData[1], ConvNeXtTinyWheatModelWithConfidence, savePath = \"./allModel\", extraName = extraName)\n",
    "setAndTrainModel(weekyDataLabel, weekyData[2], ConvNeXtTinyWheatModelWithConfidence, savePath = \"./allModel\", extraName = extraName)\n",
    "setAndTrainModel(weekyDataLabel, weekyData[3], ConvNeXtTinyWheatModelWithConfidence, savePath = \"./allModel\", extraName = extraName)\n",
    "setAndTrainModel(weekyDataLabel, weekyData[4], ConvNeXtTinyWheatModelWithConfidence, savePath = \"./allModel\", extraName = extraName)\n",
    "setAndTrainModel(resultDataLabel, resultData[0], ConvNeXtTinyWheatModelWithConfidence, savePath = \"./allModel\", extraName = extraName)\n",
    "setAndTrainModel(resultDataLabel, resultData[1], ConvNeXtTinyWheatModelWithConfidence, savePath = \"./allModel\", extraName = extraName)\n",
    "setAndTrainModel(resultDataLabel, resultData[2], ConvNeXtTinyWheatModelWithConfidence, savePath = \"./allModel\", extraName = extraName)\n",
    "setAndTrainModel(resultDataLabel, resultData[3], ConvNeXtTinyWheatModelWithConfidence, savePath = \"./allModel\", extraName = extraName)\n",
    "setAndTrainModel(resultDataLabel, resultData[4], ConvNeXtTinyWheatModelWithConfidence, savePath = \"./allModel\", extraName = extraName)\n",
    "setAndTrainModel(resultDataLabel, resultData[5], ConvNeXtTinyWheatModelWithConfidence, savePath = \"./allModel\", extraName = extraName)\n",
    "setAndTrainModel(resultDataLabel, resultData[6], ConvNeXtTinyWheatModelWithConfidence, savePath = \"./allModel\", extraName = extraName)\n",
    "setAndTrainModel(resultDataLabel, resultData[7], ConvNeXtTinyWheatModelWithConfidence, savePath = \"./allModel\", extraName = extraName)\n",
    "setAndTrainModel(dateDataLabelAll, \"days\", ConvNeXtTinyWheatModelWithConfidence, savePath = \"./allModel\", extraName = \"noERR\")\n",
    "setAndTrainModel(dateDataLabelFrom3, \"days\", ConvNeXtTinyWheatModelWithConfidence, savePath = \"./allModel\", extraName = \"from3\")\n",
    "setAndTrainModel(dateDataLabelFrom4, \"days\", ConvNeXtTinyWheatModelWithConfidence, savePath = \"./allModel\", extraName = \"from4\")"
   ]
  },
  {
   "cell_type": "code",
   "execution_count": null,
   "metadata": {},
   "outputs": [],
   "source": [
    "setAndTrainModel(weekyDataLabel, weekyData[0], EfficientNetV2MWheatModelWithConfidence, savePath = \"./allModel\", extraName = extraName)\n",
    "setAndTrainModel(weekyDataLabel, weekyData[1], EfficientNetV2MWheatModelWithConfidence, savePath = \"./allModel\", extraName = extraName)\n",
    "setAndTrainModel(weekyDataLabel, weekyData[2], EfficientNetV2MWheatModelWithConfidence, savePath = \"./allModel\", extraName = extraName)\n",
    "setAndTrainModel(weekyDataLabel, weekyData[3], EfficientNetV2MWheatModelWithConfidence, savePath = \"./allModel\", extraName = extraName)\n",
    "setAndTrainModel(weekyDataLabel, weekyData[4], EfficientNetV2MWheatModelWithConfidence, savePath = \"./allModel\", extraName = extraName)\n",
    "setAndTrainModel(resultDataLabel, resultData[0], EfficientNetV2MWheatModelWithConfidence, savePath = \"./allModel\", extraName = extraName)\n",
    "setAndTrainModel(resultDataLabel, resultData[1], EfficientNetV2MWheatModelWithConfidence, savePath = \"./allModel\", extraName = extraName)\n",
    "setAndTrainModel(resultDataLabel, resultData[2], EfficientNetV2MWheatModelWithConfidence, savePath = \"./allModel\", extraName = extraName)\n",
    "setAndTrainModel(resultDataLabel, resultData[3], EfficientNetV2MWheatModelWithConfidence, savePath = \"./allModel\", extraName = extraName)\n",
    "setAndTrainModel(resultDataLabel, resultData[4], EfficientNetV2MWheatModelWithConfidence, savePath = \"./allModel\", extraName = extraName)\n",
    "setAndTrainModel(resultDataLabel, resultData[5], EfficientNetV2MWheatModelWithConfidence, savePath = \"./allModel\", extraName = extraName)\n",
    "setAndTrainModel(resultDataLabel, resultData[6], EfficientNetV2MWheatModelWithConfidence, savePath = \"./allModel\", extraName = extraName)\n",
    "setAndTrainModel(resultDataLabel, resultData[7], EfficientNetV2MWheatModelWithConfidence, savePath = \"./allModel\", extraName = extraName)\n",
    "setAndTrainModel(dateDataLabelAll, \"days\", EfficientNetV2MWheatModelWithConfidence, savePath = \"./allModel\", extraName = \"noERR\")\n",
    "setAndTrainModel(dateDataLabelFrom3, \"days\", EfficientNetV2MWheatModelWithConfidence, savePath = \"./allModel\", extraName = \"from3\")\n",
    "setAndTrainModel(dateDataLabelFrom4, \"days\", EfficientNetV2MWheatModelWithConfidence, savePath = \"./allModel\", extraName = \"from4\")"
   ]
  }
 ],
 "metadata": {
  "kernelspec": {
   "display_name": "Python 3",
   "language": "python",
   "name": "python3"
  },
  "language_info": {
   "codemirror_mode": {
    "name": "ipython",
    "version": 3
   },
   "file_extension": ".py",
   "mimetype": "text/x-python",
   "name": "python",
   "nbconvert_exporter": "python",
   "pygments_lexer": "ipython3",
   "version": "3.10.10"
  }
 },
 "nbformat": 4,
 "nbformat_minor": 2
}
