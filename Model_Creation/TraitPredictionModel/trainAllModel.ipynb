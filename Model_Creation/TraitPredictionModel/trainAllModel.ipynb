{
 "cells": [
  {
   "cell_type": "code",
   "execution_count": 1,
   "metadata": {},
   "outputs": [
    {
     "name": "stderr",
     "output_type": "stream",
     "text": [
      "c:\\Users\\Crop2024_GA\\AppData\\Local\\Programs\\Python\\Python313\\Lib\\site-packages\\tqdm\\auto.py:21: TqdmWarning: IProgress not found. Please update jupyter and ipywidgets. See https://ipywidgets.readthedocs.io/en/stable/user_install.html\n",
      "  from .autonotebook import tqdm as notebook_tqdm\n",
      "c:\\Users\\Crop2024_GA\\AppData\\Local\\Programs\\Python\\Python313\\Lib\\site-packages\\albumentations\\__init__.py:28: UserWarning: A new version of Albumentations is available: '2.0.6' (you have '2.0.5'). Upgrade using: pip install -U albumentations. To disable automatic update checks, set the environment variable NO_ALBUMENTATIONS_UPDATE to 1.\n",
      "  check_for_updates()\n"
     ]
    }
   ],
   "source": [
    "import os\n",
    "import sys\n",
    "# Get current working directory instead of __file__\n",
    "sys.path.append(os.path.abspath(os.path.join(os.getcwd(), \"..\")))\n",
    "from ModelArchitecture.ConvNeXtTinyModel import ConvNeXtTinyWheatModelWithConfidence\n",
    "from ModelArchitecture.DenseNetModel import DenseNet121WheatModel\n",
    "from ModelArchitecture.EfficientNetV2Model import EfficientNetV2SWheatCountWithConfidence\n",
    "from ModelArchitecture.RepVGGA1Model import RepVGGA1WheatModelWithConfidence\n",
    "from ModelArchitecture.EfficientNetV2MModel import EfficientNetV2MWheatModelWithConfidence\n",
    "from ModelArchitecture.RepVGGB1g4Model import RepVGGB1g4Model\n",
    "from ModelArchitecture.RegNetY8GFModel import RegNetY8GFModel\n",
    "from ModelArchitecture.MobileViTV2Model import MobileViTV2WheatModel\n",
    "from ModelArchitecture.MobileViTV2AddoneextrainputModel import MobileViTV2ConfidenceAddoneextrainput, MobileViTV2ConfidenceAddtwoextrainput\n",
    "from ModelArchitecture.ConvNeXtTinyAddoneextrainputModel import ConvNeXtTinyConfidenceAddoneextrainput, ConvNeXtTinyConfidenceAddtwoextrainput\n",
    "from ModelArchitecture.EfficientNetV2SAddextrainputModel import EfficientNetV2SConfidenceAddoneextrainput, EfficientNetV2SConfidenceAdd2Inputs\n",
    "from ModelArchitecture.DenseNetAddextrainputModel import DenseNetConfidenceAddoneextrainput, DenseNetConfidenceAdd2Inputs\n",
    "from ModelArchitecture.RepVGGA1AddextrainputModel import RepVGGA1ConfidenceAddoneextrainput, RepVGGA1ConfidenceAdd2Inputs\n",
    "from ModelArchitecture.EfficientNetV2MAddextrainputModel import EfficientNetV2MConfidenceAddeonextrainput, EfficientNetV2MConfidenceAdd2Inputs\n",
    "from ModelArchitecture.RegNetY8GFAddextrainputModel import RegNetY8GFConfidenceAddoneextrainput, RegNetYConfidenceAdd2Inputs\n",
    "from ModelArchitecture.MobileOneModel import MobileOneConfidence, MobileOneConfidenceAddoneextrainput, MobileOneConfidenceAddtwoextrainput\n",
    "from ModelArchitecture.MaxViTModel import MaxViTConfidenceModel, MaxViTConfidenceAddoneextrainput, MaxViTConfidenceAddtwoextrainput\n",
    "from ModelArchitecture.CoatNetModel import CoAtNetConfidenceModel, CoAtNetConfidenceAddOneExtraInput, CoAtNetConfidenceAddTwoExtraInput\n",
    "from ModelArchitecture.FocalNetModel import FocalNetConfidenceModel, FocalNetConfidenceAddoneextrainput, FocalNetConfidenceAddtwoextrainput\n",
    "from ModelArchitecture.SwinTransformerV2Model import SwinV2ConfidenceModel, SwinV2ConfidenceAddOneExtraInput, SwinV2ConfidenceAddTwoExtraInput\n",
    "from ModelArchitecture.EfficientFormerV2Model import EfficientFormerConfidenceModel, EfficientFormerConfidenceAddOneExtraInput, EfficientFormerConfidenceAddTwoExtraInput\n",
    "from ModelArchitecture.PoolFormerModel import PoolFormerConfidenceModel, PoolFormerConfidenceAddOneExtraInput, PoolFormerConfidenceAddTwoExtraInput\n",
    "from ModelArchitecture.ConvNeXtV2Model import ConvNeXtV2WheatModelWithConfidence, ConvNeXtV2ConfidenceAddoneextrainput, ConvNeXtV2ConfidenceAddtwoextrainput\n",
    "from modelFunc import setAndTrainModel, setAndTrainModel_addextrainput"
   ]
  },
  {
   "cell_type": "code",
   "execution_count": 2,
   "metadata": {},
   "outputs": [],
   "source": [
    "# setAndTrainModel(\"./allTestLabel/allWeeklyData_raw1_day13.csv\", \"SPAD\", ConvNeXtV2WheatModelWithConfidence, savePath = \"./allModel\", extraName = \"none\")\n",
    "# setAndTrainModel_addextrainput(\"./allTestLabel/allWeeklyData_raw1_day13.csv\", \"days\", \"SPAD\", ConvNeXtV2ConfidenceAddoneextrainput, savePath = \"./allModel\", extraName = \"none\")\n",
    "# setAndTrainModel_addextrainput(\"./allTestLabel/allWeeklyData_raw1_day13.csv\", [\"days\", \"LAI\"], \"SPAD\", ConvNeXtV2ConfidenceAddtwoextrainput, savePath = \"./allModel\", extraName = \"none\")\n"
   ]
  },
  {
   "cell_type": "code",
   "execution_count": 3,
   "metadata": {},
   "outputs": [],
   "source": [
    "weekyDataLabel = \"./allTestLabel/allWeeklyData_raw1_day13.csv\"\n",
    "resultDataLabel = \"./allTestLabel/allResultData_raw1_day13.csv\"\n",
    "dateDataLabelAll = \"./allTestLabel/dayData_raw1_augment6_noErrDateAll.csv\"\n",
    "dateDataLabelFrom3 = \"./allTestLabel/dayData_raw1_augment6_noErrDateFrom3.csv\"\n",
    "dateDataLabelFrom4 = \"./allTestLabel/dayData_raw1_augment6_noErrDateFrom4.csv\"\n",
    "\n",
    "weekyData = [\"Height\", \"LAI\", \"SPAD\", \"leafWidth\", \"leafLength\"]\n",
    "resultData = ['totEarWeight','totEarNum','avgEarSize', '20StrawWeightBeforeDry','20StrawWeightAfterDry', 'totalSeedNum','totalSeedWeightBeforeDry','totalSeedWeightAfterDry']\n",
    "\n",
    "modelPath =\"./allModel\"\n",
    "extraName = \"raw1\""
   ]
  },
  {
   "cell_type": "code",
   "execution_count": 4,
   "metadata": {},
   "outputs": [],
   "source": [
    "def safe_train_noextra(dataPath, targetData, Model, savePath, extraName):\n",
    "    try:\n",
    "        setAndTrainModel(dataPath, targetData, Model, savePath, extraName)\n",
    "    except Exception as e:\n",
    "        with open(\"./ModelTestResult/errorModel.txt\", \"a\") as f:\n",
    "            f.write(f'setAndTrainModel(\"{dataPath}\", \"{targetData}\", {Model.__name__}, savePath=\"{savePath}\", extraName=\"{extraName}\")\\n')\n",
    "\n",
    "def safe_train_withextra(dataPath, extraInput, targetData, Model, savePath, extraName):\n",
    "    try:\n",
    "        setAndTrainModel_addextrainput(dataPath, extraInput, targetData, Model, savePath, extraName)\n",
    "    except Exception as e:\n",
    "        with open(\"./ModelTestResult/errorModel.txt\", \"a\") as f:\n",
    "            f.write(f'setAndTrainModel_addextrainput(\"{dataPath}\", {repr(extraInput)}, \"{targetData}\", {Model.__name__}, savePath=\"{savePath}\", extraName=\"{extraName}\")\\n')"
   ]
  },
  {
   "cell_type": "markdown",
   "metadata": {},
   "source": [
    "DenseNet"
   ]
  },
  {
   "cell_type": "code",
   "execution_count": 5,
   "metadata": {},
   "outputs": [],
   "source": [
    "# safe_train_noextra(weekyDataLabel, weekyData[0], DenseNet121WheatModel, savePath = \"./allModel\", extraName = extraName)\n",
    "# safe_train_noextra(weekyDataLabel, weekyData[1], DenseNet121WheatModel, savePath = \"./allModel\", extraName = extraName)\n",
    "# safe_train_noextra(weekyDataLabel, weekyData[2], DenseNet121WheatModel, savePath = \"./allModel\", extraName = extraName)\n",
    "# safe_train_noextra(weekyDataLabel, weekyData[3], DenseNet121WheatModel, savePath = \"./allModel\", extraName = extraName)\n",
    "# safe_train_noextra(weekyDataLabel, weekyData[4], DenseNet121WheatModel, savePath = \"./allModel\", extraName = extraName)\n",
    "# safe_train_noextra(resultDataLabel, resultData[0], DenseNet121WheatModel, savePath = \"./allModel\", extraName = extraName)\n",
    "# safe_train_noextra(resultDataLabel, resultData[1], DenseNet121WheatModel, savePath = \"./allModel\", extraName = extraName)\n",
    "# safe_train_noextra(resultDataLabel, resultData[2], DenseNet121WheatModel, savePath = \"./allModel\", extraName = extraName)\n",
    "# safe_train_noextra(resultDataLabel, resultData[3], DenseNet121WheatModel, savePath = \"./allModel\", extraName = extraName)\n",
    "# safe_train_noextra(resultDataLabel, resultData[4], DenseNet121WheatModel, savePath = \"./allModel\", extraName = extraName)\n",
    "# safe_train_noextra(resultDataLabel, resultData[5], DenseNet121WheatModel, savePath = \"./allModel\", extraName = extraName)\n",
    "# safe_train_noextra(resultDataLabel, resultData[6], DenseNet121WheatModel, savePath = \"./allModel\", extraName = extraName)\n",
    "# safe_train_noextra(resultDataLabel, resultData[7], DenseNet121WheatModel, savePath = \"./allModel\", extraName = extraName)\n",
    "# safe_train_noextra(dateDataLabelAll, \"days\", DenseNet121WheatModel, savePath = \"./allModel\", extraName = \"noERR\")\n",
    "# safe_train_noextra(dateDataLabelFrom3, \"days\", DenseNet121WheatModel, savePath = \"./allModel\", extraName = \"from3\")\n",
    "# safe_train_noextra(dateDataLabelFrom4, \"days\", DenseNet121WheatModel, savePath = \"./allModel\", extraName = \"from4\")"
   ]
  },
  {
   "cell_type": "code",
   "execution_count": 6,
   "metadata": {},
   "outputs": [],
   "source": [
    "# safe_train_withextra(weekyDataLabel, \"days\", \"SPAD\", DenseNetConfidenceAddoneextrainput, savePath = \"./allModel\", extraName = extraName)\n",
    "# safe_train_withextra(weekyDataLabel, \"days\", \"LAI\", DenseNetConfidenceAddoneextrainput, savePath = \"./allModel\", extraName = extraName)\n",
    "# safe_train_withextra(weekyDataLabel, \"SPAD\", \"LAI\", DenseNetConfidenceAddoneextrainput, savePath = \"./allModel\", extraName = extraName)\n",
    "# safe_train_withextra(weekyDataLabel, \"SPAD\", \"Height\", DenseNetConfidenceAddoneextrainput, savePath = \"./allModel\", extraName = extraName)\n",
    "# safe_train_withextra(weekyDataLabel, \"days\", \"totEarNum\", DenseNetConfidenceAddoneextrainput, savePath = \"./allModel\", extraName = extraName)\n",
    "# safe_train_withextra(weekyDataLabel, \"days\", \"totalSeedNum\", DenseNetConfidenceAddoneextrainput, savePath = \"./allModel\", extraName = extraName)\n",
    "# safe_train_withextra(weekyDataLabel, \"totEarNum\", \"totEarWeight\", DenseNetConfidenceAddoneextrainput, savePath = \"./allModel\", extraName = extraName)\n",
    "# safe_train_withextra(weekyDataLabel, \"totEarWeight\", \"totEarNum\", DenseNetConfidenceAddoneextrainput, savePath = \"./allModel\", extraName = extraName)\n",
    "# safe_train_withextra(weekyDataLabel, \"totalSeedNum\", \"totalSeedWeightBeforeDry\", DenseNetConfidenceAddoneextrainput, savePath = \"./allModel\", extraName = extraName)\n",
    "# safe_train_withextra(weekyDataLabel, \"totalSeedNum\", \"totalSeedWeightAfterDry\", DenseNetConfidenceAddoneextrainput, savePath = \"./allModel\", extraName = extraName)"
   ]
  },
  {
   "cell_type": "code",
   "execution_count": 7,
   "metadata": {},
   "outputs": [],
   "source": [
    "# safe_train_withextra(weekyDataLabel, [\"days\", \"SPAD\"], \"LAI\", DenseNetConfidenceAdd2Inputs, savePath = \"./allModel\", extraName = extraName)\n",
    "# safe_train_withextra(weekyDataLabel, [\"days\", \"LAI\"], \"SPAD\", DenseNetConfidenceAdd2Inputs, savePath = \"./allModel\", extraName = extraName)\n",
    "# safe_train_withextra(weekyDataLabel, [\"SPAD\", \"LAI\"], \"Height\", DenseNetConfidenceAdd2Inputs, savePath = \"./allModel\", extraName = extraName)\n",
    "# safe_train_withextra(weekyDataLabel, [\"days\", \"SPAD\"], \"Height\", DenseNetConfidenceAdd2Inputs, savePath = \"./allModel\", extraName = extraName)"
   ]
  },
  {
   "cell_type": "markdown",
   "metadata": {},
   "source": [
    "RegNet"
   ]
  },
  {
   "cell_type": "code",
   "execution_count": 8,
   "metadata": {},
   "outputs": [],
   "source": [
    "# safe_train_noextra(weekyDataLabel, weekyData[0], RegNetY8GFModel, savePath = \"./allModel\", extraName = extraName)\n",
    "# safe_train_noextra(weekyDataLabel, weekyData[1], RegNetY8GFModel, savePath = \"./allModel\", extraName = extraName)\n",
    "# safe_train_noextra(weekyDataLabel, weekyData[2], RegNetY8GFModel, savePath = \"./allModel\", extraName = extraName)\n",
    "# safe_train_noextra(weekyDataLabel, weekyData[3], RegNetY8GFModel, savePath = \"./allModel\", extraName = extraName)\n",
    "# safe_train_noextra(weekyDataLabel, weekyData[4], RegNetY8GFModel, savePath = \"./allModel\", extraName = extraName)\n",
    "# safe_train_noextra(resultDataLabel, resultData[0], RegNetY8GFModel, savePath = \"./allModel\", extraName = extraName)\n",
    "# safe_train_noextra(resultDataLabel, resultData[1], RegNetY8GFModel, savePath = \"./allModel\", extraName = extraName)\n",
    "# safe_train_noextra(resultDataLabel, resultData[2], RegNetY8GFModel, savePath = \"./allModel\", extraName = extraName)\n",
    "# safe_train_noextra(resultDataLabel, resultData[3], RegNetY8GFModel, savePath = \"./allModel\", extraName = extraName)\n",
    "# safe_train_noextra(resultDataLabel, resultData[4], RegNetY8GFModel, savePath = \"./allModel\", extraName = extraName)\n",
    "# safe_train_noextra(resultDataLabel, resultData[5], RegNetY8GFModel, savePath = \"./allModel\", extraName = extraName)\n",
    "# safe_train_noextra(resultDataLabel, resultData[6], RegNetY8GFModel, savePath = \"./allModel\", extraName = extraName)\n",
    "# safe_train_noextra(resultDataLabel, resultData[7], RegNetY8GFModel, savePath = \"./allModel\", extraName = extraName)\n",
    "# safe_train_noextra(dateDataLabelAll, \"days\", RegNetY8GFModel, savePath = \"./allModel\", extraName = \"noERR\")\n",
    "# safe_train_noextra(dateDataLabelFrom3, \"days\", RegNetY8GFModel, savePath = \"./allModel\", extraName = \"from3\")\n",
    "# safe_train_noextra(dateDataLabelFrom4, \"days\", RegNetY8GFModel, savePath = \"./allModel\", extraName = \"from4\")"
   ]
  },
  {
   "cell_type": "code",
   "execution_count": 9,
   "metadata": {},
   "outputs": [],
   "source": [
    "# safe_train_withextra(weekyDataLabel, \"days\", \"SPAD\", RegNetY8GFConfidenceAddoneextrainput, savePath = \"./allModelExtraInput\", extraName = extraName)\n",
    "# safe_train_withextra(weekyDataLabel, \"days\", \"LAI\", RegNetY8GFConfidenceAddoneextrainput, savePath = \"./allModelExtraInput\", extraName = extraName)\n",
    "# safe_train_withextra(weekyDataLabel, \"SPAD\", \"LAI\", RegNetY8GFConfidenceAddoneextrainput, savePath = \"./allModelExtraInput\", extraName = extraName)\n",
    "# safe_train_withextra(weekyDataLabel, \"SPAD\", \"Height\", RegNetY8GFConfidenceAddoneextrainput, savePath = \"./allModelExtraInput\", extraName = extraName)\n",
    "# safe_train_withextra(weekyDataLabel, \"days\", \"totEarNum\", RegNetY8GFConfidenceAddoneextrainput, savePath = \"./allModelExtraInput\", extraName = extraName)\n",
    "# safe_train_withextra(weekyDataLabel, \"days\", \"totalSeedNum\", RegNetY8GFConfidenceAddoneextrainput, savePath = \"./allModelExtraInput\", extraName = extraName)\n",
    "# safe_train_withextra(weekyDataLabel, \"totEarNum\", \"totEarWeight\", RegNetY8GFConfidenceAddoneextrainput, savePath = \"./allModelExtraInput\", extraName = extraName)\n",
    "# safe_train_withextra(weekyDataLabel, \"totEarWeight\", \"totEarNum\", RegNetY8GFConfidenceAddoneextrainput, savePath = \"./allModelExtraInput\", extraName = extraName)\n",
    "# safe_train_withextra(weekyDataLabel, \"totalSeedNum\", \"totalSeedWeightBeforeDry\", RegNetY8GFConfidenceAddoneextrainput, savePath = \"./allModelExtraInput\", extraName = extraName)\n",
    "# safe_train_withextra(weekyDataLabel, \"totalSeedNum\", \"totalSeedWeightAfterDry\", RegNetY8GFConfidenceAddoneextrainput, savePath = \"./allModelExtraInput\", extraName = extraName)"
   ]
  },
  {
   "cell_type": "code",
   "execution_count": 10,
   "metadata": {},
   "outputs": [],
   "source": [
    "# safe_train_withextra(weekyDataLabel, [\"days\", \"SPAD\"], \"LAI\", RegNetYConfidenceAdd2Inputs, savePath = \"./allModelExtraInput\", extraName = extraName)\n",
    "# safe_train_withextra(weekyDataLabel, [\"days\", \"LAI\"], \"SPAD\", RegNetYConfidenceAdd2Inputs, savePath = \"./allModelExtraInput\", extraName = extraName)\n",
    "# safe_train_withextra(weekyDataLabel, [\"SPAD\", \"LAI\"], \"Height\", RegNetYConfidenceAdd2Inputs, savePath = \"./allModelExtraInput\", extraName = extraName)\n",
    "# safe_train_withextra(weekyDataLabel, [\"days\", \"SPAD\"], \"Height\", RegNetYConfidenceAdd2Inputs, savePath = \"./allModelExtraInput\", extraName = extraName)"
   ]
  },
  {
   "cell_type": "markdown",
   "metadata": {},
   "source": [
    "MobileViTV2"
   ]
  },
  {
   "cell_type": "code",
   "execution_count": 11,
   "metadata": {},
   "outputs": [],
   "source": [
    "# safe_train_noextra(weekyDataLabel, weekyData[0], MobileViTV2WheatModel, savePath = \"./allModel\", extraName = extraName)\n",
    "# safe_train_noextra(weekyDataLabel, weekyData[1], MobileViTV2WheatModel, savePath = \"./allModel\", extraName = extraName)\n",
    "# safe_train_noextra(weekyDataLabel, weekyData[2], MobileViTV2WheatModel, savePath = \"./allModel\", extraName = extraName)\n",
    "# safe_train_noextra(weekyDataLabel, weekyData[3], MobileViTV2WheatModel, savePath = \"./allModel\", extraName = extraName)\n",
    "# safe_train_noextra(weekyDataLabel, weekyData[4], MobileViTV2WheatModel, savePath = \"./allModel\", extraName = extraName)\n",
    "# safe_train_noextra(resultDataLabel, resultData[0], MobileViTV2WheatModel, savePath = \"./allModel\", extraName = extraName)\n",
    "# safe_train_noextra(resultDataLabel, resultData[1], MobileViTV2WheatModel, savePath = \"./allModel\", extraName = extraName)\n",
    "# safe_train_noextra(resultDataLabel, resultData[2], MobileViTV2WheatModel, savePath = \"./allModel\", extraName = extraName)\n",
    "# safe_train_noextra(resultDataLabel, resultData[3], MobileViTV2WheatModel, savePath = \"./allModel\", extraName = extraName)\n",
    "# safe_train_noextra(resultDataLabel, resultData[4], MobileViTV2WheatModel, savePath = \"./allModel\", extraName = extraName)\n",
    "# safe_train_noextra(resultDataLabel, resultData[5], MobileViTV2WheatModel, savePath = \"./allModel\", extraName = extraName)\n",
    "# safe_train_noextra(resultDataLabel, resultData[6], MobileViTV2WheatModel, savePath = \"./allModel\", extraName = extraName)\n",
    "# safe_train_noextra(resultDataLabel, resultData[7], MobileViTV2WheatModel, savePath = \"./allModel\", extraName = extraName)\n",
    "# safe_train_noextra(dateDataLabelAll, \"days\", MobileViTV2WheatModel, savePath = \"./allModel\", extraName = \"noERR\")\n",
    "# safe_train_noextra(dateDataLabelFrom3, \"days\", MobileViTV2WheatModel, savePath = \"./allModel\", extraName = \"from3\")\n",
    "# safe_train_noextra(dateDataLabelFrom4, \"days\", MobileViTV2WheatModel, savePath = \"./allModel\", extraName = \"from4\")"
   ]
  },
  {
   "cell_type": "code",
   "execution_count": 12,
   "metadata": {},
   "outputs": [],
   "source": [
    "# safe_train_withextra(weekyDataLabel, \"days\", \"SPAD\", MobileViTV2ConfidenceAddoneextrainput, savePath = \"./allModelExtraInput\", extraName = extraName)\n",
    "# safe_train_withextra(weekyDataLabel, \"days\", \"LAI\", MobileViTV2ConfidenceAddoneextrainput, savePath = \"./allModelExtraInput\", extraName = extraName)\n",
    "# safe_train_withextra(weekyDataLabel, \"SPAD\", \"LAI\", MobileViTV2ConfidenceAddoneextrainput, savePath = \"./allModelExtraInput\", extraName = extraName)\n",
    "# safe_train_withextra(weekyDataLabel, \"SPAD\", \"Height\", MobileViTV2ConfidenceAddoneextrainput, savePath = \"./allModelExtraInput\", extraName = extraName)\n",
    "# safe_train_withextra(weekyDataLabel, \"days\", \"totEarNum\", MobileViTV2ConfidenceAddoneextrainput, savePath = \"./allModelExtraInput\", extraName = extraName)\n",
    "# safe_train_withextra(weekyDataLabel, \"days\", \"totalSeedNum\", MobileViTV2ConfidenceAddoneextrainput, savePath = \"./allModelExtraInput\", extraName = extraName)\n",
    "# safe_train_withextra(weekyDataLabel, \"totEarNum\", \"totEarWeight\", MobileViTV2ConfidenceAddoneextrainput, savePath = \"./allModelExtraInput\", extraName = extraName)\n",
    "# safe_train_withextra(weekyDataLabel, \"totEarWeight\", \"totEarNum\", MobileViTV2ConfidenceAddoneextrainput, savePath = \"./allModelExtraInput\", extraName = extraName)\n",
    "# safe_train_withextra(weekyDataLabel, \"totalSeedNum\", \"totalSeedWeightBeforeDry\", MobileViTV2ConfidenceAddoneextrainput, savePath = \"./allModelExtraInput\", extraName = extraName)\n",
    "# safe_train_withextra(weekyDataLabel, \"totalSeedNum\", \"totalSeedWeightAfterDry\", MobileViTV2ConfidenceAddoneextrainput, savePath = \"./allModelExtraInput\", extraName = extraName)"
   ]
  },
  {
   "cell_type": "code",
   "execution_count": 13,
   "metadata": {},
   "outputs": [],
   "source": [
    "# safe_train_withextra(weekyDataLabel, [\"days\", \"SPAD\"], \"LAI\", MobileViTV2ConfidenceAddtwoextrainput, savePath = \"./allModelExtraInput\", extraName = extraName)\n",
    "# safe_train_withextra(weekyDataLabel, [\"days\", \"LAI\"], \"SPAD\", MobileViTV2ConfidenceAddtwoextrainput, savePath = \"./allModelExtraInput\", extraName = extraName)\n",
    "# safe_train_withextra(weekyDataLabel, [\"SPAD\", \"LAI\"], \"Height\", MobileViTV2ConfidenceAddtwoextrainput, savePath = \"./allModelExtraInput\", extraName = extraName)\n",
    "# safe_train_withextra(weekyDataLabel, [\"days\", \"SPAD\"], \"Height\", MobileViTV2ConfidenceAddtwoextrainput, savePath = \"./allModelExtraInput\", extraName = extraName)"
   ]
  },
  {
   "cell_type": "markdown",
   "metadata": {},
   "source": [
    "EfficientNetV2M"
   ]
  },
  {
   "cell_type": "code",
   "execution_count": 14,
   "metadata": {},
   "outputs": [],
   "source": [
    "# safe_train_noextra(weekyDataLabel, weekyData[0], EfficientNetV2MWheatModelWithConfidence, savePath = \"./allModel\", extraName = extraName)\n",
    "# safe_train_noextra(weekyDataLabel, weekyData[1], EfficientNetV2MWheatModelWithConfidence, savePath = \"./allModel\", extraName = extraName)\n",
    "# safe_train_noextra(weekyDataLabel, weekyData[2], EfficientNetV2MWheatModelWithConfidence, savePath = \"./allModel\", extraName = extraName)\n",
    "# safe_train_noextra(weekyDataLabel, weekyData[3], EfficientNetV2MWheatModelWithConfidence, savePath = \"./allModel\", extraName = extraName)\n",
    "# safe_train_noextra(weekyDataLabel, weekyData[4], EfficientNetV2MWheatModelWithConfidence, savePath = \"./allModel\", extraName = extraName)\n",
    "# safe_train_noextra(resultDataLabel, resultData[0], EfficientNetV2MWheatModelWithConfidence, savePath = \"./allModel\", extraName = extraName)\n",
    "# safe_train_noextra(resultDataLabel, resultData[1], EfficientNetV2MWheatModelWithConfidence, savePath = \"./allModel\", extraName = extraName)\n",
    "# safe_train_noextra(resultDataLabel, resultData[2], EfficientNetV2MWheatModelWithConfidence, savePath = \"./allModel\", extraName = extraName)\n",
    "# safe_train_noextra(resultDataLabel, resultData[3], EfficientNetV2MWheatModelWithConfidence, savePath = \"./allModel\", extraName = extraName)\n",
    "# safe_train_noextra(resultDataLabel, resultData[4], EfficientNetV2MWheatModelWithConfidence, savePath = \"./allModel\", extraName = extraName)\n",
    "# safe_train_noextra(resultDataLabel, resultData[5], EfficientNetV2MWheatModelWithConfidence, savePath = \"./allModel\", extraName = extraName)\n",
    "# safe_train_noextra(resultDataLabel, resultData[6], EfficientNetV2MWheatModelWithConfidence, savePath = \"./allModel\", extraName = extraName)\n",
    "# safe_train_noextra(resultDataLabel, resultData[7], EfficientNetV2MWheatModelWithConfidence, savePath = \"./allModel\", extraName = extraName)\n",
    "# safe_train_noextra(dateDataLabelAll, \"days\", EfficientNetV2MWheatModelWithConfidence, savePath = \"./allModel\", extraName = \"noERR\")\n",
    "# safe_train_noextra(dateDataLabelFrom3, \"days\", EfficientNetV2MWheatModelWithConfidence, savePath = \"./allModel\", extraName = \"from3\")\n",
    "# safe_train_noextra(dateDataLabelFrom4, \"days\", EfficientNetV2MWheatModelWithConfidence, savePath = \"./allModel\", extraName = \"from4\")"
   ]
  },
  {
   "cell_type": "code",
   "execution_count": 15,
   "metadata": {},
   "outputs": [],
   "source": [
    "# safe_train_withextra(weekyDataLabel, \"days\", \"SPAD\", EfficientNetV2MConfidenceAddeonextrainput, savePath = \"./allModelExtraInput\", extraName = extraName)\n",
    "# safe_train_withextra(weekyDataLabel, \"days\", \"LAI\", EfficientNetV2MConfidenceAddeonextrainput, savePath = \"./allModelExtraInput\", extraName = extraName)\n",
    "# safe_train_withextra(weekyDataLabel, \"SPAD\", \"LAI\", EfficientNetV2MConfidenceAddeonextrainput, savePath = \"./allModelExtraInput\", extraName = extraName)\n",
    "# safe_train_withextra(weekyDataLabel, \"SPAD\", \"Height\", EfficientNetV2MConfidenceAddeonextrainput, savePath = \"./allModelExtraInput\", extraName = extraName)\n",
    "# safe_train_withextra(weekyDataLabel, \"days\", \"totEarNum\", EfficientNetV2MConfidenceAddeonextrainput, savePath = \"./allModelExtraInput\", extraName = extraName)\n",
    "# safe_train_withextra(weekyDataLabel, \"days\", \"totalSeedNum\", EfficientNetV2MConfidenceAddeonextrainput, savePath = \"./allModelExtraInput\", extraName = extraName)\n",
    "# safe_train_withextra(weekyDataLabel, \"totEarNum\", \"totEarWeight\", EfficientNetV2MConfidenceAddeonextrainput, savePath = \"./allModelExtraInput\", extraName = extraName)\n",
    "# safe_train_withextra(weekyDataLabel, \"totEarWeight\", \"totEarNum\", EfficientNetV2MConfidenceAddeonextrainput, savePath = \"./allModelExtraInput\", extraName = extraName)\n",
    "# safe_train_withextra(weekyDataLabel, \"totalSeedNum\", \"totalSeedWeightBeforeDry\", EfficientNetV2MConfidenceAddeonextrainput, savePath = \"./allModelExtraInput\", extraName = extraName)\n",
    "# safe_train_withextra(weekyDataLabel, \"totalSeedNum\", \"totalSeedWeightAfterDry\", EfficientNetV2MConfidenceAddeonextrainput, savePath = \"./allModelExtraInput\", extraName = extraName)"
   ]
  },
  {
   "cell_type": "code",
   "execution_count": 16,
   "metadata": {},
   "outputs": [],
   "source": [
    "# safe_train_withextra(weekyDataLabel, [\"days\", \"SPAD\"], \"LAI\", EfficientNetV2MConfidenceAdd2Inputs, savePath = \"./allModelExtraInput\", extraName = extraName)\n",
    "# safe_train_withextra(weekyDataLabel, [\"days\", \"LAI\"], \"SPAD\", EfficientNetV2MConfidenceAdd2Inputs, savePath = \"./allModelExtraInput\", extraName = extraName)\n",
    "# safe_train_withextra(weekyDataLabel, [\"SPAD\", \"LAI\"], \"Height\", EfficientNetV2MConfidenceAdd2Inputs, savePath = \"./allModelExtraInput\", extraName = extraName)\n",
    "# safe_train_withextra(weekyDataLabel, [\"days\", \"SPAD\"], \"Height\", EfficientNetV2MConfidenceAdd2Inputs, savePath = \"./allModelExtraInput\", extraName = extraName)"
   ]
  },
  {
   "cell_type": "markdown",
   "metadata": {},
   "source": [
    "RepVGG"
   ]
  },
  {
   "cell_type": "code",
   "execution_count": 17,
   "metadata": {},
   "outputs": [],
   "source": [
    "# safe_train_noextra(weekyDataLabel, weekyData[0], RepVGGB1g4Model, savePath = \"./allModel\", extraName = extraName)\n",
    "# safe_train_noextra(weekyDataLabel, weekyData[1], RepVGGB1g4Model, savePath = \"./allModel\", extraName = extraName)\n",
    "# safe_train_noextra(weekyDataLabel, weekyData[2], RepVGGB1g4Model, savePath = \"./allModel\", extraName = extraName)\n",
    "# safe_train_noextra(weekyDataLabel, weekyData[3], RepVGGB1g4Model, savePath = \"./allModel\", extraName = extraName)\n",
    "# safe_train_noextra(weekyDataLabel, weekyData[4], RepVGGB1g4Model, savePath = \"./allModel\", extraName = extraName)\n",
    "# safe_train_noextra(resultDataLabel, resultData[0], RepVGGB1g4Model, savePath = \"./allModel\", extraName = extraName)\n",
    "# safe_train_noextra(resultDataLabel, resultData[1], RepVGGB1g4Model, savePath = \"./allModel\", extraName = extraName)\n",
    "# safe_train_noextra(resultDataLabel, resultData[2], RepVGGB1g4Model, savePath = \"./allModel\", extraName = extraName)\n",
    "# safe_train_noextra(resultDataLabel, resultData[3], RepVGGB1g4Model, savePath = \"./allModel\", extraName = extraName)\n",
    "# safe_train_noextra(resultDataLabel, resultData[4], RepVGGB1g4Model, savePath = \"./allModel\", extraName = extraName)\n",
    "# safe_train_noextra(resultDataLabel, resultData[5], RepVGGB1g4Model, savePath = \"./allModel\", extraName = extraName)\n",
    "# safe_train_noextra(resultDataLabel, resultData[6], RepVGGB1g4Model, savePath = \"./allModel\", extraName = extraName)\n",
    "# safe_train_noextra(resultDataLabel, resultData[7], RepVGGB1g4Model, savePath = \"./allModel\", extraName = extraName)\n",
    "# safe_train_noextra(dateDataLabelAll, \"days\", RepVGGB1g4Model, savePath = \"./allModel\", extraName = \"noERR\")\n",
    "# safe_train_noextra(dateDataLabelFrom3, \"days\", RepVGGB1g4Model, savePath = \"./allModel\", extraName = \"from3\")\n",
    "# safe_train_noextra(dateDataLabelFrom4, \"days\", RepVGGB1g4Model, savePath = \"./allModel\", extraName = \"from4\")"
   ]
  },
  {
   "cell_type": "code",
   "execution_count": 18,
   "metadata": {},
   "outputs": [],
   "source": [
    "# safe_train_withextra(weekyDataLabel, \"days\", \"SPAD\", RepVGGA1ConfidenceAddoneextrainput, savePath = \"./allModelExtraInput\", extraName = extraName)\n",
    "# safe_train_withextra(weekyDataLabel, \"days\", \"LAI\", RepVGGA1ConfidenceAddoneextrainput, savePath = \"./allModelExtraInput\", extraName = extraName)\n",
    "# safe_train_withextra(weekyDataLabel, \"SPAD\", \"LAI\", RepVGGA1ConfidenceAddoneextrainput, savePath = \"./allModelExtraInput\", extraName = extraName)\n",
    "# safe_train_withextra(weekyDataLabel, \"SPAD\", \"Height\", RepVGGA1ConfidenceAddoneextrainput, savePath = \"./allModelExtraInput\", extraName = extraName)\n",
    "# safe_train_withextra(weekyDataLabel, \"days\", \"totEarNum\", RepVGGA1ConfidenceAddoneextrainput, savePath = \"./allModelExtraInput\", extraName = extraName)\n",
    "# safe_train_withextra(weekyDataLabel, \"days\", \"totalSeedNum\", RepVGGA1ConfidenceAddoneextrainput, savePath = \"./allModelExtraInput\", extraName = extraName)\n",
    "# safe_train_withextra(weekyDataLabel, \"totEarNum\", \"totEarWeight\", RepVGGA1ConfidenceAddoneextrainput, savePath = \"./allModelExtraInput\", extraName = extraName)\n",
    "# safe_train_withextra(weekyDataLabel, \"totEarWeight\", \"totEarNum\", RepVGGA1ConfidenceAddoneextrainput, savePath = \"./allModelExtraInput\", extraName = extraName)\n",
    "# safe_train_withextra(weekyDataLabel, \"totalSeedNum\", \"totalSeedWeightBeforeDry\", RepVGGA1ConfidenceAddoneextrainput, savePath = \"./allModelExtraInput\", extraName = extraName)\n",
    "# safe_train_withextra(weekyDataLabel, \"totalSeedNum\", \"totalSeedWeightAfterDry\", RepVGGA1ConfidenceAddoneextrainput, savePath = \"./allModelExtraInput\", extraName = extraName)"
   ]
  },
  {
   "cell_type": "code",
   "execution_count": 19,
   "metadata": {},
   "outputs": [],
   "source": [
    "# safe_train_withextra(weekyDataLabel, [\"days\", \"SPAD\"], \"LAI\", RepVGGA1ConfidenceAdd2Inputs, savePath = \"./allModelExtraInput\", extraName = extraName)\n",
    "# safe_train_withextra(weekyDataLabel, [\"days\", \"LAI\"], \"SPAD\", RepVGGA1ConfidenceAdd2Inputs, savePath = \"./allModelExtraInput\", extraName = extraName)\n",
    "# safe_train_withextra(weekyDataLabel, [\"SPAD\", \"LAI\"], \"Height\", RepVGGA1ConfidenceAdd2Inputs, savePath = \"./allModelExtraInput\", extraName = extraName)\n",
    "# safe_train_withextra(weekyDataLabel, [\"days\", \"SPAD\"], \"Height\", RepVGGA1ConfidenceAdd2Inputs, savePath = \"./allModelExtraInput\", extraName = extraName)"
   ]
  },
  {
   "cell_type": "markdown",
   "metadata": {},
   "source": [
    "ConvNeXtV2"
   ]
  },
  {
   "cell_type": "code",
   "execution_count": 20,
   "metadata": {},
   "outputs": [],
   "source": [
    "# safe_train_noextra(weekyDataLabel, weekyData[0], ConvNeXtTinyWheatModelWithConfidence, savePath = \"./allModel\", extraName = extraName)\n",
    "# safe_train_noextra(weekyDataLabel, weekyData[1], ConvNeXtTinyWheatModelWithConfidence, savePath = \"./allModel\", extraName = extraName)\n",
    "# safe_train_noextra(weekyDataLabel, weekyData[2], ConvNeXtTinyWheatModelWithConfidence, savePath = \"./allModel\", extraName = extraName)\n",
    "# safe_train_noextra(weekyDataLabel, weekyData[3], ConvNeXtTinyWheatModelWithConfidence, savePath = \"./allModel\", extraName = extraName)\n",
    "# safe_train_noextra(weekyDataLabel, weekyData[4], ConvNeXtTinyWheatModelWithConfidence, savePath = \"./allModel\", extraName = extraName)\n",
    "# safe_train_noextra(resultDataLabel, resultData[0], ConvNeXtTinyWheatModelWithConfidence, savePath = \"./allModel\", extraName = extraName)\n",
    "# safe_train_noextra(resultDataLabel, resultData[1], ConvNeXtTinyWheatModelWithConfidence, savePath = \"./allModel\", extraName = extraName)\n",
    "# safe_train_noextra(resultDataLabel, resultData[2], ConvNeXtTinyWheatModelWithConfidence, savePath = \"./allModel\", extraName = extraName)\n",
    "# safe_train_noextra(resultDataLabel, resultData[3], ConvNeXtTinyWheatModelWithConfidence, savePath = \"./allModel\", extraName = extraName)\n",
    "# safe_train_noextra(resultDataLabel, resultData[4], ConvNeXtTinyWheatModelWithConfidence, savePath = \"./allModel\", extraName = extraName)\n",
    "# safe_train_noextra(resultDataLabel, resultData[5], ConvNeXtTinyWheatModelWithConfidence, savePath = \"./allModel\", extraName = extraName)\n",
    "# safe_train_noextra(resultDataLabel, resultData[6], ConvNeXtTinyWheatModelWithConfidence, savePath = \"./allModel\", extraName = extraName)\n",
    "# safe_train_noextra(resultDataLabel, resultData[7], ConvNeXtTinyWheatModelWithConfidence, savePath = \"./allModel\", extraName = extraName)\n",
    "# safe_train_noextra(dateDataLabelAll, \"days\", ConvNeXtTinyWheatModelWithConfidence, savePath = \"./allModel\", extraName = \"noERR\")\n",
    "# safe_train_noextra(dateDataLabelFrom3, \"days\", ConvNeXtTinyWheatModelWithConfidence, savePath = \"./allModel\", extraName = \"from3\")\n",
    "# safe_train_noextra(dateDataLabelFrom4, \"days\", ConvNeXtTinyWheatModelWithConfidence, savePath = \"./allModel\", extraName = \"from4\")"
   ]
  },
  {
   "cell_type": "code",
   "execution_count": 21,
   "metadata": {},
   "outputs": [],
   "source": [
    "# safe_train_withextra(weekyDataLabel, \"days\", \"SPAD\", ConvNeXtTinyConfidenceAddoneextrainput, savePath = \"./allModelExtraInput\", extraName = extraName)\n",
    "# safe_train_withextra(weekyDataLabel, \"days\", \"LAI\", ConvNeXtTinyConfidenceAddoneextrainput, savePath = \"./allModelExtraInput\", extraName = extraName)\n",
    "# safe_train_withextra(weekyDataLabel, \"SPAD\", \"LAI\", ConvNeXtTinyConfidenceAddoneextrainput, savePath = \"./allModelExtraInput\", extraName = extraName)\n",
    "# safe_train_withextra(weekyDataLabel, \"SPAD\", \"Height\", ConvNeXtTinyConfidenceAddoneextrainput, savePath = \"./allModelExtraInput\", extraName = extraName)\n",
    "# safe_train_withextra(weekyDataLabel, \"days\", \"totEarNum\", ConvNeXtTinyConfidenceAddoneextrainput, savePath = \"./allModelExtraInput\", extraName = extraName)\n",
    "# safe_train_withextra(weekyDataLabel, \"days\", \"totalSeedNum\", ConvNeXtTinyConfidenceAddoneextrainput, savePath = \"./allModelExtraInput\", extraName = extraName)\n",
    "# safe_train_withextra(weekyDataLabel, \"totEarNum\", \"totEarWeight\", ConvNeXtTinyConfidenceAddoneextrainput, savePath = \"./allModelExtraInput\", extraName = extraName)\n",
    "# safe_train_withextra(weekyDataLabel, \"totEarWeight\", \"totEarNum\", ConvNeXtTinyConfidenceAddoneextrainput, savePath = \"./allModelExtraInput\", extraName = extraName)\n",
    "# safe_train_withextra(weekyDataLabel, \"totalSeedNum\", \"totalSeedWeightBeforeDry\", ConvNeXtTinyConfidenceAddoneextrainput, savePath = \"./allModelExtraInput\", extraName = extraName)\n",
    "# safe_train_withextra(weekyDataLabel, \"totalSeedNum\", \"totalSeedWeightAfterDry\", ConvNeXtTinyConfidenceAddoneextrainput, savePath = \"./allModelExtraInput\", extraName = extraName)"
   ]
  },
  {
   "cell_type": "code",
   "execution_count": 22,
   "metadata": {},
   "outputs": [],
   "source": [
    "# safe_train_withextra(weekyDataLabel, [\"days\", \"SPAD\"], \"LAI\", ConvNeXtTinyConfidenceAddtwoextrainput, savePath = \"./allModelExtraInput\", extraName = extraName)\n",
    "# safe_train_withextra(weekyDataLabel, [\"days\", \"LAI\"], \"SPAD\", ConvNeXtTinyConfidenceAddtwoextrainput, savePath = \"./allModelExtraInput\", extraName = extraName)\n",
    "# safe_train_withextra(weekyDataLabel, [\"SPAD\", \"LAI\"], \"Height\", ConvNeXtTinyConfidenceAddtwoextrainput, savePath = \"./allModelExtraInput\", extraName = extraName)\n",
    "# safe_train_withextra(weekyDataLabel, [\"days\", \"SPAD\"], \"Height\", ConvNeXtTinyConfidenceAddtwoextrainput, savePath = \"./allModelExtraInput\", extraName = extraName)"
   ]
  },
  {
   "cell_type": "markdown",
   "metadata": {},
   "source": [
    "MobileOne"
   ]
  },
  {
   "cell_type": "code",
   "execution_count": 23,
   "metadata": {},
   "outputs": [
    {
     "name": "stdout",
     "output_type": "stream",
     "text": [
      "Height_MobileOneConfidence_raw1\n",
      "Save model to:  ./allModel/Height_MobileOneConfidence_raw1\n",
      "Using device: cuda\n",
      "✅ Safe Split → Train: 21420, Val: 2680, Test: 134\n",
      "Train Batches: 1339, Validation Batches: 168, Test Batches: 9\n"
     ]
    },
    {
     "name": "stderr",
     "output_type": "stream",
     "text": [
      "Epoch 1/40: 100%|██████████| 1339/1339 [02:30<00:00,  8.92it/s]\n"
     ]
    },
    {
     "name": "stdout",
     "output_type": "stream",
     "text": [
      "Epoch 1 | Train Loss: 4.2648 | Val Loss: 2.7823\n",
      "✅ Best model updated and saved at Epoch 1\n"
     ]
    },
    {
     "name": "stderr",
     "output_type": "stream",
     "text": [
      "Epoch 2/40: 100%|██████████| 1339/1339 [02:28<00:00,  9.00it/s]\n"
     ]
    },
    {
     "name": "stdout",
     "output_type": "stream",
     "text": [
      "Epoch 2 | Train Loss: 3.2360 | Val Loss: 2.5079\n",
      "✅ Best model updated and saved at Epoch 2\n"
     ]
    },
    {
     "name": "stderr",
     "output_type": "stream",
     "text": [
      "Epoch 3/40: 100%|██████████| 1339/1339 [02:28<00:00,  9.00it/s]\n"
     ]
    },
    {
     "name": "stdout",
     "output_type": "stream",
     "text": [
      "Epoch 3 | Train Loss: 3.0824 | Val Loss: 2.4927\n",
      "✅ Best model updated and saved at Epoch 3\n"
     ]
    },
    {
     "name": "stderr",
     "output_type": "stream",
     "text": [
      "Epoch 4/40: 100%|██████████| 1339/1339 [02:28<00:00,  9.02it/s]\n"
     ]
    },
    {
     "name": "stdout",
     "output_type": "stream",
     "text": [
      "Epoch 4 | Train Loss: 2.9914 | Val Loss: 2.6059\n",
      "⚠️ No improvement for 0 epoch(s)\n"
     ]
    },
    {
     "name": "stderr",
     "output_type": "stream",
     "text": [
      "Epoch 5/40: 100%|██████████| 1339/1339 [02:28<00:00,  9.03it/s]\n"
     ]
    },
    {
     "name": "stdout",
     "output_type": "stream",
     "text": [
      "Epoch 5 | Train Loss: 2.9353 | Val Loss: 2.6237\n",
      "⚠️ No improvement for 0 epoch(s)\n"
     ]
    },
    {
     "name": "stderr",
     "output_type": "stream",
     "text": [
      "Epoch 6/40: 100%|██████████| 1339/1339 [02:29<00:00,  8.97it/s]\n"
     ]
    },
    {
     "name": "stdout",
     "output_type": "stream",
     "text": [
      "Epoch 6 | Train Loss: 2.8959 | Val Loss: 2.4668\n",
      "✅ Best model updated and saved at Epoch 6\n"
     ]
    },
    {
     "name": "stderr",
     "output_type": "stream",
     "text": [
      "Epoch 7/40: 100%|██████████| 1339/1339 [02:29<00:00,  8.97it/s]\n"
     ]
    },
    {
     "name": "stdout",
     "output_type": "stream",
     "text": [
      "Epoch 7 | Train Loss: 2.8488 | Val Loss: 2.4651\n",
      "✅ Best model updated and saved at Epoch 7\n"
     ]
    },
    {
     "name": "stderr",
     "output_type": "stream",
     "text": [
      "Epoch 8/40: 100%|██████████| 1339/1339 [02:29<00:00,  8.97it/s]\n"
     ]
    },
    {
     "name": "stdout",
     "output_type": "stream",
     "text": [
      "Epoch 8 | Train Loss: 2.8357 | Val Loss: 2.5096\n",
      "⚠️ No improvement for 0 epoch(s)\n"
     ]
    },
    {
     "name": "stderr",
     "output_type": "stream",
     "text": [
      "Epoch 9/40: 100%|██████████| 1339/1339 [02:28<00:00,  8.99it/s]\n"
     ]
    },
    {
     "name": "stdout",
     "output_type": "stream",
     "text": [
      "Epoch 9 | Train Loss: 2.8068 | Val Loss: 2.4247\n",
      "✅ Best model updated and saved at Epoch 9\n"
     ]
    },
    {
     "name": "stderr",
     "output_type": "stream",
     "text": [
      "Epoch 10/40: 100%|██████████| 1339/1339 [02:29<00:00,  8.97it/s]\n"
     ]
    },
    {
     "name": "stdout",
     "output_type": "stream",
     "text": [
      "Epoch 10 | Train Loss: 2.7980 | Val Loss: 2.4177\n",
      "✅ Best model updated and saved at Epoch 10\n"
     ]
    },
    {
     "name": "stderr",
     "output_type": "stream",
     "text": [
      "Epoch 11/40: 100%|██████████| 1339/1339 [02:28<00:00,  8.99it/s]\n"
     ]
    },
    {
     "name": "stdout",
     "output_type": "stream",
     "text": [
      "Epoch 11 | Train Loss: 2.7836 | Val Loss: 2.4099\n",
      "✅ Best model updated and saved at Epoch 11\n"
     ]
    },
    {
     "name": "stderr",
     "output_type": "stream",
     "text": [
      "Epoch 12/40: 100%|██████████| 1339/1339 [02:29<00:00,  8.96it/s]\n"
     ]
    },
    {
     "name": "stdout",
     "output_type": "stream",
     "text": [
      "Epoch 12 | Train Loss: 2.7757 | Val Loss: 2.4219\n",
      "⚠️ No improvement for 1 epoch(s)\n"
     ]
    },
    {
     "name": "stderr",
     "output_type": "stream",
     "text": [
      "Epoch 13/40: 100%|██████████| 1339/1339 [02:28<00:00,  9.03it/s]\n"
     ]
    },
    {
     "name": "stdout",
     "output_type": "stream",
     "text": [
      "Epoch 13 | Train Loss: 2.7520 | Val Loss: 2.5548\n",
      "⚠️ No improvement for 2 epoch(s)\n"
     ]
    },
    {
     "name": "stderr",
     "output_type": "stream",
     "text": [
      "Epoch 14/40: 100%|██████████| 1339/1339 [02:28<00:00,  9.01it/s]\n"
     ]
    },
    {
     "name": "stdout",
     "output_type": "stream",
     "text": [
      "Epoch 14 | Train Loss: 2.7470 | Val Loss: 2.4038\n",
      "✅ Best model updated and saved at Epoch 14\n"
     ]
    },
    {
     "name": "stderr",
     "output_type": "stream",
     "text": [
      "Epoch 15/40: 100%|██████████| 1339/1339 [02:28<00:00,  9.01it/s]\n"
     ]
    },
    {
     "name": "stdout",
     "output_type": "stream",
     "text": [
      "Epoch 15 | Train Loss: 2.7272 | Val Loss: 2.3890\n",
      "✅ Best model updated and saved at Epoch 15\n"
     ]
    },
    {
     "name": "stderr",
     "output_type": "stream",
     "text": [
      "Epoch 16/40: 100%|██████████| 1339/1339 [02:28<00:00,  9.03it/s]\n"
     ]
    },
    {
     "name": "stdout",
     "output_type": "stream",
     "text": [
      "Epoch 16 | Train Loss: 2.7244 | Val Loss: 2.4264\n",
      "⚠️ No improvement for 1 epoch(s)\n"
     ]
    },
    {
     "name": "stderr",
     "output_type": "stream",
     "text": [
      "Epoch 17/40: 100%|██████████| 1339/1339 [02:28<00:00,  9.02it/s]\n"
     ]
    },
    {
     "name": "stdout",
     "output_type": "stream",
     "text": [
      "Epoch 17 | Train Loss: 2.7221 | Val Loss: 2.4511\n",
      "⚠️ No improvement for 2 epoch(s)\n"
     ]
    },
    {
     "name": "stderr",
     "output_type": "stream",
     "text": [
      "Epoch 18/40: 100%|██████████| 1339/1339 [02:28<00:00,  9.01it/s]\n"
     ]
    },
    {
     "name": "stdout",
     "output_type": "stream",
     "text": [
      "Epoch 18 | Train Loss: 2.7159 | Val Loss: 2.3795\n",
      "✅ Best model updated and saved at Epoch 18\n"
     ]
    },
    {
     "name": "stderr",
     "output_type": "stream",
     "text": [
      "Epoch 19/40: 100%|██████████| 1339/1339 [02:28<00:00,  9.02it/s]\n"
     ]
    },
    {
     "name": "stdout",
     "output_type": "stream",
     "text": [
      "Epoch 19 | Train Loss: 2.7016 | Val Loss: 2.3904\n",
      "⚠️ No improvement for 1 epoch(s)\n"
     ]
    },
    {
     "name": "stderr",
     "output_type": "stream",
     "text": [
      "Epoch 20/40: 100%|██████████| 1339/1339 [02:28<00:00,  9.00it/s]\n"
     ]
    },
    {
     "name": "stdout",
     "output_type": "stream",
     "text": [
      "Epoch 20 | Train Loss: 2.6960 | Val Loss: 2.4260\n",
      "⚠️ No improvement for 2 epoch(s)\n"
     ]
    },
    {
     "name": "stderr",
     "output_type": "stream",
     "text": [
      "Epoch 21/40: 100%|██████████| 1339/1339 [02:28<00:00,  9.02it/s]\n"
     ]
    },
    {
     "name": "stdout",
     "output_type": "stream",
     "text": [
      "Epoch 21 | Train Loss: 2.6923 | Val Loss: 2.4208\n",
      "⚠️ No improvement for 3 epoch(s)\n"
     ]
    },
    {
     "name": "stderr",
     "output_type": "stream",
     "text": [
      "Epoch 22/40: 100%|██████████| 1339/1339 [02:28<00:00,  9.03it/s]\n"
     ]
    },
    {
     "name": "stdout",
     "output_type": "stream",
     "text": [
      "Epoch 22 | Train Loss: 2.6627 | Val Loss: 2.3684\n",
      "✅ Best model updated and saved at Epoch 22\n"
     ]
    },
    {
     "name": "stderr",
     "output_type": "stream",
     "text": [
      "Epoch 23/40: 100%|██████████| 1339/1339 [02:28<00:00,  9.01it/s]\n"
     ]
    },
    {
     "name": "stdout",
     "output_type": "stream",
     "text": [
      "Epoch 23 | Train Loss: 2.6484 | Val Loss: 2.4083\n",
      "⚠️ No improvement for 1 epoch(s)\n"
     ]
    },
    {
     "name": "stderr",
     "output_type": "stream",
     "text": [
      "Epoch 24/40: 100%|██████████| 1339/1339 [02:28<00:00,  9.02it/s]\n"
     ]
    },
    {
     "name": "stdout",
     "output_type": "stream",
     "text": [
      "Epoch 24 | Train Loss: 2.6422 | Val Loss: 2.3895\n",
      "⚠️ No improvement for 2 epoch(s)\n"
     ]
    },
    {
     "name": "stderr",
     "output_type": "stream",
     "text": [
      "Epoch 25/40: 100%|██████████| 1339/1339 [02:28<00:00,  9.02it/s]\n"
     ]
    },
    {
     "name": "stdout",
     "output_type": "stream",
     "text": [
      "Epoch 25 | Train Loss: 2.6427 | Val Loss: 2.3733\n",
      "⚠️ No improvement for 3 epoch(s)\n"
     ]
    },
    {
     "name": "stderr",
     "output_type": "stream",
     "text": [
      "Epoch 26/40: 100%|██████████| 1339/1339 [02:28<00:00,  9.03it/s]\n"
     ]
    },
    {
     "name": "stdout",
     "output_type": "stream",
     "text": [
      "Epoch 26 | Train Loss: 2.6235 | Val Loss: 2.3288\n",
      "✅ Best model updated and saved at Epoch 26\n"
     ]
    },
    {
     "name": "stderr",
     "output_type": "stream",
     "text": [
      "Epoch 27/40: 100%|██████████| 1339/1339 [02:28<00:00,  9.02it/s]\n"
     ]
    },
    {
     "name": "stdout",
     "output_type": "stream",
     "text": [
      "Epoch 27 | Train Loss: 2.6231 | Val Loss: 2.3201\n",
      "✅ Best model updated and saved at Epoch 27\n"
     ]
    },
    {
     "name": "stderr",
     "output_type": "stream",
     "text": [
      "Epoch 28/40: 100%|██████████| 1339/1339 [02:28<00:00,  9.03it/s]\n"
     ]
    },
    {
     "name": "stdout",
     "output_type": "stream",
     "text": [
      "Epoch 28 | Train Loss: 2.6151 | Val Loss: 2.3273\n",
      "⚠️ No improvement for 1 epoch(s)\n"
     ]
    },
    {
     "name": "stderr",
     "output_type": "stream",
     "text": [
      "Epoch 29/40: 100%|██████████| 1339/1339 [02:28<00:00,  9.02it/s]\n"
     ]
    },
    {
     "name": "stdout",
     "output_type": "stream",
     "text": [
      "Epoch 29 | Train Loss: 2.6163 | Val Loss: 2.3625\n",
      "⚠️ No improvement for 2 epoch(s)\n"
     ]
    },
    {
     "name": "stderr",
     "output_type": "stream",
     "text": [
      "Epoch 30/40: 100%|██████████| 1339/1339 [02:29<00:00,  8.95it/s]\n"
     ]
    },
    {
     "name": "stdout",
     "output_type": "stream",
     "text": [
      "Epoch 30 | Train Loss: 2.6154 | Val Loss: 2.3323\n",
      "⚠️ No improvement for 3 epoch(s)\n"
     ]
    },
    {
     "name": "stderr",
     "output_type": "stream",
     "text": [
      "Epoch 31/40: 100%|██████████| 1339/1339 [02:29<00:00,  8.96it/s]\n"
     ]
    },
    {
     "name": "stdout",
     "output_type": "stream",
     "text": [
      "Epoch 31 | Train Loss: 2.6054 | Val Loss: 2.3253\n",
      "⚠️ No improvement for 4 epoch(s)\n"
     ]
    },
    {
     "name": "stderr",
     "output_type": "stream",
     "text": [
      "Epoch 32/40: 100%|██████████| 1339/1339 [02:29<00:00,  8.95it/s]\n"
     ]
    },
    {
     "name": "stdout",
     "output_type": "stream",
     "text": [
      "Epoch 32 | Train Loss: 2.5946 | Val Loss: 2.2941\n",
      "✅ Best model updated and saved at Epoch 32\n"
     ]
    },
    {
     "name": "stderr",
     "output_type": "stream",
     "text": [
      "Epoch 33/40: 100%|██████████| 1339/1339 [02:29<00:00,  8.96it/s]\n"
     ]
    },
    {
     "name": "stdout",
     "output_type": "stream",
     "text": [
      "Epoch 33 | Train Loss: 2.6002 | Val Loss: 2.3070\n",
      "⚠️ No improvement for 1 epoch(s)\n"
     ]
    },
    {
     "name": "stderr",
     "output_type": "stream",
     "text": [
      "Epoch 34/40: 100%|██████████| 1339/1339 [02:29<00:00,  8.95it/s]\n"
     ]
    },
    {
     "name": "stdout",
     "output_type": "stream",
     "text": [
      "Epoch 34 | Train Loss: 2.5947 | Val Loss: 2.3100\n",
      "⚠️ No improvement for 2 epoch(s)\n"
     ]
    },
    {
     "name": "stderr",
     "output_type": "stream",
     "text": [
      "Epoch 35/40: 100%|██████████| 1339/1339 [02:29<00:00,  8.97it/s]\n"
     ]
    },
    {
     "name": "stdout",
     "output_type": "stream",
     "text": [
      "Epoch 35 | Train Loss: 2.6094 | Val Loss: 2.3252\n",
      "⚠️ No improvement for 3 epoch(s)\n"
     ]
    },
    {
     "name": "stderr",
     "output_type": "stream",
     "text": [
      "Epoch 36/40: 100%|██████████| 1339/1339 [02:29<00:00,  8.95it/s]\n"
     ]
    },
    {
     "name": "stdout",
     "output_type": "stream",
     "text": [
      "Epoch 36 | Train Loss: 2.5972 | Val Loss: 2.3100\n",
      "⚠️ No improvement for 4 epoch(s)\n"
     ]
    },
    {
     "name": "stderr",
     "output_type": "stream",
     "text": [
      "Epoch 37/40: 100%|██████████| 1339/1339 [02:29<00:00,  8.96it/s]\n"
     ]
    },
    {
     "name": "stdout",
     "output_type": "stream",
     "text": [
      "Epoch 37 | Train Loss: 2.5974 | Val Loss: 2.2978\n",
      "⚠️ No improvement for 5 epoch(s)\n",
      "⏹️ Early stopping triggered after 37 epochs.\n",
      "LAI_MobileOneConfidence_raw1\n",
      "Save model to:  ./allModel/LAI_MobileOneConfidence_raw1\n",
      "Using device: cuda\n",
      "✅ Safe Split → Train: 21420, Val: 2680, Test: 134\n",
      "Train Batches: 1339, Validation Batches: 168, Test Batches: 9\n"
     ]
    },
    {
     "name": "stderr",
     "output_type": "stream",
     "text": [
      "Epoch 1/40: 100%|██████████| 1339/1339 [02:29<00:00,  8.94it/s]\n"
     ]
    },
    {
     "name": "stdout",
     "output_type": "stream",
     "text": [
      "Epoch 1 | Train Loss: 0.5155 | Val Loss: 0.5421\n",
      "✅ Best model updated and saved at Epoch 1\n"
     ]
    },
    {
     "name": "stderr",
     "output_type": "stream",
     "text": [
      "Epoch 2/40: 100%|██████████| 1339/1339 [02:28<00:00,  9.01it/s]\n"
     ]
    },
    {
     "name": "stdout",
     "output_type": "stream",
     "text": [
      "Epoch 2 | Train Loss: 0.1902 | Val Loss: 0.4342\n",
      "✅ Best model updated and saved at Epoch 2\n"
     ]
    },
    {
     "name": "stderr",
     "output_type": "stream",
     "text": [
      "Epoch 3/40: 100%|██████████| 1339/1339 [02:28<00:00,  9.02it/s]\n"
     ]
    },
    {
     "name": "stdout",
     "output_type": "stream",
     "text": [
      "Epoch 3 | Train Loss: 0.0378 | Val Loss: 0.6282\n",
      "⚠️ No improvement for 0 epoch(s)\n"
     ]
    },
    {
     "name": "stderr",
     "output_type": "stream",
     "text": [
      "Epoch 4/40: 100%|██████████| 1339/1339 [02:28<00:00,  9.01it/s]\n"
     ]
    },
    {
     "name": "stdout",
     "output_type": "stream",
     "text": [
      "Epoch 4 | Train Loss: -0.0453 | Val Loss: 0.3361\n",
      "✅ Best model updated and saved at Epoch 4\n"
     ]
    },
    {
     "name": "stderr",
     "output_type": "stream",
     "text": [
      "Epoch 5/40: 100%|██████████| 1339/1339 [02:28<00:00,  9.01it/s]\n"
     ]
    },
    {
     "name": "stdout",
     "output_type": "stream",
     "text": [
      "Epoch 5 | Train Loss: -0.1322 | Val Loss: 0.7975\n",
      "⚠️ No improvement for 0 epoch(s)\n"
     ]
    },
    {
     "name": "stderr",
     "output_type": "stream",
     "text": [
      "Epoch 6/40: 100%|██████████| 1339/1339 [02:28<00:00,  9.02it/s]\n"
     ]
    },
    {
     "name": "stdout",
     "output_type": "stream",
     "text": [
      "Epoch 6 | Train Loss: -0.2021 | Val Loss: 0.9106\n",
      "⚠️ No improvement for 0 epoch(s)\n"
     ]
    },
    {
     "name": "stderr",
     "output_type": "stream",
     "text": [
      "Epoch 7/40: 100%|██████████| 1339/1339 [02:28<00:00,  9.03it/s]\n"
     ]
    },
    {
     "name": "stdout",
     "output_type": "stream",
     "text": [
      "Epoch 7 | Train Loss: -0.2487 | Val Loss: 0.7627\n",
      "⚠️ No improvement for 0 epoch(s)\n"
     ]
    },
    {
     "name": "stderr",
     "output_type": "stream",
     "text": [
      "Epoch 8/40: 100%|██████████| 1339/1339 [02:28<00:00,  9.03it/s]\n"
     ]
    },
    {
     "name": "stdout",
     "output_type": "stream",
     "text": [
      "Epoch 8 | Train Loss: -0.3647 | Val Loss: 1.0558\n",
      "⚠️ No improvement for 0 epoch(s)\n"
     ]
    },
    {
     "name": "stderr",
     "output_type": "stream",
     "text": [
      "Epoch 9/40: 100%|██████████| 1339/1339 [02:28<00:00,  9.02it/s]\n"
     ]
    },
    {
     "name": "stdout",
     "output_type": "stream",
     "text": [
      "Epoch 9 | Train Loss: -0.4467 | Val Loss: 0.8321\n",
      "⚠️ No improvement for 0 epoch(s)\n"
     ]
    },
    {
     "name": "stderr",
     "output_type": "stream",
     "text": [
      "Epoch 10/40: 100%|██████████| 1339/1339 [02:28<00:00,  9.00it/s]\n"
     ]
    },
    {
     "name": "stdout",
     "output_type": "stream",
     "text": [
      "Epoch 10 | Train Loss: -0.4780 | Val Loss: 1.1498\n",
      "⚠️ No improvement for 1 epoch(s)\n"
     ]
    },
    {
     "name": "stderr",
     "output_type": "stream",
     "text": [
      "Epoch 11/40: 100%|██████████| 1339/1339 [02:28<00:00,  9.02it/s]\n"
     ]
    },
    {
     "name": "stdout",
     "output_type": "stream",
     "text": [
      "Epoch 11 | Train Loss: -0.5304 | Val Loss: 1.1326\n",
      "⚠️ No improvement for 2 epoch(s)\n"
     ]
    },
    {
     "name": "stderr",
     "output_type": "stream",
     "text": [
      "Epoch 12/40: 100%|██████████| 1339/1339 [02:28<00:00,  8.99it/s]\n"
     ]
    },
    {
     "name": "stdout",
     "output_type": "stream",
     "text": [
      "Epoch 12 | Train Loss: -0.5844 | Val Loss: 1.1421\n",
      "⚠️ No improvement for 3 epoch(s)\n"
     ]
    },
    {
     "name": "stderr",
     "output_type": "stream",
     "text": [
      "Epoch 13/40: 100%|██████████| 1339/1339 [02:28<00:00,  9.03it/s]\n"
     ]
    },
    {
     "name": "stdout",
     "output_type": "stream",
     "text": [
      "Epoch 13 | Train Loss: -0.6073 | Val Loss: 1.2729\n",
      "⚠️ No improvement for 4 epoch(s)\n"
     ]
    },
    {
     "name": "stderr",
     "output_type": "stream",
     "text": [
      "Epoch 14/40: 100%|██████████| 1339/1339 [02:28<00:00,  9.02it/s]\n"
     ]
    },
    {
     "name": "stdout",
     "output_type": "stream",
     "text": [
      "Epoch 14 | Train Loss: -0.6364 | Val Loss: 1.3711\n",
      "⚠️ No improvement for 5 epoch(s)\n",
      "⏹️ Early stopping triggered after 14 epochs.\n",
      "SPAD_MobileOneConfidence_raw1\n",
      "Save model to:  ./allModel/SPAD_MobileOneConfidence_raw1\n",
      "Using device: cuda\n",
      "✅ Safe Split → Train: 21420, Val: 2680, Test: 134\n",
      "Train Batches: 1339, Validation Batches: 168, Test Batches: 9\n"
     ]
    },
    {
     "name": "stderr",
     "output_type": "stream",
     "text": [
      "Epoch 1/40: 100%|██████████| 1339/1339 [02:28<00:00,  9.03it/s]\n"
     ]
    },
    {
     "name": "stdout",
     "output_type": "stream",
     "text": [
      "Epoch 1 | Train Loss: 3.6333 | Val Loss: 2.6224\n",
      "✅ Best model updated and saved at Epoch 1\n"
     ]
    },
    {
     "name": "stderr",
     "output_type": "stream",
     "text": [
      "Epoch 2/40: 100%|██████████| 1339/1339 [02:29<00:00,  8.98it/s]\n"
     ]
    },
    {
     "name": "stdout",
     "output_type": "stream",
     "text": [
      "Epoch 2 | Train Loss: 2.8760 | Val Loss: 2.3594\n",
      "✅ Best model updated and saved at Epoch 2\n"
     ]
    },
    {
     "name": "stderr",
     "output_type": "stream",
     "text": [
      "Epoch 3/40: 100%|██████████| 1339/1339 [02:28<00:00,  9.03it/s]\n"
     ]
    },
    {
     "name": "stdout",
     "output_type": "stream",
     "text": [
      "Epoch 3 | Train Loss: 2.6894 | Val Loss: 2.3076\n",
      "✅ Best model updated and saved at Epoch 3\n"
     ]
    },
    {
     "name": "stderr",
     "output_type": "stream",
     "text": [
      "Epoch 4/40: 100%|██████████| 1339/1339 [02:28<00:00,  9.02it/s]\n"
     ]
    },
    {
     "name": "stdout",
     "output_type": "stream",
     "text": [
      "Epoch 4 | Train Loss: 2.5684 | Val Loss: 2.2825\n",
      "✅ Best model updated and saved at Epoch 4\n"
     ]
    },
    {
     "name": "stderr",
     "output_type": "stream",
     "text": [
      "Epoch 5/40: 100%|██████████| 1339/1339 [02:28<00:00,  9.02it/s]\n"
     ]
    },
    {
     "name": "stdout",
     "output_type": "stream",
     "text": [
      "Epoch 5 | Train Loss: 2.5041 | Val Loss: 2.3533\n",
      "⚠️ No improvement for 0 epoch(s)\n"
     ]
    },
    {
     "name": "stderr",
     "output_type": "stream",
     "text": [
      "Epoch 6/40: 100%|██████████| 1339/1339 [02:28<00:00,  9.03it/s]\n"
     ]
    },
    {
     "name": "stdout",
     "output_type": "stream",
     "text": [
      "Epoch 6 | Train Loss: 2.4177 | Val Loss: 2.3761\n",
      "⚠️ No improvement for 0 epoch(s)\n"
     ]
    },
    {
     "name": "stderr",
     "output_type": "stream",
     "text": [
      "Epoch 7/40: 100%|██████████| 1339/1339 [02:28<00:00,  9.02it/s]\n"
     ]
    },
    {
     "name": "stdout",
     "output_type": "stream",
     "text": [
      "Epoch 7 | Train Loss: 2.3916 | Val Loss: 2.3320\n",
      "⚠️ No improvement for 0 epoch(s)\n"
     ]
    },
    {
     "name": "stderr",
     "output_type": "stream",
     "text": [
      "Epoch 8/40: 100%|██████████| 1339/1339 [02:28<00:00,  9.03it/s]\n"
     ]
    },
    {
     "name": "stdout",
     "output_type": "stream",
     "text": [
      "Epoch 8 | Train Loss: 2.2924 | Val Loss: 2.3083\n",
      "⚠️ No improvement for 0 epoch(s)\n"
     ]
    },
    {
     "name": "stderr",
     "output_type": "stream",
     "text": [
      "Epoch 9/40: 100%|██████████| 1339/1339 [02:28<00:00,  9.01it/s]\n"
     ]
    },
    {
     "name": "stdout",
     "output_type": "stream",
     "text": [
      "Epoch 9 | Train Loss: 2.2698 | Val Loss: 2.3779\n",
      "⚠️ No improvement for 0 epoch(s)\n"
     ]
    },
    {
     "name": "stderr",
     "output_type": "stream",
     "text": [
      "Epoch 10/40: 100%|██████████| 1339/1339 [02:28<00:00,  9.03it/s]\n"
     ]
    },
    {
     "name": "stdout",
     "output_type": "stream",
     "text": [
      "Epoch 10 | Train Loss: 2.2438 | Val Loss: 2.4361\n",
      "⚠️ No improvement for 1 epoch(s)\n"
     ]
    },
    {
     "name": "stderr",
     "output_type": "stream",
     "text": [
      "Epoch 11/40: 100%|██████████| 1339/1339 [02:28<00:00,  9.01it/s]\n"
     ]
    },
    {
     "name": "stdout",
     "output_type": "stream",
     "text": [
      "Epoch 11 | Train Loss: 2.2140 | Val Loss: 2.3982\n",
      "⚠️ No improvement for 2 epoch(s)\n"
     ]
    },
    {
     "name": "stderr",
     "output_type": "stream",
     "text": [
      "Epoch 12/40: 100%|██████████| 1339/1339 [02:28<00:00,  9.04it/s]\n"
     ]
    },
    {
     "name": "stdout",
     "output_type": "stream",
     "text": [
      "Epoch 12 | Train Loss: 2.1980 | Val Loss: 2.4174\n",
      "⚠️ No improvement for 3 epoch(s)\n"
     ]
    },
    {
     "name": "stderr",
     "output_type": "stream",
     "text": [
      "Epoch 13/40: 100%|██████████| 1339/1339 [02:28<00:00,  9.00it/s]\n"
     ]
    },
    {
     "name": "stdout",
     "output_type": "stream",
     "text": [
      "Epoch 13 | Train Loss: 2.1884 | Val Loss: 2.4454\n",
      "⚠️ No improvement for 4 epoch(s)\n"
     ]
    },
    {
     "name": "stderr",
     "output_type": "stream",
     "text": [
      "Epoch 14/40: 100%|██████████| 1339/1339 [02:28<00:00,  9.03it/s]\n"
     ]
    },
    {
     "name": "stdout",
     "output_type": "stream",
     "text": [
      "Epoch 14 | Train Loss: 2.1722 | Val Loss: 2.4260\n",
      "⚠️ No improvement for 5 epoch(s)\n",
      "⏹️ Early stopping triggered after 14 epochs.\n",
      "leafWidth_MobileOneConfidence_raw1\n",
      "Save model to:  ./allModel/leafWidth_MobileOneConfidence_raw1\n",
      "Using device: cuda\n",
      "✅ Safe Split → Train: 21420, Val: 2680, Test: 134\n",
      "Train Batches: 1339, Validation Batches: 168, Test Batches: 9\n"
     ]
    },
    {
     "name": "stderr",
     "output_type": "stream",
     "text": [
      "Epoch 1/40: 100%|██████████| 1339/1339 [02:28<00:00,  9.02it/s]\n"
     ]
    },
    {
     "name": "stdout",
     "output_type": "stream",
     "text": [
      "Epoch 1 | Train Loss: -0.5601 | Val Loss: 0.6505\n",
      "✅ Best model updated and saved at Epoch 1\n"
     ]
    },
    {
     "name": "stderr",
     "output_type": "stream",
     "text": [
      "Epoch 2/40: 100%|██████████| 1339/1339 [02:29<00:00,  8.98it/s]\n"
     ]
    },
    {
     "name": "stdout",
     "output_type": "stream",
     "text": [
      "Epoch 2 | Train Loss: -0.8462 | Val Loss: 0.8653\n",
      "⚠️ No improvement for 0 epoch(s)\n"
     ]
    },
    {
     "name": "stderr",
     "output_type": "stream",
     "text": [
      "Epoch 3/40: 100%|██████████| 1339/1339 [02:28<00:00,  9.03it/s]\n"
     ]
    },
    {
     "name": "stdout",
     "output_type": "stream",
     "text": [
      "Epoch 3 | Train Loss: -0.9364 | Val Loss: 0.7757\n",
      "⚠️ No improvement for 0 epoch(s)\n"
     ]
    },
    {
     "name": "stderr",
     "output_type": "stream",
     "text": [
      "Epoch 4/40: 100%|██████████| 1339/1339 [02:28<00:00,  9.00it/s]\n"
     ]
    },
    {
     "name": "stdout",
     "output_type": "stream",
     "text": [
      "Epoch 4 | Train Loss: -1.0188 | Val Loss: 0.6296\n",
      "✅ Best model updated and saved at Epoch 4\n"
     ]
    },
    {
     "name": "stderr",
     "output_type": "stream",
     "text": [
      "Epoch 5/40: 100%|██████████| 1339/1339 [02:28<00:00,  9.02it/s]\n"
     ]
    },
    {
     "name": "stdout",
     "output_type": "stream",
     "text": [
      "Epoch 5 | Train Loss: -1.0630 | Val Loss: 0.4065\n",
      "✅ Best model updated and saved at Epoch 5\n"
     ]
    },
    {
     "name": "stderr",
     "output_type": "stream",
     "text": [
      "Epoch 6/40: 100%|██████████| 1339/1339 [02:28<00:00,  9.01it/s]\n"
     ]
    },
    {
     "name": "stdout",
     "output_type": "stream",
     "text": [
      "Epoch 6 | Train Loss: -1.1144 | Val Loss: 0.5069\n",
      "⚠️ No improvement for 0 epoch(s)\n"
     ]
    },
    {
     "name": "stderr",
     "output_type": "stream",
     "text": [
      "Epoch 7/40: 100%|██████████| 1339/1339 [02:28<00:00,  9.02it/s]\n"
     ]
    },
    {
     "name": "stdout",
     "output_type": "stream",
     "text": [
      "Epoch 7 | Train Loss: -1.1496 | Val Loss: 0.3355\n",
      "✅ Best model updated and saved at Epoch 7\n"
     ]
    },
    {
     "name": "stderr",
     "output_type": "stream",
     "text": [
      "Epoch 8/40: 100%|██████████| 1339/1339 [02:28<00:00,  9.00it/s]\n"
     ]
    },
    {
     "name": "stdout",
     "output_type": "stream",
     "text": [
      "Epoch 8 | Train Loss: -1.1787 | Val Loss: 0.5593\n",
      "⚠️ No improvement for 0 epoch(s)\n"
     ]
    },
    {
     "name": "stderr",
     "output_type": "stream",
     "text": [
      "Epoch 9/40: 100%|██████████| 1339/1339 [02:28<00:00,  9.02it/s]\n"
     ]
    },
    {
     "name": "stdout",
     "output_type": "stream",
     "text": [
      "Epoch 9 | Train Loss: -1.2217 | Val Loss: 0.3639\n",
      "⚠️ No improvement for 0 epoch(s)\n"
     ]
    },
    {
     "name": "stderr",
     "output_type": "stream",
     "text": [
      "Epoch 10/40: 100%|██████████| 1339/1339 [02:28<00:00,  9.00it/s]\n"
     ]
    },
    {
     "name": "stdout",
     "output_type": "stream",
     "text": [
      "Epoch 10 | Train Loss: -1.2554 | Val Loss: 0.3062\n",
      "✅ Best model updated and saved at Epoch 10\n"
     ]
    },
    {
     "name": "stderr",
     "output_type": "stream",
     "text": [
      "Epoch 11/40: 100%|██████████| 1339/1339 [02:28<00:00,  9.03it/s]\n"
     ]
    },
    {
     "name": "stdout",
     "output_type": "stream",
     "text": [
      "Epoch 11 | Train Loss: -1.2900 | Val Loss: 0.2371\n",
      "✅ Best model updated and saved at Epoch 11\n"
     ]
    },
    {
     "name": "stderr",
     "output_type": "stream",
     "text": [
      "Epoch 12/40: 100%|██████████| 1339/1339 [02:28<00:00,  9.01it/s]\n"
     ]
    },
    {
     "name": "stdout",
     "output_type": "stream",
     "text": [
      "Epoch 12 | Train Loss: -1.3202 | Val Loss: 0.2157\n",
      "✅ Best model updated and saved at Epoch 12\n"
     ]
    },
    {
     "name": "stderr",
     "output_type": "stream",
     "text": [
      "Epoch 13/40: 100%|██████████| 1339/1339 [02:28<00:00,  9.03it/s]\n"
     ]
    },
    {
     "name": "stdout",
     "output_type": "stream",
     "text": [
      "Epoch 13 | Train Loss: -1.3487 | Val Loss: -0.1337\n",
      "✅ Best model updated and saved at Epoch 13\n"
     ]
    },
    {
     "name": "stderr",
     "output_type": "stream",
     "text": [
      "Epoch 14/40: 100%|██████████| 1339/1339 [02:28<00:00,  9.03it/s]\n"
     ]
    },
    {
     "name": "stdout",
     "output_type": "stream",
     "text": [
      "Epoch 14 | Train Loss: -1.3778 | Val Loss: -0.2045\n",
      "✅ Best model updated and saved at Epoch 14\n"
     ]
    },
    {
     "name": "stderr",
     "output_type": "stream",
     "text": [
      "Epoch 15/40: 100%|██████████| 1339/1339 [02:28<00:00,  9.04it/s]\n"
     ]
    },
    {
     "name": "stdout",
     "output_type": "stream",
     "text": [
      "Epoch 15 | Train Loss: -1.4108 | Val Loss: 0.0718\n",
      "⚠️ No improvement for 1 epoch(s)\n"
     ]
    },
    {
     "name": "stderr",
     "output_type": "stream",
     "text": [
      "Epoch 16/40: 100%|██████████| 1339/1339 [02:28<00:00,  9.01it/s]\n"
     ]
    },
    {
     "name": "stdout",
     "output_type": "stream",
     "text": [
      "Epoch 16 | Train Loss: -1.4524 | Val Loss: -0.1795\n",
      "⚠️ No improvement for 2 epoch(s)\n"
     ]
    },
    {
     "name": "stderr",
     "output_type": "stream",
     "text": [
      "Epoch 17/40: 100%|██████████| 1339/1339 [02:28<00:00,  9.02it/s]\n"
     ]
    },
    {
     "name": "stdout",
     "output_type": "stream",
     "text": [
      "Epoch 17 | Train Loss: -1.5026 | Val Loss: -0.7298\n",
      "✅ Best model updated and saved at Epoch 17\n"
     ]
    },
    {
     "name": "stderr",
     "output_type": "stream",
     "text": [
      "Epoch 18/40: 100%|██████████| 1339/1339 [02:28<00:00,  9.00it/s]\n"
     ]
    },
    {
     "name": "stdout",
     "output_type": "stream",
     "text": [
      "Epoch 18 | Train Loss: -1.5431 | Val Loss: -0.6898\n",
      "⚠️ No improvement for 1 epoch(s)\n"
     ]
    },
    {
     "name": "stderr",
     "output_type": "stream",
     "text": [
      "Epoch 19/40: 100%|██████████| 1339/1339 [02:28<00:00,  9.02it/s]\n"
     ]
    },
    {
     "name": "stdout",
     "output_type": "stream",
     "text": [
      "Epoch 19 | Train Loss: -1.5885 | Val Loss: -1.0303\n",
      "✅ Best model updated and saved at Epoch 19\n"
     ]
    },
    {
     "name": "stderr",
     "output_type": "stream",
     "text": [
      "Epoch 20/40: 100%|██████████| 1339/1339 [02:28<00:00,  9.04it/s]\n"
     ]
    },
    {
     "name": "stdout",
     "output_type": "stream",
     "text": [
      "Epoch 20 | Train Loss: -1.6335 | Val Loss: -1.1126\n",
      "✅ Best model updated and saved at Epoch 20\n"
     ]
    },
    {
     "name": "stderr",
     "output_type": "stream",
     "text": [
      "Epoch 21/40: 100%|██████████| 1339/1339 [02:28<00:00,  9.01it/s]\n"
     ]
    },
    {
     "name": "stdout",
     "output_type": "stream",
     "text": [
      "Epoch 21 | Train Loss: -1.6585 | Val Loss: -1.1016\n",
      "⚠️ No improvement for 1 epoch(s)\n"
     ]
    },
    {
     "name": "stderr",
     "output_type": "stream",
     "text": [
      "Epoch 22/40: 100%|██████████| 1339/1339 [02:28<00:00,  9.03it/s]\n"
     ]
    },
    {
     "name": "stdout",
     "output_type": "stream",
     "text": [
      "Epoch 22 | Train Loss: -1.6958 | Val Loss: -1.3505\n",
      "✅ Best model updated and saved at Epoch 22\n"
     ]
    },
    {
     "name": "stderr",
     "output_type": "stream",
     "text": [
      "Epoch 23/40: 100%|██████████| 1339/1339 [02:28<00:00,  9.01it/s]\n"
     ]
    },
    {
     "name": "stdout",
     "output_type": "stream",
     "text": [
      "Epoch 23 | Train Loss: -1.7192 | Val Loss: -1.3674\n",
      "✅ Best model updated and saved at Epoch 23\n"
     ]
    },
    {
     "name": "stderr",
     "output_type": "stream",
     "text": [
      "Epoch 24/40: 100%|██████████| 1339/1339 [02:28<00:00,  9.03it/s]\n"
     ]
    },
    {
     "name": "stdout",
     "output_type": "stream",
     "text": [
      "Epoch 24 | Train Loss: -1.7567 | Val Loss: -1.3792\n",
      "✅ Best model updated and saved at Epoch 24\n"
     ]
    },
    {
     "name": "stderr",
     "output_type": "stream",
     "text": [
      "Epoch 25/40: 100%|██████████| 1339/1339 [02:28<00:00,  9.02it/s]\n"
     ]
    },
    {
     "name": "stdout",
     "output_type": "stream",
     "text": [
      "Epoch 25 | Train Loss: -1.7798 | Val Loss: -1.4250\n",
      "✅ Best model updated and saved at Epoch 25\n"
     ]
    },
    {
     "name": "stderr",
     "output_type": "stream",
     "text": [
      "Epoch 26/40: 100%|██████████| 1339/1339 [02:28<00:00,  9.04it/s]\n"
     ]
    },
    {
     "name": "stdout",
     "output_type": "stream",
     "text": [
      "Epoch 26 | Train Loss: -1.8137 | Val Loss: -1.3936\n",
      "⚠️ No improvement for 1 epoch(s)\n"
     ]
    },
    {
     "name": "stderr",
     "output_type": "stream",
     "text": [
      "Epoch 27/40: 100%|██████████| 1339/1339 [02:28<00:00,  9.03it/s]\n"
     ]
    },
    {
     "name": "stdout",
     "output_type": "stream",
     "text": [
      "Epoch 27 | Train Loss: -1.8420 | Val Loss: -1.3437\n",
      "⚠️ No improvement for 2 epoch(s)\n"
     ]
    },
    {
     "name": "stderr",
     "output_type": "stream",
     "text": [
      "Epoch 28/40: 100%|██████████| 1339/1339 [02:28<00:00,  9.02it/s]\n"
     ]
    },
    {
     "name": "stdout",
     "output_type": "stream",
     "text": [
      "Epoch 28 | Train Loss: -1.8614 | Val Loss: -1.3816\n",
      "⚠️ No improvement for 3 epoch(s)\n"
     ]
    },
    {
     "name": "stderr",
     "output_type": "stream",
     "text": [
      "Epoch 29/40: 100%|██████████| 1339/1339 [02:28<00:00,  9.00it/s]\n"
     ]
    },
    {
     "name": "stdout",
     "output_type": "stream",
     "text": [
      "Epoch 29 | Train Loss: -1.9006 | Val Loss: -1.3751\n",
      "⚠️ No improvement for 4 epoch(s)\n"
     ]
    },
    {
     "name": "stderr",
     "output_type": "stream",
     "text": [
      "Epoch 30/40: 100%|██████████| 1339/1339 [02:28<00:00,  9.02it/s]\n"
     ]
    },
    {
     "name": "stdout",
     "output_type": "stream",
     "text": [
      "Epoch 30 | Train Loss: -1.9235 | Val Loss: -1.3496\n",
      "⚠️ No improvement for 5 epoch(s)\n",
      "⏹️ Early stopping triggered after 30 epochs.\n",
      "leafLength_MobileOneConfidence_raw1\n",
      "Save model to:  ./allModel/leafLength_MobileOneConfidence_raw1\n",
      "Using device: cuda\n",
      "✅ Safe Split → Train: 21420, Val: 2680, Test: 134\n",
      "Train Batches: 1339, Validation Batches: 168, Test Batches: 9\n"
     ]
    },
    {
     "name": "stderr",
     "output_type": "stream",
     "text": [
      "Epoch 1/40: 100%|██████████| 1339/1339 [02:28<00:00,  9.02it/s]\n"
     ]
    },
    {
     "name": "stdout",
     "output_type": "stream",
     "text": [
      "Epoch 1 | Train Loss: 2.3278 | Val Loss: 1.6685\n",
      "✅ Best model updated and saved at Epoch 1\n"
     ]
    },
    {
     "name": "stderr",
     "output_type": "stream",
     "text": [
      "Epoch 2/40: 100%|██████████| 1339/1339 [02:29<00:00,  8.97it/s]\n"
     ]
    },
    {
     "name": "stdout",
     "output_type": "stream",
     "text": [
      "Epoch 2 | Train Loss: 1.8933 | Val Loss: 1.6637\n",
      "✅ Best model updated and saved at Epoch 2\n"
     ]
    },
    {
     "name": "stderr",
     "output_type": "stream",
     "text": [
      "Epoch 3/40: 100%|██████████| 1339/1339 [02:28<00:00,  9.00it/s]\n"
     ]
    },
    {
     "name": "stdout",
     "output_type": "stream",
     "text": [
      "Epoch 3 | Train Loss: 1.7805 | Val Loss: 1.6494\n",
      "✅ Best model updated and saved at Epoch 3\n"
     ]
    },
    {
     "name": "stderr",
     "output_type": "stream",
     "text": [
      "Epoch 4/40: 100%|██████████| 1339/1339 [02:28<00:00,  9.01it/s]\n"
     ]
    },
    {
     "name": "stdout",
     "output_type": "stream",
     "text": [
      "Epoch 4 | Train Loss: 1.7105 | Val Loss: 1.6763\n",
      "⚠️ No improvement for 0 epoch(s)\n"
     ]
    },
    {
     "name": "stderr",
     "output_type": "stream",
     "text": [
      "Epoch 5/40: 100%|██████████| 1339/1339 [02:28<00:00,  9.04it/s]\n"
     ]
    },
    {
     "name": "stdout",
     "output_type": "stream",
     "text": [
      "Epoch 5 | Train Loss: 1.6607 | Val Loss: 1.6517\n",
      "⚠️ No improvement for 0 epoch(s)\n"
     ]
    },
    {
     "name": "stderr",
     "output_type": "stream",
     "text": [
      "Epoch 6/40: 100%|██████████| 1339/1339 [02:29<00:00,  8.97it/s]\n"
     ]
    },
    {
     "name": "stdout",
     "output_type": "stream",
     "text": [
      "Epoch 6 | Train Loss: 1.6008 | Val Loss: 1.7067\n",
      "⚠️ No improvement for 0 epoch(s)\n"
     ]
    },
    {
     "name": "stderr",
     "output_type": "stream",
     "text": [
      "Epoch 7/40: 100%|██████████| 1339/1339 [02:29<00:00,  8.94it/s]\n"
     ]
    },
    {
     "name": "stdout",
     "output_type": "stream",
     "text": [
      "Epoch 7 | Train Loss: 1.5478 | Val Loss: 1.6312\n",
      "✅ Best model updated and saved at Epoch 7\n"
     ]
    },
    {
     "name": "stderr",
     "output_type": "stream",
     "text": [
      "Epoch 8/40: 100%|██████████| 1339/1339 [02:29<00:00,  8.93it/s]\n"
     ]
    },
    {
     "name": "stdout",
     "output_type": "stream",
     "text": [
      "Epoch 8 | Train Loss: 1.5140 | Val Loss: 1.5994\n",
      "✅ Best model updated and saved at Epoch 8\n"
     ]
    },
    {
     "name": "stderr",
     "output_type": "stream",
     "text": [
      "Epoch 9/40: 100%|██████████| 1339/1339 [02:29<00:00,  8.96it/s]\n"
     ]
    },
    {
     "name": "stdout",
     "output_type": "stream",
     "text": [
      "Epoch 9 | Train Loss: 1.4936 | Val Loss: 1.6744\n",
      "⚠️ No improvement for 0 epoch(s)\n"
     ]
    },
    {
     "name": "stderr",
     "output_type": "stream",
     "text": [
      "Epoch 10/40: 100%|██████████| 1339/1339 [02:29<00:00,  8.94it/s]\n"
     ]
    },
    {
     "name": "stdout",
     "output_type": "stream",
     "text": [
      "Epoch 10 | Train Loss: 1.4823 | Val Loss: 1.7174\n",
      "⚠️ No improvement for 1 epoch(s)\n"
     ]
    },
    {
     "name": "stderr",
     "output_type": "stream",
     "text": [
      "Epoch 11/40: 100%|██████████| 1339/1339 [02:29<00:00,  8.95it/s]\n"
     ]
    },
    {
     "name": "stdout",
     "output_type": "stream",
     "text": [
      "Epoch 11 | Train Loss: 1.4671 | Val Loss: 1.6730\n",
      "⚠️ No improvement for 2 epoch(s)\n"
     ]
    },
    {
     "name": "stderr",
     "output_type": "stream",
     "text": [
      "Epoch 12/40: 100%|██████████| 1339/1339 [02:29<00:00,  8.94it/s]\n"
     ]
    },
    {
     "name": "stdout",
     "output_type": "stream",
     "text": [
      "Epoch 12 | Train Loss: 1.4367 | Val Loss: 1.5995\n",
      "⚠️ No improvement for 3 epoch(s)\n"
     ]
    },
    {
     "name": "stderr",
     "output_type": "stream",
     "text": [
      "Epoch 13/40: 100%|██████████| 1339/1339 [02:29<00:00,  8.96it/s]\n"
     ]
    },
    {
     "name": "stdout",
     "output_type": "stream",
     "text": [
      "Epoch 13 | Train Loss: 1.4166 | Val Loss: 1.5825\n",
      "✅ Best model updated and saved at Epoch 13\n"
     ]
    },
    {
     "name": "stderr",
     "output_type": "stream",
     "text": [
      "Epoch 14/40: 100%|██████████| 1339/1339 [02:29<00:00,  8.95it/s]\n"
     ]
    },
    {
     "name": "stdout",
     "output_type": "stream",
     "text": [
      "Epoch 14 | Train Loss: 1.4063 | Val Loss: 1.5875\n",
      "⚠️ No improvement for 1 epoch(s)\n"
     ]
    },
    {
     "name": "stderr",
     "output_type": "stream",
     "text": [
      "Epoch 15/40: 100%|██████████| 1339/1339 [02:29<00:00,  8.94it/s]\n"
     ]
    },
    {
     "name": "stdout",
     "output_type": "stream",
     "text": [
      "Epoch 15 | Train Loss: 1.4013 | Val Loss: 1.7095\n",
      "⚠️ No improvement for 2 epoch(s)\n"
     ]
    },
    {
     "name": "stderr",
     "output_type": "stream",
     "text": [
      "Epoch 16/40: 100%|██████████| 1339/1339 [02:29<00:00,  8.94it/s]\n"
     ]
    },
    {
     "name": "stdout",
     "output_type": "stream",
     "text": [
      "Epoch 16 | Train Loss: 1.3898 | Val Loss: 1.6158\n",
      "⚠️ No improvement for 3 epoch(s)\n"
     ]
    },
    {
     "name": "stderr",
     "output_type": "stream",
     "text": [
      "Epoch 17/40: 100%|██████████| 1339/1339 [02:29<00:00,  8.95it/s]\n"
     ]
    },
    {
     "name": "stdout",
     "output_type": "stream",
     "text": [
      "Epoch 17 | Train Loss: 1.3762 | Val Loss: 1.7465\n",
      "⚠️ No improvement for 4 epoch(s)\n"
     ]
    },
    {
     "name": "stderr",
     "output_type": "stream",
     "text": [
      "Epoch 18/40: 100%|██████████| 1339/1339 [02:29<00:00,  8.95it/s]\n"
     ]
    },
    {
     "name": "stdout",
     "output_type": "stream",
     "text": [
      "Epoch 18 | Train Loss: 1.3712 | Val Loss: 1.7081\n",
      "⚠️ No improvement for 5 epoch(s)\n",
      "⏹️ Early stopping triggered after 18 epochs.\n",
      "totEarWeight_MobileOneConfidence_raw1\n",
      "Save model to:  ./allModel/totEarWeight_MobileOneConfidence_raw1\n",
      "Using device: cuda\n",
      "✅ Safe Split → Train: 23920, Val: 2980, Test: 150\n",
      "Train Batches: 1495, Validation Batches: 187, Test Batches: 10\n"
     ]
    },
    {
     "name": "stderr",
     "output_type": "stream",
     "text": [
      "Epoch 1/40: 100%|██████████| 1495/1495 [02:45<00:00,  9.01it/s]\n"
     ]
    },
    {
     "name": "stdout",
     "output_type": "stream",
     "text": [
      "Epoch 1 | Train Loss: 8.7395 | Val Loss: 7.5320\n",
      "✅ Best model updated and saved at Epoch 1\n"
     ]
    },
    {
     "name": "stderr",
     "output_type": "stream",
     "text": [
      "Epoch 2/40: 100%|██████████| 1495/1495 [02:45<00:00,  9.04it/s]\n"
     ]
    },
    {
     "name": "stdout",
     "output_type": "stream",
     "text": [
      "Epoch 2 | Train Loss: 7.3563 | Val Loss: 7.0563\n",
      "✅ Best model updated and saved at Epoch 2\n"
     ]
    },
    {
     "name": "stderr",
     "output_type": "stream",
     "text": [
      "Epoch 3/40: 100%|██████████| 1495/1495 [02:44<00:00,  9.07it/s]\n"
     ]
    },
    {
     "name": "stdout",
     "output_type": "stream",
     "text": [
      "Epoch 3 | Train Loss: 6.3968 | Val Loss: 5.9401\n",
      "✅ Best model updated and saved at Epoch 3\n"
     ]
    },
    {
     "name": "stderr",
     "output_type": "stream",
     "text": [
      "Epoch 4/40: 100%|██████████| 1495/1495 [02:45<00:00,  9.06it/s]\n"
     ]
    },
    {
     "name": "stdout",
     "output_type": "stream",
     "text": [
      "Epoch 4 | Train Loss: 6.0864 | Val Loss: 5.8408\n",
      "✅ Best model updated and saved at Epoch 4\n"
     ]
    },
    {
     "name": "stderr",
     "output_type": "stream",
     "text": [
      "Epoch 5/40: 100%|██████████| 1495/1495 [02:45<00:00,  9.05it/s]\n"
     ]
    },
    {
     "name": "stdout",
     "output_type": "stream",
     "text": [
      "Epoch 5 | Train Loss: 5.8857 | Val Loss: 5.7916\n",
      "✅ Best model updated and saved at Epoch 5\n"
     ]
    },
    {
     "name": "stderr",
     "output_type": "stream",
     "text": [
      "Epoch 6/40: 100%|██████████| 1495/1495 [02:45<00:00,  9.06it/s]\n"
     ]
    },
    {
     "name": "stdout",
     "output_type": "stream",
     "text": [
      "Epoch 6 | Train Loss: 5.6923 | Val Loss: 5.6380\n",
      "✅ Best model updated and saved at Epoch 6\n"
     ]
    },
    {
     "name": "stderr",
     "output_type": "stream",
     "text": [
      "Epoch 7/40: 100%|██████████| 1495/1495 [02:45<00:00,  9.05it/s]\n"
     ]
    },
    {
     "name": "stdout",
     "output_type": "stream",
     "text": [
      "Epoch 7 | Train Loss: 5.5809 | Val Loss: 5.7670\n",
      "⚠️ No improvement for 0 epoch(s)\n"
     ]
    },
    {
     "name": "stderr",
     "output_type": "stream",
     "text": [
      "Epoch 8/40: 100%|██████████| 1495/1495 [02:45<00:00,  9.03it/s]\n"
     ]
    },
    {
     "name": "stdout",
     "output_type": "stream",
     "text": [
      "Epoch 8 | Train Loss: 5.5267 | Val Loss: 5.7310\n",
      "⚠️ No improvement for 0 epoch(s)\n"
     ]
    },
    {
     "name": "stderr",
     "output_type": "stream",
     "text": [
      "Epoch 9/40: 100%|██████████| 1495/1495 [02:45<00:00,  9.05it/s]\n"
     ]
    },
    {
     "name": "stdout",
     "output_type": "stream",
     "text": [
      "Epoch 9 | Train Loss: 5.4471 | Val Loss: 5.6910\n",
      "⚠️ No improvement for 0 epoch(s)\n"
     ]
    },
    {
     "name": "stderr",
     "output_type": "stream",
     "text": [
      "Epoch 10/40: 100%|██████████| 1495/1495 [02:45<00:00,  9.05it/s]\n"
     ]
    },
    {
     "name": "stdout",
     "output_type": "stream",
     "text": [
      "Epoch 10 | Train Loss: 5.3472 | Val Loss: 5.7167\n",
      "⚠️ No improvement for 1 epoch(s)\n"
     ]
    },
    {
     "name": "stderr",
     "output_type": "stream",
     "text": [
      "Epoch 11/40: 100%|██████████| 1495/1495 [02:45<00:00,  9.04it/s]\n"
     ]
    },
    {
     "name": "stdout",
     "output_type": "stream",
     "text": [
      "Epoch 11 | Train Loss: 5.2806 | Val Loss: 5.7530\n",
      "⚠️ No improvement for 2 epoch(s)\n"
     ]
    },
    {
     "name": "stderr",
     "output_type": "stream",
     "text": [
      "Epoch 12/40: 100%|██████████| 1495/1495 [02:45<00:00,  9.06it/s]\n"
     ]
    },
    {
     "name": "stdout",
     "output_type": "stream",
     "text": [
      "Epoch 12 | Train Loss: 5.2389 | Val Loss: 5.7524\n",
      "⚠️ No improvement for 3 epoch(s)\n"
     ]
    },
    {
     "name": "stderr",
     "output_type": "stream",
     "text": [
      "Epoch 13/40: 100%|██████████| 1495/1495 [02:46<00:00,  9.00it/s]\n"
     ]
    },
    {
     "name": "stdout",
     "output_type": "stream",
     "text": [
      "Epoch 13 | Train Loss: 5.1867 | Val Loss: 6.0698\n",
      "⚠️ No improvement for 4 epoch(s)\n"
     ]
    },
    {
     "name": "stderr",
     "output_type": "stream",
     "text": [
      "Epoch 14/40: 100%|██████████| 1495/1495 [02:45<00:00,  9.01it/s]\n"
     ]
    },
    {
     "name": "stdout",
     "output_type": "stream",
     "text": [
      "Epoch 14 | Train Loss: 5.1496 | Val Loss: 6.2598\n",
      "⚠️ No improvement for 5 epoch(s)\n",
      "⏹️ Early stopping triggered after 14 epochs.\n",
      "totEarNum_MobileOneConfidence_raw1\n",
      "Save model to:  ./allModel/totEarNum_MobileOneConfidence_raw1\n",
      "Using device: cuda\n",
      "✅ Safe Split → Train: 23920, Val: 2980, Test: 150\n",
      "Train Batches: 1495, Validation Batches: 187, Test Batches: 10\n"
     ]
    },
    {
     "name": "stderr",
     "output_type": "stream",
     "text": [
      "Epoch 1/40: 100%|██████████| 1495/1495 [02:45<00:00,  9.02it/s]\n"
     ]
    },
    {
     "name": "stdout",
     "output_type": "stream",
     "text": [
      "Epoch 1 | Train Loss: 7.3562 | Val Loss: 6.3327\n",
      "✅ Best model updated and saved at Epoch 1\n"
     ]
    },
    {
     "name": "stderr",
     "output_type": "stream",
     "text": [
      "Epoch 2/40: 100%|██████████| 1495/1495 [02:45<00:00,  9.03it/s]\n"
     ]
    },
    {
     "name": "stdout",
     "output_type": "stream",
     "text": [
      "Epoch 2 | Train Loss: 5.3279 | Val Loss: 5.1391\n",
      "✅ Best model updated and saved at Epoch 2\n"
     ]
    },
    {
     "name": "stderr",
     "output_type": "stream",
     "text": [
      "Epoch 3/40: 100%|██████████| 1495/1495 [02:44<00:00,  9.08it/s]\n"
     ]
    },
    {
     "name": "stdout",
     "output_type": "stream",
     "text": [
      "Epoch 3 | Train Loss: 5.0340 | Val Loss: 4.8196\n",
      "✅ Best model updated and saved at Epoch 3\n"
     ]
    },
    {
     "name": "stderr",
     "output_type": "stream",
     "text": [
      "Epoch 4/40: 100%|██████████| 1495/1495 [02:45<00:00,  9.05it/s]\n"
     ]
    },
    {
     "name": "stdout",
     "output_type": "stream",
     "text": [
      "Epoch 4 | Train Loss: 4.8852 | Val Loss: 4.9144\n",
      "⚠️ No improvement for 0 epoch(s)\n"
     ]
    },
    {
     "name": "stderr",
     "output_type": "stream",
     "text": [
      "Epoch 5/40: 100%|██████████| 1495/1495 [02:45<00:00,  9.02it/s]\n"
     ]
    },
    {
     "name": "stdout",
     "output_type": "stream",
     "text": [
      "Epoch 5 | Train Loss: 4.7683 | Val Loss: 4.8155\n",
      "✅ Best model updated and saved at Epoch 5\n"
     ]
    },
    {
     "name": "stderr",
     "output_type": "stream",
     "text": [
      "Epoch 6/40: 100%|██████████| 1495/1495 [02:44<00:00,  9.06it/s]\n"
     ]
    },
    {
     "name": "stdout",
     "output_type": "stream",
     "text": [
      "Epoch 6 | Train Loss: 4.6556 | Val Loss: 4.7001\n",
      "✅ Best model updated and saved at Epoch 6\n"
     ]
    },
    {
     "name": "stderr",
     "output_type": "stream",
     "text": [
      "Epoch 7/40: 100%|██████████| 1495/1495 [02:44<00:00,  9.07it/s]\n"
     ]
    },
    {
     "name": "stdout",
     "output_type": "stream",
     "text": [
      "Epoch 7 | Train Loss: 4.6000 | Val Loss: 4.8516\n",
      "⚠️ No improvement for 0 epoch(s)\n"
     ]
    },
    {
     "name": "stderr",
     "output_type": "stream",
     "text": [
      "Epoch 8/40: 100%|██████████| 1495/1495 [02:45<00:00,  9.05it/s]\n"
     ]
    },
    {
     "name": "stdout",
     "output_type": "stream",
     "text": [
      "Epoch 8 | Train Loss: 4.5550 | Val Loss: 4.7326\n",
      "⚠️ No improvement for 0 epoch(s)\n"
     ]
    },
    {
     "name": "stderr",
     "output_type": "stream",
     "text": [
      "Epoch 9/40: 100%|██████████| 1495/1495 [02:45<00:00,  9.06it/s]\n"
     ]
    },
    {
     "name": "stdout",
     "output_type": "stream",
     "text": [
      "Epoch 9 | Train Loss: 4.4974 | Val Loss: 4.9565\n",
      "⚠️ No improvement for 0 epoch(s)\n"
     ]
    },
    {
     "name": "stderr",
     "output_type": "stream",
     "text": [
      "Epoch 10/40: 100%|██████████| 1495/1495 [02:45<00:00,  9.05it/s]\n"
     ]
    },
    {
     "name": "stdout",
     "output_type": "stream",
     "text": [
      "Epoch 10 | Train Loss: 4.3944 | Val Loss: 4.9197\n",
      "⚠️ No improvement for 1 epoch(s)\n"
     ]
    },
    {
     "name": "stderr",
     "output_type": "stream",
     "text": [
      "Epoch 11/40: 100%|██████████| 1495/1495 [02:44<00:00,  9.07it/s]\n"
     ]
    },
    {
     "name": "stdout",
     "output_type": "stream",
     "text": [
      "Epoch 11 | Train Loss: 4.3564 | Val Loss: 4.6677\n",
      "✅ Best model updated and saved at Epoch 11\n"
     ]
    },
    {
     "name": "stderr",
     "output_type": "stream",
     "text": [
      "Epoch 12/40: 100%|██████████| 1495/1495 [02:45<00:00,  9.05it/s]\n"
     ]
    },
    {
     "name": "stdout",
     "output_type": "stream",
     "text": [
      "Epoch 12 | Train Loss: 4.3390 | Val Loss: 4.8985\n",
      "⚠️ No improvement for 1 epoch(s)\n"
     ]
    },
    {
     "name": "stderr",
     "output_type": "stream",
     "text": [
      "Epoch 13/40: 100%|██████████| 1495/1495 [02:45<00:00,  9.03it/s]\n"
     ]
    },
    {
     "name": "stdout",
     "output_type": "stream",
     "text": [
      "Epoch 13 | Train Loss: 4.3335 | Val Loss: 4.8674\n",
      "⚠️ No improvement for 2 epoch(s)\n"
     ]
    },
    {
     "name": "stderr",
     "output_type": "stream",
     "text": [
      "Epoch 14/40: 100%|██████████| 1495/1495 [02:45<00:00,  9.04it/s]\n"
     ]
    },
    {
     "name": "stdout",
     "output_type": "stream",
     "text": [
      "Epoch 14 | Train Loss: 4.3113 | Val Loss: 4.8485\n",
      "⚠️ No improvement for 3 epoch(s)\n"
     ]
    },
    {
     "name": "stderr",
     "output_type": "stream",
     "text": [
      "Epoch 15/40: 100%|██████████| 1495/1495 [02:45<00:00,  9.06it/s]\n"
     ]
    },
    {
     "name": "stdout",
     "output_type": "stream",
     "text": [
      "Epoch 15 | Train Loss: 4.2701 | Val Loss: 4.7917\n",
      "⚠️ No improvement for 4 epoch(s)\n"
     ]
    },
    {
     "name": "stderr",
     "output_type": "stream",
     "text": [
      "Epoch 16/40: 100%|██████████| 1495/1495 [02:45<00:00,  9.04it/s]\n"
     ]
    },
    {
     "name": "stdout",
     "output_type": "stream",
     "text": [
      "Epoch 16 | Train Loss: 4.2448 | Val Loss: 4.8621\n",
      "⚠️ No improvement for 5 epoch(s)\n",
      "⏹️ Early stopping triggered after 16 epochs.\n",
      "avgEarSize_MobileOneConfidence_raw1\n",
      "Save model to:  ./allModel/avgEarSize_MobileOneConfidence_raw1\n",
      "Using device: cuda\n",
      "✅ Safe Split → Train: 23920, Val: 2980, Test: 150\n",
      "Train Batches: 1495, Validation Batches: 187, Test Batches: 10\n"
     ]
    },
    {
     "name": "stderr",
     "output_type": "stream",
     "text": [
      "Epoch 1/40: 100%|██████████| 1495/1495 [02:44<00:00,  9.07it/s]\n"
     ]
    },
    {
     "name": "stdout",
     "output_type": "stream",
     "text": [
      "Epoch 1 | Train Loss: 1.0079 | Val Loss: 0.4493\n",
      "✅ Best model updated and saved at Epoch 1\n"
     ]
    },
    {
     "name": "stderr",
     "output_type": "stream",
     "text": [
      "Epoch 2/40: 100%|██████████| 1495/1495 [02:45<00:00,  9.03it/s]\n"
     ]
    },
    {
     "name": "stdout",
     "output_type": "stream",
     "text": [
      "Epoch 2 | Train Loss: 0.7961 | Val Loss: 0.7565\n",
      "⚠️ No improvement for 0 epoch(s)\n"
     ]
    },
    {
     "name": "stderr",
     "output_type": "stream",
     "text": [
      "Epoch 3/40: 100%|██████████| 1495/1495 [02:45<00:00,  9.05it/s]\n"
     ]
    },
    {
     "name": "stdout",
     "output_type": "stream",
     "text": [
      "Epoch 3 | Train Loss: 0.6762 | Val Loss: 0.8214\n",
      "⚠️ No improvement for 0 epoch(s)\n"
     ]
    },
    {
     "name": "stderr",
     "output_type": "stream",
     "text": [
      "Epoch 4/40: 100%|██████████| 1495/1495 [02:45<00:00,  9.04it/s]\n"
     ]
    },
    {
     "name": "stdout",
     "output_type": "stream",
     "text": [
      "Epoch 4 | Train Loss: 0.6031 | Val Loss: 1.8244\n",
      "⚠️ No improvement for 0 epoch(s)\n"
     ]
    },
    {
     "name": "stderr",
     "output_type": "stream",
     "text": [
      "Epoch 5/40: 100%|██████████| 1495/1495 [02:44<00:00,  9.06it/s]\n"
     ]
    },
    {
     "name": "stdout",
     "output_type": "stream",
     "text": [
      "Epoch 5 | Train Loss: 0.5096 | Val Loss: 1.8743\n",
      "⚠️ No improvement for 0 epoch(s)\n"
     ]
    },
    {
     "name": "stderr",
     "output_type": "stream",
     "text": [
      "Epoch 6/40: 100%|██████████| 1495/1495 [02:45<00:00,  9.05it/s]\n"
     ]
    },
    {
     "name": "stdout",
     "output_type": "stream",
     "text": [
      "Epoch 6 | Train Loss: 0.4657 | Val Loss: 1.2998\n",
      "⚠️ No improvement for 0 epoch(s)\n"
     ]
    },
    {
     "name": "stderr",
     "output_type": "stream",
     "text": [
      "Epoch 7/40: 100%|██████████| 1495/1495 [02:45<00:00,  9.05it/s]\n"
     ]
    },
    {
     "name": "stdout",
     "output_type": "stream",
     "text": [
      "Epoch 7 | Train Loss: 0.4509 | Val Loss: 2.4597\n",
      "⚠️ No improvement for 0 epoch(s)\n"
     ]
    },
    {
     "name": "stderr",
     "output_type": "stream",
     "text": [
      "Epoch 8/40: 100%|██████████| 1495/1495 [02:44<00:00,  9.06it/s]\n"
     ]
    },
    {
     "name": "stdout",
     "output_type": "stream",
     "text": [
      "Epoch 8 | Train Loss: 0.4086 | Val Loss: 2.4021\n",
      "⚠️ No improvement for 0 epoch(s)\n"
     ]
    },
    {
     "name": "stderr",
     "output_type": "stream",
     "text": [
      "Epoch 9/40: 100%|██████████| 1495/1495 [02:45<00:00,  9.05it/s]\n"
     ]
    },
    {
     "name": "stdout",
     "output_type": "stream",
     "text": [
      "Epoch 9 | Train Loss: 0.3889 | Val Loss: 2.2860\n",
      "⚠️ No improvement for 0 epoch(s)\n"
     ]
    },
    {
     "name": "stderr",
     "output_type": "stream",
     "text": [
      "Epoch 10/40: 100%|██████████| 1495/1495 [02:45<00:00,  9.06it/s]\n"
     ]
    },
    {
     "name": "stdout",
     "output_type": "stream",
     "text": [
      "Epoch 10 | Train Loss: 0.3847 | Val Loss: 2.8306\n",
      "⚠️ No improvement for 1 epoch(s)\n"
     ]
    },
    {
     "name": "stderr",
     "output_type": "stream",
     "text": [
      "Epoch 11/40: 100%|██████████| 1495/1495 [02:45<00:00,  9.05it/s]\n"
     ]
    },
    {
     "name": "stdout",
     "output_type": "stream",
     "text": [
      "Epoch 11 | Train Loss: 0.3513 | Val Loss: 2.5904\n",
      "⚠️ No improvement for 2 epoch(s)\n"
     ]
    },
    {
     "name": "stderr",
     "output_type": "stream",
     "text": [
      "Epoch 12/40: 100%|██████████| 1495/1495 [02:45<00:00,  9.04it/s]\n"
     ]
    },
    {
     "name": "stdout",
     "output_type": "stream",
     "text": [
      "Epoch 12 | Train Loss: 0.3496 | Val Loss: 2.5834\n",
      "⚠️ No improvement for 3 epoch(s)\n"
     ]
    },
    {
     "name": "stderr",
     "output_type": "stream",
     "text": [
      "Epoch 13/40: 100%|██████████| 1495/1495 [02:45<00:00,  9.06it/s]\n"
     ]
    },
    {
     "name": "stdout",
     "output_type": "stream",
     "text": [
      "Epoch 13 | Train Loss: 0.3461 | Val Loss: 2.3683\n",
      "⚠️ No improvement for 4 epoch(s)\n"
     ]
    },
    {
     "name": "stderr",
     "output_type": "stream",
     "text": [
      "Epoch 14/40: 100%|██████████| 1495/1495 [02:45<00:00,  9.05it/s]\n"
     ]
    },
    {
     "name": "stdout",
     "output_type": "stream",
     "text": [
      "Epoch 14 | Train Loss: 0.3229 | Val Loss: 2.6755\n",
      "⚠️ No improvement for 5 epoch(s)\n",
      "⏹️ Early stopping triggered after 14 epochs.\n",
      "20StrawWeightBeforeDry_MobileOneConfidence_raw1\n",
      "Save model to:  ./allModel/20StrawWeightBeforeDry_MobileOneConfidence_raw1\n",
      "Using device: cuda\n",
      "✅ Safe Split → Train: 23920, Val: 2980, Test: 150\n",
      "Train Batches: 1495, Validation Batches: 187, Test Batches: 10\n"
     ]
    },
    {
     "name": "stderr",
     "output_type": "stream",
     "text": [
      "Epoch 1/40: 100%|██████████| 1495/1495 [02:44<00:00,  9.06it/s]\n"
     ]
    },
    {
     "name": "stdout",
     "output_type": "stream",
     "text": [
      "Epoch 1 | Train Loss: 2.3046 | Val Loss: 2.1840\n",
      "✅ Best model updated and saved at Epoch 1\n"
     ]
    },
    {
     "name": "stderr",
     "output_type": "stream",
     "text": [
      "Epoch 2/40: 100%|██████████| 1495/1495 [02:45<00:00,  9.01it/s]\n"
     ]
    },
    {
     "name": "stdout",
     "output_type": "stream",
     "text": [
      "Epoch 2 | Train Loss: 1.9026 | Val Loss: 2.1565\n",
      "✅ Best model updated and saved at Epoch 2\n"
     ]
    },
    {
     "name": "stderr",
     "output_type": "stream",
     "text": [
      "Epoch 3/40: 100%|██████████| 1495/1495 [02:44<00:00,  9.08it/s]\n"
     ]
    },
    {
     "name": "stdout",
     "output_type": "stream",
     "text": [
      "Epoch 3 | Train Loss: 1.7268 | Val Loss: 2.1751\n",
      "⚠️ No improvement for 0 epoch(s)\n"
     ]
    },
    {
     "name": "stderr",
     "output_type": "stream",
     "text": [
      "Epoch 4/40: 100%|██████████| 1495/1495 [02:45<00:00,  9.04it/s]\n"
     ]
    },
    {
     "name": "stdout",
     "output_type": "stream",
     "text": [
      "Epoch 4 | Train Loss: 1.6052 | Val Loss: 2.2339\n",
      "⚠️ No improvement for 0 epoch(s)\n"
     ]
    },
    {
     "name": "stderr",
     "output_type": "stream",
     "text": [
      "Epoch 5/40: 100%|██████████| 1495/1495 [02:45<00:00,  9.06it/s]\n"
     ]
    },
    {
     "name": "stdout",
     "output_type": "stream",
     "text": [
      "Epoch 5 | Train Loss: 1.5203 | Val Loss: 2.1704\n",
      "⚠️ No improvement for 0 epoch(s)\n"
     ]
    },
    {
     "name": "stderr",
     "output_type": "stream",
     "text": [
      "Epoch 6/40: 100%|██████████| 1495/1495 [02:45<00:00,  9.04it/s]\n"
     ]
    },
    {
     "name": "stdout",
     "output_type": "stream",
     "text": [
      "Epoch 6 | Train Loss: 1.3942 | Val Loss: 2.2849\n",
      "⚠️ No improvement for 0 epoch(s)\n"
     ]
    },
    {
     "name": "stderr",
     "output_type": "stream",
     "text": [
      "Epoch 7/40: 100%|██████████| 1495/1495 [02:44<00:00,  9.07it/s]\n"
     ]
    },
    {
     "name": "stdout",
     "output_type": "stream",
     "text": [
      "Epoch 7 | Train Loss: 1.3288 | Val Loss: 2.4070\n",
      "⚠️ No improvement for 0 epoch(s)\n"
     ]
    },
    {
     "name": "stderr",
     "output_type": "stream",
     "text": [
      "Epoch 8/40: 100%|██████████| 1495/1495 [02:44<00:00,  9.07it/s]\n"
     ]
    },
    {
     "name": "stdout",
     "output_type": "stream",
     "text": [
      "Epoch 8 | Train Loss: 1.2798 | Val Loss: 2.3750\n",
      "⚠️ No improvement for 0 epoch(s)\n"
     ]
    },
    {
     "name": "stderr",
     "output_type": "stream",
     "text": [
      "Epoch 9/40: 100%|██████████| 1495/1495 [02:44<00:00,  9.09it/s]\n"
     ]
    },
    {
     "name": "stdout",
     "output_type": "stream",
     "text": [
      "Epoch 9 | Train Loss: 1.2267 | Val Loss: 2.4928\n",
      "⚠️ No improvement for 0 epoch(s)\n"
     ]
    },
    {
     "name": "stderr",
     "output_type": "stream",
     "text": [
      "Epoch 10/40: 100%|██████████| 1495/1495 [02:45<00:00,  9.05it/s]\n"
     ]
    },
    {
     "name": "stdout",
     "output_type": "stream",
     "text": [
      "Epoch 10 | Train Loss: 1.1888 | Val Loss: 2.4999\n",
      "⚠️ No improvement for 1 epoch(s)\n"
     ]
    },
    {
     "name": "stderr",
     "output_type": "stream",
     "text": [
      "Epoch 11/40: 100%|██████████| 1495/1495 [02:45<00:00,  9.05it/s]\n"
     ]
    },
    {
     "name": "stdout",
     "output_type": "stream",
     "text": [
      "Epoch 11 | Train Loss: 1.1635 | Val Loss: 2.4958\n",
      "⚠️ No improvement for 2 epoch(s)\n"
     ]
    },
    {
     "name": "stderr",
     "output_type": "stream",
     "text": [
      "Epoch 12/40: 100%|██████████| 1495/1495 [02:44<00:00,  9.07it/s]\n"
     ]
    },
    {
     "name": "stdout",
     "output_type": "stream",
     "text": [
      "Epoch 12 | Train Loss: 1.1315 | Val Loss: 2.5723\n",
      "⚠️ No improvement for 3 epoch(s)\n"
     ]
    },
    {
     "name": "stderr",
     "output_type": "stream",
     "text": [
      "Epoch 13/40: 100%|██████████| 1495/1495 [02:44<00:00,  9.06it/s]\n"
     ]
    },
    {
     "name": "stdout",
     "output_type": "stream",
     "text": [
      "Epoch 13 | Train Loss: 1.1048 | Val Loss: 2.5379\n",
      "⚠️ No improvement for 4 epoch(s)\n"
     ]
    },
    {
     "name": "stderr",
     "output_type": "stream",
     "text": [
      "Epoch 14/40: 100%|██████████| 1495/1495 [02:45<00:00,  9.06it/s]\n"
     ]
    },
    {
     "name": "stdout",
     "output_type": "stream",
     "text": [
      "Epoch 14 | Train Loss: 1.1097 | Val Loss: 2.5647\n",
      "⚠️ No improvement for 5 epoch(s)\n",
      "⏹️ Early stopping triggered after 14 epochs.\n",
      "20StrawWeightAfterDry_MobileOneConfidence_raw1\n",
      "Save model to:  ./allModel/20StrawWeightAfterDry_MobileOneConfidence_raw1\n",
      "Using device: cuda\n",
      "✅ Safe Split → Train: 23920, Val: 2980, Test: 150\n",
      "Train Batches: 1495, Validation Batches: 187, Test Batches: 10\n"
     ]
    },
    {
     "name": "stderr",
     "output_type": "stream",
     "text": [
      "Epoch 1/40: 100%|██████████| 1495/1495 [02:45<00:00,  9.05it/s]\n"
     ]
    },
    {
     "name": "stdout",
     "output_type": "stream",
     "text": [
      "Epoch 1 | Train Loss: 2.2436 | Val Loss: 2.1236\n",
      "✅ Best model updated and saved at Epoch 1\n"
     ]
    },
    {
     "name": "stderr",
     "output_type": "stream",
     "text": [
      "Epoch 2/40: 100%|██████████| 1495/1495 [02:45<00:00,  9.04it/s]\n"
     ]
    },
    {
     "name": "stdout",
     "output_type": "stream",
     "text": [
      "Epoch 2 | Train Loss: 1.8333 | Val Loss: 2.1166\n",
      "✅ Best model updated and saved at Epoch 2\n"
     ]
    },
    {
     "name": "stderr",
     "output_type": "stream",
     "text": [
      "Epoch 3/40: 100%|██████████| 1495/1495 [02:45<00:00,  9.05it/s]\n"
     ]
    },
    {
     "name": "stdout",
     "output_type": "stream",
     "text": [
      "Epoch 3 | Train Loss: 1.6333 | Val Loss: 2.1769\n",
      "⚠️ No improvement for 0 epoch(s)\n"
     ]
    },
    {
     "name": "stderr",
     "output_type": "stream",
     "text": [
      "Epoch 4/40: 100%|██████████| 1495/1495 [02:45<00:00,  9.05it/s]\n"
     ]
    },
    {
     "name": "stdout",
     "output_type": "stream",
     "text": [
      "Epoch 4 | Train Loss: 1.5153 | Val Loss: 2.1765\n",
      "⚠️ No improvement for 0 epoch(s)\n"
     ]
    },
    {
     "name": "stderr",
     "output_type": "stream",
     "text": [
      "Epoch 5/40: 100%|██████████| 1495/1495 [02:45<00:00,  9.06it/s]\n"
     ]
    },
    {
     "name": "stdout",
     "output_type": "stream",
     "text": [
      "Epoch 5 | Train Loss: 1.4093 | Val Loss: 2.1653\n",
      "⚠️ No improvement for 0 epoch(s)\n"
     ]
    },
    {
     "name": "stderr",
     "output_type": "stream",
     "text": [
      "Epoch 6/40: 100%|██████████| 1495/1495 [02:45<00:00,  9.05it/s]\n"
     ]
    },
    {
     "name": "stdout",
     "output_type": "stream",
     "text": [
      "Epoch 6 | Train Loss: 1.2536 | Val Loss: 2.3686\n",
      "⚠️ No improvement for 0 epoch(s)\n"
     ]
    },
    {
     "name": "stderr",
     "output_type": "stream",
     "text": [
      "Epoch 7/40: 100%|██████████| 1495/1495 [02:44<00:00,  9.08it/s]\n"
     ]
    },
    {
     "name": "stdout",
     "output_type": "stream",
     "text": [
      "Epoch 7 | Train Loss: 1.1857 | Val Loss: 2.4836\n",
      "⚠️ No improvement for 0 epoch(s)\n"
     ]
    },
    {
     "name": "stderr",
     "output_type": "stream",
     "text": [
      "Epoch 8/40: 100%|██████████| 1495/1495 [02:44<00:00,  9.07it/s]\n"
     ]
    },
    {
     "name": "stdout",
     "output_type": "stream",
     "text": [
      "Epoch 8 | Train Loss: 1.1691 | Val Loss: 2.5197\n",
      "⚠️ No improvement for 0 epoch(s)\n"
     ]
    },
    {
     "name": "stderr",
     "output_type": "stream",
     "text": [
      "Epoch 9/40: 100%|██████████| 1495/1495 [02:45<00:00,  9.06it/s]\n"
     ]
    },
    {
     "name": "stdout",
     "output_type": "stream",
     "text": [
      "Epoch 9 | Train Loss: 1.0910 | Val Loss: 2.4575\n",
      "⚠️ No improvement for 0 epoch(s)\n"
     ]
    },
    {
     "name": "stderr",
     "output_type": "stream",
     "text": [
      "Epoch 10/40: 100%|██████████| 1495/1495 [02:45<00:00,  9.04it/s]\n"
     ]
    },
    {
     "name": "stdout",
     "output_type": "stream",
     "text": [
      "Epoch 10 | Train Loss: 1.0643 | Val Loss: 2.5031\n",
      "⚠️ No improvement for 1 epoch(s)\n"
     ]
    },
    {
     "name": "stderr",
     "output_type": "stream",
     "text": [
      "Epoch 11/40: 100%|██████████| 1495/1495 [02:44<00:00,  9.07it/s]\n"
     ]
    },
    {
     "name": "stdout",
     "output_type": "stream",
     "text": [
      "Epoch 11 | Train Loss: 1.0274 | Val Loss: 2.6908\n",
      "⚠️ No improvement for 2 epoch(s)\n"
     ]
    },
    {
     "name": "stderr",
     "output_type": "stream",
     "text": [
      "Epoch 12/40: 100%|██████████| 1495/1495 [02:45<00:00,  9.05it/s]\n"
     ]
    },
    {
     "name": "stdout",
     "output_type": "stream",
     "text": [
      "Epoch 12 | Train Loss: 1.0054 | Val Loss: 2.5283\n",
      "⚠️ No improvement for 3 epoch(s)\n"
     ]
    },
    {
     "name": "stderr",
     "output_type": "stream",
     "text": [
      "Epoch 13/40: 100%|██████████| 1495/1495 [02:45<00:00,  9.05it/s]\n"
     ]
    },
    {
     "name": "stdout",
     "output_type": "stream",
     "text": [
      "Epoch 13 | Train Loss: 0.9864 | Val Loss: 2.6362\n",
      "⚠️ No improvement for 4 epoch(s)\n"
     ]
    },
    {
     "name": "stderr",
     "output_type": "stream",
     "text": [
      "Epoch 14/40: 100%|██████████| 1495/1495 [02:45<00:00,  9.06it/s]\n"
     ]
    },
    {
     "name": "stdout",
     "output_type": "stream",
     "text": [
      "Epoch 14 | Train Loss: 0.9717 | Val Loss: 2.6126\n",
      "⚠️ No improvement for 5 epoch(s)\n",
      "⏹️ Early stopping triggered after 14 epochs.\n",
      "totalSeedNum_MobileOneConfidence_raw1\n",
      "Save model to:  ./allModel/totalSeedNum_MobileOneConfidence_raw1\n",
      "Using device: cuda\n",
      "✅ Safe Split → Train: 23920, Val: 2980, Test: 150\n",
      "Train Batches: 1495, Validation Batches: 187, Test Batches: 10\n"
     ]
    },
    {
     "name": "stderr",
     "output_type": "stream",
     "text": [
      "Epoch 1/40: 100%|██████████| 1495/1495 [02:44<00:00,  9.07it/s]\n"
     ]
    },
    {
     "name": "stdout",
     "output_type": "stream",
     "text": [
      "Epoch 1 | Train Loss: 13.9388 | Val Loss: 9.2852\n",
      "✅ Best model updated and saved at Epoch 1\n"
     ]
    },
    {
     "name": "stderr",
     "output_type": "stream",
     "text": [
      "Epoch 2/40: 100%|██████████| 1495/1495 [02:45<00:00,  9.03it/s]\n"
     ]
    },
    {
     "name": "stdout",
     "output_type": "stream",
     "text": [
      "Epoch 2 | Train Loss: 9.5067 | Val Loss: 9.2744\n",
      "✅ Best model updated and saved at Epoch 2\n"
     ]
    },
    {
     "name": "stderr",
     "output_type": "stream",
     "text": [
      "Epoch 3/40: 100%|██████████| 1495/1495 [02:45<00:00,  9.04it/s]\n"
     ]
    },
    {
     "name": "stdout",
     "output_type": "stream",
     "text": [
      "Epoch 3 | Train Loss: 9.4459 | Val Loss: 9.7077\n",
      "⚠️ No improvement for 0 epoch(s)\n"
     ]
    },
    {
     "name": "stderr",
     "output_type": "stream",
     "text": [
      "Epoch 4/40: 100%|██████████| 1495/1495 [02:45<00:00,  9.05it/s]\n"
     ]
    },
    {
     "name": "stdout",
     "output_type": "stream",
     "text": [
      "Epoch 4 | Train Loss: 9.3891 | Val Loss: 10.3166\n",
      "⚠️ No improvement for 0 epoch(s)\n"
     ]
    },
    {
     "name": "stderr",
     "output_type": "stream",
     "text": [
      "Epoch 5/40: 100%|██████████| 1495/1495 [02:45<00:00,  9.04it/s]\n"
     ]
    },
    {
     "name": "stdout",
     "output_type": "stream",
     "text": [
      "Epoch 5 | Train Loss: 9.1595 | Val Loss: 8.6601\n",
      "✅ Best model updated and saved at Epoch 5\n"
     ]
    },
    {
     "name": "stderr",
     "output_type": "stream",
     "text": [
      "Epoch 6/40: 100%|██████████| 1495/1495 [02:44<00:00,  9.06it/s]\n"
     ]
    },
    {
     "name": "stdout",
     "output_type": "stream",
     "text": [
      "Epoch 6 | Train Loss: 8.3767 | Val Loss: 8.3167\n",
      "✅ Best model updated and saved at Epoch 6\n"
     ]
    },
    {
     "name": "stderr",
     "output_type": "stream",
     "text": [
      "Epoch 7/40: 100%|██████████| 1495/1495 [02:45<00:00,  9.04it/s]\n"
     ]
    },
    {
     "name": "stdout",
     "output_type": "stream",
     "text": [
      "Epoch 7 | Train Loss: 8.1079 | Val Loss: 8.6015\n",
      "⚠️ No improvement for 0 epoch(s)\n"
     ]
    },
    {
     "name": "stderr",
     "output_type": "stream",
     "text": [
      "Epoch 8/40: 100%|██████████| 1495/1495 [02:44<00:00,  9.08it/s]\n"
     ]
    },
    {
     "name": "stdout",
     "output_type": "stream",
     "text": [
      "Epoch 8 | Train Loss: 7.8893 | Val Loss: 7.8521\n",
      "✅ Best model updated and saved at Epoch 8\n"
     ]
    },
    {
     "name": "stderr",
     "output_type": "stream",
     "text": [
      "Epoch 9/40: 100%|██████████| 1495/1495 [02:44<00:00,  9.06it/s]\n"
     ]
    },
    {
     "name": "stdout",
     "output_type": "stream",
     "text": [
      "Epoch 9 | Train Loss: 7.7455 | Val Loss: 8.0968\n",
      "⚠️ No improvement for 0 epoch(s)\n"
     ]
    },
    {
     "name": "stderr",
     "output_type": "stream",
     "text": [
      "Epoch 10/40: 100%|██████████| 1495/1495 [02:44<00:00,  9.07it/s]\n"
     ]
    },
    {
     "name": "stdout",
     "output_type": "stream",
     "text": [
      "Epoch 10 | Train Loss: 7.6135 | Val Loss: 8.3431\n",
      "⚠️ No improvement for 1 epoch(s)\n"
     ]
    },
    {
     "name": "stderr",
     "output_type": "stream",
     "text": [
      "Epoch 11/40: 100%|██████████| 1495/1495 [02:45<00:00,  9.05it/s]\n"
     ]
    },
    {
     "name": "stdout",
     "output_type": "stream",
     "text": [
      "Epoch 11 | Train Loss: 7.4879 | Val Loss: 8.6671\n",
      "⚠️ No improvement for 2 epoch(s)\n"
     ]
    },
    {
     "name": "stderr",
     "output_type": "stream",
     "text": [
      "Epoch 12/40: 100%|██████████| 1495/1495 [02:45<00:00,  9.06it/s]\n"
     ]
    },
    {
     "name": "stdout",
     "output_type": "stream",
     "text": [
      "Epoch 12 | Train Loss: 7.3308 | Val Loss: 8.4533\n",
      "⚠️ No improvement for 3 epoch(s)\n"
     ]
    },
    {
     "name": "stderr",
     "output_type": "stream",
     "text": [
      "Epoch 13/40: 100%|██████████| 1495/1495 [02:46<00:00,  8.95it/s]\n"
     ]
    },
    {
     "name": "stdout",
     "output_type": "stream",
     "text": [
      "Epoch 13 | Train Loss: 7.2493 | Val Loss: 8.7896\n",
      "⚠️ No improvement for 4 epoch(s)\n"
     ]
    },
    {
     "name": "stderr",
     "output_type": "stream",
     "text": [
      "Epoch 14/40: 100%|██████████| 1495/1495 [02:47<00:00,  8.95it/s]\n"
     ]
    },
    {
     "name": "stdout",
     "output_type": "stream",
     "text": [
      "Epoch 14 | Train Loss: 7.2015 | Val Loss: 9.5206\n",
      "⚠️ No improvement for 5 epoch(s)\n",
      "⏹️ Early stopping triggered after 14 epochs.\n",
      "totalSeedWeightBeforeDry_MobileOneConfidence_raw1\n",
      "Save model to:  ./allModel/totalSeedWeightBeforeDry_MobileOneConfidence_raw1\n",
      "Using device: cuda\n",
      "✅ Safe Split → Train: 23920, Val: 2980, Test: 150\n",
      "Train Batches: 1495, Validation Batches: 187, Test Batches: 10\n"
     ]
    },
    {
     "name": "stderr",
     "output_type": "stream",
     "text": [
      "Epoch 1/40:  16%|█▋        | 246/1495 [00:36<03:06,  6.69it/s]\n"
     ]
    },
    {
     "ename": "KeyboardInterrupt",
     "evalue": "",
     "output_type": "error",
     "traceback": [
      "\u001b[31m---------------------------------------------------------------------------\u001b[39m",
      "\u001b[31mKeyboardInterrupt\u001b[39m                         Traceback (most recent call last)",
      "\u001b[36mCell\u001b[39m\u001b[36m \u001b[39m\u001b[32mIn[23]\u001b[39m\u001b[32m, line 12\u001b[39m\n\u001b[32m     10\u001b[39m safe_train_noextra(resultDataLabel, resultData[\u001b[32m4\u001b[39m], MobileOneConfidence, savePath = \u001b[33m\"\u001b[39m\u001b[33m./allModel\u001b[39m\u001b[33m\"\u001b[39m, extraName = extraName)\n\u001b[32m     11\u001b[39m safe_train_noextra(resultDataLabel, resultData[\u001b[32m5\u001b[39m], MobileOneConfidence, savePath = \u001b[33m\"\u001b[39m\u001b[33m./allModel\u001b[39m\u001b[33m\"\u001b[39m, extraName = extraName)\n\u001b[32m---> \u001b[39m\u001b[32m12\u001b[39m \u001b[43msafe_train_noextra\u001b[49m\u001b[43m(\u001b[49m\u001b[43mresultDataLabel\u001b[49m\u001b[43m,\u001b[49m\u001b[43m \u001b[49m\u001b[43mresultData\u001b[49m\u001b[43m[\u001b[49m\u001b[32;43m6\u001b[39;49m\u001b[43m]\u001b[49m\u001b[43m,\u001b[49m\u001b[43m \u001b[49m\u001b[43mMobileOneConfidence\u001b[49m\u001b[43m,\u001b[49m\u001b[43m \u001b[49m\u001b[43msavePath\u001b[49m\u001b[43m \u001b[49m\u001b[43m=\u001b[49m\u001b[43m \u001b[49m\u001b[33;43m\"\u001b[39;49m\u001b[33;43m./allModel\u001b[39;49m\u001b[33;43m\"\u001b[39;49m\u001b[43m,\u001b[49m\u001b[43m \u001b[49m\u001b[43mextraName\u001b[49m\u001b[43m \u001b[49m\u001b[43m=\u001b[49m\u001b[43m \u001b[49m\u001b[43mextraName\u001b[49m\u001b[43m)\u001b[49m\n\u001b[32m     13\u001b[39m safe_train_noextra(resultDataLabel, resultData[\u001b[32m7\u001b[39m], MobileOneConfidence, savePath = \u001b[33m\"\u001b[39m\u001b[33m./allModel\u001b[39m\u001b[33m\"\u001b[39m, extraName = extraName)\n\u001b[32m     14\u001b[39m safe_train_noextra(dateDataLabelAll, \u001b[33m\"\u001b[39m\u001b[33mdays\u001b[39m\u001b[33m\"\u001b[39m, MobileOneConfidence, savePath = \u001b[33m\"\u001b[39m\u001b[33m./allModel\u001b[39m\u001b[33m\"\u001b[39m, extraName = \u001b[33m\"\u001b[39m\u001b[33mnoERR\u001b[39m\u001b[33m\"\u001b[39m)\n",
      "\u001b[36mCell\u001b[39m\u001b[36m \u001b[39m\u001b[32mIn[4]\u001b[39m\u001b[32m, line 3\u001b[39m, in \u001b[36msafe_train_noextra\u001b[39m\u001b[34m(dataPath, targetData, Model, savePath, extraName)\u001b[39m\n\u001b[32m      1\u001b[39m \u001b[38;5;28;01mdef\u001b[39;00m\u001b[38;5;250m \u001b[39m\u001b[34msafe_train_noextra\u001b[39m(dataPath, targetData, Model, savePath, extraName):\n\u001b[32m      2\u001b[39m     \u001b[38;5;28;01mtry\u001b[39;00m:\n\u001b[32m----> \u001b[39m\u001b[32m3\u001b[39m         \u001b[43msetAndTrainModel\u001b[49m\u001b[43m(\u001b[49m\u001b[43mdataPath\u001b[49m\u001b[43m,\u001b[49m\u001b[43m \u001b[49m\u001b[43mtargetData\u001b[49m\u001b[43m,\u001b[49m\u001b[43m \u001b[49m\u001b[43mModel\u001b[49m\u001b[43m,\u001b[49m\u001b[43m \u001b[49m\u001b[43msavePath\u001b[49m\u001b[43m,\u001b[49m\u001b[43m \u001b[49m\u001b[43mextraName\u001b[49m\u001b[43m)\u001b[49m\n\u001b[32m      4\u001b[39m     \u001b[38;5;28;01mexcept\u001b[39;00m \u001b[38;5;167;01mException\u001b[39;00m \u001b[38;5;28;01mas\u001b[39;00m e:\n\u001b[32m      5\u001b[39m         \u001b[38;5;28;01mwith\u001b[39;00m \u001b[38;5;28mopen\u001b[39m(\u001b[33m\"\u001b[39m\u001b[33m./ModelTestResult/errorModel.txt\u001b[39m\u001b[33m\"\u001b[39m, \u001b[33m\"\u001b[39m\u001b[33ma\u001b[39m\u001b[33m\"\u001b[39m) \u001b[38;5;28;01mas\u001b[39;00m f:\n",
      "\u001b[36mFile \u001b[39m\u001b[32mh:\\MasterProj\\Model_Creation\\TraitPredictionModel\\modelFunc.py:238\u001b[39m, in \u001b[36msetAndTrainModel\u001b[39m\u001b[34m(dataPath, traitName, model, savePath, extraName)\u001b[39m\n\u001b[32m    235\u001b[39m scheduler = torch.optim.lr_scheduler.ReduceLROnPlateau(optimizer, mode=\u001b[33m'\u001b[39m\u001b[33mmin\u001b[39m\u001b[33m'\u001b[39m, factor=\u001b[32m0.5\u001b[39m, patience=\u001b[32m2\u001b[39m)\n\u001b[32m    237\u001b[39m \u001b[38;5;66;03m# train and save model\u001b[39;00m\n\u001b[32m--> \u001b[39m\u001b[32m238\u001b[39m \u001b[43mtrain_model_laplace\u001b[49m\u001b[43m(\u001b[49m\u001b[43mmodelName\u001b[49m\u001b[43m,\u001b[49m\u001b[43m \u001b[49m\u001b[43mtrain_loader\u001b[49m\u001b[43m,\u001b[49m\u001b[43m \u001b[49m\u001b[43mval_loader\u001b[49m\u001b[43m,\u001b[49m\u001b[43m \u001b[49m\u001b[43moptimizer\u001b[49m\u001b[43m,\u001b[49m\u001b[43m \u001b[49m\u001b[43mscheduler\u001b[49m\u001b[43m,\u001b[49m\u001b[43m \u001b[49m\u001b[43mdevice\u001b[49m\u001b[43m,\u001b[49m\u001b[43m \u001b[49m\u001b[43msaveModelPath\u001b[49m\u001b[43m)\u001b[49m\n",
      "\u001b[36mFile \u001b[39m\u001b[32mh:\\MasterProj\\Model_Creation\\TraitPredictionModel\\modelFunc.py:71\u001b[39m, in \u001b[36mtrain_model_laplace\u001b[39m\u001b[34m(model, train_loader, val_loader, optimizer, scheduler, device, fileName, use_extra_input, max_epochs, patience, min_epochs)\u001b[39m\n\u001b[32m     69\u001b[39m     optimizer.zero_grad()\n\u001b[32m     70\u001b[39m     loss.backward()\n\u001b[32m---> \u001b[39m\u001b[32m71\u001b[39m     \u001b[43moptimizer\u001b[49m\u001b[43m.\u001b[49m\u001b[43mstep\u001b[49m\u001b[43m(\u001b[49m\u001b[43m)\u001b[49m\n\u001b[32m     73\u001b[39m     train_loss += loss.item()\n\u001b[32m     75\u001b[39m train_loss /= \u001b[38;5;28mlen\u001b[39m(train_loader)\n",
      "\u001b[36mFile \u001b[39m\u001b[32mc:\\Users\\Crop2024_GA\\AppData\\Local\\Programs\\Python\\Python313\\Lib\\site-packages\\torch\\optim\\optimizer.py:493\u001b[39m, in \u001b[36mOptimizer.profile_hook_step.<locals>.wrapper\u001b[39m\u001b[34m(*args, **kwargs)\u001b[39m\n\u001b[32m    488\u001b[39m         \u001b[38;5;28;01melse\u001b[39;00m:\n\u001b[32m    489\u001b[39m             \u001b[38;5;28;01mraise\u001b[39;00m \u001b[38;5;167;01mRuntimeError\u001b[39;00m(\n\u001b[32m    490\u001b[39m                 \u001b[33mf\u001b[39m\u001b[33m\"\u001b[39m\u001b[38;5;132;01m{\u001b[39;00mfunc\u001b[38;5;132;01m}\u001b[39;00m\u001b[33m must return None or a tuple of (new_args, new_kwargs), but got \u001b[39m\u001b[38;5;132;01m{\u001b[39;00mresult\u001b[38;5;132;01m}\u001b[39;00m\u001b[33m.\u001b[39m\u001b[33m\"\u001b[39m\n\u001b[32m    491\u001b[39m             )\n\u001b[32m--> \u001b[39m\u001b[32m493\u001b[39m out = \u001b[43mfunc\u001b[49m\u001b[43m(\u001b[49m\u001b[43m*\u001b[49m\u001b[43margs\u001b[49m\u001b[43m,\u001b[49m\u001b[43m \u001b[49m\u001b[43m*\u001b[49m\u001b[43m*\u001b[49m\u001b[43mkwargs\u001b[49m\u001b[43m)\u001b[49m\n\u001b[32m    494\u001b[39m \u001b[38;5;28mself\u001b[39m._optimizer_step_code()\n\u001b[32m    496\u001b[39m \u001b[38;5;66;03m# call optimizer step post hooks\u001b[39;00m\n",
      "\u001b[36mFile \u001b[39m\u001b[32mc:\\Users\\Crop2024_GA\\AppData\\Local\\Programs\\Python\\Python313\\Lib\\site-packages\\torch\\optim\\optimizer.py:91\u001b[39m, in \u001b[36m_use_grad_for_differentiable.<locals>._use_grad\u001b[39m\u001b[34m(self, *args, **kwargs)\u001b[39m\n\u001b[32m     89\u001b[39m     torch.set_grad_enabled(\u001b[38;5;28mself\u001b[39m.defaults[\u001b[33m\"\u001b[39m\u001b[33mdifferentiable\u001b[39m\u001b[33m\"\u001b[39m])\n\u001b[32m     90\u001b[39m     torch._dynamo.graph_break()\n\u001b[32m---> \u001b[39m\u001b[32m91\u001b[39m     ret = \u001b[43mfunc\u001b[49m\u001b[43m(\u001b[49m\u001b[38;5;28;43mself\u001b[39;49m\u001b[43m,\u001b[49m\u001b[43m \u001b[49m\u001b[43m*\u001b[49m\u001b[43margs\u001b[49m\u001b[43m,\u001b[49m\u001b[43m \u001b[49m\u001b[43m*\u001b[49m\u001b[43m*\u001b[49m\u001b[43mkwargs\u001b[49m\u001b[43m)\u001b[49m\n\u001b[32m     92\u001b[39m \u001b[38;5;28;01mfinally\u001b[39;00m:\n\u001b[32m     93\u001b[39m     torch._dynamo.graph_break()\n",
      "\u001b[36mFile \u001b[39m\u001b[32mc:\\Users\\Crop2024_GA\\AppData\\Local\\Programs\\Python\\Python313\\Lib\\site-packages\\torch\\optim\\adam.py:244\u001b[39m, in \u001b[36mAdam.step\u001b[39m\u001b[34m(self, closure)\u001b[39m\n\u001b[32m    232\u001b[39m     beta1, beta2 = group[\u001b[33m\"\u001b[39m\u001b[33mbetas\u001b[39m\u001b[33m\"\u001b[39m]\n\u001b[32m    234\u001b[39m     has_complex = \u001b[38;5;28mself\u001b[39m._init_group(\n\u001b[32m    235\u001b[39m         group,\n\u001b[32m    236\u001b[39m         params_with_grad,\n\u001b[32m   (...)\u001b[39m\u001b[32m    241\u001b[39m         state_steps,\n\u001b[32m    242\u001b[39m     )\n\u001b[32m--> \u001b[39m\u001b[32m244\u001b[39m     \u001b[43madam\u001b[49m\u001b[43m(\u001b[49m\n\u001b[32m    245\u001b[39m \u001b[43m        \u001b[49m\u001b[43mparams_with_grad\u001b[49m\u001b[43m,\u001b[49m\n\u001b[32m    246\u001b[39m \u001b[43m        \u001b[49m\u001b[43mgrads\u001b[49m\u001b[43m,\u001b[49m\n\u001b[32m    247\u001b[39m \u001b[43m        \u001b[49m\u001b[43mexp_avgs\u001b[49m\u001b[43m,\u001b[49m\n\u001b[32m    248\u001b[39m \u001b[43m        \u001b[49m\u001b[43mexp_avg_sqs\u001b[49m\u001b[43m,\u001b[49m\n\u001b[32m    249\u001b[39m \u001b[43m        \u001b[49m\u001b[43mmax_exp_avg_sqs\u001b[49m\u001b[43m,\u001b[49m\n\u001b[32m    250\u001b[39m \u001b[43m        \u001b[49m\u001b[43mstate_steps\u001b[49m\u001b[43m,\u001b[49m\n\u001b[32m    251\u001b[39m \u001b[43m        \u001b[49m\u001b[43mamsgrad\u001b[49m\u001b[43m=\u001b[49m\u001b[43mgroup\u001b[49m\u001b[43m[\u001b[49m\u001b[33;43m\"\u001b[39;49m\u001b[33;43mamsgrad\u001b[39;49m\u001b[33;43m\"\u001b[39;49m\u001b[43m]\u001b[49m\u001b[43m,\u001b[49m\n\u001b[32m    252\u001b[39m \u001b[43m        \u001b[49m\u001b[43mhas_complex\u001b[49m\u001b[43m=\u001b[49m\u001b[43mhas_complex\u001b[49m\u001b[43m,\u001b[49m\n\u001b[32m    253\u001b[39m \u001b[43m        \u001b[49m\u001b[43mbeta1\u001b[49m\u001b[43m=\u001b[49m\u001b[43mbeta1\u001b[49m\u001b[43m,\u001b[49m\n\u001b[32m    254\u001b[39m \u001b[43m        \u001b[49m\u001b[43mbeta2\u001b[49m\u001b[43m=\u001b[49m\u001b[43mbeta2\u001b[49m\u001b[43m,\u001b[49m\n\u001b[32m    255\u001b[39m \u001b[43m        \u001b[49m\u001b[43mlr\u001b[49m\u001b[43m=\u001b[49m\u001b[43mgroup\u001b[49m\u001b[43m[\u001b[49m\u001b[33;43m\"\u001b[39;49m\u001b[33;43mlr\u001b[39;49m\u001b[33;43m\"\u001b[39;49m\u001b[43m]\u001b[49m\u001b[43m,\u001b[49m\n\u001b[32m    256\u001b[39m \u001b[43m        \u001b[49m\u001b[43mweight_decay\u001b[49m\u001b[43m=\u001b[49m\u001b[43mgroup\u001b[49m\u001b[43m[\u001b[49m\u001b[33;43m\"\u001b[39;49m\u001b[33;43mweight_decay\u001b[39;49m\u001b[33;43m\"\u001b[39;49m\u001b[43m]\u001b[49m\u001b[43m,\u001b[49m\n\u001b[32m    257\u001b[39m \u001b[43m        \u001b[49m\u001b[43meps\u001b[49m\u001b[43m=\u001b[49m\u001b[43mgroup\u001b[49m\u001b[43m[\u001b[49m\u001b[33;43m\"\u001b[39;49m\u001b[33;43meps\u001b[39;49m\u001b[33;43m\"\u001b[39;49m\u001b[43m]\u001b[49m\u001b[43m,\u001b[49m\n\u001b[32m    258\u001b[39m \u001b[43m        \u001b[49m\u001b[43mmaximize\u001b[49m\u001b[43m=\u001b[49m\u001b[43mgroup\u001b[49m\u001b[43m[\u001b[49m\u001b[33;43m\"\u001b[39;49m\u001b[33;43mmaximize\u001b[39;49m\u001b[33;43m\"\u001b[39;49m\u001b[43m]\u001b[49m\u001b[43m,\u001b[49m\n\u001b[32m    259\u001b[39m \u001b[43m        \u001b[49m\u001b[43mforeach\u001b[49m\u001b[43m=\u001b[49m\u001b[43mgroup\u001b[49m\u001b[43m[\u001b[49m\u001b[33;43m\"\u001b[39;49m\u001b[33;43mforeach\u001b[39;49m\u001b[33;43m\"\u001b[39;49m\u001b[43m]\u001b[49m\u001b[43m,\u001b[49m\n\u001b[32m    260\u001b[39m \u001b[43m        \u001b[49m\u001b[43mcapturable\u001b[49m\u001b[43m=\u001b[49m\u001b[43mgroup\u001b[49m\u001b[43m[\u001b[49m\u001b[33;43m\"\u001b[39;49m\u001b[33;43mcapturable\u001b[39;49m\u001b[33;43m\"\u001b[39;49m\u001b[43m]\u001b[49m\u001b[43m,\u001b[49m\n\u001b[32m    261\u001b[39m \u001b[43m        \u001b[49m\u001b[43mdifferentiable\u001b[49m\u001b[43m=\u001b[49m\u001b[43mgroup\u001b[49m\u001b[43m[\u001b[49m\u001b[33;43m\"\u001b[39;49m\u001b[33;43mdifferentiable\u001b[39;49m\u001b[33;43m\"\u001b[39;49m\u001b[43m]\u001b[49m\u001b[43m,\u001b[49m\n\u001b[32m    262\u001b[39m \u001b[43m        \u001b[49m\u001b[43mfused\u001b[49m\u001b[43m=\u001b[49m\u001b[43mgroup\u001b[49m\u001b[43m[\u001b[49m\u001b[33;43m\"\u001b[39;49m\u001b[33;43mfused\u001b[39;49m\u001b[33;43m\"\u001b[39;49m\u001b[43m]\u001b[49m\u001b[43m,\u001b[49m\n\u001b[32m    263\u001b[39m \u001b[43m        \u001b[49m\u001b[43mgrad_scale\u001b[49m\u001b[43m=\u001b[49m\u001b[38;5;28;43mgetattr\u001b[39;49m\u001b[43m(\u001b[49m\u001b[38;5;28;43mself\u001b[39;49m\u001b[43m,\u001b[49m\u001b[43m \u001b[49m\u001b[33;43m\"\u001b[39;49m\u001b[33;43mgrad_scale\u001b[39;49m\u001b[33;43m\"\u001b[39;49m\u001b[43m,\u001b[49m\u001b[43m \u001b[49m\u001b[38;5;28;43;01mNone\u001b[39;49;00m\u001b[43m)\u001b[49m\u001b[43m,\u001b[49m\n\u001b[32m    264\u001b[39m \u001b[43m        \u001b[49m\u001b[43mfound_inf\u001b[49m\u001b[43m=\u001b[49m\u001b[38;5;28;43mgetattr\u001b[39;49m\u001b[43m(\u001b[49m\u001b[38;5;28;43mself\u001b[39;49m\u001b[43m,\u001b[49m\u001b[43m \u001b[49m\u001b[33;43m\"\u001b[39;49m\u001b[33;43mfound_inf\u001b[39;49m\u001b[33;43m\"\u001b[39;49m\u001b[43m,\u001b[49m\u001b[43m \u001b[49m\u001b[38;5;28;43;01mNone\u001b[39;49;00m\u001b[43m)\u001b[49m\u001b[43m,\u001b[49m\n\u001b[32m    265\u001b[39m \u001b[43m    \u001b[49m\u001b[43m)\u001b[49m\n\u001b[32m    267\u001b[39m \u001b[38;5;28;01mreturn\u001b[39;00m loss\n",
      "\u001b[36mFile \u001b[39m\u001b[32mc:\\Users\\Crop2024_GA\\AppData\\Local\\Programs\\Python\\Python313\\Lib\\site-packages\\torch\\optim\\optimizer.py:154\u001b[39m, in \u001b[36m_disable_dynamo_if_unsupported.<locals>.wrapper.<locals>.maybe_fallback\u001b[39m\u001b[34m(*args, **kwargs)\u001b[39m\n\u001b[32m    152\u001b[39m     \u001b[38;5;28;01mreturn\u001b[39;00m disabled_func(*args, **kwargs)\n\u001b[32m    153\u001b[39m \u001b[38;5;28;01melse\u001b[39;00m:\n\u001b[32m--> \u001b[39m\u001b[32m154\u001b[39m     \u001b[38;5;28;01mreturn\u001b[39;00m \u001b[43mfunc\u001b[49m\u001b[43m(\u001b[49m\u001b[43m*\u001b[49m\u001b[43margs\u001b[49m\u001b[43m,\u001b[49m\u001b[43m \u001b[49m\u001b[43m*\u001b[49m\u001b[43m*\u001b[49m\u001b[43mkwargs\u001b[49m\u001b[43m)\u001b[49m\n",
      "\u001b[36mFile \u001b[39m\u001b[32mc:\\Users\\Crop2024_GA\\AppData\\Local\\Programs\\Python\\Python313\\Lib\\site-packages\\torch\\optim\\adam.py:876\u001b[39m, in \u001b[36madam\u001b[39m\u001b[34m(params, grads, exp_avgs, exp_avg_sqs, max_exp_avg_sqs, state_steps, foreach, capturable, differentiable, fused, grad_scale, found_inf, has_complex, amsgrad, beta1, beta2, lr, weight_decay, eps, maximize)\u001b[39m\n\u001b[32m    873\u001b[39m \u001b[38;5;28;01melse\u001b[39;00m:\n\u001b[32m    874\u001b[39m     func = _single_tensor_adam\n\u001b[32m--> \u001b[39m\u001b[32m876\u001b[39m \u001b[43mfunc\u001b[49m\u001b[43m(\u001b[49m\n\u001b[32m    877\u001b[39m \u001b[43m    \u001b[49m\u001b[43mparams\u001b[49m\u001b[43m,\u001b[49m\n\u001b[32m    878\u001b[39m \u001b[43m    \u001b[49m\u001b[43mgrads\u001b[49m\u001b[43m,\u001b[49m\n\u001b[32m    879\u001b[39m \u001b[43m    \u001b[49m\u001b[43mexp_avgs\u001b[49m\u001b[43m,\u001b[49m\n\u001b[32m    880\u001b[39m \u001b[43m    \u001b[49m\u001b[43mexp_avg_sqs\u001b[49m\u001b[43m,\u001b[49m\n\u001b[32m    881\u001b[39m \u001b[43m    \u001b[49m\u001b[43mmax_exp_avg_sqs\u001b[49m\u001b[43m,\u001b[49m\n\u001b[32m    882\u001b[39m \u001b[43m    \u001b[49m\u001b[43mstate_steps\u001b[49m\u001b[43m,\u001b[49m\n\u001b[32m    883\u001b[39m \u001b[43m    \u001b[49m\u001b[43mamsgrad\u001b[49m\u001b[43m=\u001b[49m\u001b[43mamsgrad\u001b[49m\u001b[43m,\u001b[49m\n\u001b[32m    884\u001b[39m \u001b[43m    \u001b[49m\u001b[43mhas_complex\u001b[49m\u001b[43m=\u001b[49m\u001b[43mhas_complex\u001b[49m\u001b[43m,\u001b[49m\n\u001b[32m    885\u001b[39m \u001b[43m    \u001b[49m\u001b[43mbeta1\u001b[49m\u001b[43m=\u001b[49m\u001b[43mbeta1\u001b[49m\u001b[43m,\u001b[49m\n\u001b[32m    886\u001b[39m \u001b[43m    \u001b[49m\u001b[43mbeta2\u001b[49m\u001b[43m=\u001b[49m\u001b[43mbeta2\u001b[49m\u001b[43m,\u001b[49m\n\u001b[32m    887\u001b[39m \u001b[43m    \u001b[49m\u001b[43mlr\u001b[49m\u001b[43m=\u001b[49m\u001b[43mlr\u001b[49m\u001b[43m,\u001b[49m\n\u001b[32m    888\u001b[39m \u001b[43m    \u001b[49m\u001b[43mweight_decay\u001b[49m\u001b[43m=\u001b[49m\u001b[43mweight_decay\u001b[49m\u001b[43m,\u001b[49m\n\u001b[32m    889\u001b[39m \u001b[43m    \u001b[49m\u001b[43meps\u001b[49m\u001b[43m=\u001b[49m\u001b[43meps\u001b[49m\u001b[43m,\u001b[49m\n\u001b[32m    890\u001b[39m \u001b[43m    \u001b[49m\u001b[43mmaximize\u001b[49m\u001b[43m=\u001b[49m\u001b[43mmaximize\u001b[49m\u001b[43m,\u001b[49m\n\u001b[32m    891\u001b[39m \u001b[43m    \u001b[49m\u001b[43mcapturable\u001b[49m\u001b[43m=\u001b[49m\u001b[43mcapturable\u001b[49m\u001b[43m,\u001b[49m\n\u001b[32m    892\u001b[39m \u001b[43m    \u001b[49m\u001b[43mdifferentiable\u001b[49m\u001b[43m=\u001b[49m\u001b[43mdifferentiable\u001b[49m\u001b[43m,\u001b[49m\n\u001b[32m    893\u001b[39m \u001b[43m    \u001b[49m\u001b[43mgrad_scale\u001b[49m\u001b[43m=\u001b[49m\u001b[43mgrad_scale\u001b[49m\u001b[43m,\u001b[49m\n\u001b[32m    894\u001b[39m \u001b[43m    \u001b[49m\u001b[43mfound_inf\u001b[49m\u001b[43m=\u001b[49m\u001b[43mfound_inf\u001b[49m\u001b[43m,\u001b[49m\n\u001b[32m    895\u001b[39m \u001b[43m\u001b[49m\u001b[43m)\u001b[49m\n",
      "\u001b[36mFile \u001b[39m\u001b[32mc:\\Users\\Crop2024_GA\\AppData\\Local\\Programs\\Python\\Python313\\Lib\\site-packages\\torch\\optim\\adam.py:601\u001b[39m, in \u001b[36m_multi_tensor_adam\u001b[39m\u001b[34m(params, grads, exp_avgs, exp_avg_sqs, max_exp_avg_sqs, state_steps, grad_scale, found_inf, amsgrad, has_complex, beta1, beta2, lr, weight_decay, eps, maximize, capturable, differentiable)\u001b[39m\n\u001b[32m    596\u001b[39m \u001b[38;5;66;03m# Update steps\u001b[39;00m\n\u001b[32m    597\u001b[39m \u001b[38;5;66;03m# If steps are on CPU, foreach will fall back to the slow path, which is a for-loop calling t.add(1) over\u001b[39;00m\n\u001b[32m    598\u001b[39m \u001b[38;5;66;03m# and over. 1 will then be wrapped into a Tensor over and over again, which is slower than if we just\u001b[39;00m\n\u001b[32m    599\u001b[39m \u001b[38;5;66;03m# wrapped it once now. The alpha is required to assure we go to the right overload.\u001b[39;00m\n\u001b[32m    600\u001b[39m \u001b[38;5;28;01mif\u001b[39;00m \u001b[38;5;129;01mnot\u001b[39;00m torch.compiler.is_compiling() \u001b[38;5;129;01mand\u001b[39;00m device_state_steps[\u001b[32m0\u001b[39m].is_cpu:\n\u001b[32m--> \u001b[39m\u001b[32m601\u001b[39m     \u001b[43mtorch\u001b[49m\u001b[43m.\u001b[49m\u001b[43m_foreach_add_\u001b[49m\u001b[43m(\u001b[49m\n\u001b[32m    602\u001b[39m \u001b[43m        \u001b[49m\u001b[43mdevice_state_steps\u001b[49m\u001b[43m,\u001b[49m\u001b[43m \u001b[49m\u001b[43mtorch\u001b[49m\u001b[43m.\u001b[49m\u001b[43mtensor\u001b[49m\u001b[43m(\u001b[49m\u001b[32;43m1.0\u001b[39;49m\u001b[43m,\u001b[49m\u001b[43m \u001b[49m\u001b[43mdevice\u001b[49m\u001b[43m=\u001b[49m\u001b[33;43m\"\u001b[39;49m\u001b[33;43mcpu\u001b[39;49m\u001b[33;43m\"\u001b[39;49m\u001b[43m)\u001b[49m\u001b[43m,\u001b[49m\u001b[43m \u001b[49m\u001b[43malpha\u001b[49m\u001b[43m=\u001b[49m\u001b[32;43m1.0\u001b[39;49m\n\u001b[32m    603\u001b[39m \u001b[43m    \u001b[49m\u001b[43m)\u001b[49m\n\u001b[32m    604\u001b[39m \u001b[38;5;28;01melse\u001b[39;00m:\n\u001b[32m    605\u001b[39m     torch._foreach_add_(device_state_steps, \u001b[32m1\u001b[39m)\n",
      "\u001b[31mKeyboardInterrupt\u001b[39m: "
     ]
    }
   ],
   "source": [
    "# safe_train_noextra(weekyDataLabel, weekyData[0], MobileOneConfidence, savePath = \"./allModel\", extraName = extraName)\n",
    "# safe_train_noextra(weekyDataLabel, weekyData[1], MobileOneConfidence, savePath = \"./allModel\", extraName = extraName)\n",
    "# safe_train_noextra(weekyDataLabel, weekyData[2], MobileOneConfidence, savePath = \"./allModel\", extraName = extraName)\n",
    "# safe_train_noextra(weekyDataLabel, weekyData[3], MobileOneConfidence, savePath = \"./allModel\", extraName = extraName)\n",
    "# safe_train_noextra(weekyDataLabel, weekyData[4], MobileOneConfidence, savePath = \"./allModel\", extraName = extraName)\n",
    "# safe_train_noextra(resultDataLabel, resultData[0], MobileOneConfidence, savePath = \"./allModel\", extraName = extraName)\n",
    "# safe_train_noextra(resultDataLabel, resultData[1], MobileOneConfidence, savePath = \"./allModel\", extraName = extraName)\n",
    "# safe_train_noextra(resultDataLabel, resultData[2], MobileOneConfidence, savePath = \"./allModel\", extraName = extraName)\n",
    "# safe_train_noextra(resultDataLabel, resultData[3], MobileOneConfidence, savePath = \"./allModel\", extraName = extraName)\n",
    "# safe_train_noextra(resultDataLabel, resultData[4], MobileOneConfidence, savePath = \"./allModel\", extraName = extraName)\n",
    "# safe_train_noextra(resultDataLabel, resultData[5], MobileOneConfidence, savePath = \"./allModel\", extraName = extraName)\n",
    "safe_train_noextra(resultDataLabel, resultData[6], MobileOneConfidence, savePath = \"./allModel\", extraName = extraName)\n",
    "safe_train_noextra(resultDataLabel, resultData[7], MobileOneConfidence, savePath = \"./allModel\", extraName = extraName)\n",
    "safe_train_noextra(dateDataLabelAll, \"days\", MobileOneConfidence, savePath = \"./allModel\", extraName = \"noERR\")\n",
    "safe_train_noextra(dateDataLabelFrom3, \"days\", MobileOneConfidence, savePath = \"./allModel\", extraName = \"from3\")\n",
    "safe_train_noextra(dateDataLabelFrom4, \"days\", MobileOneConfidence, savePath = \"./allModel\", extraName = \"from4\")"
   ]
  },
  {
   "cell_type": "code",
   "execution_count": null,
   "metadata": {},
   "outputs": [],
   "source": [
    "safe_train_withextra(weekyDataLabel, \"days\", \"SPAD\", MobileOneConfidenceAddoneextrainput, savePath = \"./allModelExtraInput\", extraName = extraName)\n",
    "safe_train_withextra(weekyDataLabel, \"days\", \"LAI\", MobileOneConfidenceAddoneextrainput, savePath = \"./allModelExtraInput\", extraName = extraName)\n",
    "safe_train_withextra(weekyDataLabel, \"SPAD\", \"LAI\", MobileOneConfidenceAddoneextrainput, savePath = \"./allModelExtraInput\", extraName = extraName)\n",
    "safe_train_withextra(weekyDataLabel, \"SPAD\", \"Height\", MobileOneConfidenceAddoneextrainput, savePath = \"./allModelExtraInput\", extraName = extraName)\n",
    "safe_train_withextra(weekyDataLabel, \"days\", \"totEarNum\", MobileOneConfidenceAddoneextrainput, savePath = \"./allModelExtraInput\", extraName = extraName)\n",
    "safe_train_withextra(weekyDataLabel, \"days\", \"totalSeedNum\", MobileOneConfidenceAddoneextrainput, savePath = \"./allModelExtraInput\", extraName = extraName)\n",
    "safe_train_withextra(weekyDataLabel, \"totEarNum\", \"totEarWeight\", MobileOneConfidenceAddoneextrainput, savePath = \"./allModelExtraInput\", extraName = extraName)\n",
    "safe_train_withextra(weekyDataLabel, \"totEarWeight\", \"totEarNum\", MobileOneConfidenceAddoneextrainput, savePath = \"./allModelExtraInput\", extraName = extraName)\n",
    "safe_train_withextra(weekyDataLabel, \"totalSeedNum\", \"totalSeedWeightBeforeDry\", MobileOneConfidenceAddoneextrainput, savePath = \"./allModelExtraInput\", extraName = extraName)\n",
    "safe_train_withextra(weekyDataLabel, \"totalSeedNum\", \"totalSeedWeightAfterDry\", MobileOneConfidenceAddoneextrainput, savePath = \"./allModelExtraInput\", extraName = extraName)"
   ]
  },
  {
   "cell_type": "code",
   "execution_count": null,
   "metadata": {},
   "outputs": [],
   "source": [
    "safe_train_withextra(weekyDataLabel, [\"days\", \"SPAD\"], \"LAI\", MobileOneConfidenceAddtwoextrainput, savePath = \"./allModelExtraInput\", extraName = extraName)\n",
    "safe_train_withextra(weekyDataLabel, [\"days\", \"LAI\"], \"SPAD\", MobileOneConfidenceAddtwoextrainput, savePath = \"./allModelExtraInput\", extraName = extraName)\n",
    "safe_train_withextra(weekyDataLabel, [\"SPAD\", \"LAI\"], \"Height\", MobileOneConfidenceAddtwoextrainput, savePath = \"./allModelExtraInput\", extraName = extraName)\n",
    "safe_train_withextra(weekyDataLabel, [\"days\", \"SPAD\"], \"Height\", MobileOneConfidenceAddtwoextrainput, savePath = \"./allModelExtraInput\", extraName = extraName)"
   ]
  },
  {
   "cell_type": "markdown",
   "metadata": {},
   "source": [
    "MaxViT"
   ]
  },
  {
   "cell_type": "code",
   "execution_count": null,
   "metadata": {},
   "outputs": [],
   "source": [
    "safe_train_noextra(weekyDataLabel, weekyData[0], MaxViTConfidenceModel, savePath = \"./allModel\", extraName = extraName)\n",
    "safe_train_noextra(weekyDataLabel, weekyData[1], MaxViTConfidenceModel, savePath = \"./allModel\", extraName = extraName)\n",
    "safe_train_noextra(weekyDataLabel, weekyData[2], MaxViTConfidenceModel, savePath = \"./allModel\", extraName = extraName)\n",
    "safe_train_noextra(weekyDataLabel, weekyData[3], MaxViTConfidenceModel, savePath = \"./allModel\", extraName = extraName)\n",
    "safe_train_noextra(weekyDataLabel, weekyData[4], MaxViTConfidenceModel, savePath = \"./allModel\", extraName = extraName)\n",
    "safe_train_noextra(resultDataLabel, resultData[0], MaxViTConfidenceModel, savePath = \"./allModel\", extraName = extraName)\n",
    "safe_train_noextra(resultDataLabel, resultData[1], MaxViTConfidenceModel, savePath = \"./allModel\", extraName = extraName)\n",
    "safe_train_noextra(resultDataLabel, resultData[2], MaxViTConfidenceModel, savePath = \"./allModel\", extraName = extraName)\n",
    "safe_train_noextra(resultDataLabel, resultData[3], MaxViTConfidenceModel, savePath = \"./allModel\", extraName = extraName)\n",
    "safe_train_noextra(resultDataLabel, resultData[4], MaxViTConfidenceModel, savePath = \"./allModel\", extraName = extraName)\n",
    "safe_train_noextra(resultDataLabel, resultData[5], MaxViTConfidenceModel, savePath = \"./allModel\", extraName = extraName)\n",
    "safe_train_noextra(resultDataLabel, resultData[6], MaxViTConfidenceModel, savePath = \"./allModel\", extraName = extraName)\n",
    "safe_train_noextra(resultDataLabel, resultData[7], MaxViTConfidenceModel, savePath = \"./allModel\", extraName = extraName)\n",
    "safe_train_noextra(dateDataLabelAll, \"days\", MaxViTConfidenceModel, savePath = \"./allModel\", extraName = \"noERR\")\n",
    "safe_train_noextra(dateDataLabelFrom3, \"days\", MaxViTConfidenceModel, savePath = \"./allModel\", extraName = \"from3\")\n",
    "safe_train_noextra(dateDataLabelFrom4, \"days\", MaxViTConfidenceModel, savePath = \"./allModel\", extraName = \"from4\")"
   ]
  },
  {
   "cell_type": "code",
   "execution_count": null,
   "metadata": {},
   "outputs": [],
   "source": [
    "safe_train_withextra(weekyDataLabel, \"days\", \"SPAD\", MaxViTConfidenceAddoneextrainput, savePath = \"./allModelExtraInput\", extraName = extraName)\n",
    "safe_train_withextra(weekyDataLabel, \"days\", \"LAI\", MaxViTConfidenceAddoneextrainput, savePath = \"./allModelExtraInput\", extraName = extraName)\n",
    "safe_train_withextra(weekyDataLabel, \"SPAD\", \"LAI\", MaxViTConfidenceAddoneextrainput, savePath = \"./allModelExtraInput\", extraName = extraName)\n",
    "safe_train_withextra(weekyDataLabel, \"SPAD\", \"Height\", MaxViTConfidenceAddoneextrainput, savePath = \"./allModelExtraInput\", extraName = extraName)\n",
    "safe_train_withextra(weekyDataLabel, \"days\", \"totEarNum\", MaxViTConfidenceAddoneextrainput, savePath = \"./allModelExtraInput\", extraName = extraName)\n",
    "safe_train_withextra(weekyDataLabel, \"days\", \"totalSeedNum\", MaxViTConfidenceAddoneextrainput, savePath = \"./allModelExtraInput\", extraName = extraName)\n",
    "safe_train_withextra(weekyDataLabel, \"totEarNum\", \"totEarWeight\", MaxViTConfidenceAddoneextrainput, savePath = \"./allModelExtraInput\", extraName = extraName)\n",
    "safe_train_withextra(weekyDataLabel, \"totEarWeight\", \"totEarNum\", MaxViTConfidenceAddoneextrainput, savePath = \"./allModelExtraInput\", extraName = extraName)\n",
    "safe_train_withextra(weekyDataLabel, \"totalSeedNum\", \"totalSeedWeightBeforeDry\", MaxViTConfidenceAddoneextrainput, savePath = \"./allModelExtraInput\", extraName = extraName)\n",
    "safe_train_withextra(weekyDataLabel, \"totalSeedNum\", \"totalSeedWeightAfterDry\", MaxViTConfidenceAddoneextrainput, savePath = \"./allModelExtraInput\", extraName = extraName)"
   ]
  },
  {
   "cell_type": "code",
   "execution_count": null,
   "metadata": {},
   "outputs": [],
   "source": [
    "safe_train_withextra(weekyDataLabel, [\"days\", \"SPAD\"], \"LAI\", MaxViTConfidenceAddtwoextrainput, savePath = \"./allModelExtraInput\", extraName = extraName)\n",
    "safe_train_withextra(weekyDataLabel, [\"days\", \"LAI\"], \"SPAD\", MaxViTConfidenceAddtwoextrainput, savePath = \"./allModelExtraInput\", extraName = extraName)\n",
    "safe_train_withextra(weekyDataLabel, [\"SPAD\", \"LAI\"], \"Height\", MaxViTConfidenceAddtwoextrainput, savePath = \"./allModelExtraInput\", extraName = extraName)\n",
    "safe_train_withextra(weekyDataLabel, [\"days\", \"SPAD\"], \"Height\", MaxViTConfidenceAddtwoextrainput, savePath = \"./allModelExtraInput\", extraName = extraName)"
   ]
  },
  {
   "cell_type": "markdown",
   "metadata": {},
   "source": [
    "CoAtNet"
   ]
  },
  {
   "cell_type": "code",
   "execution_count": null,
   "metadata": {},
   "outputs": [],
   "source": [
    "safe_train_noextra(weekyDataLabel, weekyData[0], CoAtNetConfidenceModel, savePath = \"./allModel\", extraName = extraName)\n",
    "safe_train_noextra(weekyDataLabel, weekyData[1], CoAtNetConfidenceModel, savePath = \"./allModel\", extraName = extraName)\n",
    "safe_train_noextra(weekyDataLabel, weekyData[2], CoAtNetConfidenceModel, savePath = \"./allModel\", extraName = extraName)\n",
    "safe_train_noextra(weekyDataLabel, weekyData[3], CoAtNetConfidenceModel, savePath = \"./allModel\", extraName = extraName)\n",
    "safe_train_noextra(weekyDataLabel, weekyData[4], CoAtNetConfidenceModel, savePath = \"./allModel\", extraName = extraName)\n",
    "safe_train_noextra(resultDataLabel, resultData[0], CoAtNetConfidenceModel, savePath = \"./allModel\", extraName = extraName)\n",
    "safe_train_noextra(resultDataLabel, resultData[1], CoAtNetConfidenceModel, savePath = \"./allModel\", extraName = extraName)\n",
    "safe_train_noextra(resultDataLabel, resultData[2], CoAtNetConfidenceModel, savePath = \"./allModel\", extraName = extraName)\n",
    "safe_train_noextra(resultDataLabel, resultData[3], CoAtNetConfidenceModel, savePath = \"./allModel\", extraName = extraName)\n",
    "safe_train_noextra(resultDataLabel, resultData[4], CoAtNetConfidenceModel, savePath = \"./allModel\", extraName = extraName)\n",
    "safe_train_noextra(resultDataLabel, resultData[5], CoAtNetConfidenceModel, savePath = \"./allModel\", extraName = extraName)\n",
    "safe_train_noextra(resultDataLabel, resultData[6], CoAtNetConfidenceModel, savePath = \"./allModel\", extraName = extraName)\n",
    "safe_train_noextra(resultDataLabel, resultData[7], CoAtNetConfidenceModel, savePath = \"./allModel\", extraName = extraName)\n",
    "safe_train_noextra(dateDataLabelAll, \"days\", CoAtNetConfidenceModel, savePath = \"./allModel\", extraName = \"noERR\")\n",
    "safe_train_noextra(dateDataLabelFrom3, \"days\", CoAtNetConfidenceModel, savePath = \"./allModel\", extraName = \"from3\")\n",
    "safe_train_noextra(dateDataLabelFrom4, \"days\", CoAtNetConfidenceModel, savePath = \"./allModel\", extraName = \"from4\")"
   ]
  },
  {
   "cell_type": "code",
   "execution_count": null,
   "metadata": {},
   "outputs": [],
   "source": [
    "safe_train_withextra(weekyDataLabel, \"days\", \"SPAD\", CoAtNetConfidenceAddOneExtraInput, savePath = \"./allModelExtraInput\", extraName = extraName)\n",
    "safe_train_withextra(weekyDataLabel, \"days\", \"LAI\", CoAtNetConfidenceAddOneExtraInput, savePath = \"./allModelExtraInput\", extraName = extraName)\n",
    "safe_train_withextra(weekyDataLabel, \"SPAD\", \"LAI\", CoAtNetConfidenceAddOneExtraInput, savePath = \"./allModelExtraInput\", extraName = extraName)\n",
    "safe_train_withextra(weekyDataLabel, \"SPAD\", \"Height\", CoAtNetConfidenceAddOneExtraInput, savePath = \"./allModelExtraInput\", extraName = extraName)\n",
    "safe_train_withextra(weekyDataLabel, \"days\", \"totEarNum\", CoAtNetConfidenceAddOneExtraInput, savePath = \"./allModelExtraInput\", extraName = extraName)\n",
    "safe_train_withextra(weekyDataLabel, \"days\", \"totalSeedNum\", CoAtNetConfidenceAddOneExtraInput, savePath = \"./allModelExtraInput\", extraName = extraName)\n",
    "safe_train_withextra(weekyDataLabel, \"totEarNum\", \"totEarWeight\", CoAtNetConfidenceAddOneExtraInput, savePath = \"./allModelExtraInput\", extraName = extraName)\n",
    "safe_train_withextra(weekyDataLabel, \"totEarWeight\", \"totEarNum\", CoAtNetConfidenceAddOneExtraInput, savePath = \"./allModelExtraInput\", extraName = extraName)\n",
    "safe_train_withextra(weekyDataLabel, \"totalSeedNum\", \"totalSeedWeightBeforeDry\", CoAtNetConfidenceAddOneExtraInput, savePath = \"./allModelExtraInput\", extraName = extraName)\n",
    "safe_train_withextra(weekyDataLabel, \"totalSeedNum\", \"totalSeedWeightAfterDry\", CoAtNetConfidenceAddOneExtraInput, savePath = \"./allModelExtraInput\", extraName = extraName)"
   ]
  },
  {
   "cell_type": "code",
   "execution_count": null,
   "metadata": {},
   "outputs": [],
   "source": [
    "safe_train_withextra(weekyDataLabel, [\"days\", \"SPAD\"], \"LAI\", CoAtNetConfidenceAddTwoExtraInput, savePath = \"./allModelExtraInput\", extraName = extraName)\n",
    "safe_train_withextra(weekyDataLabel, [\"days\", \"LAI\"], \"SPAD\", CoAtNetConfidenceAddTwoExtraInput, savePath = \"./allModelExtraInput\", extraName = extraName)\n",
    "safe_train_withextra(weekyDataLabel, [\"SPAD\", \"LAI\"], \"Height\", CoAtNetConfidenceAddTwoExtraInput, savePath = \"./allModelExtraInput\", extraName = extraName)\n",
    "safe_train_withextra(weekyDataLabel, [\"days\", \"SPAD\"], \"Height\", CoAtNetConfidenceAddTwoExtraInput, savePath = \"./allModelExtraInput\", extraName = extraName)"
   ]
  },
  {
   "cell_type": "markdown",
   "metadata": {},
   "source": [
    "FocalNet"
   ]
  },
  {
   "cell_type": "code",
   "execution_count": null,
   "metadata": {},
   "outputs": [],
   "source": [
    "safe_train_noextra(weekyDataLabel, weekyData[0], FocalNetConfidenceModel, savePath = \"./allModel\", extraName = extraName)\n",
    "safe_train_noextra(weekyDataLabel, weekyData[1], FocalNetConfidenceModel, savePath = \"./allModel\", extraName = extraName)\n",
    "safe_train_noextra(weekyDataLabel, weekyData[2], FocalNetConfidenceModel, savePath = \"./allModel\", extraName = extraName)\n",
    "safe_train_noextra(weekyDataLabel, weekyData[3], FocalNetConfidenceModel, savePath = \"./allModel\", extraName = extraName)\n",
    "safe_train_noextra(weekyDataLabel, weekyData[4], FocalNetConfidenceModel, savePath = \"./allModel\", extraName = extraName)\n",
    "safe_train_noextra(resultDataLabel, resultData[0], FocalNetConfidenceModel, savePath = \"./allModel\", extraName = extraName)\n",
    "safe_train_noextra(resultDataLabel, resultData[1], FocalNetConfidenceModel, savePath = \"./allModel\", extraName = extraName)\n",
    "safe_train_noextra(resultDataLabel, resultData[2], FocalNetConfidenceModel, savePath = \"./allModel\", extraName = extraName)\n",
    "safe_train_noextra(resultDataLabel, resultData[3], FocalNetConfidenceModel, savePath = \"./allModel\", extraName = extraName)\n",
    "safe_train_noextra(resultDataLabel, resultData[4], FocalNetConfidenceModel, savePath = \"./allModel\", extraName = extraName)\n",
    "safe_train_noextra(resultDataLabel, resultData[5], FocalNetConfidenceModel, savePath = \"./allModel\", extraName = extraName)\n",
    "safe_train_noextra(resultDataLabel, resultData[6], FocalNetConfidenceModel, savePath = \"./allModel\", extraName = extraName)\n",
    "safe_train_noextra(resultDataLabel, resultData[7], FocalNetConfidenceModel, savePath = \"./allModel\", extraName = extraName)\n",
    "safe_train_noextra(dateDataLabelAll, \"days\", FocalNetConfidenceModel, savePath = \"./allModel\", extraName = \"noERR\")\n",
    "safe_train_noextra(dateDataLabelFrom3, \"days\", FocalNetConfidenceModel, savePath = \"./allModel\", extraName = \"from3\")\n",
    "safe_train_noextra(dateDataLabelFrom4, \"days\", FocalNetConfidenceModel, savePath = \"./allModel\", extraName = \"from4\")"
   ]
  },
  {
   "cell_type": "code",
   "execution_count": null,
   "metadata": {},
   "outputs": [],
   "source": [
    "safe_train_withextra(weekyDataLabel, \"days\", \"SPAD\", FocalNetConfidenceAddoneextrainput, savePath = \"./allModelExtraInput\", extraName = extraName)\n",
    "safe_train_withextra(weekyDataLabel, \"days\", \"LAI\", FocalNetConfidenceAddoneextrainput, savePath = \"./allModelExtraInput\", extraName = extraName)\n",
    "safe_train_withextra(weekyDataLabel, \"SPAD\", \"LAI\", FocalNetConfidenceAddoneextrainput, savePath = \"./allModelExtraInput\", extraName = extraName)\n",
    "safe_train_withextra(weekyDataLabel, \"SPAD\", \"Height\", FocalNetConfidenceAddoneextrainput, savePath = \"./allModelExtraInput\", extraName = extraName)\n",
    "safe_train_withextra(weekyDataLabel, \"days\", \"totEarNum\", FocalNetConfidenceAddoneextrainput, savePath = \"./allModelExtraInput\", extraName = extraName)\n",
    "safe_train_withextra(weekyDataLabel, \"days\", \"totalSeedNum\", FocalNetConfidenceAddoneextrainput, savePath = \"./allModelExtraInput\", extraName = extraName)\n",
    "safe_train_withextra(weekyDataLabel, \"totEarNum\", \"totEarWeight\", FocalNetConfidenceAddoneextrainput, savePath = \"./allModelExtraInput\", extraName = extraName)\n",
    "safe_train_withextra(weekyDataLabel, \"totEarWeight\", \"totEarNum\", FocalNetConfidenceAddoneextrainput, savePath = \"./allModelExtraInput\", extraName = extraName)\n",
    "safe_train_withextra(weekyDataLabel, \"totalSeedNum\", \"totalSeedWeightBeforeDry\", FocalNetConfidenceAddoneextrainput, savePath = \"./allModelExtraInput\", extraName = extraName)\n",
    "safe_train_withextra(weekyDataLabel, \"totalSeedNum\", \"totalSeedWeightAfterDry\", FocalNetConfidenceAddoneextrainput, savePath = \"./allModelExtraInput\", extraName = extraName)"
   ]
  },
  {
   "cell_type": "code",
   "execution_count": null,
   "metadata": {},
   "outputs": [],
   "source": [
    "safe_train_withextra(weekyDataLabel, [\"days\", \"SPAD\"], \"LAI\", FocalNetConfidenceAddtwoextrainput, savePath = \"./allModelExtraInput\", extraName = extraName)\n",
    "safe_train_withextra(weekyDataLabel, [\"days\", \"LAI\"], \"SPAD\", FocalNetConfidenceAddtwoextrainput, savePath = \"./allModelExtraInput\", extraName = extraName)\n",
    "safe_train_withextra(weekyDataLabel, [\"SPAD\", \"LAI\"], \"Height\", FocalNetConfidenceAddtwoextrainput, savePath = \"./allModelExtraInput\", extraName = extraName)\n",
    "safe_train_withextra(weekyDataLabel, [\"days\", \"SPAD\"], \"Height\", FocalNetConfidenceAddtwoextrainput, savePath = \"./allModelExtraInput\", extraName = extraName)"
   ]
  },
  {
   "cell_type": "markdown",
   "metadata": {},
   "source": [
    "SwinV2"
   ]
  },
  {
   "cell_type": "code",
   "execution_count": null,
   "metadata": {},
   "outputs": [],
   "source": [
    "safe_train_noextra(weekyDataLabel, weekyData[0], SwinV2ConfidenceModel, savePath = \"./allModel\", extraName = extraName)\n",
    "safe_train_noextra(weekyDataLabel, weekyData[1], SwinV2ConfidenceModel, savePath = \"./allModel\", extraName = extraName)\n",
    "safe_train_noextra(weekyDataLabel, weekyData[2], SwinV2ConfidenceModel, savePath = \"./allModel\", extraName = extraName)\n",
    "safe_train_noextra(weekyDataLabel, weekyData[3], SwinV2ConfidenceModel, savePath = \"./allModel\", extraName = extraName)\n",
    "safe_train_noextra(weekyDataLabel, weekyData[4], SwinV2ConfidenceModel, savePath = \"./allModel\", extraName = extraName)\n",
    "safe_train_noextra(resultDataLabel, resultData[0], SwinV2ConfidenceModel, savePath = \"./allModel\", extraName = extraName)\n",
    "safe_train_noextra(resultDataLabel, resultData[1], SwinV2ConfidenceModel, savePath = \"./allModel\", extraName = extraName)\n",
    "safe_train_noextra(resultDataLabel, resultData[2], SwinV2ConfidenceModel, savePath = \"./allModel\", extraName = extraName)\n",
    "safe_train_noextra(resultDataLabel, resultData[3], SwinV2ConfidenceModel, savePath = \"./allModel\", extraName = extraName)\n",
    "safe_train_noextra(resultDataLabel, resultData[4], SwinV2ConfidenceModel, savePath = \"./allModel\", extraName = extraName)\n",
    "safe_train_noextra(resultDataLabel, resultData[5], SwinV2ConfidenceModel, savePath = \"./allModel\", extraName = extraName)\n",
    "safe_train_noextra(resultDataLabel, resultData[6], SwinV2ConfidenceModel, savePath = \"./allModel\", extraName = extraName)\n",
    "safe_train_noextra(resultDataLabel, resultData[7], SwinV2ConfidenceModel, savePath = \"./allModel\", extraName = extraName)\n",
    "safe_train_noextra(dateDataLabelAll, \"days\", SwinV2ConfidenceModel, savePath = \"./allModel\", extraName = \"noERR\")\n",
    "safe_train_noextra(dateDataLabelFrom3, \"days\", SwinV2ConfidenceModel, savePath = \"./allModel\", extraName = \"from3\")\n",
    "safe_train_noextra(dateDataLabelFrom4, \"days\", SwinV2ConfidenceModel, savePath = \"./allModel\", extraName = \"from4\")"
   ]
  },
  {
   "cell_type": "code",
   "execution_count": null,
   "metadata": {},
   "outputs": [],
   "source": [
    "safe_train_withextra(weekyDataLabel, \"days\", \"SPAD\", SwinV2ConfidenceAddOneExtraInput, savePath = \"./allModelExtraInput\", extraName = extraName)\n",
    "safe_train_withextra(weekyDataLabel, \"days\", \"LAI\", SwinV2ConfidenceAddOneExtraInput, savePath = \"./allModelExtraInput\", extraName = extraName)\n",
    "safe_train_withextra(weekyDataLabel, \"SPAD\", \"LAI\", SwinV2ConfidenceAddOneExtraInput, savePath = \"./allModelExtraInput\", extraName = extraName)\n",
    "safe_train_withextra(weekyDataLabel, \"SPAD\", \"Height\", SwinV2ConfidenceAddOneExtraInput, savePath = \"./allModelExtraInput\", extraName = extraName)\n",
    "safe_train_withextra(weekyDataLabel, \"days\", \"totEarNum\", SwinV2ConfidenceAddOneExtraInput, savePath = \"./allModelExtraInput\", extraName = extraName)\n",
    "safe_train_withextra(weekyDataLabel, \"days\", \"totalSeedNum\", SwinV2ConfidenceAddOneExtraInput, savePath = \"./allModelExtraInput\", extraName = extraName)\n",
    "safe_train_withextra(weekyDataLabel, \"totEarNum\", \"totEarWeight\", SwinV2ConfidenceAddOneExtraInput, savePath = \"./allModelExtraInput\", extraName = extraName)\n",
    "safe_train_withextra(weekyDataLabel, \"totEarWeight\", \"totEarNum\", SwinV2ConfidenceAddOneExtraInput, savePath = \"./allModelExtraInput\", extraName = extraName)\n",
    "safe_train_withextra(weekyDataLabel, \"totalSeedNum\", \"totalSeedWeightBeforeDry\", SwinV2ConfidenceAddOneExtraInput, savePath = \"./allModelExtraInput\", extraName = extraName)\n",
    "safe_train_withextra(weekyDataLabel, \"totalSeedNum\", \"totalSeedWeightAfterDry\", SwinV2ConfidenceAddOneExtraInput, savePath = \"./allModelExtraInput\", extraName = extraName)"
   ]
  },
  {
   "cell_type": "code",
   "execution_count": null,
   "metadata": {},
   "outputs": [],
   "source": [
    "safe_train_withextra(weekyDataLabel, [\"days\", \"SPAD\"], \"LAI\", SwinV2ConfidenceAddTwoExtraInput, savePath = \"./allModelExtraInput\", extraName = extraName)\n",
    "safe_train_withextra(weekyDataLabel, [\"days\", \"LAI\"], \"SPAD\", SwinV2ConfidenceAddTwoExtraInput, savePath = \"./allModelExtraInput\", extraName = extraName)\n",
    "safe_train_withextra(weekyDataLabel, [\"SPAD\", \"LAI\"], \"Height\", SwinV2ConfidenceAddTwoExtraInput, savePath = \"./allModelExtraInput\", extraName = extraName)\n",
    "safe_train_withextra(weekyDataLabel, [\"days\", \"SPAD\"], \"Height\", SwinV2ConfidenceAddTwoExtraInput, savePath = \"./allModelExtraInput\", extraName = extraName)"
   ]
  },
  {
   "cell_type": "markdown",
   "metadata": {},
   "source": [
    "EfficientFormer"
   ]
  },
  {
   "cell_type": "code",
   "execution_count": null,
   "metadata": {},
   "outputs": [],
   "source": [
    "safe_train_noextra(weekyDataLabel, weekyData[0], EfficientFormerConfidenceModel, savePath = \"./allModel\", extraName = extraName)\n",
    "safe_train_noextra(weekyDataLabel, weekyData[1], EfficientFormerConfidenceModel, savePath = \"./allModel\", extraName = extraName)\n",
    "safe_train_noextra(weekyDataLabel, weekyData[2], EfficientFormerConfidenceModel, savePath = \"./allModel\", extraName = extraName)\n",
    "safe_train_noextra(weekyDataLabel, weekyData[3], EfficientFormerConfidenceModel, savePath = \"./allModel\", extraName = extraName)\n",
    "safe_train_noextra(weekyDataLabel, weekyData[4], EfficientFormerConfidenceModel, savePath = \"./allModel\", extraName = extraName)\n",
    "safe_train_noextra(resultDataLabel, resultData[0], EfficientFormerConfidenceModel, savePath = \"./allModel\", extraName = extraName)\n",
    "safe_train_noextra(resultDataLabel, resultData[1], EfficientFormerConfidenceModel, savePath = \"./allModel\", extraName = extraName)\n",
    "safe_train_noextra(resultDataLabel, resultData[2], EfficientFormerConfidenceModel, savePath = \"./allModel\", extraName = extraName)\n",
    "safe_train_noextra(resultDataLabel, resultData[3], EfficientFormerConfidenceModel, savePath = \"./allModel\", extraName = extraName)\n",
    "safe_train_noextra(resultDataLabel, resultData[4], EfficientFormerConfidenceModel, savePath = \"./allModel\", extraName = extraName)\n",
    "safe_train_noextra(resultDataLabel, resultData[5], EfficientFormerConfidenceModel, savePath = \"./allModel\", extraName = extraName)\n",
    "safe_train_noextra(resultDataLabel, resultData[6], EfficientFormerConfidenceModel, savePath = \"./allModel\", extraName = extraName)\n",
    "safe_train_noextra(resultDataLabel, resultData[7], EfficientFormerConfidenceModel, savePath = \"./allModel\", extraName = extraName)\n",
    "safe_train_noextra(dateDataLabelAll, \"days\", EfficientFormerConfidenceModel, savePath = \"./allModel\", extraName = \"noERR\")\n",
    "safe_train_noextra(dateDataLabelFrom3, \"days\", EfficientFormerConfidenceModel, savePath = \"./allModel\", extraName = \"from3\")\n",
    "safe_train_noextra(dateDataLabelFrom4, \"days\", EfficientFormerConfidenceModel, savePath = \"./allModel\", extraName = \"from4\")"
   ]
  },
  {
   "cell_type": "code",
   "execution_count": null,
   "metadata": {},
   "outputs": [],
   "source": [
    "safe_train_withextra(weekyDataLabel, \"days\", \"SPAD\", EfficientFormerConfidenceAddOneExtraInput, savePath = \"./allModelExtraInput\", extraName = extraName)\n",
    "safe_train_withextra(weekyDataLabel, \"days\", \"LAI\", EfficientFormerConfidenceAddOneExtraInput, savePath = \"./allModelExtraInput\", extraName = extraName)\n",
    "safe_train_withextra(weekyDataLabel, \"SPAD\", \"LAI\", EfficientFormerConfidenceAddOneExtraInput, savePath = \"./allModelExtraInput\", extraName = extraName)\n",
    "safe_train_withextra(weekyDataLabel, \"SPAD\", \"Height\", EfficientFormerConfidenceAddOneExtraInput, savePath = \"./allModelExtraInput\", extraName = extraName)\n",
    "safe_train_withextra(weekyDataLabel, \"days\", \"totEarNum\", EfficientFormerConfidenceAddOneExtraInput, savePath = \"./allModelExtraInput\", extraName = extraName)\n",
    "safe_train_withextra(weekyDataLabel, \"days\", \"totalSeedNum\", EfficientFormerConfidenceAddOneExtraInput, savePath = \"./allModelExtraInput\", extraName = extraName)\n",
    "safe_train_withextra(weekyDataLabel, \"totEarNum\", \"totEarWeight\", EfficientFormerConfidenceAddOneExtraInput, savePath = \"./allModelExtraInput\", extraName = extraName)\n",
    "safe_train_withextra(weekyDataLabel, \"totEarWeight\", \"totEarNum\", EfficientFormerConfidenceAddOneExtraInput, savePath = \"./allModelExtraInput\", extraName = extraName)\n",
    "safe_train_withextra(weekyDataLabel, \"totalSeedNum\", \"totalSeedWeightBeforeDry\", EfficientFormerConfidenceAddOneExtraInput, savePath = \"./allModelExtraInput\", extraName = extraName)\n",
    "safe_train_withextra(weekyDataLabel, \"totalSeedNum\", \"totalSeedWeightAfterDry\", EfficientFormerConfidenceAddOneExtraInput, savePath = \"./allModelExtraInput\", extraName = extraName)"
   ]
  },
  {
   "cell_type": "code",
   "execution_count": null,
   "metadata": {},
   "outputs": [],
   "source": [
    "safe_train_withextra(weekyDataLabel, [\"days\", \"SPAD\"], \"LAI\", EfficientFormerConfidenceAddTwoExtraInput, savePath = \"./allModelExtraInput\", extraName = extraName)\n",
    "safe_train_withextra(weekyDataLabel, [\"days\", \"LAI\"], \"SPAD\", EfficientFormerConfidenceAddTwoExtraInput, savePath = \"./allModelExtraInput\", extraName = extraName)\n",
    "safe_train_withextra(weekyDataLabel, [\"SPAD\", \"LAI\"], \"Height\", EfficientFormerConfidenceAddTwoExtraInput, savePath = \"./allModelExtraInput\", extraName = extraName)\n",
    "safe_train_withextra(weekyDataLabel, [\"days\", \"SPAD\"], \"Height\", EfficientFormerConfidenceAddTwoExtraInput, savePath = \"./allModelExtraInput\", extraName = extraName)"
   ]
  },
  {
   "cell_type": "markdown",
   "metadata": {},
   "source": [
    "PoolFormer"
   ]
  },
  {
   "cell_type": "code",
   "execution_count": null,
   "metadata": {},
   "outputs": [],
   "source": [
    "safe_train_noextra(weekyDataLabel, weekyData[0], PoolFormerConfidenceModel, savePath = \"./allModel\", extraName = extraName)\n",
    "safe_train_noextra(weekyDataLabel, weekyData[1], PoolFormerConfidenceModel, savePath = \"./allModel\", extraName = extraName)\n",
    "safe_train_noextra(weekyDataLabel, weekyData[2], PoolFormerConfidenceModel, savePath = \"./allModel\", extraName = extraName)\n",
    "safe_train_noextra(weekyDataLabel, weekyData[3], PoolFormerConfidenceModel, savePath = \"./allModel\", extraName = extraName)\n",
    "safe_train_noextra(weekyDataLabel, weekyData[4], PoolFormerConfidenceModel, savePath = \"./allModel\", extraName = extraName)\n",
    "safe_train_noextra(resultDataLabel, resultData[0], PoolFormerConfidenceModel, savePath = \"./allModel\", extraName = extraName)\n",
    "safe_train_noextra(resultDataLabel, resultData[1], PoolFormerConfidenceModel, savePath = \"./allModel\", extraName = extraName)\n",
    "safe_train_noextra(resultDataLabel, resultData[2], PoolFormerConfidenceModel, savePath = \"./allModel\", extraName = extraName)\n",
    "safe_train_noextra(resultDataLabel, resultData[3], PoolFormerConfidenceModel, savePath = \"./allModel\", extraName = extraName)\n",
    "safe_train_noextra(resultDataLabel, resultData[4], PoolFormerConfidenceModel, savePath = \"./allModel\", extraName = extraName)\n",
    "safe_train_noextra(resultDataLabel, resultData[5], PoolFormerConfidenceModel, savePath = \"./allModel\", extraName = extraName)\n",
    "safe_train_noextra(resultDataLabel, resultData[6], PoolFormerConfidenceModel, savePath = \"./allModel\", extraName = extraName)\n",
    "safe_train_noextra(resultDataLabel, resultData[7], PoolFormerConfidenceModel, savePath = \"./allModel\", extraName = extraName)\n",
    "safe_train_noextra(dateDataLabelAll, \"days\", PoolFormerConfidenceModel, savePath = \"./allModel\", extraName = \"noERR\")\n",
    "safe_train_noextra(dateDataLabelFrom3, \"days\", PoolFormerConfidenceModel, savePath = \"./allModel\", extraName = \"from3\")\n",
    "safe_train_noextra(dateDataLabelFrom4, \"days\", PoolFormerConfidenceModel, savePath = \"./allModel\", extraName = \"from4\")"
   ]
  },
  {
   "cell_type": "code",
   "execution_count": null,
   "metadata": {},
   "outputs": [],
   "source": [
    "safe_train_withextra(weekyDataLabel, \"days\", \"SPAD\", PoolFormerConfidenceAddOneExtraInput, savePath = \"./allModelExtraInput\", extraName = extraName)\n",
    "safe_train_withextra(weekyDataLabel, \"days\", \"LAI\", PoolFormerConfidenceAddOneExtraInput, savePath = \"./allModelExtraInput\", extraName = extraName)\n",
    "safe_train_withextra(weekyDataLabel, \"SPAD\", \"LAI\", PoolFormerConfidenceAddOneExtraInput, savePath = \"./allModelExtraInput\", extraName = extraName)\n",
    "safe_train_withextra(weekyDataLabel, \"SPAD\", \"Height\", PoolFormerConfidenceAddOneExtraInput, savePath = \"./allModelExtraInput\", extraName = extraName)\n",
    "safe_train_withextra(weekyDataLabel, \"days\", \"totEarNum\", PoolFormerConfidenceAddOneExtraInput, savePath = \"./allModelExtraInput\", extraName = extraName)\n",
    "safe_train_withextra(weekyDataLabel, \"days\", \"totalSeedNum\", PoolFormerConfidenceAddOneExtraInput, savePath = \"./allModelExtraInput\", extraName = extraName)\n",
    "safe_train_withextra(weekyDataLabel, \"totEarNum\", \"totEarWeight\", PoolFormerConfidenceAddOneExtraInput, savePath = \"./allModelExtraInput\", extraName = extraName)\n",
    "safe_train_withextra(weekyDataLabel, \"totEarWeight\", \"totEarNum\", PoolFormerConfidenceAddOneExtraInput, savePath = \"./allModelExtraInput\", extraName = extraName)\n",
    "safe_train_withextra(weekyDataLabel, \"totalSeedNum\", \"totalSeedWeightBeforeDry\", PoolFormerConfidenceAddOneExtraInput, savePath = \"./allModelExtraInput\", extraName = extraName)\n",
    "safe_train_withextra(weekyDataLabel, \"totalSeedNum\", \"totalSeedWeightAfterDry\", PoolFormerConfidenceAddOneExtraInput, savePath = \"./allModelExtraInput\", extraName = extraName)"
   ]
  },
  {
   "cell_type": "code",
   "execution_count": null,
   "metadata": {},
   "outputs": [],
   "source": [
    "safe_train_withextra(weekyDataLabel, [\"days\", \"SPAD\"], \"LAI\", PoolFormerConfidenceAddTwoExtraInput, savePath = \"./allModelExtraInput\", extraName = extraName)\n",
    "safe_train_withextra(weekyDataLabel, [\"days\", \"LAI\"], \"SPAD\", PoolFormerConfidenceAddTwoExtraInput, savePath = \"./allModelExtraInput\", extraName = extraName)\n",
    "safe_train_withextra(weekyDataLabel, [\"SPAD\", \"LAI\"], \"Height\", PoolFormerConfidenceAddTwoExtraInput, savePath = \"./allModelExtraInput\", extraName = extraName)\n",
    "safe_train_withextra(weekyDataLabel, [\"days\", \"SPAD\"], \"Height\", PoolFormerConfidenceAddTwoExtraInput, savePath = \"./allModelExtraInput\", extraName = extraName)"
   ]
  },
  {
   "cell_type": "code",
   "execution_count": null,
   "metadata": {},
   "outputs": [],
   "source": []
  }
 ],
 "metadata": {
  "kernelspec": {
   "display_name": "Python 3",
   "language": "python",
   "name": "python3"
  },
  "language_info": {
   "codemirror_mode": {
    "name": "ipython",
    "version": 3
   },
   "file_extension": ".py",
   "mimetype": "text/x-python",
   "name": "python",
   "nbconvert_exporter": "python",
   "pygments_lexer": "ipython3",
   "version": "3.10.10"
  }
 },
 "nbformat": 4,
 "nbformat_minor": 2
}
