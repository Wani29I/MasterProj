{
 "cells": [
  {
   "cell_type": "code",
   "execution_count": null,
   "metadata": {},
   "outputs": [],
   "source": [
    "import os\n",
    "import sys\n",
    "# Get current working directory instead of __file__\n",
    "sys.path.append(os.path.abspath(os.path.join(os.getcwd(), \"..\")))\n",
    "from ModelArchitecture.ConvNeXtTinyModel import ConvNeXtTinyWheatModelWithConfidence\n",
    "from ModelArchitecture.DenseNetModel import DenseNet121WheatModel\n",
    "from ModelArchitecture.EfficientNetV2Model import EfficientNetV2SWheatCountWithConfidence\n",
    "from ModelArchitecture.RepVGGA1Model import RepVGGA1WheatModelWithConfidence\n",
    "from ModelArchitecture.EfficientNetV2MModel import EfficientNetV2M_WheatModelWithConfidence\n",
    "from ModelArchitecture.RepVGG_B1g4Model import RepVGG_B1g4Model\n",
    "from ModelArchitecture.RegNetY8GFModel import RegNetY8GFModel\n",
    "from ModelArchitecture.MobileViTV2Model import MobileViTV2WheatModel\n",
    "from ModelArchitecture.MobileViTV2AddoneextrainputModel import MobileViTV2_Confidence_Addoneextrainput\n",
    "from ModelArchitecture.ConvNeXtTinyAddoneextrainputModel import ConvNeXtTiny_Confidence_Addoneextrainput\n",
    "from ModelArchitecture.EfficientNetV2SAddextrainputModel import EfficientNetV2S_Confidence_Addoneextrainput, EfficientNetV2S_Confidence_Add2Inputs\n",
    "from ModelArchitecture.DenseNetAddextrainputModel import DenseNet_Confidence_Addoneextrainput, DenseNet_Confidence_Add2Inputs\n",
    "from ModelArchitecture.RepVGGA1AddextrainputModel import RepVGGA1_Confidence_Addoneextrainput, RepVGGA1_Confidence_Add2Inputs\n",
    "from ModelArchitecture.EfficientNetV2MAddextrainputModel import EfficientNetV2M_Confidence_Addeonextrainput, EfficientNetV2M_Confidence_Add2Inputs\n",
    "from ModelArchitecture.RegNetY8GFAddextrainputModel import RegNetY8GF_Confidence_Addoneextrainput, RegNetY_Confidence_Add2Inputs\n",
    "from modelFunc import setAndTrainModel, setAndTrainModel_addextrainput"
   ]
  },
  {
   "cell_type": "code",
   "execution_count": null,
   "metadata": {},
   "outputs": [],
   "source": [
    "# setAndTrainModel(\"./WheatEarCount/DataKey_RGB_DSM_totEarNum.csv\", \"totWheatEars\", EfficientNetV2SWheatCountWithConfidence, \"./WheatEarCount/ResultModelWheatEarCount\")\n",
    "# setAndTrainModel(\"./WheatEarCount/DataKey_RGB_DSM_totEarNum.csv\", \"totWheatEars\", ConvNeXtTinyWheatModelWithConfidence, \"./WheatEarCount/ResultModelWheatEarCount\")\n",
    "# setAndTrainModel(\"./WheatEarCount/DataKey_RGB_DSM_totEarNum.csv\", \"totWheatEars\", RepVGGA1WheatModelWithConfidence, \"./WheatEarCount/ResultModelWheatEarCount\")\n",
    "# setAndTrainModel(\"./WheatEarCount/DataKey_RGB_DSM_totEarNum.csv\", \"totWheatEars\", DenseNet121WheatModel, \"./WheatEarCount/ResultModelWheatEarCount\")\n",
    "# setAndTrainModel(\"./SPAD/DataKey_RGB_DSM_SPAD.csv\", \"SPAD\", EfficientNetV2SWheatCountWithConfidence, \"./SPAD/ResultModelSPAD\")\n",
    "# setAndTrainModel(\"./SPAD/DataKey_RGB_DSM_SPAD.csv\", \"SPAD\", ConvNeXtTinyWheatModelWithConfidence, \"./SPAD/ResultModelSPAD\")\n",
    "# setAndTrainModel(\"./SPAD/DataKey_RGB_DSM_SPAD.csv\", \"SPAD\", RepVGGA1WheatModelWithConfidence, \"./SPAD/ResultModelSPAD\")\n",
    "# setAndTrainModel(\"./SPAD/DataKey_RGB_DSM_SPAD.csv\", \"SPAD\", DenseNet121WheatModel, \"./SPAD/ResultModelSPAD\")\n",
    "# setAndTrainModel(\"./LAI/DataKey_RGB_DSM_LAI.csv\", \"LAI\", EfficientNetV2SWheatCountWithConfidence, \"./LAI/ResultModelLAI\")\n",
    "# setAndTrainModel(\"./LAI/DataKey_RGB_DSM_LAI.csv\", \"LAI\", ConvNeXtTinyWheatModelWithConfidence, \"./LAI/ResultModelLAI\")\n",
    "# setAndTrainModel(\"./LAI/DataKey_RGB_DSM_LAI.csv\", \"LAI\", RepVGGA1WheatModelWithConfidence, \"./LAI/ResultModelLAI\")\n",
    "# setAndTrainModel(\"./LAI/DataKey_RGB_DSM_LAI.csv\", \"LAI\", DenseNet121WheatModel, \"./LAI/ResultModelLAI\")\n",
    "# setAndTrainModel(\"./EarWeight/DataKey_RGB_DSM_totEarWeight.csv\", \"totEarWeight\", EfficientNetV2SWheatCountWithConfidence, \"./EarWeight/ResultModelEarWeight\")\n",
    "# setAndTrainModel(\"./EarWeight/DataKey_RGB_DSM_totEarWeight.csv\", \"totEarWeight\", ConvNeXtTinyWheatModelWithConfidence, \"./EarWeight/ResultModelEarWeight\")\n",
    "# setAndTrainModel(\"./EarWeight/DataKey_RGB_DSM_totEarWeight.csv\", \"totEarWeight\", RepVGGA1WheatModelWithConfidence, \"./EarWeight/ResultModelEarWeight\")\n",
    "# setAndTrainModel(\"./EarWeight/DataKey_RGB_DSM_totEarWeight.csv\", \"totEarWeight\", DenseNet121WheatModel, \"./EarWeight/ResultModelEarWeight\")\n",
    "# setAndTrainModel(\"./AverageEarSize/DataKey_RGB_DSM_avgEarSize.csv\", \"avgEarSize\", EfficientNetV2SWheatCountWithConfidence, \"./AverageEarSize/ResultModelAverageEarSize\")\n",
    "# setAndTrainModel(\"./AverageEarSize/DataKey_RGB_DSM_avgEarSize.csv\", \"avgEarSize\", ConvNeXtTinyWheatModelWithConfidence, \"./AverageEarSize/ResultModelAverageEarSize\")\n",
    "# setAndTrainModel(\"./AverageEarSize/DataKey_RGB_DSM_avgEarSize.csv\", \"avgEarSize\", RepVGGA1WheatModelWithConfidence, \"./AverageEarSize/ResultModelAverageEarSize\")\n",
    "# setAndTrainModel(\"./AverageEarSize/DataKey_RGB_DSM_avgEarSize.csv\", \"avgEarSize\", DenseNet121WheatModel, \"./AverageEarSize/ResultModelAverageEarSize\")\n",
    "# setAndTrainModel_addextrainput(\"./WheatEarCount/DataKey_RGB_DSM_totEarWeight_totEarNum.csv\", \"totEarWeight\", \"totWheatEars\", EfficientNetV2S_Confidence_Addoneextrainput, \"./WheatEarCount/ResultModelWheatEarCount\")\n",
    "# setAndTrainModel_addextrainput(\"./WheatEarCount/DataKey_RGB_DSM_totEarWeight_totEarNum.csv\", \"totEarWeight\", \"totWheatEars\", DenseNet_Confidence_Addoneextrainput, \"./WheatEarCount/ResultModelWheatEarCount\")\n",
    "# setAndTrainModel_addextrainput(\"./WheatEarCount/DataKey_RGB_DSM_totEarWeight_totEarNum.csv\", \"totEarWeight\", \"totWheatEars\", RepVGGA1_Confidence_Addoneextrainput, \"./WheatEarCount/ResultModelWheatEarCount\")\n",
    "# setAndTrainModel_addextrainput(\"./WheatEarCount/DataKey_RGB_DSM_totEarWeight_totEarNum.csv\", \"totEarWeight\", \"totWheatEars\", EfficientNetV2M_Confidence_Addeonextrainput, \"./WheatEarCount/ResultModelWheatEarCount\")\n",
    "# setAndTrainModel(\"./WheatEarCount/DataKey_RGB_DSM_totEarNum.csv\", \"totWheatEars\", EfficientNetV2M_WheatModelWithConfidence, \"./WheatEarCount/ResultModelWheatEarCount\")\n",
    "# setAndTrainModel(\"./WheatEarCount/DataKey_RGB_DSM_totEarNum.csv\", \"totWheatEars\", RepVGG_B1g4Model, \"./WheatEarCount/ResultModelWheatEarCount\")\n",
    "# setAndTrainModel(\"./WheatEarCount/DataKey_RGB_DSM_totEarNum.csv\", \"totWheatEars\", RegNetY8GFModel, \"./WheatEarCount/ResultModelWheatEarCount\")\n",
    "# setAndTrainModel_addextrainput(\"./SPAD/DataKey_RGB_DSM_SPAD_time.csv\", \"time\", \"SPAD\", EfficientNetV2S_Confidence_Addoneextrainput, \"./SPAD/ResultModelSPAD\")\n",
    "# setAndTrainModel_addextrainput(\"./SPAD/DataKey_RGB_DSM_SPAD_time.csv\", \"time\", \"SPAD\", DenseNet_Confidence_Addoneextrainput, \"./SPAD/ResultModelSPAD\")\n",
    "# setAndTrainModel_addextrainput(\"./SPAD/DataKey_RGB_DSM_SPAD_time.csv\", \"time\", \"SPAD\", RepVGGA1_Confidence_Addoneextrainput, \"./SPAD/ResultModelSPAD\")\n",
    "# setAndTrainModel_addextrainput(\"./SPAD/DataKey_RGB_DSM_SPAD_time.csv\", \"time\", \"SPAD\", EfficientNetV2M_Confidence_Addeonextrainput, \"./SPAD/ResultModelSPAD\")\n",
    "# setAndTrainModel(\"./SPAD/DataKey_RGB_DSM_SPAD.csv\", \"SPAD\", EfficientNetV2M_WheatModelWithConfidence, \"./SPAD/ResultModelSPAD\")\n",
    "# setAndTrainModel(\"./SPAD/DataKey_RGB_DSM_SPAD.csv\", \"SPAD\", RepVGG_B1g4Model, \"./SPAD/ResultModelSPAD\")\n",
    "# setAndTrainModel(\"./SPAD/DataKey_RGB_DSM_SPAD.csv\", \"SPAD\", RegNetY8GFModel, \"./SPAD/ResultModelSPAD\")\n",
    "# setAndTrainModel_addextrainput(\"./LAI/DataKey_RGB_DSM_totEarWeight_LAI.csv\", \"totEarWeight\", \"LAI\", EfficientNetV2S_Confidence_Addoneextrainput, \"./LAI/ResultModelLAI\")\n",
    "# setAndTrainModel_addextrainput(\"./LAI/DataKey_RGB_DSM_totEarWeight_LAI.csv\", \"totEarWeight\", \"LAI\", DenseNet_Confidence_Addoneextrainput, \"./LAI/ResultModelLAI\")\n",
    "# setAndTrainModel_addextrainput(\"./LAI/DataKey_RGB_DSM_totEarWeight_LAI.csv\", \"totEarWeight\", \"LAI\", RepVGGA1_Confidence_Addoneextrainput, \"./LAI/ResultModelLAI\")\n",
    "# setAndTrainModel_addextrainput(\"./LAI/DataKey_RGB_DSM_totEarWeight_LAI.csv\", \"totEarWeight\", \"LAI\", EfficientNetV2M_Confidence_Addeonextrainput, \"./LAI/ResultModelLAI\")\n",
    "# setAndTrainModel_addextrainput(\"./LAI/DataKey_RGB_DSM_LAI_time.csv\", \"time\", \"LAI\", EfficientNetV2S_Confidence_Addoneextrainput, \"./LAI/ResultModelLAI\")\n",
    "# setAndTrainModel_addextrainput(\"./LAI/DataKey_RGB_DSM_LAI_time.csv\", \"time\", \"LAI\", DenseNet_Confidence_Addoneextrainput, \"./LAI/ResultModelLAI\")\n",
    "# setAndTrainModel_addextrainput(\"./LAI/DataKey_RGB_DSM_LAI_time.csv\", \"time\", \"LAI\", RepVGGA1_Confidence_Addoneextrainput, \"./LAI/ResultModelLAI\")\n",
    "# setAndTrainModel_addextrainput(\"./LAI/DataKey_RGB_DSM_LAI_time.csv\", \"time\", \"LAI\", EfficientNetV2M_Confidence_Addeonextrainput, \"./LAI/ResultModelLAI\")\n",
    "# setAndTrainModel_addextrainput(\"./LAI/DataKey_RGB_DSM_totEarWeight_LAI_time.csv\", [\"totEarWeight\", \"time\"], \"LAI\", EfficientNetV2S_Confidence_Add2Inputs, \"./LAI/ResultModelLAI\")\n",
    "# setAndTrainModel_addextrainput(\"./LAI/DataKey_RGB_DSM_totEarWeight_LAI_time.csv\", [\"totEarWeight\", \"time\"], \"LAI\", DenseNet_Confidence_Add2Inputs, \"./LAI/ResultModelLAI\")\n",
    "# setAndTrainModel_addextrainput(\"./LAI/DataKey_RGB_DSM_totEarWeight_LAI_time.csv\", [\"totEarWeight\", \"time\"], \"LAI\", EfficientNetV2M_Confidence_Add2Inputs, \"./LAI/ResultModelLAI\")\n",
    "# setAndTrainModel(\"./LAI/DataKey_RGB_DSM_LAI.csv\", \"LAI\", EfficientNetV2M_WheatModelWithConfidence, \"./LAI/ResultModelLAI\")\n",
    "# setAndTrainModel(\"./LAI/DataKey_RGB_DSM_LAI.csv\", \"LAI\", RegNetY8GFModel, \"./LAI/ResultModelLAI\")\n",
    "# setAndTrainModel(\"./EarWeight/DataKey_RGB_DSM_totEarWeight.csv\", \"totEarWeight\", EfficientNetV2M_WheatModelWithConfidence, \"./EarWeight/ResultModelEarWeight\")\n",
    "# setAndTrainModel(\"./EarWeight/DataKey_RGB_DSM_totEarWeight.csv\", \"totEarWeight\", RegNetY8GFModel, \"./EarWeight/ResultModelEarWeight\")\n",
    "# setAndTrainModel(\"./AverageEarSize/DataKey_RGB_DSM_avgEarSize.csv\", \"avgEarSize\", EfficientNetV2M_WheatModelWithConfidence, \"./AverageEarSize/ResultModelAverageEarSize\")\n",
    "# setAndTrainModel(\"./AverageEarSize/DataKey_RGB_DSM_avgEarSize.csv\", \"avgEarSize\", RegNetY8GFModel, \"./AverageEarSize/ResultModelAverageEarSize\")\n",
    "# setAndTrainModel_addextrainput(\"./LAI/DataKey_RGB_DSM_totEarWeight_LAI_time.csv\", [\"totEarWeight\", \"time\"], \"LAI\", RepVGGA1_Confidence_Add2Inputs, \"./LAI/ResultModelLAI\")\n",
    "# setAndTrainModel(\"./LAI/DataKey_RGB_DSM_LAI.csv\", \"LAI\", RepVGG_B1g4Model, \"./LAI/ResultModelLAI\")\n",
    "# setAndTrainModel(\"./EarWeight/DataKey_RGB_DSM_totEarWeight.csv\", \"totEarWeight\", RepVGG_B1g4Model, \"./EarWeight/ResultModelEarWeight\")\n",
    "# setAndTrainModel(\"./AverageEarSize/DataKey_RGB_DSM_avgEarSize.csv\", \"avgEarSize\", RepVGG_B1g4Model, \"./AverageEarSize/ResultModelAverageEarSize\")\n",
    "# setAndTrainModel_addextrainput(\"./WheatEarCount/DataKey_RGB_DSM_totEarWeight_totEarNum.csv\", \"totEarWeight\", \"totWheatEars\", RegNetY8GF_Confidence_Addoneextrainput, \"./WheatEarCount/ResultModelWheatEarCount\")\n",
    "# setAndTrainModel_addextrainput(\"./SPAD/DataKey_RGB_DSM_SPAD_time.csv\", \"time\", \"SPAD\", RegNetY8GF_Confidence_Addoneextrainput, \"./SPAD/ResultModelSPAD\")\n",
    "# setAndTrainModel_addextrainput(\"./LAI/DataKey_RGB_DSM_totEarWeight_LAI.csv\", \"totEarWeight\", \"LAI\", RegNetY8GF_Confidence_Addoneextrainput, \"./LAI/ResultModelLAI\")\n",
    "# setAndTrainModel_addextrainput(\"./LAI/DataKey_RGB_DSM_LAI_time.csv\", \"time\", \"LAI\", RegNetY8GF_Confidence_Addoneextrainput, \"./LAI/ResultModelLAI\")\n",
    "# setAndTrainModel_addextrainput(\"./LAI/DataKey_RGB_DSM_totEarWeight_LAI_time.csv\", [\"totEarWeight\", \"time\"], \"LAI\", RegNetY_Confidence_Add2Inputs, \"./LAI/ResultModelLAI\")"
   ]
  },
  {
   "cell_type": "code",
   "execution_count": null,
   "metadata": {},
   "outputs": [],
   "source": [
    "setAndTrainModel(\"./LeafLength/DataKey_RGB_DSM_leafLength.csv\", \"leafLength\", EfficientNetV2M_WheatModelWithConfidence, \"./LeafLength/ResultModelLeafLength\")\n",
    "setAndTrainModel(\"./LeafLength/DataKey_RGB_DSM_leafLength.csv\", \"leafLength\", DenseNet121WheatModel, \"./LeafLength/ResultModelLeafLength\")\n",
    "setAndTrainModel(\"./LeafLength/DataKey_RGB_DSM_leafLength.csv\", \"leafLength\", RegNetY8GFModel, \"./LeafLength/ResultModelLeafLength\")\n",
    "setAndTrainModel(\"./LeafLength/DataKey_RGB_DSM_leafLength.csv\", \"leafLength\", MobileViTV2WheatModel, \"./LeafLength/ResultModelLeafLength\")\n",
    "setAndTrainModel(\"./LeafLength/DataKey_RGB_DSM_leafLength.csv\", \"leafLength\", ConvNeXtTinyWheatModelWithConfidence, \"./LeafLength/ResultModelLeafLength\")"
   ]
  },
  {
   "cell_type": "code",
   "execution_count": null,
   "metadata": {},
   "outputs": [],
   "source": [
    "setAndTrainModel(\"./LeafWidth/DataKey_RGB_DSM_leafWidth.csv\", \"leafWidth\", EfficientNetV2M_WheatModelWithConfidence, \"./LeafWidth/ResultModelLeafWidth\")\n",
    "setAndTrainModel(\"./LeafWidth/DataKey_RGB_DSM_leafWidth.csv\", \"leafWidth\", DenseNet121WheatModel, \"./LeafWidth/ResultModelLeafWidth\")\n",
    "setAndTrainModel(\"./LeafWidth/DataKey_RGB_DSM_leafWidth.csv\", \"leafWidth\", RegNetY8GFModel, \"./LeafWidth/ResultModelLeafWidth\")\n",
    "setAndTrainModel(\"./LeafWidth/DataKey_RGB_DSM_leafWidth.csv\", \"leafWidth\", MobileViTV2WheatModel, \"./LeafWidth/ResultModelLeafWidth\")\n",
    "setAndTrainModel(\"./LeafWidth/DataKey_RGB_DSM_leafWidth.csv\", \"leafWidth\", ConvNeXtTinyWheatModelWithConfidence, \"./LeafWidth/ResultModelLeafWidth\")"
   ]
  },
  {
   "cell_type": "code",
   "execution_count": null,
   "metadata": {},
   "outputs": [],
   "source": [
    "setAndTrainModel(\"./StrawWeightAfterDry/DataKey_RGB_DSM_20StrawWeightAfterDry.csv\", \"20StrawWeightAfterDry\", EfficientNetV2M_WheatModelWithConfidence, \"./StrawWeightAfterDry/ResultModelStrawWeightAfterDry\")\n",
    "setAndTrainModel(\"./StrawWeightAfterDry/DataKey_RGB_DSM_20StrawWeightAfterDry.csv\", \"20StrawWeightAfterDry\", DenseNet121WheatModel, \"./StrawWeightAfterDry/ResultModelStrawWeightAfterDry\")\n",
    "setAndTrainModel(\"./StrawWeightAfterDry/DataKey_RGB_DSM_20StrawWeightAfterDry.csv\", \"20StrawWeightAfterDry\", RegNetY8GFModel, \"./StrawWeightAfterDry/ResultModelStrawWeightAfterDry\")\n",
    "setAndTrainModel(\"./StrawWeightAfterDry/DataKey_RGB_DSM_20StrawWeightAfterDry.csv\", \"20StrawWeightAfterDry\", MobileViTV2WheatModel, \"./StrawWeightAfterDry/ResultModelStrawWeightAfterDry\")\n",
    "setAndTrainModel(\"./StrawWeightAfterDry/DataKey_RGB_DSM_20StrawWeightAfterDry.csv\", \"20StrawWeightAfterDry\", ConvNeXtTinyWheatModelWithConfidence, \"./StrawWeightAfterDry/ResultModelStrawWeightAfterDry\")"
   ]
  },
  {
   "cell_type": "code",
   "execution_count": null,
   "metadata": {},
   "outputs": [],
   "source": [
    "setAndTrainModel_addextrainput(\"./StrawWeightAfterDry/DataKey_RGB_DSM_20StrawWeightBeforeDry_20StrawWeightAfterDry.csv\", \"20StrawWeightBeforeDry\", \"20StrawWeightAfterDry\", EfficientNetV2M_Confidence_Addeonextrainput, \"./StrawWeightAfterDry/ResultModelStrawWeightAfterDry\")\n",
    "setAndTrainModel_addextrainput(\"./StrawWeightAfterDry/DataKey_RGB_DSM_20StrawWeightBeforeDry_20StrawWeightAfterDry.csv\", \"20StrawWeightBeforeDry\", \"20StrawWeightAfterDry\", DenseNet_Confidence_Addoneextrainput, \"./StrawWeightAfterDry/ResultModelStrawWeightAfterDry\")\n",
    "setAndTrainModel_addextrainput(\"./StrawWeightAfterDry/DataKey_RGB_DSM_20StrawWeightBeforeDry_20StrawWeightAfterDry.csv\", \"20StrawWeightBeforeDry\", \"20StrawWeightAfterDry\", RegNetY8GF_Confidence_Addoneextrainput, \"./StrawWeightAfterDry/ResultModelStrawWeightAfterDry\")\n",
    "setAndTrainModel_addextrainput(\"./StrawWeightAfterDry/DataKey_RGB_DSM_20StrawWeightBeforeDry_20StrawWeightAfterDry.csv\", \"20StrawWeightBeforeDry\", \"20StrawWeightAfterDry\", MobileViTV2_Confidence_Addoneextrainput, \"./StrawWeightAfterDry/ResultModelStrawWeightAfterDry\")\n",
    "setAndTrainModel_addextrainput(\"./StrawWeightAfterDry/DataKey_RGB_DSM_20StrawWeightBeforeDry_20StrawWeightAfterDry.csv\", \"20StrawWeightBeforeDry\", \"20StrawWeightAfterDry\", ConvNeXtTiny_Confidence_Addoneextrainput, \"./StrawWeightAfterDry/ResultModelStrawWeightAfterDry\")\n"
   ]
  },
  {
   "cell_type": "code",
   "execution_count": null,
   "metadata": {},
   "outputs": [],
   "source": [
    "setAndTrainModel(\"./StrawWeightBeforeDry/DataKey_RGB_DSM_20StrawWeightBeforeDry.csv\", \"20StrawWeightBeforeDry\", EfficientNetV2M_WheatModelWithConfidence, \"./StrawWeightBeforeDry/ResultModelStrawWeightBeforeDry\")\n",
    "setAndTrainModel(\"./StrawWeightBeforeDry/DataKey_RGB_DSM_20StrawWeightBeforeDry.csv\", \"20StrawWeightBeforeDry\", DenseNet121WheatModel, \"./StrawWeightBeforeDry/ResultModelStrawWeightBeforeDry\")\n",
    "setAndTrainModel(\"./StrawWeightBeforeDry/DataKey_RGB_DSM_20StrawWeightBeforeDry.csv\", \"20StrawWeightBeforeDry\", RegNetY8GFModel, \"./StrawWeightBeforeDry/ResultModelStrawWeightBeforeDry\")\n",
    "setAndTrainModel(\"./StrawWeightBeforeDry/DataKey_RGB_DSM_20StrawWeightBeforeDry.csv\", \"20StrawWeightBeforeDry\", MobileViTV2WheatModel, \"./StrawWeightBeforeDry/ResultModelStrawWeightBeforeDry\")\n",
    "setAndTrainModel(\"./StrawWeightBeforeDry/DataKey_RGB_DSM_20StrawWeightBeforeDry.csv\", \"20StrawWeightBeforeDry\", ConvNeXtTinyWheatModelWithConfidence, \"./StrawWeightBeforeDry/ResultModelStrawWeightBeforeDry\")"
   ]
  },
  {
   "cell_type": "code",
   "execution_count": null,
   "metadata": {},
   "outputs": [],
   "source": [
    "setAndTrainModel(\"./TotalSeedNum/DataKey_RGB_DSM_totalSeedNum.csv\", \"totalSeedNum\", EfficientNetV2M_WheatModelWithConfidence, \"./TotalSeedNum/ResultModelTotalSeedNum\")\n",
    "setAndTrainModel(\"./TotalSeedNum/DataKey_RGB_DSM_totalSeedNum.csv\", \"totalSeedNum\", DenseNet121WheatModel, \"./TotalSeedNum/ResultModelTotalSeedNum\")\n",
    "setAndTrainModel(\"./TotalSeedNum/DataKey_RGB_DSM_totalSeedNum.csv\", \"totalSeedNum\", RegNetY8GFModel, \"./TotalSeedNum/ResultModelTotalSeedNum\")\n",
    "setAndTrainModel(\"./TotalSeedNum/DataKey_RGB_DSM_totalSeedNum.csv\", \"totalSeedNum\", MobileViTV2WheatModel, \"./TotalSeedNum/ResultModelTotalSeedNum\")\n",
    "setAndTrainModel(\"./TotalSeedNum/DataKey_RGB_DSM_totalSeedNum.csv\", \"totalSeedNum\", ConvNeXtTinyWheatModelWithConfidence, \"./TotalSeedNum/ResultModelTotalSeedNum\")"
   ]
  },
  {
   "cell_type": "code",
   "execution_count": null,
   "metadata": {},
   "outputs": [],
   "source": [
    "setAndTrainModel(\"./TotalSeedWeightAfterDry/DataKey_RGB_DSM_totalSeedWeightAfterDry.csv\", \"totalSeedWeightAfterDry\", EfficientNetV2M_WheatModelWithConfidence, \"./TotalSeedWeightAfterDry/ResultModelTotalSeedWeightAfterDry\")\n",
    "setAndTrainModel(\"./TotalSeedWeightAfterDry/DataKey_RGB_DSM_totalSeedWeightAfterDry.csv\", \"totalSeedWeightAfterDry\", DenseNet121WheatModel, \"./TotalSeedWeightAfterDry/ResultModelTotalSeedWeightAfterDry\")\n",
    "setAndTrainModel(\"./TotalSeedWeightAfterDry/DataKey_RGB_DSM_totalSeedWeightAfterDry.csv\", \"totalSeedWeightAfterDry\", RegNetY8GFModel, \"./TotalSeedWeightAfterDry/ResultModelTotalSeedWeightAfterDry\")\n",
    "setAndTrainModel(\"./TotalSeedWeightAfterDry/DataKey_RGB_DSM_totalSeedWeightAfterDry.csv\", \"totalSeedWeightAfterDry\", MobileViTV2WheatModel, \"./TotalSeedWeightAfterDry/ResultModelTotalSeedWeightAfterDry\")\n",
    "setAndTrainModel(\"./TotalSeedWeightAfterDry/DataKey_RGB_DSM_totalSeedWeightAfterDry.csv\", \"totalSeedWeightAfterDry\", ConvNeXtTinyWheatModelWithConfidence, \"./TotalSeedWeightAfterDry/ResultModelTotalSeedWeightAfterDry\")\n"
   ]
  },
  {
   "cell_type": "code",
   "execution_count": null,
   "metadata": {},
   "outputs": [],
   "source": [
    "setAndTrainModel_addextrainput(\"./TotalSeedWeightAfterDry/DataKey_RGB_DSM_totalSeedWeightBeforeDry_totalSeedWeightAfterDry.csv\", \"totalSeedWeightBeforeDry\", \"totalSeedWeightAfterDry\", EfficientNetV2M_Confidence_Addeonextrainput, \"./TotalSeedWeightAfterDry/ResultModelTotalSeedWeightAfterDry\")\n",
    "setAndTrainModel_addextrainput(\"./TotalSeedWeightAfterDry/DataKey_RGB_DSM_totalSeedWeightBeforeDry_totalSeedWeightAfterDry.csv\", \"totalSeedWeightBeforeDry\", \"totalSeedWeightAfterDry\", DenseNet_Confidence_Addoneextrainput, \"./TotalSeedWeightAfterDry/ResultModelTotalSeedWeightAfterDry\")\n",
    "setAndTrainModel_addextrainput(\"./TotalSeedWeightAfterDry/DataKey_RGB_DSM_totalSeedWeightBeforeDry_totalSeedWeightAfterDry.csv\", \"totalSeedWeightBeforeDry\", \"totalSeedWeightAfterDry\", RegNetY8GF_Confidence_Addoneextrainput, \"./TotalSeedWeightAfterDry/ResultModelTotalSeedWeightAfterDry\")\n",
    "setAndTrainModel_addextrainput(\"./TotalSeedWeightAfterDry/DataKey_RGB_DSM_totalSeedWeightBeforeDry_totalSeedWeightAfterDry.csv\", \"totalSeedWeightBeforeDry\", \"totalSeedWeightAfterDry\", MobileViTV2_Confidence_Addoneextrainput, \"./TotalSeedWeightAfterDry/ResultModelTotalSeedWeightAfterDry\")\n",
    "setAndTrainModel_addextrainput(\"./TotalSeedWeightAfterDry/DataKey_RGB_DSM_totalSeedWeightBeforeDry_totalSeedWeightAfterDry.csv\", \"totalSeedWeightBeforeDry\", \"totalSeedWeightAfterDry\", ConvNeXtTiny_Confidence_Addoneextrainput, \"./TotalSeedWeightAfterDry/ResultModelTotalSeedWeightAfterDry\")\n"
   ]
  },
  {
   "cell_type": "code",
   "execution_count": null,
   "metadata": {},
   "outputs": [],
   "source": [
    "setAndTrainModel(\"./TotalSeedWeightBeforeDry/DataKey_RGB_DSM_totalSeedWeightBeforeDry.csv\", \"totalSeedWeightBeforeDry\", EfficientNetV2M_WheatModelWithConfidence, \"./TotalSeedWeightBeforeDry/ResultModelTotalSeedWeightBeforeDry\")\n",
    "setAndTrainModel(\"./TotalSeedWeightBeforeDry/DataKey_RGB_DSM_totalSeedWeightBeforeDry.csv\", \"totalSeedWeightBeforeDry\", DenseNet121WheatModel, \"./TotalSeedWeightBeforeDry/ResultModelTotalSeedWeightBeforeDry\")\n",
    "setAndTrainModel(\"./TotalSeedWeightBeforeDry/DataKey_RGB_DSM_totalSeedWeightBeforeDry.csv\", \"totalSeedWeightBeforeDry\", RegNetY8GFModel, \"./TotalSeedWeightBeforeDry/ResultModelTotalSeedWeightBeforeDry\")\n",
    "setAndTrainModel(\"./TotalSeedWeightBeforeDry/DataKey_RGB_DSM_totalSeedWeightBeforeDry.csv\", \"totalSeedWeightBeforeDry\", MobileViTV2WheatModel, \"./TotalSeedWeightBeforeDry/ResultModelTotalSeedWeightBeforeDry\")\n",
    "setAndTrainModel(\"./TotalSeedWeightBeforeDry/DataKey_RGB_DSM_totalSeedWeightBeforeDry.csv\", \"totalSeedWeightBeforeDry\", ConvNeXtTinyWheatModelWithConfidence, \"./TotalSeedWeightBeforeDry/ResultModelTotalSeedWeightBeforeDry\")"
   ]
  },
  {
   "cell_type": "code",
   "execution_count": null,
   "metadata": {},
   "outputs": [],
   "source": [
    "setAndTrainModel(\"./Height/DataKey_RGB_DSM_Height.csv\", \"Height\", EfficientNetV2M_WheatModelWithConfidence, \"./Height/ResultModelHeight\")\n",
    "setAndTrainModel(\"./Height/DataKey_RGB_DSM_Height.csv\", \"Height\", DenseNet121WheatModel, \"./Height/ResultModelHeight\")\n",
    "setAndTrainModel(\"./Height/DataKey_RGB_DSM_Height.csv\", \"Height\", RegNetY8GFModel, \"./Height/ResultModelHeight\")\n",
    "setAndTrainModel(\"./Height/DataKey_RGB_DSM_Height.csv\", \"Height\", MobileViTV2WheatModel, \"./Height/ResultModelHeight\")\n",
    "setAndTrainModel(\"./Height/DataKey_RGB_DSM_Height.csv\", \"Height\", ConvNeXtTinyWheatModelWithConfidence, \"./Height/ResultModelHeight\")"
   ]
  }
 ],
 "metadata": {
  "kernelspec": {
   "display_name": "Python 3",
   "language": "python",
   "name": "python3"
  },
  "language_info": {
   "codemirror_mode": {
    "name": "ipython",
    "version": 3
   },
   "file_extension": ".py",
   "mimetype": "text/x-python",
   "name": "python",
   "nbconvert_exporter": "python",
   "pygments_lexer": "ipython3",
   "version": "3.13.2"
  }
 },
 "nbformat": 4,
 "nbformat_minor": 2
}
