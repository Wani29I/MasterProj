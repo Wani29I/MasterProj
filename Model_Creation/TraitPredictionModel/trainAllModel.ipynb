{
 "cells": [
  {
   "cell_type": "code",
   "execution_count": 2,
   "metadata": {},
   "outputs": [
    {
     "name": "stderr",
     "output_type": "stream",
     "text": [
      "c:\\Users\\Crop2024_GA\\AppData\\Local\\Programs\\Python\\Python313\\Lib\\site-packages\\tqdm\\auto.py:21: TqdmWarning: IProgress not found. Please update jupyter and ipywidgets. See https://ipywidgets.readthedocs.io/en/stable/user_install.html\n",
      "  from .autonotebook import tqdm as notebook_tqdm\n"
     ]
    }
   ],
   "source": [
    "import os\n",
    "import sys\n",
    "# Get current working directory instead of __file__\n",
    "sys.path.append(os.path.abspath(os.path.join(os.getcwd(), \"..\")))\n",
    "from ModelArchitecture.ConvNeXtTinyModel import ConvNeXtTinyWheatModelWithConfidence\n",
    "from ModelArchitecture.DenseNetModel import DenseNet121WheatModel\n",
    "from ModelArchitecture.EfficientNetV2Model import EfficientNetV2SWheatCountWithConfidence\n",
    "from ModelArchitecture.RepVGGA1Model import RepVGGA1WheatModelWithConfidence\n",
    "from modelFunc import setAndTrainModel"
   ]
  },
  {
   "cell_type": "code",
   "execution_count": null,
   "metadata": {},
   "outputs": [],
   "source": [
    "# setAndTrainModel(\"./WheatEarCount/DataKey_RGB_DSM_totEarNum.csv\", \"totWheatEars\", EfficientNetV2SWheatCountWithConfidence, \"./WheatEarCount/ResultModelWheatEarCount\")\n",
    "# setAndTrainModel(\"./WheatEarCount/DataKey_RGB_DSM_totEarNum.csv\", \"totWheatEars\", ConvNeXtTinyWheatModelWithConfidence, \"./WheatEarCount/ResultModelWheatEarCount\")\n",
    "# setAndTrainModel(\"./WheatEarCount/DataKey_RGB_DSM_totEarNum.csv\", \"totWheatEars\", RepVGGA1WheatModelWithConfidence, \"./WheatEarCount/ResultModelWheatEarCount\")\n",
    "# setAndTrainModel(\"./WheatEarCount/DataKey_RGB_DSM_totEarNum.csv\", \"totWheatEars\", DenseNet121WheatModel, \"./WheatEarCount/ResultModelWheatEarCount\")\n",
    "# setAndTrainModel(\"./SPAD/DataKey_RGB_DSM_SPAD.csv\", \"SPAD\", EfficientNetV2SWheatCountWithConfidence, \"./SPAD/ResultModelSPAD\")\n",
    "# setAndTrainModel(\"./SPAD/DataKey_RGB_DSM_SPAD.csv\", \"SPAD\", ConvNeXtTinyWheatModelWithConfidence, \"./SPAD/ResultModelSPAD\")\n",
    "# setAndTrainModel(\"./SPAD/DataKey_RGB_DSM_SPAD.csv\", \"SPAD\", RepVGGA1WheatModelWithConfidence, \"./SPAD/ResultModelSPAD\")\n",
    "# setAndTrainModel(\"./SPAD/DataKey_RGB_DSM_SPAD.csv\", \"SPAD\", DenseNet121WheatModel, \"./SPAD/ResultModelSPAD\")\n",
    "# setAndTrainModel(\"./LAI/DataKey_RGB_DSM_LAI.csv\", \"LAI\", EfficientNetV2SWheatCountWithConfidence, \"./LAI/ResultModelLAI\")\n",
    "# setAndTrainModel(\"./LAI/DataKey_RGB_DSM_LAI.csv\", \"LAI\", ConvNeXtTinyWheatModelWithConfidence, \"./LAI/ResultModelLAI\")\n",
    "# setAndTrainModel(\"./LAI/DataKey_RGB_DSM_LAI.csv\", \"LAI\", RepVGGA1WheatModelWithConfidence, \"./LAI/ResultModelLAI\")\n",
    "# setAndTrainModel(\"./LAI/DataKey_RGB_DSM_LAI.csv\", \"LAI\", DenseNet121WheatModel, \"./LAI/ResultModelLAI\")\n",
    "# setAndTrainModel(\"./EarWeight/DataKey_RGB_DSM_totEarWeight.csv\", \"totEarWeight\", EfficientNetV2SWheatCountWithConfidence, \"./EarWeight/ResultModelEarWeight\")\n",
    "# setAndTrainModel(\"./EarWeight/DataKey_RGB_DSM_totEarWeight.csv\", \"totEarWeight\", ConvNeXtTinyWheatModelWithConfidence, \"./EarWeight/ResultModelEarWeight\")\n",
    "# setAndTrainModel(\"./EarWeight/DataKey_RGB_DSM_totEarWeight.csv\", \"totEarWeight\", RepVGGA1WheatModelWithConfidence, \"./EarWeight/ResultModelEarWeight\")\n",
    "# setAndTrainModel(\"./EarWeight/DataKey_RGB_DSM_totEarWeight.csv\", \"totEarWeight\", DenseNet121WheatModel, \"./EarWeight/ResultModelEarWeight\")"
   ]
  },
  {
   "cell_type": "code",
   "execution_count": null,
   "metadata": {},
   "outputs": [],
   "source": [
    "setAndTrainModel(\"./AverageEarSize/DataKey_RGB_DSM_avgEarSize.csv\", \"avgEarSize\", EfficientNetV2SWheatCountWithConfidence, \"./AverageEarSize/ResultModelAverageEarSize\")"
   ]
  },
  {
   "cell_type": "code",
   "execution_count": null,
   "metadata": {},
   "outputs": [],
   "source": [
    "setAndTrainModel(\"./AverageEarSize/DataKey_RGB_DSM_avgEarSize.csv\", \"avgEarSize\", ConvNeXtTinyWheatModelWithConfidence, \"./AverageEarSize/ResultModelAverageEarSize\")"
   ]
  },
  {
   "cell_type": "code",
   "execution_count": null,
   "metadata": {},
   "outputs": [],
   "source": [
    "setAndTrainModel(\"./AverageEarSize/DataKey_RGB_DSM_avgEarSize.csv\", \"avgEarSize\", RepVGGA1WheatModelWithConfidence, \"./AverageEarSize/ResultModelAverageEarSize\")"
   ]
  },
  {
   "cell_type": "code",
   "execution_count": null,
   "metadata": {},
   "outputs": [],
   "source": [
    "setAndTrainModel(\"./AverageEarSize/DataKey_RGB_DSM_avgEarSize.csv\", \"avgEarSize\", DenseNet121WheatModel, \"./AverageEarSize/ResultModelAverageEarSize\")"
   ]
  },
  {
   "cell_type": "code",
   "execution_count": null,
   "metadata": {},
   "outputs": [],
   "source": []
  }
 ],
 "metadata": {
  "kernelspec": {
   "display_name": "Python 3",
   "language": "python",
   "name": "python3"
  },
  "language_info": {
   "codemirror_mode": {
    "name": "ipython",
    "version": 3
   },
   "file_extension": ".py",
   "mimetype": "text/x-python",
   "name": "python",
   "nbconvert_exporter": "python",
   "pygments_lexer": "ipython3",
   "version": "3.13.2"
  }
 },
 "nbformat": 4,
 "nbformat_minor": 2
}
