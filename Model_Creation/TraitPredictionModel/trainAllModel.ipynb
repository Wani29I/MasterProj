{
 "cells": [
  {
   "cell_type": "code",
   "execution_count": 1,
   "metadata": {},
   "outputs": [
    {
     "name": "stderr",
     "output_type": "stream",
     "text": [
      "c:\\Users\\pacha\\AppData\\Local\\Programs\\Python\\Python313\\Lib\\site-packages\\tqdm\\auto.py:21: TqdmWarning: IProgress not found. Please update jupyter and ipywidgets. See https://ipywidgets.readthedocs.io/en/stable/user_install.html\n",
      "  from .autonotebook import tqdm as notebook_tqdm\n"
     ]
    }
   ],
   "source": [
    "import os\n",
    "import sys\n",
    "# Get current working directory instead of __file__\n",
    "sys.path.append(os.path.abspath(os.path.join(os.getcwd(), \"..\")))\n",
    "from ModelArchitecture.ConvNeXtTinyModel import ConvNeXtTinyWheatModelWithConfidence\n",
    "from ModelArchitecture.DenseNetModel import DenseNet121WheatModel\n",
    "from ModelArchitecture.EfficientNetV2Model import EfficientNetV2SWheatCountWithConfidence\n",
    "from ModelArchitecture.RepVGGA1Model import RepVGGA1WheatModelWithConfidence\n",
    "from ModelArchitecture.EfficientNetV2MModel import EfficientNetV2M_WheatModelWithConfidence\n",
    "from ModelArchitecture.RepVGG_B1g4Model import RepVGG_B1g4Model\n",
    "from ModelArchitecture.RegNetY8GFModel import RegNetY8GFModel\n",
    "from ModelArchitecture.EfficientNetV2SAddextrainputModel import EfficientNetV2S_Confidence_Addoneextrainput, EfficientNetV2S_Confidence_Add2Inputs\n",
    "from ModelArchitecture.DenseNetAddextrainputModel import DenseNet_Confidence_Addoneextrainput, DenseNet_Confidence_Add2Inputs\n",
    "from ModelArchitecture.RepVGGA1AddextrainputModel import RepVGGA1_Confidence_Addoneextrainput, RepVGGA1_Confidence_Add2Inputs\n",
    "from ModelArchitecture.EfficientNetV2MAddextrainputModel import EfficientNetV2M_Confidence_Addeonextrainput, EfficientNetV2M_Confidence_Add2Inputs\n",
    "from ModelArchitecture.RegNetY8GFAddextrainputModel import RegNetY8GF_Confidence_Addoneextrainput, RegNetY_Confidence_Add2Inputs\n",
    "from modelFunc import setAndTrainModel, setAndTrainModel_addextrainput"
   ]
  },
  {
   "cell_type": "code",
   "execution_count": 2,
   "metadata": {},
   "outputs": [],
   "source": [
    "# setAndTrainModel(\"./WheatEarCount/DataKey_RGB_DSM_totEarNum.csv\", \"totWheatEars\", EfficientNetV2SWheatCountWithConfidence, \"./WheatEarCount/ResultModelWheatEarCount\")\n",
    "# setAndTrainModel(\"./WheatEarCount/DataKey_RGB_DSM_totEarNum.csv\", \"totWheatEars\", ConvNeXtTinyWheatModelWithConfidence, \"./WheatEarCount/ResultModelWheatEarCount\")\n",
    "# setAndTrainModel(\"./WheatEarCount/DataKey_RGB_DSM_totEarNum.csv\", \"totWheatEars\", RepVGGA1WheatModelWithConfidence, \"./WheatEarCount/ResultModelWheatEarCount\")\n",
    "# setAndTrainModel(\"./WheatEarCount/DataKey_RGB_DSM_totEarNum.csv\", \"totWheatEars\", DenseNet121WheatModel, \"./WheatEarCount/ResultModelWheatEarCount\")\n",
    "# setAndTrainModel(\"./SPAD/DataKey_RGB_DSM_SPAD.csv\", \"SPAD\", EfficientNetV2SWheatCountWithConfidence, \"./SPAD/ResultModelSPAD\")\n",
    "# setAndTrainModel(\"./SPAD/DataKey_RGB_DSM_SPAD.csv\", \"SPAD\", ConvNeXtTinyWheatModelWithConfidence, \"./SPAD/ResultModelSPAD\")\n",
    "# setAndTrainModel(\"./SPAD/DataKey_RGB_DSM_SPAD.csv\", \"SPAD\", RepVGGA1WheatModelWithConfidence, \"./SPAD/ResultModelSPAD\")\n",
    "# setAndTrainModel(\"./SPAD/DataKey_RGB_DSM_SPAD.csv\", \"SPAD\", DenseNet121WheatModel, \"./SPAD/ResultModelSPAD\")\n",
    "# setAndTrainModel(\"./LAI/DataKey_RGB_DSM_LAI.csv\", \"LAI\", EfficientNetV2SWheatCountWithConfidence, \"./LAI/ResultModelLAI\")\n",
    "# setAndTrainModel(\"./LAI/DataKey_RGB_DSM_LAI.csv\", \"LAI\", ConvNeXtTinyWheatModelWithConfidence, \"./LAI/ResultModelLAI\")\n",
    "# setAndTrainModel(\"./LAI/DataKey_RGB_DSM_LAI.csv\", \"LAI\", RepVGGA1WheatModelWithConfidence, \"./LAI/ResultModelLAI\")\n",
    "# setAndTrainModel(\"./LAI/DataKey_RGB_DSM_LAI.csv\", \"LAI\", DenseNet121WheatModel, \"./LAI/ResultModelLAI\")\n",
    "# setAndTrainModel(\"./EarWeight/DataKey_RGB_DSM_totEarWeight.csv\", \"totEarWeight\", EfficientNetV2SWheatCountWithConfidence, \"./EarWeight/ResultModelEarWeight\")\n",
    "# setAndTrainModel(\"./EarWeight/DataKey_RGB_DSM_totEarWeight.csv\", \"totEarWeight\", ConvNeXtTinyWheatModelWithConfidence, \"./EarWeight/ResultModelEarWeight\")\n",
    "# setAndTrainModel(\"./EarWeight/DataKey_RGB_DSM_totEarWeight.csv\", \"totEarWeight\", RepVGGA1WheatModelWithConfidence, \"./EarWeight/ResultModelEarWeight\")\n",
    "# setAndTrainModel(\"./EarWeight/DataKey_RGB_DSM_totEarWeight.csv\", \"totEarWeight\", DenseNet121WheatModel, \"./EarWeight/ResultModelEarWeight\")"
   ]
  },
  {
   "cell_type": "code",
   "execution_count": null,
   "metadata": {},
   "outputs": [],
   "source": [
    "# setAndTrainModel(\"./AverageEarSize/DataKey_RGB_DSM_avgEarSize.csv\", \"avgEarSize\", EfficientNetV2SWheatCountWithConfidence, \"./AverageEarSize/ResultModelAverageEarSize\")\n",
    "# setAndTrainModel(\"./AverageEarSize/DataKey_RGB_DSM_avgEarSize.csv\", \"avgEarSize\", ConvNeXtTinyWheatModelWithConfidence, \"./AverageEarSize/ResultModelAverageEarSize\")\n",
    "# setAndTrainModel(\"./AverageEarSize/DataKey_RGB_DSM_avgEarSize.csv\", \"avgEarSize\", RepVGGA1WheatModelWithConfidence, \"./AverageEarSize/ResultModelAverageEarSize\")\n",
    "# setAndTrainModel(\"./AverageEarSize/DataKey_RGB_DSM_avgEarSize.csv\", \"avgEarSize\", DenseNet121WheatModel, \"./AverageEarSize/ResultModelAverageEarSize\")\n",
    "# setAndTrainModel_addextrainput(\"./WheatEarCount/DataKey_RGB_DSM_totEarWeight_totEarNum.csv\", \"totEarWeight\", \"totWheatEars\", EfficientNetV2S_Confidence_Addoneextrainput, \"./WheatEarCount/ResultModelWheatEarCount\")\n",
    "# setAndTrainModel_addextrainput(\"./WheatEarCount/DataKey_RGB_DSM_totEarWeight_totEarNum.csv\", \"totEarWeight\", \"totWheatEars\", DenseNet_Confidence_Addoneextrainput, \"./WheatEarCount/ResultModelWheatEarCount\")\n",
    "# setAndTrainModel_addextrainput(\"./WheatEarCount/DataKey_RGB_DSM_totEarWeight_totEarNum.csv\", \"totEarWeight\", \"totWheatEars\", RepVGGA1_Confidence_Addoneextrainput, \"./WheatEarCount/ResultModelWheatEarCount\")\n",
    "# setAndTrainModel_addextrainput(\"./WheatEarCount/DataKey_RGB_DSM_totEarWeight_totEarNum.csv\", \"totEarWeight\", \"totWheatEars\", EfficientNetV2M_Confidence_Addeonextrainput, \"./WheatEarCount/ResultModelWheatEarCount\")\n",
    "# setAndTrainModel(\"./WheatEarCount/DataKey_RGB_DSM_totEarNum.csv\", \"totWheatEars\", EfficientNetV2M_WheatModelWithConfidence, \"./WheatEarCount/ResultModelWheatEarCount\")\n",
    "# setAndTrainModel(\"./WheatEarCount/DataKey_RGB_DSM_totEarNum.csv\", \"totWheatEars\", RepVGG_B1g4Model, \"./WheatEarCount/ResultModelWheatEarCount\")\n",
    "# setAndTrainModel(\"./WheatEarCount/DataKey_RGB_DSM_totEarNum.csv\", \"totWheatEars\", RegNetY8GFModel, \"./WheatEarCount/ResultModelWheatEarCount\")\n",
    "# setAndTrainModel_addextrainput(\"./SPAD/DataKey_RGB_DSM_SPAD_time.csv\", \"time\", \"SPAD\", EfficientNetV2S_Confidence_Addoneextrainput, \"./SPAD/ResultModelSPAD\")\n",
    "# setAndTrainModel_addextrainput(\"./SPAD/DataKey_RGB_DSM_SPAD_time.csv\", \"time\", \"SPAD\", DenseNet_Confidence_Addoneextrainput, \"./SPAD/ResultModelSPAD\")\n",
    "# setAndTrainModel_addextrainput(\"./SPAD/DataKey_RGB_DSM_SPAD_time.csv\", \"time\", \"SPAD\", RepVGGA1_Confidence_Addoneextrainput, \"./SPAD/ResultModelSPAD\")\n",
    "# setAndTrainModel_addextrainput(\"./SPAD/DataKey_RGB_DSM_SPAD_time.csv\", \"time\", \"SPAD\", EfficientNetV2M_Confidence_Addeonextrainput, \"./SPAD/ResultModelSPAD\")\n",
    "# setAndTrainModel(\"./SPAD/DataKey_RGB_DSM_SPAD.csv\", \"SPAD\", EfficientNetV2M_WheatModelWithConfidence, \"./SPAD/ResultModelSPAD\")\n",
    "# setAndTrainModel(\"./SPAD/DataKey_RGB_DSM_SPAD.csv\", \"SPAD\", RepVGG_B1g4Model, \"./SPAD/ResultModelSPAD\")\n",
    "# setAndTrainModel(\"./SPAD/DataKey_RGB_DSM_SPAD.csv\", \"SPAD\", RegNetY8GFModel, \"./SPAD/ResultModelSPAD\")\n",
    "# setAndTrainModel_addextrainput(\"./LAI/DataKey_RGB_DSM_totEarWeight_LAI.csv\", \"totEarWeight\", \"LAI\", EfficientNetV2S_Confidence_Addoneextrainput, \"./LAI/ResultModelLAI\")\n",
    "# setAndTrainModel_addextrainput(\"./LAI/DataKey_RGB_DSM_totEarWeight_LAI.csv\", \"totEarWeight\", \"LAI\", DenseNet_Confidence_Addoneextrainput, \"./LAI/ResultModelLAI\")\n",
    "# setAndTrainModel_addextrainput(\"./LAI/DataKey_RGB_DSM_totEarWeight_LAI.csv\", \"totEarWeight\", \"LAI\", RepVGGA1_Confidence_Addoneextrainput, \"./LAI/ResultModelLAI\")\n",
    "# setAndTrainModel_addextrainput(\"./LAI/DataKey_RGB_DSM_totEarWeight_LAI.csv\", \"totEarWeight\", \"LAI\", EfficientNetV2M_Confidence_Addeonextrainput, \"./LAI/ResultModelLAI\")\n",
    "# setAndTrainModel_addextrainput(\"./LAI/DataKey_RGB_DSM_LAI_time.csv\", \"time\", \"LAI\", EfficientNetV2S_Confidence_Addoneextrainput, \"./LAI/ResultModelLAI\")\n",
    "# setAndTrainModel_addextrainput(\"./LAI/DataKey_RGB_DSM_LAI_time.csv\", \"time\", \"LAI\", DenseNet_Confidence_Addoneextrainput, \"./LAI/ResultModelLAI\")\n",
    "# setAndTrainModel_addextrainput(\"./LAI/DataKey_RGB_DSM_LAI_time.csv\", \"time\", \"LAI\", RepVGGA1_Confidence_Addoneextrainput, \"./LAI/ResultModelLAI\")\n",
    "# setAndTrainModel_addextrainput(\"./LAI/DataKey_RGB_DSM_LAI_time.csv\", \"time\", \"LAI\", EfficientNetV2M_Confidence_Addeonextrainput, \"./LAI/ResultModelLAI\")\n",
    "# setAndTrainModel_addextrainput(\"./LAI/DataKey_RGB_DSM_totEarWeight_LAI_time.csv\", [\"totEarWeight\", \"time\"], \"LAI\", EfficientNetV2S_Confidence_Add2Inputs, \"./LAI/ResultModelLAI\")\n",
    "# setAndTrainModel_addextrainput(\"./LAI/DataKey_RGB_DSM_totEarWeight_LAI_time.csv\", [\"totEarWeight\", \"time\"], \"LAI\", DenseNet_Confidence_Add2Inputs, \"./LAI/ResultModelLAI\")\n",
    "# setAndTrainModel_addextrainput(\"./LAI/DataKey_RGB_DSM_totEarWeight_LAI_time.csv\", [\"totEarWeight\", \"time\"], \"LAI\", EfficientNetV2M_Confidence_Add2Inputs, \"./LAI/ResultModelLAI\")\n",
    "# setAndTrainModel(\"./LAI/DataKey_RGB_DSM_LAI.csv\", \"LAI\", EfficientNetV2M_WheatModelWithConfidence, \"./LAI/ResultModelLAI\")\n",
    "# setAndTrainModel(\"./LAI/DataKey_RGB_DSM_LAI.csv\", \"LAI\", RegNetY8GFModel, \"./LAI/ResultModelLAI\")\n",
    "# setAndTrainModel(\"./EarWeight/DataKey_RGB_DSM_totEarWeight.csv\", \"totEarWeight\", EfficientNetV2M_WheatModelWithConfidence, \"./EarWeight/ResultModelEarWeight\")\n",
    "# setAndTrainModel(\"./EarWeight/DataKey_RGB_DSM_totEarWeight.csv\", \"totEarWeight\", RegNetY8GFModel, \"./EarWeight/ResultModelEarWeight\")\n",
    "# setAndTrainModel(\"./AverageEarSize/DataKey_RGB_DSM_avgEarSize.csv\", \"avgEarSize\", EfficientNetV2M_WheatModelWithConfidence, \"./AverageEarSize/ResultModelAverageEarSize\")\n",
    "# setAndTrainModel(\"./AverageEarSize/DataKey_RGB_DSM_avgEarSize.csv\", \"avgEarSize\", RegNetY8GFModel, \"./AverageEarSize/ResultModelAverageEarSize\")\n",
    "# setAndTrainModel_addextrainput(\"./LAI/DataKey_RGB_DSM_totEarWeight_LAI_time.csv\", [\"totEarWeight\", \"time\"], \"LAI\", RepVGGA1_Confidence_Add2Inputs, \"./LAI/ResultModelLAI\")\n",
    "# setAndTrainModel(\"./LAI/DataKey_RGB_DSM_LAI.csv\", \"LAI\", RepVGG_B1g4Model, \"./LAI/ResultModelLAI\")\n",
    "# setAndTrainModel(\"./EarWeight/DataKey_RGB_DSM_totEarWeight.csv\", \"totEarWeight\", RepVGG_B1g4Model, \"./EarWeight/ResultModelEarWeight\")\n",
    "# setAndTrainModel(\"./AverageEarSize/DataKey_RGB_DSM_avgEarSize.csv\", \"avgEarSize\", RepVGG_B1g4Model, \"./AverageEarSize/ResultModelAverageEarSize\")\n",
    "# setAndTrainModel_addextrainput(\"./WheatEarCount/DataKey_RGB_DSM_totEarWeight_totEarNum.csv\", \"totEarWeight\", \"totWheatEars\", RegNetY8GF_Confidence_Addoneextrainput, \"./WheatEarCount/ResultModelWheatEarCount\")\n",
    "# setAndTrainModel_addextrainput(\"./SPAD/DataKey_RGB_DSM_SPAD_time.csv\", \"time\", \"SPAD\", RegNetY8GF_Confidence_Addoneextrainput, \"./SPAD/ResultModelSPAD\")\n",
    "# setAndTrainModel_addextrainput(\"./LAI/DataKey_RGB_DSM_totEarWeight_LAI.csv\", \"totEarWeight\", \"LAI\", RegNetY8GF_Confidence_Addoneextrainput, \"./LAI/ResultModelLAI\")\n",
    "# setAndTrainModel_addextrainput(\"./LAI/DataKey_RGB_DSM_LAI_time.csv\", \"time\", \"LAI\", RegNetY8GF_Confidence_Addoneextrainput, \"./LAI/ResultModelLAI\")\n",
    "# setAndTrainModel_addextrainput(\"./LAI/DataKey_RGB_DSM_totEarWeight_LAI_time.csv\", [\"totEarWeight\", \"time\"], \"LAI\", RegNetY_Confidence_Add2Inputs, \"./LAI/ResultModelLAI\")\n"
   ]
  }
 ],
 "metadata": {
  "kernelspec": {
   "display_name": "Python 3",
   "language": "python",
   "name": "python3"
  },
  "language_info": {
   "codemirror_mode": {
    "name": "ipython",
    "version": 3
   },
   "file_extension": ".py",
   "mimetype": "text/x-python",
   "name": "python",
   "nbconvert_exporter": "python",
   "pygments_lexer": "ipython3",
   "version": "3.13.2"
  }
 },
 "nbformat": 4,
 "nbformat_minor": 2
}
