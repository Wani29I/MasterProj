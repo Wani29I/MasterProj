{
 "cells": [
  {
   "cell_type": "code",
   "execution_count": 1,
   "metadata": {},
   "outputs": [
    {
     "name": "stderr",
     "output_type": "stream",
     "text": [
      "/Users/ice/.pyenv/versions/3.10.10/lib/python3.10/site-packages/tqdm/auto.py:21: TqdmWarning: IProgress not found. Please update jupyter and ipywidgets. See https://ipywidgets.readthedocs.io/en/stable/user_install.html\n",
      "  from .autonotebook import tqdm as notebook_tqdm\n"
     ]
    }
   ],
   "source": [
    "import os\n",
    "import sys\n",
    "# Get current working directory instead of __file__\n",
    "sys.path.append(os.path.abspath(os.path.join(os.getcwd(), \"..\")))\n",
    "from ModelArchitecture.ConvNeXtTinyModel import ConvNeXtTinyWheatModelWithConfidence\n",
    "from ModelArchitecture.DenseNetModel import DenseNet121WheatModel\n",
    "from ModelArchitecture.EfficientNetV2Model import EfficientNetV2SWheatCountWithConfidence\n",
    "from ModelArchitecture.RepVGGA1Model import RepVGGA1WheatModelWithConfidence\n",
    "from ModelArchitecture.EfficientNetV2MModel import EfficientNetV2MWheatModelWithConfidence\n",
    "from ModelArchitecture.RepVGGB1g4Model import RepVGGB1g4Model\n",
    "from ModelArchitecture.RegNetY8GFModel import RegNetY8GFModel\n",
    "from ModelArchitecture.MobileViTV2Model import MobileViTV2WheatModel\n",
    "from ModelArchitecture.MobileViTV2AddoneextrainputModel import MobileViTV2ConfidenceAddoneextrainput\n",
    "from ModelArchitecture.ConvNeXtTinyAddoneextrainputModel import ConvNeXtTinyConfidenceAddoneextrainput\n",
    "from ModelArchitecture.EfficientNetV2SAddextrainputModel import EfficientNetV2SConfidenceAddoneextrainput, EfficientNetV2SConfidenceAdd2Inputs\n",
    "from ModelArchitecture.DenseNetAddextrainputModel import DenseNetConfidenceAddoneextrainput, DenseNetConfidenceAdd2Inputs\n",
    "from ModelArchitecture.RepVGGA1AddextrainputModel import RepVGGA1ConfidenceAddoneextrainput, RepVGGA1ConfidenceAdd2Inputs\n",
    "from ModelArchitecture.EfficientNetV2MAddextrainputModel import EfficientNetV2MConfidenceAddeonextrainput, EfficientNetV2MConfidenceAdd2Inputs\n",
    "from ModelArchitecture.RegNetY8GFAddextrainputModel import RegNetY8GFConfidenceAddoneextrainput, RegNetYConfidenceAdd2Inputs\n",
    "from modelFunc import setAndTrainModel, setAndTrainModel_addextrainput"
   ]
  },
  {
   "cell_type": "code",
   "execution_count": 2,
   "metadata": {},
   "outputs": [],
   "source": [
    "# setAndTrainModel(\"./WheatEarCount/DataKey_RGB_DSM_totEarNum.csv\", \"totWheatEars\", EfficientNetV2SWheatCountWithConfidence, \"./WheatEarCount/ResultModelWheatEarCount\")\n",
    "# setAndTrainModel(\"./WheatEarCount/DataKey_RGB_DSM_totEarNum.csv\", \"totWheatEars\", ConvNeXtTinyWheatModelWithConfidence, \"./WheatEarCount/ResultModelWheatEarCount\")\n",
    "# setAndTrainModel(\"./WheatEarCount/DataKey_RGB_DSM_totEarNum.csv\", \"totWheatEars\", RepVGGA1WheatModelWithConfidence, \"./WheatEarCount/ResultModelWheatEarCount\")\n",
    "# setAndTrainModel(\"./WheatEarCount/DataKey_RGB_DSM_totEarNum.csv\", \"totWheatEars\", DenseNet121WheatModel, \"./WheatEarCount/ResultModelWheatEarCount\")\n",
    "# setAndTrainModel(\"./SPAD/DataKey_RGB_DSM_SPAD.csv\", \"SPAD\", EfficientNetV2SWheatCountWithConfidence, \"./SPAD/ResultModelSPAD\")\n",
    "# setAndTrainModel(\"./SPAD/DataKey_RGB_DSM_SPAD.csv\", \"SPAD\", ConvNeXtTinyWheatModelWithConfidence, \"./SPAD/ResultModelSPAD\")\n",
    "# setAndTrainModel(\"./SPAD/DataKey_RGB_DSM_SPAD.csv\", \"SPAD\", RepVGGA1WheatModelWithConfidence, \"./SPAD/ResultModelSPAD\")\n",
    "# setAndTrainModel(\"./SPAD/DataKey_RGB_DSM_SPAD.csv\", \"SPAD\", DenseNet121WheatModel, \"./SPAD/ResultModelSPAD\")\n",
    "# setAndTrainModel(\"./LAI/DataKey_RGB_DSM_LAI.csv\", \"LAI\", EfficientNetV2SWheatCountWithConfidence, \"./LAI/ResultModelLAI\")\n",
    "# setAndTrainModel(\"./LAI/DataKey_RGB_DSM_LAI.csv\", \"LAI\", ConvNeXtTinyWheatModelWithConfidence, \"./LAI/ResultModelLAI\")\n",
    "# setAndTrainModel(\"./LAI/DataKey_RGB_DSM_LAI.csv\", \"LAI\", RepVGGA1WheatModelWithConfidence, \"./LAI/ResultModelLAI\")\n",
    "# setAndTrainModel(\"./LAI/DataKey_RGB_DSM_LAI.csv\", \"LAI\", DenseNet121WheatModel, \"./LAI/ResultModelLAI\")\n",
    "# setAndTrainModel(\"./EarWeight/DataKey_RGB_DSM_totEarWeight.csv\", \"totEarWeight\", EfficientNetV2SWheatCountWithConfidence, \"./EarWeight/ResultModelEarWeight\")\n",
    "# setAndTrainModel(\"./EarWeight/DataKey_RGB_DSM_totEarWeight.csv\", \"totEarWeight\", ConvNeXtTinyWheatModelWithConfidence, \"./EarWeight/ResultModelEarWeight\")\n",
    "# setAndTrainModel(\"./EarWeight/DataKey_RGB_DSM_totEarWeight.csv\", \"totEarWeight\", RepVGGA1WheatModelWithConfidence, \"./EarWeight/ResultModelEarWeight\")\n",
    "# setAndTrainModel(\"./EarWeight/DataKey_RGB_DSM_totEarWeight.csv\", \"totEarWeight\", DenseNet121WheatModel, \"./EarWeight/ResultModelEarWeight\")\n",
    "# setAndTrainModel(\"./AverageEarSize/DataKey_RGB_DSM_avgEarSize.csv\", \"avgEarSize\", EfficientNetV2SWheatCountWithConfidence, \"./AverageEarSize/ResultModelAverageEarSize\")\n",
    "# setAndTrainModel(\"./AverageEarSize/DataKey_RGB_DSM_avgEarSize.csv\", \"avgEarSize\", ConvNeXtTinyWheatModelWithConfidence, \"./AverageEarSize/ResultModelAverageEarSize\")\n",
    "# setAndTrainModel(\"./AverageEarSize/DataKey_RGB_DSM_avgEarSize.csv\", \"avgEarSize\", RepVGGA1WheatModelWithConfidence, \"./AverageEarSize/ResultModelAverageEarSize\")\n",
    "# setAndTrainModel(\"./AverageEarSize/DataKey_RGB_DSM_avgEarSize.csv\", \"avgEarSize\", DenseNet121WheatModel, \"./AverageEarSize/ResultModelAverageEarSize\")\n",
    "# setAndTrainModel_addextrainput(\"./WheatEarCount/DataKey_RGB_DSM_totEarWeight_totEarNum.csv\", \"totEarWeight\", \"totWheatEars\", EfficientNetV2SConfidenceAddoneextrainput, \"./WheatEarCount/ResultModelWheatEarCount\")\n",
    "# setAndTrainModel_addextrainput(\"./WheatEarCount/DataKey_RGB_DSM_totEarWeight_totEarNum.csv\", \"totEarWeight\", \"totWheatEars\", DenseNetConfidenceAddoneextrainput, \"./WheatEarCount/ResultModelWheatEarCount\")\n",
    "# setAndTrainModel_addextrainput(\"./WheatEarCount/DataKey_RGB_DSM_totEarWeight_totEarNum.csv\", \"totEarWeight\", \"totWheatEars\", RepVGGA1ConfidenceAddoneextrainput, \"./WheatEarCount/ResultModelWheatEarCount\")\n",
    "# setAndTrainModel_addextrainput(\"./WheatEarCount/DataKey_RGB_DSM_totEarWeight_totEarNum.csv\", \"totEarWeight\", \"totWheatEars\", EfficientNetV2MConfidenceAddeonextrainput, \"./WheatEarCount/ResultModelWheatEarCount\")\n",
    "# setAndTrainModel(\"./WheatEarCount/DataKey_RGB_DSM_totEarNum.csv\", \"totWheatEars\", EfficientNetV2MWheatModelWithConfidence, \"./WheatEarCount/ResultModelWheatEarCount\")\n",
    "# setAndTrainModel(\"./WheatEarCount/DataKey_RGB_DSM_totEarNum.csv\", \"totWheatEars\", RepVGGB1g4Model, \"./WheatEarCount/ResultModelWheatEarCount\")\n",
    "# setAndTrainModel(\"./WheatEarCount/DataKey_RGB_DSM_totEarNum.csv\", \"totWheatEars\", RegNetY8GFModel, \"./WheatEarCount/ResultModelWheatEarCount\")\n",
    "# setAndTrainModel_addextrainput(\"./SPAD/DataKey_RGB_DSM_SPAD_time.csv\", \"time\", \"SPAD\", EfficientNetV2SConfidenceAddoneextrainput, \"./SPAD/ResultModelSPAD\")\n",
    "# setAndTrainModel_addextrainput(\"./SPAD/DataKey_RGB_DSM_SPAD_time.csv\", \"time\", \"SPAD\", DenseNetConfidenceAddoneextrainput, \"./SPAD/ResultModelSPAD\")\n",
    "# setAndTrainModel_addextrainput(\"./SPAD/DataKey_RGB_DSM_SPAD_time.csv\", \"time\", \"SPAD\", RepVGGA1ConfidenceAddoneextrainput, \"./SPAD/ResultModelSPAD\")\n",
    "# setAndTrainModel_addextrainput(\"./SPAD/DataKey_RGB_DSM_SPAD_time.csv\", \"time\", \"SPAD\", EfficientNetV2MConfidenceAddeonextrainput, \"./SPAD/ResultModelSPAD\")\n",
    "# setAndTrainModel(\"./SPAD/DataKey_RGB_DSM_SPAD.csv\", \"SPAD\", EfficientNetV2MWheatModelWithConfidence, \"./SPAD/ResultModelSPAD\")\n",
    "# setAndTrainModel(\"./SPAD/DataKey_RGB_DSM_SPAD.csv\", \"SPAD\", RepVGGB1g4Model, \"./SPAD/ResultModelSPAD\")\n",
    "# setAndTrainModel(\"./SPAD/DataKey_RGB_DSM_SPAD.csv\", \"SPAD\", RegNetY8GFModel, \"./SPAD/ResultModelSPAD\")\n",
    "# setAndTrainModel_addextrainput(\"./LAI/DataKey_RGB_DSM_totEarWeight_LAI.csv\", \"totEarWeight\", \"LAI\", EfficientNetV2SConfidenceAddoneextrainput, \"./LAI/ResultModelLAI\")\n",
    "# setAndTrainModel_addextrainput(\"./LAI/DataKey_RGB_DSM_totEarWeight_LAI.csv\", \"totEarWeight\", \"LAI\", DenseNetConfidenceAddoneextrainput, \"./LAI/ResultModelLAI\")\n",
    "# setAndTrainModel_addextrainput(\"./LAI/DataKey_RGB_DSM_totEarWeight_LAI.csv\", \"totEarWeight\", \"LAI\", RepVGGA1ConfidenceAddoneextrainput, \"./LAI/ResultModelLAI\")\n",
    "# setAndTrainModel_addextrainput(\"./LAI/DataKey_RGB_DSM_totEarWeight_LAI.csv\", \"totEarWeight\", \"LAI\", EfficientNetV2MConfidenceAddeonextrainput, \"./LAI/ResultModelLAI\")\n",
    "# setAndTrainModel_addextrainput(\"./LAI/DataKey_RGB_DSM_LAI_time.csv\", \"time\", \"LAI\", EfficientNetV2SConfidenceAddoneextrainput, \"./LAI/ResultModelLAI\")\n",
    "# setAndTrainModel_addextrainput(\"./LAI/DataKey_RGB_DSM_LAI_time.csv\", \"time\", \"LAI\", DenseNetConfidenceAddoneextrainput, \"./LAI/ResultModelLAI\")\n",
    "# setAndTrainModel_addextrainput(\"./LAI/DataKey_RGB_DSM_LAI_time.csv\", \"time\", \"LAI\", RepVGGA1ConfidenceAddoneextrainput, \"./LAI/ResultModelLAI\")\n",
    "# setAndTrainModel_addextrainput(\"./LAI/DataKey_RGB_DSM_LAI_time.csv\", \"time\", \"LAI\", EfficientNetV2MConfidenceAddeonextrainput, \"./LAI/ResultModelLAI\")\n",
    "# setAndTrainModel_addextrainput(\"./LAI/DataKey_RGB_DSM_totEarWeight_LAI_time.csv\", [\"totEarWeight\", \"time\"], \"LAI\", EfficientNetV2SConfidenceAdd2Inputs, \"./LAI/ResultModelLAI\")\n",
    "# setAndTrainModel_addextrainput(\"./LAI/DataKey_RGB_DSM_totEarWeight_LAI_time.csv\", [\"totEarWeight\", \"time\"], \"LAI\", DenseNetConfidenceAdd2Inputs, \"./LAI/ResultModelLAI\")\n",
    "# setAndTrainModel_addextrainput(\"./LAI/DataKey_RGB_DSM_totEarWeight_LAI_time.csv\", [\"totEarWeight\", \"time\"], \"LAI\", EfficientNetV2MConfidenceAdd2Inputs, \"./LAI/ResultModelLAI\")\n",
    "# setAndTrainModel(\"./LAI/DataKey_RGB_DSM_LAI.csv\", \"LAI\", EfficientNetV2MWheatModelWithConfidence, \"./LAI/ResultModelLAI\")\n",
    "# setAndTrainModel(\"./LAI/DataKey_RGB_DSM_LAI.csv\", \"LAI\", RegNetY8GFModel, \"./LAI/ResultModelLAI\")\n",
    "# setAndTrainModel(\"./EarWeight/DataKey_RGB_DSM_totEarWeight.csv\", \"totEarWeight\", EfficientNetV2MWheatModelWithConfidence, \"./EarWeight/ResultModelEarWeight\")\n",
    "# setAndTrainModel(\"./EarWeight/DataKey_RGB_DSM_totEarWeight.csv\", \"totEarWeight\", RegNetY8GFModel, \"./EarWeight/ResultModelEarWeight\")\n",
    "# setAndTrainModel(\"./AverageEarSize/DataKey_RGB_DSM_avgEarSize.csv\", \"avgEarSize\", EfficientNetV2MWheatModelWithConfidence, \"./AverageEarSize/ResultModelAverageEarSize\")\n",
    "# setAndTrainModel(\"./AverageEarSize/DataKey_RGB_DSM_avgEarSize.csv\", \"avgEarSize\", RegNetY8GFModel, \"./AverageEarSize/ResultModelAverageEarSize\")\n",
    "# setAndTrainModel_addextrainput(\"./LAI/DataKey_RGB_DSM_totEarWeight_LAI_time.csv\", [\"totEarWeight\", \"time\"], \"LAI\", RepVGGA1ConfidenceAdd2Inputs, \"./LAI/ResultModelLAI\")\n",
    "# setAndTrainModel(\"./LAI/DataKey_RGB_DSM_LAI.csv\", \"LAI\", RepVGGB1g4Model, \"./LAI/ResultModelLAI\")\n",
    "# setAndTrainModel(\"./EarWeight/DataKey_RGB_DSM_totEarWeight.csv\", \"totEarWeight\", RepVGGB1g4Model, \"./EarWeight/ResultModelEarWeight\")\n",
    "# setAndTrainModel(\"./AverageEarSize/DataKey_RGB_DSM_avgEarSize.csv\", \"avgEarSize\", RepVGGB1g4Model, \"./AverageEarSize/ResultModelAverageEarSize\")\n",
    "# setAndTrainModel_addextrainput(\"./WheatEarCount/DataKey_RGB_DSM_totEarWeight_totEarNum.csv\", \"totEarWeight\", \"totWheatEars\", RegNetY8GFConfidenceAddoneextrainput, \"./WheatEarCount/ResultModelWheatEarCount\")\n",
    "# setAndTrainModel_addextrainput(\"./SPAD/DataKey_RGB_DSM_SPAD_time.csv\", \"time\", \"SPAD\", RegNetY8GFConfidenceAddoneextrainput, \"./SPAD/ResultModelSPAD\")\n",
    "# setAndTrainModel_addextrainput(\"./LAI/DataKey_RGB_DSM_totEarWeight_LAI.csv\", \"totEarWeight\", \"LAI\", RegNetY8GFConfidenceAddoneextrainput, \"./LAI/ResultModelLAI\")\n",
    "# setAndTrainModel_addextrainput(\"./LAI/DataKey_RGB_DSM_LAI_time.csv\", \"time\", \"LAI\", RegNetY8GFConfidenceAddoneextrainput, \"./LAI/ResultModelLAI\")\n",
    "# setAndTrainModel_addextrainput(\"./LAI/DataKey_RGB_DSM_totEarWeight_LAI_time.csv\", [\"totEarWeight\", \"time\"], \"LAI\", RegNetYConfidenceAdd2Inputs, \"./LAI/ResultModelLAI\")"
   ]
  },
  {
   "cell_type": "code",
   "execution_count": 3,
   "metadata": {},
   "outputs": [],
   "source": [
    "# setAndTrainModel(\"./LeafLength/DataKey_RGB_DSM_leafLength.csv\", \"leafLength\", EfficientNetV2MWheatModelWithConfidence, \"./LeafLength/ResultModelLeafLength\")\n",
    "# setAndTrainModel(\"./LeafLength/DataKey_RGB_DSM_leafLength.csv\", \"leafLength\", DenseNet121WheatModel, \"./LeafLength/ResultModelLeafLength\")\n",
    "# setAndTrainModel(\"./LeafLength/DataKey_RGB_DSM_leafLength.csv\", \"leafLength\", RegNetY8GFModel, \"./LeafLength/ResultModelLeafLength\")\n",
    "# setAndTrainModel(\"./LeafLength/DataKey_RGB_DSM_leafLength.csv\", \"leafLength\", MobileViTV2WheatModel, \"./LeafLength/ResultModelLeafLength\")\n",
    "# setAndTrainModel(\"./LeafLength/DataKey_RGB_DSM_leafLength.csv\", \"leafLength\", ConvNeXtTinyWheatModelWithConfidence, \"./LeafLength/ResultModelLeafLength\")\n",
    "# setAndTrainModel(\"./days/DataKey_RGB_DSM_days__NoERR.csv\", \"days\", EfficientNetV2MWheatModelWithConfidence, \"./days/ResultModelDaysAll\")\n",
    "# setAndTrainModel(\"./days/DataKey_RGB_DSM_days__NoERR.csv\", \"days\", DenseNet121WheatModel, \"./days/ResultModelDaysAll\")\n",
    "# setAndTrainModel(\"./days/DataKey_RGB_DSM_days__NoERR.csv\", \"days\", RegNetY8GFModel, \"./days/ResultModelDaysAll\")\n",
    "# setAndTrainModel(\"./days/DataKey_RGB_DSM_days__NoERR.csv\", \"days\", MobileViTV2WheatModel, \"./days/ResultModelDaysAll\")\n",
    "# setAndTrainModel(\"./days/DataKey_RGB_DSM_days__NoERR.csv\", \"days\", ConvNeXtTinyWheatModelWithConfidence, \"./days/ResultModelDaysAll\")\n",
    "# setAndTrainModel(\"./days/DataKey_RGB_DSM_days__NoERR_From3thM.csv\", \"days\", EfficientNetV2MWheatModelWithConfidence, \"./days/ResultModelDaysFrom3\")\n",
    "# setAndTrainModel(\"./days/DataKey_RGB_DSM_days__NoERR_From3thM.csv\", \"days\", DenseNet121WheatModel, \"./days/ResultModelDaysFrom3\")\n",
    "# setAndTrainModel(\"./days/DataKey_RGB_DSM_days__NoERR_From3thM.csv\", \"days\", RegNetY8GFModel, \"./days/ResultModelDaysFrom3\")\n",
    "# setAndTrainModel(\"./days/DataKey_RGB_DSM_days__NoERR_From3thM.csv\", \"days\", MobileViTV2WheatModel, \"./days/ResultModelDaysFrom3\")\n",
    "# setAndTrainModel(\"./days/DataKey_RGB_DSM_days__NoERR_From3thM.csv\", \"days\", ConvNeXtTinyWheatModelWithConfidence, \"./days/ResultModelDaysFrom3\")\n",
    "# setAndTrainModel(\"./days/DataKey_RGB_DSM_days__NoERR_From4thM.csv\", \"days\", EfficientNetV2MWheatModelWithConfidence, \"./days/ResultModelDaysFrom4\")\n",
    "# setAndTrainModel(\"./days/DataKey_RGB_DSM_days__NoERR_From4thM.csv\", \"days\", DenseNet121WheatModel, \"./days/ResultModelDaysFrom4\")\n",
    "# setAndTrainModel(\"./days/DataKey_RGB_DSM_days__NoERR_From4thM.csv\", \"days\", RegNetY8GFModel, \"./days/ResultModelDaysFrom4\")\n",
    "# setAndTrainModel(\"./days/DataKey_RGB_DSM_days__NoERR_From4thM.csv\", \"days\", MobileViTV2WheatModel, \"./days/ResultModelDaysFrom4\")\n",
    "# setAndTrainModel(\"./days/DataKey_RGB_DSM_days__NoERR_From4thM.csv\", \"days\", ConvNeXtTinyWheatModelWithConfidence, \"./days/ResultModelDaysFrom4\")"
   ]
  },
  {
   "cell_type": "code",
   "execution_count": 4,
   "metadata": {},
   "outputs": [
    {
     "name": "stdout",
     "output_type": "stream",
     "text": [
      "modelFor:Height_Backbone:MobileViTV2WheatModel_dataFile:DataKey_RGB_DSM_Height\n",
      "Save model to:  ./Height/ResultModelHeight/modelFor:Height_Backbone:MobileViTV2WheatModel_dataFile:DataKey_RGB_DSM_Height\n",
      "✅ Using device: mps\n",
      "✅ Safe Split → Train: 42840, Val: 5360, Test: 5360\n",
      "Train Batches: 2678, Validation Batches: 335, Test Batches: 335\n"
     ]
    },
    {
     "name": "stderr",
     "output_type": "stream",
     "text": [
      "/Users/ice/.pyenv/versions/3.10.10/lib/python3.10/site-packages/torch/__init__.py:1236: UserWarning: torch.set_default_tensor_type() is deprecated as of PyTorch 2.1, please use torch.set_default_dtype() and torch.set_default_device() as alternatives. (Triggered internally at /Users/runner/work/pytorch/pytorch/pytorch/torch/csrc/tensor/python_tensor.cpp:436.)\n",
      "  _C._set_default_tensor_type(t)\n",
      "Epoch 1/10:   0%|          | 0/2678 [00:00<?, ?it/s]Traceback (most recent call last):\n",
      "  File \"<string>\", line 1, in <module>\n",
      "  File \"/Users/ice/.pyenv/versions/3.10.10/lib/python3.10/multiprocessing/spawn.py\", line 116, in spawn_main\n",
      "    exitcode = _main(fd, parent_sentinel)\n",
      "  File \"/Users/ice/.pyenv/versions/3.10.10/lib/python3.10/multiprocessing/spawn.py\", line 126, in _main\n",
      "    self = reduction.pickle.load(from_parent)\n",
      "  File \"/Users/ice/Desktop/MasterResearch/MasterProj/Model_Creation/TraitPredictionModel/dataClass.py\", line 6, in <module>\n",
      "    import albumentations as A\n",
      "  File \"/Users/ice/.pyenv/versions/3.10.10/lib/python3.10/site-packages/albumentations/__init__.py\", line 18, in <module>\n",
      "Epoch 1/10:   0%|          | 0/2678 [00:04<?, ?it/s]    \n",
      "from .augmentations import *\n",
      "  File \"/Users/ice/.pyenv/versions/3.10.10/lib/python3.10/site-packages/albumentations/augmentations/__init__.py\", line 1, in <module>\n",
      "    from .blur.functional import *\n",
      "  File \"/Users/ice/.pyenv/versions/3.10.10/lib/python3.10/site-packages/albumentations/augmentations/blur/__init__.py\", line 1, in <module>\n",
      "    from .functional import *\n",
      "  File \"/Users/ice/.pyenv/versions/3.10.10/lib/python3.10/site-packages/albumentations/augmentations/blur/functional.py\", line 15, in <module>\n",
      "    from albumentations.augmentations.functional import convolve\n",
      "  File \"/Users/ice/.pyenv/versions/3.10.10/lib/python3.10/site-packages/albumentations/augmentations/functional.py\", line 35, in <module>\n",
      "    import albumentations.augmentations.geometric.functional as fgeometric\n",
      "  File \"/Users/ice/.pyenv/versions/3.10.10/lib/python3.10/site-packages/albumentations/augmentations/geometric/__init__.py\", line 2, in <module>\n",
      "    from .resize import *\n",
      "  File \"/Users/ice/.pyenv/versions/3.10.10/lib/python3.10/site-packages/albumentations/augmentations/geometric/resize.py\", line 9, in <module>\n",
      "    from pydantic import Field, field_validator, model_validator\n",
      "  File \"<frozen importlib._bootstrap>\", line 1075, in _handle_fromlist\n",
      "  File \"/Users/ice/.pyenv/versions/3.10.10/lib/python3.10/site-packages/pydantic/__init__.py\", line 421, in __getattr__\n",
      "    module = import_module(module_name, package=package)\n",
      "  File \"/Users/ice/.pyenv/versions/3.10.10/lib/python3.10/importlib/__init__.py\", line 126, in import_module\n",
      "    return _bootstrap._gcd_import(name[level:], package, level)\n",
      "  File \"/Users/ice/.pyenv/versions/3.10.10/lib/python3.10/site-packages/pydantic/fields.py\", line 21, in <module>\n",
      "    from ._internal import _decorators, _fields, _generics, _internal_dataclass, _repr, _typing_extra, _utils\n",
      "  File \"<frozen importlib._bootstrap>\", line 1027, in _find_and_load\n",
      "  File \"<frozen importlib._bootstrap>\", line 1006, in _find_and_load_unlocked\n",
      "  File \"<frozen importlib._bootstrap>\", line 688, in _load_unlocked\n",
      "  File \"<frozen importlib._bootstrap_external>\", line 879, in exec_module\n",
      "  File \"<frozen importlib._bootstrap_external>\", line 1012, in get_code\n",
      "  File \"<frozen importlib._bootstrap_external>\", line 672, in _compile_bytecode\n",
      "KeyboardInterrupt\n"
     ]
    },
    {
     "ename": "KeyboardInterrupt",
     "evalue": "",
     "output_type": "error",
     "traceback": [
      "\u001b[0;31m---------------------------------------------------------------------------\u001b[0m",
      "\u001b[0;31mKeyboardInterrupt\u001b[0m                         Traceback (most recent call last)",
      "Cell \u001b[0;32mIn[4], line 4\u001b[0m\n\u001b[1;32m      1\u001b[0m \u001b[38;5;66;03m# setAndTrainModel(\"./Height/DataKey_RGB_DSM_Height.csv\", \"Height\", EfficientNetV2MWheatModelWithConfidence, \"./Height/ResultModelHeight\")\u001b[39;00m\n\u001b[1;32m      2\u001b[0m \u001b[38;5;66;03m# setAndTrainModel(\"./Height/DataKey_RGB_DSM_Height.csv\", \"Height\", DenseNet121WheatModel, \"./Height/ResultModelHeight\")\u001b[39;00m\n\u001b[1;32m      3\u001b[0m \u001b[38;5;66;03m# setAndTrainModel(\"./Height/DataKey_RGB_DSM_Height.csv\", \"Height\", RegNetY8GFModel, \"./Height/ResultModelHeight\")\u001b[39;00m\n\u001b[0;32m----> 4\u001b[0m \u001b[43msetAndTrainModel\u001b[49m\u001b[43m(\u001b[49m\u001b[38;5;124;43m\"\u001b[39;49m\u001b[38;5;124;43m./Height/DataKey_RGB_DSM_Height.csv\u001b[39;49m\u001b[38;5;124;43m\"\u001b[39;49m\u001b[43m,\u001b[49m\u001b[43m \u001b[49m\u001b[38;5;124;43m\"\u001b[39;49m\u001b[38;5;124;43mHeight\u001b[39;49m\u001b[38;5;124;43m\"\u001b[39;49m\u001b[43m,\u001b[49m\u001b[43m \u001b[49m\u001b[43mMobileViTV2WheatModel\u001b[49m\u001b[43m,\u001b[49m\u001b[43m \u001b[49m\u001b[38;5;124;43m\"\u001b[39;49m\u001b[38;5;124;43m./Height/ResultModelHeight\u001b[39;49m\u001b[38;5;124;43m\"\u001b[39;49m\u001b[43m)\u001b[49m\n\u001b[1;32m      5\u001b[0m setAndTrainModel(\u001b[38;5;124m\"\u001b[39m\u001b[38;5;124m./Height/DataKey_RGB_DSM_Height.csv\u001b[39m\u001b[38;5;124m\"\u001b[39m, \u001b[38;5;124m\"\u001b[39m\u001b[38;5;124mHeight\u001b[39m\u001b[38;5;124m\"\u001b[39m, ConvNeXtTinyWheatModelWithConfidence, \u001b[38;5;124m\"\u001b[39m\u001b[38;5;124m./Height/ResultModelHeight\u001b[39m\u001b[38;5;124m\"\u001b[39m)\n",
      "File \u001b[0;32m~/Desktop/MasterResearch/MasterProj/Model_Creation/TraitPredictionModel/modelFunc.py:258\u001b[0m, in \u001b[0;36msetAndTrainModel\u001b[0;34m(dataPath, traitName, model, savePath, num_epochs)\u001b[0m\n\u001b[1;32m    255\u001b[0m scheduler \u001b[38;5;241m=\u001b[39m torch\u001b[38;5;241m.\u001b[39moptim\u001b[38;5;241m.\u001b[39mlr_scheduler\u001b[38;5;241m.\u001b[39mReduceLROnPlateau(optimizer, mode\u001b[38;5;241m=\u001b[39m\u001b[38;5;124m'\u001b[39m\u001b[38;5;124mmin\u001b[39m\u001b[38;5;124m'\u001b[39m, factor\u001b[38;5;241m=\u001b[39m\u001b[38;5;241m0.5\u001b[39m, patience\u001b[38;5;241m=\u001b[39m\u001b[38;5;241m2\u001b[39m)\n\u001b[1;32m    257\u001b[0m \u001b[38;5;66;03m# train and save model\u001b[39;00m\n\u001b[0;32m--> 258\u001b[0m \u001b[43mtrain_model_laplace\u001b[49m\u001b[43m(\u001b[49m\u001b[43mmodelName\u001b[49m\u001b[43m,\u001b[49m\u001b[43m \u001b[49m\u001b[43mtrain_loader\u001b[49m\u001b[43m,\u001b[49m\u001b[43m \u001b[49m\u001b[43mval_loader\u001b[49m\u001b[43m,\u001b[49m\u001b[43m \u001b[49m\u001b[43moptimizer\u001b[49m\u001b[43m,\u001b[49m\u001b[43m \u001b[49m\u001b[43mscheduler\u001b[49m\u001b[43m,\u001b[49m\u001b[43m \u001b[49m\u001b[43mdevice\u001b[49m\u001b[43m,\u001b[49m\u001b[43m \u001b[49m\u001b[43msaveModelPath\u001b[49m\u001b[43m,\u001b[49m\u001b[43m  \u001b[49m\u001b[43mnum_epochs\u001b[49m\u001b[43m \u001b[49m\u001b[38;5;241;43m=\u001b[39;49m\u001b[43m \u001b[49m\u001b[43mnum_epochs\u001b[49m\u001b[43m)\u001b[49m\n",
      "File \u001b[0;32m~/Desktop/MasterResearch/MasterProj/Model_Creation/TraitPredictionModel/modelFunc.py:78\u001b[0m, in \u001b[0;36mtrain_model_laplace\u001b[0;34m(model, train_loader, val_loader, optimizer, scheduler, device, fileName, num_epochs)\u001b[0m\n\u001b[1;32m     75\u001b[0m model\u001b[38;5;241m.\u001b[39mtrain()\n\u001b[1;32m     76\u001b[0m train_loss \u001b[38;5;241m=\u001b[39m \u001b[38;5;241m0.0\u001b[39m\n\u001b[0;32m---> 78\u001b[0m \u001b[38;5;28;01mfor\u001b[39;00m rgb_batch, dsm_batch, label_batch \u001b[38;5;129;01min\u001b[39;00m tqdm(train_loader, desc\u001b[38;5;241m=\u001b[39m\u001b[38;5;124mf\u001b[39m\u001b[38;5;124m\"\u001b[39m\u001b[38;5;124mEpoch \u001b[39m\u001b[38;5;132;01m{\u001b[39;00mepoch\u001b[38;5;241m+\u001b[39m\u001b[38;5;241m1\u001b[39m\u001b[38;5;132;01m}\u001b[39;00m\u001b[38;5;124m/\u001b[39m\u001b[38;5;132;01m{\u001b[39;00mnum_epochs\u001b[38;5;132;01m}\u001b[39;00m\u001b[38;5;124m\"\u001b[39m):\n\u001b[1;32m     79\u001b[0m     rgb_batch \u001b[38;5;241m=\u001b[39m rgb_batch\u001b[38;5;241m.\u001b[39mto(device)\n\u001b[1;32m     80\u001b[0m     dsm_batch \u001b[38;5;241m=\u001b[39m dsm_batch\u001b[38;5;241m.\u001b[39mto(device)\n",
      "File \u001b[0;32m~/.pyenv/versions/3.10.10/lib/python3.10/site-packages/tqdm/std.py:1181\u001b[0m, in \u001b[0;36mtqdm.__iter__\u001b[0;34m(self)\u001b[0m\n\u001b[1;32m   1178\u001b[0m time \u001b[38;5;241m=\u001b[39m \u001b[38;5;28mself\u001b[39m\u001b[38;5;241m.\u001b[39m_time\n\u001b[1;32m   1180\u001b[0m \u001b[38;5;28;01mtry\u001b[39;00m:\n\u001b[0;32m-> 1181\u001b[0m     \u001b[38;5;28;01mfor\u001b[39;00m obj \u001b[38;5;129;01min\u001b[39;00m iterable:\n\u001b[1;32m   1182\u001b[0m         \u001b[38;5;28;01myield\u001b[39;00m obj\n\u001b[1;32m   1183\u001b[0m         \u001b[38;5;66;03m# Update and possibly print the progressbar.\u001b[39;00m\n\u001b[1;32m   1184\u001b[0m         \u001b[38;5;66;03m# Note: does not call self.update(1) for speed optimisation.\u001b[39;00m\n",
      "File \u001b[0;32m~/.pyenv/versions/3.10.10/lib/python3.10/site-packages/torch/utils/data/dataloader.py:491\u001b[0m, in \u001b[0;36mDataLoader.__iter__\u001b[0;34m(self)\u001b[0m\n\u001b[1;32m    489\u001b[0m     \u001b[38;5;28;01mreturn\u001b[39;00m \u001b[38;5;28mself\u001b[39m\u001b[38;5;241m.\u001b[39m_iterator\n\u001b[1;32m    490\u001b[0m \u001b[38;5;28;01melse\u001b[39;00m:\n\u001b[0;32m--> 491\u001b[0m     \u001b[38;5;28;01mreturn\u001b[39;00m \u001b[38;5;28;43mself\u001b[39;49m\u001b[38;5;241;43m.\u001b[39;49m\u001b[43m_get_iterator\u001b[49m\u001b[43m(\u001b[49m\u001b[43m)\u001b[49m\n",
      "File \u001b[0;32m~/.pyenv/versions/3.10.10/lib/python3.10/site-packages/torch/utils/data/dataloader.py:422\u001b[0m, in \u001b[0;36mDataLoader._get_iterator\u001b[0;34m(self)\u001b[0m\n\u001b[1;32m    420\u001b[0m \u001b[38;5;28;01melse\u001b[39;00m:\n\u001b[1;32m    421\u001b[0m     \u001b[38;5;28mself\u001b[39m\u001b[38;5;241m.\u001b[39mcheck_worker_number_rationality()\n\u001b[0;32m--> 422\u001b[0m     \u001b[38;5;28;01mreturn\u001b[39;00m \u001b[43m_MultiProcessingDataLoaderIter\u001b[49m\u001b[43m(\u001b[49m\u001b[38;5;28;43mself\u001b[39;49m\u001b[43m)\u001b[49m\n",
      "File \u001b[0;32m~/.pyenv/versions/3.10.10/lib/python3.10/site-packages/torch/utils/data/dataloader.py:1146\u001b[0m, in \u001b[0;36m_MultiProcessingDataLoaderIter.__init__\u001b[0;34m(self, loader)\u001b[0m\n\u001b[1;32m   1139\u001b[0m w\u001b[38;5;241m.\u001b[39mdaemon \u001b[38;5;241m=\u001b[39m \u001b[38;5;28;01mTrue\u001b[39;00m\n\u001b[1;32m   1140\u001b[0m \u001b[38;5;66;03m# NB: Process.start() actually take some time as it needs to\u001b[39;00m\n\u001b[1;32m   1141\u001b[0m \u001b[38;5;66;03m#     start a process and pass the arguments over via a pipe.\u001b[39;00m\n\u001b[1;32m   1142\u001b[0m \u001b[38;5;66;03m#     Therefore, we only add a worker to self._workers list after\u001b[39;00m\n\u001b[1;32m   1143\u001b[0m \u001b[38;5;66;03m#     it started, so that we do not call .join() if program dies\u001b[39;00m\n\u001b[1;32m   1144\u001b[0m \u001b[38;5;66;03m#     before it starts, and __del__ tries to join but will get:\u001b[39;00m\n\u001b[1;32m   1145\u001b[0m \u001b[38;5;66;03m#     AssertionError: can only join a started process.\u001b[39;00m\n\u001b[0;32m-> 1146\u001b[0m \u001b[43mw\u001b[49m\u001b[38;5;241;43m.\u001b[39;49m\u001b[43mstart\u001b[49m\u001b[43m(\u001b[49m\u001b[43m)\u001b[49m\n\u001b[1;32m   1147\u001b[0m \u001b[38;5;28mself\u001b[39m\u001b[38;5;241m.\u001b[39m_index_queues\u001b[38;5;241m.\u001b[39mappend(index_queue)\n\u001b[1;32m   1148\u001b[0m \u001b[38;5;28mself\u001b[39m\u001b[38;5;241m.\u001b[39m_workers\u001b[38;5;241m.\u001b[39mappend(w)\n",
      "File \u001b[0;32m~/.pyenv/versions/3.10.10/lib/python3.10/multiprocessing/process.py:121\u001b[0m, in \u001b[0;36mBaseProcess.start\u001b[0;34m(self)\u001b[0m\n\u001b[1;32m    118\u001b[0m \u001b[38;5;28;01massert\u001b[39;00m \u001b[38;5;129;01mnot\u001b[39;00m _current_process\u001b[38;5;241m.\u001b[39m_config\u001b[38;5;241m.\u001b[39mget(\u001b[38;5;124m'\u001b[39m\u001b[38;5;124mdaemon\u001b[39m\u001b[38;5;124m'\u001b[39m), \\\n\u001b[1;32m    119\u001b[0m        \u001b[38;5;124m'\u001b[39m\u001b[38;5;124mdaemonic processes are not allowed to have children\u001b[39m\u001b[38;5;124m'\u001b[39m\n\u001b[1;32m    120\u001b[0m _cleanup()\n\u001b[0;32m--> 121\u001b[0m \u001b[38;5;28mself\u001b[39m\u001b[38;5;241m.\u001b[39m_popen \u001b[38;5;241m=\u001b[39m \u001b[38;5;28;43mself\u001b[39;49m\u001b[38;5;241;43m.\u001b[39;49m\u001b[43m_Popen\u001b[49m\u001b[43m(\u001b[49m\u001b[38;5;28;43mself\u001b[39;49m\u001b[43m)\u001b[49m\n\u001b[1;32m    122\u001b[0m \u001b[38;5;28mself\u001b[39m\u001b[38;5;241m.\u001b[39m_sentinel \u001b[38;5;241m=\u001b[39m \u001b[38;5;28mself\u001b[39m\u001b[38;5;241m.\u001b[39m_popen\u001b[38;5;241m.\u001b[39msentinel\n\u001b[1;32m    123\u001b[0m \u001b[38;5;66;03m# Avoid a refcycle if the target function holds an indirect\u001b[39;00m\n\u001b[1;32m    124\u001b[0m \u001b[38;5;66;03m# reference to the process object (see bpo-30775)\u001b[39;00m\n",
      "File \u001b[0;32m~/.pyenv/versions/3.10.10/lib/python3.10/multiprocessing/context.py:224\u001b[0m, in \u001b[0;36mProcess._Popen\u001b[0;34m(process_obj)\u001b[0m\n\u001b[1;32m    222\u001b[0m \u001b[38;5;129m@staticmethod\u001b[39m\n\u001b[1;32m    223\u001b[0m \u001b[38;5;28;01mdef\u001b[39;00m \u001b[38;5;21m_Popen\u001b[39m(process_obj):\n\u001b[0;32m--> 224\u001b[0m     \u001b[38;5;28;01mreturn\u001b[39;00m \u001b[43m_default_context\u001b[49m\u001b[38;5;241;43m.\u001b[39;49m\u001b[43mget_context\u001b[49m\u001b[43m(\u001b[49m\u001b[43m)\u001b[49m\u001b[38;5;241;43m.\u001b[39;49m\u001b[43mProcess\u001b[49m\u001b[38;5;241;43m.\u001b[39;49m\u001b[43m_Popen\u001b[49m\u001b[43m(\u001b[49m\u001b[43mprocess_obj\u001b[49m\u001b[43m)\u001b[49m\n",
      "File \u001b[0;32m~/.pyenv/versions/3.10.10/lib/python3.10/multiprocessing/context.py:288\u001b[0m, in \u001b[0;36mSpawnProcess._Popen\u001b[0;34m(process_obj)\u001b[0m\n\u001b[1;32m    285\u001b[0m \u001b[38;5;129m@staticmethod\u001b[39m\n\u001b[1;32m    286\u001b[0m \u001b[38;5;28;01mdef\u001b[39;00m \u001b[38;5;21m_Popen\u001b[39m(process_obj):\n\u001b[1;32m    287\u001b[0m     \u001b[38;5;28;01mfrom\u001b[39;00m \u001b[38;5;21;01m.\u001b[39;00m\u001b[38;5;21;01mpopen_spawn_posix\u001b[39;00m \u001b[38;5;28;01mimport\u001b[39;00m Popen\n\u001b[0;32m--> 288\u001b[0m     \u001b[38;5;28;01mreturn\u001b[39;00m \u001b[43mPopen\u001b[49m\u001b[43m(\u001b[49m\u001b[43mprocess_obj\u001b[49m\u001b[43m)\u001b[49m\n",
      "File \u001b[0;32m~/.pyenv/versions/3.10.10/lib/python3.10/multiprocessing/popen_spawn_posix.py:32\u001b[0m, in \u001b[0;36mPopen.__init__\u001b[0;34m(self, process_obj)\u001b[0m\n\u001b[1;32m     30\u001b[0m \u001b[38;5;28;01mdef\u001b[39;00m \u001b[38;5;21m__init__\u001b[39m(\u001b[38;5;28mself\u001b[39m, process_obj):\n\u001b[1;32m     31\u001b[0m     \u001b[38;5;28mself\u001b[39m\u001b[38;5;241m.\u001b[39m_fds \u001b[38;5;241m=\u001b[39m []\n\u001b[0;32m---> 32\u001b[0m     \u001b[38;5;28;43msuper\u001b[39;49m\u001b[43m(\u001b[49m\u001b[43m)\u001b[49m\u001b[38;5;241;43m.\u001b[39;49m\u001b[38;5;21;43m__init__\u001b[39;49m\u001b[43m(\u001b[49m\u001b[43mprocess_obj\u001b[49m\u001b[43m)\u001b[49m\n",
      "File \u001b[0;32m~/.pyenv/versions/3.10.10/lib/python3.10/multiprocessing/popen_fork.py:19\u001b[0m, in \u001b[0;36mPopen.__init__\u001b[0;34m(self, process_obj)\u001b[0m\n\u001b[1;32m     17\u001b[0m \u001b[38;5;28mself\u001b[39m\u001b[38;5;241m.\u001b[39mreturncode \u001b[38;5;241m=\u001b[39m \u001b[38;5;28;01mNone\u001b[39;00m\n\u001b[1;32m     18\u001b[0m \u001b[38;5;28mself\u001b[39m\u001b[38;5;241m.\u001b[39mfinalizer \u001b[38;5;241m=\u001b[39m \u001b[38;5;28;01mNone\u001b[39;00m\n\u001b[0;32m---> 19\u001b[0m \u001b[38;5;28;43mself\u001b[39;49m\u001b[38;5;241;43m.\u001b[39;49m\u001b[43m_launch\u001b[49m\u001b[43m(\u001b[49m\u001b[43mprocess_obj\u001b[49m\u001b[43m)\u001b[49m\n",
      "File \u001b[0;32m~/.pyenv/versions/3.10.10/lib/python3.10/multiprocessing/popen_spawn_posix.py:62\u001b[0m, in \u001b[0;36mPopen._launch\u001b[0;34m(self, process_obj)\u001b[0m\n\u001b[1;32m     60\u001b[0m     \u001b[38;5;28mself\u001b[39m\u001b[38;5;241m.\u001b[39msentinel \u001b[38;5;241m=\u001b[39m parent_r\n\u001b[1;32m     61\u001b[0m     \u001b[38;5;28;01mwith\u001b[39;00m \u001b[38;5;28mopen\u001b[39m(parent_w, \u001b[38;5;124m'\u001b[39m\u001b[38;5;124mwb\u001b[39m\u001b[38;5;124m'\u001b[39m, closefd\u001b[38;5;241m=\u001b[39m\u001b[38;5;28;01mFalse\u001b[39;00m) \u001b[38;5;28;01mas\u001b[39;00m f:\n\u001b[0;32m---> 62\u001b[0m         \u001b[43mf\u001b[49m\u001b[38;5;241;43m.\u001b[39;49m\u001b[43mwrite\u001b[49m\u001b[43m(\u001b[49m\u001b[43mfp\u001b[49m\u001b[38;5;241;43m.\u001b[39;49m\u001b[43mgetbuffer\u001b[49m\u001b[43m(\u001b[49m\u001b[43m)\u001b[49m\u001b[43m)\u001b[49m\n\u001b[1;32m     63\u001b[0m \u001b[38;5;28;01mfinally\u001b[39;00m:\n\u001b[1;32m     64\u001b[0m     fds_to_close \u001b[38;5;241m=\u001b[39m []\n",
      "\u001b[0;31mKeyboardInterrupt\u001b[0m: "
     ]
    }
   ],
   "source": [
    "# setAndTrainModel(\"./Height/DataKey_RGB_DSM_Height.csv\", \"Height\", EfficientNetV2MWheatModelWithConfidence, \"./Height/ResultModelHeight\")\n",
    "# setAndTrainModel(\"./Height/DataKey_RGB_DSM_Height.csv\", \"Height\", DenseNet121WheatModel, \"./Height/ResultModelHeight\")\n",
    "# setAndTrainModel(\"./Height/DataKey_RGB_DSM_Height.csv\", \"Height\", RegNetY8GFModel, \"./Height/ResultModelHeight\")\n",
    "setAndTrainModel(\"./Height/DataKey_RGB_DSM_Height.csv\", \"Height\", MobileViTV2WheatModel, \"./Height/ResultModelHeight\")\n",
    "setAndTrainModel(\"./Height/DataKey_RGB_DSM_Height.csv\", \"Height\", ConvNeXtTinyWheatModelWithConfidence, \"./Height/ResultModelHeight\")"
   ]
  },
  {
   "cell_type": "code",
   "execution_count": null,
   "metadata": {},
   "outputs": [],
   "source": [
    "# setAndTrainModel(\"./StrawWeightAfterDry/DataKey_RGB_DSM_20StrawWeightAfterDry.csv\", \"20StrawWeightAfterDry\", EfficientNetV2MWheatModelWithConfidence, \"./StrawWeightAfterDry/ResultModelStrawWeightAfterDry\")\n",
    "# setAndTrainModel(\"./StrawWeightAfterDry/DataKey_RGB_DSM_20StrawWeightAfterDry.csv\", \"20StrawWeightAfterDry\", DenseNet121WheatModel, \"./StrawWeightAfterDry/ResultModelStrawWeightAfterDry\")\n",
    "setAndTrainModel(\"./StrawWeightAfterDry/DataKey_RGB_DSM_20StrawWeightAfterDry.csv\", \"20StrawWeightAfterDry\", RegNetY8GFModel, \"./StrawWeightAfterDry/ResultModelStrawWeightAfterDry\")\n",
    "setAndTrainModel(\"./StrawWeightAfterDry/DataKey_RGB_DSM_20StrawWeightAfterDry.csv\", \"20StrawWeightAfterDry\", MobileViTV2WheatModel, \"./StrawWeightAfterDry/ResultModelStrawWeightAfterDry\")\n",
    "setAndTrainModel(\"./StrawWeightAfterDry/DataKey_RGB_DSM_20StrawWeightAfterDry.csv\", \"20StrawWeightAfterDry\", ConvNeXtTinyWheatModelWithConfidence, \"./StrawWeightAfterDry/ResultModelStrawWeightAfterDry\")"
   ]
  },
  {
   "cell_type": "code",
   "execution_count": 2,
   "metadata": {},
   "outputs": [
    {
     "name": "stdout",
     "output_type": "stream",
     "text": [
      "✅ Save model to: ./StrawWeightAfterDry/ResultModelStrawWeightAfterDry/modelFor-20StrawWeightAfterDry_Backbone-EfficientNetV2MConfidenceAddeonextrainput_dataFile-DataKey_RGB_DSM_20StrawWeightBeforeDry_20StrawWeightAfterDry_extraInput-20StrawWeightBeforeDry_\n",
      "✅ Using device: mps\n",
      "✅ Safe Split → Train: 47840, Val: 5960, Test: 6000\n",
      "Train Batches: 2990, Validation Batches: 373, Test Batches: 375\n"
     ]
    },
    {
     "name": "stderr",
     "output_type": "stream",
     "text": [
      "/Users/ice/.pyenv/versions/3.10.10/lib/python3.10/site-packages/torch/__init__.py:1236: UserWarning: torch.set_default_tensor_type() is deprecated as of PyTorch 2.1, please use torch.set_default_dtype() and torch.set_default_device() as alternatives. (Triggered internally at /Users/runner/work/pytorch/pytorch/pytorch/torch/csrc/tensor/python_tensor.cpp:436.)\n",
      "  _C._set_default_tensor_type(t)\n",
      "Epoch 1/10:   0%|          | 0/2990 [00:02<?, ?it/s]Traceback (most recent call last):\n",
      "  File \"<string>\", line 1, in <module>\n",
      "\n",
      "  File \"/Users/ice/.pyenv/versions/3.10.10/lib/python3.10/multiprocessing/spawn.py\", line 116, in spawn_main\n",
      "    exitcode = _main(fd, parent_sentinel)\n",
      "  File \"/Users/ice/.pyenv/versions/3.10.10/lib/python3.10/multiprocessing/spawn.py\", line 126, in _main\n",
      "    self = reduction.pickle.load(from_parent)\n",
      "  File \"/Users/ice/.pyenv/versions/3.10.10/lib/python3.10/site-packages/pandas/__init__.py\", line 49, in <module>\n",
      "    from pandas.core.api import (\n",
      "  File \"/Users/ice/.pyenv/versions/3.10.10/lib/python3.10/site-packages/pandas/core/api.py\", line 47, in <module>\n",
      "    from pandas.core.groupby import (\n",
      "  File \"/Users/ice/.pyenv/versions/3.10.10/lib/python3.10/site-packages/pandas/core/groupby/__init__.py\", line 1, in <module>\n",
      "    from pandas.core.groupby.generic import (\n",
      "  File \"/Users/ice/.pyenv/versions/3.10.10/lib/python3.10/site-packages/pandas/core/groupby/generic.py\", line 68, in <module>\n",
      "    from pandas.core.frame import DataFrame\n",
      "  File \"/Users/ice/.pyenv/versions/3.10.10/lib/python3.10/site-packages/pandas/core/frame.py\", line 149, in <module>\n",
      "    from pandas.core.generic import (\n",
      "  File \"<frozen importlib._bootstrap>\", line 1027, in _find_and_load\n",
      "  File \"<frozen importlib._bootstrap>\", line 1006, in _find_and_load_unlocked\n",
      "  File \"<frozen importlib._bootstrap>\", line 688, in _load_unlocked\n",
      "  File \"<frozen importlib._bootstrap_external>\", line 879, in exec_module\n",
      "  File \"<frozen importlib._bootstrap_external>\", line 1012, in get_code\n",
      "  File \"<frozen importlib._bootstrap_external>\", line 672, in _compile_bytecode\n",
      "KeyboardInterrupt\n"
     ]
    },
    {
     "ename": "KeyboardInterrupt",
     "evalue": "",
     "output_type": "error",
     "traceback": [
      "\u001b[0;31m---------------------------------------------------------------------------\u001b[0m",
      "\u001b[0;31mKeyboardInterrupt\u001b[0m                         Traceback (most recent call last)",
      "Cell \u001b[0;32mIn[2], line 1\u001b[0m\n\u001b[0;32m----> 1\u001b[0m \u001b[43msetAndTrainModel_addextrainput\u001b[49m\u001b[43m(\u001b[49m\u001b[38;5;124;43m\"\u001b[39;49m\u001b[38;5;124;43m./StrawWeightAfterDry/DataKey_RGB_DSM_20StrawWeightBeforeDry_20StrawWeightAfterDry.csv\u001b[39;49m\u001b[38;5;124;43m\"\u001b[39;49m\u001b[43m,\u001b[49m\u001b[43m \u001b[49m\u001b[38;5;124;43m\"\u001b[39;49m\u001b[38;5;124;43m20StrawWeightBeforeDry\u001b[39;49m\u001b[38;5;124;43m\"\u001b[39;49m\u001b[43m,\u001b[49m\u001b[43m \u001b[49m\u001b[38;5;124;43m\"\u001b[39;49m\u001b[38;5;124;43m20StrawWeightAfterDry\u001b[39;49m\u001b[38;5;124;43m\"\u001b[39;49m\u001b[43m,\u001b[49m\u001b[43m \u001b[49m\u001b[43mEfficientNetV2MConfidenceAddeonextrainput\u001b[49m\u001b[43m,\u001b[49m\u001b[43m \u001b[49m\u001b[38;5;124;43m\"\u001b[39;49m\u001b[38;5;124;43m./StrawWeightAfterDry/ResultModelStrawWeightAfterDry\u001b[39;49m\u001b[38;5;124;43m\"\u001b[39;49m\u001b[43m)\u001b[49m\n\u001b[1;32m      2\u001b[0m setAndTrainModel_addextrainput(\u001b[38;5;124m\"\u001b[39m\u001b[38;5;124m./StrawWeightAfterDry/DataKey_RGB_DSM_20StrawWeightBeforeDry_20StrawWeightAfterDry.csv\u001b[39m\u001b[38;5;124m\"\u001b[39m, \u001b[38;5;124m\"\u001b[39m\u001b[38;5;124m20StrawWeightBeforeDry\u001b[39m\u001b[38;5;124m\"\u001b[39m, \u001b[38;5;124m\"\u001b[39m\u001b[38;5;124m20StrawWeightAfterDry\u001b[39m\u001b[38;5;124m\"\u001b[39m, DenseNetConfidenceAddoneextrainput, \u001b[38;5;124m\"\u001b[39m\u001b[38;5;124m./StrawWeightAfterDry/ResultModelStrawWeightAfterDry\u001b[39m\u001b[38;5;124m\"\u001b[39m)\n\u001b[1;32m      3\u001b[0m setAndTrainModel_addextrainput(\u001b[38;5;124m\"\u001b[39m\u001b[38;5;124m./StrawWeightAfterDry/DataKey_RGB_DSM_20StrawWeightBeforeDry_20StrawWeightAfterDry.csv\u001b[39m\u001b[38;5;124m\"\u001b[39m, \u001b[38;5;124m\"\u001b[39m\u001b[38;5;124m20StrawWeightBeforeDry\u001b[39m\u001b[38;5;124m\"\u001b[39m, \u001b[38;5;124m\"\u001b[39m\u001b[38;5;124m20StrawWeightAfterDry\u001b[39m\u001b[38;5;124m\"\u001b[39m, RegNetY8GFConfidenceAddoneextrainput, \u001b[38;5;124m\"\u001b[39m\u001b[38;5;124m./StrawWeightAfterDry/ResultModelStrawWeightAfterDry\u001b[39m\u001b[38;5;124m\"\u001b[39m)\n",
      "File \u001b[0;32m~/Desktop/MasterResearch/MasterProj/Model_Creation/TraitPredictionModel/modelFunc.py:291\u001b[0m, in \u001b[0;36msetAndTrainModel_addextrainput\u001b[0;34m(dataPath, extraInputName, traitName, model, savePath, num_epochs)\u001b[0m\n\u001b[1;32m    288\u001b[0m scheduler \u001b[38;5;241m=\u001b[39m torch\u001b[38;5;241m.\u001b[39moptim\u001b[38;5;241m.\u001b[39mlr_scheduler\u001b[38;5;241m.\u001b[39mReduceLROnPlateau(optimizer, mode\u001b[38;5;241m=\u001b[39m\u001b[38;5;124m'\u001b[39m\u001b[38;5;124mmin\u001b[39m\u001b[38;5;124m'\u001b[39m, factor\u001b[38;5;241m=\u001b[39m\u001b[38;5;241m0.5\u001b[39m, patience\u001b[38;5;241m=\u001b[39m\u001b[38;5;241m2\u001b[39m)\n\u001b[1;32m    290\u001b[0m \u001b[38;5;66;03m# Train model\u001b[39;00m\n\u001b[0;32m--> 291\u001b[0m \u001b[43mtrain_model_laplace_addextrainput\u001b[49m\u001b[43m(\u001b[49m\n\u001b[1;32m    292\u001b[0m \u001b[43m    \u001b[49m\u001b[43mmodelInstance\u001b[49m\u001b[43m,\u001b[49m\u001b[43m \u001b[49m\u001b[43mtrain_loader\u001b[49m\u001b[43m,\u001b[49m\u001b[43m \u001b[49m\u001b[43mval_loader\u001b[49m\u001b[43m,\u001b[49m\u001b[43m \u001b[49m\u001b[43moptimizer\u001b[49m\u001b[43m,\u001b[49m\u001b[43m \u001b[49m\u001b[43mscheduler\u001b[49m\u001b[43m,\u001b[49m\u001b[43m \u001b[49m\u001b[43mdevice\u001b[49m\u001b[43m,\u001b[49m\u001b[43m \u001b[49m\u001b[43msaveModelPath\u001b[49m\u001b[43m,\u001b[49m\u001b[43m \u001b[49m\u001b[43mnum_epochs\u001b[49m\u001b[38;5;241;43m=\u001b[39;49m\u001b[43mnum_epochs\u001b[49m\n\u001b[1;32m    293\u001b[0m \u001b[43m\u001b[49m\u001b[43m)\u001b[49m\n",
      "File \u001b[0;32m~/Desktop/MasterResearch/MasterProj/Model_Creation/TraitPredictionModel/modelFunc.py:174\u001b[0m, in \u001b[0;36mtrain_model_laplace_addextrainput\u001b[0;34m(model, train_loader, val_loader, optimizer, scheduler, device, fileName, num_epochs)\u001b[0m\n\u001b[1;32m    171\u001b[0m model\u001b[38;5;241m.\u001b[39mtrain()\n\u001b[1;32m    172\u001b[0m train_loss \u001b[38;5;241m=\u001b[39m \u001b[38;5;241m0.0\u001b[39m\n\u001b[0;32m--> 174\u001b[0m \u001b[38;5;28;01mfor\u001b[39;00m rgb_batch, dsm_batch, extra_input_batch, label_batch \u001b[38;5;129;01min\u001b[39;00m tqdm(train_loader, desc\u001b[38;5;241m=\u001b[39m\u001b[38;5;124mf\u001b[39m\u001b[38;5;124m\"\u001b[39m\u001b[38;5;124mEpoch \u001b[39m\u001b[38;5;132;01m{\u001b[39;00mepoch\u001b[38;5;241m+\u001b[39m\u001b[38;5;241m1\u001b[39m\u001b[38;5;132;01m}\u001b[39;00m\u001b[38;5;124m/\u001b[39m\u001b[38;5;132;01m{\u001b[39;00mnum_epochs\u001b[38;5;132;01m}\u001b[39;00m\u001b[38;5;124m\"\u001b[39m):\n\u001b[1;32m    175\u001b[0m     rgb_batch \u001b[38;5;241m=\u001b[39m rgb_batch\u001b[38;5;241m.\u001b[39mto(device)\n\u001b[1;32m    176\u001b[0m     dsm_batch \u001b[38;5;241m=\u001b[39m dsm_batch\u001b[38;5;241m.\u001b[39mto(device)\n",
      "File \u001b[0;32m~/.pyenv/versions/3.10.10/lib/python3.10/site-packages/tqdm/std.py:1181\u001b[0m, in \u001b[0;36mtqdm.__iter__\u001b[0;34m(self)\u001b[0m\n\u001b[1;32m   1178\u001b[0m time \u001b[38;5;241m=\u001b[39m \u001b[38;5;28mself\u001b[39m\u001b[38;5;241m.\u001b[39m_time\n\u001b[1;32m   1180\u001b[0m \u001b[38;5;28;01mtry\u001b[39;00m:\n\u001b[0;32m-> 1181\u001b[0m     \u001b[38;5;28;01mfor\u001b[39;00m obj \u001b[38;5;129;01min\u001b[39;00m iterable:\n\u001b[1;32m   1182\u001b[0m         \u001b[38;5;28;01myield\u001b[39;00m obj\n\u001b[1;32m   1183\u001b[0m         \u001b[38;5;66;03m# Update and possibly print the progressbar.\u001b[39;00m\n\u001b[1;32m   1184\u001b[0m         \u001b[38;5;66;03m# Note: does not call self.update(1) for speed optimisation.\u001b[39;00m\n",
      "File \u001b[0;32m~/.pyenv/versions/3.10.10/lib/python3.10/site-packages/torch/utils/data/dataloader.py:491\u001b[0m, in \u001b[0;36mDataLoader.__iter__\u001b[0;34m(self)\u001b[0m\n\u001b[1;32m    489\u001b[0m     \u001b[38;5;28;01mreturn\u001b[39;00m \u001b[38;5;28mself\u001b[39m\u001b[38;5;241m.\u001b[39m_iterator\n\u001b[1;32m    490\u001b[0m \u001b[38;5;28;01melse\u001b[39;00m:\n\u001b[0;32m--> 491\u001b[0m     \u001b[38;5;28;01mreturn\u001b[39;00m \u001b[38;5;28;43mself\u001b[39;49m\u001b[38;5;241;43m.\u001b[39;49m\u001b[43m_get_iterator\u001b[49m\u001b[43m(\u001b[49m\u001b[43m)\u001b[49m\n",
      "File \u001b[0;32m~/.pyenv/versions/3.10.10/lib/python3.10/site-packages/torch/utils/data/dataloader.py:422\u001b[0m, in \u001b[0;36mDataLoader._get_iterator\u001b[0;34m(self)\u001b[0m\n\u001b[1;32m    420\u001b[0m \u001b[38;5;28;01melse\u001b[39;00m:\n\u001b[1;32m    421\u001b[0m     \u001b[38;5;28mself\u001b[39m\u001b[38;5;241m.\u001b[39mcheck_worker_number_rationality()\n\u001b[0;32m--> 422\u001b[0m     \u001b[38;5;28;01mreturn\u001b[39;00m \u001b[43m_MultiProcessingDataLoaderIter\u001b[49m\u001b[43m(\u001b[49m\u001b[38;5;28;43mself\u001b[39;49m\u001b[43m)\u001b[49m\n",
      "File \u001b[0;32m~/.pyenv/versions/3.10.10/lib/python3.10/site-packages/torch/utils/data/dataloader.py:1146\u001b[0m, in \u001b[0;36m_MultiProcessingDataLoaderIter.__init__\u001b[0;34m(self, loader)\u001b[0m\n\u001b[1;32m   1139\u001b[0m w\u001b[38;5;241m.\u001b[39mdaemon \u001b[38;5;241m=\u001b[39m \u001b[38;5;28;01mTrue\u001b[39;00m\n\u001b[1;32m   1140\u001b[0m \u001b[38;5;66;03m# NB: Process.start() actually take some time as it needs to\u001b[39;00m\n\u001b[1;32m   1141\u001b[0m \u001b[38;5;66;03m#     start a process and pass the arguments over via a pipe.\u001b[39;00m\n\u001b[1;32m   1142\u001b[0m \u001b[38;5;66;03m#     Therefore, we only add a worker to self._workers list after\u001b[39;00m\n\u001b[1;32m   1143\u001b[0m \u001b[38;5;66;03m#     it started, so that we do not call .join() if program dies\u001b[39;00m\n\u001b[1;32m   1144\u001b[0m \u001b[38;5;66;03m#     before it starts, and __del__ tries to join but will get:\u001b[39;00m\n\u001b[1;32m   1145\u001b[0m \u001b[38;5;66;03m#     AssertionError: can only join a started process.\u001b[39;00m\n\u001b[0;32m-> 1146\u001b[0m \u001b[43mw\u001b[49m\u001b[38;5;241;43m.\u001b[39;49m\u001b[43mstart\u001b[49m\u001b[43m(\u001b[49m\u001b[43m)\u001b[49m\n\u001b[1;32m   1147\u001b[0m \u001b[38;5;28mself\u001b[39m\u001b[38;5;241m.\u001b[39m_index_queues\u001b[38;5;241m.\u001b[39mappend(index_queue)\n\u001b[1;32m   1148\u001b[0m \u001b[38;5;28mself\u001b[39m\u001b[38;5;241m.\u001b[39m_workers\u001b[38;5;241m.\u001b[39mappend(w)\n",
      "File \u001b[0;32m~/.pyenv/versions/3.10.10/lib/python3.10/multiprocessing/process.py:121\u001b[0m, in \u001b[0;36mBaseProcess.start\u001b[0;34m(self)\u001b[0m\n\u001b[1;32m    118\u001b[0m \u001b[38;5;28;01massert\u001b[39;00m \u001b[38;5;129;01mnot\u001b[39;00m _current_process\u001b[38;5;241m.\u001b[39m_config\u001b[38;5;241m.\u001b[39mget(\u001b[38;5;124m'\u001b[39m\u001b[38;5;124mdaemon\u001b[39m\u001b[38;5;124m'\u001b[39m), \\\n\u001b[1;32m    119\u001b[0m        \u001b[38;5;124m'\u001b[39m\u001b[38;5;124mdaemonic processes are not allowed to have children\u001b[39m\u001b[38;5;124m'\u001b[39m\n\u001b[1;32m    120\u001b[0m _cleanup()\n\u001b[0;32m--> 121\u001b[0m \u001b[38;5;28mself\u001b[39m\u001b[38;5;241m.\u001b[39m_popen \u001b[38;5;241m=\u001b[39m \u001b[38;5;28;43mself\u001b[39;49m\u001b[38;5;241;43m.\u001b[39;49m\u001b[43m_Popen\u001b[49m\u001b[43m(\u001b[49m\u001b[38;5;28;43mself\u001b[39;49m\u001b[43m)\u001b[49m\n\u001b[1;32m    122\u001b[0m \u001b[38;5;28mself\u001b[39m\u001b[38;5;241m.\u001b[39m_sentinel \u001b[38;5;241m=\u001b[39m \u001b[38;5;28mself\u001b[39m\u001b[38;5;241m.\u001b[39m_popen\u001b[38;5;241m.\u001b[39msentinel\n\u001b[1;32m    123\u001b[0m \u001b[38;5;66;03m# Avoid a refcycle if the target function holds an indirect\u001b[39;00m\n\u001b[1;32m    124\u001b[0m \u001b[38;5;66;03m# reference to the process object (see bpo-30775)\u001b[39;00m\n",
      "File \u001b[0;32m~/.pyenv/versions/3.10.10/lib/python3.10/multiprocessing/context.py:224\u001b[0m, in \u001b[0;36mProcess._Popen\u001b[0;34m(process_obj)\u001b[0m\n\u001b[1;32m    222\u001b[0m \u001b[38;5;129m@staticmethod\u001b[39m\n\u001b[1;32m    223\u001b[0m \u001b[38;5;28;01mdef\u001b[39;00m \u001b[38;5;21m_Popen\u001b[39m(process_obj):\n\u001b[0;32m--> 224\u001b[0m     \u001b[38;5;28;01mreturn\u001b[39;00m \u001b[43m_default_context\u001b[49m\u001b[38;5;241;43m.\u001b[39;49m\u001b[43mget_context\u001b[49m\u001b[43m(\u001b[49m\u001b[43m)\u001b[49m\u001b[38;5;241;43m.\u001b[39;49m\u001b[43mProcess\u001b[49m\u001b[38;5;241;43m.\u001b[39;49m\u001b[43m_Popen\u001b[49m\u001b[43m(\u001b[49m\u001b[43mprocess_obj\u001b[49m\u001b[43m)\u001b[49m\n",
      "File \u001b[0;32m~/.pyenv/versions/3.10.10/lib/python3.10/multiprocessing/context.py:288\u001b[0m, in \u001b[0;36mSpawnProcess._Popen\u001b[0;34m(process_obj)\u001b[0m\n\u001b[1;32m    285\u001b[0m \u001b[38;5;129m@staticmethod\u001b[39m\n\u001b[1;32m    286\u001b[0m \u001b[38;5;28;01mdef\u001b[39;00m \u001b[38;5;21m_Popen\u001b[39m(process_obj):\n\u001b[1;32m    287\u001b[0m     \u001b[38;5;28;01mfrom\u001b[39;00m \u001b[38;5;21;01m.\u001b[39;00m\u001b[38;5;21;01mpopen_spawn_posix\u001b[39;00m \u001b[38;5;28;01mimport\u001b[39;00m Popen\n\u001b[0;32m--> 288\u001b[0m     \u001b[38;5;28;01mreturn\u001b[39;00m \u001b[43mPopen\u001b[49m\u001b[43m(\u001b[49m\u001b[43mprocess_obj\u001b[49m\u001b[43m)\u001b[49m\n",
      "File \u001b[0;32m~/.pyenv/versions/3.10.10/lib/python3.10/multiprocessing/popen_spawn_posix.py:32\u001b[0m, in \u001b[0;36mPopen.__init__\u001b[0;34m(self, process_obj)\u001b[0m\n\u001b[1;32m     30\u001b[0m \u001b[38;5;28;01mdef\u001b[39;00m \u001b[38;5;21m__init__\u001b[39m(\u001b[38;5;28mself\u001b[39m, process_obj):\n\u001b[1;32m     31\u001b[0m     \u001b[38;5;28mself\u001b[39m\u001b[38;5;241m.\u001b[39m_fds \u001b[38;5;241m=\u001b[39m []\n\u001b[0;32m---> 32\u001b[0m     \u001b[38;5;28;43msuper\u001b[39;49m\u001b[43m(\u001b[49m\u001b[43m)\u001b[49m\u001b[38;5;241;43m.\u001b[39;49m\u001b[38;5;21;43m__init__\u001b[39;49m\u001b[43m(\u001b[49m\u001b[43mprocess_obj\u001b[49m\u001b[43m)\u001b[49m\n",
      "File \u001b[0;32m~/.pyenv/versions/3.10.10/lib/python3.10/multiprocessing/popen_fork.py:19\u001b[0m, in \u001b[0;36mPopen.__init__\u001b[0;34m(self, process_obj)\u001b[0m\n\u001b[1;32m     17\u001b[0m \u001b[38;5;28mself\u001b[39m\u001b[38;5;241m.\u001b[39mreturncode \u001b[38;5;241m=\u001b[39m \u001b[38;5;28;01mNone\u001b[39;00m\n\u001b[1;32m     18\u001b[0m \u001b[38;5;28mself\u001b[39m\u001b[38;5;241m.\u001b[39mfinalizer \u001b[38;5;241m=\u001b[39m \u001b[38;5;28;01mNone\u001b[39;00m\n\u001b[0;32m---> 19\u001b[0m \u001b[38;5;28;43mself\u001b[39;49m\u001b[38;5;241;43m.\u001b[39;49m\u001b[43m_launch\u001b[49m\u001b[43m(\u001b[49m\u001b[43mprocess_obj\u001b[49m\u001b[43m)\u001b[49m\n",
      "File \u001b[0;32m~/.pyenv/versions/3.10.10/lib/python3.10/multiprocessing/popen_spawn_posix.py:62\u001b[0m, in \u001b[0;36mPopen._launch\u001b[0;34m(self, process_obj)\u001b[0m\n\u001b[1;32m     60\u001b[0m     \u001b[38;5;28mself\u001b[39m\u001b[38;5;241m.\u001b[39msentinel \u001b[38;5;241m=\u001b[39m parent_r\n\u001b[1;32m     61\u001b[0m     \u001b[38;5;28;01mwith\u001b[39;00m \u001b[38;5;28mopen\u001b[39m(parent_w, \u001b[38;5;124m'\u001b[39m\u001b[38;5;124mwb\u001b[39m\u001b[38;5;124m'\u001b[39m, closefd\u001b[38;5;241m=\u001b[39m\u001b[38;5;28;01mFalse\u001b[39;00m) \u001b[38;5;28;01mas\u001b[39;00m f:\n\u001b[0;32m---> 62\u001b[0m         \u001b[43mf\u001b[49m\u001b[38;5;241;43m.\u001b[39;49m\u001b[43mwrite\u001b[49m\u001b[43m(\u001b[49m\u001b[43mfp\u001b[49m\u001b[38;5;241;43m.\u001b[39;49m\u001b[43mgetbuffer\u001b[49m\u001b[43m(\u001b[49m\u001b[43m)\u001b[49m\u001b[43m)\u001b[49m\n\u001b[1;32m     63\u001b[0m \u001b[38;5;28;01mfinally\u001b[39;00m:\n\u001b[1;32m     64\u001b[0m     fds_to_close \u001b[38;5;241m=\u001b[39m []\n",
      "\u001b[0;31mKeyboardInterrupt\u001b[0m: "
     ]
    }
   ],
   "source": [
    "setAndTrainModel_addextrainput(\"./StrawWeightAfterDry/DataKey_RGB_DSM_20StrawWeightBeforeDry_20StrawWeightAfterDry.csv\", \"20StrawWeightBeforeDry\", \"20StrawWeightAfterDry\", EfficientNetV2MConfidenceAddeonextrainput, \"./StrawWeightAfterDry/ResultModelStrawWeightAfterDry\")\n",
    "setAndTrainModel_addextrainput(\"./StrawWeightAfterDry/DataKey_RGB_DSM_20StrawWeightBeforeDry_20StrawWeightAfterDry.csv\", \"20StrawWeightBeforeDry\", \"20StrawWeightAfterDry\", DenseNetConfidenceAddoneextrainput, \"./StrawWeightAfterDry/ResultModelStrawWeightAfterDry\")\n",
    "setAndTrainModel_addextrainput(\"./StrawWeightAfterDry/DataKey_RGB_DSM_20StrawWeightBeforeDry_20StrawWeightAfterDry.csv\", \"20StrawWeightBeforeDry\", \"20StrawWeightAfterDry\", RegNetY8GFConfidenceAddoneextrainput, \"./StrawWeightAfterDry/ResultModelStrawWeightAfterDry\")\n",
    "setAndTrainModel_addextrainput(\"./StrawWeightAfterDry/DataKey_RGB_DSM_20StrawWeightBeforeDry_20StrawWeightAfterDry.csv\", \"20StrawWeightBeforeDry\", \"20StrawWeightAfterDry\", MobileViTV2ConfidenceAddoneextrainput, \"./StrawWeightAfterDry/ResultModelStrawWeightAfterDry\")\n",
    "setAndTrainModel_addextrainput(\"./StrawWeightAfterDry/DataKey_RGB_DSM_20StrawWeightBeforeDry_20StrawWeightAfterDry.csv\", \"20StrawWeightBeforeDry\", \"20StrawWeightAfterDry\", ConvNeXtTinyConfidenceAddoneextrainput, \"./StrawWeightAfterDry/ResultModelStrawWeightAfterDry\")\n"
   ]
  },
  {
   "cell_type": "code",
   "execution_count": null,
   "metadata": {},
   "outputs": [],
   "source": [
    "setAndTrainModel(\"./StrawWeightBeforeDry/DataKey_RGB_DSM_20StrawWeightBeforeDry.csv\", \"20StrawWeightBeforeDry\", EfficientNetV2MWheatModelWithConfidence, \"./StrawWeightBeforeDry/ResultModelStrawWeightBeforeDry\")\n",
    "setAndTrainModel(\"./StrawWeightBeforeDry/DataKey_RGB_DSM_20StrawWeightBeforeDry.csv\", \"20StrawWeightBeforeDry\", DenseNet121WheatModel, \"./StrawWeightBeforeDry/ResultModelStrawWeightBeforeDry\")\n",
    "setAndTrainModel(\"./StrawWeightBeforeDry/DataKey_RGB_DSM_20StrawWeightBeforeDry.csv\", \"20StrawWeightBeforeDry\", RegNetY8GFModel, \"./StrawWeightBeforeDry/ResultModelStrawWeightBeforeDry\")\n",
    "setAndTrainModel(\"./StrawWeightBeforeDry/DataKey_RGB_DSM_20StrawWeightBeforeDry.csv\", \"20StrawWeightBeforeDry\", MobileViTV2WheatModel, \"./StrawWeightBeforeDry/ResultModelStrawWeightBeforeDry\")\n",
    "setAndTrainModel(\"./StrawWeightBeforeDry/DataKey_RGB_DSM_20StrawWeightBeforeDry.csv\", \"20StrawWeightBeforeDry\", ConvNeXtTinyWheatModelWithConfidence, \"./StrawWeightBeforeDry/ResultModelStrawWeightBeforeDry\")"
   ]
  },
  {
   "cell_type": "code",
   "execution_count": null,
   "metadata": {},
   "outputs": [],
   "source": [
    "setAndTrainModel(\"./TotalSeedNum/DataKey_RGB_DSM_totalSeedNum.csv\", \"totalSeedNum\", EfficientNetV2MWheatModelWithConfidence, \"./TotalSeedNum/ResultModelTotalSeedNum\")\n",
    "setAndTrainModel(\"./TotalSeedNum/DataKey_RGB_DSM_totalSeedNum.csv\", \"totalSeedNum\", DenseNet121WheatModel, \"./TotalSeedNum/ResultModelTotalSeedNum\")\n",
    "setAndTrainModel(\"./TotalSeedNum/DataKey_RGB_DSM_totalSeedNum.csv\", \"totalSeedNum\", RegNetY8GFModel, \"./TotalSeedNum/ResultModelTotalSeedNum\")\n",
    "setAndTrainModel(\"./TotalSeedNum/DataKey_RGB_DSM_totalSeedNum.csv\", \"totalSeedNum\", MobileViTV2WheatModel, \"./TotalSeedNum/ResultModelTotalSeedNum\")\n",
    "setAndTrainModel(\"./TotalSeedNum/DataKey_RGB_DSM_totalSeedNum.csv\", \"totalSeedNum\", ConvNeXtTinyWheatModelWithConfidence, \"./TotalSeedNum/ResultModelTotalSeedNum\")"
   ]
  },
  {
   "cell_type": "code",
   "execution_count": null,
   "metadata": {},
   "outputs": [],
   "source": [
    "setAndTrainModel(\"./TotalSeedWeightAfterDry/DataKey_RGB_DSM_totalSeedWeightAfterDry.csv\", \"totalSeedWeightAfterDry\", EfficientNetV2MWheatModelWithConfidence, \"./TotalSeedWeightAfterDry/ResultModelTotalSeedWeightAfterDry\")\n",
    "setAndTrainModel(\"./TotalSeedWeightAfterDry/DataKey_RGB_DSM_totalSeedWeightAfterDry.csv\", \"totalSeedWeightAfterDry\", DenseNet121WheatModel, \"./TotalSeedWeightAfterDry/ResultModelTotalSeedWeightAfterDry\")\n",
    "setAndTrainModel(\"./TotalSeedWeightAfterDry/DataKey_RGB_DSM_totalSeedWeightAfterDry.csv\", \"totalSeedWeightAfterDry\", RegNetY8GFModel, \"./TotalSeedWeightAfterDry/ResultModelTotalSeedWeightAfterDry\")\n",
    "setAndTrainModel(\"./TotalSeedWeightAfterDry/DataKey_RGB_DSM_totalSeedWeightAfterDry.csv\", \"totalSeedWeightAfterDry\", MobileViTV2WheatModel, \"./TotalSeedWeightAfterDry/ResultModelTotalSeedWeightAfterDry\")\n",
    "setAndTrainModel(\"./TotalSeedWeightAfterDry/DataKey_RGB_DSM_totalSeedWeightAfterDry.csv\", \"totalSeedWeightAfterDry\", ConvNeXtTinyWheatModelWithConfidence, \"./TotalSeedWeightAfterDry/ResultModelTotalSeedWeightAfterDry\")"
   ]
  },
  {
   "cell_type": "code",
   "execution_count": null,
   "metadata": {},
   "outputs": [],
   "source": [
    "setAndTrainModel_addextrainput(\"./TotalSeedWeightAfterDry/DataKey_RGB_DSM_totalSeedWeightBeforeDry_totalSeedWeightAfterDry.csv\", \"totalSeedWeightBeforeDry\", \"totalSeedWeightAfterDry\", EfficientNetV2MConfidenceAddeonextrainput, \"./TotalSeedWeightAfterDry/ResultModelTotalSeedWeightAfterDry\")\n",
    "setAndTrainModel_addextrainput(\"./TotalSeedWeightAfterDry/DataKey_RGB_DSM_totalSeedWeightBeforeDry_totalSeedWeightAfterDry.csv\", \"totalSeedWeightBeforeDry\", \"totalSeedWeightAfterDry\", DenseNetConfidenceAddoneextrainput, \"./TotalSeedWeightAfterDry/ResultModelTotalSeedWeightAfterDry\")\n",
    "setAndTrainModel_addextrainput(\"./TotalSeedWeightAfterDry/DataKey_RGB_DSM_totalSeedWeightBeforeDry_totalSeedWeightAfterDry.csv\", \"totalSeedWeightBeforeDry\", \"totalSeedWeightAfterDry\", RegNetY8GFConfidenceAddoneextrainput, \"./TotalSeedWeightAfterDry/ResultModelTotalSeedWeightAfterDry\")\n",
    "setAndTrainModel_addextrainput(\"./TotalSeedWeightAfterDry/DataKey_RGB_DSM_totalSeedWeightBeforeDry_totalSeedWeightAfterDry.csv\", \"totalSeedWeightBeforeDry\", \"totalSeedWeightAfterDry\", MobileViTV2ConfidenceAddoneextrainput, \"./TotalSeedWeightAfterDry/ResultModelTotalSeedWeightAfterDry\")\n",
    "setAndTrainModel_addextrainput(\"./TotalSeedWeightAfterDry/DataKey_RGB_DSM_totalSeedWeightBeforeDry_totalSeedWeightAfterDry.csv\", \"totalSeedWeightBeforeDry\", \"totalSeedWeightAfterDry\", ConvNeXtTinyConfidenceAddoneextrainput, \"./TotalSeedWeightAfterDry/ResultModelTotalSeedWeightAfterDry\")\n"
   ]
  },
  {
   "cell_type": "code",
   "execution_count": null,
   "metadata": {},
   "outputs": [],
   "source": [
    "setAndTrainModel(\"./TotalSeedWeightBeforeDry/DataKey_RGB_DSM_totalSeedWeightBeforeDry.csv\", \"totalSeedWeightBeforeDry\", EfficientNetV2MWheatModelWithConfidence, \"./TotalSeedWeightBeforeDry/ResultModelTotalSeedWeightBeforeDry\")\n",
    "setAndTrainModel(\"./TotalSeedWeightBeforeDry/DataKey_RGB_DSM_totalSeedWeightBeforeDry.csv\", \"totalSeedWeightBeforeDry\", DenseNet121WheatModel, \"./TotalSeedWeightBeforeDry/ResultModelTotalSeedWeightBeforeDry\")\n",
    "setAndTrainModel(\"./TotalSeedWeightBeforeDry/DataKey_RGB_DSM_totalSeedWeightBeforeDry.csv\", \"totalSeedWeightBeforeDry\", RegNetY8GFModel, \"./TotalSeedWeightBeforeDry/ResultModelTotalSeedWeightBeforeDry\")\n",
    "setAndTrainModel(\"./TotalSeedWeightBeforeDry/DataKey_RGB_DSM_totalSeedWeightBeforeDry.csv\", \"totalSeedWeightBeforeDry\", MobileViTV2WheatModel, \"./TotalSeedWeightBeforeDry/ResultModelTotalSeedWeightBeforeDry\")\n",
    "setAndTrainModel(\"./TotalSeedWeightBeforeDry/DataKey_RGB_DSM_totalSeedWeightBeforeDry.csv\", \"totalSeedWeightBeforeDry\", ConvNeXtTinyWheatModelWithConfidence, \"./TotalSeedWeightBeforeDry/ResultModelTotalSeedWeightBeforeDry\")"
   ]
  },
  {
   "cell_type": "code",
   "execution_count": null,
   "metadata": {},
   "outputs": [],
   "source": [
    "setAndTrainModel(\"./LeafWidth/DataKey_RGB_DSM_leafWidth.csv\", \"leafWidth\", EfficientNetV2MWheatModelWithConfidence, \"./LeafWidth/ResultModelLeafWidth\")\n",
    "setAndTrainModel(\"./LeafWidth/DataKey_RGB_DSM_leafWidth.csv\", \"leafWidth\", DenseNet121WheatModel, \"./LeafWidth/ResultModelLeafWidth\")\n",
    "setAndTrainModel(\"./LeafWidth/DataKey_RGB_DSM_leafWidth.csv\", \"leafWidth\", RegNetY8GFModel, \"./LeafWidth/ResultModelLeafWidth\")\n",
    "setAndTrainModel(\"./LeafWidth/DataKey_RGB_DSM_leafWidth.csv\", \"leafWidth\", MobileViTV2WheatModel, \"./LeafWidth/ResultModelLeafWidth\")\n",
    "setAndTrainModel(\"./LeafWidth/DataKey_RGB_DSM_leafWidth.csv\", \"leafWidth\", ConvNeXtTinyWheatModelWithConfidence, \"./LeafWidth/ResultModelLeafWidth\")"
   ]
  },
  {
   "cell_type": "code",
   "execution_count": null,
   "metadata": {},
   "outputs": [],
   "source": []
  }
 ],
 "metadata": {
  "kernelspec": {
   "display_name": "Python 3",
   "language": "python",
   "name": "python3"
  },
  "language_info": {
   "codemirror_mode": {
    "name": "ipython",
    "version": 3
   },
   "file_extension": ".py",
   "mimetype": "text/x-python",
   "name": "python",
   "nbconvert_exporter": "python",
   "pygments_lexer": "ipython3",
   "version": "3.10.10"
  }
 },
 "nbformat": 4,
 "nbformat_minor": 2
}
