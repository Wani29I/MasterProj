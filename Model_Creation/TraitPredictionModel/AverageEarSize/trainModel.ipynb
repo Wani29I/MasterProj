{
 "cells": [
  {
   "cell_type": "code",
   "execution_count": null,
   "metadata": {},
   "outputs": [],
   "source": [
    "import os\n",
    "import sys\n",
    "# Get current working directory instead of __file__\n",
    "sys.path.append(os.path.abspath(os.path.join(os.getcwd(), \"..\")))\n",
    "from ModelArchitecture.ConvNeXtTinyModel import ConvNeXtTinyWheatModelWithConfidence\n",
    "from ModelArchitecture.DenseNetModel import DenseNet121WheatModel\n",
    "from ModelArchitecture.EfficientNetV2Model import EfficientNetV2SWheatCountWithConfidence\n",
    "from ModelArchitecture.RepVGGA1Model import RepVGGA1WheatModelWithConfidence\n",
    "from ModelArchitecture.EfficientNetV2MModel import EfficientNetV2MWheatModelWithConfidence\n",
    "from ModelArchitecture.RepVGGB1g4Model import RepVGGB1g4Model\n",
    "from ModelArchitecture.RegNetY8GFModel import RegNetY8GFModel\n",
    "from modelFunc import setAndTrainModel"
   ]
  },
  {
   "cell_type": "code",
   "execution_count": null,
   "metadata": {},
   "outputs": [],
   "source": [
    "setAndTrainModel(\"DataKey_RGB_DSM_avgEarSize.csv\", \"avgEarSize\", EfficientNetV2SWheatCountWithConfidence, \"./ResultModelAverageEarSize\")"
   ]
  },
  {
   "cell_type": "code",
   "execution_count": null,
   "metadata": {},
   "outputs": [],
   "source": [
    "setAndTrainModel(\"DataKey_RGB_DSM_avgEarSize.csv\", \"avgEarSize\", ConvNeXtTinyWheatModelWithConfidence, \"./ResultModelAverageEarSize\")"
   ]
  },
  {
   "cell_type": "code",
   "execution_count": null,
   "metadata": {},
   "outputs": [],
   "source": [
    "setAndTrainModel(\"DataKey_RGB_DSM_avgEarSize.csv\", \"avgEarSize\", RepVGGA1WheatModelWithConfidence, \"./ResultModelAverageEarSize\")"
   ]
  },
  {
   "cell_type": "code",
   "execution_count": null,
   "metadata": {},
   "outputs": [],
   "source": [
    "setAndTrainModel(\"DataKey_RGB_DSM_avgEarSize.csv\", \"avgEarSize\", DenseNet121WheatModel, \"./ResultModelAverageEarSize\")"
   ]
  },
  {
   "cell_type": "code",
   "execution_count": null,
   "metadata": {},
   "outputs": [],
   "source": [
    "setAndTrainModel(\"DataKey_RGB_DSM_avgEarSize.csv\", \"avgEarSize\", EfficientNetV2MWheatModelWithConfidence, \"./ResultModelAverageEarSize\")"
   ]
  },
  {
   "cell_type": "code",
   "execution_count": null,
   "metadata": {},
   "outputs": [],
   "source": [
    "setAndTrainModel(\"DataKey_RGB_DSM_avgEarSize.csv\", \"avgEarSize\", RepVGGB1g4Model, \"./ResultModelAverageEarSize\")"
   ]
  },
  {
   "cell_type": "code",
   "execution_count": null,
   "metadata": {},
   "outputs": [],
   "source": [
    "setAndTrainModel(\"DataKey_RGB_DSM_avgEarSize.csv\", \"avgEarSize\", RegNetY8GFModel, \"./ResultModelAverageEarSize\")"
   ]
  }
 ],
 "metadata": {
  "kernelspec": {
   "display_name": "Python 3",
   "language": "python",
   "name": "python3"
  },
  "language_info": {
   "codemirror_mode": {
    "name": "ipython",
    "version": 3
   },
   "file_extension": ".py",
   "mimetype": "text/x-python",
   "name": "python",
   "nbconvert_exporter": "python",
   "pygments_lexer": "ipython3",
   "version": "3.10.10"
  }
 },
 "nbformat": 4,
 "nbformat_minor": 2
}
