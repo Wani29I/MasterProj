{
 "cells": [
  {
   "cell_type": "code",
   "execution_count": null,
   "metadata": {},
   "outputs": [],
   "source": [
    "import os\n",
    "import sys\n",
    "# Get current working directory instead of __file__\n",
    "sys.path.append(os.path.abspath(os.path.join(os.getcwd(), \"..\")))\n",
    "from ModelArchitecture.ConvNeXtTinyModel import ConvNeXtTinyWheatModelWithConfidence\n",
    "from ModelArchitecture.DenseNetModel import DenseNet121WheatModel\n",
    "from ModelArchitecture.EfficientNetV2Model import EfficientNetV2SWheatCountWithConfidence\n",
    "from ModelArchitecture.RepVGGA1Model import RepVGGA1WheatModelWithConfidence\n",
    "from ModelArchitecture.EfficientNetV2MModel import EfficientNetV2MWheatModelWithConfidence\n",
    "from ModelArchitecture.RepVGGB1g4Model import RepVGGB1g4Model\n",
    "from ModelArchitecture.RegNetY8GFModel import RegNetY8GFModel\n",
    "from ModelArchitecture.MobileViTV2Model import MobileViTV2WheatModel\n",
    "from modelFunc import setAndTrainModel"
   ]
  },
  {
   "cell_type": "code",
   "execution_count": null,
   "metadata": {},
   "outputs": [],
   "source": [
    "# setAndTrainModel(\"DataKey_RGB_DSM_avgEarSize.csv\", \"avgEarSize\", EfficientNetV2SWheatCountWithConfidence, \"./ResultModelAverageEarSize\")\n",
    "# setAndTrainModel(\"DataKey_RGB_DSM_avgEarSize.csv\", \"avgEarSize\", ConvNeXtTinyWheatModelWithConfidence, \"./ResultModelAverageEarSize\")\n",
    "# setAndTrainModel(\"DataKey_RGB_DSM_avgEarSize.csv\", \"avgEarSize\", RepVGGA1WheatModelWithConfidence, \"./ResultModelAverageEarSize\")\n",
    "# setAndTrainModel(\"DataKey_RGB_DSM_avgEarSize.csv\", \"avgEarSize\", DenseNet121WheatModel, \"./ResultModelAverageEarSize\")\n",
    "# setAndTrainModel(\"DataKey_RGB_DSM_avgEarSize.csv\", \"avgEarSize\", EfficientNetV2MWheatModelWithConfidence, \"./ResultModelAverageEarSize\")\n",
    "# setAndTrainModel(\"DataKey_RGB_DSM_avgEarSize.csv\", \"avgEarSize\", RepVGGB1g4Model, \"./ResultModelAverageEarSize\")\n",
    "# setAndTrainModel(\"DataKey_RGB_DSM_avgEarSize.csv\", \"avgEarSize\", RegNetY8GFModel, \"./ResultModelAverageEarSize\")\n"
   ]
  },
  {
   "cell_type": "code",
   "execution_count": null,
   "metadata": {},
   "outputs": [],
   "source": [
    "setAndTrainModel(\"DataKey_RGB_DSM_avgEarSize__Raw1.csv\", \"avgEarSize\", ConvNeXtTinyWheatModelWithConfidence, \"./ResultModelAverageEarSize\")\n",
    "setAndTrainModel(\"DataKey_RGB_DSM_avgEarSize__Raw1.csv\", \"avgEarSize\", EfficientNetV2MWheatModelWithConfidence, \"./ResultModelAverageEarSize\")\n",
    "setAndTrainModel(\"DataKey_RGB_DSM_avgEarSize__Raw1.csv\", \"avgEarSize\", DenseNet121WheatModel, \"./ResultModelAverageEarSize\")\n",
    "setAndTrainModel(\"DataKey_RGB_DSM_avgEarSize__Raw1.csv\", \"avgEarSize\", RegNetY8GFModel, \"./ResultModelAverageEarSize\")\n",
    "setAndTrainModel(\"DataKey_RGB_DSM_avgEarSize__Raw1.csv\", \"avgEarSize\", MobileViTV2WheatModel, \"./ResultModelAverageEarSize\")\n"
   ]
  }
 ],
 "metadata": {
  "kernelspec": {
   "display_name": "Python 3",
   "language": "python",
   "name": "python3"
  },
  "language_info": {
   "codemirror_mode": {
    "name": "ipython",
    "version": 3
   },
   "file_extension": ".py",
   "mimetype": "text/x-python",
   "name": "python",
   "nbconvert_exporter": "python",
   "pygments_lexer": "ipython3",
   "version": "3.10.10"
  }
 },
 "nbformat": 4,
 "nbformat_minor": 2
}
