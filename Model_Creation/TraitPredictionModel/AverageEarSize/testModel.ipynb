{
 "cells": [
  {
   "cell_type": "code",
   "execution_count": 1,
   "metadata": {},
   "outputs": [
    {
     "name": "stderr",
     "output_type": "stream",
     "text": [
      "c:\\Users\\pacha\\AppData\\Local\\Programs\\Python\\Python313\\Lib\\site-packages\\tqdm\\auto.py:21: TqdmWarning: IProgress not found. Please update jupyter and ipywidgets. See https://ipywidgets.readthedocs.io/en/stable/user_install.html\n",
      "  from .autonotebook import tqdm as notebook_tqdm\n"
     ]
    }
   ],
   "source": [
    "import os\n",
    "import sys\n",
    "# Get current working directory instead of __file__\n",
    "sys.path.append(os.path.abspath(os.path.join(os.getcwd(), \"..\")))\n",
    "from modelFunc import setAndTestModel\n",
    "# model\n",
    "from ModelArchitecture.ConvNeXtTinyModel import ConvNeXtTinyWheatModelWithConfidence\n",
    "from ModelArchitecture.DenseNetModel import DenseNet121WheatModel\n",
    "from ModelArchitecture.EfficientNetV2Model import EfficientNetV2SWheatCountWithConfidence\n",
    "from ModelArchitecture.RepVGGA1Model import RepVGGA1WheatModelWithConfidence\n",
    "from ModelArchitecture.EfficientNetV2MModel import EfficientNetV2MWheatModelWithConfidence\n",
    "from ModelArchitecture.RepVGGB1g4Model import RepVGGB1g4Model\n",
    "from ModelArchitecture.RegNetY8GFModel import RegNetY8GFModel\n",
    "from ModelArchitecture.EfficientNetV2SAddextrainputModel import EfficientNetV2SConfidenceAddoneextrainput\n",
    "from ModelArchitecture.DenseNetAddextrainputModel import DenseNetConfidenceAddoneextrainput\n",
    "from ModelArchitecture.RepVGGA1AddextrainputModel import RepVGGA1ConfidenceAddoneextrainput\n",
    "from ModelArchitecture.EfficientNetV2MAddextrainputModel import EfficientNetV2MConfidenceAddeonextrainput\n",
    "from ModelArchitecture.RegNetY8GFAddextrainputModel import RegNetY8GFConfidenceAddoneextrainput"
   ]
  },
  {
   "cell_type": "code",
   "execution_count": 2,
   "metadata": {},
   "outputs": [
    {
     "name": "stdout",
     "output_type": "stream",
     "text": [
      "✅ Safe Split → Train: 47840, Val: 5960, Test: 6000\n",
      "Train Batches: 2990, Validation Batches: 373, Test Batches: 375\n",
      "✅ Using device: cuda\n",
      "traitName:  avgEarSize\n",
      "model:  ConvNeXtTinyWheatModelWithConfidence\n"
     ]
    },
    {
     "name": "stderr",
     "output_type": "stream",
     "text": [
      "100%|██████████| 375/375 [00:54<00:00,  6.88it/s]\n",
      "c:\\Users\\pacha\\AppData\\Local\\Programs\\Python\\Python313\\Lib\\site-packages\\torchvision\\models\\_utils.py:208: UserWarning: The parameter 'pretrained' is deprecated since 0.13 and may be removed in the future, please use 'weights' instead.\n",
      "  warnings.warn(\n",
      "c:\\Users\\pacha\\AppData\\Local\\Programs\\Python\\Python313\\Lib\\site-packages\\torchvision\\models\\_utils.py:223: UserWarning: Arguments other than a weight enum or `None` for 'weights' are deprecated since 0.13 and may be removed in the future. The current behavior is equivalent to passing `weights=DenseNet121_Weights.IMAGENET1K_V1`. You can also use `weights=DenseNet121_Weights.DEFAULT` to get the most up-to-date weights.\n",
      "  warnings.warn(msg)\n"
     ]
    },
    {
     "name": "stdout",
     "output_type": "stream",
     "text": [
      "\n",
      "📊 Test Results:\n",
      "✅ R² Score : -8.5521\n",
      "✅ MAE      : 1.6665\n",
      "✅ RMSE     : 1.7659\n",
      "✅ Safe Split → Train: 47840, Val: 5960, Test: 6000\n",
      "Train Batches: 2990, Validation Batches: 373, Test Batches: 375\n",
      "✅ Using device: cuda\n",
      "traitName:  avgEarSize\n",
      "model:  DenseNet121WheatModel\n"
     ]
    },
    {
     "name": "stderr",
     "output_type": "stream",
     "text": [
      "100%|██████████| 375/375 [00:53<00:00,  7.07it/s]\n"
     ]
    },
    {
     "name": "stdout",
     "output_type": "stream",
     "text": [
      "\n",
      "📊 Test Results:\n",
      "✅ R² Score : -9.8644\n",
      "✅ MAE      : 1.7999\n",
      "✅ RMSE     : 1.8833\n",
      "✅ Safe Split → Train: 47840, Val: 5960, Test: 6000\n",
      "Train Batches: 2990, Validation Batches: 373, Test Batches: 375\n",
      "✅ Using device: cuda\n",
      "traitName:  avgEarSize\n",
      "model:  EfficientNetV2MWheatModelWithConfidence\n"
     ]
    },
    {
     "name": "stderr",
     "output_type": "stream",
     "text": [
      "100%|██████████| 375/375 [01:08<00:00,  5.46it/s]\n"
     ]
    },
    {
     "name": "stdout",
     "output_type": "stream",
     "text": [
      "\n",
      "📊 Test Results:\n",
      "✅ R² Score : -11.5836\n",
      "✅ MAE      : 1.9515\n",
      "✅ RMSE     : 2.0268\n",
      "✅ Safe Split → Train: 47840, Val: 5960, Test: 6000\n",
      "Train Batches: 2990, Validation Batches: 373, Test Batches: 375\n",
      "✅ Using device: cuda\n",
      "traitName:  avgEarSize\n",
      "model:  EfficientNetV2SWheatCountWithConfidence\n"
     ]
    },
    {
     "name": "stderr",
     "output_type": "stream",
     "text": [
      "100%|██████████| 375/375 [00:49<00:00,  7.58it/s]\n"
     ]
    },
    {
     "name": "stdout",
     "output_type": "stream",
     "text": [
      "\n",
      "📊 Test Results:\n",
      "✅ R² Score : -7.7125\n",
      "✅ MAE      : 1.6024\n",
      "✅ RMSE     : 1.6865\n",
      "✅ Safe Split → Train: 47840, Val: 5960, Test: 6000\n",
      "Train Batches: 2990, Validation Batches: 373, Test Batches: 375\n",
      "✅ Using device: cuda\n",
      "traitName:  avgEarSize\n",
      "model:  RegNetY8GFModel\n"
     ]
    },
    {
     "name": "stderr",
     "output_type": "stream",
     "text": [
      "100%|██████████| 375/375 [01:30<00:00,  4.16it/s]\n"
     ]
    },
    {
     "name": "stdout",
     "output_type": "stream",
     "text": [
      "\n",
      "📊 Test Results:\n",
      "✅ R² Score : -15.8181\n",
      "✅ MAE      : 2.2776\n",
      "✅ RMSE     : 2.3431\n",
      "✅ Safe Split → Train: 47840, Val: 5960, Test: 6000\n",
      "Train Batches: 2990, Validation Batches: 373, Test Batches: 375\n",
      "✅ Using device: cuda\n",
      "traitName:  avgEarSize\n",
      "model:  RepVGGB1g4Model\n"
     ]
    },
    {
     "name": "stderr",
     "output_type": "stream",
     "text": [
      "100%|██████████| 375/375 [01:12<00:00,  5.15it/s]\n"
     ]
    },
    {
     "name": "stdout",
     "output_type": "stream",
     "text": [
      "\n",
      "📊 Test Results:\n",
      "✅ R² Score : -7734249.4929\n",
      "✅ MAE      : 50.8969\n",
      "✅ RMSE     : 1588.9900\n",
      "✅ Safe Split → Train: 47840, Val: 5960, Test: 6000\n",
      "Train Batches: 2990, Validation Batches: 373, Test Batches: 375\n",
      "✅ Using device: cuda\n",
      "traitName:  avgEarSize\n",
      "model:  RepVGGA1WheatModelWithConfidence\n"
     ]
    },
    {
     "name": "stderr",
     "output_type": "stream",
     "text": [
      "100%|██████████| 375/375 [00:36<00:00, 10.38it/s]"
     ]
    },
    {
     "name": "stdout",
     "output_type": "stream",
     "text": [
      "\n",
      "📊 Test Results:\n",
      "✅ R² Score : -7.9347\n",
      "✅ MAE      : 1.6016\n",
      "✅ RMSE     : 1.7079\n"
     ]
    },
    {
     "name": "stderr",
     "output_type": "stream",
     "text": [
      "\n"
     ]
    }
   ],
   "source": [
    "setAndTestModel(\"DataKey_RGB_DSM_avgEarSize.csv\", \"avgEarSize\", ConvNeXtTinyWheatModelWithConfidence, \"./ResultModelAverageEarSize/ConvNeXtTinyWheatModelWithConfidence_avgEarSize10.pth\")\n",
    "setAndTestModel(\"DataKey_RGB_DSM_avgEarSize.csv\", \"avgEarSize\", DenseNet121WheatModel, \"./ResultModelAverageEarSize/DenseNet121WheatModel_avgEarSize10.pth\")\n",
    "setAndTestModel(\"DataKey_RGB_DSM_avgEarSize.csv\", \"avgEarSize\", EfficientNetV2MWheatModelWithConfidence, \"./ResultModelAverageEarSize/EfficientNetV2MWheatModelWithConfidence_avgEarSize10.pth\")\n",
    "setAndTestModel(\"DataKey_RGB_DSM_avgEarSize.csv\", \"avgEarSize\", EfficientNetV2SWheatCountWithConfidence, \"./ResultModelAverageEarSize/EfficientNetV2SWheatCountWithConfidence_avgEarSize10.pth\")\n",
    "setAndTestModel(\"DataKey_RGB_DSM_avgEarSize.csv\", \"avgEarSize\", RegNetY8GFModel, \"./ResultModelAverageEarSize/RegNetY8GFModel_avgEarSize10.pth\")\n",
    "setAndTestModel(\"DataKey_RGB_DSM_avgEarSize.csv\", \"avgEarSize\", RepVGGB1g4Model, \"./ResultModelAverageEarSize/RepVGGB1g4Model_avgEarSize10.pth\")\n",
    "setAndTestModel(\"DataKey_RGB_DSM_avgEarSize.csv\", \"avgEarSize\", RepVGGA1WheatModelWithConfidence, \"./ResultModelAverageEarSize/RepVGGA1WheatModelWithConfidence_avgEarSize10.pth\")"
   ]
  },
  {
   "cell_type": "code",
   "execution_count": null,
   "metadata": {},
   "outputs": [],
   "source": []
  }
 ],
 "metadata": {
  "kernelspec": {
   "display_name": "Python 3",
   "language": "python",
   "name": "python3"
  },
  "language_info": {
   "codemirror_mode": {
    "name": "ipython",
    "version": 3
   },
   "file_extension": ".py",
   "mimetype": "text/x-python",
   "name": "python",
   "nbconvert_exporter": "python",
   "pygments_lexer": "ipython3",
   "version": "3.13.2"
  }
 },
 "nbformat": 4,
 "nbformat_minor": 2
}
