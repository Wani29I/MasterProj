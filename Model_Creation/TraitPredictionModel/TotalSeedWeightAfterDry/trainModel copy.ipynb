{
 "cells": [
  {
   "cell_type": "code",
   "execution_count": null,
   "id": "2e776c69",
   "metadata": {},
   "outputs": [],
   "source": [
    "import os\n",
    "import sys\n",
    "# Get current working directory instead of __file__\n",
    "sys.path.append(os.path.abspath(os.path.join(os.getcwd(), \"..\")))\n",
    "from ModelArchitecture.ConvNeXtTinyModel import ConvNeXtTinyWheatModelWithConfidence\n",
    "from ModelArchitecture.DenseNetModel import DenseNet121WheatModel\n",
    "from ModelArchitecture.EfficientNetV2MModel import EfficientNetV2M_WheatModelWithConfidence\n",
    "from ModelArchitecture.RegNetY8GFModel import RegNetY8GFModel\n",
    "from ModelArchitecture.MobileViTV2Model import MobileViTV2WheatModel\n",
    "\n",
    "from ModelArchitecture.DenseNetAddextrainputModel import DenseNet_Confidence_Addoneextrainput\n",
    "from ModelArchitecture.EfficientNetV2MAddextrainputModel import EfficientNetV2M_Confidence_Addeonextrainput\n",
    "from ModelArchitecture.RegNetY8GFAddextrainputModel import RegNetY8GF_Confidence_Addoneextrainput\n",
    "from ModelArchitecture.MobileViTV2AddoneextrainputModel import MobileViTV2_Confidence_Addoneextrainput\n",
    "from ModelArchitecture.ConvNeXtTinyAddoneextrainputModel import ConvNeXtTiny_Confidence_Addoneextrainput\n",
    "from modelFunc import setAndTrainModel, setAndTrainModel_addextrainput\n"
   ]
  },
  {
   "cell_type": "code",
   "execution_count": null,
   "id": "91f435dc",
   "metadata": {},
   "outputs": [],
   "source": [
    "setAndTrainModel(\"DataKey_RGB_DSM_totalSeedWeightAfterDry.csv\", \"totalSeedWeightAfterDry\", EfficientNetV2M_WheatModelWithConfidence, \"./ResultModelTotalSeedWeightAfterDry\")\n",
    "setAndTrainModel(\"DataKey_RGB_DSM_totalSeedWeightAfterDry.csv\", \"totalSeedWeightAfterDry\", DenseNet121WheatModel, \"./ResultModelTotalSeedWeightAfterDry\")\n",
    "setAndTrainModel(\"DataKey_RGB_DSM_totalSeedWeightAfterDry.csv\", \"totalSeedWeightAfterDry\", RegNetY8GFModel, \"./ResultModelTotalSeedWeightAfterDry\")\n",
    "setAndTrainModel(\"DataKey_RGB_DSM_totalSeedWeightAfterDry.csv\", \"totalSeedWeightAfterDry\", MobileViTV2WheatModel, \"./ResultModelTotalSeedWeightAfterDry\")\n",
    "setAndTrainModel(\"DataKey_RGB_DSM_totalSeedWeightAfterDry.csv\", \"totalSeedWeightAfterDry\", ConvNeXtTinyWheatModelWithConfidence, \"./ResultModelTotalSeedWeightAfterDry\")"
   ]
  },
  {
   "cell_type": "code",
   "execution_count": null,
   "id": "1c574148",
   "metadata": {},
   "outputs": [],
   "source": [
    "setAndTrainModel_addextrainput(\"DataKey_RGB_DSM_totalSeedWeightBeforeDry_totalSeedWeightAfterDry.csv\", \"totalSeedWeightBeforeDry\", \"totalSeedWeightAfterDry\", EfficientNetV2M_Confidence_Addeonextrainput, \"./ResultModelTotalSeedWeightAfterDry\")\n",
    "setAndTrainModel_addextrainput(\"DataKey_RGB_DSM_totalSeedWeightBeforeDry_totalSeedWeightAfterDry.csv\", \"totalSeedWeightBeforeDry\", \"totalSeedWeightAfterDry\", DenseNet_Confidence_Addoneextrainput, \"./ResultModelTotalSeedWeightAfterDry\")\n",
    "setAndTrainModel_addextrainput(\"DataKey_RGB_DSM_totalSeedWeightBeforeDry_totalSeedWeightAfterDry.csv\", \"totalSeedWeightBeforeDry\", \"totalSeedWeightAfterDry\", RegNetY8GF_Confidence_Addoneextrainput, \"./ResultModelTotalSeedWeightAfterDry\")\n",
    "setAndTrainModel_addextrainput(\"DataKey_RGB_DSM_totalSeedWeightBeforeDry_totalSeedWeightAfterDry.csv\", \"totalSeedWeightBeforeDry\", \"totalSeedWeightAfterDry\", MobileViTV2_Confidence_Addoneextrainput, \"./ResultModelTotalSeedWeightAfterDry\")\n",
    "setAndTrainModel_addextrainput(\"DataKey_RGB_DSM_totalSeedWeightBeforeDry_totalSeedWeightAfterDry.csv\", \"totalSeedWeightBeforeDry\", \"totalSeedWeightAfterDry\", ConvNeXtTiny_Confidence_Addoneextrainput, \"./ResultModelTotalSeedWeightAfterDry\")\n"
   ]
  },
  {
   "cell_type": "code",
   "execution_count": null,
   "id": "13575f30",
   "metadata": {},
   "outputs": [],
   "source": []
  }
 ],
 "metadata": {
  "kernelspec": {
   "display_name": "Python 3",
   "language": "python",
   "name": "python3"
  },
  "language_info": {
   "codemirror_mode": {
    "name": "ipython",
    "version": 3
   },
   "file_extension": ".py",
   "mimetype": "text/x-python",
   "name": "python",
   "nbconvert_exporter": "python",
   "pygments_lexer": "ipython3",
   "version": "3.13.2"
  }
 },
 "nbformat": 4,
 "nbformat_minor": 5
}
