{
 "cells": [
  {
   "cell_type": "code",
   "execution_count": null,
   "id": "2e776c69",
   "metadata": {},
   "outputs": [],
   "source": [
    "import os\n",
    "import sys\n",
    "# Get current working directory instead of __file__\n",
    "sys.path.append(os.path.abspath(os.path.join(os.getcwd(), \"..\")))\n",
    "from ModelArchitecture.ConvNeXtTinyModel import ConvNeXtTinyWheatModelWithConfidence\n",
    "from ModelArchitecture.DenseNetModel import DenseNet121WheatModel\n",
    "from ModelArchitecture.EfficientNetV2MModel import EfficientNetV2MWheatModelWithConfidence\n",
    "from ModelArchitecture.RegNetY8GFModel import RegNetY8GFModel\n",
    "from ModelArchitecture.MobileViTV2Model import MobileViTV2WheatModel\n",
    "\n",
    "from ModelArchitecture.DenseNetAddextrainputModel import DenseNetConfidenceAddoneextrainput\n",
    "from ModelArchitecture.EfficientNetV2MAddextrainputModel import EfficientNetV2MConfidenceAddeonextrainput\n",
    "from ModelArchitecture.RegNetY8GFAddextrainputModel import RegNetY8GFConfidenceAddoneextrainput\n",
    "from ModelArchitecture.MobileViTV2AddoneextrainputModel import MobileViTV2ConfidenceAddoneextrainput\n",
    "from ModelArchitecture.ConvNeXtTinyAddoneextrainputModel import ConvNeXtTinyConfidenceAddoneextrainput\n",
    "from modelFunc import setAndTrainModel, setAndTrainModel_addextrainput\n"
   ]
  },
  {
   "cell_type": "code",
   "execution_count": null,
   "id": "91f435dc",
   "metadata": {},
   "outputs": [],
   "source": [
    "# setAndTrainModel(\"DataKey_RGB_DSM_totalSeedWeightAfterDry.csv\", \"totalSeedWeightAfterDry\", EfficientNetV2MWheatModelWithConfidence, \"./ResultModelTotalSeedWeightAfterDry\")\n",
    "# setAndTrainModel(\"DataKey_RGB_DSM_totalSeedWeightAfterDry.csv\", \"totalSeedWeightAfterDry\", DenseNet121WheatModel, \"./ResultModelTotalSeedWeightAfterDry\")\n",
    "# setAndTrainModel(\"DataKey_RGB_DSM_totalSeedWeightAfterDry.csv\", \"totalSeedWeightAfterDry\", RegNetY8GFModel, \"./ResultModelTotalSeedWeightAfterDry\")\n",
    "# setAndTrainModel(\"DataKey_RGB_DSM_totalSeedWeightAfterDry.csv\", \"totalSeedWeightAfterDry\", MobileViTV2WheatModel, \"./ResultModelTotalSeedWeightAfterDry\")\n",
    "# setAndTrainModel(\"DataKey_RGB_DSM_totalSeedWeightAfterDry.csv\", \"totalSeedWeightAfterDry\", ConvNeXtTinyWheatModelWithConfidence, \"./ResultModelTotalSeedWeightAfterDry\")"
   ]
  },
  {
   "cell_type": "code",
   "execution_count": null,
   "id": "1c574148",
   "metadata": {},
   "outputs": [],
   "source": [
    "# setAndTrainModel_addextrainput(\"DataKey_RGB_DSM_totalSeedWeightBeforeDry_totalSeedWeightAfterDry.csv\", \"totalSeedWeightBeforeDry\", \"totalSeedWeightAfterDry\", EfficientNetV2MConfidenceAddeonextrainput, \"./ResultModelTotalSeedWeightAfterDry\")\n",
    "# setAndTrainModel_addextrainput(\"DataKey_RGB_DSM_totalSeedWeightBeforeDry_totalSeedWeightAfterDry.csv\", \"totalSeedWeightBeforeDry\", \"totalSeedWeightAfterDry\", DenseNetConfidenceAddoneextrainput, \"./ResultModelTotalSeedWeightAfterDry\")\n",
    "# setAndTrainModel_addextrainput(\"DataKey_RGB_DSM_totalSeedWeightBeforeDry_totalSeedWeightAfterDry.csv\", \"totalSeedWeightBeforeDry\", \"totalSeedWeightAfterDry\", RegNetY8GFConfidenceAddoneextrainput, \"./ResultModelTotalSeedWeightAfterDry\")\n",
    "# setAndTrainModel_addextrainput(\"DataKey_RGB_DSM_totalSeedWeightBeforeDry_totalSeedWeightAfterDry.csv\", \"totalSeedWeightBeforeDry\", \"totalSeedWeightAfterDry\", MobileViTV2ConfidenceAddoneextrainput, \"./ResultModelTotalSeedWeightAfterDry\")\n",
    "# setAndTrainModel_addextrainput(\"DataKey_RGB_DSM_totalSeedWeightBeforeDry_totalSeedWeightAfterDry.csv\", \"totalSeedWeightBeforeDry\", \"totalSeedWeightAfterDry\", ConvNeXtTinyConfidenceAddoneextrainput, \"./ResultModelTotalSeedWeightAfterDry\")\n"
   ]
  },
  {
   "cell_type": "code",
   "execution_count": null,
   "id": "13575f30",
   "metadata": {},
   "outputs": [],
   "source": [
    "setAndTrainModel(\"DataKey_RGB_DSM_totalSeedWeightAfterDry__Raw1.csv\", \"totalSeedWeightAfterDry\", EfficientNetV2MWheatModelWithConfidence, \"./ResultModelTotalSeedWeightAfterDry\")\n",
    "setAndTrainModel(\"DataKey_RGB_DSM_totalSeedWeightAfterDry__Raw1.csv\", \"totalSeedWeightAfterDry\", DenseNet121WheatModel, \"./ResultModelTotalSeedWeightAfterDry\")\n",
    "setAndTrainModel(\"DataKey_RGB_DSM_totalSeedWeightAfterDry__Raw1.csv\", \"totalSeedWeightAfterDry\", RegNetY8GFModel, \"./ResultModelTotalSeedWeightAfterDry\")\n",
    "setAndTrainModel(\"DataKey_RGB_DSM_totalSeedWeightAfterDry__Raw1.csv\", \"totalSeedWeightAfterDry\", MobileViTV2WheatModel, \"./ResultModelTotalSeedWeightAfterDry\")\n",
    "setAndTrainModel(\"DataKey_RGB_DSM_totalSeedWeightAfterDry__Raw1.csv\", \"totalSeedWeightAfterDry\", ConvNeXtTinyWheatModelWithConfidence, \"./ResultModelTotalSeedWeightAfterDry\")"
   ]
  },
  {
   "cell_type": "code",
   "execution_count": null,
   "id": "74ed85fe",
   "metadata": {},
   "outputs": [],
   "source": [
    "setAndTrainModel_addextrainput(\"DataKey_RGB_DSM_totalSeedWeightBeforeDry_totalSeedWeightAfterDry__Raw1.csv\", \"totalSeedWeightBeforeDry\",  \"totalSeedWeightAfterDry\", EfficientNetV2MConfidenceAddeonextrainput, \"./ResultModelTotalSeedWeightAfterDry\")\n",
    "setAndTrainModel_addextrainput(\"DataKey_RGB_DSM_totalSeedWeightBeforeDry_totalSeedWeightAfterDry__Raw1.csv\", \"totalSeedWeightBeforeDry\",  \"totalSeedWeightAfterDry\", DenseNetConfidenceAddoneextrainput, \"./ResultModelTotalSeedWeightAfterDry\")\n",
    "setAndTrainModel_addextrainput(\"DataKey_RGB_DSM_totalSeedWeightBeforeDry_totalSeedWeightAfterDry__Raw1.csv\", \"totalSeedWeightBeforeDry\",  \"totalSeedWeightAfterDry\", RegNetY8GFConfidenceAddoneextrainput, \"./ResultModelTotalSeedWeightAfterDry\")\n",
    "setAndTrainModel_addextrainput(\"DataKey_RGB_DSM_totalSeedWeightBeforeDry_totalSeedWeightAfterDry__Raw1.csv\", \"totalSeedWeightBeforeDry\",  \"totalSeedWeightAfterDry\", MobileViTV2ConfidenceAddoneextrainput, \"./ResultModelTotalSeedWeightAfterDry\")\n",
    "setAndTrainModel_addextrainput(\"DataKey_RGB_DSM_totalSeedWeightBeforeDry_totalSeedWeightAfterDry__Raw1.csv\", \"totalSeedWeightBeforeDry\",  \"totalSeedWeightAfterDry\", ConvNeXtTinyConfidenceAddoneextrainput, \"./ResultModelTotalSeedWeightAfterDry\")"
   ]
  }
 ],
 "metadata": {
  "kernelspec": {
   "display_name": "Python 3",
   "language": "python",
   "name": "python3"
  },
  "language_info": {
   "codemirror_mode": {
    "name": "ipython",
    "version": 3
   },
   "file_extension": ".py",
   "mimetype": "text/x-python",
   "name": "python",
   "nbconvert_exporter": "python",
   "pygments_lexer": "ipython3",
   "version": "3.13.2"
  }
 },
 "nbformat": 4,
 "nbformat_minor": 5
}
