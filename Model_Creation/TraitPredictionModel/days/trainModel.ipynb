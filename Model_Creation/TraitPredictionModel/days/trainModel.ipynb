{
 "cells": [
  {
   "cell_type": "code",
   "execution_count": null,
   "id": "2e776c69",
   "metadata": {},
   "outputs": [],
   "source": [
    "import os\n",
    "import sys\n",
    "# Get current working directory instead of __file__\n",
    "sys.path.append(os.path.abspath(os.path.join(os.getcwd(), \"..\")))\n",
    "from ModelArchitecture.ConvNeXtTinyModel import ConvNeXtTinyWheatModelWithConfidence\n",
    "from ModelArchitecture.DenseNetModel import DenseNet121WheatModel\n",
    "from ModelArchitecture.EfficientNetV2MModel import EfficientNetV2MWheatModelWithConfidence\n",
    "from ModelArchitecture.RegNetY8GFModel import RegNetY8GFModel\n",
    "from ModelArchitecture.MobileViTV2Model import MobileViTV2WheatModel\n",
    "\n",
    "from ModelArchitecture.DenseNetAddextrainputModel import DenseNetConfidenceAddoneextrainput\n",
    "from ModelArchitecture.EfficientNetV2MAddextrainputModel import EfficientNetV2MConfidenceAddeonextrainput\n",
    "from ModelArchitecture.RegNetY8GFAddextrainputModel import RegNetY8GFConfidenceAddoneextrainput\n",
    "from ModelArchitecture.MobileViTV2AddoneextrainputModel import MobileViTV2ConfidenceAddoneextrainput\n",
    "from ModelArchitecture.ConvNeXtTinyAddoneextrainputModel import ConvNeXtTinyConfidenceAddoneextrainput\n",
    "from modelFunc import setAndTrainModel, setAndTrainModel_addextrainput\n"
   ]
  },
  {
   "cell_type": "code",
   "execution_count": null,
   "id": "91f435dc",
   "metadata": {},
   "outputs": [],
   "source": [
    "setAndTrainModel(\"DataKey_RGB_DSM_days__NoERR.csv\", \"days\", EfficientNetV2MWheatModelWithConfidence, \"./ResultModelDaysAll\")\n",
    "setAndTrainModel(\"DataKey_RGB_DSM_days__NoERR.csv\", \"days\", DenseNet121WheatModel, \"./ResultModelDaysAll\")\n",
    "setAndTrainModel(\"DataKey_RGB_DSM_days__NoERR.csv\", \"days\", RegNetY8GFModel, \"./ResultModelDaysAll\")\n",
    "setAndTrainModel(\"DataKey_RGB_DSM_days__NoERR.csv\", \"days\", MobileViTV2WheatModel, \"./ResultModelDaysAll\")\n",
    "setAndTrainModel(\"DataKey_RGB_DSM_days__NoERR.csv\", \"days\", ConvNeXtTinyWheatModelWithConfidence, \"./ResultModelDaysAll\")"
   ]
  },
  {
   "cell_type": "code",
   "execution_count": null,
   "id": "1c574148",
   "metadata": {},
   "outputs": [],
   "source": [
    "setAndTrainModel(\"DataKey_RGB_DSM_days__NoERR_From3thM.csv\", \"days\", EfficientNetV2MWheatModelWithConfidence, \"./ResultModelDaysFrom3\")\n",
    "setAndTrainModel(\"DataKey_RGB_DSM_days__NoERR_From3thM.csv\", \"days\", DenseNet121WheatModel, \"./ResultModelDaysFrom3\")\n",
    "setAndTrainModel(\"DataKey_RGB_DSM_days__NoERR_From3thM.csv\", \"days\", RegNetY8GFModel, \"./ResultModelDaysFrom3\")\n",
    "setAndTrainModel(\"DataKey_RGB_DSM_days__NoERR_From3thM.csv\", \"days\", MobileViTV2WheatModel, \"./ResultModelDaysFrom3\")\n",
    "setAndTrainModel(\"DataKey_RGB_DSM_days__NoERR_From3thM.csv\", \"days\", ConvNeXtTinyWheatModelWithConfidence, \"./ResultModelDaysFrom3\")"
   ]
  },
  {
   "cell_type": "code",
   "execution_count": null,
   "id": "31408df6",
   "metadata": {},
   "outputs": [],
   "source": [
    "setAndTrainModel(\"DataKey_RGB_DSM_days__NoERR_From4thM.csv\", \"days\", EfficientNetV2MWheatModelWithConfidence, \"./ResultModelDaysFrom4\")\n",
    "setAndTrainModel(\"DataKey_RGB_DSM_days__NoERR_From4thM.csv\", \"days\", DenseNet121WheatModel, \"./ResultModelDaysFrom4\")\n",
    "setAndTrainModel(\"DataKey_RGB_DSM_days__NoERR_From4thM.csv\", \"days\", RegNetY8GFModel, \"./ResultModelDaysFrom4\")\n",
    "setAndTrainModel(\"DataKey_RGB_DSM_days__NoERR_From4thM.csv\", \"days\", MobileViTV2WheatModel, \"./ResultModelDaysFrom4\")\n",
    "setAndTrainModel(\"DataKey_RGB_DSM_days__NoERR_From4thM.csv\", \"days\", ConvNeXtTinyWheatModelWithConfidence, \"./ResultModelDaysFrom4\")"
   ]
  },
  {
   "cell_type": "code",
   "execution_count": null,
   "id": "b0564d04",
   "metadata": {},
   "outputs": [],
   "source": []
  }
 ],
 "metadata": {
  "kernelspec": {
   "display_name": "Python 3",
   "language": "python",
   "name": "python3"
  },
  "language_info": {
   "codemirror_mode": {
    "name": "ipython",
    "version": 3
   },
   "file_extension": ".py",
   "mimetype": "text/x-python",
   "name": "python",
   "nbconvert_exporter": "python",
   "pygments_lexer": "ipython3",
   "version": "3.13.2"
  }
 },
 "nbformat": 4,
 "nbformat_minor": 5
}
