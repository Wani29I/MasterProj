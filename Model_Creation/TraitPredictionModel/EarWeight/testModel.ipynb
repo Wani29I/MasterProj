{
 "cells": [
  {
   "cell_type": "code",
   "execution_count": null,
   "metadata": {},
   "outputs": [],
   "source": [
    "import os\n",
    "import sys\n",
    "# Get current working directory instead of __file__\n",
    "sys.path.append(os.path.abspath(os.path.join(os.getcwd(), \"..\")))\n",
    "from modelFunc import setAndTestModel\n",
    "# model\n",
    "from ModelArchitecture.ConvNeXtTinyModel import ConvNeXtTinyWheatModelWithConfidence\n",
    "from ModelArchitecture.DenseNetModel import DenseNet121WheatModel\n",
    "from ModelArchitecture.EfficientNetV2Model import EfficientNetV2SWheatCountWithConfidence\n",
    "from ModelArchitecture.RepVGGA1Model import RepVGGA1WheatModelWithConfidence"
   ]
  },
  {
   "cell_type": "code",
   "execution_count": null,
   "metadata": {},
   "outputs": [],
   "source": [
    "setAndTestModel(\"RGB_DSM_totEarWeight.csv\", \"totEarWeight\", EfficientNetV2SWheatCountWithConfidence, \"./ResultModelEarWeight/EffNetV2S_EarCount_Conf_E10.pth\")"
   ]
  },
  {
   "cell_type": "code",
   "execution_count": null,
   "metadata": {},
   "outputs": [],
   "source": [
    "setAndTestModel(\"RGB_DSM_totEarWeight.csv\", \"totEarWeight\", ConvNeXtTinyWheatModelWithConfidence, \"./ResultModelEarWeight/ConvNeXtTinyLaplaceModel10.pth\")"
   ]
  },
  {
   "cell_type": "code",
   "execution_count": null,
   "metadata": {},
   "outputs": [],
   "source": [
    "setAndTestModel(\"RGB_DSM_totEarWeight.csv\", \"totEarWeight\", RepVGGA1WheatModelWithConfidence, \"./ResultModelEarWeight/RepVGGA1LaplaceModel10.pth\")"
   ]
  },
  {
   "cell_type": "code",
   "execution_count": null,
   "metadata": {},
   "outputs": [],
   "source": [
    "setAndTestModel(\"RGB_DSM_totEarWeight.csv\", \"totEarWeight\", DenseNet121WheatModel, \"./ResultModelEarWeight/DenseNetLaplaceModel10.pth\")"
   ]
  },
  {
   "cell_type": "code",
   "execution_count": null,
   "metadata": {},
   "outputs": [],
   "source": []
  }
 ],
 "metadata": {
  "kernelspec": {
   "display_name": "Python 3",
   "language": "python",
   "name": "python3"
  },
  "language_info": {
   "codemirror_mode": {
    "name": "ipython",
    "version": 3
   },
   "file_extension": ".py",
   "mimetype": "text/x-python",
   "name": "python",
   "nbconvert_exporter": "python",
   "pygments_lexer": "ipython3",
   "version": "3.10.10"
  }
 },
 "nbformat": 4,
 "nbformat_minor": 2
}
