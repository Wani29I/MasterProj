{
 "cells": [
  {
   "cell_type": "code",
   "execution_count": 1,
   "metadata": {},
   "outputs": [
    {
     "name": "stderr",
     "output_type": "stream",
     "text": [
      "c:\\Users\\pacha\\AppData\\Local\\Programs\\Python\\Python313\\Lib\\site-packages\\tqdm\\auto.py:21: TqdmWarning: IProgress not found. Please update jupyter and ipywidgets. See https://ipywidgets.readthedocs.io/en/stable/user_install.html\n",
      "  from .autonotebook import tqdm as notebook_tqdm\n"
     ]
    }
   ],
   "source": [
    "import os\n",
    "import sys\n",
    "# Get current working directory instead of __file__\n",
    "sys.path.append(os.path.abspath(os.path.join(os.getcwd(), \"..\")))\n",
    "from modelFunc import setAndTestModel\n",
    "# model\n",
    "from ModelArchitecture.ConvNeXtTinyModel import ConvNeXtTinyWheatModelWithConfidence\n",
    "from ModelArchitecture.DenseNetModel import DenseNet121WheatModel\n",
    "from ModelArchitecture.EfficientNetV2Model import EfficientNetV2SWheatCountWithConfidence\n",
    "from ModelArchitecture.RepVGGA1Model import RepVGGA1WheatModelWithConfidence\n",
    "from ModelArchitecture.EfficientNetV2MModel import EfficientNetV2MWheatModelWithConfidence\n",
    "from ModelArchitecture.RepVGGB1g4Model import RepVGGB1g4Model\n",
    "from ModelArchitecture.RegNetY8GFModel import RegNetY8GFModel\n",
    "from ModelArchitecture.EfficientNetV2SAddextrainputModel import EfficientNetV2SConfidenceAddoneextrainput\n",
    "from ModelArchitecture.DenseNetAddextrainputModel import DenseNetConfidenceAddoneextrainput\n",
    "from ModelArchitecture.RepVGGA1AddextrainputModel import RepVGGA1ConfidenceAddoneextrainput\n",
    "from ModelArchitecture.EfficientNetV2MAddextrainputModel import EfficientNetV2MConfidenceAddeonextrainput\n",
    "from ModelArchitecture.RegNetY8GFAddextrainputModel import RegNetY8GFConfidenceAddoneextrainput"
   ]
  },
  {
   "cell_type": "code",
   "execution_count": 2,
   "metadata": {},
   "outputs": [
    {
     "name": "stdout",
     "output_type": "stream",
     "text": [
      "✅ Safe Split → Train: 47840, Val: 5960, Test: 6000\n",
      "Train Batches: 2990, Validation Batches: 373, Test Batches: 375\n",
      "✅ Using device: cuda\n",
      "traitName:  totEarWeight\n",
      "model:  ConvNeXtTinyWheatModelWithConfidence\n"
     ]
    },
    {
     "name": "stderr",
     "output_type": "stream",
     "text": [
      "100%|██████████| 375/375 [01:05<00:00,  5.74it/s]\n",
      "c:\\Users\\pacha\\AppData\\Local\\Programs\\Python\\Python313\\Lib\\site-packages\\torchvision\\models\\_utils.py:208: UserWarning: The parameter 'pretrained' is deprecated since 0.13 and may be removed in the future, please use 'weights' instead.\n",
      "  warnings.warn(\n",
      "c:\\Users\\pacha\\AppData\\Local\\Programs\\Python\\Python313\\Lib\\site-packages\\torchvision\\models\\_utils.py:223: UserWarning: Arguments other than a weight enum or `None` for 'weights' are deprecated since 0.13 and may be removed in the future. The current behavior is equivalent to passing `weights=DenseNet121_Weights.IMAGENET1K_V1`. You can also use `weights=DenseNet121_Weights.DEFAULT` to get the most up-to-date weights.\n",
      "  warnings.warn(msg)\n"
     ]
    },
    {
     "name": "stdout",
     "output_type": "stream",
     "text": [
      "\n",
      "📊 Test Results:\n",
      "✅ R² Score : 0.0079\n",
      "✅ MAE      : 301.0864\n",
      "✅ RMSE     : 415.8322\n",
      "✅ Safe Split → Train: 47840, Val: 5960, Test: 6000\n",
      "Train Batches: 2990, Validation Batches: 373, Test Batches: 375\n",
      "✅ Using device: cuda\n",
      "traitName:  totEarWeight\n",
      "model:  DenseNet121WheatModel\n"
     ]
    },
    {
     "name": "stderr",
     "output_type": "stream",
     "text": [
      "100%|██████████| 375/375 [00:53<00:00,  6.98it/s]\n"
     ]
    },
    {
     "name": "stdout",
     "output_type": "stream",
     "text": [
      "\n",
      "📊 Test Results:\n",
      "✅ R² Score : 0.9352\n",
      "✅ MAE      : 78.9760\n",
      "✅ RMSE     : 106.2922\n",
      "✅ Safe Split → Train: 47840, Val: 5960, Test: 6000\n",
      "Train Batches: 2990, Validation Batches: 373, Test Batches: 375\n",
      "✅ Using device: cuda\n",
      "traitName:  totEarWeight\n",
      "model:  EfficientNetV2MWheatModelWithConfidence\n"
     ]
    },
    {
     "name": "stderr",
     "output_type": "stream",
     "text": [
      "100%|██████████| 375/375 [01:09<00:00,  5.40it/s]\n"
     ]
    },
    {
     "name": "stdout",
     "output_type": "stream",
     "text": [
      "\n",
      "📊 Test Results:\n",
      "✅ R² Score : 0.9355\n",
      "✅ MAE      : 72.0204\n",
      "✅ RMSE     : 106.0503\n",
      "✅ Safe Split → Train: 47840, Val: 5960, Test: 6000\n",
      "Train Batches: 2990, Validation Batches: 373, Test Batches: 375\n",
      "✅ Using device: cuda\n",
      "traitName:  totEarWeight\n",
      "model:  EfficientNetV2SWheatCountWithConfidence\n"
     ]
    },
    {
     "name": "stderr",
     "output_type": "stream",
     "text": [
      "100%|██████████| 375/375 [00:47<00:00,  7.86it/s]\n"
     ]
    },
    {
     "name": "stdout",
     "output_type": "stream",
     "text": [
      "\n",
      "📊 Test Results:\n",
      "✅ R² Score : 0.9093\n",
      "✅ MAE      : 86.6358\n",
      "✅ RMSE     : 125.7016\n",
      "✅ Safe Split → Train: 47840, Val: 5960, Test: 6000\n",
      "Train Batches: 2990, Validation Batches: 373, Test Batches: 375\n",
      "✅ Using device: cuda\n",
      "traitName:  totEarWeight\n",
      "model:  RegNetY8GFModel\n"
     ]
    },
    {
     "name": "stderr",
     "output_type": "stream",
     "text": [
      "100%|██████████| 375/375 [01:26<00:00,  4.33it/s]\n"
     ]
    },
    {
     "name": "stdout",
     "output_type": "stream",
     "text": [
      "\n",
      "📊 Test Results:\n",
      "✅ R² Score : 0.9203\n",
      "✅ MAE      : 86.6625\n",
      "✅ RMSE     : 117.8641\n",
      "✅ Safe Split → Train: 47840, Val: 5960, Test: 6000\n",
      "Train Batches: 2990, Validation Batches: 373, Test Batches: 375\n",
      "✅ Using device: cuda\n",
      "traitName:  totEarWeight\n",
      "model:  RepVGGB1g4Model\n"
     ]
    },
    {
     "name": "stderr",
     "output_type": "stream",
     "text": [
      "100%|██████████| 375/375 [01:14<00:00,  5.06it/s]\n"
     ]
    },
    {
     "name": "stdout",
     "output_type": "stream",
     "text": [
      "\n",
      "📊 Test Results:\n",
      "✅ R² Score : 0.9251\n",
      "✅ MAE      : 83.0901\n",
      "✅ RMSE     : 114.2904\n",
      "✅ Safe Split → Train: 47840, Val: 5960, Test: 6000\n",
      "Train Batches: 2990, Validation Batches: 373, Test Batches: 375\n",
      "✅ Using device: cuda\n",
      "traitName:  totEarWeight\n",
      "model:  RepVGGA1WheatModelWithConfidence\n"
     ]
    },
    {
     "name": "stderr",
     "output_type": "stream",
     "text": [
      "100%|██████████| 375/375 [00:38<00:00,  9.67it/s]"
     ]
    },
    {
     "name": "stdout",
     "output_type": "stream",
     "text": [
      "\n",
      "📊 Test Results:\n",
      "✅ R² Score : 0.9161\n",
      "✅ MAE      : 86.6134\n",
      "✅ RMSE     : 120.9273\n"
     ]
    },
    {
     "name": "stderr",
     "output_type": "stream",
     "text": [
      "\n"
     ]
    }
   ],
   "source": [
    "setAndTestModel(\"DataKey_RGB_DSM_totEarWeight.csv\", \"totEarWeight\", ConvNeXtTinyWheatModelWithConfidence, \"./ResultModelEarWeight/ConvNeXtTinyWheatModelWithConfidence_totEarWeight10.pth\")\n",
    "setAndTestModel(\"DataKey_RGB_DSM_totEarWeight.csv\", \"totEarWeight\", DenseNet121WheatModel, \"./ResultModelEarWeight/DenseNet121WheatModel_totEarWeight10.pth\")\n",
    "setAndTestModel(\"DataKey_RGB_DSM_totEarWeight.csv\", \"totEarWeight\", EfficientNetV2MWheatModelWithConfidence, \"./ResultModelEarWeight/EfficientNetV2MWheatModelWithConfidence_totEarWeight10.pth\")\n",
    "setAndTestModel(\"DataKey_RGB_DSM_totEarWeight.csv\", \"totEarWeight\", EfficientNetV2SWheatCountWithConfidence, \"./ResultModelEarWeight/EfficientNetV2SWheatCountWithConfidence_totEarWeight10.pth\")\n",
    "setAndTestModel(\"DataKey_RGB_DSM_totEarWeight.csv\", \"totEarWeight\", RegNetY8GFModel, \"./ResultModelEarWeight/RegNetY8GFModel_totEarWeight10.pth\")\n",
    "setAndTestModel(\"DataKey_RGB_DSM_totEarWeight.csv\", \"totEarWeight\", RepVGGB1g4Model, \"./ResultModelEarWeight/RepVGGB1g4Model_totEarWeight10.pth\")\n",
    "setAndTestModel(\"DataKey_RGB_DSM_totEarWeight.csv\", \"totEarWeight\", RepVGGA1WheatModelWithConfidence, \"./ResultModelEarWeight/RepVGGA1WheatModelWithConfidence_totEarWeight10.pth\")"
   ]
  }
 ],
 "metadata": {
  "kernelspec": {
   "display_name": "Python 3",
   "language": "python",
   "name": "python3"
  },
  "language_info": {
   "codemirror_mode": {
    "name": "ipython",
    "version": 3
   },
   "file_extension": ".py",
   "mimetype": "text/x-python",
   "name": "python",
   "nbconvert_exporter": "python",
   "pygments_lexer": "ipython3",
   "version": "3.13.2"
  }
 },
 "nbformat": 4,
 "nbformat_minor": 2
}
