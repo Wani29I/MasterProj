{
 "cells": [
  {
   "cell_type": "code",
   "execution_count": null,
   "metadata": {},
   "outputs": [],
   "source": [
    "import os\n",
    "import sys\n",
    "import torch\n",
    "import numpy as np\n",
    "import matplotlib.pyplot as plt\n",
    "from sklearn.model_selection import train_test_split\n",
    "from sklearn.metrics import mean_squared_error, mean_absolute_error, r2_score\n",
    "\n",
    "# Get current working directory instead of __file__\n",
    "sys.path.append(os.path.abspath(os.path.join(os.getcwd(), \"..\")))\n",
    "from dataLoaderFunc import loadSplitData, createLoader\n",
    "from modelTestFunc import evaluate_model, test_model, new_test_model\n",
    "\n",
    "# model\n",
    "from ModelArchitecture.ConvNeXtTinyModel import ConvNeXtTinyWheatModelWithConfidence\n",
    "from ModelArchitecture.DenseNetModel import DenseNet121WheatModel\n",
    "from ModelArchitecture.EfficientNetV2Model import EfficientNetV2SWheatCountWithConfidence\n",
    "from ModelArchitecture.RepVGGA1Model import RepVGGA1WheatModelWithConfidence"
   ]
  },
  {
   "cell_type": "code",
   "execution_count": null,
   "metadata": {},
   "outputs": [],
   "source": [
    "train_df, val_df, test_df = loadSplitData(\"RGB_DSM_totEarWeight.csv\")\n",
    "train_loader, val_loader, test_loader = createLoader(train_df, val_df, test_df, traitName = \"totEarWeight\")"
   ]
  },
  {
   "cell_type": "code",
   "execution_count": null,
   "metadata": {},
   "outputs": [],
   "source": [
    "if torch.backends.mps.is_available():\n",
    "    device = \"mps\"  # ✅ Use Apple Metal (Mac M1/M2)\n",
    "    torch.set_default_tensor_type(torch.FloatTensor)\n",
    "elif torch.cuda.is_available():\n",
    "    device = \"cuda\"  # ✅ Use NVIDIA CUDA (Windows RTX 4060)\n",
    "else:\n",
    "    device = \"cpu\"  # ✅ Default to CPU if no GPU is available\n",
    "print(f\"✅ Using device: {device}\")"
   ]
  },
  {
   "cell_type": "code",
   "execution_count": null,
   "metadata": {},
   "outputs": [],
   "source": [
    "# EfficientNetV2Model = EfficientNetV2SWheatCountWithConfidence().to(device)\n",
    "# if(device == \"cuda\"):\n",
    "#     EfficientNetV2Model.load_state_dict(torch.load(\"./ResultModelLAI/EffNetV2S_EarCount_Conf_E10.pth\"))\n",
    "# else:\n",
    "#     EfficientNetV2Model.load_state_dict(torch.load(\"./ResultModelLAI/EffNetV2S_EarCount_Conf_E10.pth\", map_location=torch.device(\"cpu\")))\n",
    "# EfficientNetV2Model.eval()\n",
    "\n",
    "# # Run test\n",
    "# df_results, r2, mae, rmse = new_test_model(EfficientNetV2Model, test_loader, device)"
   ]
  },
  {
   "cell_type": "code",
   "execution_count": null,
   "metadata": {},
   "outputs": [],
   "source": [
    "# ConvNeXtTinyModel = ConvNeXtTinyWheatModelWithConfidence().to(device)\n",
    "# if(device == \"cuda\"):\n",
    "#     ConvNeXtTinyModel.load_state_dict(torch.load(\"./ResultModelLAI/ConvNeXtTinyLaplaceModel10.pth\"))\n",
    "# else:\n",
    "#     ConvNeXtTinyModel.load_state_dict(torch.load(\"./ResultModelLAI/ConvNeXtTinyLaplaceModel10.pth\", map_location=torch.device(\"cpu\")))\n",
    "# ConvNeXtTinyModel.eval()\n",
    "\n",
    "# # Run test\n",
    "# df_results, r2, mae, rmse = new_test_model(ConvNeXtTinyModel, test_loader, device)"
   ]
  },
  {
   "cell_type": "code",
   "execution_count": null,
   "metadata": {},
   "outputs": [],
   "source": [
    "# RepVGGA1Model = RepVGGA1WheatModelWithConfidence().to(device)\n",
    "# if(device == \"cuda\"):\n",
    "#     RepVGGA1Model.load_state_dict(torch.load(\"./ResultModelLAI/RepVGGA1LaplaceModel10.pth\"))\n",
    "# else:\n",
    "#     RepVGGA1Model.load_state_dict(torch.load(\"./ResultModelLAI/RepVGGA1LaplaceModel10.pth\", map_location=torch.device(\"cpu\")))\n",
    "# RepVGGA1Model.eval()\n",
    "\n",
    "# # Run test\n",
    "# df_results, r2, mae, rmse = new_test_model(RepVGGA1Model, test_loader, device)"
   ]
  },
  {
   "cell_type": "code",
   "execution_count": null,
   "metadata": {},
   "outputs": [],
   "source": [
    "# DenseNet121Model = DenseNet121WheatModel().to(device)\n",
    "# if(device == \"cuda\"):\n",
    "#     DenseNet121Model.load_state_dict(torch.load(\"./ResultModelLAI/DenseNetLaplaceModel10.pth\"))\n",
    "# else:\n",
    "#     DenseNet121Model.load_state_dict(torch.load(\"./ResultModelLAI/DenseNetLaplaceModel10.pth\", map_location=torch.device(\"cpu\")))\n",
    "# DenseNet121Model.eval()\n",
    "\n",
    "# # Run test\n",
    "# df_results, r2, mae, rmse = new_test_model(DenseNet121Model, test_loader, device)"
   ]
  },
  {
   "cell_type": "code",
   "execution_count": null,
   "metadata": {},
   "outputs": [],
   "source": []
  }
 ],
 "metadata": {
  "kernelspec": {
   "display_name": "Python 3",
   "language": "python",
   "name": "python3"
  },
  "language_info": {
   "codemirror_mode": {
    "name": "ipython",
    "version": 3
   },
   "file_extension": ".py",
   "mimetype": "text/x-python",
   "name": "python",
   "nbconvert_exporter": "python",
   "pygments_lexer": "ipython3",
   "version": "3.10.10"
  }
 },
 "nbformat": 4,
 "nbformat_minor": 2
}
