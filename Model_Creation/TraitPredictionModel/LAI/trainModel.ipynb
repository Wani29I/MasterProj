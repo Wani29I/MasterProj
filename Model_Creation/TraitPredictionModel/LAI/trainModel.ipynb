{
 "cells": [
  {
   "cell_type": "code",
   "execution_count": null,
   "metadata": {},
   "outputs": [],
   "source": [
    "import os\n",
    "import sys\n",
    "# Get current working directory instead of __file__\n",
    "sys.path.append(os.path.abspath(os.path.join(os.getcwd(), \"..\")))\n",
    "from modelFunc import setAndTrainModel, setAndTrainModel_addextrainput\n",
    "from ModelArchitecture.ConvNeXtTinyModel import ConvNeXtTinyWheatModelWithConfidence\n",
    "from ModelArchitecture.DenseNetModel import DenseNet121WheatModel\n",
    "from ModelArchitecture.EfficientNetV2Model import EfficientNetV2SWheatCountWithConfidence\n",
    "from ModelArchitecture.RepVGGA1Model import RepVGGA1WheatModelWithConfidence\n",
    "from ModelArchitecture.EfficientNetV2MModel import EfficientNetV2M_WheatModelWithConfidence\n",
    "from ModelArchitecture.RepVGG_B1g4Model import RepVGG_B1g4Model\n",
    "from ModelArchitecture.RegNetY8GFModel import RegNetY8GFModel\n",
    "from ModelArchitecture.EfficientNetV2SAddextrainputModel import EfficientNetV2S_Confidence_Addoneextrainput, EfficientNetV2S_Confidence_Add2Inputs\n",
    "from ModelArchitecture.DenseNetAddextrainputModel import DenseNet_Confidence_Addoneextrainput, DenseNet_Confidence_Add2Inputs\n",
    "from ModelArchitecture.RepVGGA1AddextrainputModel import RepVGGA1_Confidence_Addoneextrainput, RepVGGA1_Confidence_Add2Inputs\n",
    "from ModelArchitecture.EfficientNetV2MAddextrainputModel import EfficientNetV2M_Confidence_Addeonextrainput, EfficientNetV2M_Confidence_Add2Inputs\n",
    "from ModelArchitecture.RegNetY8GFAddextrainputModel import RegNetY8GF_Confidence_Addoneextrainput, RegNetY_Confidence_Add2Inputs"
   ]
  },
  {
   "cell_type": "code",
   "execution_count": null,
   "metadata": {},
   "outputs": [],
   "source": [
    "# setAndTrainModel(\"DataKey_RGB_DSM_LAI.csv\", \"LAI\", EfficientNetV2SWheatCountWithConfidence, \"./ResultModelLAI\")\n",
    "# setAndTrainModel(\"DataKey_RGB_DSM_LAI.csv\", \"LAI\", ConvNeXtTinyWheatModelWithConfidence, \"./ResultModelLAI\")\n",
    "# setAndTrainModel(\"DataKey_RGB_DSM_LAI.csv\", \"LAI\", RepVGGA1WheatModelWithConfidence, \"./ResultModelLAI\")\n",
    "# setAndTrainModel(\"DataKey_RGB_DSM_LAI.csv\", \"LAI\", DenseNet121WheatModel, \"./ResultModelLAI\")"
   ]
  },
  {
   "cell_type": "code",
   "execution_count": null,
   "metadata": {},
   "outputs": [],
   "source": [
    "setAndTrainModel(\"DataKey_RGB_DSM_LAI.csv\", \"LAI\", EfficientNetV2M_WheatModelWithConfidence, \"./ResultModelLAI\")"
   ]
  },
  {
   "cell_type": "code",
   "execution_count": null,
   "metadata": {},
   "outputs": [],
   "source": [
    "setAndTrainModel(\"DataKey_RGB_DSM_LAI.csv\", \"LAI\", RepVGG_B1g4Model, \"./ResultModelLAI\")"
   ]
  },
  {
   "cell_type": "code",
   "execution_count": null,
   "metadata": {},
   "outputs": [],
   "source": [
    "setAndTrainModel(\"DataKey_RGB_DSM_LAI.csv\", \"LAI\", RegNetY8GFModel, \"./ResultModelLAI\")"
   ]
  },
  {
   "cell_type": "code",
   "execution_count": null,
   "metadata": {},
   "outputs": [],
   "source": [
    "setAndTrainModel_addextrainput(\"DataKey_RGB_DSM_totEarWeight_LAI.csv\", \"totEarWeight\", \"LAI\", EfficientNetV2S_Confidence_Addoneextrainput, \"./ResultModelLAI\")"
   ]
  },
  {
   "cell_type": "code",
   "execution_count": null,
   "metadata": {},
   "outputs": [],
   "source": [
    "setAndTrainModel_addextrainput(\"DataKey_RGB_DSM_totEarWeight_LAI.csv\", \"totEarWeight\", \"LAI\", DenseNet_Confidence_Addoneextrainput, \"./ResultModelLAI\")"
   ]
  },
  {
   "cell_type": "code",
   "execution_count": null,
   "metadata": {},
   "outputs": [],
   "source": [
    "setAndTrainModel_addextrainput(\"DataKey_RGB_DSM_totEarWeight_LAI.csv\", \"totEarWeight\", \"LAI\", RepVGGA1_Confidence_Addoneextrainput, \"./ResultModelLAI\")"
   ]
  },
  {
   "cell_type": "code",
   "execution_count": null,
   "metadata": {},
   "outputs": [],
   "source": [
    "setAndTrainModel_addextrainput(\"DataKey_RGB_DSM_totEarWeight_LAI.csv\", \"totEarWeight\", \"LAI\", RegNetY8GF_Confidence_Addoneextrainput, \"./ResultModelLAI\")"
   ]
  },
  {
   "cell_type": "code",
   "execution_count": null,
   "metadata": {},
   "outputs": [],
   "source": [
    "setAndTrainModel_addextrainput(\"DataKey_RGB_DSM_totEarWeight_LAI.csv\", \"totEarWeight\", \"LAI\", EfficientNetV2M_Confidence_Addeonextrainput, \"./ResultModelLAI_EarWeight\")"
   ]
  },
  {
   "cell_type": "code",
   "execution_count": null,
   "metadata": {},
   "outputs": [],
   "source": [
    "setAndTrainModel_addextrainput(\"DataKey_RGB_DSM_LAI_time.csv\", \"time\", \"LAI\", EfficientNetV2S_Confidence_Addoneextrainput, \"./ResultModelLAI\")"
   ]
  },
  {
   "cell_type": "code",
   "execution_count": null,
   "metadata": {},
   "outputs": [],
   "source": [
    "setAndTrainModel_addextrainput(\"DataKey_RGB_DSM_LAI_time.csv\", \"time\", \"LAI\", DenseNet_Confidence_Addoneextrainput, \"./ResultModelLAI\")"
   ]
  },
  {
   "cell_type": "code",
   "execution_count": null,
   "metadata": {},
   "outputs": [],
   "source": [
    "setAndTrainModel_addextrainput(\"DataKey_RGB_DSM_LAI_time.csv\", \"time\", \"LAI\", RepVGGA1_Confidence_Addoneextrainput, \"./ResultModelLAI\")"
   ]
  },
  {
   "cell_type": "code",
   "execution_count": null,
   "metadata": {},
   "outputs": [],
   "source": [
    "setAndTrainModel_addextrainput(\"DataKey_RGB_DSM_LAI_time.csv\", \"time\", \"LAI\", RegNetY8GF_Confidence_Addoneextrainput, \"./ResultModelLAI\")"
   ]
  },
  {
   "cell_type": "code",
   "execution_count": null,
   "metadata": {},
   "outputs": [],
   "source": [
    "setAndTrainModel_addextrainput(\"DataKey_RGB_DSM_LAI_time.csv\", \"time\", \"LAI\", EfficientNetV2M_Confidence_Addeonextrainput, \"./ResultModelLAI\")"
   ]
  },
  {
   "cell_type": "code",
   "execution_count": null,
   "metadata": {},
   "outputs": [],
   "source": [
    "setAndTrainModel_addextrainput(\"DataKey_RGB_DSM_totEarWeight_LAI_time.csv\", [\"totEarWeight\", \"time\"], \"LAI\", EfficientNetV2S_Confidence_Add2Inputs, \"./ResultModelLAI\")"
   ]
  },
  {
   "cell_type": "code",
   "execution_count": null,
   "metadata": {},
   "outputs": [],
   "source": [
    "setAndTrainModel_addextrainput(\"DataKey_RGB_DSM_totEarWeight_LAI_time.csv\", [\"totEarWeight\", \"time\"], \"LAI\", DenseNet_Confidence_Add2Inputs, \"./ResultModelLAI\")"
   ]
  },
  {
   "cell_type": "code",
   "execution_count": null,
   "metadata": {},
   "outputs": [],
   "source": [
    "setAndTrainModel_addextrainput(\"DataKey_RGB_DSM_totEarWeight_LAI_time.csv\", [\"totEarWeight\", \"time\"], \"LAI\", RegNetY_Confidence_Add2Inputs, \"./ResultModelLAI\")"
   ]
  },
  {
   "cell_type": "code",
   "execution_count": null,
   "metadata": {},
   "outputs": [],
   "source": [
    "setAndTrainModel_addextrainput(\"DataKey_RGB_DSM_totEarWeight_LAI_time.csv\", [\"totEarWeight\", \"time\"], \"LAI\", RepVGGA1_Confidence_Add2Inputs, \"./ResultModelLAI\")"
   ]
  },
  {
   "cell_type": "code",
   "execution_count": null,
   "metadata": {},
   "outputs": [],
   "source": [
    "setAndTrainModel_addextrainput(\"DataKey_RGB_DSM_totEarWeight_LAI_time.csv\", [\"totEarWeight\", \"time\"], \"LAI\", EfficientNetV2M_Confidence_Add2Inputs, \"./ResultModelLAI\")"
   ]
  }
 ],
 "metadata": {
  "kernelspec": {
   "display_name": "Python 3",
   "language": "python",
   "name": "python3"
  },
  "language_info": {
   "codemirror_mode": {
    "name": "ipython",
    "version": 3
   },
   "file_extension": ".py",
   "mimetype": "text/x-python",
   "name": "python",
   "nbconvert_exporter": "python",
   "pygments_lexer": "ipython3",
   "version": "3.10.10"
  }
 },
 "nbformat": 4,
 "nbformat_minor": 2
}
