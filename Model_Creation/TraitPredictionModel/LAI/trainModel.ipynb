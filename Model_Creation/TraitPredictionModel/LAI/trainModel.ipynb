{
 "cells": [
  {
   "cell_type": "code",
   "execution_count": 17,
   "metadata": {},
   "outputs": [],
   "source": [
    "import os\n",
    "import sys\n",
    "# Get current working directory instead of __file__\n",
    "sys.path.append(os.path.abspath(os.path.join(os.getcwd(), \"..\")))\n",
    "from modelFunc import setAndTrainModel, setAndTrainModel_addextrainput\n",
    "from ModelArchitecture.ConvNeXtTinyModel import ConvNeXtTinyWheatModelWithConfidence\n",
    "from ModelArchitecture.DenseNetModel import DenseNet121WheatModel\n",
    "from ModelArchitecture.EfficientNetV2Model import EfficientNetV2SWheatCountWithConfidence\n",
    "from ModelArchitecture.RepVGGA1Model import RepVGGA1WheatModelWithConfidence\n",
    "from ModelArchitecture.EfficientNetV2SAddextrainputModel import EfficientNetV2S_Confidence_Addoneextrainput, EfficientNetV2S_Confidence_Add2Inputs\n",
    "from ModelArchitecture.DenseNetAddextrainputModel import DenseNet_Confidence_Addoneextrainput, DenseNet_Confidence_Add2Inputs\n",
    "from ModelArchitecture.RepVGGA1AddextrainputModel import RepVGGA1_Confidence_Addoneextrainput, RepVGGA1_Confidence_Add2Inputs\n",
    "from ModelArchitecture.EfficientNetV2MAddextrainputModel import EfficientNetV2M_Confidence_Addeonextrainput, EfficientNetV2M_Confidence_Add2Inputs\n",
    "from ModelArchitecture.RegNetY8GFAddextrainputModel import RegNetY8GF_Confidence_Addoneextrainput, RegNetY_Confidence_Add2Inputs"
   ]
  },
  {
   "cell_type": "code",
   "execution_count": 18,
   "metadata": {},
   "outputs": [],
   "source": [
    "# setAndTrainModel(\"DataKey_RGB_DSM_LAI.csv\", \"LAI\", EfficientNetV2SWheatCountWithConfidence, \"./ResultModelLAI\")\n",
    "# setAndTrainModel(\"DataKey_RGB_DSM_LAI.csv\", \"LAI\", ConvNeXtTinyWheatModelWithConfidence, \"./ResultModelLAI\")\n",
    "# setAndTrainModel(\"DataKey_RGB_DSM_LAI.csv\", \"LAI\", RepVGGA1WheatModelWithConfidence, \"./ResultModelLAI\")\n",
    "# setAndTrainModel(\"DataKey_RGB_DSM_LAI.csv\", \"LAI\", DenseNet121WheatModel, \"./ResultModelLAI\")"
   ]
  },
  {
   "cell_type": "code",
   "execution_count": null,
   "metadata": {},
   "outputs": [],
   "source": [
    "setAndTrainModel_addextrainput(\"DataKey_RGB_DSM_totEarWeight_LAI.csv\", \"totEarWeight\", \"LAI\", EfficientNetV2S_Confidence_Addoneextrainput, \"./ResultModelLAI\")"
   ]
  },
  {
   "cell_type": "code",
   "execution_count": null,
   "metadata": {},
   "outputs": [],
   "source": [
    "setAndTrainModel_addextrainput(\"DataKey_RGB_DSM_totEarWeight_LAI.csv\", \"totEarWeight\", \"LAI\", DenseNet_Confidence_Addoneextrainput, \"./ResultModelLAI\")"
   ]
  },
  {
   "cell_type": "code",
   "execution_count": null,
   "metadata": {},
   "outputs": [],
   "source": [
    "setAndTrainModel_addextrainput(\"DataKey_RGB_DSM_totEarWeight_LAI.csv\", \"totEarWeight\", \"LAI\", RepVGGA1_Confidence_Addoneextrainput, \"./ResultModelLAI\")"
   ]
  },
  {
   "cell_type": "code",
   "execution_count": null,
   "metadata": {},
   "outputs": [],
   "source": [
    "setAndTrainModel_addextrainput(\"DataKey_RGB_DSM_totEarWeight_LAI.csv\", \"totEarWeight\", \"LAI\", RegNetY8GF_Confidence_Addoneextrainput, \"./ResultModelLAI\")"
   ]
  },
  {
   "cell_type": "code",
   "execution_count": null,
   "metadata": {},
   "outputs": [],
   "source": [
    "setAndTrainModel_addextrainput(\"DataKey_RGB_DSM_totEarWeight_LAI.csv\", \"totEarWeight\", \"LAI\", EfficientNetV2M_Confidence_Addeonextrainput, \"./ResultModelLAI_EarWeight\")"
   ]
  },
  {
   "cell_type": "code",
   "execution_count": null,
   "metadata": {},
   "outputs": [],
   "source": [
    "setAndTrainModel_addextrainput(\"DataKey_RGB_DSM_LAI_time.csv\", \"time\", \"LAI\", EfficientNetV2S_Confidence_Addoneextrainput, \"./ResultModelLAI\")"
   ]
  },
  {
   "cell_type": "code",
   "execution_count": null,
   "metadata": {},
   "outputs": [],
   "source": [
    "setAndTrainModel_addextrainput(\"DataKey_RGB_DSM_LAI_time.csv\", \"time\", \"LAI\", DenseNet_Confidence_Addoneextrainput, \"./ResultModelLAI\")"
   ]
  },
  {
   "cell_type": "code",
   "execution_count": null,
   "metadata": {},
   "outputs": [],
   "source": [
    "setAndTrainModel_addextrainput(\"DataKey_RGB_DSM_LAI_time.csv\", \"time\", \"LAI\", RepVGGA1_Confidence_Addoneextrainput, \"./ResultModelLAI\")"
   ]
  },
  {
   "cell_type": "code",
   "execution_count": null,
   "metadata": {},
   "outputs": [],
   "source": [
    "setAndTrainModel_addextrainput(\"DataKey_RGB_DSM_LAI_time.csv\", \"time\", \"LAI\", RegNetY8GF_Confidence_Addoneextrainput, \"./ResultModelLAI\")"
   ]
  },
  {
   "cell_type": "code",
   "execution_count": null,
   "metadata": {},
   "outputs": [],
   "source": [
    "setAndTrainModel_addextrainput(\"DataKey_RGB_DSM_LAI_time.csv\", \"time\", \"LAI\", EfficientNetV2M_Confidence_Addeonextrainput, \"./ResultModelLAI\")"
   ]
  },
  {
   "cell_type": "code",
   "execution_count": null,
   "metadata": {},
   "outputs": [],
   "source": [
    "setAndTrainModel_addextrainput(\"DataKey_RGB_DSM_totEarWeight_LAI_time.csv\", [\"totEarWeight\", \"time\"], \"LAI\", EfficientNetV2S_Confidence_Add2Inputs, \"./ResultModelLAI\")"
   ]
  },
  {
   "cell_type": "code",
   "execution_count": null,
   "metadata": {},
   "outputs": [],
   "source": [
    "setAndTrainModel_addextrainput(\"DataKey_RGB_DSM_totEarWeight_LAI_time.csv\", [\"totEarWeight\", \"time\"], \"LAI\", DenseNet_Confidence_Add2Inputs, \"./ResultModelLAI\")"
   ]
  },
  {
   "cell_type": "code",
   "execution_count": null,
   "metadata": {},
   "outputs": [],
   "source": [
    "setAndTrainModel_addextrainput(\"DataKey_RGB_DSM_totEarWeight_LAI_time.csv\", [\"totEarWeight\", \"time\"], \"LAI\", RegNetY_Confidence_Add2Inputs, \"./ResultModelLAI\")"
   ]
  },
  {
   "cell_type": "code",
   "execution_count": null,
   "metadata": {},
   "outputs": [],
   "source": [
    "setAndTrainModel_addextrainput(\"DataKey_RGB_DSM_totEarWeight_LAI_time.csv\", [\"totEarWeight\", \"time\"], \"LAI\", RepVGGA1_Confidence_Add2Inputs, \"./ResultModelLAI\")"
   ]
  },
  {
   "cell_type": "code",
   "execution_count": null,
   "metadata": {},
   "outputs": [
    {
     "name": "stdout",
     "output_type": "stream",
     "text": [
      "✅ Save model to: ./ResultModelLAI/EfficientNetV2M_Confidence_Add2Inputs_LAI_extratotEarWeight_time\n",
      "✅ Using device: mps\n",
      "✅ Safe Split → Train: 42840, Val: 5360, Test: 5360\n",
      "Train Batches: 2678, Validation Batches: 335, Test Batches: 335\n"
     ]
    },
    {
     "name": "stderr",
     "output_type": "stream",
     "text": [
      "/Users/ice/.pyenv/versions/3.10.10/lib/python3.10/site-packages/torch/__init__.py:1236: UserWarning: torch.set_default_tensor_type() is deprecated as of PyTorch 2.1, please use torch.set_default_dtype() and torch.set_default_device() as alternatives. (Triggered internally at /Users/runner/work/pytorch/pytorch/pytorch/torch/csrc/tensor/python_tensor.cpp:436.)\n",
      "  _C._set_default_tensor_type(t)\n",
      "Epoch 1/10:   0%|          | 0/2678 [00:00<?, ?it/s]"
     ]
    }
   ],
   "source": [
    "setAndTrainModel_addextrainput(\"DataKey_RGB_DSM_totEarWeight_LAI_time.csv\", [\"totEarWeight\", \"time\"], \"LAI\", EfficientNetV2M_Confidence_Add2Inputs, \"./ResultModelLAI\")"
   ]
  }
 ],
 "metadata": {
  "kernelspec": {
   "display_name": "Python 3",
   "language": "python",
   "name": "python3"
  },
  "language_info": {
   "codemirror_mode": {
    "name": "ipython",
    "version": 3
   },
   "file_extension": ".py",
   "mimetype": "text/x-python",
   "name": "python",
   "nbconvert_exporter": "python",
   "pygments_lexer": "ipython3",
   "version": "3.10.10"
  }
 },
 "nbformat": 4,
 "nbformat_minor": 2
}
