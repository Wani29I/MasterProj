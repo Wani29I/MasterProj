{
 "cells": [
  {
   "cell_type": "code",
   "execution_count": null,
   "metadata": {},
   "outputs": [
    {
     "name": "stderr",
     "output_type": "stream",
     "text": [
      "/Users/ice/.pyenv/versions/3.10.10/lib/python3.10/site-packages/tqdm/auto.py:21: TqdmWarning: IProgress not found. Please update jupyter and ipywidgets. See https://ipywidgets.readthedocs.io/en/stable/user_install.html\n",
      "  from .autonotebook import tqdm as notebook_tqdm\n"
     ]
    }
   ],
   "source": [
    "import os\n",
    "import sys\n",
    "# Get current working directory instead of __file__\n",
    "sys.path.append(os.path.abspath(os.path.join(os.getcwd(), \"..\")))\n",
    "from ModelArchitecture.ConvNeXtTinyModel import ConvNeXtTinyWheatModelWithConfidence\n",
    "from ModelArchitecture.DenseNetModel import DenseNet121WheatModel\n",
    "from ModelArchitecture.EfficientNetV2Model import EfficientNetV2SWheatCountWithConfidence\n",
    "from ModelArchitecture.RepVGGA1Model import RepVGGA1WheatModelWithConfidence\n",
    "from ModelArchitecture.EfficientNetV2MModel import EfficientNetV2MWheatModelWithConfidence\n",
    "from ModelArchitecture.RepVGGB1g4Model import RepVGGB1g4Model\n",
    "from ModelArchitecture.RegNetY8GFModel import RegNetY8GFModel\n",
    "from ModelArchitecture.MobileViTV2Model import MobileViTV2WheatModel\n",
    "from ModelArchitecture.EfficientNetV2SAddextrainputModel import EfficientNetV2SConfidenceAddoneextrainput\n",
    "from ModelArchitecture.DenseNetAddextrainputModel import DenseNetConfidenceAddoneextrainput\n",
    "from ModelArchitecture.RepVGGA1AddextrainputModel import RepVGGA1ConfidenceAddoneextrainput\n",
    "from ModelArchitecture.EfficientNetV2MAddextrainputModel import EfficientNetV2MConfidenceAddeonextrainput\n",
    "from ModelArchitecture.RegNetY8GFAddextrainputModel import RegNetY8GFConfidenceAddoneextrainput\n",
    "from ModelArchitecture.ConvNeXtTinyAddoneextrainputModel import ConvNeXtTinyConfidenceAddoneextrainput\n",
    "from ModelArchitecture.MobileViTV2AddoneextrainputModel import MobileViTV2ConfidenceAddoneextrainput\n",
    "from modelFunc import setAndTrainModel, setAndTrainModel_addextrainput\n"
   ]
  },
  {
   "cell_type": "code",
   "execution_count": null,
   "metadata": {},
   "outputs": [],
   "source": [
    "# setAndTrainModel(\"DataKey_RGB_DSM_totEarNum.csv\", \"totWheatEars\", EfficientNetV2SWheatCountWithConfidence, \"./ResultModelWheatEarCount\")\n",
    "# setAndTrainModel(\"DataKey_RGB_DSM_totEarNum.csv\", \"totWheatEars\", ConvNeXtTinyWheatModelWithConfidence, \"./ResultModelWheatEarCount\")\n",
    "# setAndTrainModel(\"DataKey_RGB_DSM_totEarNum.csv\", \"totWheatEars\", RepVGGA1WheatModelWithConfidence, \"./ResultModelWheatEarCount\")\n",
    "# setAndTrainModel(\"DataKey_RGB_DSM_totEarNum.csv\", \"totWheatEars\", DenseNet121WheatModel, \"./ResultModelWheatEarCount\")"
   ]
  },
  {
   "cell_type": "code",
   "execution_count": null,
   "metadata": {},
   "outputs": [],
   "source": [
    "# setAndTrainModel(\"DataKey_RGB_DSM_totEarNum.csv\", \"totWheatEars\", EfficientNetV2MWheatModelWithConfidence, \"./ResultModelWheatEarCount\")\n",
    "# setAndTrainModel(\"DataKey_RGB_DSM_totEarNum.csv\", \"totWheatEars\", RepVGGB1g4Model, \"./ResultModelWheatEarCount\")\n",
    "# setAndTrainModel(\"DataKey_RGB_DSM_totEarNum.csv\", \"totWheatEars\", RegNetY8GFModel, \"./ResultModelWheatEarCount\")\n",
    "# setAndTrainModel_addextrainput(\"DataKey_RGB_DSM_totEarWeight_totEarNum.csv\", \"totEarWeight\", \"totWheatEars\", EfficientNetV2SConfidenceAddoneextrainput, \"./ResultModelWheatEarCount\")\n",
    "# setAndTrainModel_addextrainput(\"DataKey_RGB_DSM_totEarWeight_totEarNum.csv\", \"totEarWeight\", \"totWheatEars\", DenseNetConfidenceAddoneextrainput, \"./ResultModelWheatEarCount\")\n",
    "# setAndTrainModel_addextrainput(\"DataKey_RGB_DSM_totEarWeight_totEarNum.csv\", \"totEarWeight\", \"totWheatEars\", RepVGGA1ConfidenceAddoneextrainput, \"./ResultModelWheatEarCount\")\n",
    "# setAndTrainModel_addextrainput(\"DataKey_RGB_DSM_totEarWeight_totEarNum.csv\", \"totEarWeight\", \"totWheatEars\", EfficientNetV2MConfidenceAddeonextrainput, \"./ResultModelWheatEarCount\")\n",
    "# setAndTrainModel_addextrainput(\"DataKey_RGB_DSM_totEarWeight_totEarNum.csv\", \"totEarWeight\", \"totWheatEars\", RegNetY8GFConfidenceAddoneextrainput, \"./ResultModelWheatEarCount\")\n"
   ]
  },
  {
   "cell_type": "code",
   "execution_count": null,
   "metadata": {},
   "outputs": [],
   "source": [
    "setAndTrainModel(\"DataKey_RGB_DSM_totEarNum__Raw1.csv\", \"totWheatEars\", EfficientNetV2MWheatModelWithConfidence, \"./ResultModelWheatEarCount\")\n",
    "setAndTrainModel(\"DataKey_RGB_DSM_totEarNum__Raw1.csv\", \"totWheatEars\", DenseNet121WheatModel, \"./ResultModelWheatEarCount\")\n",
    "setAndTrainModel(\"DataKey_RGB_DSM_totEarNum__Raw1.csv\", \"totWheatEars\", RegNetY8GFModel, \"./ResultModelWheatEarCount\")\n",
    "setAndTrainModel(\"DataKey_RGB_DSM_totEarNum__Raw1.csv\", \"totWheatEars\", MobileViTV2WheatModel, \"./ResultModelWheatEarCount\")\n",
    "setAndTrainModel(\"DataKey_RGB_DSM_totEarNum__Raw1.csv\", \"totWheatEars\", ConvNeXtTinyWheatModelWithConfidence, \"./ResultModelWheatEarCount\")"
   ]
  },
  {
   "cell_type": "code",
   "execution_count": null,
   "metadata": {},
   "outputs": [],
   "source": [
    "setAndTrainModel_addextrainput(\"DataKey_RGB_DSM_totEarWeight_totEarNum__Raw1.csv\", \"totEarWeight\",  \"totWheatEars\", EfficientNetV2MConfidenceAddeonextrainput, \"./ResultModelWheatEarCount\")\n",
    "setAndTrainModel_addextrainput(\"DataKey_RGB_DSM_totEarWeight_totEarNum__Raw1.csv\", \"totEarWeight\",  \"totWheatEars\", DenseNetConfidenceAddoneextrainput, \"./ResultModelWheatEarCount\")\n",
    "setAndTrainModel_addextrainput(\"DataKey_RGB_DSM_totEarWeight_totEarNum__Raw1.csv\", \"totEarWeight\",  \"totWheatEars\", RegNetY8GFConfidenceAddoneextrainput, \"./ResultModelWheatEarCount\")\n",
    "setAndTrainModel_addextrainput(\"DataKey_RGB_DSM_totEarWeight_totEarNum__Raw1.csv\", \"totEarWeight\",  \"totWheatEars\", MobileViTV2ConfidenceAddoneextrainput, \"./ResultModelWheatEarCount\")\n",
    "setAndTrainModel_addextrainput(\"DataKey_RGB_DSM_totEarWeight_totEarNum__Raw1.csv\", \"totEarWeight\",  \"totWheatEars\", ConvNeXtTinyConfidenceAddoneextrainput, \"./ResultModelWheatEarCount\")"
   ]
  }
 ],
 "metadata": {
  "kernelspec": {
   "display_name": "Python 3",
   "language": "python",
   "name": "python3"
  },
  "language_info": {
   "codemirror_mode": {
    "name": "ipython",
    "version": 3
   },
   "file_extension": ".py",
   "mimetype": "text/x-python",
   "name": "python",
   "nbconvert_exporter": "python",
   "pygments_lexer": "ipython3",
   "version": "3.10.10"
  }
 },
 "nbformat": 4,
 "nbformat_minor": 2
}
