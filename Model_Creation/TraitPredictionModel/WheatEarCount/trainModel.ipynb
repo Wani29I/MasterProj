{
 "cells": [
  {
   "cell_type": "code",
   "execution_count": null,
   "metadata": {},
   "outputs": [],
   "source": [
    "import os\n",
    "import sys\n",
    "# Get current working directory instead of __file__\n",
    "sys.path.append(os.path.abspath(os.path.join(os.getcwd(), \"..\")))\n",
    "from ModelArchitecture.ConvNeXtTinyModel import ConvNeXtTinyWheatModelWithConfidence\n",
    "from ModelArchitecture.DenseNetModel import DenseNet121WheatModel\n",
    "from ModelArchitecture.EfficientNetV2Model import EfficientNetV2SWheatCountWithConfidence\n",
    "from ModelArchitecture.RepVGGA1Model import RepVGGA1WheatModelWithConfidence\n",
    "from ModelArchitecture.EfficientNetV2SAddextrainputModel import EfficientNetV2S_Confidence_Addoneextrainput\n",
    "from ModelArchitecture.DenseNetAddextrainputModel import DenseNet_Confidence_Addoneextrainput\n",
    "from ModelArchitecture.RepVGGA1AddextrainputModel import RepVGGA1_Confidence_Addoneextrainput\n",
    "from ModelArchitecture.EfficientNetV2MAddextrainputModel import EfficientNetV2M_Confidence_Addeonextrainput\n",
    "from ModelArchitecture.RegNetY8GFAddextrainputModel import RegNetY8GF_Confidence_Addoneextrainput\n",
    "from modelFunc import setAndTrainModel, setAndTrainModel_addextrainput\n"
   ]
  },
  {
   "cell_type": "code",
   "execution_count": null,
   "metadata": {},
   "outputs": [],
   "source": [
    "# setAndTrainModel(\"DataKey_RGB_DSM_totEarNum.csv\", \"totWheatEars\", EfficientNetV2SWheatCountWithConfidence, \"./ResultModelWheatEarCount\")\n",
    "# setAndTrainModel(\"DataKey_RGB_DSM_totEarNum.csv\", \"totWheatEars\", ConvNeXtTinyWheatModelWithConfidence, \"./ResultModelWheatEarCount\")\n",
    "# setAndTrainModel(\"DataKey_RGB_DSM_totEarNum.csv\", \"totWheatEars\", RepVGGA1WheatModelWithConfidence, \"./ResultModelWheatEarCount\")\n",
    "# setAndTrainModel(\"DataKey_RGB_DSM_totEarNum.csv\", \"totWheatEars\", DenseNet121WheatModel, \"./ResultModelWheatEarCount\")"
   ]
  },
  {
   "cell_type": "code",
   "execution_count": null,
   "metadata": {},
   "outputs": [],
   "source": [
    "setAndTrainModel_addextrainput(\"DataKey_RGB_DSM_totEarWeight_totEarNum.csv\", \"totEarWeight\", \"totWheatEars\", EfficientNetV2S_Confidence_Addoneextrainput, \"./ResultModelWheatEarCount\")"
   ]
  },
  {
   "cell_type": "code",
   "execution_count": null,
   "metadata": {},
   "outputs": [],
   "source": [
    "setAndTrainModel_addextrainput(\"DataKey_RGB_DSM_totEarWeight_totEarNum.csv\", \"totEarWeight\", \"totWheatEars\", DenseNet_Confidence_Addoneextrainput, \"./ResultModelWheatEarCount\")"
   ]
  },
  {
   "cell_type": "code",
   "execution_count": null,
   "metadata": {},
   "outputs": [],
   "source": [
    "setAndTrainModel_addextrainput(\"DataKey_RGB_DSM_totEarWeight_totEarNum.csv\", \"totEarWeight\", \"totWheatEars\", RepVGGA1_Confidence_Addoneextrainput, \"./ResultModelWheatEarCount\")"
   ]
  },
  {
   "cell_type": "code",
   "execution_count": null,
   "metadata": {},
   "outputs": [],
   "source": [
    "setAndTrainModel_addextrainput(\"DataKey_RGB_DSM_totEarWeight_totEarNum.csv\", \"totEarWeight\", \"totWheatEars\", EfficientNetV2M_Confidence_Addeonextrainput, \"./ResultModelWheatEarCount\")"
   ]
  },
  {
   "cell_type": "code",
   "execution_count": null,
   "metadata": {},
   "outputs": [],
   "source": [
    "setAndTrainModel_addextrainput(\"DataKey_RGB_DSM_totEarWeight_totEarNum.csv\", \"totEarWeight\", \"totWheatEars\", RegNetY8GF_Confidence_Addoneextrainput, \"./ResultModelWheatEarCount\")"
   ]
  }
 ],
 "metadata": {
  "kernelspec": {
   "display_name": "Python 3",
   "language": "python",
   "name": "python3"
  },
  "language_info": {
   "codemirror_mode": {
    "name": "ipython",
    "version": 3
   },
   "file_extension": ".py",
   "mimetype": "text/x-python",
   "name": "python",
   "nbconvert_exporter": "python",
   "pygments_lexer": "ipython3",
   "version": "3.10.10"
  }
 },
 "nbformat": 4,
 "nbformat_minor": 2
}
