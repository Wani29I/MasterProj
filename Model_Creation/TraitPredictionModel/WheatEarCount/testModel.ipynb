{
 "cells": [
  {
   "cell_type": "code",
   "execution_count": null,
   "metadata": {},
   "outputs": [],
   "source": [
    "import os\n",
    "import sys\n",
    "# Get current working directory instead of __file__\n",
    "sys.path.append(os.path.abspath(os.path.join(os.getcwd(), \"..\")))\n",
    "from modelFunc import setAndTestModel\n",
    "# model\n",
    "from ModelArchitecture.ConvNeXtTinyModel import ConvNeXtTinyWheatModelWithConfidence\n",
    "from ModelArchitecture.DenseNetModel import DenseNet121WheatModel\n",
    "from ModelArchitecture.EfficientNetV2Model import EfficientNetV2SWheatCountWithConfidence\n",
    "from ModelArchitecture.RepVGGA1Model import RepVGGA1WheatModelWithConfidence\n",
    "from ModelArchitecture.EfficientNetV2MModel import EfficientNetV2M_WheatModelWithConfidence\n",
    "from ModelArchitecture.RepVGG_B1g4Model import RepVGG_B1g4Model\n",
    "from ModelArchitecture.RegNetY8GFModel import RegNetY8GFModel\n",
    "from ModelArchitecture.EfficientNetV2SAddextrainputModel import EfficientNetV2S_Confidence_Addoneextrainput\n",
    "from ModelArchitecture.DenseNetAddextrainputModel import DenseNet_Confidence_Addoneextrainput\n",
    "from ModelArchitecture.RepVGGA1AddextrainputModel import RepVGGA1_Confidence_Addoneextrainput\n",
    "from ModelArchitecture.EfficientNetV2MAddextrainputModel import EfficientNetV2M_Confidence_Addeonextrainput\n",
    "from ModelArchitecture.RegNetY8GFAddextrainputModel import RegNetY8GF_Confidence_Addoneextrainput"
   ]
  },
  {
   "cell_type": "code",
   "execution_count": null,
   "metadata": {},
   "outputs": [],
   "source": [
    "setAndTestModel(\"DataKey_RGB_DSM_totEarNum.csv\", \"totWheatEars\", ConvNeXtTinyWheatModelWithConfidence, \"./ResultModelWheatEarCount/ConvNeXtTinyWheatModelWithConfidence_totWheatEars10.pth\")\n",
    "setAndTestModel(\"DataKey_RGB_DSM_totEarNum.csv\", \"totWheatEars\", DenseNet121WheatModel, \"./ResultModelWheatEarCount/DenseNet121WheatModel_totWheatEars10.pth\")\n",
    "setAndTestModel(\"DataKey_RGB_DSM_totEarNum.csv\", \"totWheatEars\", EfficientNetV2M_WheatModelWithConfidence, \"./ResultModelWheatEarCount/EfficientNetV2M_WheatModelWithConfidence_totWheatEars10.pth\")\n",
    "setAndTestModel(\"DataKey_RGB_DSM_totEarNum.csv\", \"totWheatEars\", EfficientNetV2SWheatCountWithConfidence, \"./ResultModelWheatEarCount/EfficientNetV2SWheatCountWithConfidence_totWheatEars10.pth\")\n",
    "setAndTestModel(\"DataKey_RGB_DSM_totEarNum.csv\", \"totWheatEars\", RegNetY8GFModel, \"./ResultModelWheatEarCount/RegNetY8GFModel_totWheatEars10.pth\")\n",
    "setAndTestModel(\"DataKey_RGB_DSM_totEarNum.csv\", \"totWheatEars\", RepVGG_B1g4Model, \"./ResultModelWheatEarCount/RepVGG_B1g4Model_totWheatEars10.pth\")\n",
    "setAndTestModel(\"DataKey_RGB_DSM_totEarNum.csv\", \"totWheatEars\", RepVGGA1WheatModelWithConfidence, \"./ResultModelWheatEarCount/RepVGGA1WheatModelWithConfidence_totWheatEars10.pth\")"
   ]
  },
  {
   "cell_type": "code",
   "execution_count": null,
   "metadata": {},
   "outputs": [],
   "source": [
    "setAndTestModel(\"DataKey_RGB_DSM_totEarWeight_totEarNum.csv\", \"totWheatEars\", DenseNet_Confidence_Addoneextrainput, \"./ResultModelWheatEarCount/DenseNet_Confidence_Addoneextrainput_totWheatEars_extratotEarWeight10.pth\")\n",
    "setAndTestModel(\"DataKey_RGB_DSM_totEarWeight_totEarNum.csv\", \"totWheatEars\", EfficientNetV2M_Confidence_Addeonextrainput, \"./ResultModelWheatEarCount/EfficientNetV2M_Confidence_Addeonextrainput_totWheatEars_extratotEarWeight10.pth\")\n",
    "setAndTestModel(\"DataKey_RGB_DSM_totEarWeight_totEarNum.csv\", \"totWheatEars\", EfficientNetV2S_Confidence_Addoneextrainput, \"./ResultModelWheatEarCount/EfficientNetV2S_Confidence_Addoneextrainput_totWheatEars_extratotEarWeight10.pth\")\n",
    "setAndTestModel(\"DataKey_RGB_DSM_totEarWeight_totEarNum.csv\", \"totWheatEars\", RegNetY8GF_Confidence_Addoneextrainput, \"./ResultModelWheatEarCount/RegNetY8GF_Confidence_Addoneextrainput_totWheatEars_extratotEarWeight10.pth\")\n",
    "setAndTestModel(\"DataKey_RGB_DSM_totEarWeight_totEarNum.csv\", \"totWheatEars\", RepVGGA1_Confidence_Addoneextrainput, \"./ResultModelWheatEarCount/RepVGGA1_Confidence_Addoneextrainput_totWheatEars_extratotEarWeight10.pth\")\n"
   ]
  },
  {
   "cell_type": "code",
   "execution_count": null,
   "metadata": {},
   "outputs": [],
   "source": []
  }
 ],
 "metadata": {
  "kernelspec": {
   "display_name": "Python 3",
   "language": "python",
   "name": "python3"
  },
  "language_info": {
   "codemirror_mode": {
    "name": "ipython",
    "version": 3
   },
   "file_extension": ".py",
   "mimetype": "text/x-python",
   "name": "python",
   "nbconvert_exporter": "python",
   "pygments_lexer": "ipython3",
   "version": "3.13.2"
  }
 },
 "nbformat": 4,
 "nbformat_minor": 2
}
