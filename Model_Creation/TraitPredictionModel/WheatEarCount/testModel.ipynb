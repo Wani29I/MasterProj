{
 "cells": [
  {
   "cell_type": "code",
   "execution_count": 1,
   "metadata": {},
   "outputs": [
    {
     "name": "stderr",
     "output_type": "stream",
     "text": [
      "/Users/ice/.pyenv/versions/3.10.10/lib/python3.10/site-packages/tqdm/auto.py:21: TqdmWarning: IProgress not found. Please update jupyter and ipywidgets. See https://ipywidgets.readthedocs.io/en/stable/user_install.html\n",
      "  from .autonotebook import tqdm as notebook_tqdm\n"
     ]
    }
   ],
   "source": [
    "import os\n",
    "import sys\n",
    "# Get current working directory instead of __file__\n",
    "sys.path.append(os.path.abspath(os.path.join(os.getcwd(), \"..\")))\n",
    "from modelFunc import setAndTestModel\n",
    "# model\n",
    "from ModelArchitecture.ConvNeXtTinyModel import ConvNeXtTinyWheatModelWithConfidence\n",
    "from ModelArchitecture.DenseNetModel import DenseNet121WheatModel\n",
    "from ModelArchitecture.EfficientNetV2Model import EfficientNetV2SWheatCountWithConfidence\n",
    "from ModelArchitecture.RepVGGA1Model import RepVGGA1WheatModelWithConfidence\n",
    "from ModelArchitecture.EfficientNetV2MModel import EfficientNetV2M_WheatModelWithConfidence\n",
    "from ModelArchitecture.RepVGG_B1g4Model import RepVGG_B1g4Model\n",
    "from ModelArchitecture.RegNetY8GFModel import RegNetY8GFModel\n",
    "from ModelArchitecture.EfficientNetV2SAddextrainputModel import EfficientNetV2S_Confidence_Addoneextrainput\n",
    "from ModelArchitecture.DenseNetAddextrainputModel import DenseNet_Confidence_Addoneextrainput\n",
    "from ModelArchitecture.RepVGGA1AddextrainputModel import RepVGGA1_Confidence_Addoneextrainput\n",
    "from ModelArchitecture.EfficientNetV2MAddextrainputModel import EfficientNetV2M_Confidence_Addeonextrainput\n",
    "from ModelArchitecture.RegNetY8GFAddextrainputModel import RegNetY8GF_Confidence_Addoneextrainput"
   ]
  },
  {
   "cell_type": "code",
   "execution_count": null,
   "metadata": {},
   "outputs": [],
   "source": [
    "setAndTestModel(\"DataKey_RGB_DSM_totEarNum.csv\", \"totWheatEars\", ConvNeXtTinyWheatModelWithConfidence, \"./ResultModelWheatEarCount/ConvNeXtTinyWheatModelWithConfidence_totWheatEars10.pth\")\n",
    "setAndTestModel(\"DataKey_RGB_DSM_totEarNum.csv\", \"totWheatEars\", DenseNet121WheatModel, \"./ResultModelWheatEarCount/DenseNet121WheatModel_totWheatEars10.pth\")\n",
    "setAndTestModel(\"DataKey_RGB_DSM_totEarNum.csv\", \"totWheatEars\", EfficientNetV2M_WheatModelWithConfidence, \"./ResultModelWheatEarCount/EfficientNetV2M_WheatModelWithConfidence_totWheatEars10.pth\")\n",
    "setAndTestModel(\"DataKey_RGB_DSM_totEarNum.csv\", \"totWheatEars\", EfficientNetV2SWheatCountWithConfidence, \"./ResultModelWheatEarCount/EfficientNetV2SWheatCountWithConfidence_totWheatEars10.pth\")\n",
    "setAndTestModel(\"DataKey_RGB_DSM_totEarNum.csv\", \"totWheatEars\", RegNetY8GFModel, \"./ResultModelWheatEarCount/RegNetY8GFModel_totWheatEars10.pth\")\n",
    "setAndTestModel(\"DataKey_RGB_DSM_totEarNum.csv\", \"totWheatEars\", RepVGG_B1g4Model, \"./ResultModelWheatEarCount/RepVGG_B1g4Model_totWheatEars10.pth\")\n",
    "setAndTestModel(\"DataKey_RGB_DSM_totEarNum.csv\", \"totWheatEars\", RepVGGA1WheatModelWithConfidence, \"./ResultModelWheatEarCount/RepVGGA1WheatModelWithConfidence_totWheatEars10.pth\")"
   ]
  },
  {
   "cell_type": "code",
   "execution_count": 3,
   "metadata": {},
   "outputs": [
    {
     "name": "stdout",
     "output_type": "stream",
     "text": [
      "✅ Safe Split → Train: 47840, Val: 5960, Test: 6000\n",
      "Train Batches: 2990, Validation Batches: 373, Test Batches: 375\n",
      "✅ Using device: mps\n",
      "traitName:  totWheatEars\n",
      "model:  DenseNet_Confidence_Addoneextrainput\n"
     ]
    },
    {
     "name": "stderr",
     "output_type": "stream",
     "text": [
      "  0%|          | 0/375 [00:14<?, ?it/s]\n"
     ]
    },
    {
     "ename": "TypeError",
     "evalue": "DenseNet_Confidence_Addoneextrainput.forward() missing 1 required positional argument: 'extra_input'",
     "output_type": "error",
     "traceback": [
      "\u001b[0;31m---------------------------------------------------------------------------\u001b[0m",
      "\u001b[0;31mTypeError\u001b[0m                                 Traceback (most recent call last)",
      "Cell \u001b[0;32mIn[3], line 1\u001b[0m\n\u001b[0;32m----> 1\u001b[0m \u001b[43msetAndTestModel\u001b[49m\u001b[43m(\u001b[49m\u001b[38;5;124;43m\"\u001b[39;49m\u001b[38;5;124;43mDataKey_RGB_DSM_totEarWeight_totEarNum.csv\u001b[39;49m\u001b[38;5;124;43m\"\u001b[39;49m\u001b[43m,\u001b[49m\u001b[43m \u001b[49m\u001b[38;5;124;43m\"\u001b[39;49m\u001b[38;5;124;43mtotWheatEars\u001b[39;49m\u001b[38;5;124;43m\"\u001b[39;49m\u001b[43m,\u001b[49m\u001b[43m \u001b[49m\u001b[43mDenseNet_Confidence_Addoneextrainput\u001b[49m\u001b[43m,\u001b[49m\u001b[43m \u001b[49m\u001b[38;5;124;43m\"\u001b[39;49m\u001b[38;5;124;43m./ResultModelWheatEarCount/DenseNet_Confidence_Addoneextrainput_totWheatEars_extratotEarWeight10.pth\u001b[39;49m\u001b[38;5;124;43m\"\u001b[39;49m\u001b[43m)\u001b[49m\n\u001b[1;32m      2\u001b[0m setAndTestModel(\u001b[38;5;124m\"\u001b[39m\u001b[38;5;124mDataKey_RGB_DSM_totEarWeight_totEarNum.csv\u001b[39m\u001b[38;5;124m\"\u001b[39m, \u001b[38;5;124m\"\u001b[39m\u001b[38;5;124mtotWheatEars\u001b[39m\u001b[38;5;124m\"\u001b[39m, EfficientNetV2M_Confidence_Addeonextrainput, \u001b[38;5;124m\"\u001b[39m\u001b[38;5;124m./ResultModelWheatEarCount/EfficientNetV2M_Confidence_Addeonextrainput_totWheatEars_extratotEarWeight10.pth\u001b[39m\u001b[38;5;124m\"\u001b[39m)\n\u001b[1;32m      3\u001b[0m setAndTestModel(\u001b[38;5;124m\"\u001b[39m\u001b[38;5;124mDataKey_RGB_DSM_totEarWeight_totEarNum.csv\u001b[39m\u001b[38;5;124m\"\u001b[39m, \u001b[38;5;124m\"\u001b[39m\u001b[38;5;124mtotWheatEars\u001b[39m\u001b[38;5;124m\"\u001b[39m, EfficientNetV2S_Confidence_Addoneextrainput, \u001b[38;5;124m\"\u001b[39m\u001b[38;5;124m./ResultModelWheatEarCount/EfficientNetV2S_Confidence_Addoneextrainput_totWheatEars_extratotEarWeight10.pth\u001b[39m\u001b[38;5;124m\"\u001b[39m)\n",
      "File \u001b[0;32m~/Desktop/MasterResearch/MasterProj/Model_Creation/TraitPredictionModel/modelFunc.py:448\u001b[0m, in \u001b[0;36msetAndTestModel\u001b[0;34m(dataPath, traitName, model, modelPath)\u001b[0m\n\u001b[1;32m    445\u001b[0m \u001b[38;5;28mprint\u001b[39m(\u001b[38;5;124m\"\u001b[39m\u001b[38;5;124mmodel: \u001b[39m\u001b[38;5;124m\"\u001b[39m, model\u001b[38;5;241m.\u001b[39m\u001b[38;5;18m__name__\u001b[39m)\n\u001b[1;32m    447\u001b[0m \u001b[38;5;66;03m# Run test\u001b[39;00m\n\u001b[0;32m--> 448\u001b[0m df_results, r2, mae, rmse \u001b[38;5;241m=\u001b[39m \u001b[43mnew_test_model\u001b[49m\u001b[43m(\u001b[49m\u001b[43mEfficientNetV2Model\u001b[49m\u001b[43m,\u001b[49m\u001b[43m \u001b[49m\u001b[43mtest_loader\u001b[49m\u001b[43m,\u001b[49m\u001b[43m \u001b[49m\u001b[43mdevice\u001b[49m\u001b[43m)\u001b[49m\n",
      "File \u001b[0;32m~/Desktop/MasterResearch/MasterProj/Model_Creation/TraitPredictionModel/modelFunc.py:332\u001b[0m, in \u001b[0;36mnew_test_model\u001b[0;34m(model, test_loader, device)\u001b[0m\n\u001b[1;32m    330\u001b[0m \u001b[38;5;28;01mfor\u001b[39;00m rgb_batch, dsm_batch, label_batch \u001b[38;5;129;01min\u001b[39;00m tqdm(test_loader):\n\u001b[1;32m    331\u001b[0m     rgb_batch, dsm_batch \u001b[38;5;241m=\u001b[39m rgb_batch\u001b[38;5;241m.\u001b[39mto(device), dsm_batch\u001b[38;5;241m.\u001b[39mto(device)\n\u001b[0;32m--> 332\u001b[0m     output \u001b[38;5;241m=\u001b[39m \u001b[43mmodel\u001b[49m\u001b[43m(\u001b[49m\u001b[43mrgb_batch\u001b[49m\u001b[43m,\u001b[49m\u001b[43m \u001b[49m\u001b[43mdsm_batch\u001b[49m\u001b[43m)\u001b[49m  \u001b[38;5;66;03m# [B, 2]\u001b[39;00m\n\u001b[1;32m    334\u001b[0m     pred_mean \u001b[38;5;241m=\u001b[39m output[:, \u001b[38;5;241m0\u001b[39m]\u001b[38;5;241m.\u001b[39mcpu()\u001b[38;5;241m.\u001b[39mnumpy()\n\u001b[1;32m    335\u001b[0m     pred_logvar \u001b[38;5;241m=\u001b[39m output[:, \u001b[38;5;241m1\u001b[39m]\u001b[38;5;241m.\u001b[39mcpu()\u001b[38;5;241m.\u001b[39mnumpy()\n",
      "File \u001b[0;32m~/.pyenv/versions/3.10.10/lib/python3.10/site-packages/torch/nn/modules/module.py:1739\u001b[0m, in \u001b[0;36mModule._wrapped_call_impl\u001b[0;34m(self, *args, **kwargs)\u001b[0m\n\u001b[1;32m   1737\u001b[0m     \u001b[38;5;28;01mreturn\u001b[39;00m \u001b[38;5;28mself\u001b[39m\u001b[38;5;241m.\u001b[39m_compiled_call_impl(\u001b[38;5;241m*\u001b[39margs, \u001b[38;5;241m*\u001b[39m\u001b[38;5;241m*\u001b[39mkwargs)  \u001b[38;5;66;03m# type: ignore[misc]\u001b[39;00m\n\u001b[1;32m   1738\u001b[0m \u001b[38;5;28;01melse\u001b[39;00m:\n\u001b[0;32m-> 1739\u001b[0m     \u001b[38;5;28;01mreturn\u001b[39;00m \u001b[38;5;28;43mself\u001b[39;49m\u001b[38;5;241;43m.\u001b[39;49m\u001b[43m_call_impl\u001b[49m\u001b[43m(\u001b[49m\u001b[38;5;241;43m*\u001b[39;49m\u001b[43margs\u001b[49m\u001b[43m,\u001b[49m\u001b[43m \u001b[49m\u001b[38;5;241;43m*\u001b[39;49m\u001b[38;5;241;43m*\u001b[39;49m\u001b[43mkwargs\u001b[49m\u001b[43m)\u001b[49m\n",
      "File \u001b[0;32m~/.pyenv/versions/3.10.10/lib/python3.10/site-packages/torch/nn/modules/module.py:1750\u001b[0m, in \u001b[0;36mModule._call_impl\u001b[0;34m(self, *args, **kwargs)\u001b[0m\n\u001b[1;32m   1745\u001b[0m \u001b[38;5;66;03m# If we don't have any hooks, we want to skip the rest of the logic in\u001b[39;00m\n\u001b[1;32m   1746\u001b[0m \u001b[38;5;66;03m# this function, and just call forward.\u001b[39;00m\n\u001b[1;32m   1747\u001b[0m \u001b[38;5;28;01mif\u001b[39;00m \u001b[38;5;129;01mnot\u001b[39;00m (\u001b[38;5;28mself\u001b[39m\u001b[38;5;241m.\u001b[39m_backward_hooks \u001b[38;5;129;01mor\u001b[39;00m \u001b[38;5;28mself\u001b[39m\u001b[38;5;241m.\u001b[39m_backward_pre_hooks \u001b[38;5;129;01mor\u001b[39;00m \u001b[38;5;28mself\u001b[39m\u001b[38;5;241m.\u001b[39m_forward_hooks \u001b[38;5;129;01mor\u001b[39;00m \u001b[38;5;28mself\u001b[39m\u001b[38;5;241m.\u001b[39m_forward_pre_hooks\n\u001b[1;32m   1748\u001b[0m         \u001b[38;5;129;01mor\u001b[39;00m _global_backward_pre_hooks \u001b[38;5;129;01mor\u001b[39;00m _global_backward_hooks\n\u001b[1;32m   1749\u001b[0m         \u001b[38;5;129;01mor\u001b[39;00m _global_forward_hooks \u001b[38;5;129;01mor\u001b[39;00m _global_forward_pre_hooks):\n\u001b[0;32m-> 1750\u001b[0m     \u001b[38;5;28;01mreturn\u001b[39;00m \u001b[43mforward_call\u001b[49m\u001b[43m(\u001b[49m\u001b[38;5;241;43m*\u001b[39;49m\u001b[43margs\u001b[49m\u001b[43m,\u001b[49m\u001b[43m \u001b[49m\u001b[38;5;241;43m*\u001b[39;49m\u001b[38;5;241;43m*\u001b[39;49m\u001b[43mkwargs\u001b[49m\u001b[43m)\u001b[49m\n\u001b[1;32m   1752\u001b[0m result \u001b[38;5;241m=\u001b[39m \u001b[38;5;28;01mNone\u001b[39;00m\n\u001b[1;32m   1753\u001b[0m called_always_called_hooks \u001b[38;5;241m=\u001b[39m \u001b[38;5;28mset\u001b[39m()\n",
      "\u001b[0;31mTypeError\u001b[0m: DenseNet_Confidence_Addoneextrainput.forward() missing 1 required positional argument: 'extra_input'"
     ]
    }
   ],
   "source": [
    "setAndTestModel(\"DataKey_RGB_DSM_totEarWeight_totEarNum.csv\", \"totWheatEars\", DenseNet_Confidence_Addoneextrainput, \"./ResultModelWheatEarCount/DenseNet_Confidence_Addoneextrainput_totWheatEars_extratotEarWeight10.pth\")\n",
    "setAndTestModel(\"DataKey_RGB_DSM_totEarWeight_totEarNum.csv\", \"totWheatEars\", EfficientNetV2M_Confidence_Addeonextrainput, \"./ResultModelWheatEarCount/EfficientNetV2M_Confidence_Addeonextrainput_totWheatEars_extratotEarWeight10.pth\")\n",
    "setAndTestModel(\"DataKey_RGB_DSM_totEarWeight_totEarNum.csv\", \"totWheatEars\", EfficientNetV2S_Confidence_Addoneextrainput, \"./ResultModelWheatEarCount/EfficientNetV2S_Confidence_Addoneextrainput_totWheatEars_extratotEarWeight10.pth\")\n",
    "setAndTestModel(\"DataKey_RGB_DSM_totEarWeight_totEarNum.csv\", \"totWheatEars\", RegNetY8GF_Confidence_Addoneextrainput, \"./ResultModelWheatEarCount/RegNetY8GF_Confidence_Addoneextrainput_totWheatEars_extratotEarWeight10.pth\")\n",
    "setAndTestModel(\"DataKey_RGB_DSM_totEarWeight_totEarNum.csv\", \"totWheatEars\", RepVGGA1_Confidence_Addoneextrainput, \"./ResultModelWheatEarCount/RepVGGA1_Confidence_Addoneextrainput_totWheatEars_extratotEarWeight10.pth\")\n"
   ]
  },
  {
   "cell_type": "code",
   "execution_count": null,
   "metadata": {},
   "outputs": [],
   "source": []
  }
 ],
 "metadata": {
  "kernelspec": {
   "display_name": "Python 3",
   "language": "python",
   "name": "python3"
  },
  "language_info": {
   "codemirror_mode": {
    "name": "ipython",
    "version": 3
   },
   "file_extension": ".py",
   "mimetype": "text/x-python",
   "name": "python",
   "nbconvert_exporter": "python",
   "pygments_lexer": "ipython3",
   "version": "3.13.2"
  }
 },
 "nbformat": 4,
 "nbformat_minor": 2
}
