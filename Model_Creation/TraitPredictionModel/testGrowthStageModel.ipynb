{
 "cells": [
  {
   "cell_type": "code",
   "execution_count": 9,
   "id": "c2366e5a",
   "metadata": {},
   "outputs": [],
   "source": [
    "import os\n",
    "import sys\n",
    "import pprint\n",
    "import inspect\n",
    "# Get current working directory instead of __file__\n",
    "sys.path.append(os.path.abspath(os.path.join(os.getcwd(), \"..\")))\n",
    "from modelFunc import setAndTestPlotModel, setAndTestPlotModel_with_extra_input, setAndTestModelByDate, run_test_and_save_results, run_test_and_save_results_with_extra_input, run_test_growth\n",
    "# model\n",
    "from ModelArchitecture.ConvNeXtTinyModel import ConvNeXtTinyWheatModelWithConfidence\n",
    "from ModelArchitecture.DenseNetModel import DenseNet121WheatModel\n",
    "from ModelArchitecture.EfficientNetV2Model import EfficientNetV2SWheatCountWithConfidence\n",
    "from ModelArchitecture.RepVGGA1Model import RepVGGA1WheatModelWithConfidence\n",
    "from ModelArchitecture.EfficientNetV2MModel import EfficientNetV2MWheatModelWithConfidence\n",
    "from ModelArchitecture.RepVGGB1g4Model import RepVGGB1g4Model\n",
    "from ModelArchitecture.RegNetY8GFModel import RegNetY8GFModel\n",
    "from ModelArchitecture.MobileViTV2Model import MobileViTV2WheatModel\n",
    "from ModelArchitecture.MobileViTV2AddoneextrainputModel import MobileViTV2ConfidenceAddoneextrainput, MobileViTV2ConfidenceAddtwoextrainput\n",
    "from ModelArchitecture.ConvNeXtTinyAddoneextrainputModel import ConvNeXtTinyConfidenceAddoneextrainput, ConvNeXtTinyConfidenceAddtwoextrainput\n",
    "from ModelArchitecture.EfficientNetV2SAddextrainputModel import EfficientNetV2SConfidenceAddoneextrainput, EfficientNetV2SConfidenceAdd2Inputs\n",
    "from ModelArchitecture.DenseNetAddextrainputModel import DenseNetConfidenceAddoneextrainput, DenseNetConfidenceAdd2Inputs\n",
    "from ModelArchitecture.RepVGGA1AddextrainputModel import RepVGGA1ConfidenceAddoneextrainput, RepVGGA1ConfidenceAdd2Inputs\n",
    "from ModelArchitecture.EfficientNetV2MAddextrainputModel import EfficientNetV2MConfidenceAddeonextrainput, EfficientNetV2MConfidenceAdd2Inputs\n",
    "from ModelArchitecture.RegNetY8GFAddextrainputModel import RegNetY8GFConfidenceAddoneextrainput, RegNetYConfidenceAdd2Inputs\n",
    "from ModelArchitecture.MobileOneModel import MobileOneConfidence, MobileOneConfidenceAddoneextrainput, MobileOneConfidenceAddtwoextrainput\n",
    "from ModelArchitecture.MaxViTModel import MaxViTConfidenceModel, MaxViTConfidenceAddoneextrainput, MaxViTConfidenceAddtwoextrainput\n",
    "from ModelArchitecture.CoatNetModel import CoAtNetConfidenceModel, CoAtNetConfidenceAddOneExtraInput, CoAtNetConfidenceAddTwoExtraInput\n",
    "from ModelArchitecture.FocalNetModel import FocalNetConfidenceModel, FocalNetConfidenceAddoneextrainput, FocalNetConfidenceAddtwoextrainput\n",
    "from ModelArchitecture.SwinTransformerV2Model import SwinV2ConfidenceModel, SwinV2ConfidenceAddOneExtraInput, SwinV2ConfidenceAddTwoExtraInput\n",
    "from ModelArchitecture.EfficientFormerV2Model import EfficientFormerConfidenceModel, EfficientFormerConfidenceAddOneExtraInput, EfficientFormerConfidenceAddTwoExtraInput\n",
    "from ModelArchitecture.PoolFormerModel import PoolFormerConfidenceModel, PoolFormerConfidenceAddOneExtraInput, PoolFormerConfidenceAddTwoExtraInput\n",
    "from ModelArchitecture.ConvNeXtV2Model import ConvNeXtV2WheatModelWithConfidence, ConvNeXtV2ConfidenceAddoneextrainput, ConvNeXtV2ConfidenceAddtwoextrainput"
   ]
  },
  {
   "cell_type": "code",
   "execution_count": null,
   "id": "747261af",
   "metadata": {},
   "outputs": [],
   "source": [
    "def get_imported_class_dict():\n",
    "    current_module = sys.modules[__name__]\n",
    "    return {\n",
    "        name: obj\n",
    "        for name, obj in globals().items()\n",
    "        if inspect.isclass(obj) and obj.__module__ != current_module.__name__\n",
    "    }\n",
    "modelDict = get_imported_class_dict()\n",
    "\n",
    "growthCheckTargetList = [\"totalSeedWeightAfterDry\", \"totalSeedNum\", \"totEarWeight\", \"totEarNum\", \"SPAD\", \"LAI\", \"Height\", \"20StrawWeightAfterDry\"]\n",
    "resultData =['totEarWeight','totEarNum','20StrawWeightAfterDry','totalSeedNum', 'totalSeedWeightAfterDry']\n",
    "weeklyData =['SPAD','LAI','Height']"
   ]
  },
  {
   "cell_type": "code",
   "execution_count": 11,
   "id": "4a1c406b",
   "metadata": {},
   "outputs": [],
   "source": [
    "def loopTestGrowthModelNoExtraByPath(modelFilePath):\n",
    "\n",
    "    countModel = 0\n",
    "    for fullModelName in sorted(os.listdir(modelFilePath)):\n",
    "\n",
    "        # check if not .gitkeep file\n",
    "        if( fullModelName == \".gitkeep\" or fullModelName[0] == '.' ):\n",
    "            continue\n",
    "\n",
    "        modelPath = modelFilePath + fullModelName\n",
    "\n",
    "        modelTarget = (fullModelName.split(\"_\")[0])\n",
    "        if( modelTarget not in growthCheckTargetList ):\n",
    "            continue\n",
    "        \n",
    "        modelDict = get_imported_class_dict()\n",
    "        modelBackbone = (fullModelName.split(\"_\")[1])\n",
    "        countModel += 1\n",
    "\n",
    "        if(modelTarget in weeklyData):\n",
    "            dataPath = \"./allTestLabel/allWeeklyData_raw1_day13.csv\"\n",
    "        else:\n",
    "            dataPath = \"./allTestLabel/allResultData_raw1_day13.csv\"            \n",
    "\n",
    "        \n",
    "        print(countModel)\n",
    "        print(\"modelPath: \", modelPath)\n",
    "        print(\"dataPath: \", dataPath)\n",
    "        print(\"modelTarget: \", modelTarget)\n",
    "        print(\"modelBackbone: \", modelBackbone)\n",
    "        run_test_growth(dataPath, modelTarget, modelDict[modelBackbone], modelPath, use_all_data_as_test=True)\n",
    "\n",
    "\n",
    "        \n",
    "\n"
   ]
  },
  {
   "cell_type": "code",
   "execution_count": 12,
   "id": "294b0472",
   "metadata": {},
   "outputs": [
    {
     "name": "stdout",
     "output_type": "stream",
     "text": [
      "1\n",
      "modelPath:  ./allModel/20StrawWeightAfterDry_CoAtNetConfidenceModel_raw1.pth\n",
      "dataPath:  ./allTestLabel/allResultData_raw1_day13.csv\n",
      "modelTarget:  20StrawWeightAfterDry\n",
      "modelBackbone:  CoAtNetConfidenceModel\n",
      "Using device: cuda\n",
      "✅ Loaded Test-Only Dataset → Total Samples: 1495\n",
      "Test-Only → Test Batches: 94\n"
     ]
    },
    {
     "name": "stderr",
     "output_type": "stream",
     "text": [
      "Testing: 100%|██████████| 94/94 [00:33<00:00,  2.80it/s]\n"
     ]
    },
    {
     "name": "stdout",
     "output_type": "stream",
     "text": [
      "\n",
      "Test Results:\n",
      "R² Score : 0.4851\n",
      "MAE      : 2.5460\n",
      "RMSE     : 3.2994\n",
      "2\n",
      "modelPath:  ./allModel/20StrawWeightAfterDry_ConvNeXtTinyWheatModelWithConfidence_raw1.pth\n",
      "dataPath:  ./allTestLabel/allResultData_raw1_day13.csv\n",
      "modelTarget:  20StrawWeightAfterDry\n",
      "modelBackbone:  ConvNeXtTinyWheatModelWithConfidence\n",
      "Using device: cuda\n",
      "✅ Loaded Test-Only Dataset → Total Samples: 1495\n",
      "Test-Only → Test Batches: 94\n"
     ]
    },
    {
     "name": "stderr",
     "output_type": "stream",
     "text": [
      "Testing: 100%|██████████| 94/94 [00:23<00:00,  3.93it/s]\n",
      "c:\\Users\\Crop2024_GA\\AppData\\Local\\Programs\\Python\\Python313\\Lib\\site-packages\\torchvision\\models\\_utils.py:208: UserWarning: The parameter 'pretrained' is deprecated since 0.13 and may be removed in the future, please use 'weights' instead.\n",
      "  warnings.warn(\n",
      "c:\\Users\\Crop2024_GA\\AppData\\Local\\Programs\\Python\\Python313\\Lib\\site-packages\\torchvision\\models\\_utils.py:223: UserWarning: Arguments other than a weight enum or `None` for 'weights' are deprecated since 0.13 and may be removed in the future. The current behavior is equivalent to passing `weights=DenseNet121_Weights.IMAGENET1K_V1`. You can also use `weights=DenseNet121_Weights.DEFAULT` to get the most up-to-date weights.\n",
      "  warnings.warn(msg)\n"
     ]
    },
    {
     "name": "stdout",
     "output_type": "stream",
     "text": [
      "\n",
      "Test Results:\n",
      "R² Score : 0.0557\n",
      "MAE      : 3.5129\n",
      "RMSE     : 4.4683\n",
      "3\n",
      "modelPath:  ./allModel/20StrawWeightAfterDry_DenseNet121WheatModel_raw1.pth\n",
      "dataPath:  ./allTestLabel/allResultData_raw1_day13.csv\n",
      "modelTarget:  20StrawWeightAfterDry\n",
      "modelBackbone:  DenseNet121WheatModel\n",
      "Using device: cuda\n",
      "✅ Loaded Test-Only Dataset → Total Samples: 1495\n",
      "Test-Only → Test Batches: 94\n"
     ]
    },
    {
     "name": "stderr",
     "output_type": "stream",
     "text": [
      "Testing: 100%|██████████| 94/94 [00:23<00:00,  3.92it/s]\n"
     ]
    },
    {
     "name": "stdout",
     "output_type": "stream",
     "text": [
      "\n",
      "Test Results:\n",
      "R² Score : 0.8333\n",
      "MAE      : 1.3215\n",
      "RMSE     : 1.8774\n",
      "4\n",
      "modelPath:  ./allModel/20StrawWeightAfterDry_EfficientFormerConfidenceModel_raw1.pth\n",
      "dataPath:  ./allTestLabel/allResultData_raw1_day13.csv\n",
      "modelTarget:  20StrawWeightAfterDry\n",
      "modelBackbone:  EfficientFormerConfidenceModel\n",
      "Using device: cuda\n",
      "✅ Loaded Test-Only Dataset → Total Samples: 1495\n",
      "Test-Only → Test Batches: 94\n"
     ]
    },
    {
     "name": "stderr",
     "output_type": "stream",
     "text": [
      "Testing: 100%|██████████| 94/94 [00:23<00:00,  3.92it/s]\n"
     ]
    },
    {
     "name": "stdout",
     "output_type": "stream",
     "text": [
      "\n",
      "Test Results:\n",
      "R² Score : -0.8980\n",
      "MAE      : 1.8277\n",
      "RMSE     : 6.3348\n",
      "5\n",
      "modelPath:  ./allModel/20StrawWeightAfterDry_EfficientNetV2MWheatModelWithConfidence_raw1.pth\n",
      "dataPath:  ./allTestLabel/allResultData_raw1_day13.csv\n",
      "modelTarget:  20StrawWeightAfterDry\n",
      "modelBackbone:  EfficientNetV2MWheatModelWithConfidence\n",
      "Using device: cuda\n",
      "✅ Loaded Test-Only Dataset → Total Samples: 1495\n",
      "Test-Only → Test Batches: 94\n"
     ]
    },
    {
     "name": "stderr",
     "output_type": "stream",
     "text": [
      "Testing: 100%|██████████| 94/94 [00:25<00:00,  3.66it/s]\n"
     ]
    },
    {
     "name": "stdout",
     "output_type": "stream",
     "text": [
      "\n",
      "Test Results:\n",
      "R² Score : 0.6292\n",
      "MAE      : 2.1472\n",
      "RMSE     : 2.7999\n",
      "6\n",
      "modelPath:  ./allModel/20StrawWeightAfterDry_FocalNetConfidenceModel_raw1.pth\n",
      "dataPath:  ./allTestLabel/allResultData_raw1_day13.csv\n",
      "modelTarget:  20StrawWeightAfterDry\n",
      "modelBackbone:  FocalNetConfidenceModel\n",
      "Using device: cuda\n",
      "✅ Loaded Test-Only Dataset → Total Samples: 1495\n",
      "Test-Only → Test Batches: 94\n"
     ]
    },
    {
     "name": "stderr",
     "output_type": "stream",
     "text": [
      "Testing: 100%|██████████| 94/94 [00:24<00:00,  3.85it/s]\n"
     ]
    },
    {
     "name": "stdout",
     "output_type": "stream",
     "text": [
      "\n",
      "Test Results:\n",
      "R² Score : 0.1329\n",
      "MAE      : 3.4362\n",
      "RMSE     : 4.2818\n",
      "7\n",
      "modelPath:  ./allModel/20StrawWeightAfterDry_MaxViTConfidenceModel_raw1.pth\n",
      "dataPath:  ./allTestLabel/allResultData_raw1_day13.csv\n",
      "modelTarget:  20StrawWeightAfterDry\n",
      "modelBackbone:  MaxViTConfidenceModel\n",
      "Using device: cuda\n",
      "✅ Loaded Test-Only Dataset → Total Samples: 1495\n",
      "Test-Only → Test Batches: 94\n"
     ]
    },
    {
     "name": "stderr",
     "output_type": "stream",
     "text": [
      "Testing: 100%|██████████| 94/94 [00:24<00:00,  3.87it/s]\n"
     ]
    },
    {
     "name": "stdout",
     "output_type": "stream",
     "text": [
      "\n",
      "Test Results:\n",
      "R² Score : 0.8640\n",
      "MAE      : 1.1198\n",
      "RMSE     : 1.6959\n",
      "8\n",
      "modelPath:  ./allModel/20StrawWeightAfterDry_MobileOneConfidence_raw1.pth\n",
      "dataPath:  ./allTestLabel/allResultData_raw1_day13.csv\n",
      "modelTarget:  20StrawWeightAfterDry\n",
      "modelBackbone:  MobileOneConfidence\n",
      "Using device: cuda\n",
      "✅ Loaded Test-Only Dataset → Total Samples: 1495\n",
      "Test-Only → Test Batches: 94\n"
     ]
    },
    {
     "name": "stderr",
     "output_type": "stream",
     "text": [
      "Testing: 100%|██████████| 94/94 [00:23<00:00,  3.92it/s]\n"
     ]
    },
    {
     "name": "stdout",
     "output_type": "stream",
     "text": [
      "\n",
      "Test Results:\n",
      "R² Score : 0.7104\n",
      "MAE      : 1.9121\n",
      "RMSE     : 2.4747\n",
      "9\n",
      "modelPath:  ./allModel/20StrawWeightAfterDry_MobileViTV2WheatModel_raw1.pth\n",
      "dataPath:  ./allTestLabel/allResultData_raw1_day13.csv\n",
      "modelTarget:  20StrawWeightAfterDry\n",
      "modelBackbone:  MobileViTV2WheatModel\n",
      "Using device: cuda\n",
      "✅ Loaded Test-Only Dataset → Total Samples: 1495\n",
      "Test-Only → Test Batches: 94\n"
     ]
    },
    {
     "name": "stderr",
     "output_type": "stream",
     "text": [
      "Testing: 100%|██████████| 94/94 [00:23<00:00,  3.95it/s]\n"
     ]
    },
    {
     "name": "stdout",
     "output_type": "stream",
     "text": [
      "\n",
      "Test Results:\n",
      "R² Score : 0.6391\n",
      "MAE      : 2.0331\n",
      "RMSE     : 2.7624\n",
      "10\n",
      "modelPath:  ./allModel/20StrawWeightAfterDry_PoolFormerConfidenceModel_raw1.pth\n",
      "dataPath:  ./allTestLabel/allResultData_raw1_day13.csv\n",
      "modelTarget:  20StrawWeightAfterDry\n",
      "modelBackbone:  PoolFormerConfidenceModel\n",
      "Using device: cuda\n",
      "✅ Loaded Test-Only Dataset → Total Samples: 1495\n",
      "Test-Only → Test Batches: 94\n"
     ]
    },
    {
     "name": "stderr",
     "output_type": "stream",
     "text": [
      "Testing: 100%|██████████| 94/94 [00:23<00:00,  3.93it/s]\n"
     ]
    },
    {
     "name": "stdout",
     "output_type": "stream",
     "text": [
      "\n",
      "Test Results:\n",
      "R² Score : 0.6143\n",
      "MAE      : 2.1274\n",
      "RMSE     : 2.8558\n",
      "11\n",
      "modelPath:  ./allModel/20StrawWeightAfterDry_RegNetY8GFModel_raw1.pth\n",
      "dataPath:  ./allTestLabel/allResultData_raw1_day13.csv\n",
      "modelTarget:  20StrawWeightAfterDry\n",
      "modelBackbone:  RegNetY8GFModel\n",
      "Using device: cuda\n",
      "✅ Loaded Test-Only Dataset → Total Samples: 1495\n",
      "Test-Only → Test Batches: 94\n"
     ]
    },
    {
     "name": "stderr",
     "output_type": "stream",
     "text": [
      "Testing: 100%|██████████| 94/94 [00:26<00:00,  3.57it/s]\n"
     ]
    },
    {
     "name": "stdout",
     "output_type": "stream",
     "text": [
      "\n",
      "Test Results:\n",
      "R² Score : 0.8021\n",
      "MAE      : 1.5011\n",
      "RMSE     : 2.0455\n",
      "12\n",
      "modelPath:  ./allModel/20StrawWeightAfterDry_RepVGGB1g4Model_raw1.pth\n",
      "dataPath:  ./allTestLabel/allResultData_raw1_day13.csv\n",
      "modelTarget:  20StrawWeightAfterDry\n",
      "modelBackbone:  RepVGGB1g4Model\n",
      "Using device: cuda\n",
      "✅ Loaded Test-Only Dataset → Total Samples: 1495\n",
      "Test-Only → Test Batches: 94\n"
     ]
    },
    {
     "name": "stderr",
     "output_type": "stream",
     "text": [
      "Testing: 100%|██████████| 94/94 [00:24<00:00,  3.77it/s]\n"
     ]
    },
    {
     "name": "stdout",
     "output_type": "stream",
     "text": [
      "\n",
      "Test Results:\n",
      "R² Score : 0.6725\n",
      "MAE      : 2.0183\n",
      "RMSE     : 2.6316\n",
      "13\n",
      "modelPath:  ./allModel/20StrawWeightAfterDry_SwinV2ConfidenceModel_raw1.pth\n",
      "dataPath:  ./allTestLabel/allResultData_raw1_day13.csv\n",
      "modelTarget:  20StrawWeightAfterDry\n",
      "modelBackbone:  SwinV2ConfidenceModel\n",
      "Using device: cuda\n",
      "✅ Loaded Test-Only Dataset → Total Samples: 1495\n",
      "Test-Only → Test Batches: 94\n"
     ]
    },
    {
     "name": "stderr",
     "output_type": "stream",
     "text": [
      "Testing: 100%|██████████| 94/94 [00:24<00:00,  3.90it/s]\n"
     ]
    },
    {
     "name": "stdout",
     "output_type": "stream",
     "text": [
      "\n",
      "Test Results:\n",
      "R² Score : 0.0887\n",
      "MAE      : 3.5643\n",
      "RMSE     : 4.3895\n",
      "14\n",
      "modelPath:  ./allModel/Height_CoAtNetConfidenceModel_raw1.pth\n",
      "dataPath:  ./allTestLabel/allWeeklyData_raw1_day13.csv\n",
      "modelTarget:  Height\n",
      "modelBackbone:  CoAtNetConfidenceModel\n",
      "Using device: cuda\n",
      "✅ Loaded Test-Only Dataset → Total Samples: 1339\n",
      "Test-Only → Test Batches: 84\n"
     ]
    },
    {
     "name": "stderr",
     "output_type": "stream",
     "text": [
      "Testing: 100%|██████████| 84/84 [00:23<00:00,  3.57it/s]\n"
     ]
    },
    {
     "name": "stdout",
     "output_type": "stream",
     "text": [
      "\n",
      "Test Results:\n",
      "R² Score : 0.8351\n",
      "MAE      : 3.6796\n",
      "RMSE     : 5.1329\n",
      "15\n",
      "modelPath:  ./allModel/Height_ConvNeXtTinyWheatModelWithConfidence_raw1.pth\n",
      "dataPath:  ./allTestLabel/allWeeklyData_raw1_day13.csv\n",
      "modelTarget:  Height\n",
      "modelBackbone:  ConvNeXtTinyWheatModelWithConfidence\n",
      "Using device: cuda\n",
      "✅ Loaded Test-Only Dataset → Total Samples: 1339\n",
      "Test-Only → Test Batches: 84\n"
     ]
    },
    {
     "name": "stderr",
     "output_type": "stream",
     "text": [
      "Testing: 100%|██████████| 84/84 [00:23<00:00,  3.57it/s]\n",
      "c:\\Users\\Crop2024_GA\\AppData\\Local\\Programs\\Python\\Python313\\Lib\\site-packages\\torchvision\\models\\_utils.py:208: UserWarning: The parameter 'pretrained' is deprecated since 0.13 and may be removed in the future, please use 'weights' instead.\n",
      "  warnings.warn(\n",
      "c:\\Users\\Crop2024_GA\\AppData\\Local\\Programs\\Python\\Python313\\Lib\\site-packages\\torchvision\\models\\_utils.py:223: UserWarning: Arguments other than a weight enum or `None` for 'weights' are deprecated since 0.13 and may be removed in the future. The current behavior is equivalent to passing `weights=DenseNet121_Weights.IMAGENET1K_V1`. You can also use `weights=DenseNet121_Weights.DEFAULT` to get the most up-to-date weights.\n",
      "  warnings.warn(msg)\n"
     ]
    },
    {
     "name": "stdout",
     "output_type": "stream",
     "text": [
      "\n",
      "Test Results:\n",
      "R² Score : 0.7451\n",
      "MAE      : 4.5168\n",
      "RMSE     : 6.3816\n",
      "16\n",
      "modelPath:  ./allModel/Height_DenseNet121WheatModel_raw1.pth\n",
      "dataPath:  ./allTestLabel/allWeeklyData_raw1_day13.csv\n",
      "modelTarget:  Height\n",
      "modelBackbone:  DenseNet121WheatModel\n",
      "Using device: cuda\n",
      "✅ Loaded Test-Only Dataset → Total Samples: 1339\n",
      "Test-Only → Test Batches: 84\n"
     ]
    },
    {
     "name": "stderr",
     "output_type": "stream",
     "text": [
      "Testing: 100%|██████████| 84/84 [00:23<00:00,  3.58it/s]\n"
     ]
    },
    {
     "name": "stdout",
     "output_type": "stream",
     "text": [
      "\n",
      "Test Results:\n",
      "R² Score : 0.9561\n",
      "MAE      : 1.5569\n",
      "RMSE     : 2.6474\n",
      "17\n",
      "modelPath:  ./allModel/Height_EfficientFormerConfidenceModel_raw1.pth\n",
      "dataPath:  ./allTestLabel/allWeeklyData_raw1_day13.csv\n",
      "modelTarget:  Height\n",
      "modelBackbone:  EfficientFormerConfidenceModel\n",
      "Using device: cuda\n",
      "✅ Loaded Test-Only Dataset → Total Samples: 1339\n",
      "Test-Only → Test Batches: 84\n"
     ]
    },
    {
     "name": "stderr",
     "output_type": "stream",
     "text": [
      "Testing:  62%|██████▏   | 52/84 [00:21<00:13,  2.44it/s]\n"
     ]
    },
    {
     "ename": "KeyboardInterrupt",
     "evalue": "",
     "output_type": "error",
     "traceback": [
      "\u001b[31m---------------------------------------------------------------------------\u001b[39m",
      "\u001b[31mKeyboardInterrupt\u001b[39m                         Traceback (most recent call last)",
      "\u001b[36mCell\u001b[39m\u001b[36m \u001b[39m\u001b[32mIn[12]\u001b[39m\u001b[32m, line 1\u001b[39m\n\u001b[32m----> \u001b[39m\u001b[32m1\u001b[39m \u001b[43mloopTestGrowthModelNoExtraByPath\u001b[49m\u001b[43m(\u001b[49m\u001b[33;43m\"\u001b[39;49m\u001b[33;43m./allModel/\u001b[39;49m\u001b[33;43m\"\u001b[39;49m\u001b[43m)\u001b[49m\n",
      "\u001b[36mCell\u001b[39m\u001b[36m \u001b[39m\u001b[32mIn[11]\u001b[39m\u001b[32m, line 31\u001b[39m, in \u001b[36mloopTestGrowthModelNoExtraByPath\u001b[39m\u001b[34m(modelFilePath)\u001b[39m\n\u001b[32m     29\u001b[39m \u001b[38;5;28mprint\u001b[39m(\u001b[33m\"\u001b[39m\u001b[33mmodelTarget: \u001b[39m\u001b[33m\"\u001b[39m, modelTarget)\n\u001b[32m     30\u001b[39m \u001b[38;5;28mprint\u001b[39m(\u001b[33m\"\u001b[39m\u001b[33mmodelBackbone: \u001b[39m\u001b[33m\"\u001b[39m, modelBackbone)\n\u001b[32m---> \u001b[39m\u001b[32m31\u001b[39m \u001b[43mrun_test_growth\u001b[49m\u001b[43m(\u001b[49m\u001b[43mdataPath\u001b[49m\u001b[43m,\u001b[49m\u001b[43m \u001b[49m\u001b[43mmodelTarget\u001b[49m\u001b[43m,\u001b[49m\u001b[43m \u001b[49m\u001b[43mmodelDict\u001b[49m\u001b[43m[\u001b[49m\u001b[43mmodelBackbone\u001b[49m\u001b[43m]\u001b[49m\u001b[43m,\u001b[49m\u001b[43m \u001b[49m\u001b[43mmodelPath\u001b[49m\u001b[43m,\u001b[49m\u001b[43m \u001b[49m\u001b[43muse_all_data_as_test\u001b[49m\u001b[43m=\u001b[49m\u001b[38;5;28;43;01mTrue\u001b[39;49;00m\u001b[43m)\u001b[49m\n",
      "\u001b[36mFile \u001b[39m\u001b[32mh:\\MasterProj\\Model_Creation\\TraitPredictionModel\\modelFunc.py:920\u001b[39m, in \u001b[36mrun_test_growth\u001b[39m\u001b[34m(dataPath, traitName, modelClass, modelPath, output_dir, use_all_data_as_test)\u001b[39m\n\u001b[32m    916\u001b[39m     _, _, test_loader = createLoader(*loadSplitData_no_leak(dataPath), traitName)\n\u001b[32m    919\u001b[39m \u001b[38;5;66;03m# Run test\u001b[39;00m\n\u001b[32m--> \u001b[39m\u001b[32m920\u001b[39m df_results, r2, mae, rmse = \u001b[43mtestForGrowth\u001b[49m\u001b[43m(\u001b[49m\n\u001b[32m    921\u001b[39m \u001b[43m    \u001b[49m\u001b[43mmodel\u001b[49m\u001b[43m=\u001b[49m\u001b[43mloaded_model\u001b[49m\u001b[43m,\u001b[49m\n\u001b[32m    922\u001b[39m \u001b[43m    \u001b[49m\u001b[43mtest_loader\u001b[49m\u001b[43m=\u001b[49m\u001b[43mtest_loader\u001b[49m\u001b[43m,\u001b[49m\n\u001b[32m    923\u001b[39m \u001b[43m    \u001b[49m\u001b[43mdevice\u001b[49m\u001b[43m=\u001b[49m\u001b[43mdevice\u001b[49m\u001b[43m,\u001b[49m\n\u001b[32m    924\u001b[39m \u001b[43m    \u001b[49m\u001b[43moutput_csv\u001b[49m\u001b[43m=\u001b[49m\u001b[43moutput_csv_path\u001b[49m\u001b[43m,\u001b[49m\n\u001b[32m    925\u001b[39m \u001b[43m\u001b[49m\u001b[43m)\u001b[49m\n",
      "\u001b[36mFile \u001b[39m\u001b[32mh:\\MasterProj\\Model_Creation\\TraitPredictionModel\\modelFunc.py:843\u001b[39m, in \u001b[36mtestForGrowth\u001b[39m\u001b[34m(model, test_loader, device, output_csv)\u001b[39m\n\u001b[32m    841\u001b[39m \u001b[38;5;28;01mwith\u001b[39;00m torch.no_grad():\n\u001b[32m    842\u001b[39m     \u001b[38;5;28;01mfor\u001b[39;00m rgb_batch, dsm_batch, label_batch, RGBpaths_batch \u001b[38;5;129;01min\u001b[39;00m tqdm(test_loader, desc=\u001b[33m\"\u001b[39m\u001b[33mTesting\u001b[39m\u001b[33m\"\u001b[39m):\n\u001b[32m--> \u001b[39m\u001b[32m843\u001b[39m         rgb_batch = \u001b[43mrgb_batch\u001b[49m\u001b[43m.\u001b[49m\u001b[43mto\u001b[49m\u001b[43m(\u001b[49m\u001b[43mdevice\u001b[49m\u001b[43m)\u001b[49m\n\u001b[32m    844\u001b[39m         dsm_batch = dsm_batch.to(device)\n\u001b[32m    846\u001b[39m         output = model(rgb_batch, dsm_batch)  \u001b[38;5;66;03m# [B, 2]\u001b[39;00m\n",
      "\u001b[31mKeyboardInterrupt\u001b[39m: "
     ]
    }
   ],
   "source": [
    "loopTestGrowthModelNoExtraByPath(\"./allModel/\")"
   ]
  }
 ],
 "metadata": {
  "kernelspec": {
   "display_name": "Python 3",
   "language": "python",
   "name": "python3"
  },
  "language_info": {
   "codemirror_mode": {
    "name": "ipython",
    "version": 3
   },
   "file_extension": ".py",
   "mimetype": "text/x-python",
   "name": "python",
   "nbconvert_exporter": "python",
   "pygments_lexer": "ipython3",
   "version": "3.10.10"
  }
 },
 "nbformat": 4,
 "nbformat_minor": 5
}
