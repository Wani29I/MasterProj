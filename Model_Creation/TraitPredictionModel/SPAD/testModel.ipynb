{
 "cells": [
  {
   "cell_type": "code",
   "execution_count": 1,
   "metadata": {},
   "outputs": [
    {
     "name": "stderr",
     "output_type": "stream",
     "text": [
      "c:\\Users\\pacha\\AppData\\Local\\Programs\\Python\\Python313\\Lib\\site-packages\\tqdm\\auto.py:21: TqdmWarning: IProgress not found. Please update jupyter and ipywidgets. See https://ipywidgets.readthedocs.io/en/stable/user_install.html\n",
      "  from .autonotebook import tqdm as notebook_tqdm\n"
     ]
    }
   ],
   "source": [
    "import os\n",
    "import sys\n",
    "# Get current working directory instead of __file__\n",
    "sys.path.append(os.path.abspath(os.path.join(os.getcwd(), \"..\")))\n",
    "from modelFunc import setAndTestModel, setAndTestModel_with_extra_input\n",
    "# model\n",
    "from ModelArchitecture.ConvNeXtTinyModel import ConvNeXtTinyWheatModelWithConfidence\n",
    "from ModelArchitecture.DenseNetModel import DenseNet121WheatModel\n",
    "from ModelArchitecture.EfficientNetV2Model import EfficientNetV2SWheatCountWithConfidence\n",
    "from ModelArchitecture.RepVGGA1Model import RepVGGA1WheatModelWithConfidence\n",
    "from ModelArchitecture.EfficientNetV2MModel import EfficientNetV2MWheatModelWithConfidence\n",
    "from ModelArchitecture.RepVGGB1g4Model import RepVGGB1g4Model\n",
    "from ModelArchitecture.RegNetY8GFModel import RegNetY8GFModel\n",
    "from ModelArchitecture.EfficientNetV2SAddextrainputModel import EfficientNetV2SConfidenceAddoneextrainput\n",
    "from ModelArchitecture.DenseNetAddextrainputModel import DenseNetConfidenceAddoneextrainput\n",
    "from ModelArchitecture.RepVGGA1AddextrainputModel import RepVGGA1ConfidenceAddoneextrainput\n",
    "from ModelArchitecture.EfficientNetV2MAddextrainputModel import EfficientNetV2MConfidenceAddeonextrainput\n",
    "from ModelArchitecture.RegNetY8GFAddextrainputModel import RegNetY8GFConfidenceAddoneextrainput"
   ]
  },
  {
   "cell_type": "code",
   "execution_count": 3,
   "metadata": {},
   "outputs": [
    {
     "name": "stdout",
     "output_type": "stream",
     "text": [
      "✅ Safe Split → Train: 42840, Val: 5360, Test: 5360\n",
      "Train Batches: 2678, Validation Batches: 335, Test Batches: 335\n",
      "✅ Using device: cuda\n",
      "traitName:  SPAD\n",
      "model:  ConvNeXtTinyWheatModelWithConfidence\n"
     ]
    },
    {
     "name": "stderr",
     "output_type": "stream",
     "text": [
      "100%|██████████| 335/335 [00:50<00:00,  6.58it/s]\n",
      "c:\\Users\\pacha\\AppData\\Local\\Programs\\Python\\Python313\\Lib\\site-packages\\torchvision\\models\\_utils.py:208: UserWarning: The parameter 'pretrained' is deprecated since 0.13 and may be removed in the future, please use 'weights' instead.\n",
      "  warnings.warn(\n",
      "c:\\Users\\pacha\\AppData\\Local\\Programs\\Python\\Python313\\Lib\\site-packages\\torchvision\\models\\_utils.py:223: UserWarning: Arguments other than a weight enum or `None` for 'weights' are deprecated since 0.13 and may be removed in the future. The current behavior is equivalent to passing `weights=DenseNet121_Weights.IMAGENET1K_V1`. You can also use `weights=DenseNet121_Weights.DEFAULT` to get the most up-to-date weights.\n",
      "  warnings.warn(msg)\n"
     ]
    },
    {
     "name": "stdout",
     "output_type": "stream",
     "text": [
      "\n",
      "📊 Test Results:\n",
      "✅ R² Score : 0.6315\n",
      "✅ MAE      : 4.1363\n",
      "✅ RMSE     : 6.0745\n",
      "✅ Safe Split → Train: 42840, Val: 5360, Test: 5360\n",
      "Train Batches: 2678, Validation Batches: 335, Test Batches: 335\n",
      "✅ Using device: cuda\n",
      "traitName:  SPAD\n",
      "model:  DenseNet121WheatModel\n"
     ]
    },
    {
     "name": "stderr",
     "output_type": "stream",
     "text": [
      "100%|██████████| 335/335 [00:50<00:00,  6.58it/s]\n"
     ]
    },
    {
     "name": "stdout",
     "output_type": "stream",
     "text": [
      "\n",
      "📊 Test Results:\n",
      "✅ R² Score : 0.7860\n",
      "✅ MAE      : 3.4033\n",
      "✅ RMSE     : 4.6294\n",
      "✅ Safe Split → Train: 42840, Val: 5360, Test: 5360\n",
      "Train Batches: 2678, Validation Batches: 335, Test Batches: 335\n",
      "✅ Using device: cuda\n",
      "traitName:  SPAD\n",
      "model:  EfficientNetV2MWheatModelWithConfidence\n"
     ]
    },
    {
     "name": "stderr",
     "output_type": "stream",
     "text": [
      "100%|██████████| 335/335 [01:02<00:00,  5.40it/s]\n"
     ]
    },
    {
     "name": "stdout",
     "output_type": "stream",
     "text": [
      "\n",
      "📊 Test Results:\n",
      "✅ R² Score : 0.7969\n",
      "✅ MAE      : 3.2945\n",
      "✅ RMSE     : 4.5101\n",
      "✅ Safe Split → Train: 42840, Val: 5360, Test: 5360\n",
      "Train Batches: 2678, Validation Batches: 335, Test Batches: 335\n",
      "✅ Using device: cuda\n",
      "traitName:  SPAD\n",
      "model:  EfficientNetV2SWheatCountWithConfidence\n"
     ]
    },
    {
     "name": "stderr",
     "output_type": "stream",
     "text": [
      "100%|██████████| 335/335 [00:45<00:00,  7.44it/s]\n"
     ]
    },
    {
     "name": "stdout",
     "output_type": "stream",
     "text": [
      "\n",
      "📊 Test Results:\n",
      "✅ R² Score : 0.8110\n",
      "✅ MAE      : 3.1545\n",
      "✅ RMSE     : 4.3502\n",
      "✅ Safe Split → Train: 42840, Val: 5360, Test: 5360\n",
      "Train Batches: 2678, Validation Batches: 335, Test Batches: 335\n",
      "✅ Using device: cuda\n",
      "traitName:  SPAD\n",
      "model:  RegNetY8GFModel\n"
     ]
    },
    {
     "name": "stderr",
     "output_type": "stream",
     "text": [
      "100%|██████████| 335/335 [02:49<00:00,  1.97it/s]\n"
     ]
    },
    {
     "name": "stdout",
     "output_type": "stream",
     "text": [
      "\n",
      "📊 Test Results:\n",
      "✅ R² Score : 0.7734\n",
      "✅ MAE      : 3.4420\n",
      "✅ RMSE     : 4.7638\n",
      "✅ Safe Split → Train: 42840, Val: 5360, Test: 5360\n",
      "Train Batches: 2678, Validation Batches: 335, Test Batches: 335\n",
      "✅ Using device: cuda\n",
      "traitName:  SPAD\n",
      "model:  RepVGGB1g4Model\n"
     ]
    },
    {
     "name": "stderr",
     "output_type": "stream",
     "text": [
      "100%|██████████| 335/335 [01:10<00:00,  4.74it/s]\n"
     ]
    },
    {
     "name": "stdout",
     "output_type": "stream",
     "text": [
      "\n",
      "📊 Test Results:\n",
      "✅ R² Score : 0.7933\n",
      "✅ MAE      : 3.2104\n",
      "✅ RMSE     : 4.5498\n",
      "✅ Safe Split → Train: 42840, Val: 5360, Test: 5360\n",
      "Train Batches: 2678, Validation Batches: 335, Test Batches: 335\n",
      "✅ Using device: cuda\n",
      "traitName:  SPAD\n",
      "model:  RepVGGA1WheatModelWithConfidence\n"
     ]
    },
    {
     "name": "stderr",
     "output_type": "stream",
     "text": [
      "100%|██████████| 335/335 [00:36<00:00,  9.19it/s]"
     ]
    },
    {
     "name": "stdout",
     "output_type": "stream",
     "text": [
      "\n",
      "📊 Test Results:\n",
      "✅ R² Score : 0.7778\n",
      "✅ MAE      : 3.2897\n",
      "✅ RMSE     : 4.7174\n"
     ]
    },
    {
     "name": "stderr",
     "output_type": "stream",
     "text": [
      "\n"
     ]
    }
   ],
   "source": [
    "setAndTestModel(\"DataKey_RGB_DSM_SPAD.csv\", \"SPAD\", ConvNeXtTinyWheatModelWithConfidence, \"./ResultModelSPAD/ConvNeXtTinyWheatModelWithConfidence_SPAD10.pth\")\n",
    "setAndTestModel(\"DataKey_RGB_DSM_SPAD.csv\", \"SPAD\", DenseNet121WheatModel, \"./ResultModelSPAD/DenseNet121WheatModel_SPAD10.pth\")\n",
    "setAndTestModel(\"DataKey_RGB_DSM_SPAD.csv\", \"SPAD\", EfficientNetV2MWheatModelWithConfidence, \"./ResultModelSPAD/EfficientNetV2MWheatModelWithConfidence_SPAD10.pth\")\n",
    "setAndTestModel(\"DataKey_RGB_DSM_SPAD.csv\", \"SPAD\", EfficientNetV2SWheatCountWithConfidence, \"./ResultModelSPAD/EfficientNetV2SWheatCountWithConfidence_SPAD10.pth\")\n",
    "setAndTestModel(\"DataKey_RGB_DSM_SPAD.csv\", \"SPAD\", RegNetY8GFModel, \"./ResultModelSPAD/RegNetY8GFModel_SPAD10.pth\")\n",
    "setAndTestModel(\"DataKey_RGB_DSM_SPAD.csv\", \"SPAD\", RepVGGB1g4Model, \"./ResultModelSPAD/RepVGGB1g4Model_SPAD10.pth\")\n",
    "setAndTestModel(\"DataKey_RGB_DSM_SPAD.csv\", \"SPAD\", RepVGGA1WheatModelWithConfidence, \"./ResultModelSPAD/RepVGGA1WheatModelWithConfidence_SPAD10.pth\")"
   ]
  },
  {
   "cell_type": "code",
   "execution_count": 2,
   "metadata": {},
   "outputs": [
    {
     "name": "stdout",
     "output_type": "stream",
     "text": [
      "✅ Safe Split → Train: 42840, Val: 5360, Test: 5360\n",
      "Train Batches: 2678, Validation Batches: 335, Test Batches: 335\n",
      "✅ Using device: cuda\n",
      "traitName:  SPAD\n",
      "model:  DenseNetConfidenceAddoneextrainput\n"
     ]
    },
    {
     "name": "stderr",
     "output_type": "stream",
     "text": [
      "100%|██████████| 335/335 [00:49<00:00,  6.80it/s]\n"
     ]
    },
    {
     "name": "stdout",
     "output_type": "stream",
     "text": [
      "\n",
      "📊 Test Results:\n",
      "✅ R² Score : 0.1810\n",
      "✅ MAE      : 4.0130\n",
      "✅ RMSE     : 9.0559\n",
      "✅ Safe Split → Train: 42840, Val: 5360, Test: 5360\n",
      "Train Batches: 2678, Validation Batches: 335, Test Batches: 335\n",
      "✅ Using device: cuda\n",
      "traitName:  SPAD\n",
      "model:  EfficientNetV2MConfidenceAddeonextrainput\n"
     ]
    },
    {
     "name": "stderr",
     "output_type": "stream",
     "text": [
      "100%|██████████| 335/335 [01:01<00:00,  5.42it/s]\n"
     ]
    },
    {
     "name": "stdout",
     "output_type": "stream",
     "text": [
      "\n",
      "📊 Test Results:\n",
      "✅ R² Score : 0.8075\n",
      "✅ MAE      : 3.1262\n",
      "✅ RMSE     : 4.3902\n",
      "✅ Safe Split → Train: 42840, Val: 5360, Test: 5360\n",
      "Train Batches: 2678, Validation Batches: 335, Test Batches: 335\n",
      "✅ Using device: cuda\n",
      "traitName:  SPAD\n",
      "model:  EfficientNetV2SConfidenceAddoneextrainput\n"
     ]
    },
    {
     "name": "stderr",
     "output_type": "stream",
     "text": [
      "100%|██████████| 335/335 [00:45<00:00,  7.30it/s]\n"
     ]
    },
    {
     "name": "stdout",
     "output_type": "stream",
     "text": [
      "\n",
      "📊 Test Results:\n",
      "✅ R² Score : 0.7666\n",
      "✅ MAE      : 3.3940\n",
      "✅ RMSE     : 4.8342\n",
      "✅ Safe Split → Train: 42840, Val: 5360, Test: 5360\n",
      "Train Batches: 2678, Validation Batches: 335, Test Batches: 335\n",
      "✅ Using device: cuda\n",
      "traitName:  SPAD\n",
      "model:  RegNetY8GFConfidenceAddoneextrainput\n"
     ]
    },
    {
     "name": "stderr",
     "output_type": "stream",
     "text": [
      "100%|██████████| 335/335 [01:22<00:00,  4.05it/s]\n"
     ]
    },
    {
     "name": "stdout",
     "output_type": "stream",
     "text": [
      "\n",
      "📊 Test Results:\n",
      "✅ R² Score : 0.8125\n",
      "✅ MAE      : 3.1890\n",
      "✅ RMSE     : 4.3336\n",
      "✅ Safe Split → Train: 42840, Val: 5360, Test: 5360\n",
      "Train Batches: 2678, Validation Batches: 335, Test Batches: 335\n",
      "✅ Using device: cuda\n",
      "traitName:  SPAD\n",
      "model:  RepVGGA1ConfidenceAddoneextrainput\n"
     ]
    },
    {
     "name": "stderr",
     "output_type": "stream",
     "text": [
      "100%|██████████| 335/335 [01:03<00:00,  5.31it/s]"
     ]
    },
    {
     "name": "stdout",
     "output_type": "stream",
     "text": [
      "\n",
      "📊 Test Results:\n",
      "✅ R² Score : 0.7660\n",
      "✅ MAE      : 3.4812\n",
      "✅ RMSE     : 4.8408\n"
     ]
    },
    {
     "name": "stderr",
     "output_type": "stream",
     "text": [
      "\n"
     ]
    }
   ],
   "source": [
    "setAndTestModel_with_extra_input(\"DataKey_RGB_DSM_SPAD_time.csv\", \"SPAD\", DenseNetConfidenceAddoneextrainput, \"./ResultModelSPAD/DenseNetConfidenceAddoneextrainput_SPAD_extratime10.pth\", \"time\")\n",
    "setAndTestModel_with_extra_input(\"DataKey_RGB_DSM_SPAD_time.csv\", \"SPAD\", EfficientNetV2MConfidenceAddeonextrainput, \"./ResultModelSPAD/EfficientNetV2MConfidenceAddeonextrainput_SPAD_extratime10.pth\", \"time\")\n",
    "setAndTestModel_with_extra_input(\"DataKey_RGB_DSM_SPAD_time.csv\", \"SPAD\", EfficientNetV2SConfidenceAddoneextrainput, \"./ResultModelSPAD/EfficientNetV2SConfidenceAddoneextrainput_SPAD_extratime10.pth\", \"time\")\n",
    "setAndTestModel_with_extra_input(\"DataKey_RGB_DSM_SPAD_time.csv\", \"SPAD\", RegNetY8GFConfidenceAddoneextrainput, \"./ResultModelSPAD/RegNetY8GFConfidenceAddoneextrainput_SPAD_extratime10.pth\", \"time\")\n",
    "setAndTestModel_with_extra_input(\"DataKey_RGB_DSM_SPAD_time.csv\", \"SPAD\", RepVGGA1ConfidenceAddoneextrainput, \"./ResultModelSPAD/RepVGGA1ConfidenceAddoneextrainput_SPAD_extratime10.pth\", \"time\")\n"
   ]
  },
  {
   "cell_type": "code",
   "execution_count": null,
   "metadata": {},
   "outputs": [],
   "source": []
  }
 ],
 "metadata": {
  "kernelspec": {
   "display_name": "Python 3",
   "language": "python",
   "name": "python3"
  },
  "language_info": {
   "codemirror_mode": {
    "name": "ipython",
    "version": 3
   },
   "file_extension": ".py",
   "mimetype": "text/x-python",
   "name": "python",
   "nbconvert_exporter": "python",
   "pygments_lexer": "ipython3",
   "version": "3.13.2"
  }
 },
 "nbformat": 4,
 "nbformat_minor": 2
}
