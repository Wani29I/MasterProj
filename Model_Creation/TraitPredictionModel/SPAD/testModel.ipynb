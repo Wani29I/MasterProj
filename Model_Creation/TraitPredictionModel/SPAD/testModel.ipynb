{
 "cells": [
  {
   "cell_type": "code",
   "execution_count": null,
   "metadata": {},
   "outputs": [],
   "source": [
    "import os\n",
    "import sys\n",
    "# Get current working directory instead of __file__\n",
    "sys.path.append(os.path.abspath(os.path.join(os.getcwd(), \"..\")))\n",
    "from modelFunc import setAndTestModel\n",
    "# model\n",
    "from ModelArchitecture.ConvNeXtTinyModel import ConvNeXtTinyWheatModelWithConfidence\n",
    "from ModelArchitecture.DenseNetModel import DenseNet121WheatModel\n",
    "from ModelArchitecture.EfficientNetV2Model import EfficientNetV2SWheatCountWithConfidence\n",
    "from ModelArchitecture.RepVGGA1Model import RepVGGA1WheatModelWithConfidence\n",
    "from ModelArchitecture.EfficientNetV2MModel import EfficientNetV2M_WheatModelWithConfidence\n",
    "from ModelArchitecture.RepVGG_B1g4Model import RepVGG_B1g4Model\n",
    "from ModelArchitecture.RegNetY8GFModel import RegNetY8GFModel\n",
    "from ModelArchitecture.EfficientNetV2SAddextrainputModel import EfficientNetV2S_Confidence_Addoneextrainput\n",
    "from ModelArchitecture.DenseNetAddextrainputModel import DenseNet_Confidence_Addoneextrainput\n",
    "from ModelArchitecture.RepVGGA1AddextrainputModel import RepVGGA1_Confidence_Addoneextrainput\n",
    "from ModelArchitecture.EfficientNetV2MAddextrainputModel import EfficientNetV2M_Confidence_Addeonextrainput\n",
    "from ModelArchitecture.RegNetY8GFAddextrainputModel import RegNetY8GF_Confidence_Addoneextrainput"
   ]
  },
  {
   "cell_type": "code",
   "execution_count": null,
   "metadata": {},
   "outputs": [],
   "source": [
    "setAndTestModel(\"DataKey_RGB_DSM_SPAD.csv\", \"SPAD\", ConvNeXtTinyWheatModelWithConfidence, \"./ResultModelSPAD/ConvNeXtTinyWheatModelWithConfidence_SPAD10.pth\")\n",
    "setAndTestModel(\"DataKey_RGB_DSM_SPAD.csv\", \"SPAD\", DenseNet121WheatModel, \"./ResultModelSPAD/DenseNet121WheatModel_SPAD10.pth\")\n",
    "setAndTestModel(\"DataKey_RGB_DSM_SPAD.csv\", \"SPAD\", EfficientNetV2M_WheatModelWithConfidence, \"./ResultModelSPAD/EfficientNetV2M_WheatModelWithConfidence_SPAD10.pth\")\n",
    "setAndTestModel(\"DataKey_RGB_DSM_SPAD.csv\", \"SPAD\", EfficientNetV2SWheatCountWithConfidence, \"./ResultModelSPAD/EfficientNetV2SWheatCountWithConfidence_SPAD10.pth\")\n",
    "setAndTestModel(\"DataKey_RGB_DSM_SPAD.csv\", \"SPAD\", RegNetY8GFModel, \"./ResultModelSPAD/RegNetY8GFModel_SPAD10.pth\")\n",
    "setAndTestModel(\"DataKey_RGB_DSM_SPAD.csv\", \"SPAD\", RepVGG_B1g4Model, \"./ResultModelSPAD/RepVGG_B1g4Model_SPAD10.pth\")\n",
    "setAndTestModel(\"DataKey_RGB_DSM_SPAD.csv\", \"SPAD\", RepVGGA1WheatModelWithConfidence, \"./ResultModelSPAD/RepVGGA1WheatModelWithConfidence_SPAD10.pth\")"
   ]
  },
  {
   "cell_type": "code",
   "execution_count": null,
   "metadata": {},
   "outputs": [],
   "source": [
    "setAndTestModel(\"DataKey_RGB_DSM_SPAD_time.csv\", \"SPAD\", DenseNet_Confidence_Addoneextrainput, \"./ResultModelSPAD/DenseNet_Confidence_Addoneextrainput_SPAD_extratime10.pth\")\n",
    "setAndTestModel(\"DataKey_RGB_DSM_SPAD_time.csv\", \"SPAD\", EfficientNetV2M_Confidence_Addeonextrainput, \"./ResultModelSPAD/EfficientNetV2M_Confidence_Addeonextrainput_SPAD_extratime10.pth\")\n",
    "setAndTestModel(\"DataKey_RGB_DSM_SPAD_time.csv\", \"SPAD\", EfficientNetV2S_Confidence_Addoneextrainput, \"./ResultModelSPAD/EfficientNetV2S_Confidence_Addoneextrainput_SPAD_extratime10.pth\")\n",
    "setAndTestModel(\"DataKey_RGB_DSM_SPAD_time.csv\", \"SPAD\", RegNetY8GF_Confidence_Addoneextrainput, \"./ResultModelSPAD/RegNetY8GF_Confidence_Addoneextrainput_SPAD_extratime10.pth\")\n",
    "setAndTestModel(\"DataKey_RGB_DSM_SPAD_time.csv\", \"SPAD\", RepVGGA1_Confidence_Addoneextrainput, \"./ResultModelSPAD/RepVGGA1_Confidence_Addoneextrainput_SPAD_extratime10.pth\")\n"
   ]
  },
  {
   "cell_type": "code",
   "execution_count": null,
   "metadata": {},
   "outputs": [],
   "source": []
  }
 ],
 "metadata": {
  "kernelspec": {
   "display_name": "Python 3",
   "language": "python",
   "name": "python3"
  },
  "language_info": {
   "codemirror_mode": {
    "name": "ipython",
    "version": 3
   },
   "file_extension": ".py",
   "mimetype": "text/x-python",
   "name": "python",
   "nbconvert_exporter": "python",
   "pygments_lexer": "ipython3",
   "version": "3.10.10"
  }
 },
 "nbformat": 4,
 "nbformat_minor": 2
}
