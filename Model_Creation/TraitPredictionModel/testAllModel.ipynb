{
 "cells": [
  {
   "cell_type": "code",
   "execution_count": 1,
   "id": "ce8d8758",
   "metadata": {},
   "outputs": [
    {
     "name": "stderr",
     "output_type": "stream",
     "text": [
      "/Users/ice/.pyenv/versions/3.10.10/lib/python3.10/site-packages/tqdm/auto.py:21: TqdmWarning: IProgress not found. Please update jupyter and ipywidgets. See https://ipywidgets.readthedocs.io/en/stable/user_install.html\n",
      "  from .autonotebook import tqdm as notebook_tqdm\n"
     ]
    }
   ],
   "source": [
    "import os\n",
    "import sys\n",
    "import pprint\n",
    "import inspect\n",
    "# Get current working directory instead of __file__\n",
    "sys.path.append(os.path.abspath(os.path.join(os.getcwd(), \"..\")))\n",
    "from modelFunc import setAndTestPlotModel, setAndTestPlotModel_with_extra_input, setAndTestModelByDate, run_test_and_save_results, run_test_and_save_results_with_extra_input\n",
    "# model\n",
    "from ModelArchitecture.ConvNeXtTinyModel import ConvNeXtTinyWheatModelWithConfidence\n",
    "from ModelArchitecture.DenseNetModel import DenseNet121WheatModel\n",
    "from ModelArchitecture.EfficientNetV2Model import EfficientNetV2SWheatCountWithConfidence\n",
    "from ModelArchitecture.RepVGGA1Model import RepVGGA1WheatModelWithConfidence\n",
    "from ModelArchitecture.EfficientNetV2MModel import EfficientNetV2MWheatModelWithConfidence\n",
    "from ModelArchitecture.RepVGGB1g4Model import RepVGGB1g4Model\n",
    "from ModelArchitecture.RegNetY8GFModel import RegNetY8GFModel\n",
    "from ModelArchitecture.MobileViTV2Model import MobileViTV2WheatModel\n",
    "from ModelArchitecture.MobileViTV2AddoneextrainputModel import MobileViTV2ConfidenceAddoneextrainput, MobileViTV2ConfidenceAddtwoextrainput\n",
    "from ModelArchitecture.ConvNeXtTinyAddoneextrainputModel import ConvNeXtTinyConfidenceAddoneextrainput, ConvNeXtTinyConfidenceAddtwoextrainput\n",
    "from ModelArchitecture.EfficientNetV2SAddextrainputModel import EfficientNetV2SConfidenceAddoneextrainput, EfficientNetV2SConfidenceAdd2Inputs\n",
    "from ModelArchitecture.DenseNetAddextrainputModel import DenseNetConfidenceAddoneextrainput, DenseNetConfidenceAdd2Inputs\n",
    "from ModelArchitecture.RepVGGA1AddextrainputModel import RepVGGA1ConfidenceAddoneextrainput, RepVGGA1ConfidenceAdd2Inputs\n",
    "from ModelArchitecture.EfficientNetV2MAddextrainputModel import EfficientNetV2MConfidenceAddeonextrainput, EfficientNetV2MConfidenceAdd2Inputs\n",
    "from ModelArchitecture.RegNetY8GFAddextrainputModel import RegNetY8GFConfidenceAddoneextrainput, RegNetYConfidenceAdd2Inputs\n",
    "from ModelArchitecture.MobileOneModel import MobileOneConfidence, MobileOneConfidenceAddoneextrainput, MobileOneConfidenceAddtwoextrainput\n",
    "from ModelArchitecture.MaxViTModel import MaxViTConfidenceModel, MaxViTConfidenceAddoneextrainput, MaxViTConfidenceAddtwoextrainput\n",
    "from ModelArchitecture.CoatNetModel import CoAtNetConfidenceModel, CoAtNetConfidenceAddOneExtraInput, CoAtNetConfidenceAddTwoExtraInput\n",
    "from ModelArchitecture.FocalNetModel import FocalNetConfidenceModel, FocalNetConfidenceAddoneextrainput, FocalNetConfidenceAddtwoextrainput\n",
    "from ModelArchitecture.SwinTransformerV2Model import SwinV2ConfidenceModel, SwinV2ConfidenceAddOneExtraInput, SwinV2ConfidenceAddTwoExtraInput\n",
    "from ModelArchitecture.EfficientFormerV2Model import EfficientFormerConfidenceModel, EfficientFormerConfidenceAddOneExtraInput, EfficientFormerConfidenceAddTwoExtraInput\n",
    "from ModelArchitecture.PoolFormerModel import PoolFormerConfidenceModel, PoolFormerConfidenceAddOneExtraInput, PoolFormerConfidenceAddTwoExtraInput\n",
    "from ModelArchitecture.ConvNeXtV2Model import ConvNeXtV2WheatModelWithConfidence, ConvNeXtV2ConfidenceAddoneextrainput, ConvNeXtV2ConfidenceAddtwoextrainput"
   ]
  },
  {
   "cell_type": "code",
   "execution_count": 2,
   "id": "0b514a80",
   "metadata": {},
   "outputs": [],
   "source": [
    "# run_test_and_save_results( \"./allTestLabel/allResultData_raw1_day13.csv\", \"20StrawWeightAfterDry\", ConvNeXtTinyWheatModelWithConfidence, \"./allModel/20StrawWeightAfterDry_ConvNeXtTinyWheatModelWithConfidence_raw1.pth\" )\n",
    "# run_test_and_save_results( \"./allTestLabel/allResultData_raw1_day13.csv\", \"20StrawWeightAfterDry\", DenseNet121WheatModel, \"./allModel/20StrawWeightAfterDry_DenseNet121WheatModel_raw1.pth\" )\n",
    "# run_test_and_save_results( \"./allTestLabel/allResultData_raw1_day13.csv\", \"20StrawWeightAfterDry\", EfficientNetV2MWheatModelWithConfidence, \"./allModel/20StrawWeightAfterDry_EfficientNetV2MWheatModelWithConfidence_raw1.pth\" )\n",
    "# run_test_and_save_results( \"./allTestLabel/allResultData_raw1_day13.csv\", \"20StrawWeightAfterDry\", MobileViTV2WheatModel, \"./allModel/20StrawWeightAfterDry_MobileViTV2WheatModel_raw1.pth\" )\n",
    "# run_test_and_save_results( \"./allTestLabel/allResultData_raw1_day13.csv\", \"20StrawWeightAfterDry\", RegNetY8GFModel, \"./allModel/20StrawWeightAfterDry_RegNetY8GFModel_raw1.pth\" )"
   ]
  },
  {
   "cell_type": "code",
   "execution_count": 2,
   "id": "e6393f24",
   "metadata": {},
   "outputs": [],
   "source": [
    "def get_imported_class_dict():\n",
    "    current_module = sys.modules[__name__]\n",
    "    return {\n",
    "        name: obj\n",
    "        for name, obj in globals().items()\n",
    "        if inspect.isclass(obj) and obj.__module__ != current_module.__name__\n",
    "    }\n",
    "modelDict = get_imported_class_dict()"
   ]
  },
  {
   "cell_type": "code",
   "execution_count": 3,
   "id": "0f3875ee",
   "metadata": {},
   "outputs": [
    {
     "name": "stdout",
     "output_type": "stream",
     "text": [
      "modelPath:  ./allModel/20StrawWeightAfterDry_ConvNeXtTinyWheatModelWithConfidence_raw1.pth\n",
      "dataPath:  ./allTestLabel/allResultData_raw1_day13.csv\n",
      "modelTarget:  20StrawWeightAfterDry\n",
      "modelBackbone:  ConvNeXtTinyWheatModelWithConfidence\n",
      "Using device: mps\n"
     ]
    },
    {
     "name": "stderr",
     "output_type": "stream",
     "text": [
      "/Users/ice/.pyenv/versions/3.10.10/lib/python3.10/site-packages/torch/__init__.py:1236: UserWarning: torch.set_default_tensor_type() is deprecated as of PyTorch 2.1, please use torch.set_default_dtype() and torch.set_default_device() as alternatives. (Triggered internally at /Users/runner/work/pytorch/pytorch/pytorch/torch/csrc/tensor/python_tensor.cpp:436.)\n",
      "  _C._set_default_tensor_type(t)\n"
     ]
    },
    {
     "name": "stdout",
     "output_type": "stream",
     "text": [
      "✅ Safe Split → Train: 23920, Val: 2980, Test: 150\n",
      "Train Batches: 1495, Validation Batches: 187, Test Batches: 10\n"
     ]
    },
    {
     "name": "stderr",
     "output_type": "stream",
     "text": [
      "Testing:   0%|          | 0/10 [00:02<?, ?it/s]\n"
     ]
    },
    {
     "ename": "FileNotFoundError",
     "evalue": "Caught FileNotFoundError in DataLoader worker process 0.\nOriginal Traceback (most recent call last):\n  File \"/Users/ice/.pyenv/versions/3.10.10/lib/python3.10/site-packages/torch/utils/data/_utils/worker.py\", line 349, in _worker_loop\n    data = fetcher.fetch(index)  # type: ignore[possibly-undefined]\n  File \"/Users/ice/.pyenv/versions/3.10.10/lib/python3.10/site-packages/torch/utils/data/_utils/fetch.py\", line 52, in fetch\n    data = [self.dataset[idx] for idx in possibly_batched_index]\n  File \"/Users/ice/.pyenv/versions/3.10.10/lib/python3.10/site-packages/torch/utils/data/_utils/fetch.py\", line 52, in <listcomp>\n    data = [self.dataset[idx] for idx in possibly_batched_index]\n  File \"/Volumes/PortableSSD/MasterProj/Model_Creation/TraitPredictionModel/dataClass.py\", line 34, in __getitem__\n    rgb = resize_rgb_return_array(rgb_path, target_size=(512, 256)) / 255.0\n  File \"/Volumes/PortableSSD/MasterProj/Model_Creation/TraitPredictionModel/rgbdsmAlignment.py\", line 222, in resize_rgb_return_array\n    img = Image.open(input_path).convert(\"RGB\")\n  File \"/Users/ice/.pyenv/versions/3.10.10/lib/python3.10/site-packages/PIL/Image.py\", line 3469, in open\n    fp = builtins.open(filename, \"rb\")\nFileNotFoundError: [Errno 2] No such file or directory: '/Volumes/PortableSSD/MasterProj/Model_Creation/TraitPredictionModel/H:/dataForProcess/mainData/RGB/RGB_202404251118/RGB_202404251118_21/Augmented/RGB_202404251118_21_original_enhanced_original.jpg'\n",
     "output_type": "error",
     "traceback": [
      "\u001b[0;31m---------------------------------------------------------------------------\u001b[0m",
      "\u001b[0;31mFileNotFoundError\u001b[0m                         Traceback (most recent call last)",
      "Cell \u001b[0;32mIn[3], line 83\u001b[0m\n\u001b[1;32m     81\u001b[0m     run_test_and_save_results_with_extra_input(dataPath, modelTarget, modelDict[modelBackbone], modelPath, extraInpList)\n\u001b[1;32m     82\u001b[0m \u001b[38;5;28;01melse\u001b[39;00m:\n\u001b[0;32m---> 83\u001b[0m     \u001b[43mrun_test_and_save_results\u001b[49m\u001b[43m(\u001b[49m\u001b[43mdataPath\u001b[49m\u001b[43m,\u001b[49m\u001b[43m \u001b[49m\u001b[43mmodelTarget\u001b[49m\u001b[43m,\u001b[49m\u001b[43m \u001b[49m\u001b[43mmodelDict\u001b[49m\u001b[43m[\u001b[49m\u001b[43mmodelBackbone\u001b[49m\u001b[43m]\u001b[49m\u001b[43m,\u001b[49m\u001b[43m \u001b[49m\u001b[43mmodelPath\u001b[49m\u001b[43m)\u001b[49m\n",
      "File \u001b[0;32m/Volumes/PortableSSD/MasterProj/Model_Creation/TraitPredictionModel/modelFunc.py:711\u001b[0m, in \u001b[0;36mrun_test_and_save_results\u001b[0;34m(dataPath, traitName, modelClass, modelPath, result_csv_path, output_dir, plot_dir)\u001b[0m\n\u001b[1;32m    708\u001b[0m _, _, test_loader \u001b[38;5;241m=\u001b[39m createLoader(\u001b[38;5;241m*\u001b[39mloadSplitData_no_leak(dataPath), traitName)\n\u001b[1;32m    710\u001b[0m \u001b[38;5;66;03m# Run test and generate plot\u001b[39;00m\n\u001b[0;32m--> 711\u001b[0m df_results, r2, mae, rmse \u001b[38;5;241m=\u001b[39m \u001b[43mtest_model_with_scatter_plot_shapeConfidence\u001b[49m\u001b[43m(\u001b[49m\n\u001b[1;32m    712\u001b[0m \u001b[43m    \u001b[49m\u001b[43mmodel\u001b[49m\u001b[38;5;241;43m=\u001b[39;49m\u001b[43mloaded_model\u001b[49m\u001b[43m,\u001b[49m\n\u001b[1;32m    713\u001b[0m \u001b[43m    \u001b[49m\u001b[43mtest_loader\u001b[49m\u001b[38;5;241;43m=\u001b[39;49m\u001b[43mtest_loader\u001b[49m\u001b[43m,\u001b[49m\n\u001b[1;32m    714\u001b[0m \u001b[43m    \u001b[49m\u001b[43mdevice\u001b[49m\u001b[38;5;241;43m=\u001b[39;49m\u001b[43mdevice\u001b[49m\u001b[43m,\u001b[49m\n\u001b[1;32m    715\u001b[0m \u001b[43m    \u001b[49m\u001b[43moutput_csv\u001b[49m\u001b[38;5;241;43m=\u001b[39;49m\u001b[43moutput_csv_path\u001b[49m\u001b[43m,\u001b[49m\n\u001b[1;32m    716\u001b[0m \u001b[43m    \u001b[49m\u001b[43mplot_title\u001b[49m\u001b[38;5;241;43m=\u001b[39;49m\u001b[38;5;124;43mf\u001b[39;49m\u001b[38;5;124;43m\"\u001b[39;49m\u001b[38;5;132;43;01m{\u001b[39;49;00m\u001b[43mtraitName\u001b[49m\u001b[38;5;132;43;01m}\u001b[39;49;00m\u001b[38;5;124;43m: Predicted vs True\u001b[39;49m\u001b[38;5;124;43m\"\u001b[39;49m\u001b[43m,\u001b[49m\n\u001b[1;32m    717\u001b[0m \u001b[43m    \u001b[49m\u001b[43msave_path\u001b[49m\u001b[38;5;241;43m=\u001b[39;49m\u001b[43mplot_path\u001b[49m\n\u001b[1;32m    718\u001b[0m \u001b[43m\u001b[49m\u001b[43m)\u001b[49m\n\u001b[1;32m    721\u001b[0m \u001b[38;5;66;03m# Prepare row for log\u001b[39;00m\n\u001b[1;32m    722\u001b[0m result_row \u001b[38;5;241m=\u001b[39m {\n\u001b[1;32m    723\u001b[0m     \u001b[38;5;124m\"\u001b[39m\u001b[38;5;124mtrait\u001b[39m\u001b[38;5;124m\"\u001b[39m: traitName,\n\u001b[1;32m    724\u001b[0m     \u001b[38;5;124m\"\u001b[39m\u001b[38;5;124mmodel\u001b[39m\u001b[38;5;124m\"\u001b[39m: model_name,\n\u001b[0;32m   (...)\u001b[0m\n\u001b[1;32m    731\u001b[0m     \u001b[38;5;124m\"\u001b[39m\u001b[38;5;124mprediction_csv\u001b[39m\u001b[38;5;124m\"\u001b[39m: output_csv_path\n\u001b[1;32m    732\u001b[0m }\n",
      "File \u001b[0;32m/Volumes/PortableSSD/MasterProj/Model_Creation/TraitPredictionModel/modelFunc.py:295\u001b[0m, in \u001b[0;36mtest_model_with_scatter_plot_shapeConfidence\u001b[0;34m(model, test_loader, device, output_csv, plot_title, save_path)\u001b[0m\n\u001b[1;32m    292\u001b[0m preds, stds, targets, RGBpaths \u001b[38;5;241m=\u001b[39m [], [], [], []\n\u001b[1;32m    294\u001b[0m \u001b[38;5;28;01mwith\u001b[39;00m torch\u001b[38;5;241m.\u001b[39mno_grad():\n\u001b[0;32m--> 295\u001b[0m     \u001b[38;5;28;01mfor\u001b[39;00m rgb_batch, dsm_batch, label_batch, RGBpaths_batch \u001b[38;5;129;01min\u001b[39;00m tqdm(test_loader, desc\u001b[38;5;241m=\u001b[39m\u001b[38;5;124m\"\u001b[39m\u001b[38;5;124mTesting\u001b[39m\u001b[38;5;124m\"\u001b[39m):\n\u001b[1;32m    296\u001b[0m         rgb_batch \u001b[38;5;241m=\u001b[39m rgb_batch\u001b[38;5;241m.\u001b[39mto(device)\n\u001b[1;32m    297\u001b[0m         dsm_batch \u001b[38;5;241m=\u001b[39m dsm_batch\u001b[38;5;241m.\u001b[39mto(device)\n",
      "File \u001b[0;32m~/.pyenv/versions/3.10.10/lib/python3.10/site-packages/tqdm/std.py:1181\u001b[0m, in \u001b[0;36mtqdm.__iter__\u001b[0;34m(self)\u001b[0m\n\u001b[1;32m   1178\u001b[0m time \u001b[38;5;241m=\u001b[39m \u001b[38;5;28mself\u001b[39m\u001b[38;5;241m.\u001b[39m_time\n\u001b[1;32m   1180\u001b[0m \u001b[38;5;28;01mtry\u001b[39;00m:\n\u001b[0;32m-> 1181\u001b[0m     \u001b[38;5;28;01mfor\u001b[39;00m obj \u001b[38;5;129;01min\u001b[39;00m iterable:\n\u001b[1;32m   1182\u001b[0m         \u001b[38;5;28;01myield\u001b[39;00m obj\n\u001b[1;32m   1183\u001b[0m         \u001b[38;5;66;03m# Update and possibly print the progressbar.\u001b[39;00m\n\u001b[1;32m   1184\u001b[0m         \u001b[38;5;66;03m# Note: does not call self.update(1) for speed optimisation.\u001b[39;00m\n",
      "File \u001b[0;32m~/.pyenv/versions/3.10.10/lib/python3.10/site-packages/torch/utils/data/dataloader.py:708\u001b[0m, in \u001b[0;36m_BaseDataLoaderIter.__next__\u001b[0;34m(self)\u001b[0m\n\u001b[1;32m    705\u001b[0m \u001b[38;5;28;01mif\u001b[39;00m \u001b[38;5;28mself\u001b[39m\u001b[38;5;241m.\u001b[39m_sampler_iter \u001b[38;5;129;01mis\u001b[39;00m \u001b[38;5;28;01mNone\u001b[39;00m:\n\u001b[1;32m    706\u001b[0m     \u001b[38;5;66;03m# TODO(https://github.com/pytorch/pytorch/issues/76750)\u001b[39;00m\n\u001b[1;32m    707\u001b[0m     \u001b[38;5;28mself\u001b[39m\u001b[38;5;241m.\u001b[39m_reset()  \u001b[38;5;66;03m# type: ignore[call-arg]\u001b[39;00m\n\u001b[0;32m--> 708\u001b[0m data \u001b[38;5;241m=\u001b[39m \u001b[38;5;28;43mself\u001b[39;49m\u001b[38;5;241;43m.\u001b[39;49m\u001b[43m_next_data\u001b[49m\u001b[43m(\u001b[49m\u001b[43m)\u001b[49m\n\u001b[1;32m    709\u001b[0m \u001b[38;5;28mself\u001b[39m\u001b[38;5;241m.\u001b[39m_num_yielded \u001b[38;5;241m+\u001b[39m\u001b[38;5;241m=\u001b[39m \u001b[38;5;241m1\u001b[39m\n\u001b[1;32m    710\u001b[0m \u001b[38;5;28;01mif\u001b[39;00m (\n\u001b[1;32m    711\u001b[0m     \u001b[38;5;28mself\u001b[39m\u001b[38;5;241m.\u001b[39m_dataset_kind \u001b[38;5;241m==\u001b[39m _DatasetKind\u001b[38;5;241m.\u001b[39mIterable\n\u001b[1;32m    712\u001b[0m     \u001b[38;5;129;01mand\u001b[39;00m \u001b[38;5;28mself\u001b[39m\u001b[38;5;241m.\u001b[39m_IterableDataset_len_called \u001b[38;5;129;01mis\u001b[39;00m \u001b[38;5;129;01mnot\u001b[39;00m \u001b[38;5;28;01mNone\u001b[39;00m\n\u001b[1;32m    713\u001b[0m     \u001b[38;5;129;01mand\u001b[39;00m \u001b[38;5;28mself\u001b[39m\u001b[38;5;241m.\u001b[39m_num_yielded \u001b[38;5;241m>\u001b[39m \u001b[38;5;28mself\u001b[39m\u001b[38;5;241m.\u001b[39m_IterableDataset_len_called\n\u001b[1;32m    714\u001b[0m ):\n",
      "File \u001b[0;32m~/.pyenv/versions/3.10.10/lib/python3.10/site-packages/torch/utils/data/dataloader.py:1480\u001b[0m, in \u001b[0;36m_MultiProcessingDataLoaderIter._next_data\u001b[0;34m(self)\u001b[0m\n\u001b[1;32m   1478\u001b[0m \u001b[38;5;28;01mdel\u001b[39;00m \u001b[38;5;28mself\u001b[39m\u001b[38;5;241m.\u001b[39m_task_info[idx]\n\u001b[1;32m   1479\u001b[0m \u001b[38;5;28mself\u001b[39m\u001b[38;5;241m.\u001b[39m_rcvd_idx \u001b[38;5;241m+\u001b[39m\u001b[38;5;241m=\u001b[39m \u001b[38;5;241m1\u001b[39m\n\u001b[0;32m-> 1480\u001b[0m \u001b[38;5;28;01mreturn\u001b[39;00m \u001b[38;5;28;43mself\u001b[39;49m\u001b[38;5;241;43m.\u001b[39;49m\u001b[43m_process_data\u001b[49m\u001b[43m(\u001b[49m\u001b[43mdata\u001b[49m\u001b[43m)\u001b[49m\n",
      "File \u001b[0;32m~/.pyenv/versions/3.10.10/lib/python3.10/site-packages/torch/utils/data/dataloader.py:1505\u001b[0m, in \u001b[0;36m_MultiProcessingDataLoaderIter._process_data\u001b[0;34m(self, data)\u001b[0m\n\u001b[1;32m   1503\u001b[0m \u001b[38;5;28mself\u001b[39m\u001b[38;5;241m.\u001b[39m_try_put_index()\n\u001b[1;32m   1504\u001b[0m \u001b[38;5;28;01mif\u001b[39;00m \u001b[38;5;28misinstance\u001b[39m(data, ExceptionWrapper):\n\u001b[0;32m-> 1505\u001b[0m     \u001b[43mdata\u001b[49m\u001b[38;5;241;43m.\u001b[39;49m\u001b[43mreraise\u001b[49m\u001b[43m(\u001b[49m\u001b[43m)\u001b[49m\n\u001b[1;32m   1506\u001b[0m \u001b[38;5;28;01mreturn\u001b[39;00m data\n",
      "File \u001b[0;32m~/.pyenv/versions/3.10.10/lib/python3.10/site-packages/torch/_utils.py:733\u001b[0m, in \u001b[0;36mExceptionWrapper.reraise\u001b[0;34m(self)\u001b[0m\n\u001b[1;32m    729\u001b[0m \u001b[38;5;28;01mexcept\u001b[39;00m \u001b[38;5;167;01mTypeError\u001b[39;00m:\n\u001b[1;32m    730\u001b[0m     \u001b[38;5;66;03m# If the exception takes multiple arguments, don't try to\u001b[39;00m\n\u001b[1;32m    731\u001b[0m     \u001b[38;5;66;03m# instantiate since we don't know how to\u001b[39;00m\n\u001b[1;32m    732\u001b[0m     \u001b[38;5;28;01mraise\u001b[39;00m \u001b[38;5;167;01mRuntimeError\u001b[39;00m(msg) \u001b[38;5;28;01mfrom\u001b[39;00m \u001b[38;5;28;01mNone\u001b[39;00m\n\u001b[0;32m--> 733\u001b[0m \u001b[38;5;28;01mraise\u001b[39;00m exception\n",
      "\u001b[0;31mFileNotFoundError\u001b[0m: Caught FileNotFoundError in DataLoader worker process 0.\nOriginal Traceback (most recent call last):\n  File \"/Users/ice/.pyenv/versions/3.10.10/lib/python3.10/site-packages/torch/utils/data/_utils/worker.py\", line 349, in _worker_loop\n    data = fetcher.fetch(index)  # type: ignore[possibly-undefined]\n  File \"/Users/ice/.pyenv/versions/3.10.10/lib/python3.10/site-packages/torch/utils/data/_utils/fetch.py\", line 52, in fetch\n    data = [self.dataset[idx] for idx in possibly_batched_index]\n  File \"/Users/ice/.pyenv/versions/3.10.10/lib/python3.10/site-packages/torch/utils/data/_utils/fetch.py\", line 52, in <listcomp>\n    data = [self.dataset[idx] for idx in possibly_batched_index]\n  File \"/Volumes/PortableSSD/MasterProj/Model_Creation/TraitPredictionModel/dataClass.py\", line 34, in __getitem__\n    rgb = resize_rgb_return_array(rgb_path, target_size=(512, 256)) / 255.0\n  File \"/Volumes/PortableSSD/MasterProj/Model_Creation/TraitPredictionModel/rgbdsmAlignment.py\", line 222, in resize_rgb_return_array\n    img = Image.open(input_path).convert(\"RGB\")\n  File \"/Users/ice/.pyenv/versions/3.10.10/lib/python3.10/site-packages/PIL/Image.py\", line 3469, in open\n    fp = builtins.open(filename, \"rb\")\nFileNotFoundError: [Errno 2] No such file or directory: '/Volumes/PortableSSD/MasterProj/Model_Creation/TraitPredictionModel/H:/dataForProcess/mainData/RGB/RGB_202404251118/RGB_202404251118_21/Augmented/RGB_202404251118_21_original_enhanced_original.jpg'\n"
     ]
    }
   ],
   "source": [
    "def checkIfWeeklyData(target, extraInpList):\n",
    "    weeklyData = [\"Height\", \"LAI\", \"SPAD\", \"leafWidth\", \"leafLength\"]\n",
    "    if(target in weeklyData):\n",
    "        for input in extraInpList:\n",
    "            if(input in weeklyData):\n",
    "                return True\n",
    "        return True\n",
    "    return False\n",
    "\n",
    "def checkIfResultData(target):\n",
    "    resultData =['totEarWeight','totEarNum','avgEarSize',\n",
    "                 '20StrawWeightBeforeDry','20StrawWeightAfterDry',\n",
    "                 'totalSeedNum','totalSeedWeightBeforeDry','totalSeedWeightAfterDry']\n",
    "    if(target in resultData):\n",
    "        return True\n",
    "    return False\n",
    "\n",
    "def checkIfhasExtra(name):\n",
    "    extraInpList = []\n",
    "    for compo in name.split(\"_\"):\n",
    "        if(compo[:5] == \"extra\"):\n",
    "            extraInpList = compo.split(\"-\")[1:]\n",
    "            if(extraInpList[-1][-4:]== \".pth\"):\n",
    "                extraInpList[-1] = extraInpList[-1][:-4]\n",
    "\n",
    "    return extraInpList\n",
    "\n",
    "def checkIfRaw1Data(name):\n",
    "    if(name.split(\"_\")[-1].split(\".\")[0] == \"raw1\"):\n",
    "        return True\n",
    "    return False\n",
    "\n",
    "modelFilePath = \"./allModel/\"\n",
    "\n",
    "bb = []\n",
    "for fullModelName in sorted(os.listdir(modelFilePath)):\n",
    "    if( fullModelName == \".gitkeep\" ):\n",
    "        continue\n",
    "    isExtra = False\n",
    "    modelPath = modelFilePath + fullModelName\n",
    "    modelTarget = fullModelName.split(\"_\")[0]\n",
    "    modelBackbone = fullModelName.split(\"_\")[1].split('.')[0]\n",
    "\n",
    "    if(modelTarget == \"days\"):\n",
    "        dayData = fullModelName.split(\"_\")[-1].split(\".\")[0]\n",
    "        if( dayData == \"noERR\" ):\n",
    "            datafile = \"dayData_raw1_augment6_noErrDateAll.csv\"\n",
    "        elif( dayData == \"from3\" ):\n",
    "            datafile = \"dayData_raw1_augment6_noErrDateFrom3.csv\"\n",
    "        elif( dayData == \"from4\" ):\n",
    "            datafile = \"dayData_raw1_augment6_noErrDateFrom4.csv\"\n",
    "        dataPath = \"./allTestLabel/\" + datafile\n",
    "\n",
    "        print(\"modelPath: \", modelPath)\n",
    "        print(\"dataPath: \", dataPath)\n",
    "        print(\"modelTarget: \", modelTarget)\n",
    "        print(\"modelBackbone: \", modelBackbone)\n",
    "        run_test_and_save_results(dataPath, modelTarget, modelDict[modelBackbone], modelPath)\n",
    "        continue\n",
    "\n",
    "    extraInpList = checkIfhasExtra(fullModelName)\n",
    "    isWeeklyData = checkIfWeeklyData(modelTarget, extraInpList)\n",
    "    isRaw1Data = checkIfRaw1Data(fullModelName)\n",
    "\n",
    "    if(isWeeklyData and isRaw1Data):\n",
    "        datafile = \"allWeeklyData_raw1_day13.csv\"\n",
    "    elif(isWeeklyData and not isRaw1Data):\n",
    "        datafile = \"allWeeklyData_raw3_day13.csv\"\n",
    "    elif(not isWeeklyData and isRaw1Data):\n",
    "        datafile = \"allResultData_raw1_day13.csv\"\n",
    "    else:\n",
    "        datafile = \"allResultData_raw3_day13.csv\"\n",
    "    dataPath = \"./allTestLabel/\" + datafile\n",
    "\n",
    "    print(\"modelPath: \", modelPath)\n",
    "    print(\"dataPath: \", dataPath)\n",
    "    print(\"modelTarget: \", modelTarget)\n",
    "    print(\"modelBackbone: \", modelBackbone)\n",
    "    if(extraInpList!=[]):\n",
    "        print(\"extraInput: \", extraInpList)\n",
    "        run_test_and_save_results_with_extra_input(dataPath, modelTarget, modelDict[modelBackbone], modelPath, extraInpList)\n",
    "    else:\n",
    "        run_test_and_save_results(dataPath, modelTarget, modelDict[modelBackbone], modelPath)"
   ]
  },
  {
   "cell_type": "code",
   "execution_count": null,
   "id": "90088cc9",
   "metadata": {},
   "outputs": [],
   "source": []
  }
 ],
 "metadata": {
  "kernelspec": {
   "display_name": "Python 3",
   "language": "python",
   "name": "python3"
  },
  "language_info": {
   "codemirror_mode": {
    "name": "ipython",
    "version": 3
   },
   "file_extension": ".py",
   "mimetype": "text/x-python",
   "name": "python",
   "nbconvert_exporter": "python",
   "pygments_lexer": "ipython3",
   "version": "3.10.10"
  }
 },
 "nbformat": 4,
 "nbformat_minor": 5
}
