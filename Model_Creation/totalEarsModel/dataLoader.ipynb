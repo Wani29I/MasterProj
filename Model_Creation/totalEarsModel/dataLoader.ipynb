{
 "cells": [
  {
   "cell_type": "code",
   "execution_count": 5,
   "metadata": {},
   "outputs": [
    {
     "name": "stdout",
     "output_type": "stream",
     "text": [
      "                                                     rgb  \\\n",
      "0      /RGB/RGB_202404251118/RGB_202404251118_1/Augme...   \n",
      "1      /RGB/RGB_202404251118/RGB_202404251118_1/Augme...   \n",
      "2      /RGB/RGB_202404251118/RGB_202404251118_1/Augme...   \n",
      "3      /RGB/RGB_202404251118/RGB_202404251118_1/Augme...   \n",
      "4      /RGB/RGB_202404251118/RGB_202404251118_1/Augme...   \n",
      "...                                                  ...   \n",
      "59795  /RGB/RGB_202406171112/RGB_202406171112_99/Augm...   \n",
      "59796  /RGB/RGB_202406171112/RGB_202406171112_99/Augm...   \n",
      "59797  /RGB/RGB_202406171112/RGB_202406171112_99/Augm...   \n",
      "59798  /RGB/RGB_202406171112/RGB_202406171112_99/Augm...   \n",
      "59799  /RGB/RGB_202406171112/RGB_202406171112_99/Augm...   \n",
      "\n",
      "                                                     dsm  totWheatEars  \n",
      "0      /DSM/DSM_202404251118/DSM_202404251118_1/Augme...           301  \n",
      "1      /DSM/DSM_202404251118/DSM_202404251118_1/DSM_2...           301  \n",
      "2      /DSM/DSM_202404251118/DSM_202404251118_1/Augme...           301  \n",
      "3      /DSM/DSM_202404251118/DSM_202404251118_1/DSM_2...           301  \n",
      "4      /DSM/DSM_202404251118/DSM_202404251118_1/Augme...           301  \n",
      "...                                                  ...           ...  \n",
      "59795  /DSM/DSM_202406171112/DSM_202406171112_99/DSM_...           580  \n",
      "59796  /DSM/DSM_202406171112/DSM_202406171112_99/DSM_...           580  \n",
      "59797  /DSM/DSM_202406171112/DSM_202406171112_99/DSM_...           580  \n",
      "59798  /DSM/DSM_202406171112/DSM_202406171112_99/Augm...           580  \n",
      "59799  /DSM/DSM_202406171112/DSM_202406171112_99/Augm...           580  \n",
      "\n",
      "[59800 rows x 3 columns]\n",
      "RGB batch shape: torch.Size([16, 3, 256, 512])\n",
      "DSM batch shape: torch.Size([16, 1, 256, 512])\n",
      "Label batch shape: torch.Size([16, 1])\n"
     ]
    }
   ],
   "source": [
    "import pandas as pd\n",
    "from torch.utils.data import DataLoader\n",
    "from dataClass import WheatEarDataset\n",
    "\n",
    "if __name__ == '__main__':\n",
    "    # Load CSV file\n",
    "    rawData = pd.read_csv('RGB_DSM_totEarNum.csv')\n",
    "\n",
    "    # Create Dataset\n",
    "    dataset = WheatEarDataset(rawData)\n",
    "\n",
    "    # Create DataLoader\n",
    "    dataloader = DataLoader(dataset, batch_size=16, shuffle=True, num_workers=4)\n",
    "\n",
    "    print(rawData)\n",
    "\n",
    "    # Test DataLoader\n",
    "    for rgb_batch, dsm_batch, label_batch in dataloader:\n",
    "        print(\"RGB batch shape:\", rgb_batch.shape)  # (B, 3, 256, 512)\n",
    "        print(\"DSM batch shape:\", dsm_batch.shape)  # (B, 1, 256, 512)\n",
    "        print(\"Label batch shape:\", label_batch.shape)  # (B, 1)\n",
    "        break\n"
   ]
  },
  {
   "cell_type": "code",
   "execution_count": null,
   "metadata": {},
   "outputs": [
    {
     "data": {
      "text/plain": [
       "'totWheatEars'"
      ]
     },
     "execution_count": 8,
     "metadata": {},
     "output_type": "execute_result"
    }
   ],
   "source": []
  },
  {
   "cell_type": "code",
   "execution_count": null,
   "metadata": {},
   "outputs": [],
   "source": []
  }
 ],
 "metadata": {
  "kernelspec": {
   "display_name": "Python 3",
   "language": "python",
   "name": "python3"
  },
  "language_info": {
   "codemirror_mode": {
    "name": "ipython",
    "version": 3
   },
   "file_extension": ".py",
   "mimetype": "text/x-python",
   "name": "python",
   "nbconvert_exporter": "python",
   "pygments_lexer": "ipython3",
   "version": "3.10.10"
  }
 },
 "nbformat": 4,
 "nbformat_minor": 2
}
