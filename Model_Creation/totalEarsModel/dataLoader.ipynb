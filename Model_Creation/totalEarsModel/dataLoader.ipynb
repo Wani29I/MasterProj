{
 "cells": [
  {
   "cell_type": "code",
   "execution_count": 2,
   "metadata": {},
   "outputs": [
    {
     "name": "stdout",
     "output_type": "stream",
     "text": [
      "3738\n",
      "59800\n"
     ]
    },
    {
     "name": "stderr",
     "output_type": "stream",
     "text": [
      "/Users/ice/.pyenv/versions/3.10.10/lib/python3.10/site-packages/albumentations/check_version.py:107: UserWarning: Error fetching version info <urlopen error timed out>\n",
      "  data = fetch_version_info()\n",
      "/Users/ice/.pyenv/versions/3.10.10/lib/python3.10/site-packages/albumentations/check_version.py:107: UserWarning: Error fetching version info <urlopen error timed out>\n",
      "  data = fetch_version_info()\n"
     ]
    },
    {
     "name": "stdout",
     "output_type": "stream",
     "text": [
      "RGB batch shape: torch.Size([16, 3, 256, 512])\n",
      "DSM batch shape: torch.Size([16, 1, 256, 512])\n",
      "Label batch shape: torch.Size([16, 1])\n"
     ]
    }
   ],
   "source": [
    "import pandas as pd\n",
    "from torch.utils.data import DataLoader\n",
    "from dataClass import WheatEarDataset\n",
    "\n",
    "if __name__ == '__main__':\n",
    "    # Load CSV file\n",
    "    rawData = pd.read_csv('RGB_DSM_totEarNum.csv')\n",
    "\n",
    "    # Create Dataset\n",
    "    dataset = WheatEarDataset(rawData)\n",
    "\n",
    "    # Create DataLoader\n",
    "    dataloader = DataLoader(dataset, batch_size=16, shuffle=True, num_workers=4)\n",
    "\n",
    "    print(len(dataloader))\n",
    "    print(len(dataset))\n",
    "\n",
    "    # Test DataLoader\n",
    "    for rgb_batch, dsm_batch, label_batch in dataloader:\n",
    "        print(\"RGB batch shape:\", rgb_batch.shape)  # (B, 3, 256, 512)\n",
    "        print(\"DSM batch shape:\", dsm_batch.shape)  # (B, 1, 256, 512)\n",
    "        print(\"Label batch shape:\", label_batch.shape)  # (B, 1)\n",
    "        break\n"
   ]
  },
  {
   "cell_type": "code",
   "execution_count": null,
   "metadata": {},
   "outputs": [],
   "source": []
  }
 ],
 "metadata": {
  "kernelspec": {
   "display_name": "Python 3",
   "language": "python",
   "name": "python3"
  },
  "language_info": {
   "codemirror_mode": {
    "name": "ipython",
    "version": 3
   },
   "file_extension": ".py",
   "mimetype": "text/x-python",
   "name": "python",
   "nbconvert_exporter": "python",
   "pygments_lexer": "ipython3",
   "version": "3.10.10"
  }
 },
 "nbformat": 4,
 "nbformat_minor": 2
}
