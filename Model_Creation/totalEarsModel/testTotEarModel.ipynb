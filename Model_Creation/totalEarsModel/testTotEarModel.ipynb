{
 "cells": [
  {
   "cell_type": "code",
   "execution_count": 3,
   "metadata": {},
   "outputs": [],
   "source": [
    "import os\n",
    "import sys\n",
    "import torch\n",
    "import numpy as np\n",
    "import matplotlib.pyplot as plt\n",
    "from sklearn.model_selection import train_test_split\n",
    "from sklearn.metrics import mean_squared_error, mean_absolute_error, r2_score\n",
    "\n",
    "# Get current working directory instead of __file__\n",
    "sys.path.append(os.path.abspath(os.path.join(os.getcwd(), \"..\")))\n",
    "from VisionTransformer.VisionTransformerModel import ViTWheatModel\n",
    "from simpleCNN.simpleCNNModel import WheatEarModel\n",
    "from ResNet.ResNetModel import ResNetWheatModel\n",
    "from EfficientNet.efficientNetModel import EfficientNetWheatModel\n",
    "from CoAtNet.CoAtNetModel import CoAtNetWheatModel\n",
    "from dataLoaderFunc import loadSplitData, createLoader\n",
    "from modelTestFunc import evaluate_model, test_model"
   ]
  },
  {
   "cell_type": "code",
   "execution_count": 4,
   "metadata": {},
   "outputs": [
    {
     "name": "stdout",
     "output_type": "stream",
     "text": [
      "Train Size: 47840, Validation Size: 5980, Test Size: 5980\n",
      "Train Batches: 2990, Validation Batches: 374, Test Batches: 374\n",
      "✅ Using device: cuda\n"
     ]
    }
   ],
   "source": [
    "train_df, val_df, test_df = loadSplitData(\"RGB_DSM_totEarNum.csv\")\n",
    "train_loader, val_loader, test_loader = createLoader(train_df, val_df, test_df)\n",
    "\n",
    "if torch.backends.mps.is_available():\n",
    "    device = \"mps\"  # ✅ Use Apple Metal (Mac M1/M2)\n",
    "    torch.set_default_tensor_type(torch.FloatTensor)\n",
    "elif torch.cuda.is_available():\n",
    "    device = \"cuda\"  # ✅ Use NVIDIA CUDA (Windows RTX 4060)\n",
    "else:\n",
    "    device = \"cpu\"  # ✅ Default to CPU if no GPU is available\n",
    "print(f\"✅ Using device: {device}\")"
   ]
  },
  {
   "cell_type": "code",
   "execution_count": null,
   "metadata": {},
   "outputs": [],
   "source": [
    "simpleCNNModel = WheatEarModel()\n",
    "simpleCNNModel.load_state_dict(torch.load(\"Model_Creation/totalEarsModel/simpleCNN/best_wheat_ear_model.pth\"))\n",
    "simpleCNNModel.to(device)\n",
    "simpleCNNModel.eval()\n",
    "evaluate_model(simpleCNNModel, test_loader, device, plot_predictions=True)"
   ]
  },
  {
   "cell_type": "code",
   "execution_count": null,
   "metadata": {},
   "outputs": [],
   "source": [
    "vitModel = ViTWheatModel()\n",
    "vitModel.load_state_dict(torch.load(\"Model_Creation/totalEarsModel/VisionTransformer/vit_wheat_model.pth\"))\n",
    "vitModel.to(device)\n",
    "vitModel.eval()\n",
    "evaluate_model(vitModel, test_loader, device, plot_predictions=True)"
   ]
  },
  {
   "cell_type": "code",
   "execution_count": null,
   "metadata": {},
   "outputs": [],
   "source": [
    "# # Run test\n",
    "# preds, actuals = test_model(model, test_loader)\n",
    "\n",
    "# # Print sample predictions\n",
    "# for p, a in zip(preds[:10], actuals[:10]):\n",
    "#     print(f\"Predicted: {p:.2f}, Actual: {a:.2f}\")\n"
   ]
  }
 ],
 "metadata": {
  "kernelspec": {
   "display_name": "Python 3",
   "language": "python",
   "name": "python3"
  },
  "language_info": {
   "codemirror_mode": {
    "name": "ipython",
    "version": 3
   },
   "file_extension": ".py",
   "mimetype": "text/x-python",
   "name": "python",
   "nbconvert_exporter": "python",
   "pygments_lexer": "ipython3",
   "version": "3.13.2"
  }
 },
 "nbformat": 4,
 "nbformat_minor": 2
}
