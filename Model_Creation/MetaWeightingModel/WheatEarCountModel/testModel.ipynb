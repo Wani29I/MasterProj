{
 "cells": [
  {
   "cell_type": "code",
   "execution_count": 8,
   "metadata": {},
   "outputs": [],
   "source": [
    "import os\n",
    "import sys\n",
    "import torch\n",
    "import numpy as np\n",
    "import matplotlib.pyplot as plt\n",
    "from sklearn.model_selection import train_test_split\n",
    "from sklearn.metrics import mean_squared_error, mean_absolute_error, r2_score\n",
    "\n",
    "# Get current working directory instead of __file__\n",
    "sys.path.append(os.path.abspath(os.path.join(os.getcwd(), \"..\")))\n",
    "from dataLoaderFunc import loadSplitData, createLoader\n",
    "from modelTestFunc import evaluate_model, test_model, new_test_model\n",
    "\n",
    "# model\n",
    "from EfficientNetV2.Model import EfficientNetV2SWheatCountWithConfidence\n",
    "from ConvNeXtTiny.model import ConvNeXtTinyWheatModelWithConfidence\n",
    "from DenseNet.Model import DenseNet121WheatModel\n",
    "from RepVGGA1.Model import RepVGGA1WheatModelWithConfidence"
   ]
  },
  {
   "cell_type": "code",
   "execution_count": 9,
   "metadata": {},
   "outputs": [
    {
     "name": "stdout",
     "output_type": "stream",
     "text": [
      "Train Size: 47840, Validation Size: 5980, Test Size: 5980\n",
      "Train Batches: 2990, Validation Batches: 374, Test Batches: 374\n"
     ]
    }
   ],
   "source": [
    "train_df, val_df, test_df = loadSplitData(\"RGB_DSM_totEarNum.csv\")\n",
    "train_loader, val_loader, test_loader = createLoader(train_df, val_df, test_df)"
   ]
  },
  {
   "cell_type": "code",
   "execution_count": 10,
   "metadata": {},
   "outputs": [
    {
     "name": "stdout",
     "output_type": "stream",
     "text": [
      "✅ Using device: cuda\n"
     ]
    }
   ],
   "source": [
    "if torch.backends.mps.is_available():\n",
    "    device = \"mps\"  # ✅ Use Apple Metal (Mac M1/M2)\n",
    "    torch.set_default_tensor_type(torch.FloatTensor)\n",
    "elif torch.cuda.is_available():\n",
    "    device = \"cuda\"  # ✅ Use NVIDIA CUDA (Windows RTX 4060)\n",
    "else:\n",
    "    device = \"cpu\"  # ✅ Default to CPU if no GPU is available\n",
    "print(f\"✅ Using device: {device}\")"
   ]
  },
  {
   "cell_type": "code",
   "execution_count": 11,
   "metadata": {},
   "outputs": [
    {
     "name": "stderr",
     "output_type": "stream",
     "text": [
      "100%|██████████| 374/374 [02:25<00:00,  2.58it/s]"
     ]
    },
    {
     "name": "stdout",
     "output_type": "stream",
     "text": [
      "\n",
      "📊 Test Results:\n",
      "✅ R² Score : 0.9352\n",
      "✅ MAE      : 18.1851\n",
      "✅ RMSE     : 24.3774\n"
     ]
    },
    {
     "name": "stderr",
     "output_type": "stream",
     "text": [
      "\n"
     ]
    }
   ],
   "source": [
    "EfficientNetV2Model = EfficientNetV2SWheatCountWithConfidence().to(device)\n",
    "EfficientNetV2Model.load_state_dict(torch.load(\"./EfficientNetV2/EffNetV2S_EarCount_Conf_E10.pth\"))\n",
    "EfficientNetV2Model.eval()\n",
    "\n",
    "# Run test\n",
    "df_results, r2, mae, rmse = new_test_model(EfficientNetV2Model, test_loader, device)"
   ]
  },
  {
   "cell_type": "code",
   "execution_count": 12,
   "metadata": {},
   "outputs": [
    {
     "name": "stderr",
     "output_type": "stream",
     "text": [
      "100%|██████████| 374/374 [00:53<00:00,  7.01it/s]"
     ]
    },
    {
     "name": "stdout",
     "output_type": "stream",
     "text": [
      "\n",
      "📊 Test Results:\n",
      "✅ R² Score : 0.5546\n",
      "✅ MAE      : 49.6704\n",
      "✅ RMSE     : 63.9221\n"
     ]
    },
    {
     "name": "stderr",
     "output_type": "stream",
     "text": [
      "\n"
     ]
    }
   ],
   "source": [
    "ConvNeXtTinyModel = ConvNeXtTinyWheatModelWithConfidence().to(device)\n",
    "ConvNeXtTinyModel.load_state_dict(torch.load(\"./ConvNeXtTiny/ConvNeXtTinyLaplaceModel10.pth\"))\n",
    "ConvNeXtTinyModel.eval()\n",
    "\n",
    "# Run test\n",
    "df_results, r2, mae, rmse = new_test_model(ConvNeXtTinyModel, test_loader, device)"
   ]
  },
  {
   "cell_type": "code",
   "execution_count": 13,
   "metadata": {},
   "outputs": [
    {
     "name": "stderr",
     "output_type": "stream",
     "text": [
      "100%|██████████| 374/374 [00:37<00:00,  9.93it/s]"
     ]
    },
    {
     "name": "stdout",
     "output_type": "stream",
     "text": [
      "\n",
      "📊 Test Results:\n",
      "✅ R² Score : 0.9123\n",
      "✅ MAE      : 20.2081\n",
      "✅ RMSE     : 28.3572\n"
     ]
    },
    {
     "name": "stderr",
     "output_type": "stream",
     "text": [
      "\n"
     ]
    }
   ],
   "source": [
    "RepVGGA1Model = RepVGGA1WheatModelWithConfidence().to(device)\n",
    "RepVGGA1Model.load_state_dict(torch.load(\"./RepVGGA1/RepVGGA1LaplaceModel10.pth\"))\n",
    "RepVGGA1Model.eval()\n",
    "\n",
    "# Run test\n",
    "df_results, r2, mae, rmse = new_test_model(RepVGGA1Model, test_loader, device)"
   ]
  },
  {
   "cell_type": "code",
   "execution_count": 14,
   "metadata": {},
   "outputs": [],
   "source": [
    "# DenseNet121Model = DenseNet121WheatModel().to(device)\n",
    "# DenseNet121Model.load_state_dict(torch.load(\"./\"))\n",
    "# DenseNet121Model.eval()\n",
    "\n",
    "# # Run test\n",
    "# df_results, r2, mae, rmse = new_test_model(DenseNet121Model, test_loader, device)"
   ]
  },
  {
   "cell_type": "code",
   "execution_count": null,
   "metadata": {},
   "outputs": [],
   "source": []
  }
 ],
 "metadata": {
  "kernelspec": {
   "display_name": "Python 3",
   "language": "python",
   "name": "python3"
  },
  "language_info": {
   "codemirror_mode": {
    "name": "ipython",
    "version": 3
   },
   "file_extension": ".py",
   "mimetype": "text/x-python",
   "name": "python",
   "nbconvert_exporter": "python",
   "pygments_lexer": "ipython3",
   "version": "3.13.2"
  }
 },
 "nbformat": 4,
 "nbformat_minor": 2
}
