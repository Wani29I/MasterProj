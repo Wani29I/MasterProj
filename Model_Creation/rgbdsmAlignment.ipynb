{
 "cells": [
  {
   "cell_type": "code",
   "execution_count": null,
   "metadata": {},
   "outputs": [],
   "source": [
    "import rasterio\n",
    "from PIL import Image\n",
    "\n",
    "# Check RGB\n",
    "rgb_path = \"your_image.jpg\"\n",
    "rgb = Image.open(rgb_path)\n",
    "rgb_width, rgb_height = rgb.size\n",
    "print(f\"RGB Size: {rgb_width} x {rgb_height}\")\n",
    "\n",
    "# Check DSM\n",
    "dsm_path = \"your_dsm.tif\"\n",
    "with rasterio.open(dsm_path) as dsm:\n",
    "    dsm_width, dsm_height = dsm.width, dsm.height\n",
    "    print(f\"DSM Size: {dsm_width} x {dsm_height}\")\n",
    "\n",
    "# Check if same size\n",
    "if (rgb_width, rgb_height) == (dsm_width, dsm_height):\n",
    "    print(\"✅ RGB and DSM are the same size!\")\n",
    "else:\n",
    "    print(\"❌ RGB and DSM are NOT the same size!\")\n"
   ]
  }
 ],
 "metadata": {
  "kernelspec": {
   "display_name": "Python 3",
   "language": "python",
   "name": "python3"
  },
  "language_info": {
   "name": "python",
   "version": "3.10.10"
  }
 },
 "nbformat": 4,
 "nbformat_minor": 2
}
