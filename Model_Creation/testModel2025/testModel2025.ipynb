{
 "cells": [
  {
   "cell_type": "code",
   "execution_count": null,
   "id": "15bf47be",
   "metadata": {},
   "outputs": [],
   "source": [
    "import os\n",
    "import sys\n",
    "import pprint\n",
    "import inspect\n",
    "# Get current working directory instead of __file__\n",
    "sys.path.append(os.path.abspath(os.path.join(os.getcwd(), \"..\")))\n",
    "trait_model_path = os.path.abspath(os.path.join(os.getcwd(), \"..\", \"TraitPredictionModel\"))\n",
    "sys.path.append(trait_model_path)\n",
    "from modelFunc import setAndTestPlotModel, setAndTestPlotModel_with_extra_input, setAndTestModelByDate, run_test_and_save_results, run_test_and_save_results_with_extra_input\n",
    "# model\n",
    "from ModelArchitecture.ConvNeXtTinyModel import ConvNeXtTinyWheatModelWithConfidence\n",
    "from ModelArchitecture.DenseNetModel import DenseNet121WheatModel\n",
    "from ModelArchitecture.EfficientNetV2Model import EfficientNetV2SWheatCountWithConfidence\n",
    "from ModelArchitecture.RepVGGA1Model import RepVGGA1WheatModelWithConfidence\n",
    "from ModelArchitecture.EfficientNetV2MModel import EfficientNetV2MWheatModelWithConfidence\n",
    "from ModelArchitecture.RepVGGB1g4Model import RepVGGB1g4Model\n",
    "from ModelArchitecture.RegNetY8GFModel import RegNetY8GFModel\n",
    "from ModelArchitecture.MobileViTV2Model import MobileViTV2WheatModel\n",
    "from ModelArchitecture.MobileViTV2AddoneextrainputModel import MobileViTV2ConfidenceAddoneextrainput, MobileViTV2ConfidenceAddtwoextrainput\n",
    "from ModelArchitecture.ConvNeXtTinyAddoneextrainputModel import ConvNeXtTinyConfidenceAddoneextrainput, ConvNeXtTinyConfidenceAddtwoextrainput\n",
    "from ModelArchitecture.EfficientNetV2SAddextrainputModel import EfficientNetV2SConfidenceAddoneextrainput, EfficientNetV2SConfidenceAdd2Inputs\n",
    "from ModelArchitecture.DenseNetAddextrainputModel import DenseNetConfidenceAddoneextrainput, DenseNetConfidenceAdd2Inputs\n",
    "from ModelArchitecture.RepVGGA1AddextrainputModel import RepVGGA1ConfidenceAddoneextrainput, RepVGGA1ConfidenceAdd2Inputs\n",
    "from ModelArchitecture.EfficientNetV2MAddextrainputModel import EfficientNetV2MConfidenceAddeonextrainput, EfficientNetV2MConfidenceAdd2Inputs\n",
    "from ModelArchitecture.RegNetY8GFAddextrainputModel import RegNetY8GFConfidenceAddoneextrainput, RegNetYConfidenceAdd2Inputs\n",
    "from ModelArchitecture.MobileOneModel import MobileOneConfidence, MobileOneConfidenceAddoneextrainput, MobileOneConfidenceAddtwoextrainput\n",
    "from ModelArchitecture.MaxViTModel import MaxViTConfidenceModel, MaxViTConfidenceAddoneextrainput, MaxViTConfidenceAddtwoextrainput\n",
    "from ModelArchitecture.CoatNetModel import CoAtNetConfidenceModel, CoAtNetConfidenceAddOneExtraInput, CoAtNetConfidenceAddTwoExtraInput\n",
    "from ModelArchitecture.FocalNetModel import FocalNetConfidenceModel, FocalNetConfidenceAddoneextrainput, FocalNetConfidenceAddtwoextrainput\n",
    "from ModelArchitecture.SwinTransformerV2Model import SwinV2ConfidenceModel, SwinV2ConfidenceAddOneExtraInput, SwinV2ConfidenceAddTwoExtraInput\n",
    "from ModelArchitecture.EfficientFormerV2Model import EfficientFormerConfidenceModel, EfficientFormerConfidenceAddOneExtraInput, EfficientFormerConfidenceAddTwoExtraInput\n",
    "from ModelArchitecture.PoolFormerModel import PoolFormerConfidenceModel, PoolFormerConfidenceAddOneExtraInput, PoolFormerConfidenceAddTwoExtraInput\n",
    "from ModelArchitecture.ConvNeXtV2Model import ConvNeXtV2WheatModelWithConfidence, ConvNeXtV2ConfidenceAddoneextrainput, ConvNeXtV2ConfidenceAddtwoextrainput"
   ]
  },
  {
   "cell_type": "code",
   "execution_count": null,
   "id": "057f0dbe",
   "metadata": {},
   "outputs": [],
   "source": [
    "current2025Data = ['totEarNum', 'days', 'LAI', 'SPAD']\n",
    "\n",
    "# run_test_and_save_results_with_extra_input(dataPath, modelTarget, modelDict[modelBackbone], modelPath, extraInpList)\n",
    "# run_test_and_save_results(dataPath, modelTarget, modelDict[modelBackbone], modelPath)"
   ]
  },
  {
   "cell_type": "code",
   "execution_count": null,
   "id": "c8e6e2d9",
   "metadata": {},
   "outputs": [],
   "source": [
    "def get_imported_class_dict():\n",
    "    current_module = sys.modules[__name__]\n",
    "    return {\n",
    "        name: obj\n",
    "        for name, obj in globals().items()\n",
    "        if inspect.isclass(obj) and obj.__module__ != current_module.__name__\n",
    "    }\n",
    "modelDict = get_imported_class_dict()\n",
    "\n",
    "def loopTestModelNoExtraByPath(modelFilePath):\n",
    "    for fullModelName in sorted(os.listdir(modelFilePath)):\n",
    "\n",
    "        # check if not .gitkeep file\n",
    "        if( fullModelName == \".gitkeep\" or fullModelName[0] == '.' ):\n",
    "            continue\n",
    "\n",
    "        modelPath = modelFilePath + fullModelName\n",
    "\n",
    "        modelTarget = (fullModelName.split(\"_\")[0])\n",
    "        if( modelTarget not in current2025Data ):\n",
    "            continue\n",
    "\n",
    "        if(modelTarget == 'LAI'):\n",
    "            dataPath = \"./2025_LAI_Raw1.csv\"\n",
    "        elif(modelTarget == 'SPAD'):\n",
    "            dataPath = \"./2025_SPAD_Raw1.csv\"\n",
    "        else:\n",
    "            dataPath = \"./2025_totEarNum_day.csv\"\n",
    "            \n",
    "        modelDict = get_imported_class_dict()\n",
    "        modelBackbone = (fullModelName.split(\"_\")[1])\n",
    "\n",
    "        print(\"modelPath: \", modelPath)\n",
    "        print(\"dataPath: \", dataPath)\n",
    "        print(\"modelTarget: \", modelTarget)\n",
    "        print(\"modelBackbone: \", modelBackbone)\n",
    "        run_test_and_save_results(dataPath, modelTarget, modelDict[modelBackbone], modelPath, use_all_data_as_test=True)\n",
    "\n",
    "\n",
    "        \n",
    "\n"
   ]
  },
  {
   "cell_type": "code",
   "execution_count": null,
   "id": "58320c8c",
   "metadata": {},
   "outputs": [],
   "source": [
    "loopTestModelNoExtraByPath(\"/Volumes/PortableSSD/MasterProj/Model_Creation/TraitPredictionModel/allModel/\")"
   ]
  }
 ],
 "metadata": {
  "kernelspec": {
   "display_name": "Python 3",
   "language": "python",
   "name": "python3"
  },
  "language_info": {
   "codemirror_mode": {
    "name": "ipython",
    "version": 3
   },
   "file_extension": ".py",
   "mimetype": "text/x-python",
   "name": "python",
   "nbconvert_exporter": "python",
   "pygments_lexer": "ipython3",
   "version": "3.10.10"
  }
 },
 "nbformat": 4,
 "nbformat_minor": 5
}
