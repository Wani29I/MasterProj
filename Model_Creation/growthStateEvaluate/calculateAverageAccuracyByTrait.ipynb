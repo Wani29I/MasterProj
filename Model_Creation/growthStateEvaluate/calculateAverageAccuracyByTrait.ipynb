{
 "cells": [
  {
   "cell_type": "code",
   "execution_count": 20,
   "id": "80529d04",
   "metadata": {},
   "outputs": [],
   "source": [
    "import os\n",
    "import pandas as pd"
   ]
  },
  {
   "cell_type": "code",
   "execution_count": 21,
   "id": "6fa3759d",
   "metadata": {},
   "outputs": [],
   "source": [
    "def loopSeparateAccuracyRegardingDays(predictionPath):\n",
    "    ''' \n",
    "    loop to each prediccted csv\n",
    "    assign each data to dict and return\n",
    "    trait: [[list of accuracy], [], ...]\n",
    "    '''\n",
    "\n",
    "    # loop into each csv file\n",
    "    targetDfDict = {}\n",
    "    for predictionFile in os.listdir(predictionPath):\n",
    "        # check if the file is nused file: start with \".\"\n",
    "        if(predictionFile[0] == '.'):\n",
    "            continue\n",
    "\n",
    "        # create file path\n",
    "        predictionFilePath = os.path.join(predictionPath, predictionFile)\n",
    "\n",
    "        # read the csv file\n",
    "        df = pd.read_csv(predictionFilePath)\n",
    "\n",
    "        target = predictionFile.split('_')[0]\n",
    "        if(target not in [*targetDfDict]):\n",
    "            targetDfDict[target] = []\n",
    "        targetDfDict[target].append(df)\n",
    "\n",
    "\n",
    "    return targetDfDict\n",
    "\n",
    "def calculateAverageAccuracyOfTraits(targetDfDict):\n",
    "    ''' \n",
    "    loop into the dict of list(model) of list(result)\n",
    "    and combine all model result\n",
    "    then calculate the average result\n",
    "    '''\n",
    "    returnDict = {}\n",
    "\n",
    "    for eachTarget in [*targetDfDict]:\n",
    "\n",
    "        # Concatenate all the df of current target\n",
    "        combined_df = pd.concat(targetDfDict[eachTarget], ignore_index=True)\n",
    "\n",
    "        # Group by date and compute the mean of r2_score and avg_predicted_std\n",
    "        avg_df = combined_df.groupby(\"date\").agg({\n",
    "            \"r2_score\": \"mean\",\n",
    "            \"avg_predicted_std\": \"mean\"\n",
    "        }).reset_index()\n",
    "\n",
    "        returnDict[eachTarget] = avg_df\n",
    "\n",
    "    return returnDict\n",
    "\n",
    "def saveAverageResultDict(averageResultDict, savePath = \"./growthPredictions/averageResultByDays.csv\"):\n",
    "    # Assuming your dictionary is called `results_dict`\n",
    "    combined_rows = []\n",
    "\n",
    "    for target_name, df in averageResultDict.items():\n",
    "        temp_df = df.copy()\n",
    "        temp_df.insert(0, \"target\", target_name)  # Insert 'target' as the first column\n",
    "        combined_rows.append(temp_df)\n",
    "\n",
    "    # Concatenate all into a single DataFrame\n",
    "    final_df = pd.concat(combined_rows, ignore_index=True)\n",
    "\n",
    "    # Save to CSV\n",
    "    final_df.to_csv(savePath, index=False)\n"
   ]
  },
  {
   "cell_type": "code",
   "execution_count": null,
   "id": "c2a0d840",
   "metadata": {},
   "outputs": [],
   "source": [
    "resultByDatePath = \"./growthPredictions/resultByDate2025\"\n",
    "targetDfDict = loopSeparateAccuracyRegardingDays(resultByDatePath)"
   ]
  },
  {
   "cell_type": "code",
   "execution_count": null,
   "id": "382be1b6",
   "metadata": {},
   "outputs": [],
   "source": [
    "averageResultDict = calculateAverageAccuracyOfTraits(targetDfDict)\n",
    "saveAverageResultDict(averageResultDict, savePath = \"./growthPredictions/averageResultByDays2025.csv\")"
   ]
  },
  {
   "cell_type": "code",
   "execution_count": null,
   "id": "c3700a46",
   "metadata": {},
   "outputs": [],
   "source": []
  }
 ],
 "metadata": {
  "kernelspec": {
   "display_name": "Python 3",
   "language": "python",
   "name": "python3"
  },
  "language_info": {
   "codemirror_mode": {
    "name": "ipython",
    "version": 3
   },
   "file_extension": ".py",
   "mimetype": "text/x-python",
   "name": "python",
   "nbconvert_exporter": "python",
   "pygments_lexer": "ipython3",
   "version": "3.10.10"
  }
 },
 "nbformat": 4,
 "nbformat_minor": 5
}
