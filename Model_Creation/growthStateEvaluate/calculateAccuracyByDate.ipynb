{
 "cells": [
  {
   "cell_type": "code",
   "execution_count": 16,
   "id": "a323a349",
   "metadata": {},
   "outputs": [],
   "source": [
    "import os\n",
    "import pandas as pd\n",
    "from sklearn.metrics import r2_score"
   ]
  },
  {
   "cell_type": "markdown",
   "id": "5974c9c8",
   "metadata": {},
   "source": []
  },
  {
   "cell_type": "code",
   "execution_count": null,
   "id": "956b8388",
   "metadata": {},
   "outputs": [],
   "source": [
    "growthCheckTargetList = [\"totalSeedWeightAfterDry\", \"totalSeedNum\", \"totEarWeight\", \"totEarNum\", \"SPAD\", \"LAI\", \"Height\", \"20StrawWeightAfterDry\", \"days\"]\n",
    "errorModel = [\"ConvNeXtTinyWheatModelWithConfidence\", \"FocalNetConfidenceModel\"]\n",
    "\n",
    "def calculateAccuracyRegardingDays(predictionFilePath):\n",
    "    ''' \n",
    "    grouping result by date\n",
    "    and calculate each R2 and return the result as df\n",
    "    '''\n",
    "    # read the csv file\n",
    "    df = pd.read_csv(predictionFilePath)\n",
    "\n",
    "    # grouping all data by date from RGB path\n",
    "    df[\"date\"] = df[\"rgb_path\"].apply(lambda x: x.split(\"/\")[-1].split(\"_\")[1][:8])\n",
    "    dataGroupedByDate = df.groupby(\"date\")\n",
    "\n",
    "    # loop and calculate each group R2 and predicted confidence\n",
    "    results = []\n",
    "    for date, group_df in dataGroupedByDate:\n",
    "        r2 = r2_score(group_df[\"true\"], group_df[\"predicted\"])\n",
    "        avg_std = group_df[\"predicted_std\"].mean()\n",
    "        results.append((date, r2, avg_std))    \n",
    "\n",
    "    results_df = pd.DataFrame(results, columns=[\"date\", \"r2_score\", \"avg_predicted_std\"])\n",
    "    return results_df\n",
    "\n",
    "def loopCallCalculateAccuracyRegardingDays(predictionPath, saveFolderPath = \"./growthPredictions/resultByDate/\" ):\n",
    "    ''' \n",
    "    loop to each prediccted csv\n",
    "    get rid of the unused file \n",
    "    call calculate group R2 function\n",
    "    save result to folder\n",
    "    '''\n",
    "    # create output folder\n",
    "    os.makedirs(saveFolderPath, exist_ok=True)\n",
    "\n",
    "    # loop into each csv file\n",
    "    for predictionFile in os.listdir(predictionPath):\n",
    "        # check if the file is nused file: start with \".\", not target data, use error model\n",
    "        if(predictionFile[0] == '.' or predictionFile.split(\"_\")[0] not in growthCheckTargetList or predictionFile.split(\"_\")[1] in errorModel):\n",
    "            continue\n",
    "\n",
    "        # create file path\n",
    "        predictionFilePath = os.path.join(predictionPath, predictionFile)\n",
    "\n",
    "        # call calculate group R2 \n",
    "        # print(predictionFile)\n",
    "        results_df = calculateAccuracyRegardingDays(predictionFilePath)\n",
    "\n",
    "        savePath = saveFolderPath + predictionFile.split('.')[0] + \"_date.csv\"\n",
    "        print(savePath)\n",
    "        results_df.to_csv(savePath, index=False)\n",
    "\n"
   ]
  },
  {
   "cell_type": "code",
   "execution_count": null,
   "id": "55bcf8fa",
   "metadata": {},
   "outputs": [
    {
     "name": "stdout",
     "output_type": "stream",
     "text": [
      "./growthPredictions/resultByDate2025SPAD/SPAD_CoAtNetConfidenceModel_predictions_with_confidence_date.csv\n",
      "./growthPredictions/resultByDate2025SPAD/SPAD_ConvNeXtTinyWheatModelWithConfidence_predictions_with_confidence_date.csv\n",
      "./growthPredictions/resultByDate2025SPAD/SPAD_DenseNet121WheatModel_predictions_with_confidence_date.csv\n",
      "./growthPredictions/resultByDate2025SPAD/SPAD_EfficientFormerConfidenceModel_predictions_with_confidence_date.csv\n",
      "./growthPredictions/resultByDate2025SPAD/SPAD_EfficientNetV2MWheatModelWithConfidence_predictions_with_confidence_date.csv\n",
      "./growthPredictions/resultByDate2025SPAD/SPAD_FocalNetConfidenceModel_predictions_with_confidence_date.csv\n",
      "./growthPredictions/resultByDate2025SPAD/SPAD_MaxViTConfidenceModel_predictions_with_confidence_date.csv\n",
      "./growthPredictions/resultByDate2025SPAD/SPAD_MobileOneConfidence_predictions_with_confidence_date.csv\n",
      "./growthPredictions/resultByDate2025SPAD/SPAD_MobileViTV2WheatModel_predictions_with_confidence_date.csv\n",
      "./growthPredictions/resultByDate2025SPAD/SPAD_PoolFormerConfidenceModel_predictions_with_confidence_date.csv\n",
      "./growthPredictions/resultByDate2025SPAD/SPAD_RegNetY8GFModel_predictions_with_confidence_date.csv\n",
      "./growthPredictions/resultByDate2025SPAD/SPAD_RepVGGB1g4Model_predictions_with_confidence_date.csv\n",
      "./growthPredictions/resultByDate2025SPAD/SPAD_SwinV2ConfidenceModel_predictions_with_confidence_date.csv\n"
     ]
    }
   ],
   "source": [
    "originalPredictionFolderPath = \"./growthPredictions/predictions2025\"\n",
    "loopCallCalculateAccuracyRegardingDays(originalPredictionFolderPath, saveFolderPath = \"./growthPredictions/resultByDate2025/\")"
   ]
  }
 ],
 "metadata": {
  "kernelspec": {
   "display_name": "Python 3",
   "language": "python",
   "name": "python3"
  },
  "language_info": {
   "codemirror_mode": {
    "name": "ipython",
    "version": 3
   },
   "file_extension": ".py",
   "mimetype": "text/x-python",
   "name": "python",
   "nbconvert_exporter": "python",
   "pygments_lexer": "ipython3",
   "version": "3.10.10"
  }
 },
 "nbformat": 4,
 "nbformat_minor": 5
}
