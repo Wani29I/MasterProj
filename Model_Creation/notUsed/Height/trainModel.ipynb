{
 "cells": [
  {
   "cell_type": "code",
   "execution_count": null,
   "id": "2e776c69",
   "metadata": {},
   "outputs": [],
   "source": [
    "import os\n",
    "import sys\n",
    "# Get current working directory instead of __file__\n",
    "sys.path.append(os.path.abspath(os.path.join(os.getcwd(), \"..\")))\n",
    "from ModelArchitecture.ConvNeXtTinyModel import ConvNeXtTinyWheatModelWithConfidence\n",
    "from ModelArchitecture.DenseNetModel import DenseNet121WheatModel\n",
    "from ModelArchitecture.EfficientNetV2MModel import EfficientNetV2MWheatModelWithConfidence\n",
    "from ModelArchitecture.RegNetY8GFModel import RegNetY8GFModel\n",
    "from ModelArchitecture.MobileViTV2Model import MobileViTV2WheatModel\n",
    "\n",
    "from ModelArchitecture.DenseNetAddextrainputModel import DenseNetConfidenceAddoneextrainput\n",
    "from ModelArchitecture.EfficientNetV2MAddextrainputModel import EfficientNetV2MConfidenceAddeonextrainput\n",
    "from ModelArchitecture.RegNetY8GFAddextrainputModel import RegNetY8GFConfidenceAddoneextrainput\n",
    "from ModelArchitecture.MobileViTV2AddoneextrainputModel import MobileViTV2ConfidenceAddoneextrainput\n",
    "from ModelArchitecture.ConvNeXtTinyAddoneextrainputModel import ConvNeXtTinyConfidenceAddoneextrainput\n",
    "from modelFunc import setAndTrainModel, setAndTrainModel_addextrainput\n"
   ]
  },
  {
   "cell_type": "code",
   "execution_count": null,
   "id": "91f435dc",
   "metadata": {},
   "outputs": [],
   "source": [
    "setAndTrainModel(\"DataKey_RGB_DSM_Height.csv\", \"Height\", EfficientNetV2MWheatModelWithConfidence, \"./ResultModelHeight\")\n",
    "setAndTrainModel(\"DataKey_RGB_DSM_Height.csv\", \"Height\", DenseNet121WheatModel, \"./ResultModelHeight\")\n",
    "setAndTrainModel(\"DataKey_RGB_DSM_Height.csv\", \"Height\", RegNetY8GFModel, \"./ResultModelHeight\")\n",
    "setAndTrainModel(\"DataKey_RGB_DSM_Height.csv\", \"Height\", MobileViTV2WheatModel, \"./ResultModelHeight\")\n",
    "setAndTrainModel(\"DataKey_RGB_DSM_Height.csv\", \"Height\", ConvNeXtTinyWheatModelWithConfidence, \"./ResultModelHeight\")"
   ]
  },
  {
   "cell_type": "code",
   "execution_count": null,
   "id": "1c574148",
   "metadata": {},
   "outputs": [],
   "source": []
  }
 ],
 "metadata": {
  "kernelspec": {
   "display_name": "Python 3",
   "language": "python",
   "name": "python3"
  },
  "language_info": {
   "codemirror_mode": {
    "name": "ipython",
    "version": 3
   },
   "file_extension": ".py",
   "mimetype": "text/x-python",
   "name": "python",
   "nbconvert_exporter": "python",
   "pygments_lexer": "ipython3",
   "version": "3.13.2"
  }
 },
 "nbformat": 4,
 "nbformat_minor": 5
}
