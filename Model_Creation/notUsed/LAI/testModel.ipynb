{
 "cells": [
  {
   "cell_type": "code",
   "execution_count": 1,
   "metadata": {},
   "outputs": [
    {
     "name": "stderr",
     "output_type": "stream",
     "text": [
      "c:\\Users\\pacha\\AppData\\Local\\Programs\\Python\\Python313\\Lib\\site-packages\\tqdm\\auto.py:21: TqdmWarning: IProgress not found. Please update jupyter and ipywidgets. See https://ipywidgets.readthedocs.io/en/stable/user_install.html\n",
      "  from .autonotebook import tqdm as notebook_tqdm\n"
     ]
    }
   ],
   "source": [
    "import os\n",
    "import sys\n",
    "# Get current working directory instead of __file__\n",
    "sys.path.append(os.path.abspath(os.path.join(os.getcwd(), \"..\")))\n",
    "from modelFunc import setAndTestModel, setAndTestModel_with_extra_input\n",
    "# model\n",
    "from ModelArchitecture.ConvNeXtTinyModel import ConvNeXtTinyWheatModelWithConfidence\n",
    "from ModelArchitecture.DenseNetModel import DenseNet121WheatModel\n",
    "from ModelArchitecture.EfficientNetV2Model import EfficientNetV2SWheatCountWithConfidence\n",
    "from ModelArchitecture.RepVGGA1Model import RepVGGA1WheatModelWithConfidence\n",
    "from ModelArchitecture.EfficientNetV2MModel import EfficientNetV2MWheatModelWithConfidence\n",
    "from ModelArchitecture.RepVGGB1g4Model import RepVGGB1g4Model\n",
    "from ModelArchitecture.RegNetY8GFModel import RegNetY8GFModel\n",
    "from ModelArchitecture.EfficientNetV2SAddextrainputModel import EfficientNetV2SConfidenceAddoneextrainput, EfficientNetV2SConfidenceAdd2Inputs\n",
    "from ModelArchitecture.DenseNetAddextrainputModel import DenseNetConfidenceAddoneextrainput, DenseNetConfidenceAdd2Inputs\n",
    "from ModelArchitecture.RepVGGA1AddextrainputModel import RepVGGA1ConfidenceAddoneextrainput, RepVGGA1ConfidenceAdd2Inputs\n",
    "from ModelArchitecture.EfficientNetV2MAddextrainputModel import EfficientNetV2MConfidenceAddeonextrainput, EfficientNetV2MConfidenceAdd2Inputs\n",
    "from ModelArchitecture.RegNetY8GFAddextrainputModel import RegNetY8GFConfidenceAddoneextrainput, RegNetYConfidenceAdd2Inputs"
   ]
  },
  {
   "cell_type": "code",
   "execution_count": 6,
   "metadata": {},
   "outputs": [
    {
     "name": "stdout",
     "output_type": "stream",
     "text": [
      "✅ Safe Split → Train: 42840, Val: 5360, Test: 5360\n",
      "Train Batches: 2678, Validation Batches: 335, Test Batches: 335\n",
      "✅ Using device: cuda\n",
      "traitName:  LAI\n",
      "model:  ConvNeXtTinyWheatModelWithConfidence\n"
     ]
    },
    {
     "name": "stderr",
     "output_type": "stream",
     "text": [
      "100%|██████████| 335/335 [01:03<00:00,  5.28it/s]\n"
     ]
    },
    {
     "name": "stdout",
     "output_type": "stream",
     "text": [
      "\n",
      "📊 Test Results:\n",
      "✅ R² Score : 0.4639\n",
      "✅ MAE      : 0.6260\n",
      "✅ RMSE     : 0.8305\n",
      "✅ Safe Split → Train: 42840, Val: 5360, Test: 5360\n",
      "Train Batches: 2678, Validation Batches: 335, Test Batches: 335\n",
      "✅ Using device: cuda\n"
     ]
    },
    {
     "name": "stderr",
     "output_type": "stream",
     "text": [
      "c:\\Users\\pacha\\AppData\\Local\\Programs\\Python\\Python313\\Lib\\site-packages\\torchvision\\models\\_utils.py:208: UserWarning: The parameter 'pretrained' is deprecated since 0.13 and may be removed in the future, please use 'weights' instead.\n",
      "  warnings.warn(\n",
      "c:\\Users\\pacha\\AppData\\Local\\Programs\\Python\\Python313\\Lib\\site-packages\\torchvision\\models\\_utils.py:223: UserWarning: Arguments other than a weight enum or `None` for 'weights' are deprecated since 0.13 and may be removed in the future. The current behavior is equivalent to passing `weights=DenseNet121_Weights.IMAGENET1K_V1`. You can also use `weights=DenseNet121_Weights.DEFAULT` to get the most up-to-date weights.\n",
      "  warnings.warn(msg)\n"
     ]
    },
    {
     "name": "stdout",
     "output_type": "stream",
     "text": [
      "traitName:  LAI\n",
      "model:  DenseNet121WheatModel\n"
     ]
    },
    {
     "name": "stderr",
     "output_type": "stream",
     "text": [
      "100%|██████████| 335/335 [01:05<00:00,  5.12it/s]\n"
     ]
    },
    {
     "name": "stdout",
     "output_type": "stream",
     "text": [
      "\n",
      "📊 Test Results:\n",
      "✅ R² Score : 0.3608\n",
      "✅ MAE      : 0.7139\n",
      "✅ RMSE     : 0.9068\n",
      "✅ Safe Split → Train: 42840, Val: 5360, Test: 5360\n",
      "Train Batches: 2678, Validation Batches: 335, Test Batches: 335\n",
      "✅ Using device: cuda\n",
      "traitName:  LAI\n",
      "model:  EfficientNetV2MWheatModelWithConfidence\n"
     ]
    },
    {
     "name": "stderr",
     "output_type": "stream",
     "text": [
      "100%|██████████| 335/335 [01:07<00:00,  4.95it/s]\n"
     ]
    },
    {
     "name": "stdout",
     "output_type": "stream",
     "text": [
      "\n",
      "📊 Test Results:\n",
      "✅ R² Score : 0.2048\n",
      "✅ MAE      : 0.7966\n",
      "✅ RMSE     : 1.0114\n",
      "✅ Safe Split → Train: 42840, Val: 5360, Test: 5360\n",
      "Train Batches: 2678, Validation Batches: 335, Test Batches: 335\n",
      "✅ Using device: cuda\n",
      "traitName:  LAI\n",
      "model:  EfficientNetV2SWheatCountWithConfidence\n"
     ]
    },
    {
     "name": "stderr",
     "output_type": "stream",
     "text": [
      "100%|██████████| 335/335 [00:47<00:00,  7.03it/s]\n"
     ]
    },
    {
     "name": "stdout",
     "output_type": "stream",
     "text": [
      "\n",
      "📊 Test Results:\n",
      "✅ R² Score : 0.6415\n",
      "✅ MAE      : 0.4801\n",
      "✅ RMSE     : 0.6791\n",
      "✅ Safe Split → Train: 42840, Val: 5360, Test: 5360\n",
      "Train Batches: 2678, Validation Batches: 335, Test Batches: 335\n",
      "✅ Using device: cuda\n",
      "traitName:  LAI\n",
      "model:  RegNetY8GFModel\n"
     ]
    },
    {
     "name": "stderr",
     "output_type": "stream",
     "text": [
      "100%|██████████| 335/335 [01:55<00:00,  2.91it/s]\n"
     ]
    },
    {
     "name": "stdout",
     "output_type": "stream",
     "text": [
      "\n",
      "📊 Test Results:\n",
      "✅ R² Score : 0.2754\n",
      "✅ MAE      : 0.7393\n",
      "✅ RMSE     : 0.9655\n",
      "✅ Safe Split → Train: 42840, Val: 5360, Test: 5360\n",
      "Train Batches: 2678, Validation Batches: 335, Test Batches: 335\n",
      "✅ Using device: cuda\n",
      "traitName:  LAI\n",
      "model:  RepVGGB1g4Model\n"
     ]
    },
    {
     "name": "stderr",
     "output_type": "stream",
     "text": [
      "100%|██████████| 335/335 [01:20<00:00,  4.14it/s]\n"
     ]
    },
    {
     "name": "stdout",
     "output_type": "stream",
     "text": [
      "\n",
      "📊 Test Results:\n",
      "✅ R² Score : 0.2963\n",
      "✅ MAE      : 0.7319\n",
      "✅ RMSE     : 0.9515\n",
      "✅ Safe Split → Train: 42840, Val: 5360, Test: 5360\n",
      "Train Batches: 2678, Validation Batches: 335, Test Batches: 335\n",
      "✅ Using device: cuda\n",
      "traitName:  LAI\n",
      "model:  RepVGGA1WheatModelWithConfidence\n"
     ]
    },
    {
     "name": "stderr",
     "output_type": "stream",
     "text": [
      "100%|██████████| 335/335 [00:41<00:00,  8.14it/s]"
     ]
    },
    {
     "name": "stdout",
     "output_type": "stream",
     "text": [
      "\n",
      "📊 Test Results:\n",
      "✅ R² Score : 0.2284\n",
      "✅ MAE      : 0.7787\n",
      "✅ RMSE     : 0.9963\n"
     ]
    },
    {
     "name": "stderr",
     "output_type": "stream",
     "text": [
      "\n"
     ]
    }
   ],
   "source": [
    "setAndTestModel(\"DataKey_RGB_DSM_LAI.csv\", \"LAI\", ConvNeXtTinyWheatModelWithConfidence, \"./ResultModelLAI/ConvNeXtTinyWheatModelWithConfidence_LAI10.pth\")\n",
    "setAndTestModel(\"DataKey_RGB_DSM_LAI.csv\", \"LAI\", DenseNet121WheatModel, \"./ResultModelLAI/DenseNet121WheatModel_LAI10.pth\")\n",
    "setAndTestModel(\"DataKey_RGB_DSM_LAI.csv\", \"LAI\", EfficientNetV2MWheatModelWithConfidence, \"./ResultModelLAI/EfficientNetV2MWheatModelWithConfidence_LAI10.pth\")\n",
    "setAndTestModel(\"DataKey_RGB_DSM_LAI.csv\", \"LAI\", EfficientNetV2SWheatCountWithConfidence, \"./ResultModelLAI/EfficientNetV2SWheatCountWithConfidence_LAI10.pth\")\n",
    "setAndTestModel(\"DataKey_RGB_DSM_LAI.csv\", \"LAI\", RegNetY8GFModel, \"./ResultModelLAI/RegNetY8GFModel_LAI10.pth\")\n",
    "setAndTestModel(\"DataKey_RGB_DSM_LAI.csv\", \"LAI\", RepVGGB1g4Model, \"./ResultModelLAI/RepVGGB1g4Model_LAI10.pth\")\n",
    "setAndTestModel(\"DataKey_RGB_DSM_LAI.csv\", \"LAI\", RepVGGA1WheatModelWithConfidence, \"./ResultModelLAI/RepVGGA1WheatModelWithConfidence_LAI10.pth\")"
   ]
  },
  {
   "cell_type": "markdown",
   "metadata": {},
   "source": [
    "time"
   ]
  },
  {
   "cell_type": "code",
   "execution_count": 4,
   "metadata": {},
   "outputs": [
    {
     "name": "stdout",
     "output_type": "stream",
     "text": [
      "✅ Safe Split → Train: 42840, Val: 5360, Test: 5360\n",
      "Train Batches: 2678, Validation Batches: 335, Test Batches: 335\n",
      "✅ Using device: cuda\n",
      "traitName:  LAI\n",
      "model:  DenseNetConfidenceAddoneextrainput\n"
     ]
    },
    {
     "name": "stderr",
     "output_type": "stream",
     "text": [
      "100%|██████████| 335/335 [00:49<00:00,  6.80it/s]\n"
     ]
    },
    {
     "name": "stdout",
     "output_type": "stream",
     "text": [
      "\n",
      "📊 Test Results:\n",
      "✅ R² Score : 0.4556\n",
      "✅ MAE      : 0.6449\n",
      "✅ RMSE     : 0.8369\n",
      "✅ Safe Split → Train: 42840, Val: 5360, Test: 5360\n",
      "Train Batches: 2678, Validation Batches: 335, Test Batches: 335\n",
      "✅ Using device: cuda\n",
      "traitName:  LAI\n",
      "model:  EfficientNetV2MConfidenceAddeonextrainput\n"
     ]
    },
    {
     "name": "stderr",
     "output_type": "stream",
     "text": [
      "100%|██████████| 335/335 [01:01<00:00,  5.43it/s]\n"
     ]
    },
    {
     "name": "stdout",
     "output_type": "stream",
     "text": [
      "\n",
      "📊 Test Results:\n",
      "✅ R² Score : 0.5253\n",
      "✅ MAE      : 0.5727\n",
      "✅ RMSE     : 0.7815\n",
      "✅ Safe Split → Train: 42840, Val: 5360, Test: 5360\n",
      "Train Batches: 2678, Validation Batches: 335, Test Batches: 335\n",
      "✅ Using device: cuda\n",
      "traitName:  LAI\n",
      "model:  EfficientNetV2SConfidenceAddoneextrainput\n"
     ]
    },
    {
     "name": "stderr",
     "output_type": "stream",
     "text": [
      "100%|██████████| 335/335 [00:46<00:00,  7.24it/s]\n"
     ]
    },
    {
     "name": "stdout",
     "output_type": "stream",
     "text": [
      "\n",
      "📊 Test Results:\n",
      "✅ R² Score : 0.2676\n",
      "✅ MAE      : 0.7462\n",
      "✅ RMSE     : 0.9707\n",
      "✅ Safe Split → Train: 42840, Val: 5360, Test: 5360\n",
      "Train Batches: 2678, Validation Batches: 335, Test Batches: 335\n",
      "✅ Using device: cuda\n",
      "traitName:  LAI\n",
      "model:  RegNetY8GFConfidenceAddoneextrainput\n"
     ]
    },
    {
     "name": "stderr",
     "output_type": "stream",
     "text": [
      "100%|██████████| 335/335 [02:37<00:00,  2.13it/s]\n"
     ]
    },
    {
     "name": "stdout",
     "output_type": "stream",
     "text": [
      "\n",
      "📊 Test Results:\n",
      "✅ R² Score : 0.1888\n",
      "✅ MAE      : 0.8064\n",
      "✅ RMSE     : 1.0216\n",
      "✅ Safe Split → Train: 42840, Val: 5360, Test: 5360\n",
      "Train Batches: 2678, Validation Batches: 335, Test Batches: 335\n",
      "✅ Using device: cuda\n",
      "traitName:  LAI\n",
      "model:  RepVGGA1ConfidenceAddoneextrainput\n"
     ]
    },
    {
     "name": "stderr",
     "output_type": "stream",
     "text": [
      "100%|██████████| 335/335 [01:05<00:00,  5.11it/s]"
     ]
    },
    {
     "name": "stdout",
     "output_type": "stream",
     "text": [
      "\n",
      "📊 Test Results:\n",
      "✅ R² Score : 0.0455\n",
      "✅ MAE      : 0.8732\n",
      "✅ RMSE     : 1.1081\n"
     ]
    },
    {
     "name": "stderr",
     "output_type": "stream",
     "text": [
      "\n"
     ]
    }
   ],
   "source": [
    "setAndTestModel_with_extra_input(\"DataKey_RGB_DSM_LAI_time.csv\", \"LAI\", DenseNetConfidenceAddoneextrainput, \"./ResultModelLAI/DenseNetConfidenceAddoneextrainput_LAI_extratime10.pth\", \"time\")\n",
    "setAndTestModel_with_extra_input(\"DataKey_RGB_DSM_LAI_time.csv\", \"LAI\", EfficientNetV2MConfidenceAddeonextrainput, \"./ResultModelLAI/EfficientNetV2MConfidenceAddeonextrainput_LAI_extratime10.pth\", \"time\")\n",
    "setAndTestModel_with_extra_input(\"DataKey_RGB_DSM_LAI_time.csv\", \"LAI\", EfficientNetV2SConfidenceAddoneextrainput, \"./ResultModelLAI/EfficientNetV2SConfidenceAddoneextrainput_LAI_extratime10.pth\", \"time\")\n",
    "setAndTestModel_with_extra_input(\"DataKey_RGB_DSM_LAI_time.csv\", \"LAI\", RegNetY8GFConfidenceAddoneextrainput, \"./ResultModelLAI/RegNetY8GFConfidenceAddoneextrainput_LAI_extratime10.pth\", \"time\")\n",
    "setAndTestModel_with_extra_input(\"DataKey_RGB_DSM_LAI_time.csv\", \"LAI\", RepVGGA1ConfidenceAddoneextrainput, \"./ResultModelLAI/RepVGGA1ConfidenceAddoneextrainput_LAI_extratime10.pth\", \"time\")\n"
   ]
  },
  {
   "cell_type": "markdown",
   "metadata": {},
   "source": [
    "earWeight"
   ]
  },
  {
   "cell_type": "code",
   "execution_count": 3,
   "metadata": {},
   "outputs": [
    {
     "name": "stdout",
     "output_type": "stream",
     "text": [
      "✅ Safe Split → Train: 42840, Val: 5360, Test: 5360\n",
      "Train Batches: 2678, Validation Batches: 335, Test Batches: 335\n",
      "✅ Using device: cuda\n",
      "traitName:  LAI\n",
      "model:  DenseNetConfidenceAddoneextrainput\n"
     ]
    },
    {
     "name": "stderr",
     "output_type": "stream",
     "text": [
      "100%|██████████| 335/335 [00:50<00:00,  6.69it/s]\n"
     ]
    },
    {
     "name": "stdout",
     "output_type": "stream",
     "text": [
      "\n",
      "📊 Test Results:\n",
      "✅ R² Score : 0.3393\n",
      "✅ MAE      : 0.7257\n",
      "✅ RMSE     : 0.9220\n",
      "✅ Safe Split → Train: 42840, Val: 5360, Test: 5360\n",
      "Train Batches: 2678, Validation Batches: 335, Test Batches: 335\n",
      "✅ Using device: cuda\n",
      "traitName:  LAI\n",
      "model:  EfficientNetV2MConfidenceAddeonextrainput\n"
     ]
    },
    {
     "name": "stderr",
     "output_type": "stream",
     "text": [
      "100%|██████████| 335/335 [01:04<00:00,  5.20it/s]\n"
     ]
    },
    {
     "name": "stdout",
     "output_type": "stream",
     "text": [
      "\n",
      "📊 Test Results:\n",
      "✅ R² Score : 0.1047\n",
      "✅ MAE      : 0.8428\n",
      "✅ RMSE     : 1.0732\n",
      "✅ Safe Split → Train: 42840, Val: 5360, Test: 5360\n",
      "Train Batches: 2678, Validation Batches: 335, Test Batches: 335\n",
      "✅ Using device: cuda\n",
      "traitName:  LAI\n",
      "model:  EfficientNetV2SConfidenceAddoneextrainput\n"
     ]
    },
    {
     "name": "stderr",
     "output_type": "stream",
     "text": [
      "100%|██████████| 335/335 [00:45<00:00,  7.31it/s]\n"
     ]
    },
    {
     "name": "stdout",
     "output_type": "stream",
     "text": [
      "\n",
      "📊 Test Results:\n",
      "✅ R² Score : 0.1091\n",
      "✅ MAE      : 0.8404\n",
      "✅ RMSE     : 1.0706\n",
      "✅ Safe Split → Train: 42840, Val: 5360, Test: 5360\n",
      "Train Batches: 2678, Validation Batches: 335, Test Batches: 335\n",
      "✅ Using device: cuda\n",
      "traitName:  LAI\n",
      "model:  RegNetY8GFConfidenceAddoneextrainput\n"
     ]
    },
    {
     "name": "stderr",
     "output_type": "stream",
     "text": [
      "100%|██████████| 335/335 [02:26<00:00,  2.28it/s]\n"
     ]
    },
    {
     "name": "stdout",
     "output_type": "stream",
     "text": [
      "\n",
      "📊 Test Results:\n",
      "✅ R² Score : 0.0861\n",
      "✅ MAE      : 0.8445\n",
      "✅ RMSE     : 1.0843\n",
      "✅ Safe Split → Train: 42840, Val: 5360, Test: 5360\n",
      "Train Batches: 2678, Validation Batches: 335, Test Batches: 335\n",
      "✅ Using device: cuda\n",
      "traitName:  LAI\n",
      "model:  RepVGGA1ConfidenceAddoneextrainput\n"
     ]
    },
    {
     "name": "stderr",
     "output_type": "stream",
     "text": [
      "100%|██████████| 335/335 [01:02<00:00,  5.33it/s]"
     ]
    },
    {
     "name": "stdout",
     "output_type": "stream",
     "text": [
      "\n",
      "📊 Test Results:\n",
      "✅ R² Score : 0.0435\n",
      "✅ MAE      : 0.8759\n",
      "✅ RMSE     : 1.1093\n"
     ]
    },
    {
     "name": "stderr",
     "output_type": "stream",
     "text": [
      "\n"
     ]
    }
   ],
   "source": [
    "setAndTestModel_with_extra_input(\"DataKey_RGB_DSM_totEarWeight_LAI.csv\", \"LAI\", DenseNetConfidenceAddoneextrainput, \"./ResultModelLAI/DenseNetConfidenceAddoneextrainput_LAI_extratotEarWeight10.pth\", \"totEarWeight\")\n",
    "setAndTestModel_with_extra_input(\"DataKey_RGB_DSM_totEarWeight_LAI.csv\", \"LAI\", EfficientNetV2MConfidenceAddeonextrainput, \"./ResultModelLAI/EfficientNetV2MConfidenceAddeonextrainput_LAI_extratotEarWeight10.pth\", \"totEarWeight\")\n",
    "setAndTestModel_with_extra_input(\"DataKey_RGB_DSM_totEarWeight_LAI.csv\", \"LAI\", EfficientNetV2SConfidenceAddoneextrainput, \"./ResultModelLAI/EfficientNetV2SConfidenceAddoneextrainput_LAI_extratotEarWeight10.pth\", \"totEarWeight\")\n",
    "setAndTestModel_with_extra_input(\"DataKey_RGB_DSM_totEarWeight_LAI.csv\", \"LAI\", RegNetY8GFConfidenceAddoneextrainput, \"./ResultModelLAI/RegNetY8GFConfidenceAddoneextrainput_LAI_extratotEarWeight10.pth\", \"totEarWeight\")\n",
    "setAndTestModel_with_extra_input(\"DataKey_RGB_DSM_totEarWeight_LAI.csv\", \"LAI\", RepVGGA1ConfidenceAddoneextrainput, \"./ResultModelLAI/RepVGGA1ConfidenceAddoneextrainput_LAI_extratotEarWeight10.pth\", \"totEarWeight\")"
   ]
  },
  {
   "cell_type": "markdown",
   "metadata": {},
   "source": [
    "time + earWeight"
   ]
  },
  {
   "cell_type": "code",
   "execution_count": 2,
   "metadata": {},
   "outputs": [
    {
     "name": "stdout",
     "output_type": "stream",
     "text": [
      "✅ Safe Split → Train: 42840, Val: 5360, Test: 5360\n",
      "Train Batches: 2678, Validation Batches: 335, Test Batches: 335\n",
      "✅ Using device: cuda\n",
      "traitName:  LAI\n",
      "model:  DenseNetConfidenceAdd2Inputs\n"
     ]
    },
    {
     "name": "stderr",
     "output_type": "stream",
     "text": [
      "100%|██████████| 335/335 [01:22<00:00,  4.06it/s]\n"
     ]
    },
    {
     "name": "stdout",
     "output_type": "stream",
     "text": [
      "\n",
      "📊 Test Results:\n",
      "✅ R² Score : 0.1419\n",
      "✅ MAE      : 0.8260\n",
      "✅ RMSE     : 1.0507\n",
      "✅ Safe Split → Train: 42840, Val: 5360, Test: 5360\n",
      "Train Batches: 2678, Validation Batches: 335, Test Batches: 335\n",
      "✅ Using device: cuda\n",
      "traitName:  LAI\n",
      "model:  EfficientNetV2MConfidenceAdd2Inputs\n"
     ]
    },
    {
     "name": "stderr",
     "output_type": "stream",
     "text": [
      "100%|██████████| 335/335 [01:46<00:00,  3.13it/s]\n"
     ]
    },
    {
     "name": "stdout",
     "output_type": "stream",
     "text": [
      "\n",
      "📊 Test Results:\n",
      "✅ R² Score : 0.0870\n",
      "✅ MAE      : 0.8626\n",
      "✅ RMSE     : 1.0838\n",
      "✅ Safe Split → Train: 42840, Val: 5360, Test: 5360\n",
      "Train Batches: 2678, Validation Batches: 335, Test Batches: 335\n",
      "✅ Using device: cuda\n",
      "traitName:  LAI\n",
      "model:  EfficientNetV2SConfidenceAdd2Inputs\n"
     ]
    },
    {
     "name": "stderr",
     "output_type": "stream",
     "text": [
      "100%|██████████| 335/335 [00:59<00:00,  5.58it/s]\n"
     ]
    },
    {
     "name": "stdout",
     "output_type": "stream",
     "text": [
      "\n",
      "📊 Test Results:\n",
      "✅ R² Score : 0.0897\n",
      "✅ MAE      : 0.8415\n",
      "✅ RMSE     : 1.0822\n",
      "✅ Safe Split → Train: 42840, Val: 5360, Test: 5360\n",
      "Train Batches: 2678, Validation Batches: 335, Test Batches: 335\n",
      "✅ Using device: cuda\n",
      "traitName:  LAI\n",
      "model:  RegNetYConfidenceAdd2Inputs\n"
     ]
    },
    {
     "name": "stderr",
     "output_type": "stream",
     "text": [
      "100%|██████████| 335/335 [04:24<00:00,  1.27it/s]\n"
     ]
    },
    {
     "name": "stdout",
     "output_type": "stream",
     "text": [
      "\n",
      "📊 Test Results:\n",
      "✅ R² Score : 0.0965\n",
      "✅ MAE      : 0.8372\n",
      "✅ RMSE     : 1.0781\n",
      "✅ Safe Split → Train: 42840, Val: 5360, Test: 5360\n",
      "Train Batches: 2678, Validation Batches: 335, Test Batches: 335\n",
      "✅ Using device: cuda\n",
      "traitName:  LAI\n",
      "model:  RepVGGA1ConfidenceAdd2Inputs\n"
     ]
    },
    {
     "name": "stderr",
     "output_type": "stream",
     "text": [
      "100%|██████████| 335/335 [00:43<00:00,  7.70it/s]"
     ]
    },
    {
     "name": "stdout",
     "output_type": "stream",
     "text": [
      "\n",
      "📊 Test Results:\n",
      "✅ R² Score : 0.2609\n",
      "✅ MAE      : 0.7689\n",
      "✅ RMSE     : 0.9751\n"
     ]
    },
    {
     "name": "stderr",
     "output_type": "stream",
     "text": [
      "\n"
     ]
    }
   ],
   "source": [
    "setAndTestModel_with_extra_input(\"DataKey_RGB_DSM_totEarWeight_LAI_time.csv\", \"LAI\", DenseNetConfidenceAdd2Inputs, \"./ResultModelLAI/DenseNetConfidenceAdd2Inputs_LAI_extratotEarWeight_time10.pth\", [\"totEarWeight\", \"time\"])\n",
    "setAndTestModel_with_extra_input(\"DataKey_RGB_DSM_totEarWeight_LAI_time.csv\", \"LAI\", EfficientNetV2MConfidenceAdd2Inputs, \"./ResultModelLAI/EfficientNetV2MConfidenceAdd2Inputs_LAI_extratotEarWeight_time10.pth\", [\"totEarWeight\", \"time\"])\n",
    "setAndTestModel_with_extra_input(\"DataKey_RGB_DSM_totEarWeight_LAI_time.csv\", \"LAI\", EfficientNetV2SConfidenceAdd2Inputs, \"./ResultModelLAI/EfficientNetV2SConfidenceAdd2Inputs_LAI_extratotEarWeight_time10.pth\", [\"totEarWeight\", \"time\"])\n",
    "setAndTestModel_with_extra_input(\"DataKey_RGB_DSM_totEarWeight_LAI_time.csv\", \"LAI\", RegNetYConfidenceAdd2Inputs, \"./ResultModelLAI/RegNetYConfidenceAdd2Inputs_LAI_extratotEarWeight_time10.pth\", [\"totEarWeight\", \"time\"])\n",
    "setAndTestModel_with_extra_input(\"DataKey_RGB_DSM_totEarWeight_LAI_time.csv\", \"LAI\", RepVGGA1ConfidenceAdd2Inputs, \"./ResultModelLAI/RepVGGA1ConfidenceAdd2Inputs_LAI_extratotEarWeight_time10.pth\", [\"totEarWeight\", \"time\"])"
   ]
  },
  {
   "cell_type": "code",
   "execution_count": null,
   "metadata": {},
   "outputs": [],
   "source": []
  }
 ],
 "metadata": {
  "kernelspec": {
   "display_name": "Python 3",
   "language": "python",
   "name": "python3"
  },
  "language_info": {
   "codemirror_mode": {
    "name": "ipython",
    "version": 3
   },
   "file_extension": ".py",
   "mimetype": "text/x-python",
   "name": "python",
   "nbconvert_exporter": "python",
   "pygments_lexer": "ipython3",
   "version": "3.13.2"
  }
 },
 "nbformat": 4,
 "nbformat_minor": 2
}
