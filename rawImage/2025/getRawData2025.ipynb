{
 "cells": [
  {
   "cell_type": "code",
   "execution_count": 89,
   "id": "488d000a",
   "metadata": {},
   "outputs": [],
   "source": [
    "import os\n",
    "import cv2\n",
    "import pprint\n",
    "import numpy as np\n",
    "import easyidp as idp\n",
    "import matplotlib.pyplot as plt"
   ]
  },
  {
   "cell_type": "code",
   "execution_count": 90,
   "id": "d45cb833",
   "metadata": {},
   "outputs": [],
   "source": [
    "def getFilePath(filePath,filetype):\n",
    "    fileList = []\n",
    "    for fileName in os.listdir(filePath):\n",
    "        fileNamePath = filePath + '/' + fileName\n",
    "        for eachFile in os.listdir(fileNamePath):\n",
    "            if(eachFile[-len(filetype):] == filetype):\n",
    "                fileList.append(fileNamePath + '/' + eachFile)\n",
    "    return(fileList)\n",
    "\n",
    "def getAllfilePath(filePath):\n",
    "    fileList = []\n",
    "    for fileName in os.listdir(filePath):\n",
    "        fileNamePath = filePath + '/' + fileName\n",
    "        fileList.append(fileNamePath)\n",
    "    return(fileList)\n",
    "\n",
    "def getFileCoor(shapefilepath, pix4dpath, raw_img_folder):\n",
    "    p4d = idp.Pix4D(pix4dpath,raw_img_folder = raw_img_folder)\n",
    "    roi = idp.ROI(shapefilepath, name_field=[\"id\"]) # seperate polygon id\n",
    "    roi.change_crs(p4d.crs)\n",
    "    roi.get_z_from_dsm(p4d.dsm)\n",
    "    rev_results = roi.back2raw(p4d)\n",
    "\n",
    "    img_dict_sort = p4d.sort_img_by_distance(\n",
    "        rev_results, roi, \n",
    "        num=10 # only keep 10 closest images\n",
    "    )\n",
    "    return img_dict_sort\n",
    "\n",
    "def show_cropped_rectangle(image_path, rectangle):\n",
    "    \"\"\"\n",
    "    Extracts and displays the cropped region inside the rectangle.\n",
    "    \n",
    "    Parameters:\n",
    "    - image_path: Path to the background image (JPG, PNG, etc.).\n",
    "    - rectangle: NumPy array containing 4 corner points.\n",
    "    \"\"\"\n",
    "    # Check if the image file exists\n",
    "    if not os.path.exists(image_path):\n",
    "        print(f\"Error: The file {image_path} does not exist.\")\n",
    "        return\n",
    "    \n",
    "    # Load image\n",
    "    image = cv2.imread(image_path)\n",
    "    \n",
    "    if image is None:\n",
    "        print(f\"Error: Failed to load image from {image_path}\")\n",
    "        return\n",
    "    \n",
    "    image = cv2.cvtColor(image, cv2.COLOR_BGR2RGB)  # Convert BGR to RGB for Matplotlib\n",
    "\n",
    "    # Get bounding box (min/max coordinates)\n",
    "    x_min, y_min = np.min(rectangle, axis=0)\n",
    "    x_max, y_max = np.max(rectangle, axis=0)\n",
    "\n",
    "    # Convert to integer values\n",
    "    x_min, y_min, x_max, y_max = map(int, [x_min, y_min, x_max, y_max])\n",
    "\n",
    "    # Crop the image\n",
    "    cropped_image = image[y_min:y_max, x_min:x_max]\n",
    "\n",
    "    # Show the cropped region\n",
    "    plt.figure(figsize=(6, 6))\n",
    "    plt.imshow(cropped_image)\n",
    "    plt.axis(\"off\")  # Hide axis\n",
    "    plt.show()\n",
    "\n",
    "def writeFile(key, img_dict):\n",
    "    rawImgDir = \"/Volumes/PortableSSD/MasterProj/rawImage/2025/rawImgPathData/\"\n",
    "    file = open(rawImgDir + str(key) + \".txt\", \"a\")\n",
    "    for index, fileShape in img_dict.items():\n",
    "        file.write(index)\n",
    "        file.write(\"\\n\")\n",
    "        for fileName, shapeIndex in fileShape.items():\n",
    "            content = fileName + ':' + str(shapeIndex[0]) + ',' + str(shapeIndex[1]) + ',' + str(shapeIndex[2]) + ',' + str(shapeIndex[3])\n",
    "            file.write(content)\n",
    "            file.write(\"\\n\")\n",
    "    file.close()\n",
    "\n",
    "\n",
    "\n"
   ]
  },
  {
   "cell_type": "code",
   "execution_count": 91,
   "id": "3888833e",
   "metadata": {},
   "outputs": [
    {
     "name": "stdout",
     "output_type": "stream",
     "text": [
      "202503010913 ['/Volumes/PortableSSD/MasterProj/rawImage/2025/ShapeFile/ShapeFile2025.shp', '/Volumes/HD-PCFSU3-A/2025Pix4D/202503010913_rgb/202503010913_rgb.p4d', '/Volumes/HD-PCFSU3-A/2025/RawData/RAWForPix/DJI_202503010913_002_2025TomiokaKomugi']\n",
      "[shp][proj] Use projection [WGS 84] for loaded shapefile [ShapeFile2025.shp]\n"
     ]
    },
    {
     "name": "stderr",
     "output_type": "stream",
     "text": [
      "[shp] Read shapefile [ShapeFile2025.shp]: 100%|██████████| 60/60 [00:00<00:00, 10949.28it/s]\n",
      "Read z values of roi from DSM [202503010913_rgb_dsm.tif]: 100%|██████████| 60/60 [00:13<00:00,  4.47it/s]\n",
      "Backward roi to raw images: 100%|██████████| 60/60 [00:01<00:00, 47.44it/s]\n",
      "Getting photo positions: 100%|██████████| 705/705 [00:00<00:00, 112471.35it/s]\n",
      "Filter by distance to ROI: 100%|██████████| 60/60 [00:00<00:00, 1625.02it/s]\n"
     ]
    },
    {
     "name": "stdout",
     "output_type": "stream",
     "text": [
      "202503111011 ['/Volumes/PortableSSD/MasterProj/rawImage/2025/ShapeFile/ShapeFile2025.shp', '/Volumes/HD-PCFSU3-A/2025Pix4D/202503111011_rgb/202503111011_rgb.p4d', '/Volumes/HD-PCFSU3-A/2025/RawData/RAWForPix/DJI_202503111011_002_2025TomiokaKomugi']\n",
      "[shp][proj] Use projection [WGS 84] for loaded shapefile [ShapeFile2025.shp]\n"
     ]
    },
    {
     "name": "stderr",
     "output_type": "stream",
     "text": [
      "[shp] Read shapefile [ShapeFile2025.shp]: 100%|██████████| 60/60 [00:00<00:00, 11164.47it/s]\n",
      "Read z values of roi from DSM [202503111011_rgb_dsm.tif]: 100%|██████████| 60/60 [00:13<00:00,  4.49it/s]\n",
      "Backward roi to raw images: 100%|██████████| 60/60 [00:01<00:00, 47.15it/s]\n",
      "Getting photo positions: 100%|██████████| 705/705 [00:00<00:00, 140307.68it/s]\n",
      "Filter by distance to ROI: 100%|██████████| 60/60 [00:00<00:00, 1769.33it/s]\n"
     ]
    },
    {
     "name": "stdout",
     "output_type": "stream",
     "text": [
      "202503210851 ['/Volumes/PortableSSD/MasterProj/rawImage/2025/ShapeFile/ShapeFile2025.shp', '/Volumes/HD-PCFSU3-A/2025Pix4D/202503210851_rgb/202503210851_rgb.p4d', '/Volumes/HD-PCFSU3-A/2025/RawData/RAWForPix/DJI_202503210851_001_2025TomiokaKomugi']\n",
      "[shp][proj] Use projection [WGS 84] for loaded shapefile [ShapeFile2025.shp]\n"
     ]
    },
    {
     "name": "stderr",
     "output_type": "stream",
     "text": [
      "[shp] Read shapefile [ShapeFile2025.shp]: 100%|██████████| 60/60 [00:00<00:00, 11094.57it/s]\n",
      "Read z values of roi from DSM [202503210851_rgb_dsm.tif]: 100%|██████████| 60/60 [00:14<00:00,  4.17it/s]\n",
      "Backward roi to raw images: 100%|██████████| 60/60 [00:01<00:00, 48.33it/s]\n",
      "Getting photo positions: 100%|██████████| 698/698 [00:00<00:00, 135094.10it/s]\n",
      "Filter by distance to ROI: 100%|██████████| 60/60 [00:00<00:00, 1672.00it/s]\n"
     ]
    },
    {
     "name": "stdout",
     "output_type": "stream",
     "text": [
      "202503260955 ['/Volumes/PortableSSD/MasterProj/rawImage/2025/ShapeFile/ShapeFile2025.shp', '/Volumes/HD-PCFSU3-A/2025Pix4D/202503260955_rgb/202503260955_rgb.p4d', '/Volumes/HD-PCFSU3-A/2025/RawData/RAWForPix/DJI_202503260955_001_2025TomiokaKomugi']\n",
      "[shp][proj] Use projection [WGS 84] for loaded shapefile [ShapeFile2025.shp]\n"
     ]
    },
    {
     "name": "stderr",
     "output_type": "stream",
     "text": [
      "[shp] Read shapefile [ShapeFile2025.shp]: 100%|██████████| 60/60 [00:00<00:00, 11115.16it/s]\n",
      "Read z values of roi from DSM [202503260955_rgb_dsm.tif]: 100%|██████████| 60/60 [00:45<00:00,  1.32it/s]\n",
      "Backward roi to raw images: 100%|██████████| 60/60 [00:01<00:00, 51.39it/s]\n",
      "Getting photo positions: 100%|██████████| 626/626 [00:00<00:00, 132100.74it/s]\n",
      "Filter by distance to ROI: 100%|██████████| 60/60 [00:00<00:00, 3770.67it/s]\n"
     ]
    },
    {
     "name": "stdout",
     "output_type": "stream",
     "text": [
      "202504040926 ['/Volumes/PortableSSD/MasterProj/rawImage/2025/ShapeFile/ShapeFile2025.shp', '/Volumes/HD-PCFSU3-A/2025Pix4D/202504040926_rgb/202504040926_rgb.p4d', '/Volumes/HD-PCFSU3-A/2025/RawData/RAWForPix/DJI_202504040926_002_2025TomiokaKomugi']\n",
      "[shp][proj] Use projection [WGS 84] for loaded shapefile [ShapeFile2025.shp]\n"
     ]
    },
    {
     "name": "stderr",
     "output_type": "stream",
     "text": [
      "[shp] Read shapefile [ShapeFile2025.shp]: 100%|██████████| 60/60 [00:00<00:00, 10576.10it/s]\n",
      "Read z values of roi from DSM [202504040926_rgb_dsm.tif]: 100%|██████████| 60/60 [00:11<00:00,  5.05it/s]\n",
      "Backward roi to raw images: 100%|██████████| 60/60 [00:01<00:00, 48.28it/s]\n",
      "Getting photo positions: 100%|██████████| 672/672 [00:00<00:00, 132308.70it/s]\n",
      "Filter by distance to ROI: 100%|██████████| 60/60 [00:00<00:00, 1791.67it/s]\n"
     ]
    },
    {
     "name": "stdout",
     "output_type": "stream",
     "text": [
      "202504080849 ['/Volumes/PortableSSD/MasterProj/rawImage/2025/ShapeFile/ShapeFile2025.shp', '/Volumes/HD-PCFSU3-A/2025Pix4D/202504080849_rgb/202504080849_rgb.p4d', '/Volumes/HD-PCFSU3-A/2025/RawData/RAWForPix/DJI_202504080849_001_2025TomiokaKomugi']\n",
      "[shp][proj] Use projection [WGS 84] for loaded shapefile [ShapeFile2025.shp]\n"
     ]
    },
    {
     "name": "stderr",
     "output_type": "stream",
     "text": [
      "[shp] Read shapefile [ShapeFile2025.shp]: 100%|██████████| 60/60 [00:00<00:00, 11240.76it/s]\n",
      "Read z values of roi from DSM [202504080849_rgb_dsm.tif]: 100%|██████████| 60/60 [00:16<00:00,  3.61it/s]\n",
      "Backward roi to raw images: 100%|██████████| 60/60 [00:01<00:00, 47.87it/s]\n",
      "Getting photo positions: 100%|██████████| 677/677 [00:00<00:00, 140196.69it/s]\n",
      "Filter by distance to ROI: 100%|██████████| 60/60 [00:00<00:00, 2364.16it/s]\n"
     ]
    },
    {
     "name": "stdout",
     "output_type": "stream",
     "text": [
      "202504170935 ['/Volumes/PortableSSD/MasterProj/rawImage/2025/ShapeFile/ShapeFile2025.shp', '/Volumes/HD-PCFSU3-A/2025Pix4D/202504170935_rgb/202504170935_rgb.p4d', '/Volumes/HD-PCFSU3-A/2025/RawData/RAWForPix/DJI_202504170935_002_2025TomiokaKomugi']\n",
      "[shp][proj] Use projection [WGS 84] for loaded shapefile [ShapeFile2025.shp]\n"
     ]
    },
    {
     "name": "stderr",
     "output_type": "stream",
     "text": [
      "[shp] Read shapefile [ShapeFile2025.shp]: 100%|██████████| 60/60 [00:00<00:00, 10997.13it/s]\n",
      "Read z values of roi from DSM [202504170935_rgb_dsm.tif]: 100%|██████████| 60/60 [00:12<00:00,  4.65it/s]\n",
      "Backward roi to raw images: 100%|██████████| 60/60 [00:01<00:00, 50.97it/s]\n",
      "Getting photo positions: 100%|██████████| 649/649 [00:00<00:00, 132526.94it/s]\n",
      "Filter by distance to ROI: 100%|██████████| 60/60 [00:00<00:00, 3574.59it/s]\n"
     ]
    },
    {
     "name": "stdout",
     "output_type": "stream",
     "text": [
      "202504220916 ['/Volumes/PortableSSD/MasterProj/rawImage/2025/ShapeFile/ShapeFile2025.shp', '/Volumes/HD-PCFSU3-A/2025Pix4D/202504220916_rgb/202504220916_rgb.p4d', '/Volumes/HD-PCFSU3-A/2025/RawData/RAWForPix/DJI_202504220916_002_2025TomiokaKomugi']\n",
      "[shp][proj] Use projection [WGS 84] for loaded shapefile [ShapeFile2025.shp]\n"
     ]
    },
    {
     "name": "stderr",
     "output_type": "stream",
     "text": [
      "[shp] Read shapefile [ShapeFile2025.shp]: 100%|██████████| 60/60 [00:00<00:00, 11098.98it/s]\n",
      "Read z values of roi from DSM [202504220916_rgb_dsm.tif]: 100%|██████████| 60/60 [00:12<00:00,  4.81it/s]\n",
      "Backward roi to raw images: 100%|██████████| 60/60 [00:01<00:00, 46.72it/s]\n",
      "Getting photo positions: 100%|██████████| 696/696 [00:00<00:00, 137986.18it/s]\n",
      "Filter by distance to ROI: 100%|██████████| 60/60 [00:00<00:00, 1708.43it/s]\n"
     ]
    },
    {
     "name": "stdout",
     "output_type": "stream",
     "text": [
      "202504250923 ['/Volumes/PortableSSD/MasterProj/rawImage/2025/ShapeFile/ShapeFile2025.shp', '/Volumes/HD-PCFSU3-A/2025Pix4D/202504250923_rgb/202504250923_rgb.p4d', '/Volumes/HD-PCFSU3-A/2025/RawData/RAWForPix/DJI_202504250923_002_2025TomiokaKomugi']\n",
      "[shp][proj] Use projection [WGS 84] for loaded shapefile [ShapeFile2025.shp]\n"
     ]
    },
    {
     "name": "stderr",
     "output_type": "stream",
     "text": [
      "[shp] Read shapefile [ShapeFile2025.shp]: 100%|██████████| 60/60 [00:00<00:00, 10511.60it/s]\n",
      "Read z values of roi from DSM [202504250923_rgb_dsm.tif]: 100%|██████████| 60/60 [00:14<00:00,  4.09it/s]\n",
      "Backward roi to raw images: 100%|██████████| 60/60 [00:01<00:00, 49.06it/s]\n",
      "Getting photo positions: 100%|██████████| 671/671 [00:00<00:00, 133935.09it/s]\n",
      "Filter by distance to ROI: 100%|██████████| 60/60 [00:00<00:00, 2429.74it/s]\n"
     ]
    },
    {
     "name": "stdout",
     "output_type": "stream",
     "text": [
      "202504301004 ['/Volumes/PortableSSD/MasterProj/rawImage/2025/ShapeFile/ShapeFile2025.shp', '/Volumes/HD-PCFSU3-A/2025Pix4D/202504301004_rgb/202504301004_rgb.p4d', '/Volumes/HD-PCFSU3-A/2025/RawData/RAWForPix/DJI_202504301004_003_2025TomiokaKomugi']\n",
      "[shp][proj] Use projection [WGS 84] for loaded shapefile [ShapeFile2025.shp]\n"
     ]
    },
    {
     "name": "stderr",
     "output_type": "stream",
     "text": [
      "[shp] Read shapefile [ShapeFile2025.shp]: 100%|██████████| 60/60 [00:00<00:00, 11259.37it/s]\n",
      "Read z values of roi from DSM [202504301004_rgb_dsm.tif]: 100%|██████████| 60/60 [00:11<00:00,  5.33it/s]\n",
      "Backward roi to raw images: 100%|██████████| 60/60 [00:01<00:00, 51.52it/s]\n",
      "Getting photo positions: 100%|██████████| 638/638 [00:00<00:00, 130420.41it/s]\n",
      "Filter by distance to ROI: 100%|██████████| 60/60 [00:00<00:00, 2090.46it/s]\n"
     ]
    },
    {
     "name": "stdout",
     "output_type": "stream",
     "text": [
      "202505070918 ['/Volumes/PortableSSD/MasterProj/rawImage/2025/ShapeFile/ShapeFile2025.shp', '/Volumes/HD-PCFSU3-A/2025Pix4D/202505070918_rgb/202505070918_rgb.p4d', '/Volumes/HD-PCFSU3-A/2025/RawData/RAWForPix/DJI_202505070918_002_2025TomiokaKomugi']\n",
      "[shp][proj] Use projection [WGS 84] for loaded shapefile [ShapeFile2025.shp]\n"
     ]
    },
    {
     "name": "stderr",
     "output_type": "stream",
     "text": [
      "[shp] Read shapefile [ShapeFile2025.shp]: 100%|██████████| 60/60 [00:00<00:00, 10587.67it/s]\n",
      "Read z values of roi from DSM [202505070918_rgb_dsm.tif]: 100%|██████████| 60/60 [00:11<00:00,  5.44it/s]\n",
      "Backward roi to raw images: 100%|██████████| 60/60 [00:00<00:00, 80.09it/s]\n",
      "Getting photo positions: 100%|██████████| 415/415 [00:00<00:00, 133137.23it/s]\n",
      "Filter by distance to ROI: 100%|██████████| 60/60 [00:00<00:00, 3035.39it/s]\n"
     ]
    },
    {
     "name": "stdout",
     "output_type": "stream",
     "text": [
      "202505161016 ['/Volumes/PortableSSD/MasterProj/rawImage/2025/ShapeFile/ShapeFile2025.shp', '/Volumes/HD-PCFSU3-A/2025Pix4D/202505161016_rgb/202505161016_rgb.p4d', '/Volumes/HD-PCFSU3-A/2025/RawData/RAWForPix/DJI_202505161016_002_2025TomiokaKomugi']\n",
      "[shp][proj] Use projection [WGS 84] for loaded shapefile [ShapeFile2025.shp]\n"
     ]
    },
    {
     "name": "stderr",
     "output_type": "stream",
     "text": [
      "[shp] Read shapefile [ShapeFile2025.shp]: 100%|██████████| 60/60 [00:00<00:00, 10978.42it/s]\n",
      "Read z values of roi from DSM [202505161016_rgb_dsm.tif]: 100%|██████████| 60/60 [00:14<00:00,  4.14it/s]\n",
      "Backward roi to raw images: 100%|██████████| 60/60 [00:01<00:00, 49.57it/s]\n",
      "Getting photo positions: 100%|██████████| 658/658 [00:00<00:00, 130421.63it/s]\n",
      "Filter by distance to ROI: 100%|██████████| 60/60 [00:00<00:00, 2018.98it/s]\n"
     ]
    },
    {
     "name": "stdout",
     "output_type": "stream",
     "text": [
      "202505201058 ['/Volumes/PortableSSD/MasterProj/rawImage/2025/ShapeFile/ShapeFile2025.shp', '/Volumes/HD-PCFSU3-A/2025Pix4D/202505201058_rgb/202505201058_rgb.p4d', '/Volumes/HD-PCFSU3-A/2025/RawData/RAWForPix/DJI_202505201058_001_2025TomiokaKomugi']\n",
      "[shp][proj] Use projection [WGS 84] for loaded shapefile [ShapeFile2025.shp]\n"
     ]
    },
    {
     "name": "stderr",
     "output_type": "stream",
     "text": [
      "[shp] Read shapefile [ShapeFile2025.shp]: 100%|██████████| 60/60 [00:00<00:00, 11214.72it/s]\n",
      "Read z values of roi from DSM [202505201058_rgb_dsm.tif]: 100%|██████████| 60/60 [00:13<00:00,  4.32it/s]\n",
      "Backward roi to raw images: 100%|██████████| 60/60 [00:00<00:00, 78.57it/s]\n",
      "Getting photo positions: 100%|██████████| 454/454 [00:00<00:00, 146264.23it/s]\n",
      "Filter by distance to ROI: 100%|██████████| 60/60 [00:00<00:00, 2816.23it/s]\n"
     ]
    },
    {
     "name": "stdout",
     "output_type": "stream",
     "text": [
      "202505291010 ['/Volumes/PortableSSD/MasterProj/rawImage/2025/ShapeFile/ShapeFile2025.shp', '/Volumes/HD-PCFSU3-A/2025Pix4D/202505291010_rgb/202505291010_rgb.p4d', '/Volumes/HD-PCFSU3-A/2025/RawData/RAWForPix/DJI_202505291010_002_2025TomiokaKomugi']\n",
      "[shp][proj] Use projection [WGS 84] for loaded shapefile [ShapeFile2025.shp]\n"
     ]
    },
    {
     "name": "stderr",
     "output_type": "stream",
     "text": [
      "[shp] Read shapefile [ShapeFile2025.shp]: 100%|██████████| 60/60 [00:00<00:00, 11117.61it/s]\n",
      "Read z values of roi from DSM [202505291010_rgb_dsm.tif]: 100%|██████████| 60/60 [00:13<00:00,  4.33it/s]\n",
      "Backward roi to raw images: 100%|██████████| 60/60 [00:00<00:00, 60.32it/s]\n",
      "Getting photo positions: 100%|██████████| 543/543 [00:00<00:00, 137997.28it/s]\n",
      "Filter by distance to ROI: 100%|██████████| 60/60 [00:00<00:00, 3548.63it/s]\n"
     ]
    },
    {
     "name": "stdout",
     "output_type": "stream",
     "text": [
      "202506021002 ['/Volumes/PortableSSD/MasterProj/rawImage/2025/ShapeFile/ShapeFile2025.shp', '/Volumes/HD-PCFSU3-A/2025Pix4D/202506021002_rgb/202506021002_rgb.p4d', '/Volumes/HD-PCFSU3-A/2025/RawData/RAWForPix/DJI_202506021002_002_2025TomiokaKomugi']\n",
      "[shp][proj] Use projection [WGS 84] for loaded shapefile [ShapeFile2025.shp]\n"
     ]
    },
    {
     "name": "stderr",
     "output_type": "stream",
     "text": [
      "[shp] Read shapefile [ShapeFile2025.shp]: 100%|██████████| 60/60 [00:00<00:00, 11545.02it/s]\n",
      "Read z values of roi from DSM [202506021002_rgb_dsm.tif]: 100%|██████████| 60/60 [00:15<00:00,  3.80it/s]\n",
      "Backward roi to raw images: 100%|██████████| 60/60 [00:01<00:00, 48.91it/s]\n",
      "Getting photo positions: 100%|██████████| 678/678 [00:00<00:00, 120881.54it/s]\n",
      "Filter by distance to ROI: 100%|██████████| 60/60 [00:00<00:00, 2029.62it/s]\n"
     ]
    },
    {
     "name": "stdout",
     "output_type": "stream",
     "text": [
      "202506130855 ['/Volumes/PortableSSD/MasterProj/rawImage/2025/ShapeFile/ShapeFile2025.shp', '/Volumes/HD-PCFSU3-A/2025Pix4D/202506130855_rgb/202506130855_rgb.p4d', '/Volumes/HD-PCFSU3-A/2025/RawData/RAWForPix/DJI_202506130855_001_2025TomiokaKomugi']\n",
      "[shp][proj] Use projection [WGS 84] for loaded shapefile [ShapeFile2025.shp]\n"
     ]
    },
    {
     "name": "stderr",
     "output_type": "stream",
     "text": [
      "[shp] Read shapefile [ShapeFile2025.shp]: 100%|██████████| 60/60 [00:00<00:00, 11376.95it/s]\n",
      "Read z values of roi from DSM [202506130855_rgb_dsm.tif]: 100%|██████████| 60/60 [00:13<00:00,  4.57it/s]\n",
      "Backward roi to raw images: 100%|██████████| 60/60 [00:01<00:00, 50.64it/s]\n",
      "Getting photo positions: 100%|██████████| 634/634 [00:00<00:00, 136368.65it/s]\n",
      "Filter by distance to ROI: 100%|██████████| 60/60 [00:00<00:00, 2252.86it/s]\n"
     ]
    }
   ],
   "source": [
    "if __name__ == '__main__':\n",
    "    shapeFilePath = \"/Volumes/PortableSSD/MasterProj/rawImage/2025/ShapeFile/ShapeFile2025.shp\"\n",
    "    pix4dPathList = getFilePath(filePath = \"/Volumes/HD-PCFSU3-A/2025Pix4D\", filetype = \".p4d\")\n",
    "    rawImgFilePathList = getAllfilePath(filePath = \"/Volumes/HD-PCFSU3-A/2025/RawData/RAWForPix\")\n",
    "\n",
    "    # shapeFilePathDict = {}\n",
    "    # for shapeFilePathIndex in range(len(shapeFilePathList)):\n",
    "    #     shapeFilePath = shapeFilePathList[shapeFilePathIndex]\n",
    "    #     shapeFilePathKey = shapeFilePath.split('/')[-2]\n",
    "    #     shapeFilePathDict[shapeFilePathKey] = shapeFilePath\n",
    "\n",
    "    pix4dPathDict = {}\n",
    "    for pix4dPathIndex in range(len(pix4dPathList)):\n",
    "        pix4dPath = pix4dPathList[pix4dPathIndex]\n",
    "        pix4dPathKey = pix4dPath.split('/')[-1].split('_')[0]\n",
    "        # print(pix4dPathKey)\n",
    "        pix4dPathDict[pix4dPathKey] = pix4dPath\n",
    "\n",
    "    rawImgFilePathDict = {}\n",
    "    for rawImgFilePathListIndex in range(len(rawImgFilePathList)):\n",
    "        rawImgFilePath = rawImgFilePathList[rawImgFilePathListIndex]\n",
    "        rawImgFilePathKey = rawImgFilePath.split('/')[-1].split('_')[1]\n",
    "        rawImgFilePathDict[rawImgFilePathKey] = rawImgFilePath\n",
    "\n",
    "    allPath = {}\n",
    "    for key in pix4dPathDict.keys():\n",
    "        if (key == '202406241205'):\n",
    "            continue\n",
    "        allPath[int(key)] = [shapeFilePath, pix4dPathDict[key], rawImgFilePathDict[key]]\n",
    "\n",
    "    for key, pathList in sorted(allPath.items()):\n",
    "        print(key, pathList)\n",
    "        img_dict_sort = getFileCoor(pathList[0], pathList[1], pathList[2])\n",
    "        writeFile(key, img_dict_sort)\n",
    "\n",
    "    # img_dict_sort = getFileCoor(allPath[202503210851][0], allPath[202503210851][1], allPath[202503210851][2])\n",
    "    # for index, set in img_dict_sort.items():\n",
    "    #     for fileName, shape in set.items():\n",
    "    #         print(index, fileName, shape)\n",
    "    #         show_cropped_rectangle(allPath[202503210851][2]+'/'+fileName+\".JPG\", shape[1:])"
   ]
  },
  {
   "cell_type": "code",
   "execution_count": null,
   "id": "3999dd5d",
   "metadata": {},
   "outputs": [],
   "source": []
  }
 ],
 "metadata": {
  "kernelspec": {
   "display_name": "Python 3",
   "language": "python",
   "name": "python3"
  },
  "language_info": {
   "codemirror_mode": {
    "name": "ipython",
    "version": 3
   },
   "file_extension": ".py",
   "mimetype": "text/x-python",
   "name": "python",
   "nbconvert_exporter": "python",
   "pygments_lexer": "ipython3",
   "version": "3.10.10"
  }
 },
 "nbformat": 4,
 "nbformat_minor": 5
}
