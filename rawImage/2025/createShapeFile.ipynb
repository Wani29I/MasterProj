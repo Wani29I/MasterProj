{
 "cells": [
  {
   "cell_type": "code",
   "execution_count": 1,
   "id": "cfaa546c",
   "metadata": {},
   "outputs": [],
   "source": [
    "import os\n",
    "import pprint\n",
    "import pandas as pd\n",
    "import geopandas as gpd\n",
    "from shapely.geometry import Polygon\n"
   ]
  },
  {
   "cell_type": "code",
   "execution_count": 2,
   "id": "ef8713d8",
   "metadata": {},
   "outputs": [],
   "source": [
    "def getCutPoint(filePath):\n",
    "    ''' \n",
    "    open cutpoint txt file\n",
    "    the set the list to a,b,d,c for create shapefile\n",
    "    '''\n",
    "    returnList = []\n",
    "    coorList = []\n",
    "    with open(filePath, \"r\") as file:\n",
    "        lines = file.readlines()\n",
    "\n",
    "    pointCount = 0\n",
    "    eachShapePoint = []\n",
    "    for eachPoint in lines:\n",
    "        eachPoint = eachPoint.strip()\n",
    "        if not eachPoint:\n",
    "            continue\n",
    "        latlon = eachPoint.split(\",\")\n",
    "        eachShapePoint.append((float(latlon[0]), float(latlon[1])))\n",
    "        pointCount += 1\n",
    "\n",
    "        if pointCount == 4:\n",
    "            coorList.append(eachShapePoint)\n",
    "            pointCount = 0 \n",
    "            eachShapePoint = []\n",
    "\n",
    "    for a, b, c, d in coorList:\n",
    "        returnList.append([a, b, d, c])\n",
    "\n",
    "    return returnList\n",
    "\n",
    "\n",
    "def createShapeFile(cutPointList, outputShapefile):\n",
    "    \"\"\"\n",
    "    Convert a list of 4-point (lat, lon) polygons into a shapefile.\n",
    "    \n",
    "    Parameters:\n",
    "    - cutPointList: List of polygons, where each polygon is a list of 4 (lat, lon) tuples.\n",
    "    - outputShapefile: Path to save the output shapefile (.shp).\n",
    "    \"\"\"\n",
    "    rectangles = []\n",
    "    ids = []\n",
    "\n",
    "    for idx, coords in enumerate(cutPointList):\n",
    "        # Convert (lat, lon) to (lon, lat)\n",
    "        coords = [(lon, lat) for lat, lon in coords]\n",
    "\n",
    "        # Close the polygon\n",
    "        coords.append(coords[0])\n",
    "\n",
    "        # Create Polygon\n",
    "        rect = Polygon(coords)\n",
    "        rectangles.append(rect)\n",
    "        ids.append(idx + 1)\n",
    "\n",
    "    # Create GeoDataFrame with EPSG:4326 (WGS84)\n",
    "    gdf = gpd.GeoDataFrame({'id': ids, 'geometry': rectangles}, crs=\"EPSG:4326\")\n",
    "\n",
    "    # Save to shapefile\n",
    "    gdf.to_file(outputShapefile)\n",
    "\n"
   ]
  },
  {
   "cell_type": "code",
   "execution_count": 3,
   "id": "a62db40f",
   "metadata": {},
   "outputs": [],
   "source": [
    "cutPointList = getCutPoint(\"./2025CutPoint.txt\")\n",
    "createShapeFile(cutPointList, \"./ShapeFile/ShapeFile2025.shp\")"
   ]
  },
  {
   "cell_type": "code",
   "execution_count": null,
   "id": "2448a988",
   "metadata": {},
   "outputs": [],
   "source": []
  }
 ],
 "metadata": {
  "kernelspec": {
   "display_name": "Python 3",
   "language": "python",
   "name": "python3"
  },
  "language_info": {
   "codemirror_mode": {
    "name": "ipython",
    "version": 3
   },
   "file_extension": ".py",
   "mimetype": "text/x-python",
   "name": "python",
   "nbconvert_exporter": "python",
   "pygments_lexer": "ipython3",
   "version": "3.10.10"
  }
 },
 "nbformat": 4,
 "nbformat_minor": 5
}
