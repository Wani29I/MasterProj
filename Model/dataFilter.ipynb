{
 "cells": [
  {
   "cell_type": "code",
   "execution_count": 2,
   "metadata": {},
   "outputs": [],
   "source": [
    "import os\n",
    "import cv2\n",
    "import pprint\n",
    "import rasterio\n",
    "import numpy as np\n",
    "from PIL import Image\n",
    "from pathlib import Path\n",
    "from rasterio.mask import mask\n",
    "from rasterio.plot import reshape_as_image\n",
    "from shapely.geometry import Polygon, mapping"
   ]
  },
  {
   "cell_type": "code",
   "execution_count": 133,
   "metadata": {},
   "outputs": [],
   "source": [
    "def getDataByDataKeyDate(dataFilePath, dateList):\n",
    "    ''' \n",
    "    get labelled data by date: [\"202404251118\", \"202404301146\", \"202405071327\", \"202405131248\", \"202405171307\", \"202405221319\", \"202405271230\", \"202405311536\", \"202406041351\", \"202406071509\", \"202406111255\", \"202406141237\", \"202406171112\", \"202406241205\"]\n",
    "    '''\n",
    "    returnData = []\n",
    "\n",
    "    # open data path file\n",
    "    with open(dataFilePath, \"r\") as file:\n",
    "        allData = file.read().splitlines()\n",
    "        \n",
    "    # loop into each line (date)\n",
    "    for dataLine in allData:\n",
    "\n",
    "        # spilt data\n",
    "        splittedDataLine = dataLine.split(',') \n",
    "        # get data date\n",
    "        date = splittedDataLine[1].split('_')[0]\n",
    "\n",
    "        # check if date in datelist\n",
    "        if (date in dateList):\n",
    "            returnData.append(splittedDataLine)\n",
    "\n",
    "    return returnData\n",
    "\n",
    "def selectDataByRawImgType(allData, selectedRawImgKey):\n",
    "    '''\n",
    "    filter data from original, raw1 - raw10 to only selected one\n",
    "    '''\n",
    "    returnData = []\n",
    "\n",
    "    # loop into every data\n",
    "    for eachData in allData:\n",
    "\n",
    "        # get image type : original / raw1-raw10\n",
    "        imageType = eachData[0].split(\"_\")[-3]\n",
    "\n",
    "        # check if data's img type in selected one\n",
    "        if(imageType in selectedRawImgKey):\n",
    "            returnData.append(eachData)\n",
    "\n",
    "    return returnData\n",
    "\n",
    "def selectDataByAugmentMethod(allData, selectedAugmentedMethod):\n",
    "    '''\n",
    "    filter data by augmentation method:\n",
    "    '''\n",
    "    returnData = []\n",
    "\n",
    "    # loop into every data\n",
    "    for eachData in allData:\n",
    "\n",
    "        # get augmented method\n",
    "        augmentedMethod = (eachData[0].split(\"_\")[-1].split('.')[0])\n",
    "\n",
    "        # check if data's img type in selected one\n",
    "        if (augmentedMethod in selectedAugmentedMethod):\n",
    "            returnData.append(eachData) \n",
    "\n",
    "    return returnData\n",
    "\n",
    "def selectDataByDate(allData, selectedDate):\n",
    "    '''\n",
    "    filter data by date in path\n",
    "    '''\n",
    "    returnData = []\n",
    "\n",
    "    # loop into every data\n",
    "    for eachData in allData:\n",
    "\n",
    "        # get augmented method\n",
    "        eachDataDate = eachData[0].split(\"_\")[-5]\n",
    "\n",
    "        # check if data's img type is in selected one\n",
    "        if (eachDataDate in selectedDate):\n",
    "            returnData.append(eachData)\n",
    "\n",
    "    return returnData"
   ]
  },
  {
   "cell_type": "code",
   "execution_count": 173,
   "metadata": {},
   "outputs": [],
   "source": [
    "dataFilePath = \"D:/ice-wheat/data/dataForProcess/mainData/completeLabelData.txt\"\n",
    "dataKeyDateList = [\"202404251118\", \"202404301146\", \"202405071327\", \"202405131248\", \"202405171307\", \"202405221319\", \"202405271230\", \"202405311536\", \"202406041351\", \"202406071509\", \"202406111255\", \"202406141237\", \"202406171112\", \"202406241205\", \"999999999999\"]\n",
    "rawImgKey = [ \"original\", \"raw1\", \"raw2\", \"raw3\", \"raw4\", \"raw5\", \"raw6\", \"raw7\", \"raw8\", \"raw9\", \"raw10\"]\n",
    "augmentMethod = ['original', 'flipped', 'rotated', 'zoomed', 'brightenOriginal', 'darkenOriginal', 'brightenFlipped', 'darkenFlipped', 'jittered', 'noisy']\n",
    "dateList = ['202401181250', '202401221100', '202401291321', '202402071317', '202402081107', \n",
    "            '202402131116', '202402191131', '202402261154', '202403041133', '202403111217', \n",
    "            '202403191047', '202403251407', '202404011045', '202404101010', '202404151134', \n",
    "            '202404171400', '202404221142', '202404251118', '202404301146', '202405071327', \n",
    "            '202405131248', '202405171307', '202405221319', '202405271230', '202405311536', \n",
    "            '202406041351', '202406071509', '202406111255', '202406141237', '202406171112', \n",
    "            '202406241205']\n",
    "databyDataDateKey = getDataByDataKeyDate(dataFilePath, dataKeyDateList)\n",
    "selectedDataImgType = selectDataByRawImgType(databyDataDateKey, rawImgKey[0:4])\n",
    "selectedDataAugMethod = selectDataByAugmentMethod(databyDataDateKey, augmentMethod)\n",
    "dataByDate = selectDataByDate(databyDataDateKey, dateList[17:])"
   ]
  },
  {
   "cell_type": "code",
   "execution_count": 175,
   "metadata": {},
   "outputs": [
    {
     "data": {
      "text/plain": [
       "165600"
      ]
     },
     "execution_count": 175,
     "metadata": {},
     "output_type": "execute_result"
    }
   ],
   "source": [
    "len(dataByDate)"
   ]
  },
  {
   "cell_type": "code",
   "execution_count": null,
   "metadata": {},
   "outputs": [],
   "source": []
  },
  {
   "cell_type": "code",
   "execution_count": null,
   "metadata": {},
   "outputs": [],
   "source": []
  }
 ],
 "metadata": {
  "kernelspec": {
   "display_name": "Python 3",
   "language": "python",
   "name": "python3"
  },
  "language_info": {
   "codemirror_mode": {
    "name": "ipython",
    "version": 3
   },
   "file_extension": ".py",
   "mimetype": "text/x-python",
   "name": "python",
   "nbconvert_exporter": "python",
   "pygments_lexer": "ipython3",
   "version": "3.12.9"
  }
 },
 "nbformat": 4,
 "nbformat_minor": 2
}
