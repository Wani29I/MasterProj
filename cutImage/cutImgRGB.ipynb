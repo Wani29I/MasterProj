{
 "cells": [
  {
   "cell_type": "code",
   "execution_count": null,
   "metadata": {},
   "outputs": [],
   "source": [
    "import os\n",
    "import math\n",
    "import pprint\n",
    "import pyproj\n",
    "import rasterio\n",
    "import numpy as np\n",
    "from pathlib import Path\n",
    "from rasterio.mask import mask\n",
    "import matplotlib.pyplot as plt\n",
    "from shapely.geometry import Polygon, mapping\n",
    "from cutImg import openWaypointFile, clip_raster, representRaster\n",
    "from preprocessCutPoint import lat_lon_to_epsg32654\n",
    "from calculateCutPoint"
   ]
  },
  {
   "cell_type": "code",
   "execution_count": 140,
   "metadata": {},
   "outputs": [],
   "source": [
    "def getPix4dRGBImgPath(filePath):\n",
    "    RGBPathList = []\n",
    "    DSMPathList = []\n",
    "\n",
    "    for dateFileName in os.listdir(filePath):\n",
    "        dateFileNamePath = filePath + '/' + dateFileName\n",
    "\n",
    "        for step1 in os.listdir(dateFileNamePath):\n",
    "            step1FilePath = dateFileNamePath + '/' + step1\n",
    "            if Path(step1FilePath).is_dir():\n",
    "\n",
    "                for step2 in os.listdir(step1FilePath):\n",
    "                    if(step2 == \"3_dsm_ortho\"):\n",
    "                        step2FilePath = step1FilePath + '/' + step2\n",
    "\n",
    "                        for step3 in os.listdir(step2FilePath):\n",
    "                            step3FilePath = step2FilePath + '/' + step3\n",
    "                            if(step3 == \"1_dsm\"):\n",
    "                                for step4 in os.listdir(step3FilePath):\n",
    "                                    if(step4[-4:] == \".tif\"):\n",
    "                                        step4FilePath = step3FilePath + '/' + step4\n",
    "                                        DSMPathList.append(step4FilePath)\n",
    "\n",
    "                            if(step3 == \"2_mosaic\"):\n",
    "\n",
    "                                for step4 in os.listdir(step3FilePath):\n",
    "                                    if(step4[-4:] == \".tif\"):\n",
    "                                        step4FilePath = step3FilePath + '/' + step4\n",
    "                                        RGBPathList.append(step4FilePath)\n",
    "    return RGBPathList, DSMPathList\n",
    "\n",
    "def openOffset(path):\n",
    "    content = open(path,'r').read()\n",
    "    content = content.split(\"\\n\")\n",
    "    newDict = {}\n",
    "    for line in content:\n",
    "        line = line.split(' ')\n",
    "        x,y = lat_lon_to_epsg32654(float(line[1]), float(line[2]))\n",
    "        newDict[line[0]] = [float(line[1]), float(line[2])]\n",
    "    return newDict\n",
    "                "
   ]
  },
  {
   "cell_type": "code",
   "execution_count": 143,
   "metadata": {},
   "outputs": [],
   "source": [
    "def calculateOffsetForCoor(coordinateList, coordinateOffsetDict):\n",
    "    allCoorDict = {}\n",
    "    for key, offsets in sorted(coordinateOffsetDict.items()):\n",
    "        newCoordinateList = []\n",
    "        for eachSet in coordinateList:\n",
    "            newSetList = []\n",
    "            for eachPoint in eachSet:\n",
    "                x = eachPoint[0] + offsets[1]\n",
    "                y = eachPoint[1] + offsets[0]\n",
    "                newSetList.append([x,y])\n",
    "            newCoordinateList.append(newSetList)\n",
    "        allCoorDict[key] = newCoordinateList\n",
    "    return allCoorDict"
   ]
  },
  {
   "cell_type": "code",
   "execution_count": 144,
   "metadata": {},
   "outputs": [],
   "source": [
    "RGBFilePath = \"D:/ice-wheat/data/Processed/MAVIC-RGB\"\n",
    "RGBFilePathList, DSMFilePathList = getPix4dRGBImgPath(RGBFilePath)\n",
    "RGBFilePathList = RGBFilePathList[1:]\n",
    "DSMFilePathList = DSMFilePathList[1:]\n",
    "coordinateList = openWaypointFile(\"preprocessedCutPointFile.txt\")\n",
    "coordinateOffsetDict = openOffset(\"C:/Users/pacha/Desktop/masterProj/MasterProj/rawImage/offset.txt\")\n",
    "allCoorDict = calculateOffsetForCoor(coordinateList, coordinateOffsetDict)"
   ]
  },
  {
   "cell_type": "code",
   "execution_count": 154,
   "metadata": {},
   "outputs": [],
   "source": [
    "def writeWayPointFile(content, fileName):\n",
    "    # print(content)\n",
    "    file = open(fileName, \"a\")\n",
    "    file.write(\"<?xml version='1.0' encoding='utf-8' ?>\")\n",
    "    file.write(\"\\n\")\n",
    "    file.write('<gpx xmlns=\"http://www.topografix.com/GPX/1/1\" xmlns:b=\"http://www.bizstation.jp/waypoint_extension\" creator=\"Drogger GPS for Android 2.12.229\" version=\"1.1\">\"')\n",
    "\n",
    "    for x in content:\n",
    "        for point in x:\n",
    "            writeContent = '<wpt lat=\"' + str(point[1]) + '\" lon=\"' + str(point[0]) + '\">'\n",
    "            file.write(\"\\n\")\n",
    "            file.write(writeContent)\n",
    "            file.write(\"\\n\")\n",
    "            file.write(\"</wpt>\")\n",
    "            # <wpt lat=\"38.255167122\" lon=\"140.828141869\">\n",
    "            # </wpt>\n",
    "\n",
    "    file.write(\"\\n\")\n",
    "    file.write(\"</gpx>\")\n",
    "    file.close()\n"
   ]
  },
  {
   "cell_type": "code",
   "execution_count": null,
   "metadata": {},
   "outputs": [],
   "source": [
    "# writeWayPointFile(allCoorDict['202406171112'], '202406171112.gpx')\n",
    "testRasterPath = RGBFilePathList[-2]\n",
    "testCoor = allCoorDict['202406171112'][90]\n",
    "outPath = './test90.tif'\n",
    "clip_raster(testRasterPath,testCoor,outPath)"
   ]
  },
  {
   "cell_type": "code",
   "execution_count": null,
   "metadata": {},
   "outputs": [],
   "source": []
  }
 ],
 "metadata": {
  "kernelspec": {
   "display_name": "Python 3",
   "language": "python",
   "name": "python3"
  },
  "language_info": {
   "codemirror_mode": {
    "name": "ipython",
    "version": 3
   },
   "file_extension": ".py",
   "mimetype": "text/x-python",
   "name": "python",
   "nbconvert_exporter": "python",
   "pygments_lexer": "ipython3",
   "version": "3.12.9"
  }
 },
 "nbformat": 4,
 "nbformat_minor": 2
}
