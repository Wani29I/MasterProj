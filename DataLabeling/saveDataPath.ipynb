{
 "cells": [
  {
   "cell_type": "code",
   "execution_count": 1,
   "metadata": {},
   "outputs": [],
   "source": [
    "import os\n",
    "import cv2\n",
    "import random\n",
    "import rasterio\n",
    "import numpy as np\n",
    "from PIL import Image, ImageEnhance\n",
    "import geopandas as gpd\n",
    "from datetime import datetime"
   ]
  },
  {
   "cell_type": "code",
   "execution_count": 19,
   "metadata": {},
   "outputs": [],
   "source": [
    "def getAugmentedDataPath(dataPath):\n",
    "    '''  \n",
    "    get all augmented data path as list\n",
    "    '''\n",
    "    augmentedDataPathList = []\n",
    "    #loop into day folder\n",
    "    for mainFolder in os.listdir(dataPath):\n",
    "        mainFolderPath = dataPath + '/' + mainFolder\n",
    "        print(mainFolder)\n",
    "\n",
    "        #loop into label folder\n",
    "        for labelFolder in os.listdir(mainFolderPath):\n",
    "            labelFolderPath = mainFolderPath + '/' + labelFolder\n",
    "\n",
    "            # loop into every file\n",
    "            for dataFile in os.listdir(labelFolderPath):\n",
    "\n",
    "                # check augmented folder\n",
    "                if(dataFile == 'Augmented'):\n",
    "                    augmentedFolderPath = labelFolderPath + \"/\" + dataFile\n",
    "\n",
    "                    # loop into augmented folder\n",
    "                    for augmentedFile in os.listdir(augmentedFolderPath):\n",
    "                        augmentedFilePath = augmentedFolderPath + \"/\" + augmentedFile\n",
    "                        augmentedDataPathList.append(augmentedFilePath)\n",
    "                \n",
    "        # print(mainFolder)\n",
    "    return augmentedDataPathList\n",
    "\n",
    "def writeFile(pathList, fileName):\n",
    "    # print(content)\n",
    "    file = open(fileName, \"a\")\n",
    "\n",
    "    for path in pathList:\n",
    "        file.write(path)\n",
    "        file.write(\"\\n\")\n",
    "\n",
    "    file.close()\n",
    "\n",
    "def prepareFile(augmentedDataPathList):\n",
    "\n",
    "    subDataPathList = []\n",
    "    subDataPathNoAugmentedList = []\n",
    "    augmentedNameList = []\n",
    "\n",
    "    # loop into each datapath in augmentedData\n",
    "    for dataPath in augmentedDataPathList:\n",
    "\n",
    "        splittedPath = dataPath.split('/')\n",
    "        mainPath = '/'.join(splittedPath[:8])\n",
    "        subDataPath = '/' + '/'.join(splittedPath[8:])\n",
    "        subDataPathList.append(subDataPath)\n",
    "\n",
    "        # create path with no augmented name to decrease file size\n",
    "        splittedLastPath = splittedPath[-1].split('_')\n",
    "        augmentedName = splittedLastPath[-1]\n",
    "        lastPathNoAugmented = '_'.join(splittedLastPath[:-1]) + '_'\n",
    "        subDataPathNoAugmented = '/' + '/'.join(splittedPath[7:-1]) + '/' + lastPathNoAugmented\n",
    "        subDataPathNoAugmentedList.append(subDataPathNoAugmented)\n",
    "        augmentedNameList.append(augmentedName)\n",
    "        \n",
    "    augmentedNameList = list(set(augmentedNameList))\n",
    "    subDataPathNoAugmentedList = list(set(subDataPathNoAugmentedList))\n",
    "    augmentedNameList.sort()\n",
    "    subDataPathNoAugmentedList.sort()\n",
    "\n",
    "    return subDataPathNoAugmentedList, augmentedNameList"
   ]
  },
  {
   "cell_type": "code",
   "execution_count": null,
   "metadata": {},
   "outputs": [],
   "source": [
    "rgbPath = \"/Volumes/HD-PCFSU3-A/ice-wheat/data/dataForProcess/mainData/RGB\"\n",
    "augmentedDataPathList = getAugmentedDataPath(rgbPath)\n",
    "print(len(augmentedDataPathList))"
   ]
  },
  {
   "cell_type": "code",
   "execution_count": 20,
   "metadata": {},
   "outputs": [],
   "source": [
    "subDataPathNoAugmentedList, augmentedNameList = prepareFile(augmentedDataPathList)\n",
    "subDataPathNoAugmentedList\n",
    "writeFile(subDataPathNoAugmentedList, \"augmentedDataPath.txt\")\n"
   ]
  },
  {
   "cell_type": "code",
   "execution_count": null,
   "metadata": {},
   "outputs": [],
   "source": []
  }
 ],
 "metadata": {
  "kernelspec": {
   "display_name": "Python 3",
   "language": "python",
   "name": "python3"
  },
  "language_info": {
   "codemirror_mode": {
    "name": "ipython",
    "version": 3
   },
   "file_extension": ".py",
   "mimetype": "text/x-python",
   "name": "python",
   "nbconvert_exporter": "python",
   "pygments_lexer": "ipython3",
   "version": "3.13.2"
  }
 },
 "nbformat": 4,
 "nbformat_minor": 2
}
