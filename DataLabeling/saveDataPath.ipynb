{
 "cells": [
  {
   "cell_type": "code",
   "execution_count": 1,
   "metadata": {},
   "outputs": [],
   "source": [
    "import os\n",
    "import cv2\n",
    "import random\n",
    "import rasterio\n",
    "import numpy as np\n",
    "from PIL import Image, ImageEnhance\n",
    "import geopandas as gpd\n",
    "from datetime import datetime"
   ]
  },
  {
   "cell_type": "code",
   "execution_count": null,
   "metadata": {},
   "outputs": [],
   "source": [
    "def getAugmentedDataPath(dataPath):\n",
    "    '''  \n",
    "    get all augmented data path as list\n",
    "    '''\n",
    "    augmentedDataPathList = []\n",
    "    #loop into day folder\n",
    "    for mainFolder in os.listdir(dataPath):\n",
    "        mainFolderPath = dataPath + '/' + mainFolder\n",
    "        print(mainFolder)\n",
    "\n",
    "        #loop into label folder\n",
    "        for labelFolder in os.listdir(mainFolderPath):\n",
    "            labelFolderPath = mainFolderPath + '/' + labelFolder\n",
    "\n",
    "            # loop into every file\n",
    "            for dataFile in os.listdir(labelFolderPath):\n",
    "\n",
    "                # check augmented folder\n",
    "                if(dataFile == 'Augmented'):\n",
    "                    augmentedFolderPath = labelFolderPath + \"/\" + dataFile\n",
    "\n",
    "                    # loop into augmented folder\n",
    "                    for augmentedFile in os.listdir(augmentedFolderPath):\n",
    "                        augmentedFilePath = augmentedFolderPath + \"/\" + augmentedFile\n",
    "                        augmentedDataPathList.append(augmentedFilePath)\n",
    "                \n",
    "        # print(mainFolder)\n",
    "    return augmentedDataPathList\n",
    "\n",
    "def writeFile(pathList, fileName):\n",
    "    # print(content)\n",
    "    file = open(fileName, \"a\")\n",
    "\n",
    "    for path in pathList:\n",
    "        file.write(path)\n",
    "        file.write(\"\\n\")\n",
    "\n",
    "    file.close()\n",
    "\n",
    "def prepareFile(augmentedDataPathList):\n",
    "\n",
    "    subDataPathList = []\n",
    "    subDataPathNoAugmentedList = []\n",
    "    augmentedNameList = []\n",
    "\n",
    "    # loop into each datapath in augmentedData\n",
    "    for dataPath in augmentedDataPathList:\n",
    "\n",
    "        splittedPath = dataPath.split('/')\n",
    "        mainPath = '/'.join(splittedPath[:8])\n",
    "        subDataPath = '/' + '/'.join(splittedPath[8:])\n",
    "        subDataPathList.append(subDataPath)\n",
    "\n",
    "        # create path with no augmented name to decrease file size\n",
    "        splittedLastPath = splittedPath[-1].split('_')\n",
    "        augmentedName = splittedLastPath[-1]\n",
    "        lastPathNoAugmented = '_'.join(splittedLastPath[:-1]) + '_'\n",
    "        subDataPathNoAugmented = '/' + '/'.join(splittedPath[8:-1]) + '/' + lastPathNoAugmented\n",
    "        subDataPathNoAugmentedList.append(subDataPathNoAugmented)\n",
    "        augmentedNameList.append(augmentedName)\n",
    "        \n",
    "    augmentedNameList = list(set(augmentedNameList))\n",
    "    subDataPathNoAugmentedList = list(set(subDataPathNoAugmentedList))\n",
    "    augmentedNameList.sort()\n",
    "    subDataPathNoAugmentedList.sort(subDataPathNoAugmentedList, augmentedNameList)\n",
    "\n",
    "    return "
   ]
  },
  {
   "cell_type": "code",
   "execution_count": 5,
   "metadata": {},
   "outputs": [
    {
     "name": "stdout",
     "output_type": "stream",
     "text": [
      "RGB_202401181250\n",
      "RGB_202401221100\n",
      "RGB_202401291321\n",
      "RGB_202402071317\n",
      "RGB_202402081107\n",
      "RGB_202402131116\n",
      "RGB_202402191131\n",
      "RGB_202402261154\n",
      "RGB_202403041133\n",
      "RGB_202403111217\n",
      "RGB_202403191047\n",
      "RGB_202403251407\n",
      "RGB_202404011045\n",
      "RGB_202404101010\n",
      "RGB_202404151134\n",
      "RGB_202404171400\n",
      "RGB_202404221142\n",
      "RGB_202404251118\n",
      "RGB_202404301146\n",
      "RGB_202405071327\n",
      "RGB_202405131248\n",
      "RGB_202405171307\n",
      "RGB_202405221319\n",
      "RGB_202405271230\n",
      "RGB_202405311536\n",
      "RGB_202406041351\n",
      "RGB_202406071509\n",
      "RGB_202406111255\n",
      "RGB_202406141237\n",
      "RGB_202406171112\n",
      "RGB_202406241205\n",
      "380650\n"
     ]
    }
   ],
   "source": [
    "rgbPath = \"/Volumes/HD-PCFSU3-A/ice-wheat/data/dataForProcess/mainData/RGB\"\n",
    "augmentedDataPathList = getAugmentedDataPath(rgbPath)\n",
    "print(len(augmentedDataPathList))"
   ]
  },
  {
   "cell_type": "code",
   "execution_count": null,
   "metadata": {},
   "outputs": [],
   "source": [
    "subDataPathNoAugmentedList, augmentedNameList = prepareFile(augmentedDataPathList)\n",
    "writeFile(subDataPathNoAugmentedList, \"augmentedDataPath.txt\")\n"
   ]
  },
  {
   "cell_type": "code",
   "execution_count": null,
   "metadata": {},
   "outputs": [],
   "source": []
  }
 ],
 "metadata": {
  "kernelspec": {
   "display_name": "Python 3",
   "language": "python",
   "name": "python3"
  },
  "language_info": {
   "codemirror_mode": {
    "name": "ipython",
    "version": 3
   },
   "file_extension": ".py",
   "mimetype": "text/x-python",
   "name": "python",
   "nbconvert_exporter": "python",
   "pygments_lexer": "ipython3",
   "version": "3.10.10"
  }
 },
 "nbformat": 4,
 "nbformat_minor": 2
}
