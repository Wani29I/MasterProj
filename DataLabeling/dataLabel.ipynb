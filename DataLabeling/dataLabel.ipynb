{
 "cells": [
  {
   "cell_type": "code",
   "execution_count": 1,
   "metadata": {},
   "outputs": [],
   "source": [
    "import os\n",
    "import cv2\n",
    "import random\n",
    "import rasterio\n",
    "import numpy as np\n",
    "import pandas as pd\n",
    "import geopandas as gpd"
   ]
  },
  {
   "cell_type": "code",
   "execution_count": 4,
   "metadata": {},
   "outputs": [
    {
     "name": "stdout",
     "output_type": "stream",
     "text": [
      "           IMGDate  key           DATE  Height  SPAD     LAI  leafWidth  \\\n",
      "0     202404251118    0     30/04/2024    56.1  55.6  2.2955        1.1   \n",
      "1     202404251118    1     30/04/2024    55.1  55.7  2.4500        1.1   \n",
      "2     202404251118    2     30/04/2024    52.0  49.2  2.5625        1.4   \n",
      "3     202404251118    3     30/04/2024    51.0  47.5  2.6115        1.4   \n",
      "4     202404251118    4     30/04/2024    49.6  50.9  2.4325        1.4   \n",
      "...            ...  ...            ...     ...   ...     ...        ...   \n",
      "1605  202406241205  110  11,17/06/2134    91.8   0.0  3.6150        1.2   \n",
      "1606  202406241205  111  11,17/06/2135     NaN   NaN     NaN        NaN   \n",
      "1607  202406241205  112  11,17/06/2136     NaN   NaN     NaN        NaN   \n",
      "1608  202406241205  113  11,17/06/2137    94.5   0.0  4.1845        1.2   \n",
      "1609  202406241205  114  11,17/06/2138     NaN   NaN     NaN        NaN   \n",
      "\n",
      "      leafLength  centerEarWeight  centerEarNum  ...  avgEarSize  \\\n",
      "0           25.2           352.87         193.0  ...         8.2   \n",
      "1           21.0           302.84         178.0  ...         8.0   \n",
      "2           18.1           213.38         189.0  ...         8.8   \n",
      "3           20.1           121.44          83.0  ...         8.1   \n",
      "4           21.7           272.11         160.0  ...         8.5   \n",
      "...          ...              ...           ...  ...         ...   \n",
      "1605        21.1              NaN           NaN  ...         8.6   \n",
      "1606         NaN              NaN           NaN  ...         8.4   \n",
      "1607         NaN              NaN           NaN  ...         8.5   \n",
      "1608        23.2              NaN           NaN  ...         8.3   \n",
      "1609         NaN              NaN           NaN  ...         8.2   \n",
      "\n",
      "      20StrawWerightBeforeDry  20StrawWerightAfterDry  \\\n",
      "0                       14.65                    13.0   \n",
      "1                       17.75                    14.9   \n",
      "2                        9.47                     8.8   \n",
      "3                       14.62                    12.8   \n",
      "4                       17.83                    15.6   \n",
      "...                       ...                     ...   \n",
      "1605                    22.73                    20.6   \n",
      "1606                    21.67                    19.7   \n",
      "1607                    17.44                    15.8   \n",
      "1608                    25.78                    23.8   \n",
      "1609                    23.87                    21.3   \n",
      "\n",
      "      strawWeightDecreasePercent  totalSeedNum  seedNumLessThan2MM  \\\n",
      "0                          12.69          4008                  11   \n",
      "1                          19.13          7219                  22   \n",
      "2                           7.61          3053                  78   \n",
      "3                          14.22          3495                  40   \n",
      "4                          14.29          4367                  32   \n",
      "...                          ...           ...                 ...   \n",
      "1605                       10.34          4861                   5   \n",
      "1606                       10.00          8319                  16   \n",
      "1607                       10.38          5017                  12   \n",
      "1608                        8.32          5388                   6   \n",
      "1609                       12.07          6879                  11   \n",
      "\n",
      "      totalSeedWeightBeforeDry  seedLessThan2MMWeightBeforeDry  \\\n",
      "0                        160.9                             0.2   \n",
      "1                        283.0                             0.4   \n",
      "2                        116.9                             1.1   \n",
      "3                        130.5                             0.6   \n",
      "4                        166.7                             0.3   \n",
      "...                        ...                             ...   \n",
      "1605                     202.7                             0.1   \n",
      "1606                     339.8                             0.2   \n",
      "1607                     198.5                             0.2   \n",
      "1608                     239.3                             0.1   \n",
      "1609                     292.5                             0.2   \n",
      "\n",
      "      totalSeedWeightAfterDry  seedLessThan2MMWeightAfterDry  \n",
      "0                      143.57                           0.17  \n",
      "1                      251.11                           0.21  \n",
      "2                      104.59                           0.99  \n",
      "3                      117.22                           0.52  \n",
      "4                      149.09                           0.29  \n",
      "...                       ...                            ...  \n",
      "1605                   182.79                           0.09  \n",
      "1606                   305.52                           0.12  \n",
      "1607                   179.27                           0.17  \n",
      "1608                   216.21                           0.11  \n",
      "1609                   264.55                           0.15  \n",
      "\n",
      "[1610 rows x 22 columns]\n"
     ]
    }
   ],
   "source": [
    "df = pd.read_csv(\"2024allLabelData.csv\")\n",
    "print(df)"
   ]
  },
  {
   "cell_type": "code",
   "execution_count": null,
   "metadata": {},
   "outputs": [],
   "source": []
  }
 ],
 "metadata": {
  "kernelspec": {
   "display_name": "Python 3",
   "language": "python",
   "name": "python3"
  },
  "language_info": {
   "codemirror_mode": {
    "name": "ipython",
    "version": 3
   },
   "file_extension": ".py",
   "mimetype": "text/x-python",
   "name": "python",
   "nbconvert_exporter": "python",
   "pygments_lexer": "ipython3",
   "version": "3.10.10"
  }
 },
 "nbformat": 4,
 "nbformat_minor": 2
}
