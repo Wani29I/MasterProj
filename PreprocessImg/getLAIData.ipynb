{
 "cells": [
  {
   "cell_type": "code",
   "execution_count": 24,
   "id": "bc670fe3",
   "metadata": {},
   "outputs": [],
   "source": [
    "import os\n",
    "import csv"
   ]
  },
  {
   "cell_type": "code",
   "execution_count": 25,
   "id": "3db5e616",
   "metadata": {},
   "outputs": [],
   "source": [
    "LAIFolderPath = \"E:/2025RAWLAI\"\n",
    "LAIContentList = []\n",
    "\n",
    "for LAIFile in os.listdir(LAIFolderPath):\n",
    "    LAIFilePath = os.path.join(LAIFolderPath, LAIFile)\n",
    "    with open(LAIFilePath, 'r') as file:\n",
    "        contents = file.read()\n",
    "\n",
    "    LAIData = float(contents.split('\\n')[9].split('\\t')[-1])\n",
    "    fileName = contents.split('\\n')[0].split('\\t')[-1]\n",
    "    LAIContentList.append([fileName, LAIData])\n"
   ]
  },
  {
   "cell_type": "code",
   "execution_count": 27,
   "id": "4eb4a4d0",
   "metadata": {},
   "outputs": [],
   "source": [
    "output_csv = \"E:/2025RAWLAI.csv\"\n",
    "\n",
    "with open(output_csv, 'w', newline='', encoding='utf-8') as csvfile:\n",
    "    writer = csv.writer(csvfile)\n",
    "    writer.writerow([\"Filename\", \"LAI\"])  # header\n",
    "\n",
    "    for filename, LAIData in LAIContentList:\n",
    "        writer.writerow([filename, LAIData])"
   ]
  },
  {
   "cell_type": "code",
   "execution_count": null,
   "id": "61ef8f2b",
   "metadata": {},
   "outputs": [],
   "source": []
  }
 ],
 "metadata": {
  "kernelspec": {
   "display_name": "Python 3",
   "language": "python",
   "name": "python3"
  },
  "language_info": {
   "codemirror_mode": {
    "name": "ipython",
    "version": 3
   },
   "file_extension": ".py",
   "mimetype": "text/x-python",
   "name": "python",
   "nbconvert_exporter": "python",
   "pygments_lexer": "ipython3",
   "version": "3.13.2"
  }
 },
 "nbformat": 4,
 "nbformat_minor": 5
}
